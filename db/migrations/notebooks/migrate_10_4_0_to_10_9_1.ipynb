{
 "cells": [
  {
   "metadata": {},
   "cell_type": "markdown",
   "source": "# Migrate MongoDB database from `nmdc-schema` `v10.4.0` to `v10.9.1`",
   "id": "d05efc6327778f9c"
  },
  {
   "metadata": {},
   "cell_type": "markdown",
   "source": "There are no migrators associated with any schema changes between schema versions `v10.4.0` and `v10.9.1`. So, this notebook is a \"no op\" (i.e. \"no operation\").",
   "id": "b99d5924e825b9a2"
  },
  {
   "cell_type": "code",
   "id": "initial_id",
   "metadata": {
    "collapsed": true,
    "jupyter": {
     "is_executing": true
    }
   },
   "source": "# no op",
   "outputs": [],
   "execution_count": null
  }
 ],
 "metadata": {
  "kernelspec": {
   "display_name": "Python 3",
   "language": "python",
   "name": "python3"
  },
  "language_info": {
   "codemirror_mode": {
    "name": "ipython",
    "version": 2
   },
   "file_extension": ".py",
   "mimetype": "text/x-python",
   "name": "python",
   "nbconvert_exporter": "python",
   "pygments_lexer": "ipython2",
   "version": "2.7.6"
  }
 },
 "nbformat": 4,
 "nbformat_minor": 5
}
