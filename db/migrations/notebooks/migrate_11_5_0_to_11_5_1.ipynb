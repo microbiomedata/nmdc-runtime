{
 "cells": [
  {
   "cell_type": "markdown",
   "id": "d05efc6327778f9c",
   "metadata": {},
   "source": [
    "# Migrate MongoDB database from `nmdc-schema` `v11.5.0` to `v11.5.1`"
   ]
  },
  {
   "cell_type": "markdown",
   "id": "b99d5924e825b9a2",
   "metadata": {},
   "source": [
    "There are no migrators associated with any schema changes between schema versions `v11.5.0` and `v11.5.1`. So, this notebook is a \"no op\" (i.e. \"no operation\")."
   ]
  },
  {
   "cell_type": "code",
   "execution_count": null,
   "id": "initial_id",
   "metadata": {
    "collapsed": true,
    "jupyter": {
     "is_executing": true
    }
   },
   "outputs": [],
   "source": [
    "# no op"
   ]
  }
 ],
 "metadata": {
  "kernelspec": {
   "display_name": "Python 3",
   "language": "python",
   "name": "python3"
  },
  "language_info": {
   "codemirror_mode": {
    "name": "ipython",
    "version": 2
   },
   "file_extension": ".py",
   "mimetype": "text/x-python",
   "name": "python",
   "nbconvert_exporter": "python",
   "pygments_lexer": "ipython2",
   "version": "2.7.6"
  }
 },
 "nbformat": 4,
 "nbformat_minor": 5
}
