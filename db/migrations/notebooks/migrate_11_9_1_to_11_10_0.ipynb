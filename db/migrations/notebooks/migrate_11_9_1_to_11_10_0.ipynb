{
 "cells": [
  {
   "cell_type": "markdown",
   "id": "86266489462d10d5",
   "metadata": {},
   "source": "# Migrate MongoDB database from `nmdc-schema` `v11.9.1` to `v11.10.0`"
  },
  {
   "cell_type": "markdown",
   "id": "81809c54b43ee383",
   "metadata": {},
   "source": [
    "## Introduction\n",
    "\n",
    "This notebook will be used to migrate the database from `nmdc-schema` `v11.9.1` ([released](https://github.com/microbiomedata/nmdc-schema/releases/tag/v11.9.1) July 16, 2025) to `v11.10.0` (released TBD).\n",
    "\n",
    "### Notice\n",
    "\n",
    "In each migration notebook between schema `v10.9.1` and `v11.3.0`, we dumped **all collections** from the Mongo database. We started doing that once migrations involved _collection_-level operations (i.e., creating, renaming, and deleting them), as opposed to only _document_-level operations.\n",
    "\n",
    "In _this_ migration notebook, we dump only **specific collection** from the Mongo database. We opted to do this after understanding the scope of the `Migrator` class imported by this notebook. This eliminates some overhead from the migration process (i.e. dumping and restoring unrelated collections)."
   ]
  },
  {
   "cell_type": "code",
   "id": "7488090d",
   "metadata": {
    "ExecuteTime": {
     "end_time": "2025-08-08T21:08:57.837847Z",
     "start_time": "2025-08-08T21:08:57.832741Z"
    }
   },
   "source": [
    "# Warning! The UCUM units migrator will dynamically traverse the schema looking for slots that have range QuantityValue.\n",
    "# Confirm that the output of the following function is included in COLLECTION_NAMES:\n",
    "#\n",
    "# >>> from nmdc_schema.migrators.partials.migrator_from_11_9_1_to_11_10_0.migrator_from_11_9_1_to_11_10_0_part_1 import get_collection_names_with_qv_slots_from_schema\n",
    "# >>> get_collection_names_with_qv_slots_from_schema()\n",
    "\n",
    "COLLECTION_NAMES = list({\n",
    "    'biosample_set',\n",
    "    'material_processing_set',\n",
    "    'configuration_set',\n",
    "    'processed_sample_set',\n",
    "    'storage_process_set'\n",
    "})"
   ],
   "outputs": [],
   "execution_count": 1
  },
  {
   "cell_type": "markdown",
   "id": "dffc8fac414e6b8a",
   "metadata": {},
   "source": [
    "## Prerequisites"
   ]
  },
  {
   "cell_type": "markdown",
   "id": "f033049a3dd6d9d",
   "metadata": {},
   "source": [
    "### 1. Coordinate with stakeholders.\n",
    "\n",
    "We will be enacting full Runtime and Database downtime for this migration. Ensure stakeholders are aware of that."
   ]
  },
  {
   "metadata": {},
   "cell_type": "markdown",
   "source": "",
   "id": "4fedebacf9793fc9"
  },
  {
   "cell_type": "markdown",
   "id": "8be6e542187f9a62",
   "metadata": {},
   "source": [
    "### 2. Set up notebook environment.\n",
    "\n",
    "Here, you'll prepare an environment for running this notebook.\n",
    "\n",
    "1. Start a **MongoDB server** on your local machine (and ensure it does **not** already contain a database having the name specified in the notebook configuration file).\n",
    "    1. You can start a [Docker](https://hub.docker.com/_/mongo)-based MongoDB server at `localhost:27055` by running the following command. A MongoDB server started this way will be accessible without a username or password.\n"
   ]
  },
  {
   "cell_type": "code",
   "id": "14b2b2c65f62c309",
   "metadata": {
    "ExecuteTime": {
     "end_time": "2025-08-08T21:16:05.540437Z",
     "start_time": "2025-08-08T21:16:05.230808Z"
    }
   },
   "source": [
    "%%bash\n",
    "# The 11.10.0 migrator uses transactions, so start the MongoDB server with a replica set.\n",
    "docker run \\\n",
    "    --rm \\\n",
    "    --detach \\\n",
    "    --name mongo-migration-transformer \\\n",
    "    -p 27055:27017 \\\n",
    "    -v ./.docker/01-init.js:/docker-entrypoint-initdb.d/01-init.js \\\n",
    "    mongo:8.0.4 \\\n",
    "    --replSet rs0"
   ],
   "outputs": [
    {
     "name": "stdout",
     "output_type": "stream",
     "text": [
      "2187509d84b77d25ef46dd14d66b1aa59da75c3644d0e9bc9920eb5aacaac564\n"
     ]
    }
   ],
   "execution_count": 23
  },
  {
   "cell_type": "markdown",
   "id": "d516ac8a1c15c660",
   "metadata": {},
   "source": [
    "2. Create and populate a **notebook configuration file** named `.notebook.env`.\n",
    "   > You can use `.notebook.env.example` as a template."
   ]
  },
  {
   "cell_type": "markdown",
   "id": "48d25f7b40726502",
   "metadata": {},
   "source": [
    "## Procedure"
   ]
  },
  {
   "cell_type": "markdown",
   "id": "e025d76e8fcdc5bf",
   "metadata": {},
   "source": [
    "### Install Python packages\n",
    "\n",
    "In this step, you'll [install](https://saturncloud.io/blog/what-is-the-difference-between-and-in-jupyter-notebooks/) the Python packages upon which this notebook depends.\n",
    "\n",
    "> Note: If the output of this cell says \"Note: you may need to restart the kernel to use updated packages\", restart the kernel (not the notebook cells), then proceed to the next cell.\n",
    "\n",
    "##### References\n",
    "\n",
    "| Description                                                                     | Link                                                   |\n",
    "|---------------------------------------------------------------------------------|--------------------------------------------------------|\n",
    "| NMDC Schema PyPI package | https://pypi.org/project/nmdc-schema                   |\n",
    "| How to `pip install` from a Git branch<br>instead of PyPI                       | https://stackoverflow.com/a/20101940                   |"
   ]
  },
  {
   "cell_type": "code",
   "id": "efcd532dd6184f23",
   "metadata": {
    "ExecuteTime": {
     "end_time": "2025-08-08T21:08:41.906052Z",
     "start_time": "2025-08-08T21:08:36.935427Z"
    }
   },
   "source": [
    "%pip install --upgrade pip\n",
    "%pip install -r requirements.txt\n",
    "%pip install nmdc-schema==11.10.0rc2"
   ],
   "outputs": [
    {
     "name": "stdout",
     "output_type": "stream",
     "text": [
      "Requirement already satisfied: pip in /Users/PAKalita/Work/nmdc-runtime/.venv/lib/python3.10/site-packages (25.2)\r\n",
      "Note: you may need to restart the kernel to use updated packages.\n",
      "Requirement already satisfied: dictdiffer==0.9.0 in /Users/PAKalita/Work/nmdc-runtime/.venv/lib/python3.10/site-packages (from -r requirements.txt (line 1)) (0.9.0)\r\n",
      "Collecting linkml==1.8.5 (from -r requirements.txt (line 2))\r\n",
      "  Using cached linkml-1.8.5-py3-none-any.whl.metadata (3.9 kB)\r\n",
      "Requirement already satisfied: pymongo==4.7.2 in /Users/PAKalita/Work/nmdc-runtime/.venv/lib/python3.10/site-packages (from -r requirements.txt (line 3)) (4.7.2)\r\n",
      "Requirement already satisfied: python-dotenv==1.0.0 in /Users/PAKalita/Work/nmdc-runtime/.venv/lib/python3.10/site-packages (from -r requirements.txt (line 4)) (1.0.0)\r\n",
      "Requirement already satisfied: PyYAML==6.0.1 in /Users/PAKalita/Work/nmdc-runtime/.venv/lib/python3.10/site-packages (from -r requirements.txt (line 5)) (6.0.1)\r\n",
      "Collecting linkml-runtime==1.8.2 (from -r requirements.txt (line 6))\r\n",
      "  Using cached linkml_runtime-1.8.2-py3-none-any.whl.metadata (3.6 kB)\r\n",
      "Requirement already satisfied: antlr4-python3-runtime<4.10,>=4.9.0 in /Users/PAKalita/Work/nmdc-runtime/.venv/lib/python3.10/site-packages (from linkml==1.8.5->-r requirements.txt (line 2)) (4.9.3)\r\n",
      "Requirement already satisfied: click>=7.0 in /Users/PAKalita/Work/nmdc-runtime/.venv/lib/python3.10/site-packages (from linkml==1.8.5->-r requirements.txt (line 2)) (8.2.0)\r\n",
      "Requirement already satisfied: graphviz>=0.10.1 in /Users/PAKalita/Work/nmdc-runtime/.venv/lib/python3.10/site-packages (from linkml==1.8.5->-r requirements.txt (line 2)) (0.20.3)\r\n",
      "Requirement already satisfied: hbreader in /Users/PAKalita/Work/nmdc-runtime/.venv/lib/python3.10/site-packages (from linkml==1.8.5->-r requirements.txt (line 2)) (0.9.1)\r\n",
      "Requirement already satisfied: isodate>=0.6.0 in /Users/PAKalita/Work/nmdc-runtime/.venv/lib/python3.10/site-packages (from linkml==1.8.5->-r requirements.txt (line 2)) (0.7.2)\r\n",
      "Requirement already satisfied: jinja2>=3.1.0 in /Users/PAKalita/Work/nmdc-runtime/.venv/lib/python3.10/site-packages (from linkml==1.8.5->-r requirements.txt (line 2)) (3.1.6)\r\n",
      "Requirement already satisfied: jsonasobj2<2.0.0,>=1.0.3 in /Users/PAKalita/Work/nmdc-runtime/.venv/lib/python3.10/site-packages (from linkml==1.8.5->-r requirements.txt (line 2)) (1.0.4)\r\n",
      "Requirement already satisfied: jsonschema>=4.0.0 in /Users/PAKalita/Work/nmdc-runtime/.venv/lib/python3.10/site-packages (from jsonschema[format]>=4.0.0->linkml==1.8.5->-r requirements.txt (line 2)) (4.23.0)\r\n",
      "Requirement already satisfied: linkml-dataops in /Users/PAKalita/Work/nmdc-runtime/.venv/lib/python3.10/site-packages (from linkml==1.8.5->-r requirements.txt (line 2)) (0.1.0)\r\n",
      "Requirement already satisfied: openpyxl in /Users/PAKalita/Work/nmdc-runtime/.venv/lib/python3.10/site-packages (from linkml==1.8.5->-r requirements.txt (line 2)) (3.1.5)\r\n",
      "Requirement already satisfied: parse in /Users/PAKalita/Work/nmdc-runtime/.venv/lib/python3.10/site-packages (from linkml==1.8.5->-r requirements.txt (line 2)) (1.20.2)\r\n",
      "Requirement already satisfied: prefixcommons>=0.1.7 in /Users/PAKalita/Work/nmdc-runtime/.venv/lib/python3.10/site-packages (from linkml==1.8.5->-r requirements.txt (line 2)) (0.1.12)\r\n",
      "Requirement already satisfied: prefixmaps>=0.2.2 in /Users/PAKalita/Work/nmdc-runtime/.venv/lib/python3.10/site-packages (from linkml==1.8.5->-r requirements.txt (line 2)) (0.2.6)\r\n",
      "Requirement already satisfied: pydantic<3.0.0,>=1.0.0 in /Users/PAKalita/Work/nmdc-runtime/.venv/lib/python3.10/site-packages (from linkml==1.8.5->-r requirements.txt (line 2)) (2.11.4)\r\n",
      "Requirement already satisfied: pyjsg>=0.11.6 in /Users/PAKalita/Work/nmdc-runtime/.venv/lib/python3.10/site-packages (from linkml==1.8.5->-r requirements.txt (line 2)) (0.11.10)\r\n",
      "Requirement already satisfied: pyshex>=0.7.20 in /Users/PAKalita/Work/nmdc-runtime/.venv/lib/python3.10/site-packages (from linkml==1.8.5->-r requirements.txt (line 2)) (0.8.1)\r\n",
      "Requirement already satisfied: pyshexc>=0.8.3 in /Users/PAKalita/Work/nmdc-runtime/.venv/lib/python3.10/site-packages (from linkml==1.8.5->-r requirements.txt (line 2)) (0.9.1)\r\n",
      "Requirement already satisfied: python-dateutil in /Users/PAKalita/Work/nmdc-runtime/.venv/lib/python3.10/site-packages (from linkml==1.8.5->-r requirements.txt (line 2)) (2.9.0.post0)\r\n",
      "Requirement already satisfied: rdflib>=6.0.0 in /Users/PAKalita/Work/nmdc-runtime/.venv/lib/python3.10/site-packages (from linkml==1.8.5->-r requirements.txt (line 2)) (6.2.0)\r\n",
      "Requirement already satisfied: requests>=2.22 in /Users/PAKalita/Work/nmdc-runtime/.venv/lib/python3.10/site-packages (from linkml==1.8.5->-r requirements.txt (line 2)) (2.32.3)\r\n",
      "Requirement already satisfied: sqlalchemy>=1.4.31 in /Users/PAKalita/Work/nmdc-runtime/.venv/lib/python3.10/site-packages (from linkml==1.8.5->-r requirements.txt (line 2)) (2.0.40)\r\n",
      "Requirement already satisfied: watchdog>=0.9.0 in /Users/PAKalita/Work/nmdc-runtime/.venv/lib/python3.10/site-packages (from linkml==1.8.5->-r requirements.txt (line 2)) (5.0.3)\r\n",
      "Requirement already satisfied: curies>=0.5.4 in /Users/PAKalita/Work/nmdc-runtime/.venv/lib/python3.10/site-packages (from linkml-runtime==1.8.2->-r requirements.txt (line 6)) (0.9.2)\r\n",
      "Requirement already satisfied: deprecated in /Users/PAKalita/Work/nmdc-runtime/.venv/lib/python3.10/site-packages (from linkml-runtime==1.8.2->-r requirements.txt (line 6)) (1.2.18)\r\n",
      "Requirement already satisfied: json-flattener>=0.1.9 in /Users/PAKalita/Work/nmdc-runtime/.venv/lib/python3.10/site-packages (from linkml-runtime==1.8.2->-r requirements.txt (line 6)) (0.1.9)\r\n",
      "Requirement already satisfied: dnspython<3.0.0,>=1.16.0 in /Users/PAKalita/Work/nmdc-runtime/.venv/lib/python3.10/site-packages (from pymongo==4.7.2->-r requirements.txt (line 3)) (2.7.0)\r\n",
      "Requirement already satisfied: annotated-types>=0.6.0 in /Users/PAKalita/Work/nmdc-runtime/.venv/lib/python3.10/site-packages (from pydantic<3.0.0,>=1.0.0->linkml==1.8.5->-r requirements.txt (line 2)) (0.7.0)\r\n",
      "Requirement already satisfied: pydantic-core==2.33.2 in /Users/PAKalita/Work/nmdc-runtime/.venv/lib/python3.10/site-packages (from pydantic<3.0.0,>=1.0.0->linkml==1.8.5->-r requirements.txt (line 2)) (2.33.2)\r\n",
      "Requirement already satisfied: typing-extensions>=4.12.2 in /Users/PAKalita/Work/nmdc-runtime/.venv/lib/python3.10/site-packages (from pydantic<3.0.0,>=1.0.0->linkml==1.8.5->-r requirements.txt (line 2)) (4.13.2)\r\n",
      "Requirement already satisfied: typing-inspection>=0.4.0 in /Users/PAKalita/Work/nmdc-runtime/.venv/lib/python3.10/site-packages (from pydantic<3.0.0,>=1.0.0->linkml==1.8.5->-r requirements.txt (line 2)) (0.4.0)\r\n",
      "Requirement already satisfied: pytrie in /Users/PAKalita/Work/nmdc-runtime/.venv/lib/python3.10/site-packages (from curies>=0.5.4->linkml-runtime==1.8.2->-r requirements.txt (line 6)) (0.4.0)\r\n",
      "Requirement already satisfied: MarkupSafe>=2.0 in /Users/PAKalita/Work/nmdc-runtime/.venv/lib/python3.10/site-packages (from jinja2>=3.1.0->linkml==1.8.5->-r requirements.txt (line 2)) (3.0.2)\r\n",
      "Requirement already satisfied: attrs>=22.2.0 in /Users/PAKalita/Work/nmdc-runtime/.venv/lib/python3.10/site-packages (from jsonschema>=4.0.0->jsonschema[format]>=4.0.0->linkml==1.8.5->-r requirements.txt (line 2)) (25.3.0)\r\n",
      "Requirement already satisfied: jsonschema-specifications>=2023.03.6 in /Users/PAKalita/Work/nmdc-runtime/.venv/lib/python3.10/site-packages (from jsonschema>=4.0.0->jsonschema[format]>=4.0.0->linkml==1.8.5->-r requirements.txt (line 2)) (2025.4.1)\r\n",
      "Requirement already satisfied: referencing>=0.28.4 in /Users/PAKalita/Work/nmdc-runtime/.venv/lib/python3.10/site-packages (from jsonschema>=4.0.0->jsonschema[format]>=4.0.0->linkml==1.8.5->-r requirements.txt (line 2)) (0.36.2)\r\n",
      "Requirement already satisfied: rpds-py>=0.7.1 in /Users/PAKalita/Work/nmdc-runtime/.venv/lib/python3.10/site-packages (from jsonschema>=4.0.0->jsonschema[format]>=4.0.0->linkml==1.8.5->-r requirements.txt (line 2)) (0.24.0)\r\n",
      "Requirement already satisfied: fqdn in /Users/PAKalita/Work/nmdc-runtime/.venv/lib/python3.10/site-packages (from jsonschema[format]>=4.0.0->linkml==1.8.5->-r requirements.txt (line 2)) (1.5.1)\r\n",
      "Requirement already satisfied: idna in /Users/PAKalita/Work/nmdc-runtime/.venv/lib/python3.10/site-packages (from jsonschema[format]>=4.0.0->linkml==1.8.5->-r requirements.txt (line 2)) (3.10)\r\n",
      "Requirement already satisfied: isoduration in /Users/PAKalita/Work/nmdc-runtime/.venv/lib/python3.10/site-packages (from jsonschema[format]>=4.0.0->linkml==1.8.5->-r requirements.txt (line 2)) (20.11.0)\r\n",
      "Requirement already satisfied: jsonpointer>1.13 in /Users/PAKalita/Work/nmdc-runtime/.venv/lib/python3.10/site-packages (from jsonschema[format]>=4.0.0->linkml==1.8.5->-r requirements.txt (line 2)) (3.0.0)\r\n",
      "Requirement already satisfied: rfc3339-validator in /Users/PAKalita/Work/nmdc-runtime/.venv/lib/python3.10/site-packages (from jsonschema[format]>=4.0.0->linkml==1.8.5->-r requirements.txt (line 2)) (0.1.4)\r\n",
      "Requirement already satisfied: rfc3987 in /Users/PAKalita/Work/nmdc-runtime/.venv/lib/python3.10/site-packages (from jsonschema[format]>=4.0.0->linkml==1.8.5->-r requirements.txt (line 2)) (1.3.8)\r\n",
      "Requirement already satisfied: uri-template in /Users/PAKalita/Work/nmdc-runtime/.venv/lib/python3.10/site-packages (from jsonschema[format]>=4.0.0->linkml==1.8.5->-r requirements.txt (line 2)) (1.3.0)\r\n",
      "Requirement already satisfied: webcolors>=1.11 in /Users/PAKalita/Work/nmdc-runtime/.venv/lib/python3.10/site-packages (from jsonschema[format]>=4.0.0->linkml==1.8.5->-r requirements.txt (line 2)) (24.11.1)\r\n",
      "Requirement already satisfied: pytest-logging<2016.0.0,>=2015.11.4 in /Users/PAKalita/Work/nmdc-runtime/.venv/lib/python3.10/site-packages (from prefixcommons>=0.1.7->linkml==1.8.5->-r requirements.txt (line 2)) (2015.11.4)\r\n",
      "Requirement already satisfied: pytest>=2.8.1 in /Users/PAKalita/Work/nmdc-runtime/.venv/lib/python3.10/site-packages (from pytest-logging<2016.0.0,>=2015.11.4->prefixcommons>=0.1.7->linkml==1.8.5->-r requirements.txt (line 2)) (8.3.5)\r\n",
      "Requirement already satisfied: charset-normalizer<4,>=2 in /Users/PAKalita/Work/nmdc-runtime/.venv/lib/python3.10/site-packages (from requests>=2.22->linkml==1.8.5->-r requirements.txt (line 2)) (3.4.2)\r\n",
      "Requirement already satisfied: urllib3<3,>=1.21.1 in /Users/PAKalita/Work/nmdc-runtime/.venv/lib/python3.10/site-packages (from requests>=2.22->linkml==1.8.5->-r requirements.txt (line 2)) (2.4.0)\r\n",
      "Requirement already satisfied: certifi>=2017.4.17 in /Users/PAKalita/Work/nmdc-runtime/.venv/lib/python3.10/site-packages (from requests>=2.22->linkml==1.8.5->-r requirements.txt (line 2)) (2025.4.26)\r\n",
      "Requirement already satisfied: jsonasobj>=1.2.1 in /Users/PAKalita/Work/nmdc-runtime/.venv/lib/python3.10/site-packages (from pyjsg>=0.11.6->linkml==1.8.5->-r requirements.txt (line 2)) (1.3.1)\r\n",
      "Requirement already satisfied: cfgraph>=0.2.1 in /Users/PAKalita/Work/nmdc-runtime/.venv/lib/python3.10/site-packages (from pyshex>=0.7.20->linkml==1.8.5->-r requirements.txt (line 2)) (0.2.1)\r\n",
      "Requirement already satisfied: chardet in /Users/PAKalita/Work/nmdc-runtime/.venv/lib/python3.10/site-packages (from pyshex>=0.7.20->linkml==1.8.5->-r requirements.txt (line 2)) (5.2.0)\r\n",
      "Requirement already satisfied: rdflib-shim in /Users/PAKalita/Work/nmdc-runtime/.venv/lib/python3.10/site-packages (from pyshex>=0.7.20->linkml==1.8.5->-r requirements.txt (line 2)) (1.0.3)\r\n",
      "Requirement already satisfied: shexjsg>=0.8.2 in /Users/PAKalita/Work/nmdc-runtime/.venv/lib/python3.10/site-packages (from pyshex>=0.7.20->linkml==1.8.5->-r requirements.txt (line 2)) (0.8.2)\r\n",
      "Requirement already satisfied: sparqlslurper>=0.5.1 in /Users/PAKalita/Work/nmdc-runtime/.venv/lib/python3.10/site-packages (from pyshex>=0.7.20->linkml==1.8.5->-r requirements.txt (line 2)) (0.5.1)\r\n",
      "Requirement already satisfied: sparqlwrapper>=1.8.5 in /Users/PAKalita/Work/nmdc-runtime/.venv/lib/python3.10/site-packages (from pyshex>=0.7.20->linkml==1.8.5->-r requirements.txt (line 2)) (2.0.0)\r\n",
      "Requirement already satisfied: exceptiongroup>=1.0.0rc8 in /Users/PAKalita/Work/nmdc-runtime/.venv/lib/python3.10/site-packages (from pytest>=2.8.1->pytest-logging<2016.0.0,>=2015.11.4->prefixcommons>=0.1.7->linkml==1.8.5->-r requirements.txt (line 2)) (1.3.0)\r\n",
      "Requirement already satisfied: iniconfig in /Users/PAKalita/Work/nmdc-runtime/.venv/lib/python3.10/site-packages (from pytest>=2.8.1->pytest-logging<2016.0.0,>=2015.11.4->prefixcommons>=0.1.7->linkml==1.8.5->-r requirements.txt (line 2)) (2.1.0)\r\n",
      "Requirement already satisfied: packaging in /Users/PAKalita/Work/nmdc-runtime/.venv/lib/python3.10/site-packages (from pytest>=2.8.1->pytest-logging<2016.0.0,>=2015.11.4->prefixcommons>=0.1.7->linkml==1.8.5->-r requirements.txt (line 2)) (25.0)\r\n",
      "Requirement already satisfied: pluggy<2,>=1.5 in /Users/PAKalita/Work/nmdc-runtime/.venv/lib/python3.10/site-packages (from pytest>=2.8.1->pytest-logging<2016.0.0,>=2015.11.4->prefixcommons>=0.1.7->linkml==1.8.5->-r requirements.txt (line 2)) (1.5.0)\r\n",
      "Requirement already satisfied: tomli>=1 in /Users/PAKalita/Work/nmdc-runtime/.venv/lib/python3.10/site-packages (from pytest>=2.8.1->pytest-logging<2016.0.0,>=2015.11.4->prefixcommons>=0.1.7->linkml==1.8.5->-r requirements.txt (line 2)) (2.2.1)\r\n",
      "Requirement already satisfied: pyparsing in /Users/PAKalita/Work/nmdc-runtime/.venv/lib/python3.10/site-packages (from rdflib>=6.0.0->linkml==1.8.5->-r requirements.txt (line 2)) (3.2.3)\r\n",
      "Requirement already satisfied: setuptools in /Users/PAKalita/Work/nmdc-runtime/.venv/lib/python3.10/site-packages (from rdflib>=6.0.0->linkml==1.8.5->-r requirements.txt (line 2)) (80.4.0)\r\n",
      "Requirement already satisfied: wrapt<2,>=1.10 in /Users/PAKalita/Work/nmdc-runtime/.venv/lib/python3.10/site-packages (from deprecated->linkml-runtime==1.8.2->-r requirements.txt (line 6)) (1.17.2)\r\n",
      "Requirement already satisfied: arrow>=0.15.0 in /Users/PAKalita/Work/nmdc-runtime/.venv/lib/python3.10/site-packages (from isoduration->jsonschema[format]>=4.0.0->linkml==1.8.5->-r requirements.txt (line 2)) (1.3.0)\r\n",
      "Requirement already satisfied: types-python-dateutil>=2.8.10 in /Users/PAKalita/Work/nmdc-runtime/.venv/lib/python3.10/site-packages (from arrow>=0.15.0->isoduration->jsonschema[format]>=4.0.0->linkml==1.8.5->-r requirements.txt (line 2)) (2.9.0.20241206)\r\n",
      "Requirement already satisfied: six>=1.5 in /Users/PAKalita/Work/nmdc-runtime/.venv/lib/python3.10/site-packages (from python-dateutil->linkml==1.8.5->-r requirements.txt (line 2)) (1.17.0)\r\n",
      "Requirement already satisfied: jsonpatch in /Users/PAKalita/Work/nmdc-runtime/.venv/lib/python3.10/site-packages (from linkml-dataops->linkml==1.8.5->-r requirements.txt (line 2)) (1.33)\r\n",
      "Requirement already satisfied: jsonpath-ng in /Users/PAKalita/Work/nmdc-runtime/.venv/lib/python3.10/site-packages (from linkml-dataops->linkml==1.8.5->-r requirements.txt (line 2)) (1.7.0)\r\n",
      "Requirement already satisfied: ruamel.yaml in /Users/PAKalita/Work/nmdc-runtime/.venv/lib/python3.10/site-packages (from linkml-dataops->linkml==1.8.5->-r requirements.txt (line 2)) (0.18.10)\r\n",
      "Requirement already satisfied: ply in /Users/PAKalita/Work/nmdc-runtime/.venv/lib/python3.10/site-packages (from jsonpath-ng->linkml-dataops->linkml==1.8.5->-r requirements.txt (line 2)) (3.11)\r\n",
      "Requirement already satisfied: et-xmlfile in /Users/PAKalita/Work/nmdc-runtime/.venv/lib/python3.10/site-packages (from openpyxl->linkml==1.8.5->-r requirements.txt (line 2)) (2.0.0)\r\n",
      "Requirement already satisfied: sortedcontainers in /Users/PAKalita/Work/nmdc-runtime/.venv/lib/python3.10/site-packages (from pytrie->curies>=0.5.4->linkml-runtime==1.8.2->-r requirements.txt (line 6)) (2.4.0)\r\n",
      "Requirement already satisfied: rdflib-jsonld==0.6.1 in /Users/PAKalita/Work/nmdc-runtime/.venv/lib/python3.10/site-packages (from rdflib-shim->pyshex>=0.7.20->linkml==1.8.5->-r requirements.txt (line 2)) (0.6.1)\r\n",
      "Requirement already satisfied: ruamel.yaml.clib>=0.2.7 in /Users/PAKalita/Work/nmdc-runtime/.venv/lib/python3.10/site-packages (from ruamel.yaml->linkml-dataops->linkml==1.8.5->-r requirements.txt (line 2)) (0.2.12)\r\n",
      "Using cached linkml-1.8.5-py3-none-any.whl (313 kB)\r\n",
      "Using cached linkml_runtime-1.8.2-py3-none-any.whl (577 kB)\r\n",
      "Installing collected packages: linkml-runtime, linkml\r\n",
      "\u001B[2K  Attempting uninstall: linkml-runtime\r\n",
      "\u001B[2K    Found existing installation: linkml-runtime 1.9.4\r\n",
      "\u001B[2K    Uninstalling linkml-runtime-1.9.4:\r\n",
      "\u001B[2K      Successfully uninstalled linkml-runtime-1.9.4\r\n",
      "\u001B[2K  Attempting uninstall: linkml━━━━━━━━━━━━━━━━━━\u001B[0m \u001B[32m0/2\u001B[0m [linkml-runtime]\r\n",
      "\u001B[2K    Found existing installation: linkml 1.9.3[0m \u001B[32m0/2\u001B[0m [linkml-runtime]\r\n",
      "\u001B[2K    Uninstalling linkml-1.9.3:━━━━━━━━━━━━━━\u001B[0m \u001B[32m0/2\u001B[0m [linkml-runtime]\r\n",
      "\u001B[2K      Successfully uninstalled linkml-1.9.3━\u001B[0m \u001B[32m0/2\u001B[0m [linkml-runtime]\r\n",
      "\u001B[2K   \u001B[90m━━━━━━━━━━━━━━━━━━━━━━━━━━━━━━━━━━━━━━━━\u001B[0m \u001B[32m2/2\u001B[0m [linkml]2m1/2\u001B[0m [linkml]\r\n",
      "\u001B[1A\u001B[2K\u001B[31mERROR: pip's dependency resolver does not currently take into account all the packages that are installed. This behaviour is the source of the following dependency conflicts.\r\n",
      "linkml-store 0.2.10 requires python-dotenv<2.0.0,>=1.0.1, but you have python-dotenv 1.0.0 which is incompatible.\r\n",
      "nmdc-schema 11.10.0rc1 requires linkml<2.0.0,>=1.9.1, but you have linkml 1.8.5 which is incompatible.\r\n",
      "nmdc-schema 11.10.0rc1 requires linkml-runtime<2.0.0,>=1.9.1, but you have linkml-runtime 1.8.2 which is incompatible.\r\n",
      "ontology-loader 0.2.2 requires pymongo<5.0.0,>=4.9.1, but you have pymongo 4.7.2 which is incompatible.\u001B[0m\u001B[31m\r\n",
      "\u001B[0mSuccessfully installed linkml-1.8.5 linkml-runtime-1.8.2\r\n",
      "Note: you may need to restart the kernel to use updated packages.\n",
      "Collecting nmdc-schema==11.10.0rc2\r\n",
      "  Downloading nmdc_schema-11.10.0rc2-py3-none-any.whl.metadata (5.8 kB)\r\n",
      "Requirement already satisfied: click<9,>=8 in /Users/PAKalita/Work/nmdc-runtime/.venv/lib/python3.10/site-packages (from nmdc-schema==11.10.0rc2) (8.2.0)\r\n",
      "Requirement already satisfied: click-log<0.5.0,>=0.4.0 in /Users/PAKalita/Work/nmdc-runtime/.venv/lib/python3.10/site-packages (from nmdc-schema==11.10.0rc2) (0.4.0)\r\n",
      "Requirement already satisfied: curies<0.10.0,>=0.9.0 in /Users/PAKalita/Work/nmdc-runtime/.venv/lib/python3.10/site-packages (from nmdc-schema==11.10.0rc2) (0.9.2)\r\n",
      "Requirement already satisfied: deprecated<2,>=1 in /Users/PAKalita/Work/nmdc-runtime/.venv/lib/python3.10/site-packages (from nmdc-schema==11.10.0rc2) (1.2.18)\r\n",
      "Requirement already satisfied: jsonasobj2<2,>=1 in /Users/PAKalita/Work/nmdc-runtime/.venv/lib/python3.10/site-packages (from nmdc-schema==11.10.0rc2) (1.0.4)\r\n",
      "Requirement already satisfied: jsonschema<5,>=4 in /Users/PAKalita/Work/nmdc-runtime/.venv/lib/python3.10/site-packages (from nmdc-schema==11.10.0rc2) (4.23.0)\r\n",
      "Collecting linkml<2.0.0,>=1.9.1 (from nmdc-schema==11.10.0rc2)\r\n",
      "  Using cached linkml-1.9.3-py3-none-any.whl.metadata (3.7 kB)\r\n",
      "Collecting linkml-runtime<2.0.0,>=1.9.1 (from nmdc-schema==11.10.0rc2)\r\n",
      "  Using cached linkml_runtime-1.9.4-py3-none-any.whl.metadata (3.4 kB)\r\n",
      "Requirement already satisfied: pymongo<5.0.0,>=4.7.2 in /Users/PAKalita/Work/nmdc-runtime/.venv/lib/python3.10/site-packages (from nmdc-schema==11.10.0rc2) (4.7.2)\r\n",
      "Requirement already satisfied: python-dotenv in /Users/PAKalita/Work/nmdc-runtime/.venv/lib/python3.10/site-packages (from nmdc-schema==11.10.0rc2) (1.0.0)\r\n",
      "Requirement already satisfied: pyyaml<7,>=6 in /Users/PAKalita/Work/nmdc-runtime/.venv/lib/python3.10/site-packages (from nmdc-schema==11.10.0rc2) (6.0.1)\r\n",
      "Requirement already satisfied: rdflib<7.0.0,>=6.2.0 in /Users/PAKalita/Work/nmdc-runtime/.venv/lib/python3.10/site-packages (from nmdc-schema==11.10.0rc2) (6.2.0)\r\n",
      "Requirement already satisfied: requests<3,>=2 in /Users/PAKalita/Work/nmdc-runtime/.venv/lib/python3.10/site-packages (from nmdc-schema==11.10.0rc2) (2.32.3)\r\n",
      "Requirement already satisfied: pytrie in /Users/PAKalita/Work/nmdc-runtime/.venv/lib/python3.10/site-packages (from curies<0.10.0,>=0.9.0->nmdc-schema==11.10.0rc2) (0.4.0)\r\n",
      "Requirement already satisfied: pydantic>=2.0 in /Users/PAKalita/Work/nmdc-runtime/.venv/lib/python3.10/site-packages (from curies<0.10.0,>=0.9.0->nmdc-schema==11.10.0rc2) (2.11.4)\r\n",
      "Requirement already satisfied: typing-extensions in /Users/PAKalita/Work/nmdc-runtime/.venv/lib/python3.10/site-packages (from curies<0.10.0,>=0.9.0->nmdc-schema==11.10.0rc2) (4.13.2)\r\n",
      "Requirement already satisfied: wrapt<2,>=1.10 in /Users/PAKalita/Work/nmdc-runtime/.venv/lib/python3.10/site-packages (from deprecated<2,>=1->nmdc-schema==11.10.0rc2) (1.17.2)\r\n",
      "Requirement already satisfied: hbreader in /Users/PAKalita/Work/nmdc-runtime/.venv/lib/python3.10/site-packages (from jsonasobj2<2,>=1->nmdc-schema==11.10.0rc2) (0.9.1)\r\n",
      "Requirement already satisfied: attrs>=22.2.0 in /Users/PAKalita/Work/nmdc-runtime/.venv/lib/python3.10/site-packages (from jsonschema<5,>=4->nmdc-schema==11.10.0rc2) (25.3.0)\r\n",
      "Requirement already satisfied: jsonschema-specifications>=2023.03.6 in /Users/PAKalita/Work/nmdc-runtime/.venv/lib/python3.10/site-packages (from jsonschema<5,>=4->nmdc-schema==11.10.0rc2) (2025.4.1)\r\n",
      "Requirement already satisfied: referencing>=0.28.4 in /Users/PAKalita/Work/nmdc-runtime/.venv/lib/python3.10/site-packages (from jsonschema<5,>=4->nmdc-schema==11.10.0rc2) (0.36.2)\r\n",
      "Requirement already satisfied: rpds-py>=0.7.1 in /Users/PAKalita/Work/nmdc-runtime/.venv/lib/python3.10/site-packages (from jsonschema<5,>=4->nmdc-schema==11.10.0rc2) (0.24.0)\r\n",
      "Requirement already satisfied: antlr4-python3-runtime<4.10,>=4.9.0 in /Users/PAKalita/Work/nmdc-runtime/.venv/lib/python3.10/site-packages (from linkml<2.0.0,>=1.9.1->nmdc-schema==11.10.0rc2) (4.9.3)\r\n",
      "Requirement already satisfied: graphviz>=0.10.1 in /Users/PAKalita/Work/nmdc-runtime/.venv/lib/python3.10/site-packages (from linkml<2.0.0,>=1.9.1->nmdc-schema==11.10.0rc2) (0.20.3)\r\n",
      "Requirement already satisfied: isodate>=0.6.0 in /Users/PAKalita/Work/nmdc-runtime/.venv/lib/python3.10/site-packages (from linkml<2.0.0,>=1.9.1->nmdc-schema==11.10.0rc2) (0.7.2)\r\n",
      "Requirement already satisfied: jinja2>=3.1.0 in /Users/PAKalita/Work/nmdc-runtime/.venv/lib/python3.10/site-packages (from linkml<2.0.0,>=1.9.1->nmdc-schema==11.10.0rc2) (3.1.6)\r\n",
      "Requirement already satisfied: openpyxl in /Users/PAKalita/Work/nmdc-runtime/.venv/lib/python3.10/site-packages (from linkml<2.0.0,>=1.9.1->nmdc-schema==11.10.0rc2) (3.1.5)\r\n",
      "Requirement already satisfied: parse in /Users/PAKalita/Work/nmdc-runtime/.venv/lib/python3.10/site-packages (from linkml<2.0.0,>=1.9.1->nmdc-schema==11.10.0rc2) (1.20.2)\r\n",
      "Requirement already satisfied: prefixcommons>=0.1.7 in /Users/PAKalita/Work/nmdc-runtime/.venv/lib/python3.10/site-packages (from linkml<2.0.0,>=1.9.1->nmdc-schema==11.10.0rc2) (0.1.12)\r\n",
      "Requirement already satisfied: prefixmaps>=0.2.2 in /Users/PAKalita/Work/nmdc-runtime/.venv/lib/python3.10/site-packages (from linkml<2.0.0,>=1.9.1->nmdc-schema==11.10.0rc2) (0.2.6)\r\n",
      "Requirement already satisfied: pyjsg>=0.11.6 in /Users/PAKalita/Work/nmdc-runtime/.venv/lib/python3.10/site-packages (from linkml<2.0.0,>=1.9.1->nmdc-schema==11.10.0rc2) (0.11.10)\r\n",
      "Requirement already satisfied: pyshex>=0.7.20 in /Users/PAKalita/Work/nmdc-runtime/.venv/lib/python3.10/site-packages (from linkml<2.0.0,>=1.9.1->nmdc-schema==11.10.0rc2) (0.8.1)\r\n",
      "Requirement already satisfied: pyshexc>=0.8.3 in /Users/PAKalita/Work/nmdc-runtime/.venv/lib/python3.10/site-packages (from linkml<2.0.0,>=1.9.1->nmdc-schema==11.10.0rc2) (0.9.1)\r\n",
      "Requirement already satisfied: python-dateutil in /Users/PAKalita/Work/nmdc-runtime/.venv/lib/python3.10/site-packages (from linkml<2.0.0,>=1.9.1->nmdc-schema==11.10.0rc2) (2.9.0.post0)\r\n",
      "Requirement already satisfied: sphinx-click>=6.0.0 in /Users/PAKalita/Work/nmdc-runtime/.venv/lib/python3.10/site-packages (from linkml<2.0.0,>=1.9.1->nmdc-schema==11.10.0rc2) (6.0.0)\r\n",
      "Requirement already satisfied: sqlalchemy>=1.4.31 in /Users/PAKalita/Work/nmdc-runtime/.venv/lib/python3.10/site-packages (from linkml<2.0.0,>=1.9.1->nmdc-schema==11.10.0rc2) (2.0.40)\r\n",
      "Requirement already satisfied: watchdog>=0.9.0 in /Users/PAKalita/Work/nmdc-runtime/.venv/lib/python3.10/site-packages (from linkml<2.0.0,>=1.9.1->nmdc-schema==11.10.0rc2) (5.0.3)\r\n",
      "Requirement already satisfied: json-flattener>=0.1.9 in /Users/PAKalita/Work/nmdc-runtime/.venv/lib/python3.10/site-packages (from linkml-runtime<2.0.0,>=1.9.1->nmdc-schema==11.10.0rc2) (0.1.9)\r\n",
      "Requirement already satisfied: annotated-types>=0.6.0 in /Users/PAKalita/Work/nmdc-runtime/.venv/lib/python3.10/site-packages (from pydantic>=2.0->curies<0.10.0,>=0.9.0->nmdc-schema==11.10.0rc2) (0.7.0)\r\n",
      "Requirement already satisfied: pydantic-core==2.33.2 in /Users/PAKalita/Work/nmdc-runtime/.venv/lib/python3.10/site-packages (from pydantic>=2.0->curies<0.10.0,>=0.9.0->nmdc-schema==11.10.0rc2) (2.33.2)\r\n",
      "Requirement already satisfied: typing-inspection>=0.4.0 in /Users/PAKalita/Work/nmdc-runtime/.venv/lib/python3.10/site-packages (from pydantic>=2.0->curies<0.10.0,>=0.9.0->nmdc-schema==11.10.0rc2) (0.4.0)\r\n",
      "Requirement already satisfied: dnspython<3.0.0,>=1.16.0 in /Users/PAKalita/Work/nmdc-runtime/.venv/lib/python3.10/site-packages (from pymongo<5.0.0,>=4.7.2->nmdc-schema==11.10.0rc2) (2.7.0)\r\n",
      "Requirement already satisfied: pyparsing in /Users/PAKalita/Work/nmdc-runtime/.venv/lib/python3.10/site-packages (from rdflib<7.0.0,>=6.2.0->nmdc-schema==11.10.0rc2) (3.2.3)\r\n",
      "Requirement already satisfied: setuptools in /Users/PAKalita/Work/nmdc-runtime/.venv/lib/python3.10/site-packages (from rdflib<7.0.0,>=6.2.0->nmdc-schema==11.10.0rc2) (80.4.0)\r\n",
      "Requirement already satisfied: charset-normalizer<4,>=2 in /Users/PAKalita/Work/nmdc-runtime/.venv/lib/python3.10/site-packages (from requests<3,>=2->nmdc-schema==11.10.0rc2) (3.4.2)\r\n",
      "Requirement already satisfied: idna<4,>=2.5 in /Users/PAKalita/Work/nmdc-runtime/.venv/lib/python3.10/site-packages (from requests<3,>=2->nmdc-schema==11.10.0rc2) (3.10)\r\n",
      "Requirement already satisfied: urllib3<3,>=1.21.1 in /Users/PAKalita/Work/nmdc-runtime/.venv/lib/python3.10/site-packages (from requests<3,>=2->nmdc-schema==11.10.0rc2) (2.4.0)\r\n",
      "Requirement already satisfied: certifi>=2017.4.17 in /Users/PAKalita/Work/nmdc-runtime/.venv/lib/python3.10/site-packages (from requests<3,>=2->nmdc-schema==11.10.0rc2) (2025.4.26)\r\n",
      "Requirement already satisfied: MarkupSafe>=2.0 in /Users/PAKalita/Work/nmdc-runtime/.venv/lib/python3.10/site-packages (from jinja2>=3.1.0->linkml<2.0.0,>=1.9.1->nmdc-schema==11.10.0rc2) (3.0.2)\r\n",
      "Requirement already satisfied: fqdn in /Users/PAKalita/Work/nmdc-runtime/.venv/lib/python3.10/site-packages (from jsonschema[format]>=4.0.0->linkml<2.0.0,>=1.9.1->nmdc-schema==11.10.0rc2) (1.5.1)\r\n",
      "Requirement already satisfied: isoduration in /Users/PAKalita/Work/nmdc-runtime/.venv/lib/python3.10/site-packages (from jsonschema[format]>=4.0.0->linkml<2.0.0,>=1.9.1->nmdc-schema==11.10.0rc2) (20.11.0)\r\n",
      "Requirement already satisfied: jsonpointer>1.13 in /Users/PAKalita/Work/nmdc-runtime/.venv/lib/python3.10/site-packages (from jsonschema[format]>=4.0.0->linkml<2.0.0,>=1.9.1->nmdc-schema==11.10.0rc2) (3.0.0)\r\n",
      "Requirement already satisfied: rfc3339-validator in /Users/PAKalita/Work/nmdc-runtime/.venv/lib/python3.10/site-packages (from jsonschema[format]>=4.0.0->linkml<2.0.0,>=1.9.1->nmdc-schema==11.10.0rc2) (0.1.4)\r\n",
      "Requirement already satisfied: rfc3987 in /Users/PAKalita/Work/nmdc-runtime/.venv/lib/python3.10/site-packages (from jsonschema[format]>=4.0.0->linkml<2.0.0,>=1.9.1->nmdc-schema==11.10.0rc2) (1.3.8)\r\n",
      "Requirement already satisfied: uri-template in /Users/PAKalita/Work/nmdc-runtime/.venv/lib/python3.10/site-packages (from jsonschema[format]>=4.0.0->linkml<2.0.0,>=1.9.1->nmdc-schema==11.10.0rc2) (1.3.0)\r\n",
      "Requirement already satisfied: webcolors>=1.11 in /Users/PAKalita/Work/nmdc-runtime/.venv/lib/python3.10/site-packages (from jsonschema[format]>=4.0.0->linkml<2.0.0,>=1.9.1->nmdc-schema==11.10.0rc2) (24.11.1)\r\n",
      "Requirement already satisfied: pytest-logging<2016.0.0,>=2015.11.4 in /Users/PAKalita/Work/nmdc-runtime/.venv/lib/python3.10/site-packages (from prefixcommons>=0.1.7->linkml<2.0.0,>=1.9.1->nmdc-schema==11.10.0rc2) (2015.11.4)\r\n",
      "Requirement already satisfied: pytest>=2.8.1 in /Users/PAKalita/Work/nmdc-runtime/.venv/lib/python3.10/site-packages (from pytest-logging<2016.0.0,>=2015.11.4->prefixcommons>=0.1.7->linkml<2.0.0,>=1.9.1->nmdc-schema==11.10.0rc2) (8.3.5)\r\n",
      "Requirement already satisfied: jsonasobj>=1.2.1 in /Users/PAKalita/Work/nmdc-runtime/.venv/lib/python3.10/site-packages (from pyjsg>=0.11.6->linkml<2.0.0,>=1.9.1->nmdc-schema==11.10.0rc2) (1.3.1)\r\n",
      "Requirement already satisfied: cfgraph>=0.2.1 in /Users/PAKalita/Work/nmdc-runtime/.venv/lib/python3.10/site-packages (from pyshex>=0.7.20->linkml<2.0.0,>=1.9.1->nmdc-schema==11.10.0rc2) (0.2.1)\r\n",
      "Requirement already satisfied: chardet in /Users/PAKalita/Work/nmdc-runtime/.venv/lib/python3.10/site-packages (from pyshex>=0.7.20->linkml<2.0.0,>=1.9.1->nmdc-schema==11.10.0rc2) (5.2.0)\r\n",
      "Requirement already satisfied: rdflib-shim in /Users/PAKalita/Work/nmdc-runtime/.venv/lib/python3.10/site-packages (from pyshex>=0.7.20->linkml<2.0.0,>=1.9.1->nmdc-schema==11.10.0rc2) (1.0.3)\r\n",
      "Requirement already satisfied: shexjsg>=0.8.2 in /Users/PAKalita/Work/nmdc-runtime/.venv/lib/python3.10/site-packages (from pyshex>=0.7.20->linkml<2.0.0,>=1.9.1->nmdc-schema==11.10.0rc2) (0.8.2)\r\n",
      "Requirement already satisfied: sparqlslurper>=0.5.1 in /Users/PAKalita/Work/nmdc-runtime/.venv/lib/python3.10/site-packages (from pyshex>=0.7.20->linkml<2.0.0,>=1.9.1->nmdc-schema==11.10.0rc2) (0.5.1)\r\n",
      "Requirement already satisfied: sparqlwrapper>=1.8.5 in /Users/PAKalita/Work/nmdc-runtime/.venv/lib/python3.10/site-packages (from pyshex>=0.7.20->linkml<2.0.0,>=1.9.1->nmdc-schema==11.10.0rc2) (2.0.0)\r\n",
      "Requirement already satisfied: exceptiongroup>=1.0.0rc8 in /Users/PAKalita/Work/nmdc-runtime/.venv/lib/python3.10/site-packages (from pytest>=2.8.1->pytest-logging<2016.0.0,>=2015.11.4->prefixcommons>=0.1.7->linkml<2.0.0,>=1.9.1->nmdc-schema==11.10.0rc2) (1.3.0)\r\n",
      "Requirement already satisfied: iniconfig in /Users/PAKalita/Work/nmdc-runtime/.venv/lib/python3.10/site-packages (from pytest>=2.8.1->pytest-logging<2016.0.0,>=2015.11.4->prefixcommons>=0.1.7->linkml<2.0.0,>=1.9.1->nmdc-schema==11.10.0rc2) (2.1.0)\r\n",
      "Requirement already satisfied: packaging in /Users/PAKalita/Work/nmdc-runtime/.venv/lib/python3.10/site-packages (from pytest>=2.8.1->pytest-logging<2016.0.0,>=2015.11.4->prefixcommons>=0.1.7->linkml<2.0.0,>=1.9.1->nmdc-schema==11.10.0rc2) (25.0)\r\n",
      "Requirement already satisfied: pluggy<2,>=1.5 in /Users/PAKalita/Work/nmdc-runtime/.venv/lib/python3.10/site-packages (from pytest>=2.8.1->pytest-logging<2016.0.0,>=2015.11.4->prefixcommons>=0.1.7->linkml<2.0.0,>=1.9.1->nmdc-schema==11.10.0rc2) (1.5.0)\r\n",
      "Requirement already satisfied: tomli>=1 in /Users/PAKalita/Work/nmdc-runtime/.venv/lib/python3.10/site-packages (from pytest>=2.8.1->pytest-logging<2016.0.0,>=2015.11.4->prefixcommons>=0.1.7->linkml<2.0.0,>=1.9.1->nmdc-schema==11.10.0rc2) (2.2.1)\r\n",
      "Requirement already satisfied: sphinx>=4.0 in /Users/PAKalita/Work/nmdc-runtime/.venv/lib/python3.10/site-packages (from sphinx-click>=6.0.0->linkml<2.0.0,>=1.9.1->nmdc-schema==11.10.0rc2) (7.2.6)\r\n",
      "Requirement already satisfied: docutils in /Users/PAKalita/Work/nmdc-runtime/.venv/lib/python3.10/site-packages (from sphinx-click>=6.0.0->linkml<2.0.0,>=1.9.1->nmdc-schema==11.10.0rc2) (0.20.1)\r\n",
      "Requirement already satisfied: sphinxcontrib-applehelp in /Users/PAKalita/Work/nmdc-runtime/.venv/lib/python3.10/site-packages (from sphinx>=4.0->sphinx-click>=6.0.0->linkml<2.0.0,>=1.9.1->nmdc-schema==11.10.0rc2) (1.0.8)\r\n",
      "Requirement already satisfied: sphinxcontrib-devhelp in /Users/PAKalita/Work/nmdc-runtime/.venv/lib/python3.10/site-packages (from sphinx>=4.0->sphinx-click>=6.0.0->linkml<2.0.0,>=1.9.1->nmdc-schema==11.10.0rc2) (1.0.6)\r\n",
      "Requirement already satisfied: sphinxcontrib-jsmath in /Users/PAKalita/Work/nmdc-runtime/.venv/lib/python3.10/site-packages (from sphinx>=4.0->sphinx-click>=6.0.0->linkml<2.0.0,>=1.9.1->nmdc-schema==11.10.0rc2) (1.0.1)\r\n",
      "Requirement already satisfied: sphinxcontrib-htmlhelp>=2.0.0 in /Users/PAKalita/Work/nmdc-runtime/.venv/lib/python3.10/site-packages (from sphinx>=4.0->sphinx-click>=6.0.0->linkml<2.0.0,>=1.9.1->nmdc-schema==11.10.0rc2) (2.0.5)\r\n",
      "Requirement already satisfied: sphinxcontrib-serializinghtml>=1.1.9 in /Users/PAKalita/Work/nmdc-runtime/.venv/lib/python3.10/site-packages (from sphinx>=4.0->sphinx-click>=6.0.0->linkml<2.0.0,>=1.9.1->nmdc-schema==11.10.0rc2) (1.1.10)\r\n",
      "Requirement already satisfied: sphinxcontrib-qthelp in /Users/PAKalita/Work/nmdc-runtime/.venv/lib/python3.10/site-packages (from sphinx>=4.0->sphinx-click>=6.0.0->linkml<2.0.0,>=1.9.1->nmdc-schema==11.10.0rc2) (1.0.7)\r\n",
      "Requirement already satisfied: Pygments>=2.14 in /Users/PAKalita/Work/nmdc-runtime/.venv/lib/python3.10/site-packages (from sphinx>=4.0->sphinx-click>=6.0.0->linkml<2.0.0,>=1.9.1->nmdc-schema==11.10.0rc2) (2.19.1)\r\n",
      "Requirement already satisfied: snowballstemmer>=2.0 in /Users/PAKalita/Work/nmdc-runtime/.venv/lib/python3.10/site-packages (from sphinx>=4.0->sphinx-click>=6.0.0->linkml<2.0.0,>=1.9.1->nmdc-schema==11.10.0rc2) (2.2.0)\r\n",
      "Requirement already satisfied: babel>=2.9 in /Users/PAKalita/Work/nmdc-runtime/.venv/lib/python3.10/site-packages (from sphinx>=4.0->sphinx-click>=6.0.0->linkml<2.0.0,>=1.9.1->nmdc-schema==11.10.0rc2) (2.17.0)\r\n",
      "Requirement already satisfied: alabaster<0.8,>=0.7 in /Users/PAKalita/Work/nmdc-runtime/.venv/lib/python3.10/site-packages (from sphinx>=4.0->sphinx-click>=6.0.0->linkml<2.0.0,>=1.9.1->nmdc-schema==11.10.0rc2) (0.7.16)\r\n",
      "Requirement already satisfied: imagesize>=1.3 in /Users/PAKalita/Work/nmdc-runtime/.venv/lib/python3.10/site-packages (from sphinx>=4.0->sphinx-click>=6.0.0->linkml<2.0.0,>=1.9.1->nmdc-schema==11.10.0rc2) (1.4.1)\r\n",
      "Requirement already satisfied: arrow>=0.15.0 in /Users/PAKalita/Work/nmdc-runtime/.venv/lib/python3.10/site-packages (from isoduration->jsonschema[format]>=4.0.0->linkml<2.0.0,>=1.9.1->nmdc-schema==11.10.0rc2) (1.3.0)\r\n",
      "Requirement already satisfied: types-python-dateutil>=2.8.10 in /Users/PAKalita/Work/nmdc-runtime/.venv/lib/python3.10/site-packages (from arrow>=0.15.0->isoduration->jsonschema[format]>=4.0.0->linkml<2.0.0,>=1.9.1->nmdc-schema==11.10.0rc2) (2.9.0.20241206)\r\n",
      "Requirement already satisfied: six>=1.5 in /Users/PAKalita/Work/nmdc-runtime/.venv/lib/python3.10/site-packages (from python-dateutil->linkml<2.0.0,>=1.9.1->nmdc-schema==11.10.0rc2) (1.17.0)\r\n",
      "Requirement already satisfied: et-xmlfile in /Users/PAKalita/Work/nmdc-runtime/.venv/lib/python3.10/site-packages (from openpyxl->linkml<2.0.0,>=1.9.1->nmdc-schema==11.10.0rc2) (2.0.0)\r\n",
      "Requirement already satisfied: sortedcontainers in /Users/PAKalita/Work/nmdc-runtime/.venv/lib/python3.10/site-packages (from pytrie->curies<0.10.0,>=0.9.0->nmdc-schema==11.10.0rc2) (2.4.0)\r\n",
      "Requirement already satisfied: rdflib-jsonld==0.6.1 in /Users/PAKalita/Work/nmdc-runtime/.venv/lib/python3.10/site-packages (from rdflib-shim->pyshex>=0.7.20->linkml<2.0.0,>=1.9.1->nmdc-schema==11.10.0rc2) (0.6.1)\r\n",
      "Downloading nmdc_schema-11.10.0rc2-py3-none-any.whl (746 kB)\r\n",
      "\u001B[2K   \u001B[90m━━━━━━━━━━━━━━━━━━━━━━━━━━━━━━━━━━━━━━━━\u001B[0m \u001B[32m746.7/746.7 kB\u001B[0m \u001B[31m14.4 MB/s\u001B[0m  \u001B[33m0:00:00\u001B[0m\r\n",
      "\u001B[?25hUsing cached linkml-1.9.3-py3-none-any.whl (336 kB)\r\n",
      "Using cached linkml_runtime-1.9.4-py3-none-any.whl (576 kB)\r\n",
      "Installing collected packages: linkml-runtime, linkml, nmdc-schema\r\n",
      "\u001B[2K  Attempting uninstall: linkml-runtime\r\n",
      "\u001B[2K    Found existing installation: linkml-runtime 1.8.2\r\n",
      "\u001B[2K    Uninstalling linkml-runtime-1.8.2:\r\n",
      "\u001B[2K      Successfully uninstalled linkml-runtime-1.8.2\r\n",
      "\u001B[2K  Attempting uninstall: linkml━━━━━━━━━━━━━━━━━━\u001B[0m \u001B[32m0/3\u001B[0m [linkml-runtime]\r\n",
      "\u001B[2K    Found existing installation: linkml 1.8.5[0m \u001B[32m0/3\u001B[0m [linkml-runtime]\r\n",
      "\u001B[2K    Uninstalling linkml-1.8.5:━━━━━━━━━━━━━━\u001B[0m \u001B[32m0/3\u001B[0m [linkml-runtime]\r\n",
      "\u001B[2K      Successfully uninstalled linkml-1.8.5━\u001B[0m \u001B[32m0/3\u001B[0m [linkml-runtime]\r\n",
      "\u001B[2K  Attempting uninstall: nmdc-schema\u001B[90m━━━━━━━━━━━━━━━━━━━━━━━━━━\u001B[0m \u001B[32m1/3\u001B[0m [linkml]\r\n",
      "\u001B[2K    Found existing installation: nmdc_schema 11.10.0rc1━━━━━━━\u001B[0m \u001B[32m1/3\u001B[0m [linkml]\r\n",
      "\u001B[2K    Uninstalling nmdc_schema-11.10.0rc1:━━━━━━━━━━━━━━━━━━━━━━\u001B[0m \u001B[32m1/3\u001B[0m [linkml]\r\n",
      "\u001B[2K      Successfully uninstalled nmdc_schema-11.10.0rc1━━━━━━━━━\u001B[0m \u001B[32m1/3\u001B[0m [linkml]\r\n",
      "\u001B[2K   \u001B[90m━━━━━━━━━━━━━━━━━━━━━━━━━━━━━━━━━━━━━━━━\u001B[0m \u001B[32m3/3\u001B[0m [nmdc-schema]\u001B[0m [nmdc-schema]\r\n",
      "\u001B[1A\u001B[2K\u001B[31mERROR: pip's dependency resolver does not currently take into account all the packages that are installed. This behaviour is the source of the following dependency conflicts.\r\n",
      "linkml-store 0.2.10 requires python-dotenv<2.0.0,>=1.0.1, but you have python-dotenv 1.0.0 which is incompatible.\r\n",
      "ontology-loader 0.2.2 requires pymongo<5.0.0,>=4.9.1, but you have pymongo 4.7.2 which is incompatible.\u001B[0m\u001B[31m\r\n",
      "\u001B[0mSuccessfully installed linkml-1.9.3 linkml-runtime-1.9.4 nmdc-schema-11.10.0rc2\r\n",
      "Note: you may need to restart the kernel to use updated packages.\n"
     ]
    }
   ],
   "execution_count": 38
  },
  {
   "cell_type": "markdown",
   "id": "b52d1ff0e0d98472",
   "metadata": {},
   "source": [
    "### Import Python dependencies\n",
    "\n",
    "Import the Python objects upon which this notebook depends.\n",
    "\n",
    "#### References\n",
    "\n",
    "| Description                            | Link                                                                                                  |\n",
    "|----------------------------------------|-------------------------------------------------------------------------------------------------------|\n",
    "| Dynamically importing a Python module  | [`importlib.import_module`](https://docs.python.org/3/library/importlib.html#importlib.import_module) |\n",
    "| Confirming something is a Python class | [`inspect.isclass`](https://docs.python.org/3/library/inspect.html#inspect.isclass)                   |"
   ]
  },
  {
   "cell_type": "code",
   "id": "11c5d669a24f0ae6",
   "metadata": {
    "ExecuteTime": {
     "end_time": "2025-08-08T21:09:15.697521Z",
     "start_time": "2025-08-08T21:09:15.694703Z"
    }
   },
   "source": "MIGRATOR_MODULE_NAME = \"migrator_from_11_9_1_to_11_10_0\"",
   "outputs": [],
   "execution_count": 3
  },
  {
   "cell_type": "code",
   "id": "8d443a1bbc8e3701",
   "metadata": {
    "ExecuteTime": {
     "end_time": "2025-08-08T21:09:17.346271Z",
     "start_time": "2025-08-08T21:09:16.578477Z"
    }
   },
   "source": [
    "# Standard library packages:\n",
    "import subprocess\n",
    "from typing import List\n",
    "import importlib\n",
    "from inspect import isclass\n",
    "\n",
    "# Third-party packages:\n",
    "import pymongo\n",
    "from linkml.validator import Validator, ValidationReport\n",
    "from linkml.validator.plugins import JsonschemaValidationPlugin\n",
    "from nmdc_schema.nmdc_data import get_nmdc_schema_definition\n",
    "from nmdc_schema.migrators.adapters.mongo_adapter import MongoAdapter\n",
    "from linkml_runtime import SchemaView\n",
    "\n",
    "# First-party packages:\n",
    "from helpers import Config, setup_logger, get_collection_names_from_schema, derive_schema_class_name_from_document\n",
    "from bookkeeper import Bookkeeper, MigrationEvent\n",
    "\n",
    "# Dynamic imports:\n",
    "migrator_module = importlib.import_module(f\".{MIGRATOR_MODULE_NAME}\", package=\"nmdc_schema.migrators\")\n",
    "Migrator = getattr(migrator_module, \"Migrator\")  # gets the class\n",
    "assert isclass(Migrator), \"Failed to import Migrator class.\""
   ],
   "outputs": [],
   "execution_count": 4
  },
  {
   "cell_type": "markdown",
   "id": "b496f19c849e733d",
   "metadata": {},
   "source": [
    "### Parse configuration files\n",
    "\n",
    "Parse the notebook and Mongo configuration files."
   ]
  },
  {
   "cell_type": "code",
   "id": "7ba2424242fb74e4",
   "metadata": {
    "ExecuteTime": {
     "end_time": "2025-08-08T21:09:23.221041Z",
     "start_time": "2025-08-08T21:09:22.022437Z"
    }
   },
   "source": [
    "cfg = Config()\n",
    "\n",
    "# Define some aliases we can use to make the shell commands in this notebook easier to read.\n",
    "mongodump = cfg.mongodump_path\n",
    "mongorestore = cfg.mongorestore_path\n",
    "mongosh = cfg.mongosh_path\n",
    "\n",
    "# Make the base CLI options for Mongo shell commands.\n",
    "origin_mongo_cli_base_options = Config.make_mongo_cli_base_options(\n",
    "    mongo_host=cfg.origin_mongo_host,\n",
    "    mongo_port=cfg.origin_mongo_port,\n",
    "    mongo_username=cfg.origin_mongo_username,\n",
    "    mongo_password=cfg.origin_mongo_password,\n",
    ")\n",
    "transformer_mongo_cli_base_options = Config.make_mongo_cli_base_options(\n",
    "    mongo_host=cfg.transformer_mongo_host,\n",
    "    mongo_port=cfg.transformer_mongo_port,\n",
    "    mongo_username=cfg.transformer_mongo_username,\n",
    "    mongo_password=cfg.transformer_mongo_password,\n",
    ")\n",
    "\n",
    "# Perform a sanity test of the application paths.\n",
    "!{mongodump} --version\n",
    "!{mongorestore} --version\n",
    "!{mongosh} --version"
   ],
   "outputs": [
    {
     "name": "stdout",
     "output_type": "stream",
     "text": [
      "mongodump version: 100.7.2\r\n",
      "git version: db8c5c49905eab242db186a32e84afd9e5aa9837\r\n",
      "Go version: go1.19.9\r\n",
      "   os: darwin\r\n",
      "   arch: arm64\r\n",
      "   compiler: gc\r\n",
      "mongorestore version: 100.7.2\r\n",
      "git version: db8c5c49905eab242db186a32e84afd9e5aa9837\r\n",
      "Go version: go1.19.9\r\n",
      "   os: darwin\r\n",
      "   arch: arm64\r\n",
      "   compiler: gc\r\n",
      "2.3.9\r\n"
     ]
    }
   ],
   "execution_count": 5
  },
  {
   "cell_type": "markdown",
   "id": "6ab8f0802ebed34",
   "metadata": {},
   "source": [
    "### Create MongoDB clients\n",
    "\n",
    "Create MongoDB clients you can use to access the \"origin\" and \"transformer\" MongoDB servers."
   ]
  },
  {
   "cell_type": "code",
   "id": "a883186068ed590d",
   "metadata": {
    "ExecuteTime": {
     "end_time": "2025-08-08T21:09:34.503992Z",
     "start_time": "2025-08-08T21:09:34.473441Z"
    }
   },
   "source": [
    "# Mongo client for \"origin\" MongoDB server.\n",
    "origin_mongo_client = pymongo.MongoClient(host=cfg.origin_mongo_host,\n",
    "                                          port=int(cfg.origin_mongo_port),\n",
    "                                          username=cfg.origin_mongo_username,\n",
    "                                          password=cfg.origin_mongo_password,\n",
    "                                          directConnection=True)\n",
    "\n",
    "# Mongo client for \"transformer\" MongoDB server.\n",
    "transformer_mongo_client = pymongo.MongoClient(host=cfg.transformer_mongo_host,\n",
    "                                               port=int(cfg.transformer_mongo_port),\n",
    "                                               username=cfg.transformer_mongo_username,\n",
    "                                               password=cfg.transformer_mongo_password,\n",
    "                                               directConnection=True)\n",
    "\n",
    "# Perform sanity tests of those MongoDB clients' abilities to access their respective MongoDB servers.\n",
    "with pymongo.timeout(3):\n",
    "    # Display the MongoDB server version (running on the \"origin\" Mongo server).\n",
    "    print(\"Origin Mongo server version:      \" + origin_mongo_client.server_info()[\"version\"])\n",
    "\n",
    "    # Sanity test: Ensure the origin database exists.\n",
    "    assert cfg.origin_mongo_database_name in origin_mongo_client.list_database_names(), \"Origin database does not exist.\"\n",
    "\n",
    "    # Display the MongoDB server version (running on the \"transformer\" Mongo server).\n",
    "    print(\"Transformer Mongo server version: \" + transformer_mongo_client.server_info()[\"version\"])\n",
    "\n",
    "    # Sanity test: Ensure the transformation database does not exist.\n",
    "    assert cfg.transformer_mongo_database_name not in transformer_mongo_client.list_database_names(), \"Transformation database already exists.\""
   ],
   "outputs": [
    {
     "name": "stderr",
     "output_type": "stream",
     "text": [
      "{\"message\": \"Waiting for suitable server to become available\", \"selector\": \"Primary()\", \"operation\": \"buildinfo\", \"topologyDescription\": \"<TopologyDescription id: 6896678ecd5a871af82e2e63, topology_type: Single, servers: [<ServerDescription ('localhost', 59639) server_type: Unknown, rtt: None>]>\", \"clientId\": {\"$oid\": \"6896678ecd5a871af82e2e63\"}, \"remainingTimeMS\": 2}\n"
     ]
    },
    {
     "name": "stdout",
     "output_type": "stream",
     "text": [
      "Origin Mongo server version:      8.0.4\n",
      "Transformer Mongo server version: 8.0.4\n"
     ]
    }
   ],
   "execution_count": 6
  },
  {
   "cell_type": "markdown",
   "id": "846e97bb0b6544ae",
   "metadata": {},
   "source": [
    "Delete the transformer database from the transformer MongoDB server if that database already exists there (e.g. if it was left over from an experiment).\n",
    "\n",
    "#### References\n",
    "\n",
    "| Description                  | Link                                                          |\n",
    "|------------------------------|---------------------------------------------------------------|\n",
    "| Python's `subprocess` module | https://docs.python.org/3/library/subprocess.html             |\n",
    "| `mongosh` CLI options        | https://www.mongodb.com/docs/mongodb-shell/reference/options/ |"
   ]
  },
  {
   "cell_type": "code",
   "id": "331093f3ce6c50a8",
   "metadata": {
    "ExecuteTime": {
     "end_time": "2025-08-08T21:09:40.002363Z",
     "start_time": "2025-08-08T21:09:39.137045Z"
    }
   },
   "source": [
    "# Note: I run this command via Python's `subprocess` module instead of via an IPython magic `!` command\n",
    "#       because I expect to eventually use regular Python scripts—not Python notebooks—for migrations.\n",
    "shell_command = f\"\"\"\n",
    "  {cfg.mongosh_path} {transformer_mongo_cli_base_options} \\\n",
    "      --eval 'use {cfg.transformer_mongo_database_name}' \\\n",
    "      --eval 'db.dropDatabase()' \\\n",
    "      --quiet\n",
    "\"\"\"\n",
    "completed_process = subprocess.run(shell_command, shell=True)\n",
    "print(f\"\\nReturn code: {completed_process.returncode}\")"
   ],
   "outputs": [
    {
     "name": "stdout",
     "output_type": "stream",
     "text": [
      "{ ok: 1, dropped: 'nmdc' }\n",
      "\n",
      "Return code: 0\n"
     ]
    }
   ],
   "execution_count": 7
  },
  {
   "cell_type": "markdown",
   "id": "8839f276a4402775",
   "metadata": {},
   "source": [
    "### Create validator\n",
    "\n",
    "In this step, you'll create a validator that can be used to check whether data conforms to the NMDC Schema. You'll use it later, to do that.\n",
    "\n",
    "#### References\n",
    "\n",
    "| Description                  | Link                                                                         |\n",
    "|------------------------------|------------------------------------------------------------------------------|\n",
    "| LinkML's `Validator` class   | https://linkml.io/linkml/code/validator.html#linkml.validator.Validator      |\n",
    "| Validating data using LinkML | https://linkml.io/linkml/data/validating-data.html#validation-in-python-code |"
   ]
  },
  {
   "cell_type": "code",
   "id": "cd01c9f52db7f6e1",
   "metadata": {
    "ExecuteTime": {
     "end_time": "2025-08-08T21:09:43.458078Z",
     "start_time": "2025-08-08T21:09:42.856818Z"
    }
   },
   "source": [
    "schema_definition = get_nmdc_schema_definition()\n",
    "validator = Validator(\n",
    "    schema=schema_definition,\n",
    "    validation_plugins=[JsonschemaValidationPlugin(closed=True)],\n",
    ")\n",
    "\n",
    "# Perform a sanity test of the validator.\n",
    "assert callable(validator.validate), \"Failed to instantiate a validator\""
   ],
   "outputs": [],
   "execution_count": 8
  },
  {
   "cell_type": "markdown",
   "id": "7d45f8a5d3aa9f3",
   "metadata": {},
   "source": [
    "### Create SchemaView\n",
    "\n",
    "In this step, you'll instantiate a `SchemaView` that is bound to the destination schema.\n",
    "\n",
    "#### References\n",
    "\n",
    "| Description                 | Link                                                |\n",
    "|-----------------------------|-----------------------------------------------------|\n",
    "| LinkML's `SchemaView` class | https://linkml.io/linkml/developers/schemaview.html |"
   ]
  },
  {
   "cell_type": "code",
   "id": "1778be5cd7b68ad2",
   "metadata": {
    "ExecuteTime": {
     "end_time": "2025-08-08T21:09:45.543250Z",
     "start_time": "2025-08-08T21:09:44.916742Z"
    }
   },
   "source": [
    "schema_view = SchemaView(get_nmdc_schema_definition())\n",
    "\n",
    "# As a sanity test, confirm we can use the `SchemaView` instance to access a schema class.\n",
    "schema_view.get_class(class_name=\"Database\")[\"name\"]"
   ],
   "outputs": [
    {
     "data": {
      "text/plain": [
       "'Database'"
      ]
     },
     "execution_count": 9,
     "metadata": {},
     "output_type": "execute_result"
    }
   ],
   "execution_count": 9
  },
  {
   "cell_type": "markdown",
   "id": "2413c292652103a2",
   "metadata": {},
   "source": [
    "### Revoke access from the \"origin\" MongoDB server\n",
    "\n",
    "We revoke both \"write\" and \"read\" access to the server.\n",
    "\n",
    "#### Rationale\n",
    "\n",
    "We revoke \"write\" access so people don't make changes to the original data while the migration is happening, given that the migration ends with an overwriting of the original data (which would wipe out any changes made in the meantime).\n",
    "\n",
    "We also revoke \"read\" access. The revocation of \"read\" access is technically optional, but (a) the JavaScript mongosh script will be easier for me to maintain if it revokes everything and (b) this prevents people from reading data during the restore step, during which the database may not be self-consistent.\n",
    "\n",
    "#### References\n",
    "\n",
    "| Description                    | Link                                                      |\n",
    "|--------------------------------|-----------------------------------------------------------|\n",
    "| Running a script via `mongosh` | https://www.mongodb.com/docs/mongodb-shell/write-scripts/ |"
   ]
  },
  {
   "cell_type": "code",
   "id": "7eef0f264af138f",
   "metadata": {
    "ExecuteTime": {
     "end_time": "2025-08-08T21:09:48.119153Z",
     "start_time": "2025-08-08T21:09:47.470894Z"
    }
   },
   "source": [
    "shell_command = f\"\"\"\n",
    "  {cfg.mongosh_path} {origin_mongo_cli_base_options} \\\n",
    "      --file='mongosh-scripts/revoke-privileges.mongo.js' \\\n",
    "      --quiet\n",
    "\"\"\"\n",
    "completed_process = subprocess.run(shell_command, shell=True)\n",
    "print(f\"\\nReturn code: {completed_process.returncode}\")"
   ],
   "outputs": [
    {
     "name": "stdout",
     "output_type": "stream",
     "text": [
      "\n",
      "Return code: 1\n"
     ]
    },
    {
     "name": "stderr",
     "output_type": "stream",
     "text": [
      "MongoServerError: Could not find role: nmdc_reader@admin\n"
     ]
    }
   ],
   "execution_count": 10
  },
  {
   "cell_type": "markdown",
   "id": "1295c7a43cfbd083",
   "metadata": {},
   "source": [
    "### Delete obsolete dumps from previous migrations\n",
    "\n",
    "Delete any existing dumps before we create new ones in this notebook. This is so the dumps you generate with this notebook do not get merged with any unrelated ones."
   ]
  },
  {
   "cell_type": "code",
   "id": "d5d721e946414514",
   "metadata": {
    "ExecuteTime": {
     "end_time": "2025-08-08T21:09:50.911657Z",
     "start_time": "2025-08-08T21:09:50.635812Z"
    }
   },
   "source": [
    "!rm -rf {cfg.origin_dump_folder_path}\n",
    "!rm -rf {cfg.transformer_dump_folder_path}"
   ],
   "outputs": [],
   "execution_count": 11
  },
  {
   "cell_type": "markdown",
   "id": "cd224e2f5d6ccd5",
   "metadata": {},
   "source": [
    "### Dump collection(s) from the \"origin\" MongoDB server\n",
    "\n",
    "Use `mongodump` to dump specific collection(s) **from** the \"origin\" MongoDB server **into** a local directory.\n",
    "\n",
    "> Note: The reason we do this in a loop is that the `mongodump` program does not allow the user to specify multiple collections to dump. A distinct collection will be dumped on each iteration of the loop.\n"
   ]
  },
  {
   "cell_type": "code",
   "id": "725dcb33c1728521",
   "metadata": {
    "ExecuteTime": {
     "end_time": "2025-08-08T21:09:54.943465Z",
     "start_time": "2025-08-08T21:09:54.051946Z"
    }
   },
   "source": [
    "# Dump the specified collections from the \"origin\" database.\n",
    "for collection_name in COLLECTION_NAMES:\n",
    "  shell_command = f\"\"\"\n",
    "    {mongodump} {origin_mongo_cli_base_options} \\\n",
    "        --db='{cfg.origin_mongo_database_name}' \\\n",
    "        --out='{cfg.origin_dump_folder_path}' \\\n",
    "        --gzip \\\n",
    "        --collection='{collection_name}'\n",
    "  \"\"\"\n",
    "  completed_process = subprocess.run(shell_command, shell=True)\n",
    "  print(f\"\\nReturn code: {completed_process.returncode}\")"
   ],
   "outputs": [
    {
     "name": "stderr",
     "output_type": "stream",
     "text": [
      "2025-08-08T14:09:54.140-0700\twriting nmdc.storage_process_set to mongodump.origin.out/nmdc/storage_process_set.bson.gz\n",
      "2025-08-08T14:09:54.142-0700\tdone dumping nmdc.storage_process_set (0 documents)\n",
      "2025-08-08T14:09:54.202-0700\twriting nmdc.biosample_set to mongodump.origin.out/nmdc/biosample_set.bson.gz\n"
     ]
    },
    {
     "name": "stdout",
     "output_type": "stream",
     "text": [
      "\n",
      "Return code: 0\n"
     ]
    },
    {
     "name": "stderr",
     "output_type": "stream",
     "text": [
      "2025-08-08T14:09:54.643-0700\tdone dumping nmdc.biosample_set (13248 documents)\n",
      "2025-08-08T14:09:54.704-0700\twriting nmdc.configuration_set to mongodump.origin.out/nmdc/configuration_set.bson.gz\n",
      "2025-08-08T14:09:54.706-0700\tdone dumping nmdc.configuration_set (19 documents)\n",
      "2025-08-08T14:09:54.744-0700\twriting nmdc.processed_sample_set to mongodump.origin.out/nmdc/processed_sample_set.bson.gz\n",
      "2025-08-08T14:09:54.794-0700\tdone dumping nmdc.processed_sample_set (10043 documents)\n",
      "2025-08-08T14:09:54.844-0700\twriting nmdc.material_processing_set to mongodump.origin.out/nmdc/material_processing_set.bson.gz\n"
     ]
    },
    {
     "name": "stdout",
     "output_type": "stream",
     "text": [
      "\n",
      "Return code: 0\n",
      "\n",
      "Return code: 0\n",
      "\n",
      "Return code: 0\n",
      "\n",
      "Return code: 0\n"
     ]
    },
    {
     "name": "stderr",
     "output_type": "stream",
     "text": [
      "2025-08-08T14:09:54.940-0700\tdone dumping nmdc.material_processing_set (9242 documents)\n"
     ]
    }
   ],
   "execution_count": 12
  },
  {
   "cell_type": "markdown",
   "id": "9a7865d1a9d31945",
   "metadata": {},
   "source": [
    "### Load the dumped collection(s) into the \"transformer\" MongoDB server\n",
    "\n",
    "Use `mongorestore` to load the dumped collection(s) **from** the local directory **into** the \"transformer\" MongoDB server.\n",
    "\n",
    "References:\n",
    "- https://www.mongodb.com/docs/database-tools/mongorestore/#std-option-mongorestore\n",
    "- https://www.mongodb.com/docs/database-tools/mongorestore/mongorestore-examples/#copy-clone-a-database"
   ]
  },
  {
   "cell_type": "code",
   "id": "6c047360d46e09cb",
   "metadata": {
    "ExecuteTime": {
     "end_time": "2025-08-08T21:10:03.908119Z",
     "start_time": "2025-08-08T21:10:03.188524Z"
    }
   },
   "source": [
    "# Restore the dumped collections to the \"transformer\" MongoDB server.\n",
    "shell_command = f\"\"\"\n",
    "  {mongorestore} {transformer_mongo_cli_base_options} \\\n",
    "      --nsFrom='{cfg.origin_mongo_database_name}.*' \\\n",
    "      --nsTo='{cfg.transformer_mongo_database_name}.*' \\\n",
    "      --dir='{cfg.origin_dump_folder_path}' \\\n",
    "      --stopOnError \\\n",
    "      --drop \\\n",
    "      --gzip\n",
    "\"\"\"\n",
    "completed_process = subprocess.run(shell_command, shell=True)\n",
    "print(f\"\\nReturn code: {completed_process.returncode}\")"
   ],
   "outputs": [
    {
     "name": "stderr",
     "output_type": "stream",
     "text": [
      "2025-08-08T14:10:03.259-0700\tpreparing collections to restore from\n",
      "2025-08-08T14:10:03.260-0700\treading metadata for nmdc.configuration_set from mongodump.origin.out/nmdc/configuration_set.metadata.json.gz\n",
      "2025-08-08T14:10:03.260-0700\treading metadata for nmdc.material_processing_set from mongodump.origin.out/nmdc/material_processing_set.metadata.json.gz\n",
      "2025-08-08T14:10:03.260-0700\treading metadata for nmdc.processed_sample_set from mongodump.origin.out/nmdc/processed_sample_set.metadata.json.gz\n",
      "2025-08-08T14:10:03.260-0700\treading metadata for nmdc.storage_process_set from mongodump.origin.out/nmdc/storage_process_set.metadata.json.gz\n",
      "2025-08-08T14:10:03.260-0700\treading metadata for nmdc.biosample_set from mongodump.origin.out/nmdc/biosample_set.metadata.json.gz\n",
      "2025-08-08T14:10:03.275-0700\trestoring nmdc.biosample_set from mongodump.origin.out/nmdc/biosample_set.bson.gz\n",
      "2025-08-08T14:10:03.280-0700\trestoring nmdc.material_processing_set from mongodump.origin.out/nmdc/material_processing_set.bson.gz\n",
      "2025-08-08T14:10:03.289-0700\trestoring nmdc.processed_sample_set from mongodump.origin.out/nmdc/processed_sample_set.bson.gz\n",
      "2025-08-08T14:10:03.292-0700\trestoring nmdc.configuration_set from mongodump.origin.out/nmdc/configuration_set.bson.gz\n",
      "2025-08-08T14:10:03.303-0700\tfinished restoring nmdc.configuration_set (19 documents, 0 failures)\n",
      "2025-08-08T14:10:03.313-0700\trestoring nmdc.storage_process_set from mongodump.origin.out/nmdc/storage_process_set.bson.gz\n",
      "2025-08-08T14:10:03.323-0700\tfinished restoring nmdc.storage_process_set (0 documents, 0 failures)\n",
      "2025-08-08T14:10:03.380-0700\tfinished restoring nmdc.processed_sample_set (10043 documents, 0 failures)\n",
      "2025-08-08T14:10:03.406-0700\tfinished restoring nmdc.material_processing_set (9242 documents, 0 failures)\n",
      "2025-08-08T14:10:03.592-0700\tfinished restoring nmdc.biosample_set (13248 documents, 0 failures)\n",
      "2025-08-08T14:10:03.592-0700\trestoring indexes for collection nmdc.configuration_set from metadata\n",
      "2025-08-08T14:10:03.592-0700\tindex: &idx.IndexDocument{Options:primitive.M{\"name\":\"id_1\", \"unique\":true, \"v\":2}, Key:primitive.D{primitive.E{Key:\"id\", Value:1}}, PartialFilterExpression:primitive.D(nil)}\n",
      "2025-08-08T14:10:03.592-0700\tindex: &idx.IndexDocument{Options:primitive.M{\"background\":true, \"name\":\"type_1\", \"v\":2}, Key:primitive.D{primitive.E{Key:\"type\", Value:1}}, PartialFilterExpression:primitive.D(nil)}\n",
      "2025-08-08T14:10:03.592-0700\trestoring indexes for collection nmdc.material_processing_set from metadata\n",
      "2025-08-08T14:10:03.592-0700\tindex: &idx.IndexDocument{Options:primitive.M{\"name\":\"id_1\", \"unique\":true, \"v\":2}, Key:primitive.D{primitive.E{Key:\"id\", Value:1}}, PartialFilterExpression:primitive.D(nil)}\n",
      "2025-08-08T14:10:03.592-0700\tindex: &idx.IndexDocument{Options:primitive.M{\"background\":true, \"name\":\"type_1\", \"v\":2}, Key:primitive.D{primitive.E{Key:\"type\", Value:1}}, PartialFilterExpression:primitive.D(nil)}\n",
      "2025-08-08T14:10:03.592-0700\trestoring indexes for collection nmdc.processed_sample_set from metadata\n",
      "2025-08-08T14:10:03.592-0700\tindex: &idx.IndexDocument{Options:primitive.M{\"name\":\"id_1\", \"unique\":true, \"v\":2}, Key:primitive.D{primitive.E{Key:\"id\", Value:1}}, PartialFilterExpression:primitive.D(nil)}\n",
      "2025-08-08T14:10:03.592-0700\tindex: &idx.IndexDocument{Options:primitive.M{\"background\":true, \"name\":\"type_1\", \"v\":2}, Key:primitive.D{primitive.E{Key:\"type\", Value:1}}, PartialFilterExpression:primitive.D(nil)}\n",
      "2025-08-08T14:10:03.592-0700\trestoring indexes for collection nmdc.storage_process_set from metadata\n",
      "2025-08-08T14:10:03.592-0700\tindex: &idx.IndexDocument{Options:primitive.M{\"background\":true, \"name\":\"type_1\", \"v\":2}, Key:primitive.D{primitive.E{Key:\"type\", Value:1}}, PartialFilterExpression:primitive.D(nil)}\n",
      "2025-08-08T14:10:03.592-0700\tindex: &idx.IndexDocument{Options:primitive.M{\"name\":\"id_1\", \"unique\":true, \"v\":2}, Key:primitive.D{primitive.E{Key:\"id\", Value:1}}, PartialFilterExpression:primitive.D(nil)}\n",
      "2025-08-08T14:10:03.633-0700\trestoring indexes for collection nmdc.biosample_set from metadata\n",
      "2025-08-08T14:10:03.633-0700\tindex: &idx.IndexDocument{Options:primitive.M{\"background\":true, \"name\":\"lat_lon.longitude\", \"v\":2}, Key:primitive.D{primitive.E{Key:\"lat_lon.longitude\", Value:1}}, PartialFilterExpression:primitive.D(nil)}\n",
      "2025-08-08T14:10:03.633-0700\tindex: &idx.IndexDocument{Options:primitive.M{\"background\":true, \"name\":\"ecosystem_type\", \"v\":2}, Key:primitive.D{primitive.E{Key:\"ecosystem_type\", Value:1}}, PartialFilterExpression:primitive.D(nil)}\n",
      "2025-08-08T14:10:03.633-0700\tindex: &idx.IndexDocument{Options:primitive.M{\"name\":\"id_1\", \"unique\":true, \"v\":2}, Key:primitive.D{primitive.E{Key:\"id\", Value:1}}, PartialFilterExpression:primitive.D(nil)}\n",
      "2025-08-08T14:10:03.633-0700\tindex: &idx.IndexDocument{Options:primitive.M{\"background\":true, \"name\":\"specific_ecosystem\", \"v\":2}, Key:primitive.D{primitive.E{Key:\"specific_ecosystem\", Value:1}}, PartialFilterExpression:primitive.D(nil)}\n",
      "2025-08-08T14:10:03.633-0700\tindex: &idx.IndexDocument{Options:primitive.M{\"background\":true, \"name\":\"alternative_identifiers\", \"v\":2}, Key:primitive.D{primitive.E{Key:\"alternative_identifiers\", Value:1}}, PartialFilterExpression:primitive.D(nil)}\n",
      "2025-08-08T14:10:03.633-0700\tindex: &idx.IndexDocument{Options:primitive.M{\"background\":true, \"name\":\"ecosystem_subtype\", \"v\":2}, Key:primitive.D{primitive.E{Key:\"ecosystem_subtype\", Value:1}}, PartialFilterExpression:primitive.D(nil)}\n",
      "2025-08-08T14:10:03.633-0700\tindex: &idx.IndexDocument{Options:primitive.M{\"background\":true, \"name\":\"env_broad_scale.has_raw_value\", \"v\":2}, Key:primitive.D{primitive.E{Key:\"env_broad_scale.has_raw_value\", Value:1}}, PartialFilterExpression:primitive.D(nil)}\n",
      "2025-08-08T14:10:03.633-0700\tindex: &idx.IndexDocument{Options:primitive.M{\"background\":true, \"name\":\"env_local_scale.has_raw_value\", \"v\":2}, Key:primitive.D{primitive.E{Key:\"env_local_scale.has_raw_value\", Value:1}}, PartialFilterExpression:primitive.D(nil)}\n",
      "2025-08-08T14:10:03.633-0700\tindex: &idx.IndexDocument{Options:primitive.M{\"background\":true, \"name\":\"collection_date.has_raw_value\", \"v\":2}, Key:primitive.D{primitive.E{Key:\"collection_date.has_raw_value\", Value:1}}, PartialFilterExpression:primitive.D(nil)}\n",
      "2025-08-08T14:10:03.633-0700\tindex: &idx.IndexDocument{Options:primitive.M{\"background\":true, \"name\":\"type_1\", \"v\":2}, Key:primitive.D{primitive.E{Key:\"type\", Value:1}}, PartialFilterExpression:primitive.D(nil)}\n",
      "2025-08-08T14:10:03.633-0700\tindex: &idx.IndexDocument{Options:primitive.M{\"background\":true, \"name\":\"ecosystem_category\", \"v\":2}, Key:primitive.D{primitive.E{Key:\"ecosystem_category\", Value:1}}, PartialFilterExpression:primitive.D(nil)}\n",
      "2025-08-08T14:10:03.633-0700\tindex: &idx.IndexDocument{Options:primitive.M{\"background\":true, \"name\":\"env_medium.has_raw_value\", \"v\":2}, Key:primitive.D{primitive.E{Key:\"env_medium.has_raw_value\", Value:1}}, PartialFilterExpression:primitive.D(nil)}\n",
      "2025-08-08T14:10:03.633-0700\tindex: &idx.IndexDocument{Options:primitive.M{\"background\":true, \"name\":\"ecosystem\", \"v\":2}, Key:primitive.D{primitive.E{Key:\"ecosystem\", Value:1}}, PartialFilterExpression:primitive.D(nil)}\n",
      "2025-08-08T14:10:03.633-0700\tindex: &idx.IndexDocument{Options:primitive.M{\"background\":true, \"name\":\"lat_lon.latitude\", \"v\":2}, Key:primitive.D{primitive.E{Key:\"lat_lon.latitude\", Value:1}}, PartialFilterExpression:primitive.D(nil)}\n"
     ]
    },
    {
     "name": "stdout",
     "output_type": "stream",
     "text": [
      "\n",
      "Return code: 0\n"
     ]
    },
    {
     "name": "stderr",
     "output_type": "stream",
     "text": [
      "2025-08-08T14:10:03.903-0700\t32552 document(s) restored successfully. 0 document(s) failed to restore.\n"
     ]
    }
   ],
   "execution_count": 13
  },
  {
   "cell_type": "markdown",
   "id": "1d3e516513c3b7a8",
   "metadata": {},
   "source": [
    "### Transform the collections within the \"transformer\" MongoDB server\n",
    "\n",
    "Use the migrator to transform the collections in the \"transformer\" database.\n",
    "\n",
    "> Reminder: The database transformation functions are defined in the `nmdc-schema` Python package installed earlier.\n",
    "\n",
    "> Reminder: The \"origin\" database is **not** affected by this step."
   ]
  },
  {
   "cell_type": "code",
   "id": "282941a1a07a94cd",
   "metadata": {
    "ExecuteTime": {
     "end_time": "2025-08-08T21:11:41.920558Z",
     "start_time": "2025-08-08T21:10:58.700653Z"
    }
   },
   "source": [
    "# Instantiate a MongoAdapter bound to the \"transformer\" database.\n",
    "adapter = MongoAdapter(\n",
    "    database=transformer_mongo_client[cfg.transformer_mongo_database_name],\n",
    "    on_collection_created=lambda name: print(f'Created collection \"{name}\"'),\n",
    "    on_collection_renamed=lambda old_name, name: print(f'Renamed collection \"{old_name}\" to \"{name}\"'),\n",
    "    on_collection_deleted=lambda name: print(f'Deleted collection \"{name}\"'),\n",
    ")\n",
    "\n",
    "# Instantiate a Migrator bound to that adapter.\n",
    "logger = setup_logger()\n",
    "migrator = Migrator(adapter=adapter, logger=logger)\n",
    "\n",
    "# Execute the Migrator's `upgrade` method to perform the migration.\n",
    "migrator.upgrade(commit_changes=True)"
   ],
   "outputs": [
    {
     "name": "stderr",
     "output_type": "stream",
     "text": [
      "Running migrator 1 of 1\n",
      "Migrating from 11.9.1 to 11.10.0\n",
      "================================================================================\n",
      "MIGRATION SUMMARY\n",
      "================================================================================\n",
      "RECORDS UPDATED\n",
      "----------------------------------------\n",
      "Class                          SubClassType              Slot                      Source Value    Conformant   Not          Updated  Target Value   \n",
      "                                                                                                                Conformant                           \n",
      "-----------------------------------------------------------------------------------------------------------------------------------------------------------\n",
      "nmdc:Biosample                                           abs_air_humidity          kPa             192          0            0        kPa            \n",
      "nmdc:Biosample                                           ammonium                  micromol/L      0            275          275      umol/L         \n",
      "nmdc:Biosample                                           ammonium                  mg/L            45           0            0        mg/L           \n",
      "nmdc:Biosample                                           ammonium_nitrogen         mg/L            1239         0            0        mg/L           \n",
      "nmdc:Biosample                                           ammonium_nitrogen         mg/kg           103          0            0        mg/kg          \n",
      "nmdc:Biosample                                           avg_temp                  Cel             192          0            0        Cel            \n",
      "nmdc:Biosample                                           calcium                   mg/kg           103          0            0        mg/kg          \n",
      "nmdc:Biosample                                           calcium                   mg/L            6            0            0        mg/L           \n",
      "nmdc:Biosample                                           carb_nitro_ratio          <missing>       0            1190         1190     1              \n",
      "nmdc:Biosample                                           chloride                  mg/L            6            0            0        mg/L           \n",
      "nmdc:Biosample                                           chlorophyll               microg/L        0            128          128      ug/L           \n",
      "nmdc:Biosample                                           chlorophyll               μg/L            0            78           78       ug/L           \n",
      "nmdc:Biosample                                           conduc                    uS/cm           180          0            0        uS/cm          \n",
      "nmdc:Biosample                                           conduc                    milliSiemens/cm 0            117          117      mS/cm          \n",
      "nmdc:Biosample                                           conduc                    μS/cm           0            29           29       uS/cm          \n",
      "nmdc:Biosample                                           density                   kg/m3           153          0            0        kg/m3          \n",
      "nmdc:Biosample                                           depth                     m               5974         0            0        m              \n",
      "nmdc:Biosample                                           depth                     <missing>       0            4082         4082     m              \n",
      "nmdc:Biosample                                           depth                     meters          0            391          391      m              \n",
      "nmdc:Biosample                                           diss_inorg_carb           mg/L            25           0            0        mg/L           \n",
      "nmdc:Biosample                                           diss_inorg_nitro          mg/L            45           0            0        mg/L           \n",
      "nmdc:Biosample                                           diss_iron                 mg/L            6            0            0        mg/L           \n",
      "nmdc:Biosample                                           diss_org_carb             μg/L            0            31           31       ug/L           \n",
      "nmdc:Biosample                                           diss_org_carb             mg/L            25           0            0        mg/L           \n",
      "nmdc:Biosample                                           diss_oxygen               mg/L            464          0            0        mg/L           \n",
      "nmdc:Biosample                                           diss_oxygen               ml/L            0            101          101      mL/L           \n",
      "nmdc:Biosample                                           diss_oxygen               micromol/L      0            17           17       umol/L         \n",
      "nmdc:Biosample                                           fluor                     mg/m3           118          0            0        mg/m3          \n",
      "nmdc:Biosample                                           host_age                  days            0            138          138      d              \n",
      "nmdc:Biosample                                           host_age                  years           0            28           28       a              \n",
      "nmdc:Biosample                                           host_dry_mass             g               192          0            0        g              \n",
      "nmdc:Biosample                                           host_height               cm              192          0            0        cm             \n",
      "nmdc:Biosample                                           humidity                  %               192          0            0        %              \n",
      "nmdc:Biosample                                           lbc_thirty                ppm             0            103          103      [ppm]          \n",
      "nmdc:Biosample                                           lbceq                     ppm             0            103          103      [ppm]          \n",
      "nmdc:Biosample                                           magnesium                 mg/kg           103          0            0        mg/kg          \n",
      "nmdc:Biosample                                           magnesium                 mg/L            6            0            0        mg/L           \n",
      "nmdc:Biosample                                           manganese                 mg/kg           103          0            0        mg/kg          \n",
      "nmdc:Biosample                                           manganese                 mg/L            6            0            0        mg/L           \n",
      "nmdc:Biosample                                           nitrate                   micromol/L      0            275          275      umol/L         \n",
      "nmdc:Biosample                                           nitrate                   detection       0            18           18       umol/L         \n",
      "nmdc:Biosample                                           nitrate_nitrogen          mg/kg           103          0            0        mg/kg          \n",
      "nmdc:Biosample                                           nitrite                   micromol/L      0            275          275      umol/L         \n",
      "nmdc:Biosample                                           nitrite_nitrogen          mg/kg           103          0            0        mg/kg          \n",
      "nmdc:Biosample                                           nitro                     percent         0            919          919      %              \n",
      "nmdc:Biosample                                           org_carb                  percent         0            1407         1407     %              \n",
      "nmdc:Biosample                                           part_org_carb             mg/L            31           0            0        mg/L           \n",
      "nmdc:Biosample                                           part_org_nitro            mg/L            31           0            0        mg/L           \n",
      "nmdc:Biosample                                           phosphate                 micromol/L      0            275          275      umol/L         \n",
      "nmdc:Biosample                                           photon_flux               u[E]/m2/s       0            192          192      umol/m2/s      \n",
      "nmdc:Biosample                                           potassium                 mg/kg           103          0            0        mg/kg          \n",
      "nmdc:Biosample                                           potassium                 mg/L            6            0            0        mg/L           \n",
      "nmdc:Biosample                                           salinity                  <missing>       0            17           17       mg/L           \n",
      "nmdc:Biosample                                           salinity                  <missing>       0            2            2        %              \n",
      "nmdc:Biosample                                           samp_size                 mL              629          0            0        mL             \n",
      "nmdc:Biosample                                           samp_size                 g               36           0            0        g              \n",
      "nmdc:Biosample                                           samp_store_temp           Celsius         0            3833         3833     Cel            \n",
      "nmdc:Biosample                                           samp_store_temp           Cel             192          0            0        Cel            \n",
      "nmdc:Biosample                                           samp_store_temp           Celcius         0            152          152      Cel            \n",
      "nmdc:Biosample                                           samp_store_temp           C               0            42           42       Cel            \n",
      "nmdc:Biosample                                           silicate                  micromol/L      0            275          275      umol/L         \n",
      "nmdc:Biosample                                           size_frac_low             um              31           0            0        um             \n",
      "nmdc:Biosample                                           sodium                    mg/L            6            0            0        mg/L           \n",
      "nmdc:Biosample                                           solar_irradiance          W/m2            192          0            0        W/m2           \n",
      "nmdc:Biosample                                           soluble_react_phosp       mg/L            45           0            0        mg/L           \n",
      "nmdc:Biosample                                           soluble_react_phosp       μg/L            0            31           31       ug/L           \n",
      "nmdc:Biosample                                           subsurface_depth          meter           0            1            1        m              \n",
      "nmdc:Biosample                                           sulfate                   mg/L            6            0            0        mg/L           \n",
      "nmdc:Biosample                                           suspend_part_matter       mg/L            31           0            0        mg/L           \n",
      "nmdc:Biosample                                           temp                      Celsius         0            4352         4352     Cel            \n",
      "nmdc:Biosample                                           temp                      C               0            666          666      Cel            \n",
      "nmdc:Biosample                                           temp                      Cel             180          0            0        Cel            \n",
      "nmdc:Biosample                                           tot_carb                  %               192          0            0        %              \n",
      "nmdc:Biosample                                           tot_diss_nitro            micromol/L      0            64           64       umol/L         \n",
      "nmdc:Biosample                                           tot_nitro                 Percent         0            103          103      %              \n",
      "nmdc:Biosample                                           tot_nitro                 mg/L            31           0            0        mg/L           \n",
      "nmdc:Biosample                                           tot_nitro_content         mg/L            1240         0            0        mg/L           \n",
      "nmdc:Biosample                                           tot_nitro_content         %               192          0            0        %              \n",
      "nmdc:Biosample                                           tot_org_carb              mg/L            26           0            0        mg/L           \n",
      "nmdc:Biosample                                           tot_org_carb              <missing>       0            6            6        mg/L           \n",
      "nmdc:Biosample                                           tot_phosp                 ppm             0            127          127      [ppm]          \n",
      "nmdc:Biosample                                           tot_phosp                 micromol/L      0            64           64       umol/L         \n",
      "nmdc:Biosample                                           tot_phosp                 mg/L            45           0            0        mg/L           \n",
      "nmdc:Biosample                                           wind_speed                m/s             192          0            0        m/s            \n",
      "nmdc:Biosample                                           zinc                      mg/kg           103          0            0        mg/kg          \n",
      "nmdc:ChemicalConversionProcess                           duration                  h               72           0            0        h              \n",
      "nmdc:ChemicalConversionProcess nmdc:PortionOfSubstance   substances_used.volume    mL              72           0            0        mL             \n",
      "nmdc:ChemicalConversionProcess                           temperature               C               0            72           72       Cel            \n",
      "nmdc:ChromatographicSeparationProcess nmdc:PortionOfSubstance   ordered_mobile_phases.substances_used.source_concentration mM              0            747          747      mmol/L         \n",
      "nmdc:ChromatographicSeparationProcess nmdc:PortionOfSubstance   ordered_mobile_phases.substances_used.source_concentration percent         0            398          398      %              \n",
      "nmdc:ChromatographicSeparationProcess nmdc:PortionOfSubstance   ordered_mobile_phases.substances_used.volume mL              2241         0            0        mL             \n",
      "nmdc:ChromatographicSeparationProcess nmdc:PortionOfSubstance   ordered_mobile_phases.substances_used.volume uL              398          0            0        uL             \n",
      "nmdc:ChromatographyConfiguration nmdc:MobilePhaseSegment   ordered_mobile_phases.duration min             8            0            0        min            \n",
      "nmdc:ChromatographyConfiguration nmdc:MobilePhaseSegment   ordered_mobile_phases.duration minute          0            6            6        min            \n",
      "nmdc:ChromatographyConfiguration nmdc:PortionOfSubstance   ordered_mobile_phases.substances_used.final_concentration %               29           0            0        %              \n",
      "nmdc:ChromatographyConfiguration nmdc:PortionOfSubstance   ordered_mobile_phases.substances_used.final_concentration mM              0            2            2        mmol/L         \n",
      "nmdc:ChromatographyConfiguration nmdc:PortionOfSubstance   ordered_mobile_phases.substances_used.final_concentration mmol/L          2            0            0        mmol/L         \n",
      "nmdc:ChromatographyConfiguration nmdc:PortionOfSubstance   ordered_mobile_phases.substances_used.final_concentration umol/L          1            0            0        umol/L         \n",
      "nmdc:ChromatographyConfiguration                           temperature               Cel             4            0            0        Cel            \n",
      "nmdc:DissolvingProcess         nmdc:PortionOfSubstance   substances_used.volume    mL              88           0            0        mL             \n",
      "nmdc:Extraction                                          input_mass                g               2524         0            0        g              \n",
      "nmdc:Extraction                nmdc:PortionOfSubstance   substances_used.volume    mL              1515         0            0        mL             \n",
      "nmdc:Extraction                                          temperature               Cel             207          0            0        Cel            \n",
      "nmdc:SubSamplingProcess                                  mass                      g               582          0            0        g              \n",
      "\n",
      "UNMAPPED VALUES\n",
      "----------------------------------------\n",
      "No unmapped values found.\n",
      "\n",
      "MISSING VALUES\n",
      "----------------------------------------\n",
      "No missing values found.\n",
      "\n",
      "================================================================================\n",
      "Migration validation passed. Transaction committed (changes have been saved)\n"
     ]
    }
   ],
   "execution_count": 14
  },
  {
   "cell_type": "markdown",
   "id": "673e10ac5be8f3d8",
   "metadata": {},
   "source": [
    "### Validate the transformed documents\n",
    "\n",
    "Now that we have transformed the database, validate each document in each collection in the \"transformer\" MongoDB server."
   ]
  },
  {
   "cell_type": "code",
   "id": "b70d83efc93ba0e8",
   "metadata": {
    "ExecuteTime": {
     "end_time": "2025-08-08T21:12:05.678811Z",
     "start_time": "2025-08-08T21:11:48.589262Z"
    }
   },
   "source": [
    "# Get the names of all collections.\n",
    "collection_names: List[str] = get_collection_names_from_schema(schema_view)\n",
    "\n",
    "# Ensure that, if the (large) \"functional_annotation_agg\" collection is present in `collection_names`,\n",
    "# it goes at the end of the list we process. That way, we can find out about validation errors in\n",
    "# other collections without having to wait for that (large) collection to be validated.\n",
    "ordered_collection_names = sorted(collection_names.copy())\n",
    "large_collection_name = \"functional_annotation_agg\"\n",
    "if large_collection_name in ordered_collection_names:\n",
    "    ordered_collection_names = list(filter(lambda n: n != large_collection_name, ordered_collection_names))\n",
    "    ordered_collection_names.append(large_collection_name)  # puts it last\n",
    "\n",
    "# Process each collection.\n",
    "for collection_name in ordered_collection_names:\n",
    "    collection = transformer_mongo_client[cfg.transformer_mongo_database_name][collection_name]\n",
    "    num_documents_in_collection = collection.count_documents({})\n",
    "    print(f\"Validating collection {collection_name} ({num_documents_in_collection} documents) [\", end=\"\")  # no newline\n",
    "\n",
    "    # Calculate how often we'll display a tick mark (i.e. a sign of life).\n",
    "    num_documents_per_tick = num_documents_in_collection * 0.10  # one tenth of the total\n",
    "    num_documents_since_last_tick = 0\n",
    "\n",
    "    for document in collection.find():\n",
    "        # Validate the transformed document.\n",
    "        #\n",
    "        # Reference: https://github.com/microbiomedata/nmdc-schema/blob/main/src/docs/schema-validation.md\n",
    "        #\n",
    "        # Note: Dictionaries originating as Mongo documents include a Mongo-generated key named `_id`. However,\n",
    "        #       the NMDC Schema does not describe that key and, indeed, data validators consider dictionaries\n",
    "        #       containing that key to be invalid with respect to the NMDC Schema. So, here, we validate a\n",
    "        #       copy (i.e. a shallow copy) of the document that lacks that specific key.\n",
    "        #\n",
    "        # Note: The reason we don't use a progress bar library such as `rich[jupyter]`, `tqdm`, or `ipywidgets`\n",
    "        #       is that _PyCharm's_ Jupyter Notebook integration doesn't fully work with any of them. :(\n",
    "        #\n",
    "        schema_class_name = derive_schema_class_name_from_document(schema_view=schema_view, document=document)\n",
    "        document_without_underscore_id_key = {key: value for key, value in document.items() if key != \"_id\"}\n",
    "        validation_report: ValidationReport = validator.validate(document_without_underscore_id_key, schema_class_name)\n",
    "        if len(validation_report.results) > 0:\n",
    "            result_messages = [result.message for result in validation_report.results]\n",
    "            raise TypeError(f\"Document is invalid.\\n{result_messages=}\\n{document_without_underscore_id_key=}\")\n",
    "\n",
    "        # Display a tick mark if we have validated enough documents since we last displayed one.\n",
    "        num_documents_since_last_tick += 1\n",
    "        if num_documents_since_last_tick >= num_documents_per_tick:\n",
    "            num_documents_since_last_tick = 0\n",
    "            print(\".\", end=\"\")  # no newline\n",
    "\n",
    "    print(\"]\")"
   ],
   "outputs": [
    {
     "name": "stdout",
     "output_type": "stream",
     "text": [
      "Validating collection biosample_set (13248 documents) [.........]\n",
      "Validating collection calibration_set (0 documents) []\n",
      "Validating collection collecting_biosamples_from_site_set (0 documents) []\n",
      "Validating collection configuration_set (19 documents) [.........]\n",
      "Validating collection data_generation_set (0 documents) []\n",
      "Validating collection data_object_set (0 documents) []\n",
      "Validating collection field_research_site_set (0 documents) []\n",
      "Validating collection functional_annotation_set (0 documents) []\n",
      "Validating collection genome_feature_set (0 documents) []\n",
      "Validating collection instrument_set (0 documents) []\n",
      "Validating collection manifest_set (0 documents) []\n",
      "Validating collection material_processing_set (9242 documents) [.........]\n",
      "Validating collection processed_sample_set (10043 documents) [.........]\n",
      "Validating collection storage_process_set (0 documents) []\n",
      "Validating collection study_set (0 documents) []\n",
      "Validating collection workflow_execution_set (0 documents) []\n",
      "Validating collection functional_annotation_agg (0 documents) []\n"
     ]
    }
   ],
   "execution_count": 15
  },
  {
   "cell_type": "markdown",
   "id": "992778323e5abf6a",
   "metadata": {},
   "source": [
    "### Dump the collections from the \"transformer\" MongoDB server\n",
    "\n",
    "Now that the collections have been transformed and validated, dump them **from** the \"transformer\" MongoDB server **into** a local directory."
   ]
  },
  {
   "cell_type": "code",
   "id": "e05899950263caa8",
   "metadata": {
    "ExecuteTime": {
     "end_time": "2025-08-08T21:12:12.311711Z",
     "start_time": "2025-08-08T21:12:12.001407Z"
    }
   },
   "source": [
    "# Dump the database from the \"transformer\" MongoDB server.\n",
    "shell_command = f\"\"\"\n",
    "  {mongodump} {transformer_mongo_cli_base_options} \\\n",
    "      --db='{cfg.transformer_mongo_database_name}' \\\n",
    "      --out='{cfg.transformer_dump_folder_path}' \\\n",
    "      --gzip\n",
    "\"\"\"\n",
    "completed_process = subprocess.run(shell_command, shell=True)\n",
    "print(f\"\\nReturn code: {completed_process.returncode}\")"
   ],
   "outputs": [
    {
     "name": "stderr",
     "output_type": "stream",
     "text": [
      "2025-08-08T14:12:12.081-0700\twriting nmdc.biosample_set to mongodump.transformer.out/nmdc/biosample_set.bson.gz\n",
      "2025-08-08T14:12:12.082-0700\twriting nmdc.processed_sample_set to mongodump.transformer.out/nmdc/processed_sample_set.bson.gz\n",
      "2025-08-08T14:12:12.082-0700\twriting nmdc.material_processing_set to mongodump.transformer.out/nmdc/material_processing_set.bson.gz\n",
      "2025-08-08T14:12:12.087-0700\twriting nmdc.configuration_set to mongodump.transformer.out/nmdc/configuration_set.bson.gz\n",
      "2025-08-08T14:12:12.089-0700\tdone dumping nmdc.configuration_set (19 documents)\n",
      "2025-08-08T14:12:12.090-0700\twriting nmdc.storage_process_set to mongodump.transformer.out/nmdc/storage_process_set.bson.gz\n",
      "2025-08-08T14:12:12.094-0700\tdone dumping nmdc.storage_process_set (0 documents)\n",
      "2025-08-08T14:12:12.127-0700\tdone dumping nmdc.processed_sample_set (10043 documents)\n",
      "2025-08-08T14:12:12.155-0700\tdone dumping nmdc.material_processing_set (9242 documents)\n"
     ]
    },
    {
     "name": "stdout",
     "output_type": "stream",
     "text": [
      "\n",
      "Return code: 0\n"
     ]
    },
    {
     "name": "stderr",
     "output_type": "stream",
     "text": [
      "2025-08-08T14:12:12.306-0700\tdone dumping nmdc.biosample_set (13248 documents)\n"
     ]
    }
   ],
   "execution_count": 16
  },
  {
   "cell_type": "markdown",
   "id": "333a58b11c25631",
   "metadata": {},
   "source": [
    "### Create a bookkeeper\n",
    "\n",
    "Create a `Bookkeeper` that can be used to document migration events in the \"origin\" server."
   ]
  },
  {
   "cell_type": "code",
   "id": "b35d302475b22ea9",
   "metadata": {
    "ExecuteTime": {
     "end_time": "2025-08-08T21:12:15.793943Z",
     "start_time": "2025-08-08T21:12:15.764175Z"
    }
   },
   "source": [
    "bookkeeper = Bookkeeper(mongo_client=origin_mongo_client)"
   ],
   "outputs": [],
   "execution_count": 17
  },
  {
   "cell_type": "markdown",
   "id": "2e0866a47939597d",
   "metadata": {},
   "source": [
    "### Indicate — on the \"origin\" server — that the migration is underway\n",
    "\n",
    "Add an entry to the migration log collection to indicate that this migration has started."
   ]
  },
  {
   "cell_type": "code",
   "id": "b08824e7b1f59c46",
   "metadata": {
    "ExecuteTime": {
     "end_time": "2025-08-08T21:12:20.437074Z",
     "start_time": "2025-08-08T21:12:20.419841Z"
    }
   },
   "source": [
    "bookkeeper.record_migration_event(migrator=migrator, event=MigrationEvent.MIGRATION_STARTED)"
   ],
   "outputs": [],
   "execution_count": 18
  },
  {
   "cell_type": "markdown",
   "id": "2982d126803c6558",
   "metadata": {},
   "source": [
    "### Skipped: Drop the original collections from the \"origin\" MongoDB server\n",
    "\n",
    "Note: This step is necessary for migrations where collections are being renamed or deleted. (The `--drop` option of `mongorestore` would only drop collections that exist in the dump being restored, which would not include renamed or deleted collections.)\n",
    "\n",
    "In the case of _this_ migration, no collections are being renamed or deleted. So, we can skip this step. The collections that the migrator _did_ transform, will still be dropped when we run `mongorestore` with the `--drop` option later in this notebook.\n"
   ]
  },
  {
   "cell_type": "code",
   "id": "1b5a6f4e30f3d6f1",
   "metadata": {
    "ExecuteTime": {
     "end_time": "2025-08-08T21:12:23.123110Z",
     "start_time": "2025-08-08T21:12:23.120170Z"
    }
   },
   "source": [
    "print(\"skipped\")\n",
    "\n",
    "# shell_command = f\"\"\"\n",
    "#   {cfg.mongosh_path} {origin_mongo_cli_base_options} \\\n",
    "#       --eval 'use {cfg.origin_mongo_database_name}' \\\n",
    "#       --eval 'db.dropDatabase()'\n",
    "# \"\"\"\n",
    "# completed_process = subprocess.run(shell_command, shell=True)\n",
    "# print(f\"\\nReturn code: {completed_process.returncode}\")"
   ],
   "outputs": [
    {
     "name": "stdout",
     "output_type": "stream",
     "text": [
      "skipped\n"
     ]
    }
   ],
   "execution_count": 19
  },
  {
   "cell_type": "markdown",
   "id": "8d2845a0322bfc8c",
   "metadata": {},
   "source": [
    "### Load the collections into the \"origin\" MongoDB server\n",
    "\n",
    "Load the transformed collections into the \"origin\" MongoDB server."
   ]
  },
  {
   "cell_type": "code",
   "id": "248c443030832cdf",
   "metadata": {
    "ExecuteTime": {
     "end_time": "2025-08-08T21:12:26.349257Z",
     "start_time": "2025-08-08T21:12:25.063201Z"
    }
   },
   "source": [
    "# Load the transformed collections into the origin server, replacing any same-named ones that are there.\n",
    "shell_command = f\"\"\"\n",
    "  {mongorestore} {origin_mongo_cli_base_options} \\\n",
    "      --nsFrom='{cfg.transformer_mongo_database_name}.*' \\\n",
    "      --nsTo='{cfg.origin_mongo_database_name}.*' \\\n",
    "      --dir='{cfg.transformer_dump_folder_path}' \\\n",
    "      --stopOnError \\\n",
    "      --verbose \\\n",
    "      --drop \\\n",
    "      --gzip\n",
    "\"\"\"\n",
    "completed_process = subprocess.run(shell_command, shell=True)\n",
    "print(f\"\\nReturn code: {completed_process.returncode}\")"
   ],
   "outputs": [
    {
     "name": "stderr",
     "output_type": "stream",
     "text": [
      "2025-08-08T14:12:25.128-0700\tusing --dir flag instead of arguments\n",
      "2025-08-08T14:12:25.128-0700\tusing write concern: &{majority false 0}\n",
      "2025-08-08T14:12:25.146-0700\tpreparing collections to restore from\n",
      "2025-08-08T14:12:25.147-0700\tfound collection nmdc.biosample_set bson to restore to nmdc.biosample_set\n",
      "2025-08-08T14:12:25.147-0700\tfound collection metadata from nmdc.biosample_set to restore to nmdc.biosample_set\n",
      "2025-08-08T14:12:25.147-0700\tfound collection nmdc.configuration_set bson to restore to nmdc.configuration_set\n",
      "2025-08-08T14:12:25.147-0700\tfound collection metadata from nmdc.configuration_set to restore to nmdc.configuration_set\n",
      "2025-08-08T14:12:25.147-0700\tfound collection nmdc.material_processing_set bson to restore to nmdc.material_processing_set\n",
      "2025-08-08T14:12:25.147-0700\tfound collection metadata from nmdc.material_processing_set to restore to nmdc.material_processing_set\n",
      "2025-08-08T14:12:25.147-0700\tfound collection nmdc.processed_sample_set bson to restore to nmdc.processed_sample_set\n",
      "2025-08-08T14:12:25.147-0700\tfound collection metadata from nmdc.processed_sample_set to restore to nmdc.processed_sample_set\n",
      "2025-08-08T14:12:25.147-0700\tfound collection nmdc.storage_process_set bson to restore to nmdc.storage_process_set\n",
      "2025-08-08T14:12:25.147-0700\tfound collection metadata from nmdc.storage_process_set to restore to nmdc.storage_process_set\n",
      "2025-08-08T14:12:25.147-0700\treading metadata for nmdc.material_processing_set from mongodump.transformer.out/nmdc/material_processing_set.metadata.json.gz\n",
      "2025-08-08T14:12:25.147-0700\treading metadata for nmdc.processed_sample_set from mongodump.transformer.out/nmdc/processed_sample_set.metadata.json.gz\n",
      "2025-08-08T14:12:25.147-0700\treading metadata for nmdc.storage_process_set from mongodump.transformer.out/nmdc/storage_process_set.metadata.json.gz\n",
      "2025-08-08T14:12:25.147-0700\treading metadata for nmdc.biosample_set from mongodump.transformer.out/nmdc/biosample_set.metadata.json.gz\n",
      "2025-08-08T14:12:25.147-0700\treading metadata for nmdc.configuration_set from mongodump.transformer.out/nmdc/configuration_set.metadata.json.gz\n",
      "2025-08-08T14:12:25.153-0700\tdropping collection nmdc.biosample_set before restoring\n",
      "2025-08-08T14:12:25.153-0700\tdropping collection nmdc.material_processing_set before restoring\n",
      "2025-08-08T14:12:25.153-0700\tdropping collection nmdc.processed_sample_set before restoring\n",
      "2025-08-08T14:12:25.153-0700\tdropping collection nmdc.configuration_set before restoring\n",
      "2025-08-08T14:12:25.161-0700\tcreating collection nmdc.configuration_set with no metadata\n",
      "2025-08-08T14:12:25.161-0700\tcreating collection nmdc.biosample_set with no metadata\n",
      "2025-08-08T14:12:25.163-0700\tcreating collection nmdc.material_processing_set with no metadata\n",
      "2025-08-08T14:12:25.182-0700\tcreating collection nmdc.processed_sample_set with no metadata\n",
      "2025-08-08T14:12:25.182-0700\trestoring nmdc.configuration_set from mongodump.transformer.out/nmdc/configuration_set.bson.gz\n",
      "2025-08-08T14:12:25.185-0700\trestoring nmdc.material_processing_set from mongodump.transformer.out/nmdc/material_processing_set.bson.gz\n",
      "2025-08-08T14:12:25.189-0700\trestoring nmdc.biosample_set from mongodump.transformer.out/nmdc/biosample_set.bson.gz\n",
      "2025-08-08T14:12:25.200-0700\tfinished restoring nmdc.configuration_set (19 documents, 0 failures)\n",
      "2025-08-08T14:12:25.200-0700\tdropping collection nmdc.storage_process_set before restoring\n",
      "2025-08-08T14:12:25.201-0700\trestoring nmdc.processed_sample_set from mongodump.transformer.out/nmdc/processed_sample_set.bson.gz\n",
      "2025-08-08T14:12:25.205-0700\tcreating collection nmdc.storage_process_set with no metadata\n",
      "2025-08-08T14:12:25.220-0700\trestoring nmdc.storage_process_set from mongodump.transformer.out/nmdc/storage_process_set.bson.gz\n",
      "2025-08-08T14:12:25.231-0700\tfinished restoring nmdc.storage_process_set (0 documents, 0 failures)\n",
      "2025-08-08T14:12:25.420-0700\tfinished restoring nmdc.processed_sample_set (10043 documents, 0 failures)\n",
      "2025-08-08T14:12:25.477-0700\tfinished restoring nmdc.material_processing_set (9242 documents, 0 failures)\n",
      "2025-08-08T14:12:26.011-0700\tfinished restoring nmdc.biosample_set (13248 documents, 0 failures)\n",
      "2025-08-08T14:12:26.011-0700\trestoring indexes for collection nmdc.material_processing_set from metadata\n",
      "2025-08-08T14:12:26.011-0700\tindex: &idx.IndexDocument{Options:primitive.M{\"name\":\"id_1\", \"unique\":true, \"v\":2}, Key:primitive.D{primitive.E{Key:\"id\", Value:1}}, PartialFilterExpression:primitive.D(nil)}\n",
      "2025-08-08T14:12:26.011-0700\tindex: &idx.IndexDocument{Options:primitive.M{\"background\":true, \"name\":\"type_1\", \"v\":2}, Key:primitive.D{primitive.E{Key:\"type\", Value:1}}, PartialFilterExpression:primitive.D(nil)}\n",
      "2025-08-08T14:12:26.011-0700\t\trun create Index command for indexes: id_1, type_1\n",
      "2025-08-08T14:12:26.012-0700\trestoring indexes for collection nmdc.processed_sample_set from metadata\n",
      "2025-08-08T14:12:26.012-0700\tindex: &idx.IndexDocument{Options:primitive.M{\"name\":\"id_1\", \"unique\":true, \"v\":2}, Key:primitive.D{primitive.E{Key:\"id\", Value:1}}, PartialFilterExpression:primitive.D(nil)}\n",
      "2025-08-08T14:12:26.012-0700\tindex: &idx.IndexDocument{Options:primitive.M{\"background\":true, \"name\":\"type_1\", \"v\":2}, Key:primitive.D{primitive.E{Key:\"type\", Value:1}}, PartialFilterExpression:primitive.D(nil)}\n",
      "2025-08-08T14:12:26.012-0700\t\trun create Index command for indexes: id_1, type_1\n",
      "2025-08-08T14:12:26.012-0700\trestoring indexes for collection nmdc.storage_process_set from metadata\n",
      "2025-08-08T14:12:26.012-0700\tindex: &idx.IndexDocument{Options:primitive.M{\"background\":true, \"name\":\"type_1\", \"v\":2}, Key:primitive.D{primitive.E{Key:\"type\", Value:1}}, PartialFilterExpression:primitive.D(nil)}\n",
      "2025-08-08T14:12:26.012-0700\tindex: &idx.IndexDocument{Options:primitive.M{\"name\":\"id_1\", \"unique\":true, \"v\":2}, Key:primitive.D{primitive.E{Key:\"id\", Value:1}}, PartialFilterExpression:primitive.D(nil)}\n",
      "2025-08-08T14:12:26.012-0700\t\trun create Index command for indexes: type_1, id_1\n",
      "2025-08-08T14:12:26.012-0700\trestoring indexes for collection nmdc.biosample_set from metadata\n",
      "2025-08-08T14:12:26.012-0700\tindex: &idx.IndexDocument{Options:primitive.M{\"background\":true, \"name\":\"alternative_identifiers\", \"v\":2}, Key:primitive.D{primitive.E{Key:\"alternative_identifiers\", Value:1}}, PartialFilterExpression:primitive.D(nil)}\n",
      "2025-08-08T14:12:26.012-0700\tindex: &idx.IndexDocument{Options:primitive.M{\"background\":true, \"name\":\"ecosystem_subtype\", \"v\":2}, Key:primitive.D{primitive.E{Key:\"ecosystem_subtype\", Value:1}}, PartialFilterExpression:primitive.D(nil)}\n",
      "2025-08-08T14:12:26.012-0700\tindex: &idx.IndexDocument{Options:primitive.M{\"background\":true, \"name\":\"env_local_scale.has_raw_value\", \"v\":2}, Key:primitive.D{primitive.E{Key:\"env_local_scale.has_raw_value\", Value:1}}, PartialFilterExpression:primitive.D(nil)}\n",
      "2025-08-08T14:12:26.012-0700\tindex: &idx.IndexDocument{Options:primitive.M{\"background\":true, \"name\":\"ecosystem_type\", \"v\":2}, Key:primitive.D{primitive.E{Key:\"ecosystem_type\", Value:1}}, PartialFilterExpression:primitive.D(nil)}\n",
      "2025-08-08T14:12:26.012-0700\tindex: &idx.IndexDocument{Options:primitive.M{\"background\":true, \"name\":\"type_1\", \"v\":2}, Key:primitive.D{primitive.E{Key:\"type\", Value:1}}, PartialFilterExpression:primitive.D(nil)}\n",
      "2025-08-08T14:12:26.012-0700\tindex: &idx.IndexDocument{Options:primitive.M{\"background\":true, \"name\":\"ecosystem_category\", \"v\":2}, Key:primitive.D{primitive.E{Key:\"ecosystem_category\", Value:1}}, PartialFilterExpression:primitive.D(nil)}\n",
      "2025-08-08T14:12:26.012-0700\tindex: &idx.IndexDocument{Options:primitive.M{\"background\":true, \"name\":\"env_medium.has_raw_value\", \"v\":2}, Key:primitive.D{primitive.E{Key:\"env_medium.has_raw_value\", Value:1}}, PartialFilterExpression:primitive.D(nil)}\n",
      "2025-08-08T14:12:26.012-0700\tindex: &idx.IndexDocument{Options:primitive.M{\"background\":true, \"name\":\"ecosystem\", \"v\":2}, Key:primitive.D{primitive.E{Key:\"ecosystem\", Value:1}}, PartialFilterExpression:primitive.D(nil)}\n",
      "2025-08-08T14:12:26.012-0700\tindex: &idx.IndexDocument{Options:primitive.M{\"background\":true, \"name\":\"lat_lon.latitude\", \"v\":2}, Key:primitive.D{primitive.E{Key:\"lat_lon.latitude\", Value:1}}, PartialFilterExpression:primitive.D(nil)}\n",
      "2025-08-08T14:12:26.012-0700\tindex: &idx.IndexDocument{Options:primitive.M{\"background\":true, \"name\":\"lat_lon.longitude\", \"v\":2}, Key:primitive.D{primitive.E{Key:\"lat_lon.longitude\", Value:1}}, PartialFilterExpression:primitive.D(nil)}\n",
      "2025-08-08T14:12:26.012-0700\tindex: &idx.IndexDocument{Options:primitive.M{\"background\":true, \"name\":\"specific_ecosystem\", \"v\":2}, Key:primitive.D{primitive.E{Key:\"specific_ecosystem\", Value:1}}, PartialFilterExpression:primitive.D(nil)}\n",
      "2025-08-08T14:12:26.012-0700\tindex: &idx.IndexDocument{Options:primitive.M{\"background\":true, \"name\":\"collection_date.has_raw_value\", \"v\":2}, Key:primitive.D{primitive.E{Key:\"collection_date.has_raw_value\", Value:1}}, PartialFilterExpression:primitive.D(nil)}\n",
      "2025-08-08T14:12:26.012-0700\tindex: &idx.IndexDocument{Options:primitive.M{\"name\":\"id_1\", \"unique\":true, \"v\":2}, Key:primitive.D{primitive.E{Key:\"id\", Value:1}}, PartialFilterExpression:primitive.D(nil)}\n",
      "2025-08-08T14:12:26.012-0700\tindex: &idx.IndexDocument{Options:primitive.M{\"background\":true, \"name\":\"env_broad_scale.has_raw_value\", \"v\":2}, Key:primitive.D{primitive.E{Key:\"env_broad_scale.has_raw_value\", Value:1}}, PartialFilterExpression:primitive.D(nil)}\n",
      "2025-08-08T14:12:26.012-0700\t\trun create Index command for indexes: alternative_identifiers, ecosystem_subtype, env_local_scale.has_raw_value, ecosystem_type, type_1, ecosystem_category, env_medium.has_raw_value, ecosystem, lat_lon.latitude, lat_lon.longitude, specific_ecosystem, collection_date.has_raw_value, id_1, env_broad_scale.has_raw_value\n",
      "2025-08-08T14:12:26.053-0700\trestoring indexes for collection nmdc.configuration_set from metadata\n",
      "2025-08-08T14:12:26.053-0700\tindex: &idx.IndexDocument{Options:primitive.M{\"name\":\"id_1\", \"unique\":true, \"v\":2}, Key:primitive.D{primitive.E{Key:\"id\", Value:1}}, PartialFilterExpression:primitive.D(nil)}\n",
      "2025-08-08T14:12:26.053-0700\tindex: &idx.IndexDocument{Options:primitive.M{\"background\":true, \"name\":\"type_1\", \"v\":2}, Key:primitive.D{primitive.E{Key:\"type\", Value:1}}, PartialFilterExpression:primitive.D(nil)}\n",
      "2025-08-08T14:12:26.053-0700\t\trun create Index command for indexes: id_1, type_1\n"
     ]
    },
    {
     "name": "stdout",
     "output_type": "stream",
     "text": [
      "\n",
      "Return code: 0\n"
     ]
    },
    {
     "name": "stderr",
     "output_type": "stream",
     "text": [
      "2025-08-08T14:12:26.344-0700\t32552 document(s) restored successfully. 0 document(s) failed to restore.\n"
     ]
    }
   ],
   "execution_count": 20
  },
  {
   "cell_type": "markdown",
   "id": "777204c62e37c908",
   "metadata": {},
   "source": [
    "### Indicate that the migration is complete\n",
    "\n",
    "Add an entry to the migration log collection to indicate that this migration is complete."
   ]
  },
  {
   "cell_type": "code",
   "id": "596aba5ac125cb65",
   "metadata": {
    "ExecuteTime": {
     "end_time": "2025-08-08T21:12:35.906231Z",
     "start_time": "2025-08-08T21:12:35.890996Z"
    }
   },
   "source": [
    "bookkeeper.record_migration_event(migrator=migrator, event=MigrationEvent.MIGRATION_COMPLETED)"
   ],
   "outputs": [],
   "execution_count": 21
  },
  {
   "cell_type": "markdown",
   "id": "a7cac4478a921c3d",
   "metadata": {},
   "source": [
    "### Restore access to the \"origin\" MongoDB server\n",
    "\n",
    "This effectively un-does the access revocation that we did earlier."
   ]
  },
  {
   "cell_type": "code",
   "id": "db70dca5eb1e31e7",
   "metadata": {
    "ExecuteTime": {
     "end_time": "2025-08-08T21:12:38.798899Z",
     "start_time": "2025-08-08T21:12:37.807615Z"
    }
   },
   "source": [
    "shell_command = f\"\"\"\n",
    "  {cfg.mongosh_path} {origin_mongo_cli_base_options} \\\n",
    "      --file='mongosh-scripts/restore-privileges.mongo.js' \\\n",
    "      --quiet\n",
    "\"\"\"\n",
    "completed_process = subprocess.run(shell_command, shell=True)\n",
    "print(f\"\\nReturn code: {completed_process.returncode}\")"
   ],
   "outputs": [
    {
     "name": "stdout",
     "output_type": "stream",
     "text": [
      "\n",
      "Return code: 1\n"
     ]
    },
    {
     "name": "stderr",
     "output_type": "stream",
     "text": [
      "MongoServerError: Could not find role: nmdc_runtime@admin\n"
     ]
    }
   ],
   "execution_count": 22
  }
 ],
 "metadata": {
  "kernelspec": {
   "display_name": ".venv",
   "language": "python",
   "name": "python3"
  },
  "language_info": {
   "codemirror_mode": {
    "name": "ipython",
    "version": 3
   },
   "file_extension": ".py",
   "mimetype": "text/x-python",
   "name": "python",
   "nbconvert_exporter": "python",
   "pygments_lexer": "ipython3",
   "version": "3.12.9"
  }
 },
 "nbformat": 4,
 "nbformat_minor": 5
}
