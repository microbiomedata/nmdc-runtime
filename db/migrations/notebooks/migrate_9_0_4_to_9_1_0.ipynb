{
 "cells": [
  {
   "cell_type": "markdown",
   "source": [
    "# Migrate Mongo data from `nmdc-schema` `v9.0.4` to `v9.1.0`\n",
    "\n",
    "This migration is a [no-op](https://en.wikipedia.org/wiki/NOP_(code)) (nothing to do)."
   ],
   "metadata": {
    "collapsed": false
   },
   "id": "37424e9ceccffe70"
  },
  {
   "cell_type": "code",
   "execution_count": 4,
   "outputs": [],
   "source": [
    "# Do nothing.\n",
    "pass"
   ],
   "metadata": {
    "collapsed": false,
    "ExecuteTime": {
     "end_time": "2023-11-29T05:19:55.043018Z",
     "start_time": "2023-11-29T05:19:55.039907Z"
    }
   },
   "id": "3c27410cfb3021aa"
  }
 ],
 "metadata": {
  "kernelspec": {
   "display_name": "Python 3",
   "language": "python",
   "name": "python3"
  },
  "language_info": {
   "codemirror_mode": {
    "name": "ipython",
    "version": 2
   },
   "file_extension": ".py",
   "mimetype": "text/x-python",
   "name": "python",
   "nbconvert_exporter": "python",
   "pygments_lexer": "ipython2",
   "version": "2.7.6"
  }
 },
 "nbformat": 4,
 "nbformat_minor": 5
}
