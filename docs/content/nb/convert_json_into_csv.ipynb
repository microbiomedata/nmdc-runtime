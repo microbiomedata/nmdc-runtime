{
 "cells": [
  {
   "cell_type": "markdown",
   "id": "8b8c2e24",
   "metadata": {},
   "source": [
    "# Convert JSON into CSV\n",
    "\n",
    "## Introduction\n",
    "\n",
    "Here's a function you can use to convert an arbitrary JSON string into an equivalent CSV string."
   ]
  },
  {
   "cell_type": "code",
   "execution_count": null,
   "id": "cf34f1ca",
   "metadata": {},
   "outputs": [],
   "source": [
    "%%python -m pip install pandas"
   ]
  },
  {
   "cell_type": "markdown",
   "id": "1c719e25",
   "metadata": {},
   "source": [
    "## References\n",
    "- https://pandas.pydata.org/docs/reference/api/pandas.json_normalize.html\n",
    "- https://pandas.pydata.org/docs/reference/api/pandas.DataFrame.to_csv.html#pandas.DataFrame.to_csv"
   ]
  },
  {
   "cell_type": "code",
   "execution_count": 32,
   "id": "39046128",
   "metadata": {},
   "outputs": [
    {
     "data": {
      "text/plain": [
       "'id,collection,tree.key,tree.another_key\\n1,\"[1, 2, 3]\",value,\"[4, 5, 6]\"\\n2,\"[4, 5, 6]\",value,\\n'"
      ]
     },
     "execution_count": 32,
     "metadata": {},
     "output_type": "execute_result"
    }
   ],
   "source": [
    "import json\n",
    "import pandas as pd\n",
    "\n",
    "\n",
    "def translate(json_str: str) -> str:\n",
    "    r\"\"\"Translates a JSON string into a CSV string.\n",
    "    \n",
    "    Example:\n",
    "    >>> flatten(r'''\n",
    "    ... [{\n",
    "    ...     \"id\": \"1\",\n",
    "    ...     \"collection\": [1, 2, 3],\n",
    "    ...     \"tree\": {\"key\": \"value\", \"another_key\": [4, 5, 6]}\n",
    "    ... },\n",
    "    ... {\n",
    "    ...     \"id\": \"2\",\n",
    "    ...     \"collection\": [4, 5, 6],\n",
    "    ...     \"tree\": {\"key\": \"value\"}\n",
    "    ... }]\n",
    "    ... ''')\n",
    "    id,collection,tree.key,tree.another_key\n",
    "    1,\"[1, 2, 3]\",value,\"[4, 5, 6]\"\n",
    "    2,\"[4, 5, 6]\",value,\n",
    "    \"\"\"\n",
    "\n",
    "    # Parse the JSON string into the corresponding Python value.\n",
    "    json_value = json.loads(json_str)\n",
    "\n",
    "    # Read the Python value into a dataframe.\n",
    "    # Note: This doesn't flatten lists.\n",
    "    df = pd.json_normalize(json_value)\n",
    "\n",
    "    # Dump the dataframe to a CSV string.\n",
    "    csv_str: str = df.to_csv(index=False)\n",
    "    return csv_str\n",
    "\n",
    "translate(r\"\"\"\n",
    "[{\n",
    "    \"id\": \"1\",\n",
    "    \"collection\": [1, 2, 3],\n",
    "    \"tree\": {\"key\": \"value\", \"another_key\": [4, 5, 6]}\n",
    "},\n",
    "{\n",
    "    \"id\": \"2\",\n",
    "    \"collection\": [4, 5, 6],\n",
    "    \"tree\": {\"key\": \"value\"}\n",
    "}]\n",
    "\"\"\")"
   ]
  }
 ],
 "metadata": {
  "kernelspec": {
   "display_name": ".venv",
   "language": "python",
   "name": "python3"
  },
  "language_info": {
   "codemirror_mode": {
    "name": "ipython",
    "version": 3
   },
   "file_extension": ".py",
   "mimetype": "text/x-python",
   "name": "python",
   "nbconvert_exporter": "python",
   "pygments_lexer": "ipython3",
   "version": "3.12.11"
  }
 },
 "nbformat": 4,
 "nbformat_minor": 5
}
