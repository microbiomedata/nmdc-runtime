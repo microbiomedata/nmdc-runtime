{
 "cells": [
  {
   "cell_type": "markdown",
   "id": "8eadc33e15fcf211",
   "metadata": {},
   "source": [
    "# Use Python to access the NMDC Runtime API\n",
    "\n",
    "## Introduction\n",
    "\n",
    "In this tutorial, I'll show you how you can use Python to interact with the NMDC Runtime API.\n",
    "\n",
    "By the end of this tutorial, you will have:\n",
    "- Accessed several NMDC Runtime API endpoints\n",
    "- Learned how you can discover additional NMDC Runtime API endpoints\n",
    "- Learned how you can contact NMDC team members for help\n",
    "\n",
    "## Getting help\n",
    "\n",
    "In case you have questions about the contents of this notebook, you can post them as [GitHub issues](https://github.com/microbiomedata/nmdc-runtime/issues/new) in the `microbiomedata/nmdc-runtime` GitHub repository (that's where this notebook resides). NMDC team members regularly review open issues there. In case you don't have a GitHub account, you can email your questions to the [NMDC Support Team](mailto:support@microbiomedata.org)."
   ]
  },
  {
   "cell_type": "markdown",
   "id": "39cbe06680a4916d",
   "metadata": {},
   "source": [
    "## 1. Install dependencies\n",
    "\n",
    "Before you can access the NMDC Runtime API—which runs as an HTTP service—you'll need an HTTP client. A popular HTTP client for Python is called `requests`. You can install it on your computer by running the following cell:\n",
    "\n"
   ]
  },
  {
   "cell_type": "code",
   "id": "49fe57573c851cba",
   "metadata": {},
   "source": [
    "%pip install requests"
   ],
   "outputs": [],
   "execution_count": null
  },
  {
   "cell_type": "markdown",
   "id": "c2d17a26f190dcc0",
   "metadata": {},
   "source": [
    "Now that the `requests` package is installed, you can use it to send HTTP requests to HTTP servers. For example, you can run the following cell to submit an HTTP GET request to an example HTTP server:\n",
    "\n",
    "> Note: This example HTTP server is not maintained by the NMDC team. It is a third-party HTTP server you can use to confirm your HTTP client works, independently of the NMDC Runtime."
   ]
  },
  {
   "cell_type": "code",
   "id": "62d28232a8221431",
   "metadata": {},
   "source": [
    "import requests\n",
    "\n",
    "# Submit an HTTP GET request to an example HTTP server.\n",
    "response = requests.get(\"https://jsonplaceholder.typicode.com/posts/1\")"
   ],
   "outputs": [],
   "execution_count": null
  },
  {
   "cell_type": "markdown",
   "id": "cc9a5755432a76dc",
   "metadata": {},
   "source": [
    "Now that you've submitted the HTTP request, the `response` variable contains information about the HTTP response the example HTTP server sent back. You can examine it by running the following cells:"
   ]
  },
  {
   "cell_type": "code",
   "id": "ae560ed292755cd2",
   "metadata": {},
   "source": [
    "# Get the HTTP status code from the response.\n",
    "response.status_code"
   ],
   "outputs": [],
   "execution_count": null
  },
  {
   "cell_type": "code",
   "id": "870810045483f31f",
   "metadata": {},
   "source": [
    "# Parse the response as a JSON string.\n",
    "response.json()"
   ],
   "outputs": [],
   "execution_count": null
  },
  {
   "cell_type": "markdown",
   "id": "8f3cd7b73636ff0b",
   "metadata": {},
   "source": [
    "If the first of those cells outputs the number `200` and the second one outputs a Python dictionary having several keys (including `id` and `title`), you are good to go!\n",
    "\n",
    "> 💡 **Tip:** In case those cells did not output those things, here are some troubleshooting tips: (1) check your Internet connection, (2) visit the same URL from the example above, in your web browser, (3) review the [documentation](https://requests.readthedocs.io/en/latest/) of the `requests` package, and (4) restart your Jupyter [kernel](https://docs.jupyter.org/en/latest/projects/kernels.html) so it \"becomes aware\" of all recently-installed packages—in this case, the `requests` package.\n",
    "\n",
    "Now that you can access _an_ HTTP server, let's access the **NMDC Runtime API**."
   ]
  },
  {
   "cell_type": "markdown",
   "id": "fd84435af1503b22",
   "metadata": {},
   "source": [
    "## 2. Access an NMDC Runtime API endpoint\n",
    "\n",
    "The NMDC Runtime API has a variety of API endpoints that you can send HTTP requests to.\n",
    "\n",
    "> 💡 **Tip:** The full list of API endpoints is listed in the NMDC Runtime API's [API documentation](https://api.microbiomedata.org/docs).\n",
    "\n",
    "One of the API endpoints that I like to send HTTP requests to is `/studies`. That API endpoint responds with a list of all the studies that exist in the NMDC database!\n",
    "\n",
    "You can run the following cell to send an HTTP GET request to that API endpoint:\n",
    "\n",
    "> Note: The HTTP response the server sends back will be stored in the `response` variable."
   ]
  },
  {
   "cell_type": "code",
   "id": "8cc19fe2047322a8",
   "metadata": {},
   "source": [
    "response = requests.get(\"https://api.microbiomedata.org/studies\")"
   ],
   "outputs": [],
   "execution_count": null
  },
  {
   "cell_type": "markdown",
   "id": "77d0bc630d308a46",
   "metadata": {},
   "source": [
    "Now that you have received an HTTP response from the endpoint, you can examine it like before. You can see the JSON data—in this case, a list of studies—by running the code in this cell:"
   ]
  },
  {
   "cell_type": "code",
   "id": "e9bf89ac847d5383",
   "metadata": {},
   "source": [
    "response.json()"
   ],
   "outputs": [],
   "execution_count": null
  },
  {
   "cell_type": "markdown",
   "id": "ed22b648710a26c6",
   "metadata": {},
   "source": [
    "Whoa! That's a lot of output. Let's break it down.\n",
    "\n",
    "> 💡 **Tip:** In the [API documentation](https://api.microbiomedata.org/docs#/find/find_studies_studies_get) for the `/studies` API endpoint, the \"Responses\" section contains an example response from the API endpoint, as well as a generic schema that all of the API endpoint's responses will conform to. You can use both of those things to make sense of the API endpoint's response.\n",
    "\n",
    "Given that—for this API endpoint—`response.json()` returns a Python dictionary, you can run the following cell to see the dictionary's top-level keys:"
   ]
  },
  {
   "cell_type": "code",
   "id": "cdc717a66bfc3136",
   "metadata": {},
   "source": [
    "response.json().keys()"
   ],
   "outputs": [],
   "execution_count": null
  },
  {
   "cell_type": "markdown",
   "id": "6611146f6253a742",
   "metadata": {},
   "source": [
    "The `meta` item contains data _about the response_, such as pagination parameters and search filter criteria.\n",
    "\n",
    "The `results` item contains the requested data—in this case, a list of studies.\n",
    "\n",
    "You can ignore the `group_by` item. According to the NMDC Runtime's API documentation, `group_by` is not implemented yet.\n",
    "\n",
    "Let's examine the `meta` item:"
   ]
  },
  {
   "cell_type": "code",
   "id": "4f30bc5dee894252",
   "metadata": {},
   "source": [
    "response.json()[\"meta\"]"
   ],
   "outputs": [],
   "execution_count": null
  },
  {
   "cell_type": "markdown",
   "id": "5eb4a11914ab2971",
   "metadata": {},
   "source": [
    "According to the `meta` item, there are 32 studies in the database.\n",
    "\n",
    "> Note: At the time of this writing, there are 32. When you run the cell, you may see a different number as the database is constantly changing.\n",
    "\n",
    "Let's count the studies we received in the `results` list:"
   ]
  },
  {
   "cell_type": "code",
   "id": "c5d6b38c5888050a",
   "metadata": {},
   "source": [
    "len(response.json()[\"results\"])"
   ],
   "outputs": [],
   "execution_count": null
  },
  {
   "cell_type": "markdown",
   "id": "e9b22bd4ae4f88b9",
   "metadata": {},
   "source": [
    "The `results` list contains only _25_ studies—as opposed to _32_. That's because this endpoint uses [pagination](https://en.wikipedia.org/wiki/Pagination#In_Database), and the default page size happens to be 25.\n",
    "\n",
    "You can customize the page size like this:"
   ]
  },
  {
   "cell_type": "code",
   "id": "176887bd5a7c241e",
   "metadata": {},
   "source": [
    "# Resend the same HTTP request, but include a higher page size than the default of 25.\n",
    "response = requests.get(\"https://api.microbiomedata.org/studies?per_page=100\")\n",
    "\n",
    "# Count the studies in the `results` list.\n",
    "len(response.json()[\"results\"])"
   ],
   "outputs": [],
   "execution_count": null
  },
  {
   "cell_type": "markdown",
   "id": "ed4c5916f7315145",
   "metadata": {},
   "source": [
    "There they are!\n",
    "\n",
    "You can use the `per_page` parameter to customize the number of items you want to receive per HTTP response.\n",
    "\n",
    "You can use other parameters to customize the response in other ways, too. For example, you can run the following cell to request only studies whose `ecosystem_category` value is `Aquatic`, request that the API response contain at most 2 studies, and request that they be sorted by name."
   ]
  },
  {
   "cell_type": "code",
   "id": "e012062c4f4d454d",
   "metadata": {},
   "source": [
    "response = requests.get(\"https://api.microbiomedata.org/studies?filter=ecosystem_category:Aquatic&per_page=2&sort_by=name\")\n",
    "\n",
    "# Print the number of studies in the response.\n",
    "print(len(response.json()[\"results\"]))\n",
    "\n",
    "# Print their names in the order in which they appear in the response.\n",
    "for study in response.json()[\"results\"]:\n",
    "    print(study[\"name\"])"
   ],
   "outputs": [],
   "execution_count": null
  },
  {
   "cell_type": "markdown",
   "id": "eeab95830833d1f7",
   "metadata": {},
   "source": [
    "**Congratulations!** You've used a Python notebook to retrieve data residing in the NMDC database, via the NMDC Runtime API. 🎉"
   ]
  },
  {
   "cell_type": "markdown",
   "id": "92c00d38",
   "metadata": {},
   "source": [
    "## 3. Access a _private_ NMDC Runtime API endpoint\n",
    "\n",
    "In the previous section, you accessed an API endpoint that **did not require authentication**. In this tutorial, I'll refer to such an API endpoint as a \"public\" API endpoint. Indeed, most of the NMDC Runtime's API endpoints are \"public.\"\n",
    "\n",
    "However, there are some API endpoints that **do require authentication**; for example, API endpoints that can be used to modify existing data or perform resource-intensive operations. In this tutorial, I'll refer to those API endpoints as \"private\" API endpoints.\n",
    "\n",
    "> 💡 **Tip:** You can tell whether an API endpoint is \"public\" or \"private\" by checking whether there is a padlock icon next to it in the [API documentation](https://api.microbiomedata.org/docs). If there is, the API endpoint is \"private\" (i.e., accessing it requires authentication); otherwise, it is \"public\" (i.e., accessing it does _not_ require authentication).\n",
    "\n",
    "In this section, I'll show you how you can access a \"private\" API endpoint."
   ]
  },
  {
   "cell_type": "markdown",
   "id": "23fd4d59",
   "metadata": {},
   "source": [
    "The first step is to tell this notebook what your NMDC Runtime username and password are. You can do that by running the cell below, which will prompt you for input:\n",
    "\n",
    "> ⚠️ **Warning:** Storing real usernames and passwords directly in a Python notebook—or in any other form of source code—increases the risk that they be accidentally committed to a source code repository. That's why I'm using Python's [getpass](https://docs.python.org/3/library/getpass.html) module here, instead of suggesting that you type your username and password directly into the cell."
   ]
  },
  {
   "cell_type": "code",
   "id": "66b7b529",
   "metadata": {},
   "source": [
    "from getpass import getpass\n",
    "\n",
    "# Prompt the user for their NMDC Runtime username and password.\n",
    "username = getpass(prompt=\"NMDC Runtime username: \")\n",
    "password = getpass(prompt=\"NMDC Runtime password: \")\n",
    "\n",
    "# Display string lengths as a \"sanity test.\"\n",
    "print(f\"Username length: {len(username)}\")\n",
    "print(f\"Password length: {len(password)}\")"
   ],
   "outputs": [],
   "execution_count": null
  },
  {
   "cell_type": "markdown",
   "id": "915e036f",
   "metadata": {},
   "source": [
    "Now that the `username` and `password` variables contain your NMDC Runtime username and password, you can exchange those for an NMDC Runtime API **access token**. You can do that by running this cell:"
   ]
  },
  {
   "cell_type": "code",
   "id": "827abd1c",
   "metadata": {},
   "source": [
    "response = requests.post(\n",
    "    \"https://api.microbiomedata.org/token\",\n",
    "    data={\n",
    "        \"grant_type\": \"password\",\n",
    "        \"username\": username,\n",
    "        \"password\": password,\n",
    "    },\n",
    ")\n",
    "\n",
    "# Print the response payload, which includes the access token.\n",
    "response.json()"
   ],
   "outputs": [],
   "execution_count": null
  },
  {
   "cell_type": "markdown",
   "id": "ddeba883",
   "metadata": {},
   "source": [
    "The API response will contain several properties (you can list them via `response.json().keys()`).  One of them is named `access_token`. Its value is an access token; i.e., a string you can use to access \"private\" API endpoints.\n",
    "\n",
    "I recommend storing that access token in a Python variable for future reference. You can do that by running this cell:"
   ]
  },
  {
   "cell_type": "code",
   "id": "b7b81266",
   "metadata": {},
   "source": [
    "access_token = response.json()[\"access_token\"]\n",
    "\n",
    "print(f\"Access token: {access_token}\")"
   ],
   "outputs": [],
   "execution_count": null
  },
  {
   "cell_type": "markdown",
   "id": "b53e5253",
   "metadata": {},
   "source": [
    "Now that you have an access token, you can use it to access a \"private\" API endpoint.\n",
    "\n",
    "One of the \"private\" API endpoints I like to access is called `/queries:run`. I use it to query the NMDC database in more sophisticated ways than some of the \"public\" API endpoints allow.\n",
    "\n",
    "> 💡 **Tip:** As with _all_ API endpoints, you can learn about this one by reading the NMDC Runtime's [API documentation](https://api.microbiomedata.org/docs).\n",
    "\n",
    "Let's use the \"private\" `/queries:run` API endpoint to find all the studies whose `ecosystem_category` value is `Aquatic` (just like we did with the \"public\" `/studies` API endpoint earlier)."
   ]
  },
  {
   "cell_type": "code",
   "id": "1f8e5cd6",
   "metadata": {},
   "source": [
    "response = requests.post(\n",
    "    \"https://api.microbiomedata.org/queries:run\",\n",
    "    headers={\n",
    "        \"Authorization\": f\"Bearer {access_token}\",\n",
    "    },\n",
    "    json={\n",
    "        \"find\": \"study_set\",\n",
    "        \"filter\": {\"ecosystem_category\": \"Aquatic\"},\n",
    "    },\n",
    ")\n",
    "\n",
    "response.json()"
   ],
   "outputs": [],
   "execution_count": null
  },
  {
   "cell_type": "markdown",
   "id": "c6a531da",
   "metadata": {},
   "source": [
    "The API response's shape is different from that of the `/studies` API endpoint. Let's explore this API response. You can get a list of its top-level properties by running the following cell:"
   ]
  },
  {
   "cell_type": "code",
   "id": "7b2c1a61",
   "metadata": {},
   "source": [
    "response.json().keys()"
   ],
   "outputs": [],
   "execution_count": null
  },
  {
   "cell_type": "markdown",
   "id": "ef161477",
   "metadata": {},
   "source": [
    "In the case of the `/queries:run` API endpoint, the results are in the `cursor` property. Let's dig into that property. You can see its properties by running the following cell:"
   ]
  },
  {
   "cell_type": "code",
   "id": "e9a1f073",
   "metadata": {},
   "source": [
    "response.json()[\"cursor\"].keys()"
   ],
   "outputs": [],
   "execution_count": null
  },
  {
   "cell_type": "markdown",
   "id": "875ea7f3",
   "metadata": {},
   "source": [
    "The studies are in the `firstBatch` property. You can count them by running this cell:"
   ]
  },
  {
   "cell_type": "code",
   "id": "9afbae98",
   "metadata": {},
   "source": [
    "len(response.json()[\"cursor\"][\"firstBatch\"])"
   ],
   "outputs": [],
   "execution_count": null
  },
  {
   "cell_type": "markdown",
   "id": "1df499df",
   "metadata": {},
   "source": [
    "You can print their names by running this cell:"
   ]
  },
  {
   "cell_type": "code",
   "id": "5d0ecffc",
   "metadata": {},
   "source": [
    "for study in response.json()[\"cursor\"][\"firstBatch\"]:\n",
    "    print(study[\"name\"])"
   ],
   "outputs": [],
   "execution_count": null
  },
  {
   "cell_type": "markdown",
   "id": "0d6d353a",
   "metadata": {},
   "source": [
    "**Congratulations!** You've used a Python notebook to retrieve data residing in the NMDC database, via a \"private\" NMDC Runtime API endpoint. 🎉"
   ]
  },
  {
   "cell_type": "markdown",
   "id": "9d652ee2",
   "metadata": {},
   "source": [
    "Finally, let's see what would have happened it you had visited the same API endpoint _without_ including your access token in the API request. You can do that by running this cell:"
   ]
  },
  {
   "cell_type": "code",
   "id": "0c5446ea",
   "metadata": {},
   "source": [
    "response = requests.post(\n",
    "    \"https://api.microbiomedata.org/queries:run\",\n",
    "    json={\n",
    "        \"find\": \"study_set\",\n",
    "        \"filter\": {\"ecosystem_category\": \"Aquatic\"},\n",
    "    },\n",
    ")\n",
    "\n",
    "response.json()"
   ],
   "outputs": [],
   "execution_count": null
  },
  {
   "cell_type": "markdown",
   "id": "e3102339",
   "metadata": {},
   "source": [
    "Since this is a \"private\" API endpoint; when you access it without specifying an access token, it responds with the message, \"`Could not validate credentials`\" (in this case, we didn't give it any credentials to validate)."
   ]
  },
  {
   "cell_type": "markdown",
   "id": "f8385665",
   "metadata": {},
   "source": [
    "## Conclusion\n",
    "\n",
    "In this tutorial, I showed you how you could access a \"public\" API endpoint, how you could obtain an access token, and how you could use that access token to access a \"private\" API endpoint. I also showed you how you could explore a few API responses. Finally, I told you where you could find the [API documentation](https://api.microbiomedata.org/docs), which contains a list of all API endpoints.\n",
    "\n",
    "Thank you for going through this tutorial. You can continue to explore the [API documentation](https://api.microbiomedata.org/docs) and send API requests to API endpoints you find interesting.\n",
    "\n",
    "We'd love to know what you think about the NMDC Runtime API and about this tutorial. You can tell us what you think by creating a [GitHub issue](https://github.com/microbiomedata/nmdc-runtime/issues/new) in the `microbiomedata/nmdc-runtime` GitHub repository or sending the NMDC Support Team an email at [support@microbiomedata.org](mailto:support@microbiomedata.org)."
   ]
  },
  {
   "cell_type": "markdown",
   "id": "f3272d9f",
   "metadata": {},
   "source": []
  }
 ],
 "metadata": {
  "kernelspec": {
   "display_name": "venv",
   "language": "python",
   "name": "python3"
  },
  "language_info": {
   "codemirror_mode": {
    "name": "ipython",
    "version": 3
   },
   "file_extension": ".py",
   "mimetype": "text/x-python",
   "name": "python",
   "nbconvert_exporter": "python",
   "pygments_lexer": "ipython3",
   "version": "3.9.6"
  }
 },
 "nbformat": 4,
 "nbformat_minor": 5
}
