{
 "cells": [
  {
   "attachments": {},
   "cell_type": "markdown",
   "id": "2a66b2dc",
   "metadata": {},
   "source": [
    "# Referential integrity checker (prototype)"
   ]
  },
  {
   "attachments": {},
   "cell_type": "markdown",
   "id": "c892eac06fb1a86a",
   "metadata": {},
   "source": [
    "## Prerequisites\n",
    "\n",
    "Before running this notebook, make sure you have done the following:\n",
    "\n",
    "1. Run `$ make up-dev`\n",
    "2. Map `localhost:27018` to the Mongo server you want to use\n",
    "3. Load a recent dump of the production Mongo database into that Mongo server (see `$ make mongorestore-nmdc-db` for an example)\n",
    "4. In the `.env` file, set `MONGO_HOST` to `mongodb://localhost:27018`\n",
    "5. Run `$ export $(grep -v '^#' .env | xargs)` to load the environment variables defined in `.env` into your shell environment\n",
    "6. Run `make init` to ensure a consistent python kernel for this notebook.\n",
    "\n",
    "Once you've done all of those things, you can run this notebook (e.g. via `$ jupyter notebook`) \n"
   ]
  },
  {
   "cell_type": "code",
   "execution_count": 1,
   "id": "93e58d1c-0d88-4830-b618-0bd8de703215",
   "metadata": {},
   "outputs": [
    {
     "name": "stdout",
     "output_type": "stream",
     "text": [
      "localhost:27018\n"
     ]
    }
   ],
   "source": [
    "!echo $MONGO_HOST"
   ]
  },
  {
   "attachments": {},
   "cell_type": "markdown",
   "id": "8f03ce22",
   "metadata": {},
   "source": [
    "## Enable automatic reloading of modules\n",
    "\n",
    "Reference: https://ipython.readthedocs.io/en/stable/config/extensions/autoreload.html#autoreload"
   ]
  },
  {
   "cell_type": "code",
   "execution_count": 2,
   "id": "f1c8bdb5",
   "metadata": {},
   "outputs": [],
   "source": [
    "# Ensure code changes in this notebook will be import-able  \n",
    "# without needing to restart the kernel and lose state\n",
    "%load_ext autoreload\n",
    "%autoreload 2"
   ]
  },
  {
   "attachments": {},
   "cell_type": "markdown",
   "id": "5121e612",
   "metadata": {},
   "source": [
    "## Import Python modules"
   ]
  },
  {
   "attachments": {},
   "cell_type": "markdown",
   "id": "6edb8bf0-cd9d-47da-a33d-081d352fbaec",
   "metadata": {},
   "source": [
    "Be sure you're using the version of `nmdc-schema` you think you are!"
   ]
  },
  {
   "cell_type": "code",
   "execution_count": 3,
   "id": "c5f62482-2b3e-469a-b262-1e8743e1a106",
   "metadata": {},
   "outputs": [
    {
     "data": {
      "text/plain": [
       "'11.1.0'"
      ]
     },
     "execution_count": 3,
     "metadata": {},
     "output_type": "execute_result"
    }
   ],
   "source": [
    "from importlib.metadata import version\n",
    "\n",
    "version(\"nmdc-schema\")"
   ]
  },
  {
   "cell_type": "code",
   "execution_count": null,
   "id": "dabbd360-de74-48a8-8026-6017af11ff48",
   "metadata": {},
   "outputs": [],
   "source": []
  },
  {
   "cell_type": "code",
   "execution_count": 5,
   "id": "f7ff0664-1881-4eca-b018-4c5856dc2489",
   "metadata": {},
   "outputs": [
    {
     "ename": "AttributeError",
     "evalue": "module 'lib' has no attribute 'X509_V_FLAG_NOTIFY_POLICY'",
     "output_type": "error",
     "traceback": [
      "\u001b[0;31m---------------------------------------------------------------------------\u001b[0m",
      "\u001b[0;31mAttributeError\u001b[0m                            Traceback (most recent call last)",
      "Cell \u001b[0;32mIn[5], line 13\u001b[0m\n\u001b[1;32m     10\u001b[0m \u001b[38;5;28;01mfrom\u001b[39;00m \u001b[38;5;21;01mtqdm\u001b[39;00m\u001b[38;5;21;01m.\u001b[39;00m\u001b[38;5;21;01mnotebook\u001b[39;00m \u001b[38;5;28;01mimport\u001b[39;00m tqdm\n\u001b[1;32m     12\u001b[0m \u001b[38;5;28;01mfrom\u001b[39;00m \u001b[38;5;21;01mnmdc_runtime\u001b[39;00m\u001b[38;5;21;01m.\u001b[39;00m\u001b[38;5;21;01mapi\u001b[39;00m\u001b[38;5;21;01m.\u001b[39;00m\u001b[38;5;21;01mcore\u001b[39;00m\u001b[38;5;21;01m.\u001b[39;00m\u001b[38;5;21;01mutil\u001b[39;00m \u001b[38;5;28;01mimport\u001b[39;00m pick\n\u001b[0;32m---> 13\u001b[0m \u001b[38;5;28;01mfrom\u001b[39;00m \u001b[38;5;21;01mnmdc_runtime\u001b[39;00m\u001b[38;5;21;01m.\u001b[39;00m\u001b[38;5;21;01mapi\u001b[39;00m\u001b[38;5;21;01m.\u001b[39;00m\u001b[38;5;21;01mdb\u001b[39;00m\u001b[38;5;21;01m.\u001b[39;00m\u001b[38;5;21;01mmongo\u001b[39;00m \u001b[38;5;28;01mimport\u001b[39;00m get_mongo_db, get_nonempty_nmdc_schema_collection_names, get_collection_names_from_schema\n\u001b[1;32m     14\u001b[0m \u001b[38;5;28;01mfrom\u001b[39;00m \u001b[38;5;21;01mnmdc_runtime\u001b[39;00m\u001b[38;5;21;01m.\u001b[39;00m\u001b[38;5;21;01mutil\u001b[39;00m \u001b[38;5;28;01mimport\u001b[39;00m collection_name_to_class_names, populated_schema_collection_names_with_id_field, nmdc_schema_view, nmdc_database_collection_instance_class_names, get_nmdc_jsonschema_dict\n\u001b[1;32m     15\u001b[0m \u001b[38;5;28;01mfrom\u001b[39;00m \u001b[38;5;21;01mnmdc_schema\u001b[39;00m\u001b[38;5;21;01m.\u001b[39;00m\u001b[38;5;21;01mnmdc\u001b[39;00m \u001b[38;5;28;01mimport\u001b[39;00m Database \u001b[38;5;28;01mas\u001b[39;00m NMDCDatabase \n",
      "File \u001b[0;32m~/Desktop/recurse/nmdc-runtime/nmdc_runtime/api/db/mongo.py:15\u001b[0m\n\u001b[1;32m     13\u001b[0m \u001b[38;5;28;01mfrom\u001b[39;00m \u001b[38;5;21;01mnmdc_schema\u001b[39;00m\u001b[38;5;21;01m.\u001b[39;00m\u001b[38;5;21;01mnmdc_data\u001b[39;00m \u001b[38;5;28;01mimport\u001b[39;00m get_nmdc_schema_definition\n\u001b[1;32m     14\u001b[0m \u001b[38;5;28;01mfrom\u001b[39;00m \u001b[38;5;21;01mpymongo\u001b[39;00m\u001b[38;5;21;01m.\u001b[39;00m\u001b[38;5;21;01merrors\u001b[39;00m \u001b[38;5;28;01mimport\u001b[39;00m OperationFailure, AutoReconnect\n\u001b[0;32m---> 15\u001b[0m \u001b[38;5;28;01mfrom\u001b[39;00m \u001b[38;5;21;01mmotor\u001b[39;00m\u001b[38;5;21;01m.\u001b[39;00m\u001b[38;5;21;01mmotor_asyncio\u001b[39;00m \u001b[38;5;28;01mimport\u001b[39;00m AsyncIOMotorClient, AsyncIOMotorDatabase\n\u001b[1;32m     16\u001b[0m \u001b[38;5;28;01mfrom\u001b[39;00m \u001b[38;5;21;01mpydantic\u001b[39;00m \u001b[38;5;28;01mimport\u001b[39;00m BaseModel, conint\n\u001b[1;32m     17\u001b[0m \u001b[38;5;28;01mfrom\u001b[39;00m \u001b[38;5;21;01mtenacity\u001b[39;00m \u001b[38;5;28;01mimport\u001b[39;00m wait_random_exponential, retry, retry_if_exception_type\n",
      "File \u001b[0;32m~/anaconda3/lib/python3.10/site-packages/motor/__init__.py:28\u001b[0m\n\u001b[1;32m     24\u001b[0m     tornado \u001b[38;5;241m=\u001b[39m \u001b[38;5;28;01mNone\u001b[39;00m  \u001b[38;5;66;03m# type:ignore[assignment]\u001b[39;00m\n\u001b[1;32m     25\u001b[0m \u001b[38;5;28;01melse\u001b[39;00m:\n\u001b[1;32m     26\u001b[0m     \u001b[38;5;66;03m# For backwards compatibility with Motor 0.4, export Motor's Tornado classes\u001b[39;00m\n\u001b[1;32m     27\u001b[0m     \u001b[38;5;66;03m# at module root. This may change in the future.\u001b[39;00m\n\u001b[0;32m---> 28\u001b[0m     \u001b[38;5;28;01mfrom\u001b[39;00m \u001b[38;5;21;01m.\u001b[39;00m\u001b[38;5;21;01mmotor_tornado\u001b[39;00m \u001b[38;5;28;01mimport\u001b[39;00m \u001b[38;5;241m*\u001b[39m  \u001b[38;5;66;03m# noqa: F403\u001b[39;00m\n\u001b[1;32m     29\u001b[0m     \u001b[38;5;28;01mfrom\u001b[39;00m \u001b[38;5;21;01m.\u001b[39;00m\u001b[38;5;21;01mmotor_tornado\u001b[39;00m \u001b[38;5;28;01mimport\u001b[39;00m __all__  \u001b[38;5;66;03m# noqa: F401\u001b[39;00m\n",
      "File \u001b[0;32m~/anaconda3/lib/python3.10/site-packages/motor/motor_tornado.py:17\u001b[0m\n\u001b[1;32m      1\u001b[0m \u001b[38;5;66;03m# Copyright 2011-2015 MongoDB, Inc.\u001b[39;00m\n\u001b[1;32m      2\u001b[0m \u001b[38;5;66;03m#\u001b[39;00m\n\u001b[1;32m      3\u001b[0m \u001b[38;5;66;03m# Licensed under the Apache License, Version 2.0 (the \"License\");\u001b[39;00m\n\u001b[0;32m   (...)\u001b[0m\n\u001b[1;32m     12\u001b[0m \u001b[38;5;66;03m# See the License for the specific language governing permissions and\u001b[39;00m\n\u001b[1;32m     13\u001b[0m \u001b[38;5;66;03m# limitations under the License.\u001b[39;00m\n\u001b[1;32m     15\u001b[0m \u001b[38;5;124;03m\"\"\"Tornado support for Motor, an asynchronous driver for MongoDB.\"\"\"\u001b[39;00m\n\u001b[0;32m---> 17\u001b[0m \u001b[38;5;28;01mfrom\u001b[39;00m \u001b[38;5;21;01m.\u001b[39;00m \u001b[38;5;28;01mimport\u001b[39;00m core, motor_gridfs\n\u001b[1;32m     18\u001b[0m \u001b[38;5;28;01mfrom\u001b[39;00m \u001b[38;5;21;01m.\u001b[39;00m\u001b[38;5;21;01mframeworks\u001b[39;00m \u001b[38;5;28;01mimport\u001b[39;00m tornado \u001b[38;5;28;01mas\u001b[39;00m tornado_framework\n\u001b[1;32m     19\u001b[0m \u001b[38;5;28;01mfrom\u001b[39;00m \u001b[38;5;21;01m.\u001b[39;00m\u001b[38;5;21;01mmetaprogramming\u001b[39;00m \u001b[38;5;28;01mimport\u001b[39;00m T, create_class_with_framework\n",
      "File \u001b[0;32m~/anaconda3/lib/python3.10/site-packages/motor/core.py:20\u001b[0m\n\u001b[1;32m     17\u001b[0m \u001b[38;5;28;01mimport\u001b[39;00m \u001b[38;5;21;01mtime\u001b[39;00m\n\u001b[1;32m     18\u001b[0m \u001b[38;5;28;01mimport\u001b[39;00m \u001b[38;5;21;01mwarnings\u001b[39;00m\n\u001b[0;32m---> 20\u001b[0m \u001b[38;5;28;01mimport\u001b[39;00m \u001b[38;5;21;01mpymongo\u001b[39;00m\n\u001b[1;32m     21\u001b[0m \u001b[38;5;28;01mimport\u001b[39;00m \u001b[38;5;21;01mpymongo\u001b[39;00m\u001b[38;5;21;01m.\u001b[39;00m\u001b[38;5;21;01mauth\u001b[39;00m\n\u001b[1;32m     22\u001b[0m \u001b[38;5;28;01mimport\u001b[39;00m \u001b[38;5;21;01mpymongo\u001b[39;00m\u001b[38;5;21;01m.\u001b[39;00m\u001b[38;5;21;01mcommon\u001b[39;00m\n",
      "File \u001b[0;32m~/anaconda3/lib/python3.10/site-packages/pymongo/__init__.py:104\u001b[0m\n\u001b[1;32m    102\u001b[0m \u001b[38;5;28;01mfrom\u001b[39;00m \u001b[38;5;21;01mpymongo\u001b[39;00m\u001b[38;5;21;01m.\u001b[39;00m\u001b[38;5;21;01mread_preferences\u001b[39;00m \u001b[38;5;28;01mimport\u001b[39;00m ReadPreference\n\u001b[1;32m    103\u001b[0m \u001b[38;5;28;01mfrom\u001b[39;00m \u001b[38;5;21;01mpymongo\u001b[39;00m\u001b[38;5;21;01m.\u001b[39;00m\u001b[38;5;21;01msynchronous\u001b[39;00m\u001b[38;5;21;01m.\u001b[39;00m\u001b[38;5;21;01mcollection\u001b[39;00m \u001b[38;5;28;01mimport\u001b[39;00m ReturnDocument\n\u001b[0;32m--> 104\u001b[0m \u001b[38;5;28;01mfrom\u001b[39;00m \u001b[38;5;21;01mpymongo\u001b[39;00m\u001b[38;5;21;01m.\u001b[39;00m\u001b[38;5;21;01msynchronous\u001b[39;00m\u001b[38;5;21;01m.\u001b[39;00m\u001b[38;5;21;01mmongo_client\u001b[39;00m \u001b[38;5;28;01mimport\u001b[39;00m MongoClient\n\u001b[1;32m    105\u001b[0m \u001b[38;5;28;01mfrom\u001b[39;00m \u001b[38;5;21;01mpymongo\u001b[39;00m\u001b[38;5;21;01m.\u001b[39;00m\u001b[38;5;21;01mwrite_concern\u001b[39;00m \u001b[38;5;28;01mimport\u001b[39;00m WriteConcern\n\u001b[1;32m    107\u001b[0m \u001b[38;5;28;01mtry\u001b[39;00m:\n",
      "File \u001b[0;32m~/anaconda3/lib/python3.10/site-packages/pymongo/synchronous/mongo_client.py:99\u001b[0m\n\u001b[1;32m     97\u001b[0m \u001b[38;5;28;01mfrom\u001b[39;00m \u001b[38;5;21;01mpymongo\u001b[39;00m\u001b[38;5;21;01m.\u001b[39;00m\u001b[38;5;21;01msynchronous\u001b[39;00m\u001b[38;5;21;01m.\u001b[39;00m\u001b[38;5;21;01mclient_session\u001b[39;00m \u001b[38;5;28;01mimport\u001b[39;00m _EmptyServerSession\n\u001b[1;32m     98\u001b[0m \u001b[38;5;28;01mfrom\u001b[39;00m \u001b[38;5;21;01mpymongo\u001b[39;00m\u001b[38;5;21;01m.\u001b[39;00m\u001b[38;5;21;01msynchronous\u001b[39;00m\u001b[38;5;21;01m.\u001b[39;00m\u001b[38;5;21;01mcommand_cursor\u001b[39;00m \u001b[38;5;28;01mimport\u001b[39;00m CommandCursor\n\u001b[0;32m---> 99\u001b[0m \u001b[38;5;28;01mfrom\u001b[39;00m \u001b[38;5;21;01mpymongo\u001b[39;00m\u001b[38;5;21;01m.\u001b[39;00m\u001b[38;5;21;01msynchronous\u001b[39;00m\u001b[38;5;21;01m.\u001b[39;00m\u001b[38;5;21;01msettings\u001b[39;00m \u001b[38;5;28;01mimport\u001b[39;00m TopologySettings\n\u001b[1;32m    100\u001b[0m \u001b[38;5;28;01mfrom\u001b[39;00m \u001b[38;5;21;01mpymongo\u001b[39;00m\u001b[38;5;21;01m.\u001b[39;00m\u001b[38;5;21;01msynchronous\u001b[39;00m\u001b[38;5;21;01m.\u001b[39;00m\u001b[38;5;21;01mtopology\u001b[39;00m \u001b[38;5;28;01mimport\u001b[39;00m Topology, _ErrorContext\n\u001b[1;32m    101\u001b[0m \u001b[38;5;28;01mfrom\u001b[39;00m \u001b[38;5;21;01mpymongo\u001b[39;00m\u001b[38;5;21;01m.\u001b[39;00m\u001b[38;5;21;01mtopology_description\u001b[39;00m \u001b[38;5;28;01mimport\u001b[39;00m TOPOLOGY_TYPE, TopologyDescription\n",
      "File \u001b[0;32m~/anaconda3/lib/python3.10/site-packages/pymongo/synchronous/settings.py:28\u001b[0m\n\u001b[1;32m     26\u001b[0m \u001b[38;5;28;01mfrom\u001b[39;00m \u001b[38;5;21;01mpymongo\u001b[39;00m\u001b[38;5;21;01m.\u001b[39;00m\u001b[38;5;21;01mpool_options\u001b[39;00m \u001b[38;5;28;01mimport\u001b[39;00m PoolOptions\n\u001b[1;32m     27\u001b[0m \u001b[38;5;28;01mfrom\u001b[39;00m \u001b[38;5;21;01mpymongo\u001b[39;00m\u001b[38;5;21;01m.\u001b[39;00m\u001b[38;5;21;01mserver_description\u001b[39;00m \u001b[38;5;28;01mimport\u001b[39;00m ServerDescription\n\u001b[0;32m---> 28\u001b[0m \u001b[38;5;28;01mfrom\u001b[39;00m \u001b[38;5;21;01mpymongo\u001b[39;00m\u001b[38;5;21;01m.\u001b[39;00m\u001b[38;5;21;01msynchronous\u001b[39;00m \u001b[38;5;28;01mimport\u001b[39;00m monitor, pool\n\u001b[1;32m     29\u001b[0m \u001b[38;5;28;01mfrom\u001b[39;00m \u001b[38;5;21;01mpymongo\u001b[39;00m\u001b[38;5;21;01m.\u001b[39;00m\u001b[38;5;21;01msynchronous\u001b[39;00m\u001b[38;5;21;01m.\u001b[39;00m\u001b[38;5;21;01mpool\u001b[39;00m \u001b[38;5;28;01mimport\u001b[39;00m Pool\n\u001b[1;32m     30\u001b[0m \u001b[38;5;28;01mfrom\u001b[39;00m \u001b[38;5;21;01mpymongo\u001b[39;00m\u001b[38;5;21;01m.\u001b[39;00m\u001b[38;5;21;01mtopology_description\u001b[39;00m \u001b[38;5;28;01mimport\u001b[39;00m TOPOLOGY_TYPE, _ServerSelector\n",
      "File \u001b[0;32m~/anaconda3/lib/python3.10/site-packages/pymongo/synchronous/pool.py:76\u001b[0m\n\u001b[1;32m     66\u001b[0m \u001b[38;5;28;01mfrom\u001b[39;00m \u001b[38;5;21;01mpymongo\u001b[39;00m\u001b[38;5;21;01m.\u001b[39;00m\u001b[38;5;21;01mlogger\u001b[39;00m \u001b[38;5;28;01mimport\u001b[39;00m (\n\u001b[1;32m     67\u001b[0m     _CONNECTION_LOGGER,\n\u001b[1;32m     68\u001b[0m     _ConnectionStatusMessage,\n\u001b[1;32m     69\u001b[0m     _debug_log,\n\u001b[1;32m     70\u001b[0m     _verbose_connection_error_reason,\n\u001b[1;32m     71\u001b[0m )\n\u001b[1;32m     72\u001b[0m \u001b[38;5;28;01mfrom\u001b[39;00m \u001b[38;5;21;01mpymongo\u001b[39;00m\u001b[38;5;21;01m.\u001b[39;00m\u001b[38;5;21;01mmonitoring\u001b[39;00m \u001b[38;5;28;01mimport\u001b[39;00m (\n\u001b[1;32m     73\u001b[0m     ConnectionCheckOutFailedReason,\n\u001b[1;32m     74\u001b[0m     ConnectionClosedReason,\n\u001b[1;32m     75\u001b[0m )\n\u001b[0;32m---> 76\u001b[0m \u001b[38;5;28;01mfrom\u001b[39;00m \u001b[38;5;21;01mpymongo\u001b[39;00m\u001b[38;5;21;01m.\u001b[39;00m\u001b[38;5;21;01mnetwork_layer\u001b[39;00m \u001b[38;5;28;01mimport\u001b[39;00m sendall\n\u001b[1;32m     77\u001b[0m \u001b[38;5;28;01mfrom\u001b[39;00m \u001b[38;5;21;01mpymongo\u001b[39;00m\u001b[38;5;21;01m.\u001b[39;00m\u001b[38;5;21;01mpool_options\u001b[39;00m \u001b[38;5;28;01mimport\u001b[39;00m PoolOptions\n\u001b[1;32m     78\u001b[0m \u001b[38;5;28;01mfrom\u001b[39;00m \u001b[38;5;21;01mpymongo\u001b[39;00m\u001b[38;5;21;01m.\u001b[39;00m\u001b[38;5;21;01mread_preferences\u001b[39;00m \u001b[38;5;28;01mimport\u001b[39;00m ReadPreference\n",
      "File \u001b[0;32m~/anaconda3/lib/python3.10/site-packages/pymongo/network_layer.py:37\u001b[0m\n\u001b[1;32m     34\u001b[0m     _HAVE_SSL \u001b[38;5;241m=\u001b[39m \u001b[38;5;28;01mFalse\u001b[39;00m\n\u001b[1;32m     36\u001b[0m \u001b[38;5;28;01mtry\u001b[39;00m:\n\u001b[0;32m---> 37\u001b[0m     \u001b[38;5;28;01mfrom\u001b[39;00m \u001b[38;5;21;01mpymongo\u001b[39;00m\u001b[38;5;21;01m.\u001b[39;00m\u001b[38;5;21;01mpyopenssl_context\u001b[39;00m \u001b[38;5;28;01mimport\u001b[39;00m (\n\u001b[1;32m     38\u001b[0m         BLOCKING_IO_LOOKUP_ERROR,\n\u001b[1;32m     39\u001b[0m         BLOCKING_IO_READ_ERROR,\n\u001b[1;32m     40\u001b[0m         BLOCKING_IO_WRITE_ERROR,\n\u001b[1;32m     41\u001b[0m         _sslConn,\n\u001b[1;32m     42\u001b[0m     )\n\u001b[1;32m     44\u001b[0m     _HAVE_PYOPENSSL \u001b[38;5;241m=\u001b[39m \u001b[38;5;28;01mTrue\u001b[39;00m\n\u001b[1;32m     45\u001b[0m \u001b[38;5;28;01mexcept\u001b[39;00m \u001b[38;5;167;01mImportError\u001b[39;00m:\n",
      "File \u001b[0;32m~/anaconda3/lib/python3.10/site-packages/pymongo/pyopenssl_context.py:31\u001b[0m\n\u001b[1;32m     29\u001b[0m \u001b[38;5;28;01mimport\u001b[39;00m \u001b[38;5;21;01mcryptography\u001b[39;00m\u001b[38;5;21;01m.\u001b[39;00m\u001b[38;5;21;01mx509\u001b[39;00m \u001b[38;5;28;01mas\u001b[39;00m \u001b[38;5;21;01mx509\u001b[39;00m\n\u001b[1;32m     30\u001b[0m \u001b[38;5;28;01mimport\u001b[39;00m \u001b[38;5;21;01mservice_identity\u001b[39;00m\n\u001b[0;32m---> 31\u001b[0m \u001b[38;5;28;01mfrom\u001b[39;00m \u001b[38;5;21;01mOpenSSL\u001b[39;00m \u001b[38;5;28;01mimport\u001b[39;00m SSL \u001b[38;5;28;01mas\u001b[39;00m _SSL\n\u001b[1;32m     32\u001b[0m \u001b[38;5;28;01mfrom\u001b[39;00m \u001b[38;5;21;01mOpenSSL\u001b[39;00m \u001b[38;5;28;01mimport\u001b[39;00m crypto \u001b[38;5;28;01mas\u001b[39;00m _crypto\n\u001b[1;32m     34\u001b[0m \u001b[38;5;28;01mfrom\u001b[39;00m \u001b[38;5;21;01mpymongo\u001b[39;00m\u001b[38;5;21;01m.\u001b[39;00m\u001b[38;5;21;01merrors\u001b[39;00m \u001b[38;5;28;01mimport\u001b[39;00m ConfigurationError \u001b[38;5;28;01mas\u001b[39;00m _ConfigurationError\n",
      "File \u001b[0;32m~/anaconda3/lib/python3.10/site-packages/OpenSSL/__init__.py:8\u001b[0m\n\u001b[1;32m      1\u001b[0m \u001b[38;5;66;03m# Copyright (C) AB Strakt\u001b[39;00m\n\u001b[1;32m      2\u001b[0m \u001b[38;5;66;03m# See LICENSE for details.\u001b[39;00m\n\u001b[1;32m      4\u001b[0m \u001b[38;5;124;03m\"\"\"\u001b[39;00m\n\u001b[1;32m      5\u001b[0m \u001b[38;5;124;03mpyOpenSSL - A simple wrapper around the OpenSSL library\u001b[39;00m\n\u001b[1;32m      6\u001b[0m \u001b[38;5;124;03m\"\"\"\u001b[39;00m\n\u001b[0;32m----> 8\u001b[0m \u001b[38;5;28;01mfrom\u001b[39;00m \u001b[38;5;21;01mOpenSSL\u001b[39;00m \u001b[38;5;28;01mimport\u001b[39;00m SSL, crypto\n\u001b[1;32m      9\u001b[0m \u001b[38;5;28;01mfrom\u001b[39;00m \u001b[38;5;21;01mOpenSSL\u001b[39;00m\u001b[38;5;21;01m.\u001b[39;00m\u001b[38;5;21;01mversion\u001b[39;00m \u001b[38;5;28;01mimport\u001b[39;00m (\n\u001b[1;32m     10\u001b[0m     __author__,\n\u001b[1;32m     11\u001b[0m     __copyright__,\n\u001b[0;32m   (...)\u001b[0m\n\u001b[1;32m     17\u001b[0m     __version__,\n\u001b[1;32m     18\u001b[0m )\n\u001b[1;32m     21\u001b[0m __all__ \u001b[38;5;241m=\u001b[39m [\n\u001b[1;32m     22\u001b[0m     \u001b[38;5;124m\"\u001b[39m\u001b[38;5;124mSSL\u001b[39m\u001b[38;5;124m\"\u001b[39m,\n\u001b[1;32m     23\u001b[0m     \u001b[38;5;124m\"\u001b[39m\u001b[38;5;124mcrypto\u001b[39m\u001b[38;5;124m\"\u001b[39m,\n\u001b[0;32m   (...)\u001b[0m\n\u001b[1;32m     31\u001b[0m     \u001b[38;5;124m\"\u001b[39m\u001b[38;5;124m__version__\u001b[39m\u001b[38;5;124m\"\u001b[39m,\n\u001b[1;32m     32\u001b[0m ]\n",
      "File \u001b[0;32m~/anaconda3/lib/python3.10/site-packages/OpenSSL/SSL.py:19\u001b[0m\n\u001b[1;32m      7\u001b[0m \u001b[38;5;28;01mfrom\u001b[39;00m \u001b[38;5;21;01mweakref\u001b[39;00m \u001b[38;5;28;01mimport\u001b[39;00m WeakValueDictionary\n\u001b[1;32m      9\u001b[0m \u001b[38;5;28;01mfrom\u001b[39;00m \u001b[38;5;21;01mOpenSSL\u001b[39;00m\u001b[38;5;21;01m.\u001b[39;00m\u001b[38;5;21;01m_util\u001b[39;00m \u001b[38;5;28;01mimport\u001b[39;00m (\n\u001b[1;32m     10\u001b[0m     UNSPECIFIED \u001b[38;5;28;01mas\u001b[39;00m _UNSPECIFIED,\n\u001b[1;32m     11\u001b[0m     exception_from_error_queue \u001b[38;5;28;01mas\u001b[39;00m _exception_from_error_queue,\n\u001b[0;32m   (...)\u001b[0m\n\u001b[1;32m     17\u001b[0m     text_to_bytes_and_warn \u001b[38;5;28;01mas\u001b[39;00m _text_to_bytes_and_warn,\n\u001b[1;32m     18\u001b[0m )\n\u001b[0;32m---> 19\u001b[0m \u001b[38;5;28;01mfrom\u001b[39;00m \u001b[38;5;21;01mOpenSSL\u001b[39;00m\u001b[38;5;21;01m.\u001b[39;00m\u001b[38;5;21;01mcrypto\u001b[39;00m \u001b[38;5;28;01mimport\u001b[39;00m (\n\u001b[1;32m     20\u001b[0m     FILETYPE_PEM,\n\u001b[1;32m     21\u001b[0m     PKey,\n\u001b[1;32m     22\u001b[0m     X509,\n\u001b[1;32m     23\u001b[0m     X509Name,\n\u001b[1;32m     24\u001b[0m     X509Store,\n\u001b[1;32m     25\u001b[0m     _PassphraseHelper,\n\u001b[1;32m     26\u001b[0m )\n\u001b[1;32m     28\u001b[0m __all__ \u001b[38;5;241m=\u001b[39m [\n\u001b[1;32m     29\u001b[0m     \u001b[38;5;124m\"\u001b[39m\u001b[38;5;124mOPENSSL_VERSION_NUMBER\u001b[39m\u001b[38;5;124m\"\u001b[39m,\n\u001b[1;32m     30\u001b[0m     \u001b[38;5;124m\"\u001b[39m\u001b[38;5;124mSSLEAY_VERSION\u001b[39m\u001b[38;5;124m\"\u001b[39m,\n\u001b[0;32m   (...)\u001b[0m\n\u001b[1;32m    125\u001b[0m     \u001b[38;5;124m\"\u001b[39m\u001b[38;5;124mConnection\u001b[39m\u001b[38;5;124m\"\u001b[39m,\n\u001b[1;32m    126\u001b[0m ]\n\u001b[1;32m    129\u001b[0m OPENSSL_VERSION_NUMBER \u001b[38;5;241m=\u001b[39m _lib\u001b[38;5;241m.\u001b[39mOPENSSL_VERSION_NUMBER\n",
      "File \u001b[0;32m~/anaconda3/lib/python3.10/site-packages/OpenSSL/crypto.py:1616\u001b[0m\n\u001b[1;32m   1612\u001b[0m         ext\u001b[38;5;241m.\u001b[39m_extension \u001b[38;5;241m=\u001b[39m _ffi\u001b[38;5;241m.\u001b[39mgc(extension, _lib\u001b[38;5;241m.\u001b[39mX509_EXTENSION_free)\n\u001b[1;32m   1613\u001b[0m         \u001b[38;5;28;01mreturn\u001b[39;00m ext\n\u001b[0;32m-> 1616\u001b[0m \u001b[38;5;28;01mclass\u001b[39;00m \u001b[38;5;21;01mX509StoreFlags\u001b[39;00m:\n\u001b[1;32m   1617\u001b[0m \u001b[38;5;250m    \u001b[39m\u001b[38;5;124;03m\"\"\"\u001b[39;00m\n\u001b[1;32m   1618\u001b[0m \u001b[38;5;124;03m    Flags for X509 verification, used to change the behavior of\u001b[39;00m\n\u001b[1;32m   1619\u001b[0m \u001b[38;5;124;03m    :class:`X509Store`.\u001b[39;00m\n\u001b[0;32m   (...)\u001b[0m\n\u001b[1;32m   1624\u001b[0m \u001b[38;5;124;03m        https://www.openssl.org/docs/manmaster/man3/X509_VERIFY_PARAM_set_flags.html\u001b[39;00m\n\u001b[1;32m   1625\u001b[0m \u001b[38;5;124;03m    \"\"\"\u001b[39;00m\n\u001b[1;32m   1627\u001b[0m     CRL_CHECK: \u001b[38;5;28mint\u001b[39m \u001b[38;5;241m=\u001b[39m _lib\u001b[38;5;241m.\u001b[39mX509_V_FLAG_CRL_CHECK\n",
      "File \u001b[0;32m~/anaconda3/lib/python3.10/site-packages/OpenSSL/crypto.py:1635\u001b[0m, in \u001b[0;36mX509StoreFlags\u001b[0;34m()\u001b[0m\n\u001b[1;32m   1633\u001b[0m EXPLICIT_POLICY: \u001b[38;5;28mint\u001b[39m \u001b[38;5;241m=\u001b[39m _lib\u001b[38;5;241m.\u001b[39mX509_V_FLAG_EXPLICIT_POLICY\n\u001b[1;32m   1634\u001b[0m INHIBIT_MAP: \u001b[38;5;28mint\u001b[39m \u001b[38;5;241m=\u001b[39m _lib\u001b[38;5;241m.\u001b[39mX509_V_FLAG_INHIBIT_MAP\n\u001b[0;32m-> 1635\u001b[0m NOTIFY_POLICY: \u001b[38;5;28mint\u001b[39m \u001b[38;5;241m=\u001b[39m \u001b[43m_lib\u001b[49m\u001b[38;5;241;43m.\u001b[39;49m\u001b[43mX509_V_FLAG_NOTIFY_POLICY\u001b[49m\n\u001b[1;32m   1636\u001b[0m CHECK_SS_SIGNATURE: \u001b[38;5;28mint\u001b[39m \u001b[38;5;241m=\u001b[39m _lib\u001b[38;5;241m.\u001b[39mX509_V_FLAG_CHECK_SS_SIGNATURE\n\u001b[1;32m   1637\u001b[0m PARTIAL_CHAIN: \u001b[38;5;28mint\u001b[39m \u001b[38;5;241m=\u001b[39m _lib\u001b[38;5;241m.\u001b[39mX509_V_FLAG_PARTIAL_CHAIN\n",
      "\u001b[0;31mAttributeError\u001b[0m: module 'lib' has no attribute 'X509_V_FLAG_NOTIFY_POLICY'"
     ]
    }
   ],
   "source": [
    "from collections import defaultdict\n",
    "import concurrent.futures\n",
    "from itertools import chain\n",
    "import os\n",
    "import re\n",
    "\n",
    "from linkml_runtime.utils.schemaview import SchemaView\n",
    "# from pymongo import InsertOne\n",
    "from toolz import dissoc, assoc\n",
    "from tqdm.notebook import tqdm\n",
    "\n",
    "from nmdc_runtime.api.core.util import pick\n",
    "from nmdc_runtime.api.db.mongo import get_mongo_db, get_nonempty_nmdc_schema_collection_names, get_collection_names_from_schema\n",
    "from nmdc_runtime.util import collection_name_to_class_names, populated_schema_collection_names_with_id_field, nmdc_schema_view, nmdc_database_collection_instance_class_names, get_nmdc_jsonschema_dict\n",
    "from nmdc_schema.nmdc import Database as NMDCDatabase \n",
    "from nmdc_schema.get_nmdc_view import ViewGetter\n"
   ]
  },
  {
   "cell_type": "code",
   "execution_count": null,
   "id": "54072cd7-7b4a-48d6-b55e-d3e796f829f3",
   "metadata": {},
   "outputs": [],
   "source": [
    "\n",
    "mdb = get_mongo_db()\n",
    "schema_view = nmdc_schema_view()"
   ]
  },
  {
   "attachments": {},
   "cell_type": "markdown",
   "id": "bcb5802b-8205-49b7-8784-dc137baff1a0",
   "metadata": {},
   "source": [
    "## Check for errors in the database"
   ]
  },
  {
   "attachments": {},
   "cell_type": "markdown",
   "id": "1ab96cda-30ab-4e93-a0b1-3a936599305d",
   "metadata": {},
   "source": [
    "The `nmdc_schema_collection_names` function returns the populated (having at least one document) set-intersection of (a) the set of collection names present in the Mongo database and (b) the set of Database slots in the schema that correspond to a collection (defined as being multivalued and values being inlined as a list)."
   ]
  },
  {
   "cell_type": "code",
   "execution_count": 5,
   "id": "1d76b70e-4412-4b17-9db9-322ac791859a",
   "metadata": {},
   "outputs": [
    {
     "name": "stdout",
     "output_type": "stream",
     "text": [
      "{'study_set', 'workflow_execution_set', 'material_processing_set', 'instrument_set', 'data_object_set', 'configuration_set', 'biosample_set', 'functional_annotation_agg', 'calibration_set', 'processed_sample_set', 'field_research_site_set', 'data_generation_set'}\n"
     ]
    }
   ],
   "source": [
    "collection_names = get_nonempty_nmdc_schema_collection_names(mdb)\n",
    "print(collection_names)\n",
    "\n",
    "# TODO: Verify that the below util, which the dagster op uses, \n",
    "# returns the same list of collection names as the previous util (above)\n",
    "collection_names = populated_schema_collection_names_with_id_field(mdb)\n",
    "print(collection_names)"
   ]
  },
  {
   "attachments": {},
   "cell_type": "markdown",
   "id": "f058e8d7-7d5f-4c8d-8136-eb808eba88bc",
   "metadata": {},
   "source": [
    "Collect a set `document_class_names` that contains all possible class names for all documents across all schema collections. Each document-class name in this set will be used as a key in the map below. \n",
    "\n",
    "Create a map `cls_slot_map` that contains sub-maps of [slot name: slot definition] for each slot for each document-class name in the above set of document class names. Class slots here are (to quote the LinkML SchemaView documentation) \"all slots that are asserted or inferred for [the] class, with their inferred semantics.\" \n",
    "\n"
   ]
  },
  {
   "cell_type": "code",
   "execution_count": 6,
   "id": "df817f5c-77bf-48eb-a77a-432fa1b01052",
   "metadata": {},
   "outputs": [],
   "source": [
    "# TODO: This is inconsistent with dagster. If working correctly, replace dagster with this\n",
    "\n",
    "# NOTE:`collection_name_to_class_names` is a mapping from collection name to a list of class names allowable \n",
    "# for that collection's documents. It uses the `get_class_names_from_collection_spec()` util, which accounts  \n",
    "# for `AnyOf` relations, as well as `nmdc_schema_view().class_descendants()` for all descendant classes.\n",
    "document_class_names = set(chain.from_iterable(collection_name_to_class_names.values()))\n",
    "\n",
    "cls_slot_map = {\n",
    "    cls_name : {slot.name: slot\n",
    "                for slot in schema_view.class_induced_slots(cls_name)\n",
    "               }\n",
    "    for cls_name in document_class_names\n",
    "}"
   ]
  },
  {
   "cell_type": "code",
   "execution_count": 8,
   "id": "12e7d00e-0ec4-45de-b0da-1b618ef7e80b",
   "metadata": {},
   "outputs": [],
   "source": [
    "def collect_errors(note_doc_field_errors):\n",
    "    errors = {\"bad_type\": [], \"no_type\": [], \"bad_slot\": [], \"is_null\": []}\n",
    "    n_docs_total = sum(mdb[coll_name].estimated_document_count() for coll_name in collection_names)\n",
    "    pbar = tqdm(total=n_docs_total)\n",
    "    n_errors_cache = 0\n",
    "    for coll_name in sorted(collection_names):\n",
    "        cls_names = collection_name_to_class_names[coll_name]\n",
    "        pbar.set_description(f\"processing {coll_name}...\")\n",
    "        # Iterate over each document (as a dictionary) in this collection.\n",
    "        for doc in mdb[coll_name].find():\n",
    "            doc = dissoc(doc, \"_id\")\n",
    "            \n",
    "            # Ensure we know the document's type.\n",
    "            cls_name = None\n",
    "            cls_type_match = re.match(r\"^nmdc:(?P<name>.+)\", doc.get(\"type\", \"\"))\n",
    "            if cls_type_match is not None:\n",
    "                cls_name = cls_type_match.group(\"name\")\n",
    "                if cls_name not in cls_names:\n",
    "                    errors[\"bad_type\"].append(f\"{coll_name} doc {doc['id']}: doc type {cls_name} not in those allowed for {coll_name}, i.e. {cls_names}.\")\n",
    "                    cls_name = None\n",
    "            elif len(cls_names) == 1:\n",
    "                cls_name = cls_names[0]\n",
    "            else:\n",
    "                errors[\"no_type\"].append(f\"{coll_name} doc {doc['id']}: 'type' not set.\")\n",
    "\n",
    "            if cls_name is not None:        \n",
    "                slot_map = cls_slot_map[cls_name]\n",
    "                # Iterate over each key/value pair in the dictionary (document).\n",
    "                for field, value in doc.items():\n",
    "                    if field in slot_map:\n",
    "                        if not isinstance(value, list):\n",
    "                            value = [value]\n",
    "                        for v in value:\n",
    "                            note_doc_field_errors(value=v,field=field,doc=doc,coll_name=coll_name,errors=errors)                \n",
    "                    else:\n",
    "                        errors[\"bad_slot\"].append(f\"{coll_name} doc {doc['id']}: field '{field}' not a valid slot\")\n",
    "            pbar.update(1)\n",
    "            n_errors = sum([len(v) for v in errors.values()])\n",
    "            if n_errors > n_errors_cache:\n",
    "                print(f\"{n_errors} errors so far...\")\n",
    "                n_errors_cache = n_errors\n",
    "    pbar.close()\n",
    "    return errors"
   ]
  },
  {
   "cell_type": "code",
   "execution_count": 9,
   "id": "14afb4c6-b0b7-4fd7-8e2f-13c682c74409",
   "metadata": {},
   "outputs": [],
   "source": [
    "def note_doc_field_errors(value=None, field=None, doc=None, coll_name=None, errors=None):\n",
    "    # No fields should be null-valued.\n",
    "    # Example of how this may happen: JSON serialization from pydantic models may set optional fields to `null`.\n",
    "    if value is None:\n",
    "        errors[\"is_null\"].append(f\"{coll_name} doc {doc['id']}: field {field} is null.\")"
   ]
  },
  {
   "cell_type": "code",
   "execution_count": 10,
   "id": "829039e5-7abe-4c50-ba44-e384b45b7535",
   "metadata": {
    "scrolled": true
   },
   "outputs": [
    {
     "data": {
      "application/vnd.jupyter.widget-view+json": {
       "model_id": "6c88577a3a9342808d3bbc0e3707a95a",
       "version_major": 2,
       "version_minor": 0
      },
      "text/plain": [
       "  0%|          | 0/2351449 [00:00<?, ?it/s]"
      ]
     },
     "metadata": {},
     "output_type": "display_data"
    },
    {
     "name": "stdout",
     "output_type": "stream",
     "text": [
      "{'bad_type': [], 'no_type': [], 'bad_slot': [], 'is_null': []}\n"
     ]
    }
   ],
   "source": [
    "errors = collect_errors(note_doc_field_errors)\n",
    "print(errors)"
   ]
  },
  {
   "attachments": {},
   "cell_type": "markdown",
   "id": "21c2f771-b8da-466a-90e8-2c17ac5e6388",
   "metadata": {},
   "source": [
    "## Materialize single-collection view of database"
   ]
  },
  {
   "attachments": {},
   "cell_type": "markdown",
   "id": "b962e3c8-a346-49c5-8470-915f3cf9eb07",
   "metadata": {},
   "source": [
    "The `alldocs` collection associates each database document's `id` with not only its class (via that document's `type` field) but also with all ancestors of the docuement's class.\n",
    "\n",
    "The set-of-classes association is done by setting the `type` field in an `alldocs` document to be a list, which facilitates filtering by type using the same strutured query forms as for upstream schema collections. The first element of the `type` list *must* correspond to the source document's asserted class; this is so that validation code can determine the expected range of document slots, as slot ranges may be specialized by a class (via linkml \"slot_usage\").\n",
    "\n",
    "To keep the `alldocs` collection focused on supporting referential-integrity checking, only document-reference-ranged slots from source documents are copied to an entity's corresponding `alldocs` materialization. "
   ]
  },
  {
   "cell_type": "code",
   "execution_count": 11,
   "id": "98fbfdff-51d6-42c5-9448-3b4616a2c9cb",
   "metadata": {},
   "outputs": [],
   "source": [
    "# Any ancestor of a document class is a document-referenceable range, i.e., a valid range of a document-reference-ranged slot.\n",
    "document_referenceable_ranges = set(chain.from_iterable(schema_view.class_ancestors(cls_name) for cls_name in document_class_names))\n",
    "\n",
    "document_reference_ranged_slots = defaultdict(list)\n",
    "for cls_name, slot_map in cls_slot_map.items():\n",
    "    for slot_name, slot in slot_map.items():\n",
    "        if str(slot.range) in document_referenceable_ranges:\n",
    "            document_reference_ranged_slots[cls_name].append(slot_name)"
   ]
  },
  {
   "cell_type": "code",
   "execution_count": 12,
   "id": "d253c567-533f-440f-8376-03a6e1e905cf",
   "metadata": {},
   "outputs": [],
   "source": [
    "def doc_cls(doc, coll_name=None):\n",
    "    \"\"\"Return unprefixed name of document class.\n",
    "\n",
    "    Try to get from doc['type'] (lopping off 'nmdc:' prefix).\n",
    "    Else, if can unambiguously infer type given coll_name, use that.\n",
    "    Else, return None.\n",
    "    \"\"\"\n",
    "    if 'type' in doc:\n",
    "        return doc['type'][5:] # lop off \"nmdc:\" prefix\n",
    "    elif coll_name and len(collection_name_to_class_names[coll_name]) == 1:\n",
    "        return collection_name_to_class_names[coll_name][0]"
   ]
  },
  {
   "cell_type": "code",
   "execution_count": 13,
   "id": "b2e618f3-78b9-42b6-8ea9-63d080b1b0f6",
   "metadata": {
    "scrolled": true
   },
   "outputs": [
    {
     "data": {
      "application/vnd.jupyter.widget-view+json": {
       "model_id": "f63a4ce942bc4278b3e99a5a87b0155c",
       "version_major": 2,
       "version_minor": 0
      },
      "text/plain": [
       "  0%|          | 0/2351449 [00:00<?, ?it/s]"
      ]
     },
     "metadata": {},
     "output_type": "display_data"
    },
    {
     "name": "stdout",
     "output_type": "stream",
     "text": [
      "refreshed `alldocs` collection\n"
     ]
    }
   ],
   "source": [
    "# Drop any existing `alldocs` collection (e.g. from previous use of this notebook).\n",
    "mdb.alldocs.drop()\n",
    "\n",
    "# Set up progress bar\n",
    "n_docs_total = sum(mdb[name].estimated_document_count() for name in collection_names)\n",
    "pbar = tqdm(total=n_docs_total)\n",
    "\n",
    "def compile_alldocs_collection(collection_names):\n",
    "    \n",
    "    for coll_name in collection_names:\n",
    "        pbar.set_description(f\"processing {coll_name}...\")\n",
    "        requests = []\n",
    "        for doc in mdb[coll_name].find():\n",
    "            doc_type = doc_cls(doc, coll_name=coll_name)\n",
    "            slots_to_include = [\"id\"] + document_reference_ranged_slots[doc_type]\n",
    "            new_doc = pick(slots_to_include, doc)\n",
    "            new_doc[\"type\"] = schema_view.class_ancestors(doc_type)\n",
    "            requests.append(InsertOne(new_doc))\n",
    "            if len(requests) == 1000: # ensure bulk-write batches aren't too huge\n",
    "                result = mdb.alldocs.bulk_write(requests, ordered=False)\n",
    "                pbar.update(result.inserted_count)\n",
    "                requests.clear()\n",
    "        if len(requests) > 0:\n",
    "            result = mdb.alldocs.bulk_write(requests, ordered=False)\n",
    "            pbar.update(result.inserted_count)\n",
    "    pbar.close()\n",
    "    \n",
    "    # Prior to re-ID-ing, some IDs are not unique across Mongo collections (eg nmdc:0078a0f981ad3f92693c2bc3b6470791)\n",
    "    \n",
    "    # Ensure unique id index for `alldocs` collection.\n",
    "    # The index is sparse because e.g. nmdc:FunctionalAnnotationAggMember documents don't have an \"id\".\n",
    "    mdb.alldocs.create_index(\"id\", unique=True, sparse=True)\n",
    "\n",
    "compile_alldocs_collection\n",
    "\n",
    "print(\"refreshed `alldocs` collection\")"
   ]
  },
  {
   "attachments": {},
   "cell_type": "markdown",
   "id": "f0569fde",
   "metadata": {},
   "source": [
    "The resulting `alldocs` collection contains a copy of every document from every Mongo collection identified earlier. The copy has a subset of the key-value pairs as the original document, except that its `type` field contains a list of the names of its own class and all of its ancestor classes (whereas the original document's `type` field either is unset or contains its own class only)."
   ]
  },
  {
   "attachments": {},
   "cell_type": "markdown",
   "id": "ca194c0f-7417-41d2-bea8-a5a54392fee6",
   "metadata": {},
   "source": [
    "## Validate"
   ]
  },
  {
   "attachments": {},
   "cell_type": "markdown",
   "id": "8645690e-7a9d-4f1e-8e62-0cbdde825890",
   "metadata": {},
   "source": [
    "### Check referential integrity\n",
    "\n",
    "In this cell, we populate two lists:\n",
    "\n",
    "- `errors.not_found`: a list of \"naive\" errors\n",
    "- `errors.invalid_type`: a list of (hierarchy-aware) type errors (document was found, but is of an invalid type)\n",
    "\n",
    "Reference: https://linkml.io/linkml/developers/schemaview.html#linkml_runtime.utils.schemaview.SchemaView.class_induced_slots"
   ]
  },
  {
   "cell_type": "code",
   "execution_count": 14,
   "id": "d0374653-c074-4a87-aef8-24323a5a63b3",
   "metadata": {},
   "outputs": [],
   "source": [
    "def doc_assertions(limit=0):\n",
    "    \"\"\"Yields batches of 1000 assertions to greatly speed up processing.\"\"\"\n",
    "    # Initialize progress bar.\n",
    "    pbar = tqdm(total=(mdb.alldocs.estimated_document_count() if limit == 0 else limit))\n",
    "    rv = []\n",
    "    for doc in mdb.alldocs.find(limit=limit):\n",
    "        # Iterate over each key/value pair in the dictionary (document).\n",
    "        for field, value in doc.items():\n",
    "            if field in (\"_id\", \"id\", \"type\"):\n",
    "                continue\n",
    "            slot_range = str(cls_slot_map[doc[\"type\"][0]][field].range) # assumes upstream doc type is listed first.\n",
    "            if not isinstance(value, list):\n",
    "                value = [value]\n",
    "            for v in value:\n",
    "                rv.append({\n",
    "                    \"id\": doc.get(\"id\", doc[\"_id\"]),\n",
    "                    \"id_is_nmdc_id\": \"id\" in doc,\n",
    "                    \"field\": field,\n",
    "                    \"value\": v,\n",
    "                    \"slot_range\": slot_range,\n",
    "                })\n",
    "                if len(rv) == 1000:\n",
    "                    yield rv\n",
    "                    rv.clear()\n",
    "        pbar.update(1)\n",
    "    yield rv\n",
    "    pbar.close()"
   ]
  },
  {
   "cell_type": "code",
   "execution_count": 15,
   "id": "103d70b6-24ab-41bd-8b7f-d2faaa028bdf",
   "metadata": {
    "scrolled": true
   },
   "outputs": [
    {
     "data": {
      "application/vnd.jupyter.widget-view+json": {
       "model_id": "c8c75b6bd622470f9ded8e3813fc1d64",
       "version_major": 2,
       "version_minor": 0
      },
      "text/plain": [
       "  0%|          | 0/3039449 [00:00<?, ?it/s]"
      ]
     },
     "metadata": {},
     "output_type": "display_data"
    }
   ],
   "source": [
    "from pprint import pprint\n",
    "\n",
    "def doc_field_value_errors(assertions):\n",
    "    errors = {\"not_found\": [], \"invalid_type\": []}\n",
    "    assertions_by_referenced_id_value = defaultdict(list)\n",
    "    for a in assertions:\n",
    "        assertions_by_referenced_id_value[a[\"value\"]].append(a)\n",
    "    doc_id_types = {}\n",
    "    for d in list(mdb.alldocs.find({\"id\": {\"$in\": list(assertions_by_referenced_id_value.keys())}}, {\"_id\": 0, \"id\": 1, \"type\": 1})):\n",
    "        doc_id_types[d[\"id\"]] = d[\"type\"]\n",
    "\n",
    "    for id_value, id_value_assertions in assertions_by_referenced_id_value.items():\n",
    "        if id_value not in doc_id_types:\n",
    "            errors[\"not_found\"].extend(id_value_assertions)\n",
    "        else:\n",
    "            for a in id_value_assertions:\n",
    "                if a[\"slot_range\"] not in doc_id_types[a[\"value\"]]:\n",
    "                    errors[\"invalid_type\"].append(a)\n",
    "\n",
    "    return errors\n",
    "\n",
    "\n",
    "# Initialize \"global\" error lists.\n",
    "errors = {\"not_found\": [], \"invalid_type\": []}\n",
    "\n",
    "# Use a with statement to ensure threads are cleaned up promptly\n",
    "with concurrent.futures.ThreadPoolExecutor(max_workers=None) as executor:\n",
    "    future_to_errors = {executor.submit(doc_field_value_errors, das): das for das in doc_assertions()}\n",
    "    for future in concurrent.futures.as_completed(future_to_errors):\n",
    "        doc_asserts = future_to_errors[future]\n",
    "        try:\n",
    "            data = future.result()\n",
    "        except Exception as exc:\n",
    "            print(\"exception:\", str(exc))\n",
    "        else:\n",
    "            errors[\"not_found\"].extend(data[\"not_found\"])\n",
    "            errors[\"invalid_type\"].extend(data[\"invalid_type\"])"
   ]
  },
  {
   "attachments": {},
   "cell_type": "markdown",
   "id": "9d2ce4a3-fb33-4b47-9c7f-a7919405ab65",
   "metadata": {},
   "source": [
    "## Results\n",
    "\n",
    "Display the number errors in each list."
   ]
  },
  {
   "cell_type": "code",
   "execution_count": 16,
   "id": "e01450d1-3369-4fc5-80be-9787e00a6597",
   "metadata": {},
   "outputs": [
    {
     "data": {
      "text/plain": [
       "(5, 45604)"
      ]
     },
     "execution_count": 16,
     "metadata": {},
     "output_type": "execute_result"
    }
   ],
   "source": [
    "len(errors[\"not_found\"]), len(errors[\"invalid_type\"])\n",
    "# results prior to re-id-ing: (4857, 23503)\n",
    "# results prior to v10.5.5: (33, 20488)\n",
    "# results with v10.5.5: (33, 6900)"
   ]
  },
  {
   "attachments": {},
   "cell_type": "markdown",
   "id": "54a560df",
   "metadata": {},
   "source": [
    "Display a few errors from one of the lists, as an example."
   ]
  },
  {
   "cell_type": "code",
   "execution_count": 17,
   "id": "afd25543-1cb3-4887-9aba-0086d4b998a6",
   "metadata": {},
   "outputs": [
    {
     "data": {
      "text/plain": [
       "{'nmdc:dobj-11-cvcxxr53', 'nmdc:dobj-11-fg28a080', 'nmdc:dobj-11-gxgpbv06'}"
      ]
     },
     "execution_count": 17,
     "metadata": {},
     "output_type": "execute_result"
    }
   ],
   "source": [
    "{e[\"value\"] for e in errors[\"not_found\"]}"
   ]
  },
  {
   "cell_type": "code",
   "execution_count": 18,
   "id": "a25857f4-e26e-4896-9e5f-607e7b4bb07c",
   "metadata": {},
   "outputs": [
    {
     "data": {
      "text/plain": [
       "[{'id': 'nmdc:wfmgan-11-w1d6gy98.1',\n",
       "  'id_is_nmdc_id': True,\n",
       "  'field': 'has_input',\n",
       "  'value': 'nmdc:dobj-11-cvcxxr53',\n",
       "  'slot_range': 'NamedThing'},\n",
       " {'id': 'nmdc:wfmgan-11-fmymf551.1',\n",
       "  'id_is_nmdc_id': True,\n",
       "  'field': 'has_input',\n",
       "  'value': 'nmdc:dobj-11-fg28a080',\n",
       "  'slot_range': 'NamedThing'},\n",
       " {'id': 'nmdc:wfmgan-11-3nkefn97.1',\n",
       "  'id_is_nmdc_id': True,\n",
       "  'field': 'has_input',\n",
       "  'value': 'nmdc:dobj-11-gxgpbv06',\n",
       "  'slot_range': 'NamedThing'},\n",
       " {'id': 'nmdc:wfmgan-11-fmymf551.1',\n",
       "  'id_is_nmdc_id': True,\n",
       "  'field': 'has_input',\n",
       "  'value': 'nmdc:dobj-11-fg28a080',\n",
       "  'slot_range': 'NamedThing'},\n",
       " {'id': 'nmdc:wfmgan-11-3nkefn97.1',\n",
       "  'id_is_nmdc_id': True,\n",
       "  'field': 'has_input',\n",
       "  'value': 'nmdc:dobj-11-gxgpbv06',\n",
       "  'slot_range': 'NamedThing'}]"
      ]
     },
     "execution_count": 18,
     "metadata": {},
     "output_type": "execute_result"
    }
   ],
   "source": [
    "errors[\"not_found\"][:5]"
   ]
  },
  {
   "attachments": {},
   "cell_type": "markdown",
   "id": "2bd191cd",
   "metadata": {},
   "source": [
    "Display an example `invalid_type` errors for each of the set of expected types that are not being found:"
   ]
  },
  {
   "cell_type": "code",
   "execution_count": 19,
   "id": "33516e3c-f10d-4c30-942b-0d01d06082f9",
   "metadata": {},
   "outputs": [
    {
     "name": "stdout",
     "output_type": "stream",
     "text": [
      "{'id': 'nmdc:dobj-11-xt088e26', 'id_is_nmdc_id': True, 'field': 'was_generated_by', 'value': 'nmdc:omprc-11-ymxzx274', 'slot_range': 'WorkflowExecution'}\n"
     ]
    }
   ],
   "source": [
    "slot_range_examples = {}\n",
    "for e in errors[\"invalid_type\"]:\n",
    "    slot_range_examples[e[\"slot_range\"]] = e\n",
    "\n",
    "for ex in slot_range_examples.values():\n",
    "    print(ex)"
   ]
  },
  {
   "attachments": {},
   "cell_type": "markdown",
   "id": "d4abec53",
   "metadata": {},
   "source": [
    "Spot check one of those errors."
   ]
  },
  {
   "cell_type": "code",
   "execution_count": 20,
   "id": "29ec7e82-d079-4525-bd7b-d770fd69d788",
   "metadata": {},
   "outputs": [
    {
     "data": {
      "text/plain": [
       "{'_id': ObjectId('66edad78007ef07eb670a09d'),\n",
       " 'id': 'nmdc:omprc-11-sxze4w22',\n",
       " 'has_input': ['nmdc:bsm-11-978cs285'],\n",
       " 'has_output': ['nmdc:dobj-11-1epz0d53'],\n",
       " 'associated_studies': ['nmdc:sty-11-28tm5d36'],\n",
       " 'instrument_used': ['nmdc:inst-14-mwrrj632'],\n",
       " 'type': ['MassSpectrometry',\n",
       "  'DataGeneration',\n",
       "  'PlannedProcess',\n",
       "  'NamedThing']}"
      ]
     },
     "execution_count": 20,
     "metadata": {},
     "output_type": "execute_result"
    }
   ],
   "source": [
    "# OmicsProcessing is not subclass of Activity\n",
    "mdb.alldocs.find_one({\"id\": \"nmdc:omprc-11-sxze4w22\"})"
   ]
  },
  {
   "cell_type": "code",
   "execution_count": 21,
   "id": "802290e0-58dd-4fbd-835a-c9928006819d",
   "metadata": {},
   "outputs": [
    {
     "data": {
      "text/plain": [
       "{'_id': ObjectId('66edad78007ef07eb67078c8'),\n",
       " 'id': 'nmdc:procsm-11-v5sykd35',\n",
       " 'type': ['ProcessedSample', 'MaterialEntity', 'NamedThing']}"
      ]
     },
     "execution_count": 21,
     "metadata": {},
     "output_type": "execute_result"
    }
   ],
   "source": [
    "# ProcessedSample is not subclass of Biosample\n",
    "mdb.alldocs.find_one({\"id\": \"nmdc:procsm-11-v5sykd35\"})"
   ]
  }
 ],
 "metadata": {
  "kernelspec": {
   "display_name": "Python 3 (ipykernel)",
   "language": "python",
   "name": "python3"
  },
  "language_info": {
   "codemirror_mode": {
    "name": "ipython",
    "version": 3
   },
   "file_extension": ".py",
   "mimetype": "text/x-python",
   "name": "python",
   "nbconvert_exporter": "python",
   "pygments_lexer": "ipython3",
   "version": "3.10.9"
  }
 },
 "nbformat": 4,
 "nbformat_minor": 5
}
