{
 "cells": [
  {
   "cell_type": "markdown",
   "id": "2a66b2dc",
   "metadata": {},
   "source": [
    "# Referential integrity checker (prototype)"
   ]
  },
  {
   "cell_type": "markdown",
   "id": "c892eac06fb1a86a",
   "metadata": {},
   "source": [
    "## Prerequisites\n",
    "\n",
    "Before running this notebook, make sure you have done the following:\n",
    "\n",
    "1. Run `$ make up-dev`\n",
    "2. Map `localhost:27018` to the Mongo server you want to use\n",
    "3. Load a recent dump of the production Mongo database into that Mongo server (see `$ make mongorestore-nmdc-db` for an example)\n",
    "4. In the `.env` file, set `MONGO_HOST` to `mongodb://localhost:27018`\n",
    "5. Run `$ export $(grep -v '^#' .env | xargs)` to load the environment variables defined in `.env` into your shell environment\n",
    "6. Run `make init` to ensure a consistent python kernel for this notebook.\n",
    "\n",
    "Once you've done all of those things, you can run this notebook (e.g. via `$ jupyter notebook`) \n"
   ]
  },
  {
   "cell_type": "code",
   "execution_count": 1,
   "id": "93e58d1c-0d88-4830-b618-0bd8de703215",
   "metadata": {},
   "outputs": [
    {
     "name": "stdout",
     "output_type": "stream",
     "text": [
      "localhost:27018\n"
     ]
    }
   ],
   "source": [
    "!echo $MONGO_HOST"
   ]
  },
  {
   "cell_type": "markdown",
   "id": "8f03ce22",
   "metadata": {},
   "source": [
    "## Enable automatic reloading of modules\n",
    "\n",
    "Reference: https://ipython.readthedocs.io/en/stable/config/extensions/autoreload.html#autoreload"
   ]
  },
  {
   "cell_type": "code",
   "execution_count": 2,
   "id": "f1c8bdb5",
   "metadata": {},
   "outputs": [],
   "source": [
    "# Ensure code changes in this notebook will be import-able  \n",
    "# without needing to restart the kernel and lose state\n",
    "%load_ext autoreload\n",
    "%autoreload 2"
   ]
  },
  {
   "cell_type": "markdown",
   "id": "5121e612",
   "metadata": {},
   "source": [
    "## Import Python modules"
   ]
  },
  {
   "cell_type": "markdown",
   "id": "6edb8bf0-cd9d-47da-a33d-081d352fbaec",
   "metadata": {},
   "source": [
    "Be sure you're using the version of `nmdc-schema` you think you are!"
   ]
  },
  {
   "cell_type": "code",
   "execution_count": 3,
   "id": "c5f62482-2b3e-469a-b262-1e8743e1a106",
   "metadata": {},
   "outputs": [
    {
     "data": {
      "text/plain": [
       "'11.1.0'"
      ]
     },
     "execution_count": 3,
     "metadata": {},
     "output_type": "execute_result"
    }
   ],
   "source": [
    "from importlib.metadata import version\n",
    "\n",
    "version(\"nmdc-schema\")"
   ]
  },
  {
   "cell_type": "code",
   "execution_count": 4,
   "id": "f7ff0664-1881-4eca-b018-4c5856dc2489",
   "metadata": {},
   "outputs": [],
   "source": [
    "from collections import defaultdict\n",
    "import concurrent.futures\n",
    "from itertools import chain\n",
    "import os\n",
    "import re\n",
    "\n",
    "from linkml_runtime.utils.schemaview import SchemaView\n",
    "from pymongo import InsertOne\n",
    "from toolz import dissoc, assoc\n",
    "from tqdm.notebook import tqdm\n",
    "\n",
    "from nmdc_runtime.api.core.util import pick\n",
    "from nmdc_runtime.api.db.mongo import get_mongo_db, get_nonempty_nmdc_schema_collection_names, get_collection_names_from_schema\n",
    "from nmdc_runtime.util import collection_name_to_class_names, populated_schema_collection_names_with_id_field, nmdc_schema_view, nmdc_database_collection_instance_class_names, get_nmdc_jsonschema_dict\n",
    "from nmdc_schema.nmdc import Database as NMDCDatabase \n",
    "from nmdc_schema.get_nmdc_view import ViewGetter\n",
    "\n",
    "mdb = get_mongo_db()\n",
    "schema_view = nmdc_schema_view()"
   ]
  },
  {
   "cell_type": "markdown",
   "id": "bcb5802b-8205-49b7-8784-dc137baff1a0",
   "metadata": {},
   "source": [
    "## Create slot mappings"
   ]
  },
  {
   "cell_type": "code",
   "execution_count": 5,
   "id": "1d76b70e-4412-4b17-9db9-322ac791859a",
   "metadata": {},
   "outputs": [],
   "source": [
    "collection_names = populated_schema_collection_names_with_id_field(mdb) # `get_nonempty_nmdc_schema_collection_names` to include \"functional_annotation_agg\""
   ]
  },
  {
   "cell_type": "markdown",
   "id": "f058e8d7-7d5f-4c8d-8136-eb808eba88bc",
   "metadata": {},
   "source": [
    "Collect all possible classes of documents across all schema collections. `collection_name_to_class_names` is a mapping from collection name to a list of class names allowable for that collection's documents."
   ]
  },
  {
   "cell_type": "code",
   "execution_count": 6,
   "id": "df817f5c-77bf-48eb-a77a-432fa1b01052",
   "metadata": {},
   "outputs": [],
   "source": [
    "document_class_names = set(chain.from_iterable(collection_name_to_class_names.values()))"
   ]
  },
  {
   "cell_type": "markdown",
   "id": "2ab85fd8-8b84-49ca-af26-cd9f4b4b8cb4",
   "metadata": {},
   "source": [
    "Map each document-class name to a map of slot name to slot definition. Class slots here are (to quote the LinkML SchemaView documentation) \"all slots that are asserted or inferred for [the] class, with their inferred semantics.\""
   ]
  },
  {
   "cell_type": "code",
   "execution_count": 7,
   "id": "b63a22ec-33ce-4e69-84cb-cf9837f932e0",
   "metadata": {},
   "outputs": [],
   "source": [
    "cls_slot_map = {\n",
    "    cls_name : {slot.name: slot\n",
    "                for slot in schema_view.class_induced_slots(cls_name)\n",
    "               }\n",
    "    for cls_name in document_class_names\n",
    "}"
   ]
  },
  {
   "cell_type": "markdown",
   "id": "21c2f771-b8da-466a-90e8-2c17ac5e6388",
   "metadata": {},
   "source": [
    "## Materialize single-collection view of database"
   ]
  },
  {
   "cell_type": "markdown",
   "id": "b962e3c8-a346-49c5-8470-915f3cf9eb07",
   "metadata": {},
   "source": [
    "The `alldocs` collection associates each database document's `id` with not only its class (via that document's `type` field) but also with all ancestors of the docuement's class.\n",
    "\n",
    "The set-of-classes association is done by setting the `type` field in an `alldocs` document to be a list, which facilitates filtering by type using the same strutured query forms as for upstream schema collections. The first element of the `type` list *must* correspond to the source document's asserted class; this is so that validation code can determine the expected range of document slots, as slot ranges may be specialized by a class (via linkml \"slot_usage\").\n",
    "\n",
    "To keep the `alldocs` collection focused on supporting referential-integrity checking, only document-reference-ranged slots from source documents are copied to an entity's corresponding `alldocs` materialization. "
   ]
  },
  {
   "cell_type": "code",
   "execution_count": 8,
   "id": "11ac53f2-057e-471b-a260-f5a65e3361af",
   "metadata": {},
   "outputs": [],
   "source": [
    "# From https://github.com/microbiomedata/refscan/blob/af092b0e068b671849fe0f323fac2ed54b81d574/refscan/lib/helpers.py#L141-L176\n",
    "\n",
    "from typing import List\n",
    "from linkml_runtime import linkml_model\n",
    "\n",
    "def get_names_of_classes_in_effective_range_of_slot(\n",
    "    schema_view: SchemaView, slot_definition: linkml_model.SlotDefinition\n",
    ") -> List[str]:\n",
    "    r\"\"\"\n",
    "    Determine the slot's \"effective\" range, by taking into account its `any_of` constraints (if defined).\n",
    "\n",
    "    Note: The `any_of` constraints constrain the slot's \"effective\" range beyond that described by the\n",
    "          induced slot definition's `range` attribute. `SchemaView` does not seem to provide the result\n",
    "          of applying those additional constraints, so we do it manually here (if any are defined).\n",
    "          Reference: https://github.com/orgs/linkml/discussions/2101#discussion-6625646\n",
    "\n",
    "    Reference: https://linkml.io/linkml-model/latest/docs/any_of/\n",
    "    \"\"\"\n",
    "\n",
    "    # Initialize the list to be empty.\n",
    "    names_of_eligible_target_classes = []\n",
    "\n",
    "    # If the `any_of` constraint is defined on this slot, use that instead of the `range`.\n",
    "    if \"any_of\" in slot_definition and len(slot_definition.any_of) > 0:\n",
    "        for slot_expression in slot_definition.any_of:\n",
    "            # Use the slot expression's `range` to get the specified eligible class name\n",
    "            # and the names of all classes that inherit from that eligible class.\n",
    "            if slot_expression.range in schema_view.all_classes():\n",
    "                own_and_descendant_class_names = schema_view.class_descendants(slot_expression.range)\n",
    "                names_of_eligible_target_classes.extend(own_and_descendant_class_names)\n",
    "    else:\n",
    "        # Use the slot's `range` to get the specified eligible class name\n",
    "        # and the names of all classes that inherit from that eligible class.\n",
    "        if slot_definition.range in schema_view.all_classes():\n",
    "            own_and_descendant_class_names = schema_view.class_descendants(slot_definition.range)\n",
    "            names_of_eligible_target_classes.extend(own_and_descendant_class_names)\n",
    "\n",
    "    # Remove duplicate class names.\n",
    "    names_of_eligible_target_classes = list(set(names_of_eligible_target_classes))\n",
    "\n",
    "    return names_of_eligible_target_classes"
   ]
  },
  {
   "cell_type": "code",
   "execution_count": 9,
   "id": "98fbfdff-51d6-42c5-9448-3b4616a2c9cb",
   "metadata": {},
   "outputs": [],
   "source": [
    "# Any ancestor of a document class is a document-referenceable range, i.e., a valid range of a document-reference-ranged slot.\n",
    "document_referenceable_ranges = set(chain.from_iterable(schema_view.class_ancestors(cls_name) for cls_name in document_class_names))\n",
    "\n",
    "document_reference_ranged_slots = defaultdict(list)\n",
    "for cls_name, slot_map in cls_slot_map.items():\n",
    "    for slot_name, slot in slot_map.items():\n",
    "        if set(get_names_of_classes_in_effective_range_of_slot(schema_view, slot)) & document_referenceable_ranges:\n",
    "            document_reference_ranged_slots[cls_name].append(slot_name)"
   ]
  },
  {
   "cell_type": "code",
   "execution_count": 10,
   "id": "b2e618f3-78b9-42b6-8ea9-63d080b1b0f6",
   "metadata": {
    "scrolled": true
   },
   "outputs": [
    {
     "data": {
      "application/vnd.jupyter.widget-view+json": {
       "model_id": "47b7ed79df384cf98c527651021fe2cd",
       "version_major": 2,
       "version_minor": 0
      },
      "text/plain": [
       "  0%|          | 0/163175 [00:00<?, ?it/s]"
      ]
     },
     "metadata": {},
     "output_type": "display_data"
    },
    {
     "name": "stdout",
     "output_type": "stream",
     "text": [
      "refreshed `alldocs` collection\n"
     ]
    }
   ],
   "source": [
    "# Drop any existing `alldocs` collection (e.g. from previous use of this notebook).\n",
    "mdb.alldocs.drop()\n",
    "\n",
    "BULK_WRITE_BATCH_SIZE = 2_000 # ensure bulk-write batches aren't too huge\n",
    "\n",
    "# Set up progress bar\n",
    "n_docs_total = sum(mdb[name].estimated_document_count() for name in collection_names)\n",
    "pbar = tqdm(total=n_docs_total)\n",
    "\n",
    "for coll_name in collection_names:\n",
    "    pbar.set_description(f\"processing {coll_name}...\")\n",
    "    requests = []\n",
    "    for doc in mdb[coll_name].find():\n",
    "        doc_type = doc['type'][5:] # lop off \"nmdc:\" prefix\n",
    "        slots_to_include = [\"id\", \"type\"] + document_reference_ranged_slots[doc_type]\n",
    "        new_doc = pick(slots_to_include, doc)\n",
    "        new_doc[\"_type_and_ancestors\"] = schema_view.class_ancestors(doc_type)\n",
    "        requests.append(InsertOne(new_doc))\n",
    "        if len(requests) == BULK_WRITE_BATCH_SIZE: \n",
    "            result = mdb.alldocs.bulk_write(requests, ordered=False)\n",
    "            pbar.update(result.inserted_count)\n",
    "            requests.clear()\n",
    "    if len(requests) > 0:\n",
    "        result = mdb.alldocs.bulk_write(requests, ordered=False)\n",
    "        pbar.update(result.inserted_count)\n",
    "pbar.close()\n",
    "\n",
    "# Prior to re-ID-ing, some IDs are not unique across Mongo collections (eg nmdc:0078a0f981ad3f92693c2bc3b6470791)\n",
    "\n",
    "# Ensure unique id index for `alldocs` collection.\n",
    "# The index is sparse because e.g. nmdc:FunctionalAnnotationAggMember documents don't have an \"id\".\n",
    "mdb.alldocs.create_index(\"id\", unique=True, sparse=True)\n",
    "\n",
    "print(\"refreshed `alldocs` collection\")"
   ]
  },
  {
   "cell_type": "markdown",
   "id": "f0569fde",
   "metadata": {},
   "source": [
    "The resulting `alldocs` collection contains a copy of every document from every Mongo collection identified earlier. The copy has a subset of the key-value pairs as the original document, except that its `type` field contains a list of the names of its own class and all of its ancestor classes (whereas the original document's `type` field either is unset or contains its own class only)."
   ]
  },
  {
   "cell_type": "markdown",
   "id": "ca194c0f-7417-41d2-bea8-a5a54392fee6",
   "metadata": {},
   "source": [
    "## Validate"
   ]
  },
  {
   "cell_type": "markdown",
   "id": "8645690e-7a9d-4f1e-8e62-0cbdde825890",
   "metadata": {},
   "source": [
    "### Check referential integrity\n",
    "\n",
    "In this cell, we populate two lists:\n",
    "\n",
    "- `errors.not_found`: a list of \"naive\" errors\n",
    "- `errors.invalid_type`: a list of (hierarchy-aware) type errors (document was found, but is of an invalid type)\n",
    "\n",
    "Reference: https://linkml.io/linkml/developers/schemaview.html#linkml_runtime.utils.schemaview.SchemaView.class_induced_slots"
   ]
  },
  {
   "cell_type": "code",
   "execution_count": 11,
   "id": "d0374653-c074-4a87-aef8-24323a5a63b3",
   "metadata": {},
   "outputs": [],
   "source": [
    "def doc_assertions(limit=0, batch_size=2_000):\n",
    "    \"\"\"Yields batches of assertions to greatly speed up processing.\"\"\"\n",
    "    # Initialize progress bar.\n",
    "    pbar = tqdm(total=(mdb.alldocs.estimated_document_count() if limit == 0 else limit))\n",
    "    rv = []\n",
    "    for doc in mdb.alldocs.find(limit=limit):\n",
    "        # Iterate over each key/value pair in the dictionary (document).\n",
    "        for field, value in doc.items():\n",
    "            if field.startswith(\"_\") or field in (\"id\", \"type\"):\n",
    "                continue\n",
    "            acceptable_slot_classes = get_names_of_classes_in_effective_range_of_slot(\n",
    "                schema_view,\n",
    "                cls_slot_map[doc[\"type\"][5:]][field],\n",
    "            )\n",
    "            if not isinstance(value, list):\n",
    "                value = [value]\n",
    "            for v in value:\n",
    "                rv.append({\n",
    "                    \"id\": doc.get(\"id\", doc[\"_id\"]),\n",
    "                    \"id_is_nmdc_id\": \"id\" in doc,\n",
    "                    \"field\": field,\n",
    "                    \"value\": v,\n",
    "                    \"acceptable_slot_classes\": acceptable_slot_classes,\n",
    "                })\n",
    "                if len(rv) == batch_size:\n",
    "                    yield rv\n",
    "                    rv.clear()\n",
    "        pbar.update(1)\n",
    "    yield rv\n",
    "    pbar.close()"
   ]
  },
  {
   "cell_type": "code",
   "execution_count": 12,
   "id": "103d70b6-24ab-41bd-8b7f-d2faaa028bdf",
   "metadata": {
    "scrolled": true
   },
   "outputs": [
    {
     "data": {
      "application/vnd.jupyter.widget-view+json": {
       "model_id": "412f98740ae7449399a874b46adae748",
       "version_major": 2,
       "version_minor": 0
      },
      "text/plain": [
       "  0%|          | 0/163175 [00:00<?, ?it/s]"
      ]
     },
     "metadata": {},
     "output_type": "display_data"
    }
   ],
   "source": [
    "from pprint import pprint\n",
    "\n",
    "alldocs_ids = set(mdb.alldocs.distinct(\"id\"))\n",
    "\n",
    "def doc_field_value_errors(assertions):\n",
    "    errors = {\"not_found\": [], \"invalid_type\": []}\n",
    "    # group assertions by referenced \"id\" value.\n",
    "    assertions_by_referenced_id_value = defaultdict(list)\n",
    "    for a in assertions:\n",
    "        assertions_by_referenced_id_value[a[\"value\"]].append(a)\n",
    "    # associate each referenced document id with its type.\n",
    "    doc_id_types = {}\n",
    "    for d in list(mdb.alldocs.find({\"id\": {\"$in\": list(assertions_by_referenced_id_value.keys())}}, {\"_id\": 0, \"id\": 1, \"type\": 1})):\n",
    "        doc_id_types[d[\"id\"]] = d[\"type\"]\n",
    "\n",
    "    for id_value, id_value_assertions in assertions_by_referenced_id_value.items():\n",
    "        if id_value not in alldocs_ids:\n",
    "            errors[\"not_found\"].extend(id_value_assertions)\n",
    "        else:\n",
    "            for a in id_value_assertions:\n",
    "                # check that the document-reported type for this id reference is kosher as per the referring slot's schema definition.\n",
    "                if doc_id_types[a[\"value\"]][5:] not in a[\"acceptable_slot_classes\"]:\n",
    "                    errors[\"invalid_type\"].append(a)\n",
    "\n",
    "    return errors\n",
    "\n",
    "\n",
    "# Initialize \"global\" error lists.\n",
    "errors = {\"not_found\": [], \"invalid_type\": []}\n",
    "\n",
    "for das in doc_assertions(batch_size=2_000):\n",
    "    rv = doc_field_value_errors(das)\n",
    "    errors[\"not_found\"].extend(rv[\"not_found\"])\n",
    "    errors[\"invalid_type\"].extend(rv[\"invalid_type\"])"
   ]
  },
  {
   "cell_type": "markdown",
   "id": "9d2ce4a3-fb33-4b47-9c7f-a7919405ab65",
   "metadata": {},
   "source": [
    "## Results\n",
    "\n",
    "Display the number errors in each list."
   ]
  },
  {
   "cell_type": "code",
   "execution_count": 13,
   "id": "e01450d1-3369-4fc5-80be-9787e00a6597",
   "metadata": {},
   "outputs": [
    {
     "data": {
      "text/plain": [
       "(33, 0)"
      ]
     },
     "execution_count": 13,
     "metadata": {},
     "output_type": "execute_result"
    }
   ],
   "source": [
    "len(errors[\"not_found\"]), len(errors[\"invalid_type\"])\n",
    "# results with v11.1.0 on `/global/cfs/projectdirs/m3408/nmdc-mongodumps/dump_nmdc-prod_2024-11-25_20-12-02/nmdc`: (33, 0)"
   ]
  }
 ],
 "metadata": {
  "kernelspec": {
   "display_name": "nmdc-runtime",
   "language": "python",
   "name": "nmdc-runtime"
  },
  "language_info": {
   "codemirror_mode": {
    "name": "ipython",
    "version": 3
   },
   "file_extension": ".py",
   "mimetype": "text/x-python",
   "name": "python",
   "nbconvert_exporter": "python",
   "pygments_lexer": "ipython3",
   "version": "3.10.12"
  }
 },
 "nbformat": 4,
 "nbformat_minor": 5
}
