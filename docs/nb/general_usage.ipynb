{
 "cells": [
  {
   "cell_type": "markdown",
   "id": "8eadc33e15fcf211",
   "metadata": {},
   "source": [
    "# Using the NMDC Runtime API\n",
    "\n",
    "## Introduction\n",
    "\n",
    "In this tutorial, I'll show you how you can use a Python notebook to interact with the NMDC Runtime API.\n",
    "\n",
    "Specifically, I'll show you how you can use a Python notebook to (a) submit HTTP requests, (b) parse HTTP responses, and (c) authenticate an HTTP client.\n",
    "\n",
    "## Getting help\n",
    "\n",
    "In case you have questions about the contents of this notebook, you can post them as [GitHub issues](https://github.com/microbiomedata/nmdc-runtime/issues/new) in the `microbiomedata/nmdc-runtime` GitHub repository, in which this notebook resides. NMDC team members regularly review open issues. In case you don't have a GitHub account, you can email your questions to the [NMDC Support Team](mailto:support@microbiomedata.org)."
   ]
  },
  {
   "cell_type": "markdown",
   "id": "39cbe06680a4916d",
   "metadata": {},
   "source": [
    "## 1. Install dependencies\n",
    "\n",
    "Before you can access the NMDC Runtime API—which runs as an HTTP service—you'll need an HTTP client. A popular HTTP client for Python is called `requests`. You can install it on your computer by running the following cell:\n",
    "\n"
   ]
  },
  {
   "cell_type": "code",
   "execution_count": 2,
   "id": "49fe57573c851cba",
   "metadata": {
    "ExecuteTime": {
     "end_time": "2025-01-17T06:36:26.872098Z",
     "start_time": "2025-01-17T06:36:25.703022Z"
    }
   },
   "outputs": [],
   "source": [
    "%pip install requests"
   ]
  },
  {
   "cell_type": "markdown",
   "id": "c2d17a26f190dcc0",
   "metadata": {},
   "source": [
    "Now that the `requests` package is installed, you can use it to send HTTP requests to HTTP servers. For example, you can run the following cell to submit an HTTP GET request to an example HTTP server:"
   ]
  },
  {
   "cell_type": "code",
   "execution_count": 6,
   "id": "62d28232a8221431",
   "metadata": {
    "ExecuteTime": {
     "end_time": "2025-01-17T06:46:09.787642Z",
     "start_time": "2025-01-17T06:46:09.613677Z"
    }
   },
   "outputs": [],
   "source": [
    "import requests\n",
    "\n",
    "# Submit an HTTP GET request to an example HTTP server.\n",
    "response = requests.get(\"https://jsonplaceholder.typicode.com/posts/1\")"
   ]
  },
  {
   "cell_type": "markdown",
   "id": "cc9a5755432a76dc",
   "metadata": {},
   "source": [
    "Now that you've submitted the HTTP request, the `response` variable contains information about the HTTP response the example HTTP server sent back. You can examine it by running the following cells:"
   ]
  },
  {
   "cell_type": "code",
   "execution_count": 7,
   "id": "ae560ed292755cd2",
   "metadata": {
    "ExecuteTime": {
     "end_time": "2025-01-17T06:46:11.147029Z",
     "start_time": "2025-01-17T06:46:11.143317Z"
    }
   },
   "outputs": [],
   "source": [
    "# Get the HTTP status code from the response.\n",
    "response.status_code"
   ]
  },
  {
   "cell_type": "code",
   "execution_count": 8,
   "id": "870810045483f31f",
   "metadata": {
    "ExecuteTime": {
     "end_time": "2025-01-17T06:46:12.367741Z",
     "start_time": "2025-01-17T06:46:12.361007Z"
    }
   },
   "outputs": [],
   "source": [
    "# Parse the response as a JSON string.\n",
    "response.json()"
   ]
  },
  {
   "cell_type": "markdown",
   "id": "8f3cd7b73636ff0b",
   "metadata": {},
   "source": [
    "If the first of those cells outputs the number `200` and the second one outputs a Python dictionary having several keys (including `id` and `title`), you are good to go!\n",
    "\n",
    "> In case those cells did not output those things, here are some troubleshooting tips: (1) check your Internet connection, (2) visit the same URL from the example above, in your web browser, and (3) review the [documentation](https://requests.readthedocs.io/en/latest/) of the `requests` package.\n",
    "\n",
    "Now that you can access _an_ HTTP server, let's access the **NMDC Runtime API**."
   ]
  },
  {
   "cell_type": "markdown",
   "id": "fd84435af1503b22",
   "metadata": {},
   "source": [
    "## 2. Access an NMDC Runtime API endpoint\n",
    "\n",
    "The NMDC Runtime API has a variety of API endpoints that you send HTTP requests to.\n",
    "\n",
    "> The full list of API endpoints is listed in the NMDC Runtime API's [API documentation](https://api.microbiomedata.org/docs).\n",
    "\n",
    "One of the API endpoints that I like to send HTTP requests to is `/studies`. That API endpoint responds with a list of all the studies that exist in the NMDC database!\n",
    "\n",
    "You can run the following cell to send an HTTP GET request to that API endpoint:"
   ]
  },
  {
   "cell_type": "code",
   "execution_count": 9,
   "id": "8cc19fe2047322a8",
   "metadata": {
    "ExecuteTime": {
     "end_time": "2025-01-17T06:57:22.368322Z",
     "start_time": "2025-01-17T06:57:22.048361Z"
    }
   },
   "outputs": [],
   "source": [
    "response = requests.get(\"https://api.microbiomedata.org/studies\")"
   ]
  },
  {
   "cell_type": "markdown",
   "id": "77d0bc630d308a46",
   "metadata": {},
   "source": [
    "Now that you have received an HTTP response from the endpoint, you can examine it like before. You can see the JSON data—in this case, a list of studies—by running the code in this cell:"
   ]
  },
  {
   "cell_type": "code",
   "execution_count": 11,
   "id": "e9bf89ac847d5383",
   "metadata": {
    "ExecuteTime": {
     "end_time": "2025-01-17T06:58:31.537245Z",
     "start_time": "2025-01-17T06:58:31.449579Z"
    }
   },
   "outputs": [],
   "source": [
    "response.json()"
   ]
  },
  {
   "cell_type": "markdown",
   "id": "ed22b648710a26c6",
   "metadata": {},
   "source": [
    "Whoa! That's a lot of output. Let's break it down.\n",
    "\n",
    "You can run the following cell to see only its top-level properties:"
   ]
  },
  {
   "cell_type": "code",
   "execution_count": 16,
   "id": "cdc717a66bfc3136",
   "metadata": {
    "ExecuteTime": {
     "end_time": "2025-01-17T07:05:21.982850Z",
     "start_time": "2025-01-17T07:05:21.972839Z"
    }
   },
   "outputs": [],
   "source": [
    "response.json().keys()"
   ]
  },
  {
   "cell_type": "markdown",
   "id": "6611146f6253a742",
   "metadata": {},
   "source": [
    "The `meta` property contains data _about the response_, such as pagination parameters and search filter criteria.\n",
    "\n",
    "The `results` property contains the requested data—in this case, a list of studies.\n",
    "\n",
    "You can ignore the `group_by` property. According to the NMDC Runtime API's API documentation, `group_by` is not implemented yet.\n",
    "\n",
    "Let's display just the `meta` property:"
   ]
  },
  {
   "cell_type": "code",
   "execution_count": 17,
   "id": "4f30bc5dee894252",
   "metadata": {
    "ExecuteTime": {
     "end_time": "2025-01-17T07:11:23.271756Z",
     "start_time": "2025-01-17T07:11:23.249253Z"
    }
   },
   "outputs": [],
   "source": [
    "response.json()[\"meta\"]"
   ]
  },
  {
   "cell_type": "markdown",
   "id": "5eb4a11914ab2971",
   "metadata": {},
   "source": [
    "According to the `meta` property, there are 32 studies in the database.\n",
    "\n",
    "> Note: At the time of this writing, there are 32. When you run the cell, you may see a different number. The database is constantly changing.\n",
    "\n",
    "Let's count the studies we received in the `results` list:"
   ]
  },
  {
   "cell_type": "code",
   "execution_count": 18,
   "id": "c5d6b38c5888050a",
   "metadata": {
    "ExecuteTime": {
     "end_time": "2025-01-17T07:13:27.936952Z",
     "start_time": "2025-01-17T07:13:27.930606Z"
    }
   },
   "outputs": [],
   "source": [
    "len(response.json()[\"results\"])"
   ]
  },
  {
   "cell_type": "markdown",
   "id": "e9b22bd4ae4f88b9",
   "metadata": {},
   "source": [
    "The `results` list contains only 25 studies—as opposed to 32. That's because this endpoint uses [pagination](https://en.wikipedia.org/wiki/Pagination#In_Database), and the default page size happens to be 25.\n",
    "\n",
    "You can customize the page size like this:"
   ]
  },
  {
   "cell_type": "code",
   "execution_count": 21,
   "id": "176887bd5a7c241e",
   "metadata": {
    "ExecuteTime": {
     "end_time": "2025-01-17T07:17:03.432263Z",
     "start_time": "2025-01-17T07:17:02.593617Z"
    }
   },
   "outputs": [],
   "source": [
    "# Resend the same HTTP request, but include a higher page size than the default of 25.\n",
    "response = requests.get(\"https://api.microbiomedata.org/studies?per_page=100\")\n",
    "\n",
    "# Count the studies in the `results` list.\n",
    "len(response.json()[\"results\"])"
   ]
  },
  {
   "cell_type": "markdown",
   "id": "ed4c5916f7315145",
   "metadata": {},
   "source": [
    "There they are!\n",
    "\n",
    "You can use the `per_page` parameter to customize the number of items you want to receive per HTTP response.\n",
    "\n",
    "You can use other parameters to customize the response in other ways, too. For example, you can run the following cell to request only studies whose `ecosystem_category` value is `Aquatic`, and request that the API response contain at most two studies."
   ]
  },
  {
   "cell_type": "code",
   "execution_count": 29,
   "id": "e012062c4f4d454d",
   "metadata": {
    "ExecuteTime": {
     "end_time": "2025-01-17T07:26:20.476666Z",
     "start_time": "2025-01-17T07:26:20.373037Z"
    }
   },
   "outputs": [],
   "source": [
    "response = requests.get(\"https://api.microbiomedata.org/studies?filter=ecosystem_category:Aquatic&per_page=2&sort_by=name\")\n",
    "\n",
    "# Print the number of studies in the response.\n",
    "print(len(response.json()[\"results\"]))\n",
    "\n",
    "# Print their names in the order in which they appear in the response.\n",
    "for study in response.json()[\"results\"]:\n",
    "    print(study[\"name\"])"
   ]
  },
  {
   "cell_type": "markdown",
   "id": "eeab95830833d1f7",
   "metadata": {},
   "source": [
    "**Congratulations!** You've used a Python notebook to retrieve data residing in the NMDC database, via the NMDC Runtime API. 🎉"
   ]
  },
  {
   "cell_type": "markdown",
   "id": "92c00d38",
   "metadata": {},
   "source": [
    "## 3. Access a _protected_ NMDC Runtime API endpoint\n",
    "\n",
    "TODO"
   ]
  },
  {
   "cell_type": "markdown",
   "id": "5e75dc49",
   "metadata": {},
   "source": []
  }
 ],
 "metadata": {
  "kernelspec": {
   "display_name": "Python 3 (ipykernel)",
   "language": "python",
   "name": "python3"
  }
 },
 "nbformat": 5,
 "nbformat_minor": 9
}
