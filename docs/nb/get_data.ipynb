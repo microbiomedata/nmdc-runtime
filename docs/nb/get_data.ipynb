{
 "cells": [
  {
   "cell_type": "markdown",
   "id": "841b8d99",
   "metadata": {},
   "source": [
    "# Get NMDC Metadata and Data Objects"
   ]
  },
  {
   "cell_type": "markdown",
   "id": "e212234f",
   "metadata": {},
   "source": [
    "This notebook describes and provides example code to:\n",
    "\n",
    "1. Filter NMDC metadata to obtain IDs and fetch attributes, using API endpoints.\n",
    "2. Download collected metadata to files, and data objects to files.\n",
    "3. Fetch and load collected metadata, or data object bytes, to in-memory Python objects."
   ]
  },
  {
   "cell_type": "markdown",
   "id": "0f101afa-c8a6-4613-940f-3b6c93a022c7",
   "metadata": {},
   "source": [
    "## Dependencies"
   ]
  },
  {
   "cell_type": "markdown",
   "id": "1c2cb94f-a934-4450-9979-8fcbb123c691",
   "metadata": {},
   "source": [
    "The following modules, constants, and helper functions are used by one or more use case cells below, so be sure to run this cell first:"
   ]
  },
  {
   "cell_type": "code",
   "execution_count": 1,
   "id": "2d3a4d41-0c7c-4f26-a077-10deeb71978d",
   "metadata": {},
   "outputs": [],
   "source": [
    "from io import BytesIO\n",
    "import json\n",
    "from operator import itemgetter\n",
    "from pathlib import Path\n",
    "from pprint import pprint\n",
    "import shutil\n",
    "import subprocess\n",
    "from tqdm.notebook import tqdm\n",
    "from urllib.parse import parse_qsl, urlencode\n",
    "\n",
    "import requests\n",
    "from toolz import keyfilter, merge, concat\n",
    "\n",
    "HOST = \"https://api.microbiomedata.org\"\n",
    "\n",
    "def get_json(path, host=HOST, **kwargs):\n",
    "    r = requests.get(host + path, **kwargs)\n",
    "    r.raise_for_status()\n",
    "    return r.json()\n",
    "\n",
    "def pick(allowlist, d):\n",
    "    return keyfilter(lambda k: k in allowlist, d)\n",
    "\n",
    "meta = itemgetter(\"meta\")\n",
    "results = itemgetter(\"results\")"
   ]
  },
  {
   "cell_type": "markdown",
   "id": "f38b09fd",
   "metadata": {},
   "source": [
    "## Filter/fetch metadata"
   ]
  },
  {
   "cell_type": "markdown",
   "id": "326870c1",
   "metadata": {},
   "source": [
    "### Use Case: fetch metadata directly associated with an ID with unknown type"
   ]
  },
  {
   "cell_type": "code",
   "execution_count": 3,
   "id": "c0691d07-51f7-46e3-a57a-b98c72e636b1",
   "metadata": {},
   "outputs": [
    {
     "data": {
      "text/plain": [
       "{'id': 'nmdc:bsm-13-amrnys72',\n",
       " 'name': 'Sand microcosm microbial communities from a hyporheic zone in Columbia River, Washington, USA - GW-RW T4_25-Nov-14',\n",
       " 'description': 'Sterilized sand packs were incubated back in the ground and collected at time point T4.',\n",
       " 'env_broad_scale': {'has_raw_value': 'ENVO:01000253',\n",
       "  'term': {'id': 'ENVO:01000253'}},\n",
       " 'env_local_scale': {'has_raw_value': 'ENVO:01000621',\n",
       "  'term': {'id': 'ENVO:01000621'}},\n",
       " 'env_medium': {'has_raw_value': 'ENVO:01000017',\n",
       "  'term': {'id': 'ENVO:01000017'}},\n",
       " 'type': 'nmdc:Biosample',\n",
       " 'collection_date': {'has_raw_value': '2014-11-25'},\n",
       " 'depth': {'has_raw_value': '0.5',\n",
       "  'has_numeric_value': 0.5,\n",
       "  'has_unit': 'meter'},\n",
       " 'geo_loc_name': {'has_raw_value': 'USA: Columbia River, Washington'},\n",
       " 'lat_lon': {'has_raw_value': '46.37228379 -119.2717467',\n",
       "  'latitude': 46.37228379,\n",
       "  'longitude': -119.2717467},\n",
       " 'ecosystem': 'Engineered',\n",
       " 'ecosystem_category': 'Artificial ecosystem',\n",
       " 'ecosystem_type': 'Sand microcosm',\n",
       " 'ecosystem_subtype': 'Unclassified',\n",
       " 'specific_ecosystem': 'Unclassified',\n",
       " 'add_date': '2015-05-28',\n",
       " 'community': 'microbial communities',\n",
       " 'habitat': 'sand microcosm',\n",
       " 'location': 'groundwater-surface water interaction zone in Washington, USA',\n",
       " 'mod_date': '2021-06-17',\n",
       " 'ncbi_taxonomy_name': 'sediment metagenome',\n",
       " 'sample_collection_site': 'sand microcosm',\n",
       " 'part_of': ['nmdc:sty-11-aygzgv51'],\n",
       " 'alternative_identifiers': ['img.taxon:3300042754'],\n",
       " 'insdc_biosample_identifiers': ['biosample:SAMN06343877'],\n",
       " 'samp_name': 'GW-RW T4_25-Nov-14',\n",
       " 'gold_biosample_identifiers': ['gold:Gb0115231']}"
      ]
     },
     "execution_count": 3,
     "metadata": {},
     "output_type": "execute_result"
    }
   ],
   "source": [
    "get_json(\"/nmdcschema/ids/nmdc:bsm-13-amrnys72\")"
   ]
  },
  {
   "cell_type": "markdown",
   "id": "9e9857ee",
   "metadata": {},
   "source": [
    "### Use case: fetch metadata for an ID from a known [nmdc:Database](https://microbiomedata.github.io/nmdc-schema/Database/) collection."
   ]
  },
  {
   "cell_type": "code",
   "execution_count": 4,
   "id": "99fae5ca-af59-4156-ad5a-7946376780c5",
   "metadata": {},
   "outputs": [
    {
     "data": {
      "text/plain": [
       "{'id': 'nmdc:bsm-13-w2cwcx50',\n",
       " 'name': 'Sand microcosm microbial communities from a hyporheic zone in Columbia River, Washington, USA - GW-RW T4_12-Aug-14',\n",
       " 'description': 'Sterilized sand packs were incubated back in the ground and collected at time point T4.',\n",
       " 'env_broad_scale': {'has_raw_value': 'ENVO:01000253',\n",
       "  'term': {'id': 'ENVO:01000253'}},\n",
       " 'env_local_scale': {'has_raw_value': 'ENVO:01000621',\n",
       "  'term': {'id': 'ENVO:01000621'}},\n",
       " 'env_medium': {'has_raw_value': 'ENVO:01000017',\n",
       "  'term': {'id': 'ENVO:01000017'}},\n",
       " 'type': 'nmdc:Biosample',\n",
       " 'collection_date': {'has_raw_value': '2014-08-12'},\n",
       " 'depth': {'has_raw_value': '0.5',\n",
       "  'has_numeric_value': 0.5,\n",
       "  'has_unit': 'meter'},\n",
       " 'geo_loc_name': {'has_raw_value': 'USA: Columbia River, Washington'},\n",
       " 'lat_lon': {'has_raw_value': '46.37228379 -119.2717467',\n",
       "  'latitude': 46.37228379,\n",
       "  'longitude': -119.2717467},\n",
       " 'ecosystem': 'Engineered',\n",
       " 'ecosystem_category': 'Artificial ecosystem',\n",
       " 'ecosystem_type': 'Sand microcosm',\n",
       " 'ecosystem_subtype': 'Unclassified',\n",
       " 'specific_ecosystem': 'Unclassified',\n",
       " 'add_date': '2015-05-28',\n",
       " 'community': 'microbial communities',\n",
       " 'habitat': 'sand microcosm',\n",
       " 'location': 'groundwater-surface water interaction zone in Washington, USA',\n",
       " 'mod_date': '2021-06-17',\n",
       " 'ncbi_taxonomy_name': 'sediment metagenome',\n",
       " 'sample_collection_site': 'sand microcosm',\n",
       " 'part_of': ['nmdc:sty-11-aygzgv51'],\n",
       " 'alternative_identifiers': ['img.taxon:3300042748'],\n",
       " 'insdc_biosample_identifiers': ['biosample:SAMN06343871'],\n",
       " 'samp_name': 'GW-RW T4_12-Aug-14',\n",
       " 'gold_biosample_identifiers': ['gold:Gb0115225']}"
      ]
     },
     "execution_count": 4,
     "metadata": {},
     "output_type": "execute_result"
    }
   ],
   "source": [
    "get_json(\"/nmdcschema/biosample_set/nmdc:bsm-13-w2cwcx50\")"
   ]
  },
  {
   "cell_type": "markdown",
   "id": "124595c2-2339-4c9d-9b48-296d6b708d37",
   "metadata": {},
   "source": [
    "### Use Case: filter metadata from a known nmdc:Database collection using the MongoDB Query Language."
   ]
  },
  {
   "cell_type": "code",
   "execution_count": 5,
   "id": "756a2985-90e1-44df-8be7-84a67f737e87",
   "metadata": {},
   "outputs": [
    {
     "data": {
      "text/plain": [
       "19"
      ]
     },
     "execution_count": 5,
     "metadata": {},
     "output_type": "execute_result"
    }
   ],
   "source": [
    "def get_json_mql(path, filter_):\n",
    "    return get_json(path, params={\"filter\": json.dumps(filter_)})\n",
    "\n",
    "def resources_count(json_response):\n",
    "    return len(json_response[\"resources\"])\n",
    "\n",
    "resources_count(get_json_mql(\n",
    "    \"/nmdcschema/biosample_set\",\n",
    "    {\"ecosystem\": \"Engineered\"}\n",
    "))"
   ]
  },
  {
   "cell_type": "markdown",
   "id": "9c8b5867",
   "metadata": {},
   "source": [
    "### Use Case: filter metadata from studies, biosamples, data_objects, or any activities collection using a readable URL with a Solr-like query language."
   ]
  },
  {
   "cell_type": "code",
   "execution_count": 6,
   "id": "ffec39f5-f35b-4f27-bdc9-97090929412f",
   "metadata": {},
   "outputs": [
    {
     "name": "stdout",
     "output_type": "stream",
     "text": [
      "\n",
      "Studies filter:\n",
      "\n",
      "{'count': 3,\n",
      " 'db_response_time_ms': 1,\n",
      " 'mongo_filter_dict': {'ecosystem_type': 'Soil'},\n",
      " 'mongo_sort_list': None,\n",
      " 'page': 1,\n",
      " 'per_page': 25}\n",
      "[{'ecosystem': 'Environmental',\n",
      "  'ecosystem_category': 'Terrestrial',\n",
      "  'ecosystem_subtype': 'Unclassified',\n",
      "  'ecosystem_type': 'Soil',\n",
      "  'id': 'nmdc:sty-11-076c9980'},\n",
      " {'ecosystem': 'Environmental',\n",
      "  'ecosystem_category': 'Terrestrial',\n",
      "  'ecosystem_subtype': 'Meadow',\n",
      "  'ecosystem_type': 'Soil',\n",
      "  'id': 'nmdc:sty-11-dcqce727'},\n",
      " {'ecosystem': 'Environmental',\n",
      "  'ecosystem_category': 'Terrestrial',\n",
      "  'ecosystem_subtype': 'Unclassified',\n",
      "  'ecosystem_type': 'Soil',\n",
      "  'id': 'nmdc:sty-11-r2h77870'}]\n",
      "\n",
      "Data Objects filter and sort:\n",
      "\n",
      "{'count': 0,\n",
      " 'db_response_time_ms': 233,\n",
      " 'mongo_filter_dict': {'description': {'$regex': 'GFF'}},\n",
      " 'mongo_sort_list': [['file_size_bytes', -1]],\n",
      " 'page': 1,\n",
      " 'per_page': 25}\n",
      "[]\n",
      "\n",
      "Activities filter and sort:\n",
      "\n",
      "{'count': 7046,\n",
      " 'db_response_time_ms': 3989,\n",
      " 'mongo_filter_dict': {'execution_resource': {'$regex': 'NERSC'},\n",
      "                       'started_at_time': {'$gt': '2022-01-01'}},\n",
      " 'page': 1,\n",
      " 'per_page': 25}\n",
      "[{'ended_at_time': '2024-07-15T10:51:55.589472+00:00',\n",
      "  'execution_resource': 'NERSC-Perlmutter',\n",
      "  'id': 'nmdc:wfrbt-11-ay3tc236.1',\n",
      "  'started_at_time': '2024-07-15T03:31:07.781447+00:00',\n",
      "  'type': 'nmdc:ReadBasedTaxonomyAnalysisActivity'},\n",
      " {'ended_at_time': '2024-07-14T09:42:44.870934+00:00',\n",
      "  'execution_resource': 'NERSC-Perlmutter',\n",
      "  'id': 'nmdc:wfrbt-11-z7786992.1',\n",
      "  'started_at_time': '2024-07-13T21:07:41.419236+00:00',\n",
      "  'type': 'nmdc:ReadBasedTaxonomyAnalysisActivity'},\n",
      " {'ended_at_time': '2024-07-14T09:30:12.258176+00:00',\n",
      "  'execution_resource': 'NERSC-Perlmutter',\n",
      "  'id': 'nmdc:wfrbt-11-db7m7x43.1',\n",
      "  'started_at_time': '2024-07-13T21:07:35.352313+00:00',\n",
      "  'type': 'nmdc:ReadBasedTaxonomyAnalysisActivity'},\n",
      " {'ended_at_time': '2024-07-14T09:03:40.446429+00:00',\n",
      "  'execution_resource': 'NERSC-Perlmutter',\n",
      "  'id': 'nmdc:wfrbt-11-zhawc650.1',\n",
      "  'started_at_time': '2024-07-13T21:05:44.023046+00:00',\n",
      "  'type': 'nmdc:ReadBasedTaxonomyAnalysisActivity'},\n",
      " {'ended_at_time': '2024-07-14T09:02:57.875885+00:00',\n",
      "  'execution_resource': 'NERSC-Perlmutter',\n",
      "  'id': 'nmdc:wfrbt-11-he896a62.1',\n",
      "  'started_at_time': '2024-07-13T21:06:02.938818+00:00',\n",
      "  'type': 'nmdc:ReadBasedTaxonomyAnalysisActivity'}]\n"
     ]
    }
   ],
   "source": [
    "def id_and_ecosystem_fields(doc):\n",
    "    return pick(\n",
    "        [\"id\"] + [f for f in doc if f.startswith(\"ecosystem\")],\n",
    "        doc)\n",
    "\n",
    "print(\"\\nStudies filter:\\n\")\n",
    "json_response = get_json(\"/studies?filter=ecosystem_type:Soil\")\n",
    "pprint(meta(json_response))\n",
    "pprint([id_and_ecosystem_fields(r) for r in results(json_response)])\n",
    "\n",
    "print(\"\\nData Objects filter and sort:\\n\")\n",
    "\n",
    "json_response = get_json(\n",
    "    \"/data_objects?\"\n",
    "    \"filter=description.search:GFF\"\n",
    "    \"&\"\n",
    "    \"sort=file_size_bytes:desc\"\n",
    ")\n",
    "pprint(meta(json_response))\n",
    "pprint([pick(\n",
    "    [\"description\", \"file_size_bytes\", \"id\", \"url\"]\n",
    "    , r\n",
    ") for r in results(json_response)][:5])\n",
    "\n",
    "print(\"\\nActivities filter and sort:\\n\")\n",
    "\n",
    "json_response = get_json(\n",
    "    \"/activities?\"\n",
    "    \"filter=started_at_time:>2022-01-01\"\n",
    "    \",\"\n",
    "    \"execution_resource.search:NERSC\"\n",
    "    \"&\"\n",
    "    \"sort=ended_at_time:desc\"\n",
    ")\n",
    "pprint(meta(json_response))\n",
    "pprint([\n",
    "    pick([\n",
    "        \"id\",\n",
    "        \"started_at_time\",\n",
    "        \"ended_at_time\",\n",
    "        \"execution_resource\",\n",
    "        \"type\"],\n",
    "        r\n",
    "    ) for r in results(json_response)][:5]\n",
    ")"
   ]
  },
  {
   "cell_type": "markdown",
   "id": "73c2b8c5-0b83-4313-8638-543a54e20c59",
   "metadata": {
    "tags": []
   },
   "source": [
    "## Download (meta)data"
   ]
  },
  {
   "cell_type": "markdown",
   "id": "4c2bb78e-9a09-4057-a242-5dfdbe901055",
   "metadata": {},
   "source": [
    "### Use case: download metadata of all biosamples for study."
   ]
  },
  {
   "cell_type": "code",
   "execution_count": 10,
   "id": "c66df5a7-8302-4453-8d4c-68fe8d85fe56",
   "metadata": {},
   "outputs": [
    {
     "name": "stdout",
     "output_type": "stream",
     "text": [
      "fetched 25 results out of 60 total\n",
      "fetched 25 results out of 60 total\n",
      "fetched 10 results out of 60 total\n"
     ]
    },
    {
     "data": {
      "text/plain": [
       "b'{\"add_date\": \"2015-02-26\", \"collection_date\": {\"has_raw_value\": \"2014-09-03\"}, \"depth\": {\"has_maximum_numeric_value\": 0.4, \"has_minimum_numeric_value\": 0.3, \"has_numeric_value\": 0.3, \"has_raw_value\": \"0.3 to 0.4 meters\", \"has_unit\": \"metre\"}, \"description\": \"Grasslands soil microbial communities from the Angelo Coastal Reserve, plot 9. There is a duplicate submission for this entry in NCBI. The NCBI identifiers for a duplicate are PRJNA449266 and SAMN08902854\", \"ecosystem\": \"Environmental\", \"ecosystem_category\": \"Terrestrial\", \"ecosystem_subtype\": \"Grasslands\", \"ecosystem_type\": \"Soil\", \"elev\": 432, \"env_broad_scale\": {\"has_raw_value\": \"grassland biome [ENVO:01000177]\", \"term\": {\"id\": \"ENVO:01000177\"}}, \"env_local_scale\": {\"has_raw_value\": \"biosphere reserve [ENVO:00000376]\", \"term\": {\"id\": \"ENVO:00000376\"}}, \"env_medium\": {\"has_raw_value\": \"grassland soil [ENVO:00005750]\", \"term\": {\"id\": \"ENVO:00005750\"}}, \"geo_loc_name\": {\"has_raw_value\": \"USA: California: Angelo Coastal Reserve\"}, \"habitat\": \"Grasslands soil\", \"id\": \"nmdc:bsm-11-04qjyv47\", \"lat_lon\": {\"has_raw_value\": \"39.7392 -123.6308\", \"latitude\": 39.7392, \"longitude\": -123.6308}, \"location\": \"USA: California: Angelo Coastal Reserve\", \"mod_date\": \"2022-08-02\", \"name\": \"Grasslands soil microbial communities from the Angelo Coastal Reserve, California, USA - 14_0903_09_40cm\", \"ncbi_taxonomy_name\": \"soil metagenome\", \"part_of\": [\"nmdc:sty-11-zs2syx06\"], \"sample_collection_site\": \"grassland soil\", \"specific_ecosystem\": \"Unclassified\", \"insdc_biosample_identifiers\": [\"biosample:SAMN08902854\"], \"samp_name\": \"14_0903_09_40cm\", \"gold_biosample_identifiers\": [\"gold:Gb0110688\"], \"type\": \"nmdc:Biosample\"}\\n'"
      ]
     },
     "execution_count": 10,
     "metadata": {},
     "output_type": "execute_result"
    }
   ],
   "source": [
    "def write_jsonlines_file(path, all_results):\n",
    "    with open(path, \"w\") as f:\n",
    "        f.writelines([json.dumps(doc)+\"\\n\" for doc in all_results])\n",
    "\n",
    "cursor = \"*\"\n",
    "all_results = []\n",
    "while cursor is not None:\n",
    "    json_response = get_json(\n",
    "        f\"/biosamples?filter=part_of:nmdc:sty-11-zs2syx06&cursor={cursor}\"\n",
    "    )\n",
    "    m, rs = meta(json_response), results(json_response)\n",
    "    cursor = m['next_cursor']\n",
    "    print(\"fetched\", len(rs), f\"results out of {m['count']} total\")\n",
    "    all_results.extend(rs)\n",
    "\n",
    "path = \"~/biosamples_part_of_nmdc:sty-11-zs2syx06.jsonl\"\n",
    "\n",
    "write_jsonlines_file(\n",
    "    Path(path).expanduser(),\n",
    "    all_results\n",
    ")\n",
    "\n",
    "subprocess.check_output(\n",
    "    f\"head -1 {path}\",\n",
    "    shell=True,\n",
    ")"
   ]
  },
  {
   "cell_type": "markdown",
   "id": "15ea7cfd-083f-4796-bcf1-d261c27cec14",
   "metadata": {},
   "source": [
    "### Use case: download all data objects for biosample"
   ]
  },
  {
   "cell_type": "code",
   "execution_count": 11,
   "id": "5f201881-9fe6-444e-97e7-5d34a541e4a1",
   "metadata": {},
   "outputs": [
    {
     "data": {
      "application/vnd.jupyter.widget-view+json": {
       "model_id": "d6ac56a3dab8439fbde6f3f7454d91d0",
       "version_major": 2,
       "version_minor": 0
      },
      "text/plain": [
       "0it [00:00, ?it/s]"
      ]
     },
     "metadata": {},
     "output_type": "display_data"
    }
   ],
   "source": [
    "def download_file(url, directory=\"~/\"):\n",
    "    local_filename = url.split('/')[-1]\n",
    "    with requests.get(url, stream=True) as r:\n",
    "        with open(Path(directory + local_filename).expanduser(), 'wb') as f:\n",
    "            shutil.copyfileobj(r.raw, f)\n",
    "\n",
    "    return local_filename\n",
    "\n",
    "id_biosample = \"igsn:IEWFS000A\" #UPDATE\n",
    "rs_ompro = results(get_json(f\"/activities?filter=type:nmdc:OmicsProcessing,has_input:{id_biosample}\"))\n",
    "for id_ompro in tqdm([d[\"id\"] for d in rs_ompro]):\n",
    "    rs_act = results(get_json(f\"/activities?filter=was_informed_by:{id_ompro}\"))\n",
    "    for data_object_ids, activity_type in [(d[\"has_output\"], d[\"type\"]) for d in rs_act]:\n",
    "        for data_object_id in data_object_ids:\n",
    "            do = results(get_json(f\"/data_objects?filter=id:{data_object_id}\"))[0]\n",
    "            print(f'downloading biosample {id_biosample} > omics processing activity {id_ompro} '\n",
    "                  f'> {activity_type} activity > data object {data_object_id} from {do[\"url\"]}...')\n",
    "            download_file(do[\"url\"])"
   ]
  },
  {
   "cell_type": "markdown",
   "id": "622f1c9d-070d-489e-8fd0-00e6156e65b1",
   "metadata": {},
   "source": [
    "## Load (meta)data objects to in-memory Python objects"
   ]
  },
  {
   "cell_type": "markdown",
   "id": "838b7a7d-07a8-44cc-99d4-07edb2e91c8d",
   "metadata": {},
   "source": [
    "### Use case: load metadata of all biosamples for study."
   ]
  },
  {
   "cell_type": "code",
   "execution_count": 12,
   "id": "4796adea-af8f-431c-88a0-0631234c991d",
   "metadata": {},
   "outputs": [
    {
     "name": "stdout",
     "output_type": "stream",
     "text": [
      "fetched 25 results out of 60 total\n",
      "fetched 25 results out of 60 total\n",
      "fetched 10 results out of 60 total\n",
      "[{'id': 'nmdc:bsm-11-04qjyv47',\n",
      "  'lat_lon': {'has_raw_value': '39.7392 -123.6308',\n",
      "              'latitude': 39.7392,\n",
      "              'longitude': -123.6308}},\n",
      " {'id': 'nmdc:bsm-11-05082t91',\n",
      "  'lat_lon': {'has_raw_value': '39.7392 -123.6308',\n",
      "              'latitude': 39.7392,\n",
      "              'longitude': -123.6308}},\n",
      " {'id': 'nmdc:bsm-11-2fjtje68',\n",
      "  'lat_lon': {'has_raw_value': '39.7392 -123.6308',\n",
      "              'latitude': 39.7392,\n",
      "              'longitude': -123.6308}},\n",
      " {'id': 'nmdc:bsm-11-3zrd9503',\n",
      "  'lat_lon': {'has_raw_value': '39.7392 -123.6308',\n",
      "              'latitude': 39.7392,\n",
      "              'longitude': -123.6308}},\n",
      " {'id': 'nmdc:bsm-11-4x1n6x51',\n",
      "  'lat_lon': {'has_raw_value': '39.7392 -123.6308',\n",
      "              'latitude': 39.7392,\n",
      "              'longitude': -123.6308}}]\n"
     ]
    }
   ],
   "source": [
    "cursor = \"*\"\n",
    "all_results = []\n",
    "while cursor is not None:\n",
    "    json_response = get_json(\n",
    "        f\"/biosamples?filter=part_of:nmdc:sty-11-zs2syx06&cursor={cursor}\"\n",
    "    )\n",
    "    m, rs = meta(json_response), results(json_response)\n",
    "    cursor = m['next_cursor']\n",
    "    print(\"fetched\", len(rs), f\"results out of {m['count']} total\")\n",
    "    all_results.extend(rs)\n",
    "\n",
    "pprint([pick([\"id\",\"lat_lon\"], r) for r in all_results][:5])"
   ]
  },
  {
   "cell_type": "markdown",
   "id": "5fcab4cb-3133-44c8-a9a8-5f462895feb8",
   "metadata": {},
   "source": [
    "### Use case: load data object"
   ]
  },
  {
   "cell_type": "code",
   "execution_count": 9,
   "id": "0e0168df-9256-498e-b652-8d7bd535d582",
   "metadata": {},
   "outputs": [
    {
     "name": "stdout",
     "output_type": "stream",
     "text": [
      "Index,m/z,Calibrated m/z,Calculated m/z,Peak Height,Resolving Power,S/N,Ion Charge,m/z Error (ppm),m/z Error Score,Isotopologue Similarity,Confidence Score,DBE,H/C,O/C,Heteroatom Class,Ion Type,Is Isotopologue,Mono Isotopic Index,Molecular Formula,C,H,O,S,N\n",
      "3,888.4887543119316,888.4883146532127,888.4878482725782,3085144.7556615113,115985.22008880168,8.926135177919196,-1,-0.5249150401183273,0.21637236558431258,0.0,0.12982341935058755,21.0,1.290909090909091,0.12727272727272726,N1 S1 O7,de-protonated,0,,C55 H71 O7 S1 N1,55,71,7,1,1\n",
      "4,885.3918562712611,885.3914165190189,885.3914239992979,3271768.2235989384,116390.47009957765,9.466085953040722,-1,0.008448555979629386,0.999603533623901,0.0,0.5997621201743406,16.0,1.3478260869565217,0.3695652173913043,O17,de-protonated,0,,C46 H62 O17,46,62,17,,\n",
      "6,877.03548957106,877.0350496100808,877.035237742867,3413803.0920212218,93999.77607505002,9.877030182866147,-1,0.2145099513797522,0.7744236389320375,0.0,0.4646541833592225,32.0,0.5238095238095238,0.47619047619047616,S1 O20,de-protonated,0,,C42 H22 O20 S1,42,22,20,1,\n",
      "7,871.5868128663766,871.5863728035725,871.5857118408668,2525810.108505442,118234.47009250808,7.307832937466206,-1,-0.758345044867053,0.04096943704460999,0.0,0.024581662226765992,23.0,1.2903225806451613,0.016129032258064516,S1 O1,de-protonated,0,,C62 H80 O1 S1,62,80,1,1,\n",
      "8,869.7066517807076,869.7062116890468,869.7062208994556,2533183.851969944,118489.97010116033,7.329167116619603,-1,0.010590252923018975,0.999377119309806,0.0,0.5996262715858836,7.0,1.7818181818181817,0.09090909090909091,S1 O5,de-protonated,0,,C55 H98 O5 S1,55,98,5,1,\n",
      "11,862.1881537094312,862.18771353458,862.18698735984,2500237.533314158,95618.37607241525,7.233844751794849,-1,-0.8422473901817746,0.019428704336239354,0.0,0.011657222601743612,19.0,1.0789473684210527,0.5263157894736842,N1 S1 O20,de-protonated,0,,C38 H41 O20 S1 N1,38,41,20,1,1\n",
      "12,841.990360022908,841.9899198796957,841.9907299023058,2370457.287293944,97912.17607420433,6.858356367570994,-1,0.9620326939315207,0.005847710725539058,0.0,0.003508626435323435,35.0,0.325,0.525,N1 O21,de-protonated,0,,C40 H13 O21 N1,40,13,21,,1\n",
      "13,838.2477426554628,838.2473025589466,838.2480119249798,2449834.394824783,122936.47008928134,7.088015216009881,-1,0.846248393230588,0.018713029385901064,0.0,0.011227817631540639,33.0,0.7884615384615384,0.15384615384615385,N1 S1 O8,de-protonated,0,,C52 H41 O8 S1 N1,52,41,8,1,1\n",
      "14,830.2707204394443,830.2702804850616,830.2699291394654,2775378.1338916654,82745.31339509624,8.029898871842809,-1,-0.423170325523773,0.3697786516541105,0.0,0.2218671909924663,17.0,1.225,0.4,N1 S1 O16,de-protonated,0,,C40 H49 O16 S1 N1,40,49,16,1,1\n",
      "15,820.3453445049055,820.3449048083498,820.3455960048715,2743261.455279875,100495.57607049527,7.936976873862471,-1,0.8425674801075833,0.019370581727126596,0.0,0.011622349036275957,5.0,1.7878787878787878,0.6666666666666666,N1 O22,de-protonated,0,,C33 H59 O22 N1,33,59,22,,1\n",
      "17,799.3685325405778,799.3680936843464,799.367398784561,3118598.9451273754,103132.77607188243,9.022926946568637,-1,-0.8693121415769531,0.015020289920773781,0.0,0.009012173952464269,23.0,1.12,0.14,S1 O7,de-protonated,0,,C50 H56 O7 S1,50,56,7,1,\n",
      "18,780.4733701715519,780.4729324155969,780.4725921312933,2463579.1177946297,105629.57606904797,7.127782314453726,-1,-0.43599776224277864,0.3478172613374125,0.0,0.2086903568024475,8.0,1.6904761904761905,0.23809523809523808,N1 S1 O10,de-protonated,0,,C42 H71 O10 S1 N1,42,71,10,1,1\n",
      "22,653.5153865174419,653.5149645932129,653.5150488223496,2773339.3701903233,157687.97009893385,8.024000192255532,-1,0.12888630016707295,0.9118433198656568,0.0,0.547105991919394,8.0,1.6666666666666667,0.11904761904761904,O5,de-protonated,0,,C42 H70 O5,42,70,5,,\n",
      "35,450.26572507976397,450.2653590871265,450.2649821433228,21202835.25855894,228867.72008897978,61.345378794865574,-1,-0.8371599361487543,0.010186573708662465,0.766236582456902,0.31260657720795826,11.0,1.3214285714285714,0.14285714285714285,N1 O4,de-protonated,0,,C28 H37 O4 N1,28,37,4,,1\n",
      "37,283.2645638441444,283.2642719869493,283.2642538675084,4273299.506825067,291039.1760681066,12.36377936032282,-1,-0.06396656369622783,0.9775246355422157,0.0,0.5865147813253294,1.0,2.0,0.1111111111111111,O2,de-protonated,0,,C18 H36 O2,18,36,2,,\n",
      "38,273.0618794463733,273.06159294231406,273.06159087568057,2432007.4278552043,377392.22020885994,7.036437112035749,-1,-0.007568378593162039,0.9996818264361175,0.0,0.5998090958616704,5.0,1.2727272727272727,0.7272727272727273,O8,de-protonated,0,,C11 H14 O8,11,14,8,,\n",
      "39,255.23321441074,255.2329374887667,255.23295373855242,6820572.259571557,323002.9760412817,19.73370937230056,-1,0.06366648772467076,0.9777326510838139,0.0,0.5866395906502884,1.0,2.0,0.125,O2,de-protonated,0,,C16 H32 O2,16,32,2,,\n",
      "0,893.9807192795649,893.9802798081946,,2925279.2994384016,92217.97607563925,8.463602368102553,-1,,,,,,,,unassigned,,,,,,,,,\n",
      "1,891.2401722007025,891.239732632407,,3414246.805595051,92501.5760653175,9.87831396293287,-1,,,,,,,,unassigned,,,,,,,,,\n",
      "2,889.1174652085989,889.1170255699338,,2955400.261042048,77268.8133940652,8.550750231900409,-1,,,,,,,,unassigned,,,,,,,,,\n",
      "5,884.5134572608324,884.5130174836548,,5254152.640152923,116506.4700934881,15.201645441550752,-1,,,,,,,,unassigned,,,,,,,,,\n",
      "9,864.2012204090391,864.2007802514113,,3030984.065495402,119244.47008147289,8.769434056889162,-1,,,,,,,,unassigned,,,,,,,,,\n",
      "10,862.8953391929115,862.89489902369,,3055128.0467927232,119424.97008838368,8.83928894470198,-1,,,,,,,,unassigned,,,,,,,,,\n",
      "16,803.9459525978525,803.9455135240407,,5601357.72374313,170909.29346210908,16.20620106407045,-1,,,,,,,,unassigned,,,,,,,,,\n",
      "19,752.2242722248513,752.223836720794,,3273358.7560336525,136995.72010069533,9.470687781687843,-1,,,,,,,,unassigned,,,,,,,,,\n",
      "20,750.7742477178517,750.7738123490101,,2904412.8971422175,137259.97009147579,8.40323037835044,-1,,,,,,,,unassigned,,,,,,,,,\n",
      "21,653.5198929566078,653.519471031556,,3485404.0251306985,210248.96017618917,10.084190513553223,-1,,,,,,,,unassigned,,,,,,,,,\n",
      "23,619.4881452383327,619.4877300537637,,6028785.5745970225,95057.26862897968,17.442862251046506,-1,,,,,,,,unassigned,,,,,,,,,\n",
      "24,619.4845026976315,619.4840875138403,,6626103.056320465,221800.29347879274,19.171058821471128,-1,,,,,,,,unassigned,,,,,,,,,\n",
      "25,618.4823634993785,618.4819485300792,,67607054.28433818,166619.97011002325,195.60498884712098,-1,,,,,,,,unassigned,,,,,,,,,\n",
      "26,605.4715778756023,605.4711657741412,,7625159.61822322,226933.62680355,22.06159220910761,-1,,,,,,,,unassigned,,,,,,,,,\n",
      "27,605.4681309396186,605.4677188389377,,6698551.287281573,97257.26863065724,19.380670607684152,-1,,,,,,,,unassigned,,,,,,,,,\n",
      "28,604.4669880341766,604.4665761605637,,90288493.75827102,170483.22009523786,261.2283585131924,-1,,,,,,,,unassigned,,,,,,,,,\n",
      "29,591.4558841306729,591.4554752911807,,3570435.8944568695,232311.29346066722,10.330210075080675,-1,,,,,,,,unassigned,,,,,,,,,\n",
      "30,591.4525206690176,591.4521118303297,,4196033.12055477,232312.62681350167,12.140227383614969,-1,,,,,,,,unassigned,,,,,,,,,\n",
      "31,591.4362071597824,591.4357983249955,,4325198.308595796,99565.84004350418,12.513936243343444,-1,,,,,,,,unassigned,,,,,,,,,\n",
      "32,590.4511390833583,590.450730484585,,33051017.328779608,174529.72008540362,95.62528562170476,-1,,,,,,,,unassigned,,,,,,,,,\n",
      "33,574.4557295997837,574.4553249571502,,57270445.86539885,179389.47009937343,165.6984621406013,-1,,,,,,,,unassigned,,,,,,,,,\n",
      "34,509.29372586837684,509.2933397523243,,3016102.9919072534,115624.41149005273,8.726379197243881,-1,,,,,,,,unassigned,,,,,,,,,\n",
      "36,311.1007284631918,311.10042248349583,,2602658.391103224,220831.98006834995,7.530175230287296,-1,,,,,,,,unassigned,,,,,,,,,\n"
     ]
    }
   ],
   "source": [
    "def load_bytes(url):\n",
    "    with requests.get(url, stream=True) as r:\n",
    "        b = BytesIO()\n",
    "        shutil.copyfileobj(r.raw, b)\n",
    "\n",
    "    return b.getvalue()\n",
    "\n",
    "b = load_bytes(get_json(\"/nmdcschema/data_object_set/nmdc:4b649d353b2c2385ab042682ba516d14\")[\"url\"])\n",
    "\n",
    "for line in b.decode('utf-8').split(\"\\n\"):\n",
    "    print(line)"
   ]
  },
  {
   "cell_type": "code",
   "execution_count": null,
   "id": "adcf941b-8b8f-4ebe-909d-1ba8d9976aa5",
   "metadata": {},
   "outputs": [],
   "source": []
  }
 ],
 "metadata": {
  "kernelspec": {
   "display_name": "Python 3 (ipykernel)",
   "language": "python",
   "name": "python3"
  },
  "language_info": {
   "codemirror_mode": {
    "name": "ipython",
    "version": 3
   },
   "file_extension": ".py",
   "mimetype": "text/x-python",
   "name": "python",
   "nbconvert_exporter": "python",
   "pygments_lexer": "ipython3",
   "version": "3.10.14"
  }
 },
 "nbformat": 4,
 "nbformat_minor": 5
}
