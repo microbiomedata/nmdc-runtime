{
 "cells": [
  {
   "cell_type": "markdown",
   "id": "841b8d99",
   "metadata": {},
   "source": [
    "# Get NMDC Metadata and Data Objects"
   ]
  },
  {
   "cell_type": "markdown",
   "id": "e212234f",
   "metadata": {},
   "source": [
    "This notebook describes and provides example code to:\n",
    "\n",
    "1. Filter NMDC metadata to obtain IDs and fetch attributes, using API endpoints.\n",
    "2. Download collected metadata to files, and data objects to files.\n",
    "3. Fetch and load collected metadata, or data object bytes, to in-memory Python objects."
   ]
  },
  {
   "cell_type": "markdown",
   "id": "0f101afa-c8a6-4613-940f-3b6c93a022c7",
   "metadata": {},
   "source": [
    "## Dependencies"
   ]
  },
  {
   "cell_type": "markdown",
   "id": "1c2cb94f-a934-4450-9979-8fcbb123c691",
   "metadata": {},
   "source": [
    "The following modules, constants, and helper functions are used by one or more use case cells below, so be sure to run this cell first:"
   ]
  },
  {
   "cell_type": "code",
   "execution_count": 1,
   "id": "2d3a4d41-0c7c-4f26-a077-10deeb71978d",
   "metadata": {},
   "outputs": [],
   "source": [
    "from io import BytesIO\n",
    "import json\n",
    "from operator import itemgetter\n",
    "from pathlib import Path\n",
    "from pprint import pprint\n",
    "import shutil\n",
    "import subprocess\n",
    "from tqdm.notebook import tqdm\n",
    "from urllib.parse import parse_qsl, urlencode\n",
    "\n",
    "import requests\n",
    "from toolz import keyfilter, merge, concat\n",
    "\n",
    "HOST = \"https://api.microbiomedata.org\"\n",
    "\n",
    "def get_json(path, host=HOST, **kwargs):\n",
    "    r = requests.get(host + path, **kwargs)\n",
    "    r.raise_for_status()\n",
    "    return r.json()\n",
    "\n",
    "def pick(allowlist, d):\n",
    "    return keyfilter(lambda k: k in allowlist, d)\n",
    "\n",
    "meta = itemgetter(\"meta\")\n",
    "results = itemgetter(\"results\")"
   ]
  },
  {
   "cell_type": "markdown",
   "id": "f38b09fd",
   "metadata": {},
   "source": [
    "## Filter/fetch metadata"
   ]
  },
  {
   "cell_type": "markdown",
   "id": "326870c1",
   "metadata": {},
   "source": [
    "### Use Case: fetch metadata directly associated with an ID with unknown type"
   ]
  },
  {
   "cell_type": "code",
   "execution_count": 2,
   "id": "c0691d07-51f7-46e3-a57a-b98c72e636b1",
   "metadata": {},
   "outputs": [
    {
     "data": {
      "text/plain": [
       "{'id': 'nmdc:bsm-13-amrnys72',\n",
       " 'name': 'Sand microcosm microbial communities from a hyporheic zone in Columbia River, Washington, USA - GW-RW T4_25-Nov-14',\n",
       " 'description': 'Sterilized sand packs were incubated back in the ground and collected at time point T4.',\n",
       " 'env_broad_scale': {'has_raw_value': 'ENVO:01000253',\n",
       "  'term': {'id': 'ENVO:01000253'}},\n",
       " 'env_local_scale': {'has_raw_value': 'ENVO:01000621',\n",
       "  'term': {'id': 'ENVO:01000621'}},\n",
       " 'env_medium': {'has_raw_value': 'ENVO:01000017',\n",
       "  'term': {'id': 'ENVO:01000017'}},\n",
       " 'type': 'nmdc:Biosample',\n",
       " 'collection_date': {'has_raw_value': '2014-11-25'},\n",
       " 'depth': {'has_raw_value': '0.5', 'has_numeric_value': 0.5, 'has_unit': 'm'},\n",
       " 'geo_loc_name': {'has_raw_value': 'USA: Columbia River, Washington'},\n",
       " 'lat_lon': {'has_raw_value': '46.37228379 -119.2717467',\n",
       "  'latitude': 46.37228379,\n",
       "  'longitude': -119.2717467},\n",
       " 'ecosystem': 'Engineered',\n",
       " 'ecosystem_category': 'Artificial ecosystem',\n",
       " 'ecosystem_type': 'Sand microcosm',\n",
       " 'ecosystem_subtype': 'Unclassified',\n",
       " 'specific_ecosystem': 'Unclassified',\n",
       " 'add_date': '2015-05-28',\n",
       " 'community': 'microbial communities',\n",
       " 'habitat': 'sand microcosm',\n",
       " 'location': 'groundwater-surface water interaction zone in Washington, USA',\n",
       " 'mod_date': '2021-06-17',\n",
       " 'ncbi_taxonomy_name': 'sediment metagenome',\n",
       " 'sample_collection_site': 'sand microcosm',\n",
       " 'part_of': ['nmdc:sty-11-aygzgv51'],\n",
       " 'alternative_identifiers': ['img.taxon:3300042754'],\n",
       " 'insdc_biosample_identifiers': ['biosample:SAMN06343877'],\n",
       " 'samp_name': 'GW-RW T4_25-Nov-14',\n",
       " 'gold_biosample_identifiers': ['gold:Gb0115231']}"
      ]
     },
     "execution_count": 2,
     "metadata": {},
     "output_type": "execute_result"
    }
   ],
   "source": [
    "get_json(\"/nmdcschema/ids/nmdc:bsm-13-amrnys72\")"
   ]
  },
  {
   "cell_type": "markdown",
   "id": "9e9857ee",
   "metadata": {},
   "source": [
    "### Use case: fetch metadata for an ID from a known [nmdc:Database](https://microbiomedata.github.io/nmdc-schema/Database/) collection."
   ]
  },
  {
   "cell_type": "code",
   "execution_count": 3,
   "id": "99fae5ca-af59-4156-ad5a-7946376780c5",
   "metadata": {},
   "outputs": [
    {
     "data": {
      "text/plain": [
       "{'id': 'nmdc:bsm-13-w2cwcx50',\n",
       " 'name': 'Sand microcosm microbial communities from a hyporheic zone in Columbia River, Washington, USA - GW-RW T4_12-Aug-14',\n",
       " 'description': 'Sterilized sand packs were incubated back in the ground and collected at time point T4.',\n",
       " 'env_broad_scale': {'has_raw_value': 'ENVO:01000253',\n",
       "  'term': {'id': 'ENVO:01000253'}},\n",
       " 'env_local_scale': {'has_raw_value': 'ENVO:01000621',\n",
       "  'term': {'id': 'ENVO:01000621'}},\n",
       " 'env_medium': {'has_raw_value': 'ENVO:01000017',\n",
       "  'term': {'id': 'ENVO:01000017'}},\n",
       " 'type': 'nmdc:Biosample',\n",
       " 'collection_date': {'has_raw_value': '2014-08-12'},\n",
       " 'depth': {'has_raw_value': '0.5', 'has_numeric_value': 0.5, 'has_unit': 'm'},\n",
       " 'geo_loc_name': {'has_raw_value': 'USA: Columbia River, Washington'},\n",
       " 'lat_lon': {'has_raw_value': '46.37228379 -119.2717467',\n",
       "  'latitude': 46.37228379,\n",
       "  'longitude': -119.2717467},\n",
       " 'ecosystem': 'Engineered',\n",
       " 'ecosystem_category': 'Artificial ecosystem',\n",
       " 'ecosystem_type': 'Sand microcosm',\n",
       " 'ecosystem_subtype': 'Unclassified',\n",
       " 'specific_ecosystem': 'Unclassified',\n",
       " 'add_date': '2015-05-28',\n",
       " 'community': 'microbial communities',\n",
       " 'habitat': 'sand microcosm',\n",
       " 'location': 'groundwater-surface water interaction zone in Washington, USA',\n",
       " 'mod_date': '2021-06-17',\n",
       " 'ncbi_taxonomy_name': 'sediment metagenome',\n",
       " 'sample_collection_site': 'sand microcosm',\n",
       " 'part_of': ['nmdc:sty-11-aygzgv51'],\n",
       " 'alternative_identifiers': ['img.taxon:3300042748'],\n",
       " 'insdc_biosample_identifiers': ['biosample:SAMN06343871'],\n",
       " 'samp_name': 'GW-RW T4_12-Aug-14',\n",
       " 'gold_biosample_identifiers': ['gold:Gb0115225']}"
      ]
     },
     "execution_count": 3,
     "metadata": {},
     "output_type": "execute_result"
    }
   ],
   "source": [
    "get_json(\"/nmdcschema/biosample_set/nmdc:bsm-13-w2cwcx50\")"
   ]
  },
  {
   "cell_type": "markdown",
   "id": "124595c2-2339-4c9d-9b48-296d6b708d37",
   "metadata": {},
   "source": [
    "### Use Case: filter metadata from a known nmdc:Database collection using the MongoDB Query Language."
   ]
  },
  {
   "cell_type": "code",
   "execution_count": 4,
   "id": "756a2985-90e1-44df-8be7-84a67f737e87",
   "metadata": {},
   "outputs": [
    {
     "data": {
      "text/plain": [
       "19"
      ]
     },
     "execution_count": 4,
     "metadata": {},
     "output_type": "execute_result"
    }
   ],
   "source": [
    "def get_json_mql(path, filter_):\n",
    "    return get_json(path, params={\"filter\": json.dumps(filter_)})\n",
    "\n",
    "def resources_count(json_response):\n",
    "    return len(json_response[\"resources\"])\n",
    "\n",
    "resources_count(get_json_mql(\n",
    "    \"/nmdcschema/biosample_set\",\n",
    "    {\"ecosystem\": \"Engineered\"}\n",
    "))"
   ]
  },
  {
   "cell_type": "markdown",
   "id": "9c8b5867",
   "metadata": {},
   "source": [
    "### Use Case: filter metadata from studies, biosamples, data_objects, or any activities collection using a readable URL with a Solr-like query language."
   ]
  },
  {
   "cell_type": "code",
   "execution_count": 5,
   "id": "ffec39f5-f35b-4f27-bdc9-97090929412f",
   "metadata": {},
   "outputs": [
    {
     "name": "stdout",
     "output_type": "stream",
     "text": [
      "\n",
      "Studies filter:\n",
      "\n",
      "{'count': 3,\n",
      " 'db_response_time_ms': 1,\n",
      " 'mongo_filter_dict': {'ecosystem_type': 'Soil'},\n",
      " 'mongo_sort_list': None,\n",
      " 'page': 1,\n",
      " 'per_page': 25}\n",
      "[{'ecosystem': 'Environmental',\n",
      "  'ecosystem_category': 'Terrestrial',\n",
      "  'ecosystem_subtype': 'Unclassified',\n",
      "  'ecosystem_type': 'Soil',\n",
      "  'id': 'nmdc:sty-11-076c9980'},\n",
      " {'ecosystem': 'Environmental',\n",
      "  'ecosystem_category': 'Terrestrial',\n",
      "  'ecosystem_subtype': 'Meadow',\n",
      "  'ecosystem_type': 'Soil',\n",
      "  'id': 'nmdc:sty-11-dcqce727'},\n",
      " {'ecosystem': 'Environmental',\n",
      "  'ecosystem_category': 'Terrestrial',\n",
      "  'ecosystem_subtype': 'Unclassified',\n",
      "  'ecosystem_type': 'Soil',\n",
      "  'id': 'nmdc:sty-11-r2h77870'}]\n",
      "\n",
      "Data Objects filter and sort:\n",
      "\n",
      "{'count': 0,\n",
      " 'db_response_time_ms': 243,\n",
      " 'mongo_filter_dict': {'description': {'$regex': 'GFF'}},\n",
      " 'mongo_sort_list': [['file_size_bytes', -1]],\n",
      " 'page': 1,\n",
      " 'per_page': 25}\n",
      "[]\n",
      "\n",
      "Activities filter and sort:\n",
      "\n"
     ]
    },
    {
     "ename": "KeyboardInterrupt",
     "evalue": "",
     "output_type": "error",
     "traceback": [
      "\u001b[0;31m---------------------------------------------------------------------------\u001b[0m",
      "\u001b[0;31mKeyboardInterrupt\u001b[0m                         Traceback (most recent call last)",
      "Cell \u001b[0;32mIn[5], line 27\u001b[0m\n\u001b[1;32m     20\u001b[0m pprint([pick(\n\u001b[1;32m     21\u001b[0m     [\u001b[38;5;124m\"\u001b[39m\u001b[38;5;124mdescription\u001b[39m\u001b[38;5;124m\"\u001b[39m, \u001b[38;5;124m\"\u001b[39m\u001b[38;5;124mfile_size_bytes\u001b[39m\u001b[38;5;124m\"\u001b[39m, \u001b[38;5;124m\"\u001b[39m\u001b[38;5;124mid\u001b[39m\u001b[38;5;124m\"\u001b[39m, \u001b[38;5;124m\"\u001b[39m\u001b[38;5;124murl\u001b[39m\u001b[38;5;124m\"\u001b[39m]\n\u001b[1;32m     22\u001b[0m     , r\n\u001b[1;32m     23\u001b[0m ) \u001b[38;5;28;01mfor\u001b[39;00m r \u001b[38;5;129;01min\u001b[39;00m results(json_response)][:\u001b[38;5;241m5\u001b[39m])\n\u001b[1;32m     25\u001b[0m \u001b[38;5;28mprint\u001b[39m(\u001b[38;5;124m\"\u001b[39m\u001b[38;5;130;01m\\n\u001b[39;00m\u001b[38;5;124mActivities filter and sort:\u001b[39m\u001b[38;5;130;01m\\n\u001b[39;00m\u001b[38;5;124m\"\u001b[39m)\n\u001b[0;32m---> 27\u001b[0m json_response \u001b[38;5;241m=\u001b[39m \u001b[43mget_json\u001b[49m\u001b[43m(\u001b[49m\n\u001b[1;32m     28\u001b[0m \u001b[43m    \u001b[49m\u001b[38;5;124;43m\"\u001b[39;49m\u001b[38;5;124;43m/activities?\u001b[39;49m\u001b[38;5;124;43m\"\u001b[39;49m\n\u001b[1;32m     29\u001b[0m \u001b[43m    \u001b[49m\u001b[38;5;124;43m\"\u001b[39;49m\u001b[38;5;124;43mfilter=started_at_time:>2022-01-01\u001b[39;49m\u001b[38;5;124;43m\"\u001b[39;49m\n\u001b[1;32m     30\u001b[0m \u001b[43m    \u001b[49m\u001b[38;5;124;43m\"\u001b[39;49m\u001b[38;5;124;43m,\u001b[39;49m\u001b[38;5;124;43m\"\u001b[39;49m\n\u001b[1;32m     31\u001b[0m \u001b[43m    \u001b[49m\u001b[38;5;124;43m\"\u001b[39;49m\u001b[38;5;124;43mexecution_resource.search:NERSC\u001b[39;49m\u001b[38;5;124;43m\"\u001b[39;49m\n\u001b[1;32m     32\u001b[0m \u001b[43m    \u001b[49m\u001b[38;5;124;43m\"\u001b[39;49m\u001b[38;5;124;43m&\u001b[39;49m\u001b[38;5;124;43m\"\u001b[39;49m\n\u001b[1;32m     33\u001b[0m \u001b[43m    \u001b[49m\u001b[38;5;124;43m\"\u001b[39;49m\u001b[38;5;124;43msort=ended_at_time:desc\u001b[39;49m\u001b[38;5;124;43m\"\u001b[39;49m\n\u001b[1;32m     34\u001b[0m \u001b[43m)\u001b[49m\n\u001b[1;32m     35\u001b[0m pprint(meta(json_response))\n\u001b[1;32m     36\u001b[0m pprint([\n\u001b[1;32m     37\u001b[0m     pick([\n\u001b[1;32m     38\u001b[0m         \u001b[38;5;124m\"\u001b[39m\u001b[38;5;124mid\u001b[39m\u001b[38;5;124m\"\u001b[39m,\n\u001b[0;32m   (...)\u001b[0m\n\u001b[1;32m     44\u001b[0m     ) \u001b[38;5;28;01mfor\u001b[39;00m r \u001b[38;5;129;01min\u001b[39;00m results(json_response)][:\u001b[38;5;241m5\u001b[39m]\n\u001b[1;32m     45\u001b[0m )\n",
      "Cell \u001b[0;32mIn[1], line 17\u001b[0m, in \u001b[0;36mget_json\u001b[0;34m(path, host, **kwargs)\u001b[0m\n\u001b[1;32m     16\u001b[0m \u001b[38;5;28;01mdef\u001b[39;00m \u001b[38;5;21mget_json\u001b[39m(path, host\u001b[38;5;241m=\u001b[39mHOST, \u001b[38;5;241m*\u001b[39m\u001b[38;5;241m*\u001b[39mkwargs):\n\u001b[0;32m---> 17\u001b[0m     r \u001b[38;5;241m=\u001b[39m \u001b[43mrequests\u001b[49m\u001b[38;5;241;43m.\u001b[39;49m\u001b[43mget\u001b[49m\u001b[43m(\u001b[49m\u001b[43mhost\u001b[49m\u001b[43m \u001b[49m\u001b[38;5;241;43m+\u001b[39;49m\u001b[43m \u001b[49m\u001b[43mpath\u001b[49m\u001b[43m,\u001b[49m\u001b[43m \u001b[49m\u001b[38;5;241;43m*\u001b[39;49m\u001b[38;5;241;43m*\u001b[39;49m\u001b[43mkwargs\u001b[49m\u001b[43m)\u001b[49m\n\u001b[1;32m     18\u001b[0m     r\u001b[38;5;241m.\u001b[39mraise_for_status()\n\u001b[1;32m     19\u001b[0m     \u001b[38;5;28;01mreturn\u001b[39;00m r\u001b[38;5;241m.\u001b[39mjson()\n",
      "File \u001b[0;32m~/nmdc/nmdc-runtime/venv/lib/python3.10/site-packages/requests/api.py:73\u001b[0m, in \u001b[0;36mget\u001b[0;34m(url, params, **kwargs)\u001b[0m\n\u001b[1;32m     62\u001b[0m \u001b[38;5;28;01mdef\u001b[39;00m \u001b[38;5;21mget\u001b[39m(url, params\u001b[38;5;241m=\u001b[39m\u001b[38;5;28;01mNone\u001b[39;00m, \u001b[38;5;241m*\u001b[39m\u001b[38;5;241m*\u001b[39mkwargs):\n\u001b[1;32m     63\u001b[0m \u001b[38;5;250m    \u001b[39m\u001b[38;5;124mr\u001b[39m\u001b[38;5;124;03m\"\"\"Sends a GET request.\u001b[39;00m\n\u001b[1;32m     64\u001b[0m \n\u001b[1;32m     65\u001b[0m \u001b[38;5;124;03m    :param url: URL for the new :class:`Request` object.\u001b[39;00m\n\u001b[0;32m   (...)\u001b[0m\n\u001b[1;32m     70\u001b[0m \u001b[38;5;124;03m    :rtype: requests.Response\u001b[39;00m\n\u001b[1;32m     71\u001b[0m \u001b[38;5;124;03m    \"\"\"\u001b[39;00m\n\u001b[0;32m---> 73\u001b[0m     \u001b[38;5;28;01mreturn\u001b[39;00m \u001b[43mrequest\u001b[49m\u001b[43m(\u001b[49m\u001b[38;5;124;43m\"\u001b[39;49m\u001b[38;5;124;43mget\u001b[39;49m\u001b[38;5;124;43m\"\u001b[39;49m\u001b[43m,\u001b[49m\u001b[43m \u001b[49m\u001b[43murl\u001b[49m\u001b[43m,\u001b[49m\u001b[43m \u001b[49m\u001b[43mparams\u001b[49m\u001b[38;5;241;43m=\u001b[39;49m\u001b[43mparams\u001b[49m\u001b[43m,\u001b[49m\u001b[43m \u001b[49m\u001b[38;5;241;43m*\u001b[39;49m\u001b[38;5;241;43m*\u001b[39;49m\u001b[43mkwargs\u001b[49m\u001b[43m)\u001b[49m\n",
      "File \u001b[0;32m~/nmdc/nmdc-runtime/venv/lib/python3.10/site-packages/requests/api.py:59\u001b[0m, in \u001b[0;36mrequest\u001b[0;34m(method, url, **kwargs)\u001b[0m\n\u001b[1;32m     55\u001b[0m \u001b[38;5;66;03m# By using the 'with' statement we are sure the session is closed, thus we\u001b[39;00m\n\u001b[1;32m     56\u001b[0m \u001b[38;5;66;03m# avoid leaving sockets open which can trigger a ResourceWarning in some\u001b[39;00m\n\u001b[1;32m     57\u001b[0m \u001b[38;5;66;03m# cases, and look like a memory leak in others.\u001b[39;00m\n\u001b[1;32m     58\u001b[0m \u001b[38;5;28;01mwith\u001b[39;00m sessions\u001b[38;5;241m.\u001b[39mSession() \u001b[38;5;28;01mas\u001b[39;00m session:\n\u001b[0;32m---> 59\u001b[0m     \u001b[38;5;28;01mreturn\u001b[39;00m \u001b[43msession\u001b[49m\u001b[38;5;241;43m.\u001b[39;49m\u001b[43mrequest\u001b[49m\u001b[43m(\u001b[49m\u001b[43mmethod\u001b[49m\u001b[38;5;241;43m=\u001b[39;49m\u001b[43mmethod\u001b[49m\u001b[43m,\u001b[49m\u001b[43m \u001b[49m\u001b[43murl\u001b[49m\u001b[38;5;241;43m=\u001b[39;49m\u001b[43murl\u001b[49m\u001b[43m,\u001b[49m\u001b[43m \u001b[49m\u001b[38;5;241;43m*\u001b[39;49m\u001b[38;5;241;43m*\u001b[39;49m\u001b[43mkwargs\u001b[49m\u001b[43m)\u001b[49m\n",
      "File \u001b[0;32m~/nmdc/nmdc-runtime/venv/lib/python3.10/site-packages/requests/sessions.py:589\u001b[0m, in \u001b[0;36mSession.request\u001b[0;34m(self, method, url, params, data, headers, cookies, files, auth, timeout, allow_redirects, proxies, hooks, stream, verify, cert, json)\u001b[0m\n\u001b[1;32m    584\u001b[0m send_kwargs \u001b[38;5;241m=\u001b[39m {\n\u001b[1;32m    585\u001b[0m     \u001b[38;5;124m\"\u001b[39m\u001b[38;5;124mtimeout\u001b[39m\u001b[38;5;124m\"\u001b[39m: timeout,\n\u001b[1;32m    586\u001b[0m     \u001b[38;5;124m\"\u001b[39m\u001b[38;5;124mallow_redirects\u001b[39m\u001b[38;5;124m\"\u001b[39m: allow_redirects,\n\u001b[1;32m    587\u001b[0m }\n\u001b[1;32m    588\u001b[0m send_kwargs\u001b[38;5;241m.\u001b[39mupdate(settings)\n\u001b[0;32m--> 589\u001b[0m resp \u001b[38;5;241m=\u001b[39m \u001b[38;5;28;43mself\u001b[39;49m\u001b[38;5;241;43m.\u001b[39;49m\u001b[43msend\u001b[49m\u001b[43m(\u001b[49m\u001b[43mprep\u001b[49m\u001b[43m,\u001b[49m\u001b[43m \u001b[49m\u001b[38;5;241;43m*\u001b[39;49m\u001b[38;5;241;43m*\u001b[39;49m\u001b[43msend_kwargs\u001b[49m\u001b[43m)\u001b[49m\n\u001b[1;32m    591\u001b[0m \u001b[38;5;28;01mreturn\u001b[39;00m resp\n",
      "File \u001b[0;32m~/nmdc/nmdc-runtime/venv/lib/python3.10/site-packages/requests/sessions.py:703\u001b[0m, in \u001b[0;36mSession.send\u001b[0;34m(self, request, **kwargs)\u001b[0m\n\u001b[1;32m    700\u001b[0m start \u001b[38;5;241m=\u001b[39m preferred_clock()\n\u001b[1;32m    702\u001b[0m \u001b[38;5;66;03m# Send the request\u001b[39;00m\n\u001b[0;32m--> 703\u001b[0m r \u001b[38;5;241m=\u001b[39m \u001b[43madapter\u001b[49m\u001b[38;5;241;43m.\u001b[39;49m\u001b[43msend\u001b[49m\u001b[43m(\u001b[49m\u001b[43mrequest\u001b[49m\u001b[43m,\u001b[49m\u001b[43m \u001b[49m\u001b[38;5;241;43m*\u001b[39;49m\u001b[38;5;241;43m*\u001b[39;49m\u001b[43mkwargs\u001b[49m\u001b[43m)\u001b[49m\n\u001b[1;32m    705\u001b[0m \u001b[38;5;66;03m# Total elapsed time of the request (approximately)\u001b[39;00m\n\u001b[1;32m    706\u001b[0m elapsed \u001b[38;5;241m=\u001b[39m preferred_clock() \u001b[38;5;241m-\u001b[39m start\n",
      "File \u001b[0;32m~/nmdc/nmdc-runtime/venv/lib/python3.10/site-packages/requests/adapters.py:667\u001b[0m, in \u001b[0;36mHTTPAdapter.send\u001b[0;34m(self, request, stream, timeout, verify, cert, proxies)\u001b[0m\n\u001b[1;32m    664\u001b[0m     timeout \u001b[38;5;241m=\u001b[39m TimeoutSauce(connect\u001b[38;5;241m=\u001b[39mtimeout, read\u001b[38;5;241m=\u001b[39mtimeout)\n\u001b[1;32m    666\u001b[0m \u001b[38;5;28;01mtry\u001b[39;00m:\n\u001b[0;32m--> 667\u001b[0m     resp \u001b[38;5;241m=\u001b[39m \u001b[43mconn\u001b[49m\u001b[38;5;241;43m.\u001b[39;49m\u001b[43murlopen\u001b[49m\u001b[43m(\u001b[49m\n\u001b[1;32m    668\u001b[0m \u001b[43m        \u001b[49m\u001b[43mmethod\u001b[49m\u001b[38;5;241;43m=\u001b[39;49m\u001b[43mrequest\u001b[49m\u001b[38;5;241;43m.\u001b[39;49m\u001b[43mmethod\u001b[49m\u001b[43m,\u001b[49m\n\u001b[1;32m    669\u001b[0m \u001b[43m        \u001b[49m\u001b[43murl\u001b[49m\u001b[38;5;241;43m=\u001b[39;49m\u001b[43murl\u001b[49m\u001b[43m,\u001b[49m\n\u001b[1;32m    670\u001b[0m \u001b[43m        \u001b[49m\u001b[43mbody\u001b[49m\u001b[38;5;241;43m=\u001b[39;49m\u001b[43mrequest\u001b[49m\u001b[38;5;241;43m.\u001b[39;49m\u001b[43mbody\u001b[49m\u001b[43m,\u001b[49m\n\u001b[1;32m    671\u001b[0m \u001b[43m        \u001b[49m\u001b[43mheaders\u001b[49m\u001b[38;5;241;43m=\u001b[39;49m\u001b[43mrequest\u001b[49m\u001b[38;5;241;43m.\u001b[39;49m\u001b[43mheaders\u001b[49m\u001b[43m,\u001b[49m\n\u001b[1;32m    672\u001b[0m \u001b[43m        \u001b[49m\u001b[43mredirect\u001b[49m\u001b[38;5;241;43m=\u001b[39;49m\u001b[38;5;28;43;01mFalse\u001b[39;49;00m\u001b[43m,\u001b[49m\n\u001b[1;32m    673\u001b[0m \u001b[43m        \u001b[49m\u001b[43massert_same_host\u001b[49m\u001b[38;5;241;43m=\u001b[39;49m\u001b[38;5;28;43;01mFalse\u001b[39;49;00m\u001b[43m,\u001b[49m\n\u001b[1;32m    674\u001b[0m \u001b[43m        \u001b[49m\u001b[43mpreload_content\u001b[49m\u001b[38;5;241;43m=\u001b[39;49m\u001b[38;5;28;43;01mFalse\u001b[39;49;00m\u001b[43m,\u001b[49m\n\u001b[1;32m    675\u001b[0m \u001b[43m        \u001b[49m\u001b[43mdecode_content\u001b[49m\u001b[38;5;241;43m=\u001b[39;49m\u001b[38;5;28;43;01mFalse\u001b[39;49;00m\u001b[43m,\u001b[49m\n\u001b[1;32m    676\u001b[0m \u001b[43m        \u001b[49m\u001b[43mretries\u001b[49m\u001b[38;5;241;43m=\u001b[39;49m\u001b[38;5;28;43mself\u001b[39;49m\u001b[38;5;241;43m.\u001b[39;49m\u001b[43mmax_retries\u001b[49m\u001b[43m,\u001b[49m\n\u001b[1;32m    677\u001b[0m \u001b[43m        \u001b[49m\u001b[43mtimeout\u001b[49m\u001b[38;5;241;43m=\u001b[39;49m\u001b[43mtimeout\u001b[49m\u001b[43m,\u001b[49m\n\u001b[1;32m    678\u001b[0m \u001b[43m        \u001b[49m\u001b[43mchunked\u001b[49m\u001b[38;5;241;43m=\u001b[39;49m\u001b[43mchunked\u001b[49m\u001b[43m,\u001b[49m\n\u001b[1;32m    679\u001b[0m \u001b[43m    \u001b[49m\u001b[43m)\u001b[49m\n\u001b[1;32m    681\u001b[0m \u001b[38;5;28;01mexcept\u001b[39;00m (ProtocolError, \u001b[38;5;167;01mOSError\u001b[39;00m) \u001b[38;5;28;01mas\u001b[39;00m err:\n\u001b[1;32m    682\u001b[0m     \u001b[38;5;28;01mraise\u001b[39;00m \u001b[38;5;167;01mConnectionError\u001b[39;00m(err, request\u001b[38;5;241m=\u001b[39mrequest)\n",
      "File \u001b[0;32m~/nmdc/nmdc-runtime/venv/lib/python3.10/site-packages/urllib3/connectionpool.py:789\u001b[0m, in \u001b[0;36mHTTPConnectionPool.urlopen\u001b[0;34m(self, method, url, body, headers, retries, redirect, assert_same_host, timeout, pool_timeout, release_conn, chunked, body_pos, preload_content, decode_content, **response_kw)\u001b[0m\n\u001b[1;32m    786\u001b[0m response_conn \u001b[38;5;241m=\u001b[39m conn \u001b[38;5;28;01mif\u001b[39;00m \u001b[38;5;129;01mnot\u001b[39;00m release_conn \u001b[38;5;28;01melse\u001b[39;00m \u001b[38;5;28;01mNone\u001b[39;00m\n\u001b[1;32m    788\u001b[0m \u001b[38;5;66;03m# Make the request on the HTTPConnection object\u001b[39;00m\n\u001b[0;32m--> 789\u001b[0m response \u001b[38;5;241m=\u001b[39m \u001b[38;5;28;43mself\u001b[39;49m\u001b[38;5;241;43m.\u001b[39;49m\u001b[43m_make_request\u001b[49m\u001b[43m(\u001b[49m\n\u001b[1;32m    790\u001b[0m \u001b[43m    \u001b[49m\u001b[43mconn\u001b[49m\u001b[43m,\u001b[49m\n\u001b[1;32m    791\u001b[0m \u001b[43m    \u001b[49m\u001b[43mmethod\u001b[49m\u001b[43m,\u001b[49m\n\u001b[1;32m    792\u001b[0m \u001b[43m    \u001b[49m\u001b[43murl\u001b[49m\u001b[43m,\u001b[49m\n\u001b[1;32m    793\u001b[0m \u001b[43m    \u001b[49m\u001b[43mtimeout\u001b[49m\u001b[38;5;241;43m=\u001b[39;49m\u001b[43mtimeout_obj\u001b[49m\u001b[43m,\u001b[49m\n\u001b[1;32m    794\u001b[0m \u001b[43m    \u001b[49m\u001b[43mbody\u001b[49m\u001b[38;5;241;43m=\u001b[39;49m\u001b[43mbody\u001b[49m\u001b[43m,\u001b[49m\n\u001b[1;32m    795\u001b[0m \u001b[43m    \u001b[49m\u001b[43mheaders\u001b[49m\u001b[38;5;241;43m=\u001b[39;49m\u001b[43mheaders\u001b[49m\u001b[43m,\u001b[49m\n\u001b[1;32m    796\u001b[0m \u001b[43m    \u001b[49m\u001b[43mchunked\u001b[49m\u001b[38;5;241;43m=\u001b[39;49m\u001b[43mchunked\u001b[49m\u001b[43m,\u001b[49m\n\u001b[1;32m    797\u001b[0m \u001b[43m    \u001b[49m\u001b[43mretries\u001b[49m\u001b[38;5;241;43m=\u001b[39;49m\u001b[43mretries\u001b[49m\u001b[43m,\u001b[49m\n\u001b[1;32m    798\u001b[0m \u001b[43m    \u001b[49m\u001b[43mresponse_conn\u001b[49m\u001b[38;5;241;43m=\u001b[39;49m\u001b[43mresponse_conn\u001b[49m\u001b[43m,\u001b[49m\n\u001b[1;32m    799\u001b[0m \u001b[43m    \u001b[49m\u001b[43mpreload_content\u001b[49m\u001b[38;5;241;43m=\u001b[39;49m\u001b[43mpreload_content\u001b[49m\u001b[43m,\u001b[49m\n\u001b[1;32m    800\u001b[0m \u001b[43m    \u001b[49m\u001b[43mdecode_content\u001b[49m\u001b[38;5;241;43m=\u001b[39;49m\u001b[43mdecode_content\u001b[49m\u001b[43m,\u001b[49m\n\u001b[1;32m    801\u001b[0m \u001b[43m    \u001b[49m\u001b[38;5;241;43m*\u001b[39;49m\u001b[38;5;241;43m*\u001b[39;49m\u001b[43mresponse_kw\u001b[49m\u001b[43m,\u001b[49m\n\u001b[1;32m    802\u001b[0m \u001b[43m\u001b[49m\u001b[43m)\u001b[49m\n\u001b[1;32m    804\u001b[0m \u001b[38;5;66;03m# Everything went great!\u001b[39;00m\n\u001b[1;32m    805\u001b[0m clean_exit \u001b[38;5;241m=\u001b[39m \u001b[38;5;28;01mTrue\u001b[39;00m\n",
      "File \u001b[0;32m~/nmdc/nmdc-runtime/venv/lib/python3.10/site-packages/urllib3/connectionpool.py:536\u001b[0m, in \u001b[0;36mHTTPConnectionPool._make_request\u001b[0;34m(self, conn, method, url, body, headers, retries, timeout, chunked, response_conn, preload_content, decode_content, enforce_content_length)\u001b[0m\n\u001b[1;32m    534\u001b[0m \u001b[38;5;66;03m# Receive the response from the server\u001b[39;00m\n\u001b[1;32m    535\u001b[0m \u001b[38;5;28;01mtry\u001b[39;00m:\n\u001b[0;32m--> 536\u001b[0m     response \u001b[38;5;241m=\u001b[39m \u001b[43mconn\u001b[49m\u001b[38;5;241;43m.\u001b[39;49m\u001b[43mgetresponse\u001b[49m\u001b[43m(\u001b[49m\u001b[43m)\u001b[49m\n\u001b[1;32m    537\u001b[0m \u001b[38;5;28;01mexcept\u001b[39;00m (BaseSSLError, \u001b[38;5;167;01mOSError\u001b[39;00m) \u001b[38;5;28;01mas\u001b[39;00m e:\n\u001b[1;32m    538\u001b[0m     \u001b[38;5;28mself\u001b[39m\u001b[38;5;241m.\u001b[39m_raise_timeout(err\u001b[38;5;241m=\u001b[39me, url\u001b[38;5;241m=\u001b[39murl, timeout_value\u001b[38;5;241m=\u001b[39mread_timeout)\n",
      "File \u001b[0;32m~/nmdc/nmdc-runtime/venv/lib/python3.10/site-packages/urllib3/connection.py:464\u001b[0m, in \u001b[0;36mHTTPConnection.getresponse\u001b[0;34m(self)\u001b[0m\n\u001b[1;32m    461\u001b[0m \u001b[38;5;28;01mfrom\u001b[39;00m \u001b[38;5;21;01m.\u001b[39;00m\u001b[38;5;21;01mresponse\u001b[39;00m \u001b[38;5;28;01mimport\u001b[39;00m HTTPResponse\n\u001b[1;32m    463\u001b[0m \u001b[38;5;66;03m# Get the response from http.client.HTTPConnection\u001b[39;00m\n\u001b[0;32m--> 464\u001b[0m httplib_response \u001b[38;5;241m=\u001b[39m \u001b[38;5;28;43msuper\u001b[39;49m\u001b[43m(\u001b[49m\u001b[43m)\u001b[49m\u001b[38;5;241;43m.\u001b[39;49m\u001b[43mgetresponse\u001b[49m\u001b[43m(\u001b[49m\u001b[43m)\u001b[49m\n\u001b[1;32m    466\u001b[0m \u001b[38;5;28;01mtry\u001b[39;00m:\n\u001b[1;32m    467\u001b[0m     assert_header_parsing(httplib_response\u001b[38;5;241m.\u001b[39mmsg)\n",
      "File \u001b[0;32m/opt/homebrew/Cellar/python@3.10/3.10.14/Frameworks/Python.framework/Versions/3.10/lib/python3.10/http/client.py:1375\u001b[0m, in \u001b[0;36mHTTPConnection.getresponse\u001b[0;34m(self)\u001b[0m\n\u001b[1;32m   1373\u001b[0m \u001b[38;5;28;01mtry\u001b[39;00m:\n\u001b[1;32m   1374\u001b[0m     \u001b[38;5;28;01mtry\u001b[39;00m:\n\u001b[0;32m-> 1375\u001b[0m         \u001b[43mresponse\u001b[49m\u001b[38;5;241;43m.\u001b[39;49m\u001b[43mbegin\u001b[49m\u001b[43m(\u001b[49m\u001b[43m)\u001b[49m\n\u001b[1;32m   1376\u001b[0m     \u001b[38;5;28;01mexcept\u001b[39;00m \u001b[38;5;167;01mConnectionError\u001b[39;00m:\n\u001b[1;32m   1377\u001b[0m         \u001b[38;5;28mself\u001b[39m\u001b[38;5;241m.\u001b[39mclose()\n",
      "File \u001b[0;32m/opt/homebrew/Cellar/python@3.10/3.10.14/Frameworks/Python.framework/Versions/3.10/lib/python3.10/http/client.py:318\u001b[0m, in \u001b[0;36mHTTPResponse.begin\u001b[0;34m(self)\u001b[0m\n\u001b[1;32m    316\u001b[0m \u001b[38;5;66;03m# read until we get a non-100 response\u001b[39;00m\n\u001b[1;32m    317\u001b[0m \u001b[38;5;28;01mwhile\u001b[39;00m \u001b[38;5;28;01mTrue\u001b[39;00m:\n\u001b[0;32m--> 318\u001b[0m     version, status, reason \u001b[38;5;241m=\u001b[39m \u001b[38;5;28;43mself\u001b[39;49m\u001b[38;5;241;43m.\u001b[39;49m\u001b[43m_read_status\u001b[49m\u001b[43m(\u001b[49m\u001b[43m)\u001b[49m\n\u001b[1;32m    319\u001b[0m     \u001b[38;5;28;01mif\u001b[39;00m status \u001b[38;5;241m!=\u001b[39m CONTINUE:\n\u001b[1;32m    320\u001b[0m         \u001b[38;5;28;01mbreak\u001b[39;00m\n",
      "File \u001b[0;32m/opt/homebrew/Cellar/python@3.10/3.10.14/Frameworks/Python.framework/Versions/3.10/lib/python3.10/http/client.py:279\u001b[0m, in \u001b[0;36mHTTPResponse._read_status\u001b[0;34m(self)\u001b[0m\n\u001b[1;32m    278\u001b[0m \u001b[38;5;28;01mdef\u001b[39;00m \u001b[38;5;21m_read_status\u001b[39m(\u001b[38;5;28mself\u001b[39m):\n\u001b[0;32m--> 279\u001b[0m     line \u001b[38;5;241m=\u001b[39m \u001b[38;5;28mstr\u001b[39m(\u001b[38;5;28;43mself\u001b[39;49m\u001b[38;5;241;43m.\u001b[39;49m\u001b[43mfp\u001b[49m\u001b[38;5;241;43m.\u001b[39;49m\u001b[43mreadline\u001b[49m\u001b[43m(\u001b[49m\u001b[43m_MAXLINE\u001b[49m\u001b[43m \u001b[49m\u001b[38;5;241;43m+\u001b[39;49m\u001b[43m \u001b[49m\u001b[38;5;241;43m1\u001b[39;49m\u001b[43m)\u001b[49m, \u001b[38;5;124m\"\u001b[39m\u001b[38;5;124miso-8859-1\u001b[39m\u001b[38;5;124m\"\u001b[39m)\n\u001b[1;32m    280\u001b[0m     \u001b[38;5;28;01mif\u001b[39;00m \u001b[38;5;28mlen\u001b[39m(line) \u001b[38;5;241m>\u001b[39m _MAXLINE:\n\u001b[1;32m    281\u001b[0m         \u001b[38;5;28;01mraise\u001b[39;00m LineTooLong(\u001b[38;5;124m\"\u001b[39m\u001b[38;5;124mstatus line\u001b[39m\u001b[38;5;124m\"\u001b[39m)\n",
      "File \u001b[0;32m/opt/homebrew/Cellar/python@3.10/3.10.14/Frameworks/Python.framework/Versions/3.10/lib/python3.10/socket.py:705\u001b[0m, in \u001b[0;36mSocketIO.readinto\u001b[0;34m(self, b)\u001b[0m\n\u001b[1;32m    703\u001b[0m \u001b[38;5;28;01mwhile\u001b[39;00m \u001b[38;5;28;01mTrue\u001b[39;00m:\n\u001b[1;32m    704\u001b[0m     \u001b[38;5;28;01mtry\u001b[39;00m:\n\u001b[0;32m--> 705\u001b[0m         \u001b[38;5;28;01mreturn\u001b[39;00m \u001b[38;5;28;43mself\u001b[39;49m\u001b[38;5;241;43m.\u001b[39;49m\u001b[43m_sock\u001b[49m\u001b[38;5;241;43m.\u001b[39;49m\u001b[43mrecv_into\u001b[49m\u001b[43m(\u001b[49m\u001b[43mb\u001b[49m\u001b[43m)\u001b[49m\n\u001b[1;32m    706\u001b[0m     \u001b[38;5;28;01mexcept\u001b[39;00m timeout:\n\u001b[1;32m    707\u001b[0m         \u001b[38;5;28mself\u001b[39m\u001b[38;5;241m.\u001b[39m_timeout_occurred \u001b[38;5;241m=\u001b[39m \u001b[38;5;28;01mTrue\u001b[39;00m\n",
      "File \u001b[0;32m/opt/homebrew/Cellar/python@3.10/3.10.14/Frameworks/Python.framework/Versions/3.10/lib/python3.10/ssl.py:1307\u001b[0m, in \u001b[0;36mSSLSocket.recv_into\u001b[0;34m(self, buffer, nbytes, flags)\u001b[0m\n\u001b[1;32m   1303\u001b[0m     \u001b[38;5;28;01mif\u001b[39;00m flags \u001b[38;5;241m!=\u001b[39m \u001b[38;5;241m0\u001b[39m:\n\u001b[1;32m   1304\u001b[0m         \u001b[38;5;28;01mraise\u001b[39;00m \u001b[38;5;167;01mValueError\u001b[39;00m(\n\u001b[1;32m   1305\u001b[0m           \u001b[38;5;124m\"\u001b[39m\u001b[38;5;124mnon-zero flags not allowed in calls to recv_into() on \u001b[39m\u001b[38;5;132;01m%s\u001b[39;00m\u001b[38;5;124m\"\u001b[39m \u001b[38;5;241m%\u001b[39m\n\u001b[1;32m   1306\u001b[0m           \u001b[38;5;28mself\u001b[39m\u001b[38;5;241m.\u001b[39m\u001b[38;5;18m__class__\u001b[39m)\n\u001b[0;32m-> 1307\u001b[0m     \u001b[38;5;28;01mreturn\u001b[39;00m \u001b[38;5;28;43mself\u001b[39;49m\u001b[38;5;241;43m.\u001b[39;49m\u001b[43mread\u001b[49m\u001b[43m(\u001b[49m\u001b[43mnbytes\u001b[49m\u001b[43m,\u001b[49m\u001b[43m \u001b[49m\u001b[43mbuffer\u001b[49m\u001b[43m)\u001b[49m\n\u001b[1;32m   1308\u001b[0m \u001b[38;5;28;01melse\u001b[39;00m:\n\u001b[1;32m   1309\u001b[0m     \u001b[38;5;28;01mreturn\u001b[39;00m \u001b[38;5;28msuper\u001b[39m()\u001b[38;5;241m.\u001b[39mrecv_into(buffer, nbytes, flags)\n",
      "File \u001b[0;32m/opt/homebrew/Cellar/python@3.10/3.10.14/Frameworks/Python.framework/Versions/3.10/lib/python3.10/ssl.py:1163\u001b[0m, in \u001b[0;36mSSLSocket.read\u001b[0;34m(self, len, buffer)\u001b[0m\n\u001b[1;32m   1161\u001b[0m \u001b[38;5;28;01mtry\u001b[39;00m:\n\u001b[1;32m   1162\u001b[0m     \u001b[38;5;28;01mif\u001b[39;00m buffer \u001b[38;5;129;01mis\u001b[39;00m \u001b[38;5;129;01mnot\u001b[39;00m \u001b[38;5;28;01mNone\u001b[39;00m:\n\u001b[0;32m-> 1163\u001b[0m         \u001b[38;5;28;01mreturn\u001b[39;00m \u001b[38;5;28;43mself\u001b[39;49m\u001b[38;5;241;43m.\u001b[39;49m\u001b[43m_sslobj\u001b[49m\u001b[38;5;241;43m.\u001b[39;49m\u001b[43mread\u001b[49m\u001b[43m(\u001b[49m\u001b[38;5;28;43mlen\u001b[39;49m\u001b[43m,\u001b[49m\u001b[43m \u001b[49m\u001b[43mbuffer\u001b[49m\u001b[43m)\u001b[49m\n\u001b[1;32m   1164\u001b[0m     \u001b[38;5;28;01melse\u001b[39;00m:\n\u001b[1;32m   1165\u001b[0m         \u001b[38;5;28;01mreturn\u001b[39;00m \u001b[38;5;28mself\u001b[39m\u001b[38;5;241m.\u001b[39m_sslobj\u001b[38;5;241m.\u001b[39mread(\u001b[38;5;28mlen\u001b[39m)\n",
      "\u001b[0;31mKeyboardInterrupt\u001b[0m: "
     ]
    }
   ],
   "source": [
    "def id_and_ecosystem_fields(doc):\n",
    "    return pick(\n",
    "        [\"id\"] + [f for f in doc if f.startswith(\"ecosystem\")],\n",
    "        doc)\n",
    "\n",
    "print(\"\\nStudies filter:\\n\")\n",
    "json_response = get_json(\"/studies?filter=ecosystem_type:Soil\")\n",
    "pprint(meta(json_response))\n",
    "pprint([id_and_ecosystem_fields(r) for r in results(json_response)])\n",
    "\n",
    "print(\"\\nData Objects filter and sort:\\n\")\n",
    "\n",
    "json_response = get_json(\n",
    "    \"/data_objects?\"\n",
    "    \"filter=description.search:GFF\"\n",
    "    \"&\"\n",
    "    \"sort=file_size_bytes:desc\"\n",
    ")\n",
    "pprint(meta(json_response))\n",
    "pprint([pick(\n",
    "    [\"description\", \"file_size_bytes\", \"id\", \"url\"]\n",
    "    , r\n",
    ") for r in results(json_response)][:5])\n",
    "\n",
    "print(\"\\nActivities filter and sort:\\n\")\n",
    "\n",
    "json_response = get_json(\n",
    "    \"/activities?\"\n",
    "    \"filter=started_at_time:>2022-01-01\"\n",
    "    \",\"\n",
    "    \"execution_resource.search:NERSC\"\n",
    "    \"&\"\n",
    "    \"sort=ended_at_time:desc\"\n",
    ")\n",
    "pprint(meta(json_response))\n",
    "pprint([\n",
    "    pick([\n",
    "        \"id\",\n",
    "        \"started_at_time\",\n",
    "        \"ended_at_time\",\n",
    "        \"execution_resource\",\n",
    "        \"type\"],\n",
    "        r\n",
    "    ) for r in results(json_response)][:5]\n",
    ")"
   ]
  },
  {
   "cell_type": "markdown",
   "id": "73c2b8c5-0b83-4313-8638-543a54e20c59",
   "metadata": {
    "tags": []
   },
   "source": [
    "## Download (meta)data"
   ]
  },
  {
   "cell_type": "markdown",
   "id": "4c2bb78e-9a09-4057-a242-5dfdbe901055",
   "metadata": {},
   "source": [
    "### Use case: download metadata of all biosamples for study."
   ]
  },
  {
   "cell_type": "code",
   "execution_count": null,
   "id": "c66df5a7-8302-4453-8d4c-68fe8d85fe56",
   "metadata": {},
   "outputs": [],
   "source": [
    "def write_jsonlines_file(path, all_results):\n",
    "    with open(path, \"w\") as f:\n",
    "        f.writelines([json.dumps(doc)+\"\\n\" for doc in all_results])\n",
    "\n",
    "cursor = \"*\"\n",
    "all_results = []\n",
    "while cursor is not None:\n",
    "    json_response = get_json(\n",
    "        f\"/biosamples?filter=part_of:nmdc:sty-11-zs2syx06&cursor={cursor}\"\n",
    "    )\n",
    "    m, rs = meta(json_response), results(json_response)\n",
    "    cursor = m['next_cursor']\n",
    "    print(\"fetched\", len(rs), f\"results out of {m['count']} total\")\n",
    "    all_results.extend(rs)\n",
    "\n",
    "path = \"~/biosamples_part_of_nmdc:sty-11-zs2syx06.jsonl\"\n",
    "\n",
    "write_jsonlines_file(\n",
    "    Path(path).expanduser(),\n",
    "    all_results\n",
    ")\n",
    "\n",
    "subprocess.check_output(\n",
    "    f\"head -1 {path}\",\n",
    "    shell=True,\n",
    ")"
   ]
  },
  {
   "cell_type": "markdown",
   "id": "15ea7cfd-083f-4796-bcf1-d261c27cec14",
   "metadata": {},
   "source": [
    "### Use case: download all data objects for biosample"
   ]
  },
  {
   "cell_type": "code",
   "execution_count": null,
   "id": "5f201881-9fe6-444e-97e7-5d34a541e4a1",
   "metadata": {},
   "outputs": [],
   "source": [
    "def download_file(url, directory=\"~/\"):\n",
    "    local_filename = url.split('/')[-1]\n",
    "    with requests.get(url, stream=True) as r:\n",
    "        with open(Path(directory + local_filename).expanduser(), 'wb') as f:\n",
    "            shutil.copyfileobj(r.raw, f)\n",
    "\n",
    "    return local_filename\n",
    "\n",
    "id_biosample = \"nmdc:bsm-11-mbnqn650\"\n",
    "rs_ompro = results(get_json(f\"/activities?filter=type:nmdc:OmicsProcessing,has_input:{id_biosample}\"))\n",
    "for id_ompro in tqdm([d[\"id\"] for d in rs_ompro]):\n",
    "    rs_act = results(get_json(f\"/activities?filter=was_informed_by:{id_ompro}\"))\n",
    "    for data_object_ids, activity_type in [(d[\"has_output\"], d[\"type\"]) for d in rs_act]:\n",
    "        for data_object_id in data_object_ids:\n",
    "            do = results(get_json(f\"/data_objects?filter=id:{data_object_id}\"))[0]\n",
    "            print(f'downloading biosample {id_biosample} > omics processing activity {id_ompro} '\n",
    "                  f'> {activity_type} activity > data object {data_object_id} from {do[\"url\"]}...')\n",
    "            download_file(do[\"url\"])"
   ]
  },
  {
   "cell_type": "markdown",
   "id": "622f1c9d-070d-489e-8fd0-00e6156e65b1",
   "metadata": {},
   "source": [
    "## Load (meta)data objects to in-memory Python objects"
   ]
  },
  {
   "cell_type": "markdown",
   "id": "838b7a7d-07a8-44cc-99d4-07edb2e91c8d",
   "metadata": {},
   "source": [
    "### Use case: load metadata of all biosamples for study."
   ]
  },
  {
   "cell_type": "code",
   "execution_count": 12,
   "id": "4796adea-af8f-431c-88a0-0631234c991d",
   "metadata": {},
   "outputs": [
    {
     "name": "stdout",
     "output_type": "stream",
     "text": [
      "fetched 25 results out of 60 total\n",
      "fetched 25 results out of 60 total\n",
      "fetched 10 results out of 60 total\n",
      "[{'id': 'nmdc:bsm-11-04qjyv47',\n",
      "  'lat_lon': {'has_raw_value': '39.7392 -123.6308',\n",
      "              'latitude': 39.7392,\n",
      "              'longitude': -123.6308}},\n",
      " {'id': 'nmdc:bsm-11-05082t91',\n",
      "  'lat_lon': {'has_raw_value': '39.7392 -123.6308',\n",
      "              'latitude': 39.7392,\n",
      "              'longitude': -123.6308}},\n",
      " {'id': 'nmdc:bsm-11-2fjtje68',\n",
      "  'lat_lon': {'has_raw_value': '39.7392 -123.6308',\n",
      "              'latitude': 39.7392,\n",
      "              'longitude': -123.6308}},\n",
      " {'id': 'nmdc:bsm-11-3zrd9503',\n",
      "  'lat_lon': {'has_raw_value': '39.7392 -123.6308',\n",
      "              'latitude': 39.7392,\n",
      "              'longitude': -123.6308}},\n",
      " {'id': 'nmdc:bsm-11-4x1n6x51',\n",
      "  'lat_lon': {'has_raw_value': '39.7392 -123.6308',\n",
      "              'latitude': 39.7392,\n",
      "              'longitude': -123.6308}}]\n"
     ]
    }
   ],
   "source": [
    "cursor = \"*\"\n",
    "all_results = []\n",
    "while cursor is not None:\n",
    "    json_response = get_json(\n",
    "        f\"/biosamples?filter=part_of:nmdc:sty-11-zs2syx06&cursor={cursor}\"\n",
    "    )\n",
    "    m, rs = meta(json_response), results(json_response)\n",
    "    cursor = m['next_cursor']\n",
    "    print(\"fetched\", len(rs), f\"results out of {m['count']} total\")\n",
    "    all_results.extend(rs)\n",
    "\n",
    "pprint([pick([\"id\",\"lat_lon\"], r) for r in all_results][:5])"
   ]
  },
  {
   "cell_type": "markdown",
   "id": "5fcab4cb-3133-44c8-a9a8-5f462895feb8",
   "metadata": {},
   "source": [
    "### Use case: load data object"
   ]
  },
  {
   "cell_type": "code",
   "execution_count": 11,
   "id": "0e0168df-9256-498e-b652-8d7bd535d582",
   "metadata": {},
   "outputs": [
    {
     "name": "stdout",
     "output_type": "stream",
     "text": [
      "76eedf046a56c17d91606a89109be631\n",
      "\n"
     ]
    }
   ],
   "source": [
    "def load_bytes(url):\n",
    "    with requests.get(url, stream=True) as r:\n",
    "        b = BytesIO()\n",
    "        shutil.copyfileobj(r.raw, b)\n",
    "\n",
    "    return b.getvalue()\n",
    "\n",
    "b = load_bytes(get_json(\"/nmdcschema/data_object_set/nmdc:dobj-11-p2174y95\")[\"url\"])\n",
    "\n",
    "for line in b.decode('utf-8').split(\"\\n\"):\n",
    "    print(line)"
   ]
  }
 ],
 "metadata": {
  "kernelspec": {
   "display_name": "Python 3 (ipykernel)",
   "language": "python",
   "name": "python3"
  },
  "language_info": {
   "codemirror_mode": {
    "name": "ipython",
    "version": 3
   },
   "file_extension": ".py",
   "mimetype": "text/x-python",
   "name": "python",
   "nbconvert_exporter": "python",
   "pygments_lexer": "ipython3",
   "version": "3.10.14"
  }
 },
 "nbformat": 4,
 "nbformat_minor": 5
}
