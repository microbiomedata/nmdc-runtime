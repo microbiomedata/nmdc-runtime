{
 "cells": [
  {
   "cell_type": "markdown",
   "id": "2f000562-5087-440d-8704-06d14ef74ce5",
   "metadata": {},
   "source": [
    "# Queue and Trigger Data and Metadata Jobs"
   ]
  },
  {
   "cell_type": "markdown",
   "id": "fe51ebd4-7a88-45a9-8345-0b17fe8a5c79",
   "metadata": {},
   "source": [
    "This notebook describes and provides examples to\n",
    "\n",
    "- understand and manage requests to the central queueing system for NMDC job orchestration\n",
    "- understand and trigger jobs that can move and analyze data, and update metadata, based on precursor activities\n"
   ]
  },
  {
   "cell_type": "markdown",
   "id": "716e78d0-4624-4a6f-b13e-0b195bbb9dc8",
   "metadata": {},
   "source": [
    "## Dependencies"
   ]
  },
  {
   "cell_type": "markdown",
   "id": "b6eb0133-8fb6-4fc2-b4e0-d917c1185a91",
   "metadata": {},
   "source": [
    "The following modules, constants, and helper functions are used by one or more use case cells below, so be sure to run this cell first (ensuring that your relative path to an environment-variables file is set):"
   ]
  },
  {
   "cell_type": "code",
   "execution_count": 1,
   "id": "4488af7d",
   "metadata": {},
   "outputs": [
    {
     "name": "stdout",
     "output_type": "stream",
     "text": [
      "Bearer token expires in 30 minutes\n"
     ]
    }
   ],
   "source": [
    "from datetime import datetime, timezone\n",
    "import json\n",
    "import os\n",
    "from pprint import pprint\n",
    "import secrets\n",
    "import time\n",
    "\n",
    "from dotenv import load_dotenv\n",
    "import requests\n",
    "\n",
    "# relative path to file with format\n",
    "# ```\n",
    "# NMDC_RUNTIME_HOST=fixme\n",
    "# NMDC_RUNTIME_USER=fixme\n",
    "# NMDC_RUNTIME_PASS=fixme\n",
    "# NMDC_RUNTIME_SITE_ID=fixme  # Okay if you don't have yet\n",
    "# NMDC_RUNTIME_SITE_CLIENT_ID=fixme  # Okay if you don't have yet\n",
    "# NMDC_RUNTIME_SITE_CLIENT_SECRET=fixme  # Okay if you don't have yet\n",
    "# ```\n",
    "envfile_path = \"../../.env.client\"\n",
    "\n",
    "load_dotenv(envfile_path)\n",
    "\n",
    "ENV = {\n",
    "    k: v for k, v in os.environ.items()\n",
    "    if k.startswith(\"NMDC_RUNTIME_\")\n",
    "}\n",
    "\n",
    "assert (\n",
    "    ENV[\"NMDC_RUNTIME_HOST\"] == \n",
    "    \"https://api.microbiomedata.org\"\n",
    ")\n",
    "\n",
    "HOST = ENV[\"NMDC_RUNTIME_HOST\"]\n",
    "\n",
    "def request_and_return_json(method, path, host=HOST, **kwargs):\n",
    "    r = requests.request(method, host + path, **kwargs)\n",
    "    r.raise_for_status()\n",
    "    return r.json()\n",
    "\n",
    "def get_json(path, host=HOST, **kwargs):\n",
    "    return request_and_return_json(\"GET\", path, host=host, **kwargs)\n",
    "\n",
    "def post_and_return_json(path, host=HOST, **kwargs):\n",
    "    return request_and_return_json(\"POST\",  path, host=host, **kwargs)\n",
    "\n",
    "def patch_and_return_json(path, host=HOST, **kwargs):\n",
    "    return request_and_return_json(\"PATCH\",  path, host=host, **kwargs)\n",
    "\n",
    "def put_and_return_json(path, host=HOST, **kwargs):\n",
    "    return request_and_return_json(\"PUT\",  path, host=host, **kwargs)\n",
    "\n",
    "def auth_header(bearer_token):\n",
    "    return {\"Authorization\": f\"Bearer {bearer_token}\"}\n",
    "\n",
    "def get_token_for_user():\n",
    "    response = post_and_return_json(\n",
    "        \"/token\",\n",
    "        data={\n",
    "            \"grant_type\": \"password\",\n",
    "            \"username\": ENV[\"NMDC_RUNTIME_USER\"],\n",
    "            \"password\": ENV[\"NMDC_RUNTIME_PASS\"]\n",
    "        }\n",
    "    )\n",
    "    expires_minutes = response['expires']['minutes']\n",
    "    print(f\"Bearer token expires in {expires_minutes} minutes\")\n",
    "    return response[\"access_token\"]\n",
    "\n",
    "def get_token_for_site_client():\n",
    "    response = post_and_return_json(\n",
    "        \"/token\",\n",
    "        data={\n",
    "            \"grant_type\": \"client_credentials\",\n",
    "            \"client_id\": ENV[\"NMDC_RUNTIME_SITE_CLIENT_ID\"],\n",
    "            \"client_secret\": ENV[\"NMDC_RUNTIME_SITE_CLIENT_SECRET\"]\n",
    "        }\n",
    "    )\n",
    "    expires_minutes = response['expires']['minutes']\n",
    "    print(f\"Bearer token expires in {expires_minutes} minutes\")\n",
    "    return response[\"access_token\"]\n",
    "\n",
    "def now(as_str=False):\n",
    "    dt = datetime.now(timezone.utc)\n",
    "    return dt.isoformat() if as_str else dt\n",
    "\n",
    "TOKEN_U = get_token_for_user()"
   ]
  },
  {
   "cell_type": "markdown",
   "id": "cea55c5f-f011-4bb6-b8c4-290088fd78cb",
   "metadata": {},
   "source": [
    "## Understand and Manage Queued Jobs"
   ]
  },
  {
   "cell_type": "markdown",
   "id": "7e823840-5949-4ef2-bb9c-915552e3a56e",
   "metadata": {},
   "source": [
    "### Use case: create a new logical \"site\" to associate with job executions"
   ]
  },
  {
   "cell_type": "code",
   "execution_count": 2,
   "id": "8ab323fc-20c7-4806-ae51-a951978d9687",
   "metadata": {},
   "outputs": [
    {
     "name": "stdout",
     "output_type": "stream",
     "text": [
      "dwinston-_SIO50Lu0Whd45uyX9xKm3t7VmVV1KVxk6HrTm27brE\n"
     ]
    }
   ],
   "source": [
    "user_info = get_json(\"/users/me/\", headers=auth_header(TOKEN_U))\n",
    "\n",
    "id_newsite = f'{ENV[\"NMDC_RUNTIME_USER\"]}-{secrets.token_urlsafe()}'\n",
    "\n",
    "post_and_return_json(\n",
    "    \"/sites\",\n",
    "    json={\"id\": id_newsite},\n",
    "    headers=auth_header(TOKEN_U)\n",
    ")\n",
    "ENV[\"NMDC_RUNTIME_SITE_ID\"] = id_newsite\n",
    "print(ENV[\"NMDC_RUNTIME_SITE_ID\"])"
   ]
  },
  {
   "cell_type": "markdown",
   "id": "513a1b01-87e8-4810-a834-018d3eee33d1",
   "metadata": {},
   "source": [
    "### Use case: create client credentials for a site you administer"
   ]
  },
  {
   "cell_type": "code",
   "execution_count": 3,
   "id": "ad95e3bf-5caf-46d4-9d89-dfea44d11f97",
   "metadata": {
    "tags": []
   },
   "outputs": [
    {
     "name": "stdout",
     "output_type": "stream",
     "text": [
      "New client ID for site dwinston-_SIO50Lu0Whd45uyX9xKm3t7VmVV1KVxk6HrTm27brE:\n",
      "sys0rgj0z957\n"
     ]
    }
   ],
   "source": [
    "site_id = ENV[\"NMDC_RUNTIME_SITE_ID\"]\n",
    "\n",
    "print(f\"New client ID for site {site_id}:\")\n",
    "response = post_and_return_json(\n",
    "    f\"/sites/{site_id}:generateCredentials\",\n",
    "    headers=auth_header(TOKEN_U),\n",
    ")\n",
    "response\n",
    "ENV[\"NMDC_RUNTIME_SITE_CLIENT_ID\"] = response[\"client_id\"]\n",
    "ENV[\"NMDC_RUNTIME_SITE_CLIENT_SECRET\"] = response[\"client_secret\"]\n",
    "\n",
    "print(ENV[\"NMDC_RUNTIME_SITE_CLIENT_ID\"])"
   ]
  },
  {
   "cell_type": "markdown",
   "id": "34fba39e-a6fe-406d-b841-17a3cb7c67b8",
   "metadata": {},
   "source": [
    "### Use case: filter relevant jobs your site can execute"
   ]
  },
  {
   "cell_type": "code",
   "execution_count": 4,
   "id": "71c79bb8-01a2-460a-a311-091f24c36d2b",
   "metadata": {},
   "outputs": [
    {
     "name": "stdout",
     "output_type": "stream",
     "text": [
      "Bearer token expires in 30 minutes\n",
      "{'resources': [{'claims': [{'op_id': 'nmdc:sys08wb3p548',\n",
      "                            'site_id': 'dwinston-J4TsenGGwEf0WXGNE5GKDOvZ15tpxPU2DXSsrytEZl8'}],\n",
      "                'config': {},\n",
      "                'id': 'nmdc:fk0jb83',\n",
      "                'workflow': {'id': 'test'}},\n",
      "               {'config': {'object_id': '1bte-2c60-26'},\n",
      "                'created_at': '2021-09-15T21:21:33.565000',\n",
      "                'id': 'nmdc:sys0d9st65',\n",
      "                'workflow': {'id': 'test'}},\n",
      "               {'config': {'object_id': 'px81-r1xd-77'},\n",
      "                'created_at': '2021-09-27T21:17:03.606000',\n",
      "                'id': 'nmdc:sys09zw052',\n",
      "                'workflow': {'id': 'test'}},\n",
      "               {'config': {'object_id': 'sys04b34c032'},\n",
      "                'created_at': '2022-08-16T20:13:43.339047+00:00',\n",
      "                'id': 'nmdc:sys0m8808k69',\n",
      "                'workflow': {'id': 'test'}},\n",
      "               {'config': {'object_id': 'sys0gprg5t78'},\n",
      "                'created_at': '2022-08-16T20:18:19.335866+00:00',\n",
      "                'id': 'nmdc:sys088x72f03',\n",
      "                'workflow': {'id': 'test'}},\n",
      "               {'config': {'object_id': 'sys091bcr845'},\n",
      "                'created_at': '2022-08-16T20:22:01.353465+00:00',\n",
      "                'id': 'nmdc:sys0grg8vd94',\n",
      "                'workflow': {'id': 'test'}}]}\n",
      "nmdc:fk0jb83\n"
     ]
    }
   ],
   "source": [
    "TOKEN_S = get_token_for_site_client()\n",
    "\n",
    "def filter_jobs(filter_):\n",
    "    return get_json(\n",
    "        f\"/jobs/\",\n",
    "        headers=auth_header(TOKEN_U),\n",
    "        params={\"filter\": json.dumps(filter_)})\n",
    "\n",
    "response = filter_jobs({\"workflow.id\": \"test\"})\n",
    "\n",
    "pprint(response)\n",
    "\n",
    "job_id = response['resources'][0]['id']\n",
    "print(job_id)"
   ]
  },
  {
   "cell_type": "markdown",
   "id": "385d71d6-6639-411b-af75-d8a977a03dc9",
   "metadata": {},
   "source": [
    "### Use case: claim a job execution to keep folks in the loop"
   ]
  },
  {
   "cell_type": "code",
   "execution_count": 5,
   "id": "2cdea237-f5b9-4eb0-8f91-b56e1b0babd8",
   "metadata": {},
   "outputs": [
    {
     "name": "stdout",
     "output_type": "stream",
     "text": [
      "Bearer token expires in 30 minutes\n",
      "{'done': False,\n",
      " 'expire_time': '2022-09-15T20:22:52.487625+00:00',\n",
      " 'id': 'nmdc:sys05me5jk63',\n",
      " 'metadata': {'job': {'config': {},\n",
      "                      'id': 'nmdc:fk0jb83',\n",
      "                      'workflow': {'id': 'test'}},\n",
      "              'model': 'nmdc_runtime.api.models.job.JobOperationMetadata',\n",
      "              'site_id': 'dwinston-_SIO50Lu0Whd45uyX9xKm3t7VmVV1KVxk6HrTm27brE'},\n",
      " 'result': None}\n",
      "Operation ID is  nmdc:sys05me5jk63\n"
     ]
    }
   ],
   "source": [
    "TOKEN_S = get_token_for_site_client()\n",
    "\n",
    "response = post_and_return_json(\n",
    "    f\"/jobs/{job_id}:claim\",\n",
    "    headers=auth_header(TOKEN_S),\n",
    ")\n",
    "pprint(response)\n",
    "\n",
    "operation_id = response[\"id\"]\n",
    "print(\"Operation ID is \", operation_id)"
   ]
  },
  {
   "cell_type": "markdown",
   "id": "75c48705-e5aa-4ae2-bb2e-dfb2597ffef5",
   "metadata": {},
   "source": [
    "### Use case: update your job-execution operation to keep folks in the loop"
   ]
  },
  {
   "cell_type": "code",
   "execution_count": 6,
   "id": "dc79b565-cfc1-4686-b70a-2d25a1d703f3",
   "metadata": {},
   "outputs": [
    {
     "name": "stdout",
     "output_type": "stream",
     "text": [
      "Bearer token expires in 30 minutes\n",
      "Operation summary:\n",
      "{'done': False,\n",
      " 'expire_time': '2022-09-15T20:22:52.487000',\n",
      " 'id': 'nmdc:sys05me5jk63',\n",
      " 'metadata': {'job': {'claims': [],\n",
      "                      'config': {},\n",
      "                      'created_at': None,\n",
      "                      'description': None,\n",
      "                      'id': 'nmdc:fk0jb83',\n",
      "                      'name': None,\n",
      "                      'workflow': {'capability_ids': None,\n",
      "                                   'created_at': None,\n",
      "                                   'description': None,\n",
      "                                   'id': 'test',\n",
      "                                   'name': None}},\n",
      "              'model': 'nmdc_runtime.api.models.job.JobOperationMetadata',\n",
      "              'site_id': 'dwinston-_SIO50Lu0Whd45uyX9xKm3t7VmVV1KVxk6HrTm27brE'},\n",
      " 'result': None}\n",
      "Mark operation as done:\n",
      "{'done': True,\n",
      " 'expire_time': '2022-09-15T20:22:52.487000',\n",
      " 'id': 'nmdc:sys05me5jk63',\n",
      " 'metadata': {'a': 3,\n",
      "              'job': {'claims': [],\n",
      "                      'config': {},\n",
      "                      'created_at': None,\n",
      "                      'description': None,\n",
      "                      'id': 'nmdc:fk0jb83',\n",
      "                      'name': None,\n",
      "                      'workflow': {'capability_ids': None,\n",
      "                                   'created_at': None,\n",
      "                                   'description': None,\n",
      "                                   'id': 'test',\n",
      "                                   'name': None}},\n",
      "              'model': 'nmdc_runtime.api.models.job.JobOperationMetadata',\n",
      "              'site_id': 'dwinston-_SIO50Lu0Whd45uyX9xKm3t7VmVV1KVxk6HrTm27brE'},\n",
      " 'result': 'code green'}\n"
     ]
    }
   ],
   "source": [
    "TOKEN_S = get_token_for_site_client()\n",
    "\n",
    "print(\"Operation summary:\")\n",
    "pprint(get_json(f\"/operations/{operation_id}\"))\n",
    "\n",
    "print(f\"Mark operation as done:\")\n",
    "response = patch_and_return_json(\n",
    "    f\"/operations/{operation_id}\",\n",
    "    json={\"done\": True, \"result\": \"code green\", \"metadata\": {\"a\": 3}},\n",
    "    headers=auth_header(TOKEN_S)\n",
    ")\n",
    "pprint(response)"
   ]
  },
  {
   "cell_type": "markdown",
   "id": "ed15098b-74c2-40d9-bd4d-50797347a3b8",
   "metadata": {},
   "source": [
    "## Understand and Manage Triggered Jobs"
   ]
  },
  {
   "cell_type": "markdown",
   "id": "c3ddcfdd-9289-45cc-8fc0-78824d833e46",
   "metadata": {},
   "source": [
    "### Use case: register an object that may trigger a job via a type annotation"
   ]
  },
  {
   "cell_type": "code",
   "execution_count": 7,
   "id": "495544b4-c8e2-499e-8ed5-3fb00966f883",
   "metadata": {},
   "outputs": [
    {
     "name": "stdout",
     "output_type": "stream",
     "text": [
      "{'access_methods': [{'access_id': None,\n",
      "                     'access_url': {'headers': None,\n",
      "                                    'url': 'http://example.com/path/to/thing'},\n",
      "                     'region': None,\n",
      "                     'type': 'https'}],\n",
      " 'aliases': None,\n",
      " 'checksums': [{'checksum': '0d5bc352bd9e947bcd1d88e9513ef4e8e0d4c81d7ae0f274a601ce36463e3f82',\n",
      "                'type': 'sha256'}],\n",
      " 'contents': None,\n",
      " 'created_time': '2022-08-16T20:22:58.963427+00:00',\n",
      " 'description': 'a very fake object',\n",
      " 'id': 'sys0n94fnf55',\n",
      " 'mime_type': None,\n",
      " 'name': None,\n",
      " 'self_uri': 'drs://drs.microbiomedata.org/sys0n94fnf55',\n",
      " 'size': 1,\n",
      " 'updated_time': None,\n",
      " 'version': None}\n",
      "Types associated with Object ID sys0n94fnf55:\n",
      "[]\n"
     ]
    }
   ],
   "source": [
    "response = post_and_return_json(\n",
    "    \"/objects\",\n",
    "    json={\n",
    "        \"description\": \"a very fake object\",\n",
    "        \"checksums\": [{\"type\": \"sha256\", \"checksum\": secrets.token_hex()}],\n",
    "        \"created_time\": now(as_str=True),\n",
    "        \"size\": 1,\n",
    "        \"access_methods\": [\n",
    "            {\"access_url\": {\"url\": \"http://example.com/path/to/thing\"}},\n",
    "        ],\n",
    "    },\n",
    "    headers=auth_header(TOKEN_S)\n",
    ")\n",
    "pprint(response)\n",
    "object_id = response[\"id\"]\n",
    "print(f\"Types associated with Object ID {object_id}:\")\n",
    "pprint(get_json(f\"/objects/{object_id}/types\"))"
   ]
  },
  {
   "cell_type": "markdown",
   "id": "e544a71c-fda8-472d-a8a5-bdda5d1e013a",
   "metadata": {},
   "source": [
    "### Use case: annotate a known object with a type that will trigger a workflow"
   ]
  },
  {
   "cell_type": "code",
   "execution_count": 8,
   "id": "fdeef939-9c99-40c2-b969-a17bc7b27383",
   "metadata": {},
   "outputs": [
    {
     "name": "stdout",
     "output_type": "stream",
     "text": [
      "[{'created_at': '2021-09-07T00:00:00',\n",
      "  'description': 'For use in unit and integration tests',\n",
      "  'id': 'test',\n",
      "  'name': 'A test object type'}]\n"
     ]
    }
   ],
   "source": [
    "response = put_and_return_json(\n",
    "    f\"/objects/{object_id}/types\",\n",
    "    json=[\"test\"],\n",
    "    headers=auth_header(TOKEN_S),\n",
    ")\n",
    "pprint(get_json(f\"/objects/{object_id}/types\"))"
   ]
  },
  {
   "cell_type": "markdown",
   "id": "116cf47d-e245-4c4a-9a56-7b2ce6f6eb46",
   "metadata": {},
   "source": [
    "Wait some time. Perhaps up to a minute. Then, see the claimable job:"
   ]
  },
  {
   "cell_type": "code",
   "execution_count": 9,
   "id": "b7e7f7c7-cd96-4891-985e-e6242445bbe5",
   "metadata": {},
   "outputs": [
    {
     "name": "stdout",
     "output_type": "stream",
     "text": [
      "{'resources': [{'config': {'object_id': 'sys0n94fnf55'},\n",
      "                'created_at': '2022-08-16T20:23:51.372491+00:00',\n",
      "                'id': 'nmdc:sys0s5mpmq50',\n",
      "                'workflow': {'id': 'test'}}]}\n"
     ]
    }
   ],
   "source": [
    "def filter_jobs(filter_):\n",
    "    return get_json(\n",
    "        f\"/jobs/\",\n",
    "        headers=auth_header(TOKEN_U),\n",
    "        params={\"filter\": json.dumps(filter_)})\n",
    "\n",
    "pprint(filter_jobs({\"workflow.id\": \"test\", \"config.object_id\": object_id}))"
   ]
  }
 ],
 "metadata": {
  "kernelspec": {
   "display_name": "Python (nmdc-runtime)",
   "language": "python",
   "name": "nmdc-runtime"
  },
  "language_info": {
   "codemirror_mode": {
    "name": "ipython",
    "version": 3
   },
   "file_extension": ".py",
   "mimetype": "text/x-python",
   "name": "python",
   "nbconvert_exporter": "python",
   "pygments_lexer": "ipython3",
   "version": "3.8.12"
  }
 },
 "nbformat": 4,
 "nbformat_minor": 5
}
