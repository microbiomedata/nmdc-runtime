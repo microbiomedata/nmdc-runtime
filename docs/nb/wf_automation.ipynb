{
 "cells": [
  {
   "cell_type": "markdown",
   "id": "6f258bda-6084-493d-ad34-4576d8ab3193",
   "metadata": {},
   "source": [
    "# Support for Workflow Automation"
   ]
  },
  {
   "cell_type": "markdown",
   "id": "9c8198fa-8ef1-4e92-a593-a8631c968880",
   "metadata": {},
   "source": [
    "This notebook walks through existing functionality for (meta)data contributors to\n",
    "\n",
    "1. *register workflows*, to\n",
    "\n",
    "2. *install sensor logic* for automated workflow execution, to\n",
    "\n",
    "3. *programmatically register workflow state transitions*, i.e. run events, and to\n",
    "\n",
    "3. *programmatically register generated assets*, i.e. data and metadata outputs, with any workflow run event."
   ]
  },
  {
   "cell_type": "markdown",
   "id": "2bcce4cd-045a-4cc9-8cc2-e7d04aedc773",
   "metadata": {
    "jp-MarkdownHeadingCollapsed": true,
    "tags": []
   },
   "source": [
    "## Register workflows"
   ]
  },
  {
   "cell_type": "markdown",
   "id": "04325ada-6daa-4a79-b484-836ef85efb6f",
   "metadata": {},
   "source": [
    "In the `nmdc_runtime.api.boot.workflows` module, add an entry for your workflow to the `_raw` list. Examples:\n",
    "\n",
    "```python\n",
    "# nmdc_runtime/api/boot/workflows.py\n",
    "    {\n",
    "        \"id\": \"test\",\n",
    "        \"created_at\": datetime(2021, 9, 9, tzinfo=timezone.utc),\n",
    "        \"name\": \"A test workflow\",\n",
    "        \"description\": \"For use in unit and integration tests\",\n",
    "    },   \n",
    "    {\n",
    "        \"id\": \"metadata-in-1.0.0\",\n",
    "        \"created_at\": datetime(2021, 10, 12, tzinfo=timezone.utc),\n",
    "        \"name\": \"general metadata ETL\",\n",
    "        \"description\": \"Validate and ingest metadata from JSON files\",\n",
    "    },\n",
    "    {\n",
    "        \"id\": \"apply-changesheet-1.0.0\",\n",
    "        \"created_at\": datetime(2021, 9, 30, tzinfo=timezone.utc),\n",
    "        \"name\": \"apply metadata changesheet\",\n",
    "        \"description\": \"Validate and apply metadata changes from TSV/CSV files\",\n",
    "    },\n",
    "    {\n",
    "        \"id\": \"export-study-biosamples-as-csv-1.0.0\",\n",
    "        \"created_at\": datetime(2022, 6, 8, tzinfo=timezone.utc),\n",
    "        \"name\": \"export study biosamples metadata as CSV\",\n",
    "        \"description\": \"Export study biosamples metadata as CSV\",\n",
    "    },    \n",
    "```\n",
    "\n",
    "That's it. The `id` field is a primary key under administration by workflow authors. That is, it is up to those who register a workflow by `id` here to ensure that it corresponds to a semantically invariant (minor and patch updates may vary if no `-x.y.z` suffix is part of the registered `id`) version of an unambiguously known workflow. Concretely, there is no requirement for e.g. a commmit-hash-including GitHub link to the workflow's entrypoint."
   ]
  },
  {
   "cell_type": "markdown",
   "id": "2501edf7-5115-4f7a-bdd2-b0a6b6349138",
   "metadata": {},
   "source": [
    "## Install sensor logic"
   ]
  },
  {
   "cell_type": "markdown",
   "id": "66927ccf-79ce-4a1f-980f-a07229c0b99d",
   "metadata": {},
   "source": [
    "In the `nmdc_runtime.site.repository` module, you may add a function decorated with `dagster.sensor` (i.e. `@sensor` preceding the function's `def`), following the examples already installed.\n",
    "\n",
    "Alternatively, if your workflow needs to run if and only if a new data object of a certain type is detected by the runtime, then you may declaratively hook into the existing generic `nmdc_runtime.site.repository.process_workflow_job_triggers` sensor by registering appropriate entries in the `_raw` lists of `nmdc_runtime.api.boot.triggers` and `nmdc_runtime.api.boot.object_types`. See the next subsection for details."
   ]
  },
  {
   "cell_type": "markdown",
   "id": "3fbacc15-8478-4e59-b331-d3bf58b3fa5d",
   "metadata": {},
   "source": [
    "### Register object-type and trigger metadata"
   ]
  },
  {
   "cell_type": "markdown",
   "id": "9e720a51-9f40-47db-acdf-3cfc331d0b24",
   "metadata": {},
   "source": [
    "If your workflow needs to run if and only if a new data object of a certain type is detected by the runtime, you can add entries to two modules as per the following examples:\n",
    "\n",
    "```python\n",
    "# nmdc_runtime/api/boot/object_types.py\n",
    "    {\n",
    "        \"id\": \"test\",\n",
    "        \"created_at\": datetime(2021, 9, 7, tzinfo=timezone.utc),\n",
    "        \"name\": \"A test object type\",\n",
    "        \"description\": \"For use in unit and integration tests\",\n",
    "    },\n",
    "    {\n",
    "        \"id\": \"metadata-in\",\n",
    "        \"created_at\": datetime(2021, 6, 1, tzinfo=timezone.utc),\n",
    "        \"name\": \"metadata submission\",\n",
    "        \"description\": \"Input to the portal ETL process\",\n",
    "    },\n",
    "    {\n",
    "        \"id\": \"metadata-changesheet\",\n",
    "        \"created_at\": datetime(2021, 9, 30, tzinfo=timezone.utc),\n",
    "        \"name\": \"metadata changesheet\",\n",
    "        \"description\": \"Specification for changes to existing metadata\",\n",
    "    },    \n",
    "```\n",
    "```python\n",
    "# nmdc_runtime/api/boot/triggers.py\n",
    "    {\n",
    "        \"created_at\": datetime(2021, 9, 9, tzinfo=timezone.utc),\n",
    "        \"object_type_id\": \"test\",\n",
    "        \"workflow_id\": \"test\",\n",
    "    },\n",
    "    {\n",
    "        \"created_at\": datetime(2021, 6, 1, tzinfo=timezone.utc),\n",
    "        \"object_type_id\": \"metadata-in\",\n",
    "        \"workflow_id\": \"metadata-in-1.0.0\",\n",
    "    },\n",
    "    {\n",
    "        \"created_at\": datetime(2021, 9, 30, tzinfo=timezone.utc),\n",
    "        \"object_type_id\": \"metadata-changesheet\",\n",
    "        \"workflow_id\": \"apply-changesheet-1.0.0\",\n",
    "    },    \n",
    "```"
   ]
  },
  {
   "cell_type": "markdown",
   "id": "a99beedf-9212-4a4b-846e-3c9638a94e5e",
   "metadata": {},
   "source": [
    "## Register workflow state transitions"
   ]
  },
  {
   "cell_type": "code",
   "execution_count": null,
   "id": "0db19b23-f003-477c-8a3b-8f37d8cb3c9f",
   "metadata": {},
   "outputs": [],
   "source": []
  },
  {
   "cell_type": "markdown",
   "id": "490c551d-d21d-4484-95a3-37c3a8560e46",
   "metadata": {},
   "source": [
    "## Register workflow-generated assets"
   ]
  },
  {
   "cell_type": "code",
   "execution_count": null,
   "id": "4017e976-e74f-44ae-8d26-cf803cb1aed1",
   "metadata": {},
   "outputs": [],
   "source": []
  }
 ],
 "metadata": {
  "kernelspec": {
   "display_name": "Python (nmdc-runtime)",
   "language": "python",
   "name": "nmdc-runtime"
  },
  "language_info": {
   "codemirror_mode": {
    "name": "ipython",
    "version": 3
   },
   "file_extension": ".py",
   "mimetype": "text/x-python",
   "name": "python",
   "nbconvert_exporter": "python",
   "pygments_lexer": "ipython3",
   "version": "3.9.13"
  }
 },
 "nbformat": 4,
 "nbformat_minor": 5
}
