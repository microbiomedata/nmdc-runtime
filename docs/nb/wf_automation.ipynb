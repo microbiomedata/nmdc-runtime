{
 "cells": [
  {
   "cell_type": "markdown",
   "id": "6f258bda-6084-493d-ad34-4576d8ab3193",
   "metadata": {},
   "source": [
    "# Support for Workflow Automation"
   ]
  },
  {
   "cell_type": "markdown",
   "id": "9c8198fa-8ef1-4e92-a593-a8631c968880",
   "metadata": {},
   "source": [
    "This notebook walks through existing functionality for (meta)data contributors to\n",
    "\n",
    "1. *register workflows*, to\n",
    "\n",
    "2. *install sensor logic* for automated workflow execution, to\n",
    "\n",
    "3. *programmatically register workflow-run state transitions*, i.e. run events, and to\n",
    "\n",
    "3. *programmatically register generated assets*, i.e. data and metadata outputs, with any workflow run event."
   ]
  },
  {
   "cell_type": "markdown",
   "id": "2bcce4cd-045a-4cc9-8cc2-e7d04aedc773",
   "metadata": {
    "tags": []
   },
   "source": [
    "## Register workflows"
   ]
  },
  {
   "cell_type": "markdown",
   "id": "04325ada-6daa-4a79-b484-836ef85efb6f",
   "metadata": {},
   "source": [
    "In the `nmdc_runtime.api.boot.workflows` module, add an entry for your workflow to the `_raw` list. Examples:\n",
    "\n",
    "```python\n",
    "# nmdc_runtime/api/boot/workflows.py\n",
    "    {\n",
    "        \"id\": \"test\",\n",
    "        \"created_at\": datetime(2021, 9, 9, tzinfo=timezone.utc),\n",
    "        \"name\": \"A test workflow\",\n",
    "        \"description\": \"For use in unit and integration tests\",\n",
    "    },   \n",
    "    {\n",
    "        \"id\": \"metadata-in-1.0.0\",\n",
    "        \"created_at\": datetime(2021, 10, 12, tzinfo=timezone.utc),\n",
    "        \"name\": \"general metadata ETL\",\n",
    "        \"description\": \"Validate and ingest metadata from JSON files\",\n",
    "    },\n",
    "    {\n",
    "        \"id\": \"apply-changesheet-1.0.0\",\n",
    "        \"created_at\": datetime(2021, 9, 30, tzinfo=timezone.utc),\n",
    "        \"name\": \"apply metadata changesheet\",\n",
    "        \"description\": \"Validate and apply metadata changes from TSV/CSV files\",\n",
    "    },\n",
    "    {\n",
    "        \"id\": \"export-study-biosamples-as-csv-1.0.0\",\n",
    "        \"created_at\": datetime(2022, 6, 8, tzinfo=timezone.utc),\n",
    "        \"name\": \"export study biosamples metadata as CSV\",\n",
    "        \"description\": \"Export study biosamples metadata as CSV\",\n",
    "    },    \n",
    "```\n",
    "\n",
    "That's it. The `id` field is a primary key under administration by workflow authors. That is, it is up to those who register a workflow by `id` here to ensure that it corresponds to a semantically invariant (minor and patch updates may vary if no `-x.y.z` suffix is part of the registered `id`) version of an unambiguously known workflow. Concretely, there is no requirement for e.g. a commmit-hash-including GitHub link to the workflow's entrypoint."
   ]
  },
  {
   "cell_type": "markdown",
   "id": "2501edf7-5115-4f7a-bdd2-b0a6b6349138",
   "metadata": {},
   "source": [
    "## Install sensor logic"
   ]
  },
  {
   "cell_type": "markdown",
   "id": "66927ccf-79ce-4a1f-980f-a07229c0b99d",
   "metadata": {},
   "source": [
    "Sensors are used to:\n",
    "- orchestrate runs of runtime-site-executable workflows, e.g. validation and ingest of JSON objects and changesheets against the NMDC schema\n",
    "- create new Job resources for external Sites to claim\n",
    "\n",
    "In the `nmdc_runtime.site.repository` module, you may add a function decorated with `dagster.sensor` (i.e. `@sensor` preceding the function's `def`), following the examples already installed.\n",
    "\n",
    "Alternatively, if your workflow needs to run if and only if a new data object of a certain type is detected by the runtime, then you may declaratively hook into the existing generic `nmdc_runtime.site.repository.process_workflow_job_triggers` sensor by registering appropriate entries in the `_raw` lists of `nmdc_runtime.api.boot.triggers` and `nmdc_runtime.api.boot.object_types`. See the next subsection for details."
   ]
  },
  {
   "cell_type": "markdown",
   "id": "3fbacc15-8478-4e59-b331-d3bf58b3fa5d",
   "metadata": {},
   "source": [
    "### Register object-type and trigger metadata"
   ]
  },
  {
   "cell_type": "markdown",
   "id": "9e720a51-9f40-47db-acdf-3cfc331d0b24",
   "metadata": {},
   "source": [
    "If your workflow needs to run if and only if a new data object of a certain type is detected by the runtime, you can add entries to two modules as per the following examples:\n",
    "\n",
    "```python\n",
    "# nmdc_runtime/api/boot/object_types.py\n",
    "    {\n",
    "        \"id\": \"test\",\n",
    "        \"created_at\": datetime(2021, 9, 7, tzinfo=timezone.utc),\n",
    "        \"name\": \"A test object type\",\n",
    "        \"description\": \"For use in unit and integration tests\",\n",
    "    },\n",
    "    {\n",
    "        \"id\": \"metadata-in\",\n",
    "        \"created_at\": datetime(2021, 6, 1, tzinfo=timezone.utc),\n",
    "        \"name\": \"metadata submission\",\n",
    "        \"description\": \"Input to the portal ETL process\",\n",
    "    },\n",
    "    {\n",
    "        \"id\": \"metadata-changesheet\",\n",
    "        \"created_at\": datetime(2021, 9, 30, tzinfo=timezone.utc),\n",
    "        \"name\": \"metadata changesheet\",\n",
    "        \"description\": \"Specification for changes to existing metadata\",\n",
    "    },    \n",
    "```\n",
    "```python\n",
    "# nmdc_runtime/api/boot/triggers.py\n",
    "    {\n",
    "        \"created_at\": datetime(2021, 9, 9, tzinfo=timezone.utc),\n",
    "        \"object_type_id\": \"test\",\n",
    "        \"workflow_id\": \"test\",\n",
    "    },\n",
    "    {\n",
    "        \"created_at\": datetime(2021, 6, 1, tzinfo=timezone.utc),\n",
    "        \"object_type_id\": \"metadata-in\",\n",
    "        \"workflow_id\": \"metadata-in-1.0.0\",\n",
    "    },\n",
    "    {\n",
    "        \"created_at\": datetime(2021, 9, 30, tzinfo=timezone.utc),\n",
    "        \"object_type_id\": \"metadata-changesheet\",\n",
    "        \"workflow_id\": \"apply-changesheet-1.0.0\",\n",
    "    },    \n",
    "```"
   ]
  },
  {
   "cell_type": "markdown",
   "id": "f919ff61-9901-4ba0-aeb6-2b1659b7bc30",
   "metadata": {},
   "source": [
    "The corresponding sensor,\n",
    "\n",
    "```python\n",
    "# nmdc_runtime/site/repository.py\n",
    "@sensor(job=ensure_jobs.to_job(name=\"ensure_job_triggered\", **preset_normal))\n",
    "def process_workflow_job_triggers(_context):\n",
    "```\n",
    "\n",
    "is activated approximately 30 seconds after the last time it ran, in perpetuity. "
   ]
  },
  {
   "cell_type": "markdown",
   "id": "a99beedf-9212-4a4b-846e-3c9638a94e5e",
   "metadata": {},
   "source": [
    "## Register workflow-run state transitions"
   ]
  },
  {
   "cell_type": "markdown",
   "id": "6f553139-e397-4d07-9616-734e2161e66e",
   "metadata": {},
   "source": [
    "There are currently two ways to register workflow-run state transitions:\n",
    "\n",
    "1. through claiming advertised Jobs and updating corresponding job Operation resources\n",
    "2. direct event registration with `/runs` API entrypoints"
   ]
  },
  {
   "cell_type": "markdown",
   "id": "104f1ff0-3982-4c96-b1f3-9714ba754a9f",
   "metadata": {},
   "source": [
    "### Claiming a Job and updating the spawned Operation resource"
   ]
  },
  {
   "cell_type": "markdown",
   "id": "3565dd45-f5da-43ad-a65f-daeaacc4f8b0",
   "metadata": {},
   "source": [
    "If you have set up sensor logic to trigger the creation of a workflow Job resource when an appropriate input Object resource is available (see previous section), you may\n",
    "\n",
    "1. `GET /jobs` to list and filter for relevant jobs\n",
    "2. `POST /jobs/{job_id}:claim` to claim a job and receive the ID for a new Operation resource with which to register events regarding your workflow job execution.\n",
    "3. `PATCH /operations/{op_id}` to report on job operation status, including whether it is `done` or not."
   ]
  },
  {
   "cell_type": "markdown",
   "id": "33a48aa6-17e4-494a-a6df-3c6842b0e3de",
   "metadata": {},
   "source": [
    "### Direct workflow-execution event registration via `/runs` entrypoints"
   ]
  },
  {
   "cell_type": "markdown",
   "id": "7fed9b15-6252-4167-a4f8-20eade7cc774",
   "metadata": {},
   "source": [
    "You may `POST /runs/{run_id}/events` to post events relevant to your workflow execution. It is your responsibility to supply (1) a run id and (2) a job/workflow id with each posted representation so that events may be collated to recover run provenance. The OpenLineage schema is used for representations.\n",
    "\n",
    "If a workflow is registered with an executable by the runtime Site, you may `POST /runs` to request a run given workflow inputs/configuration. In this case, the runtime will return a run ID and will post run events that you may retrieve via `GET /runs/{run_id}/events` to list a run's events or `GET /runs/{run_id}` to get a summary of the run and its current status."
   ]
  },
  {
   "cell_type": "markdown",
   "id": "490c551d-d21d-4484-95a3-37c3a8560e46",
   "metadata": {},
   "source": [
    "## Register workflow-generated assets"
   ]
  },
  {
   "cell_type": "markdown",
   "id": "be92f9b8-65c7-404e-8e77-817c4bf0d8d8",
   "metadata": {},
   "source": [
    "Each mechanism for registering workflow-run state transitions (see previous section) includes facility for annotating transition representations with metadata about generated assets. Operation resources have `result` and `metadata` fields, and RunEvent resources (the representation schema for the `/runs` entrypoint suite) have `outputs` fields. The recommendation here is to include qualified references to [nmdc:DataObject](https://microbiomedata.github.io/nmdc-schema/DataObject/) IDs.\n",
    "\n",
    "Note that such registration of assets within the representations of Operations and RunEvents is supplementary to but does not replace the primary requirement of provenance metadata embedded in submitted NMDC Schema [nmdc:Activity](https://microbiomedata.github.io/nmdc-schema/Activity/) representations, which also make reference to used and generated DataObjects."
   ]
  }
 ],
 "metadata": {
  "kernelspec": {
   "display_name": "Python (nmdc-runtime)",
   "language": "python",
   "name": "nmdc-runtime"
  },
  "language_info": {
   "codemirror_mode": {
    "name": "ipython",
    "version": 3
   },
   "file_extension": ".py",
   "mimetype": "text/x-python",
   "name": "python",
   "nbconvert_exporter": "python",
   "pygments_lexer": "ipython3",
   "version": "3.9.13"
  }
 },
 "nbformat": 4,
 "nbformat_minor": 5
}
