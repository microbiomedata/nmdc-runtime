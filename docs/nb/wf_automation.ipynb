{
 "cells": [
  {
   "cell_type": "markdown",
   "id": "6f258bda-6084-493d-ad34-4576d8ab3193",
   "metadata": {},
   "source": [
    "# Support for Workflow Automation"
   ]
  },
  {
   "cell_type": "markdown",
   "id": "9c8198fa-8ef1-4e92-a593-a8631c968880",
   "metadata": {},
   "source": [
    "This notebook walks through existing functionality for (meta)data contributors to\n",
    "\n",
    "1. *register workflows*, to\n",
    "\n",
    "2. *install sensor logic* for automated workflow execution, to\n",
    "\n",
    "3. *programmatically register workflow state transitions*, i.e. run events, and to\n",
    "\n",
    "3. *programmatically register generated assets*, i.e. data and metadata outputs, with any workflow run event."
   ]
  },
  {
   "cell_type": "markdown",
   "id": "2bcce4cd-045a-4cc9-8cc2-e7d04aedc773",
   "metadata": {
    "jp-MarkdownHeadingCollapsed": true,
    "tags": []
   },
   "source": [
    "## Register workflows"
   ]
  },
  {
   "cell_type": "markdown",
   "id": "04325ada-6daa-4a79-b484-836ef85efb6f",
   "metadata": {},
   "source": [
    "In the `nmdc_runtime.api.boot.workflows` module, add an entry for your workflow to the `_raw` list. Examples:\n",
    "\n",
    "```python\n",
    "# nmdc_runtime/api/boot/workflows.py\n",
    "    {\n",
    "        \"id\": \"test\",\n",
    "        \"created_at\": datetime(2021, 9, 9, tzinfo=timezone.utc),\n",
    "        \"name\": \"A test workflow\",\n",
    "        \"description\": \"For use in unit and integration tests\",\n",
    "    },\n",
    "    {\n",
    "        \"id\": \"apply-changesheet-1.0.0\",\n",
    "        \"created_at\": datetime(2021, 9, 30, tzinfo=timezone.utc),\n",
    "        \"name\": \"apply metadata changesheet\",\n",
    "        \"description\": \"Validate and apply metadata changes from TSV/CSV files\",\n",
    "    },\n",
    "    {\n",
    "        \"id\": \"export-study-biosamples-as-csv-1.0.0\",\n",
    "        \"created_at\": datetime(2022, 6, 8, tzinfo=timezone.utc),\n",
    "        \"name\": \"export study biosamples metadata as CSV\",\n",
    "        \"description\": \"Export study biosamples metadata as CSV\",\n",
    "    },    \n",
    "```\n",
    "\n",
    "That's it. The `id` field is a primary key under administration by workflow authors. That is, it is up to those who register a workflow by `id` here to ensure that it corresponds to a semantically invariant (minor and patch updates may vary if no `-x.y.z` suffix is part of the registered `id`) version of an unambiguously known workflow. Concretely, there is no requirement for e.g. a commmit-hash-including GitHub link to the workflow's entrypoint."
   ]
  },
  {
   "cell_type": "markdown",
   "id": "2501edf7-5115-4f7a-bdd2-b0a6b6349138",
   "metadata": {},
   "source": [
    "## Install sensor logic"
   ]
  },
  {
   "cell_type": "code",
   "execution_count": null,
   "id": "07f91c83-7f7e-4c97-8aca-cbd9f87324ad",
   "metadata": {},
   "outputs": [],
   "source": []
  },
  {
   "cell_type": "markdown",
   "id": "a99beedf-9212-4a4b-846e-3c9638a94e5e",
   "metadata": {},
   "source": [
    "## Register workflow state transitions"
   ]
  },
  {
   "cell_type": "code",
   "execution_count": null,
   "id": "0db19b23-f003-477c-8a3b-8f37d8cb3c9f",
   "metadata": {},
   "outputs": [],
   "source": []
  },
  {
   "cell_type": "markdown",
   "id": "490c551d-d21d-4484-95a3-37c3a8560e46",
   "metadata": {},
   "source": [
    "## Register workflow-generated assets"
   ]
  },
  {
   "cell_type": "code",
   "execution_count": null,
   "id": "4017e976-e74f-44ae-8d26-cf803cb1aed1",
   "metadata": {},
   "outputs": [],
   "source": []
  }
 ],
 "metadata": {
  "kernelspec": {
   "display_name": "Python (nmdc-runtime)",
   "language": "python",
   "name": "nmdc-runtime"
  },
  "language_info": {
   "codemirror_mode": {
    "name": "ipython",
    "version": 3
   },
   "file_extension": ".py",
   "mimetype": "text/x-python",
   "name": "python",
   "nbconvert_exporter": "python",
   "pygments_lexer": "ipython3",
   "version": "3.9.13"
  }
 },
 "nbformat": 4,
 "nbformat_minor": 5
}
