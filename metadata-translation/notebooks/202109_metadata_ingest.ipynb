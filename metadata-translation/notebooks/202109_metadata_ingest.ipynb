{
 "cells": [
  {
   "cell_type": "markdown",
   "id": "41ac9d3e",
   "metadata": {},
   "source": [
    "# load env"
   ]
  },
  {
   "cell_type": "code",
   "execution_count": null,
   "id": "9607e95f",
   "metadata": {},
   "outputs": [],
   "source": [
    "%load_ext autoreload\n",
    "%autoreload 2"
   ]
  },
  {
   "cell_type": "code",
   "execution_count": null,
   "id": "cb22d1e9",
   "metadata": {},
   "outputs": [],
   "source": [
    "from dotenv import load_dotenv\n",
    "\n",
    "load_dotenv(\"../../.env.localhost\")"
   ]
  },
  {
   "cell_type": "code",
   "execution_count": null,
   "id": "4faa8161",
   "metadata": {},
   "outputs": [],
   "source": [
    "import warnings\n",
    "\n",
    "import dagster\n",
    "\n",
    "warnings.filterwarnings(\"ignore\", category=dagster.ExperimentalWarning)"
   ]
  },
  {
   "cell_type": "markdown",
   "id": "35f90fc9",
   "metadata": {},
   "source": [
    "# init db and client"
   ]
  },
  {
   "cell_type": "code",
   "execution_count": null,
   "id": "7e952363",
   "metadata": {},
   "outputs": [],
   "source": [
    "from nmdc_runtime.util import nmdc_jsonschema, nmdc_jsonschema_validate\n",
    "\n",
    "from nmdc_runtime.site.repository import run_config_frozen__normal_env\n",
    "from nmdc_runtime.site.resources import (\n",
    "    get_mongo,\n",
    "    get_runtime_api_site_client,\n",
    ")\n",
    "\n",
    "\n",
    "mongo = get_mongo(run_config_frozen__normal_env)\n",
    "mdb = mongo.db\n",
    "\n",
    "\n",
    "client = get_runtime_api_site_client(run_config_frozen__normal_env)"
   ]
  },
  {
   "cell_type": "markdown",
   "id": "a57e9a24",
   "metadata": {},
   "source": [
    "# register api user/site"
   ]
  },
  {
   "cell_type": "code",
   "execution_count": null,
   "id": "437b996c",
   "metadata": {},
   "outputs": [],
   "source": [
    "from nmdc_runtime.api.models.user import UserInDB\n",
    "from nmdc_runtime.api.models.site import SiteInDB\n",
    "from nmdc_runtime.api.core.auth import get_password_hash\n",
    "\n",
    "username = \"\"\n",
    "password = \"\"\n",
    "site_id = \"\"\n",
    "\n",
    "mdb.users.insert_one(\n",
    "        UserInDB(\n",
    "            username=username,\n",
    "            hashed_password=get_password_hash(password),\n",
    "            site_admin=[site_id ],\n",
    "        ).dict(exclude_unset=True)\n",
    "    )\n",
    "mdb.sites.insert_one(SiteInDB(id=site_id).dict(exclude_unset=True))"
   ]
  },
  {
   "cell_type": "markdown",
   "id": "7ce7b27e",
   "metadata": {},
   "source": [
    "# activities and data objects"
   ]
  },
  {
   "cell_type": "code",
   "execution_count": null,
   "id": "002800c4",
   "metadata": {},
   "outputs": [],
   "source": [
    "from pathlib import Path\n",
    "\n",
    "filepath = Path.home().joinpath(\n",
    "    \"Dropbox\", \"diary\", \"21\", \"09\",\n",
    "    \"2021-09-15-scanon-nmdc-metadata-file-urls.txt\"\n",
    ")\n",
    "with open(filepath) as f:\n",
    "    urls = [line.strip() for line in f if line.strip()]"
   ]
  },
  {
   "cell_type": "markdown",
   "id": "436a2aaa",
   "metadata": {},
   "source": [
    "### Register DrsObjects for existing URLs"
   ]
  },
  {
   "cell_type": "code",
   "execution_count": null,
   "id": "eea9dcbe",
   "metadata": {},
   "outputs": [],
   "source": [
    "import os\n",
    "import json\n",
    "from pathlib import Path\n",
    "import re\n",
    "from tempfile import TemporaryDirectory\n",
    "\n",
    "import requests\n",
    "from tqdm.notebook import tqdm\n",
    "\n",
    "from nmdc_runtime.util import drs_metadata_for\n",
    "from nmdc_runtime.api.models.object import DrsObjectIn\n",
    "\n",
    "pattern = re.compile(r\"https?://(?P<domain>[^/]+)/(?P<path>.+)\")\n",
    "\n",
    "def url_to_name(url):\n",
    "    m = pattern.match(url)\n",
    "    return (\n",
    "        f\"{'.'.join(reversed(m.group('domain').split('.')))}\"\n",
    "        f\"__{m.group('path').replace('/', '.')}\"\n",
    "    )\n",
    "\n",
    "\n",
    "def fetch_url(url, timeout=30):\n",
    "    return requests.get(url, timeout=timeout)\n",
    "\n",
    "\n",
    "class HttpResponseNotOk(Exception):\n",
    "    pass\n",
    "\n",
    "class HttpResponseNotJson(Exception):\n",
    "    pass\n",
    "\n",
    "def response_to_json(response):\n",
    "    if response.status_code != 200:\n",
    "        raise HttpResponseNotOk()\n",
    "    try:\n",
    "        json_data = response.json()\n",
    "    except:\n",
    "        raise HttpResponseNotJson()\n",
    "    return json_data\n",
    "\n",
    "\n",
    "def json_data_from_url_to_file(json_data, url, save_dir):\n",
    "    filepath = os.path.join(save_dir, url_to_name(url))\n",
    "    with open(filepath, \"w\") as f:\n",
    "        json.dump(json_data, f)\n",
    "    return filepath\n",
    "\n",
    "def json_clean(d, model, exclude_unset=False):\n",
    "    return json.loads(model(**d).json(exclude_unset=exclude_unset))"
   ]
  },
  {
   "cell_type": "code",
   "execution_count": null,
   "id": "b561e010",
   "metadata": {},
   "outputs": [],
   "source": [
    "result = {}\n",
    "with TemporaryDirectory() as save_dir:\n",
    "    for url in tqdm(urls):\n",
    "        response = fetch_url(url)\n",
    "        try:\n",
    "            json_data = response_to_json(response)\n",
    "        except HttpResponseNotOk:\n",
    "            result[url] = {\"error\": \"HttpResponseNotOk\"}\n",
    "            continue\n",
    "        except HttpResponseNotJson:\n",
    "            result[url] = {\"error\": \"HttpResponseNotJson\"}\n",
    "            continue\n",
    "        filepath = json_data_from_url_to_file(json_data, url, save_dir)\n",
    "        drs_object_in = DrsObjectIn(\n",
    "            **drs_metadata_for(\n",
    "                filepath,\n",
    "                {\n",
    "                    \"access_methods\": [{\"access_url\": {\"url\": url}}],\n",
    "                    \"name\": Path(filepath).name.replace(\":\",\"-\")\n",
    "                }\n",
    "            )\n",
    "        )\n",
    "        result[url] = {\"result\": drs_object_in}\n",
    "\n",
    "all(\"result\" in v for v in result.values())"
   ]
  },
  {
   "cell_type": "code",
   "execution_count": null,
   "id": "009f868a",
   "metadata": {},
   "outputs": [],
   "source": [
    "response = {}\n",
    "for url, doc in tqdm(list(result.items())):\n",
    "    if \"error\" in doc:\n",
    "        continue\n",
    "    \n",
    "    drs_object_in = doc[\"result\"]\n",
    "    rv = client.create_object(\n",
    "        json.loads(drs_object_in.json(exclude_unset=True)))\n",
    "    response[url] = rv.status_code\n",
    "\n",
    "all(v == 201 for v in response.values())"
   ]
  },
  {
   "cell_type": "markdown",
   "id": "78bf2f67",
   "metadata": {},
   "source": [
    "### validate and tag"
   ]
  },
  {
   "cell_type": "code",
   "execution_count": null,
   "id": "6190167e",
   "metadata": {},
   "outputs": [],
   "source": [
    "type_collections = {\n",
    "    f'nmdc:{spec[\"items\"][\"$ref\"].split(\"/\")[-1]}': collection_name\n",
    "    for collection_name, spec in\n",
    "    nmdc_jsonschema[\"properties\"].items()\n",
    "    if collection_name.endswith(\"_set\")\n",
    "}\n",
    "\n",
    "def specialize_activity_set_docs(docs):\n",
    "    if \"activity_set\" in docs:\n",
    "        for doc in docs[\"activity_set\"]:\n",
    "            doc_type = doc[\"type\"]\n",
    "            collection_name = type_collections[doc_type]\n",
    "            if collection_name in docs:\n",
    "                docs[collection_name].append(doc)\n",
    "            else:\n",
    "                docs[collection_name] = [doc]\n",
    "        del docs[\"activity_set\"]\n",
    "    return docs"
   ]
  },
  {
   "cell_type": "code",
   "execution_count": null,
   "id": "88979812",
   "metadata": {},
   "outputs": [],
   "source": [
    "drs_object_id = {}\n",
    "for url in tqdm(urls):\n",
    "    doc = mdb.objects.find_one({\"access_methods.access_url.url\": url}, [\"id\"])\n",
    "    drs_object_id[url] = doc[\"id\"]"
   ]
  },
  {
   "cell_type": "code",
   "execution_count": null,
   "id": "9256caf6",
   "metadata": {},
   "outputs": [],
   "source": [
    "response = {}\n",
    "\n",
    "for drs_id in tqdm(list(drs_object_id.values())):\n",
    "    docs = client.get_object_bytes(drs_id).json()\n",
    "    docs = specialize_activity_set_docs(docs)\n",
    "    _ = nmdc_jsonschema_validate(docs)\n",
    "    response[drs_id] = client.ensure_object_tag(\n",
    "        drs_id, \"schema#/definitions/Database\"\n",
    "    )\n",
    "all(v is None or v.status_code == 200 for v in response.values())"
   ]
  },
  {
   "cell_type": "markdown",
   "id": "8ece124a",
   "metadata": {},
   "source": [
    "### validate and ingest"
   ]
  },
  {
   "cell_type": "markdown",
   "id": "a2e307aa",
   "metadata": {},
   "source": [
    "This should trigger creation of `portal-etl-1.0.0` jobs:"
   ]
  },
  {
   "cell_type": "code",
   "execution_count": null,
   "id": "f81bf761",
   "metadata": {},
   "outputs": [],
   "source": [
    "response = {}\n",
    "\n",
    "for drs_id in tqdm(list(drs_object_id.values())):\n",
    "    docs = client.get_object_bytes(drs_id).json()\n",
    "    docs = specialize_activity_set_docs(docs)\n",
    "    _ = nmdc_jsonschema_validate(docs)\n",
    "    response[drs_id] = client.ensure_object_tag(\n",
    "        drs_id, \"metadata-in\"\n",
    "    )\n",
    "all(v is None or v.status_code == 200 for v in response.values())"
   ]
  },
  {
   "cell_type": "code",
   "execution_count": null,
   "id": "6df1c3e3",
   "metadata": {},
   "outputs": [],
   "source": [
    "mdb.jobs.count_documents({\n",
    "    \"workflow.id\": \"portal-etl-1.0.0\",\n",
    "    \"config.object_id\": {\"$in\": list(drs_object_id.values())}\n",
    "}) == len(drs_object_id.values())"
   ]
  },
  {
   "cell_type": "markdown",
   "id": "2d6a67ff",
   "metadata": {},
   "source": [
    "Now, nmdc-runtime site client should claim these jobs."
   ]
  },
  {
   "cell_type": "code",
   "execution_count": null,
   "id": "0d805e17",
   "metadata": {},
   "outputs": [],
   "source": [
    "from nmdc_runtime.api.models.util import ListRequest\n",
    "\n",
    "max_page_size = 1000\n",
    "lr = ListRequest(filter=json.dumps({\n",
    "    \"workflow.id\": \"portal-etl-1.0.0\",\n",
    "    \"config.object_id\": {\"$in\": list(drs_object_id.values())}\n",
    "}), max_page_size=max_page_size)\n",
    "jobs = []\n",
    "while True:\n",
    "    rv = client.list_jobs(lr.dict()).json()\n",
    "    jobs.extend(rv[\"resources\"])\n",
    "    print(\"got\", len(rv[\"resources\"]), \"jobs\")\n",
    "    if \"next_page_token\" not in rv:\n",
    "        break\n",
    "    else:\n",
    "        lr.page_token = rv[\"next_page_token\"]\n",
    "    \n",
    "    # safety escape\n",
    "    if len(jobs) == len(drs_object_id.values()):\n",
    "        break"
   ]
  },
  {
   "cell_type": "code",
   "execution_count": null,
   "id": "2cf2de01",
   "metadata": {},
   "outputs": [],
   "source": [
    "claimed_job_ops = []\n",
    "for j in tqdm(jobs):\n",
    "    claimed_job_ops.append(client.claim_job(j[\"id\"]))"
   ]
  },
  {
   "cell_type": "code",
   "execution_count": null,
   "id": "befada90",
   "metadata": {},
   "outputs": [],
   "source": [
    "job_ops = [rv.json() for rv in claimed_job_ops]"
   ]
  },
  {
   "cell_type": "code",
   "execution_count": null,
   "id": "ef50719e",
   "metadata": {},
   "outputs": [],
   "source": [
    "job_ops"
   ]
  },
  {
   "cell_type": "markdown",
   "id": "f968b51c",
   "metadata": {},
   "source": [
    "Now, do the jobs and mark the job ops as completed, giving appropriate metadata and results."
   ]
  },
  {
   "cell_type": "code",
   "execution_count": null,
   "id": "f10aeadc",
   "metadata": {},
   "outputs": [],
   "source": [
    "from toolz import dissoc\n",
    "\n",
    "def mongo_add_docs_result_as_dict(rv):\n",
    "    return {\n",
    "        collection_name: dissoc(bulk_write_result.bulk_api_result, \"upserted\")\n",
    "        for collection_name, bulk_write_result in rv.items()\n",
    "    }"
   ]
  },
  {
   "cell_type": "code",
   "execution_count": null,
   "id": "a6700d61",
   "metadata": {},
   "outputs": [],
   "source": [
    "from nmdc_runtime.api.models.job import JobOperationMetadata\n",
    "from nmdc_runtime.api.models.operation import Operation\n",
    "from nmdc_runtime.api.models.util import ResultT\n",
    "\n",
    "op_result = {}\n",
    "\n",
    "for doc in tqdm(job_ops):\n",
    "    op = Operation[ResultT, JobOperationMetadata](**doc)\n",
    "    \n",
    "    docs = client.get_object_bytes(op.metadata.job.config[\"object_id\"]).json()\n",
    "    docs = specialize_activity_set_docs(docs)\n",
    "    op_result[op.id] = mongo.add_docs(docs, validate=True)"
   ]
  },
  {
   "cell_type": "code",
   "execution_count": null,
   "id": "c0104214",
   "metadata": {},
   "outputs": [],
   "source": [
    "from datetime import datetime, timezone\n",
    "\n",
    "from nmdc_runtime.api.models.operation import UpdateOperationRequest\n",
    "\n",
    "now = datetime.now(timezone.utc).isoformat(timespec=\"seconds\")\n",
    "\n",
    "op_patch_result = {}\n",
    "\n",
    "for op_id, rv in tqdm(list(op_result.items())):\n",
    "    if client.operation_is_done(op_id):\n",
    "        print(\"op\", op_id, \"marked as done already. Skipping...\")\n",
    "        continue\n",
    "    \n",
    "    op_patch = UpdateOperationRequest(\n",
    "        done=True,\n",
    "        result=mongo_add_docs_result_as_dict(rv),\n",
    "        metadata={\"done_at\": now}\n",
    "    )\n",
    "    op_patch_result[op_id] = client.update_operation(op_id, op_patch).json()"
   ]
  },
  {
   "cell_type": "code",
   "execution_count": null,
   "id": "3bf8b96e",
   "metadata": {},
   "outputs": [],
   "source": [
    "op_patch_result"
   ]
  },
  {
   "cell_type": "markdown",
   "id": "c156faf4",
   "metadata": {},
   "source": [
    "TODO: some logic to help your site client if it doesn't want to re-claim jobs it has already claimed, it has already done, another site has already claimed, or another site has already done. Perhaps add `done` field to `JobClaim` so site client can inspect the nature and status of all job claims."
   ]
  },
  {
   "cell_type": "markdown",
   "id": "82b9c602",
   "metadata": {},
   "source": [
    "## annotations"
   ]
  },
  {
   "cell_type": "code",
   "execution_count": null,
   "id": "fcacd089",
   "metadata": {},
   "outputs": [],
   "source": [
    "from pathlib import Path\n",
    "\n",
    "filepath = Path.home().joinpath(\n",
    "    \"Dropbox\", \"diary\", \"21\", \"09\",\n",
    "    \"scanon-annotations-urls.txt\"\n",
    ")\n",
    "with open(filepath) as f:\n",
    "    anno_additions_urls = [line.strip() for line in f if line.strip()]"
   ]
  },
  {
   "cell_type": "markdown",
   "id": "41614938",
   "metadata": {},
   "source": [
    "Get `anno_fixes_urls`:\n",
    " - from https://portal.nersc.gov/project/m3408/meta/anno2/?C=M;O=D\n",
    " - `*.json` files last modified on or after 2021-09-10\n",
    " \n",
    " Fetch html and use beautiful soup to get urls?"
   ]
  },
  {
   "cell_type": "code",
   "execution_count": null,
   "id": "deadae0d",
   "metadata": {},
   "outputs": [],
   "source": [
    "from bs4 import BeautifulSoup\n",
    "\n",
    "urlpath = \"https://portal.nersc.gov/project/m3408/meta/anno2/\"\n",
    "rv = requests.get(f\"{urlpath}?C=M;O=D\")\n",
    "\n",
    "soup = BeautifulSoup(rv.text, 'html.parser')\n",
    "\n",
    "anno_fixes_urls = [] \n",
    "\n",
    "for tr in soup.find_all(\"tr\"):\n",
    "    tds = tr.find_all(\"td\")\n",
    "    if len(tds) != 5:\n",
    "        continue\n",
    "    \n",
    "    _, td_name, td_last_modified, td_size, _ = tds\n",
    "    if td_last_modified.text.startswith(\"2021-09\"):\n",
    "        name = td_name.a.text\n",
    "        if name.endswith(\".json\"):\n",
    "            anno_fixes_urls.append(f\"{urlpath}{name}\")"
   ]
  },
  {
   "cell_type": "code",
   "execution_count": null,
   "id": "73f029ba",
   "metadata": {
    "scrolled": true
   },
   "outputs": [],
   "source": [
    "anno_additions_urls, anno_fixes_urls"
   ]
  },
  {
   "cell_type": "markdown",
   "id": "4e93740f",
   "metadata": {},
   "source": [
    "### Register DrsObjects for existing URLs"
   ]
  },
  {
   "cell_type": "code",
   "execution_count": null,
   "id": "63f9d7e5",
   "metadata": {},
   "outputs": [],
   "source": [
    "url = \"https://portal.nersc.gov/project/m3408/meta/stegen_metaP_activities.json\""
   ]
  },
  {
   "cell_type": "code",
   "execution_count": null,
   "id": "1e8b96d5",
   "metadata": {},
   "outputs": [],
   "source": [
    "from nmdc_runtime.site.drsobjects.registration import (\n",
    "    fetch_url,\n",
    "    response_to_json,\n",
    "    json_data_from_url_to_file,\n",
    "    drs_object_in_for,\n",
    ")\n",
    "\n",
    "drs_object_in = drs_object_in_for(url)"
   ]
  },
  {
   "cell_type": "code",
   "execution_count": null,
   "id": "cf68b2c4",
   "metadata": {},
   "outputs": [],
   "source": [
    "drs_object_in[\"result\"].dict(exclude_unset=True)"
   ]
  },
  {
   "cell_type": "code",
   "execution_count": null,
   "id": "9c78b4fb",
   "metadata": {},
   "outputs": [],
   "source": [
    "import json\n",
    "\n",
    "doc = {\n",
    "  \"aliases\": None,\n",
    "  \"description\": \"fix biosamples INSDC ID Mongo update\",\n",
    "  \"mime_type\": \"application/json\",\n",
    "  \"name\": \"fix_biosample_insdc_ids.json\",\n",
    "  \"access_methods\": [\n",
    "    {\n",
    "      \"access_url\": {\n",
    "        \"url\": \"https://portal.nersc.gov/project/m3408/meta/fix_biosample_insdc_ids.json\"\n",
    "      },\n",
    "      \"region\": None,\n",
    "      \"type\": \"https\"\n",
    "    }\n",
    "  ],\n",
    "  \"checksums\": [\n",
    "    {\n",
    "      \"checksum\": \"8aca72ffe32265e2c2a6a4de9ae47a53\",\n",
    "      \"type\": \"md5\"\n",
    "    }\n",
    "  ],\n",
    "  \"created_time\": \"2021-10-13T23:34:13.740Z\",\n",
    "  \"size\": 47968,\n",
    "  \"updated_time\": \"2021-10-13T23:34:13.740Z\",\n",
    "  \"version\": None\n",
    "}"
   ]
  },
  {
   "cell_type": "code",
   "execution_count": null,
   "id": "04fdda6b",
   "metadata": {},
   "outputs": [],
   "source": [
    "from nmdc_runtime.api.models.object import DrsObjectIn\n",
    "\n",
    "DrsObjectIn(**doc)"
   ]
  },
  {
   "cell_type": "code",
   "execution_count": null,
   "id": "be49da71",
   "metadata": {
    "scrolled": true
   },
   "outputs": [],
   "source": [
    "all(\"result\" in v for v in drs_object_in_for.values())"
   ]
  },
  {
   "cell_type": "code",
   "execution_count": null,
   "id": "6cb7e5e3",
   "metadata": {},
   "outputs": [],
   "source": [
    "create_drs_object_response = {}\n",
    "for url, doc in tqdm(list(drs_object_in_for.items())):\n",
    "    if \"error\" in doc:\n",
    "        continue\n",
    "    \n",
    "    drs_object_in = doc[\"result\"]\n",
    "    rv = client.create_object(\n",
    "        json.loads(drs_object_in.json(exclude_unset=True)))\n",
    "    create_drs_object_response[url] = rv.status_code"
   ]
  },
  {
   "cell_type": "code",
   "execution_count": null,
   "id": "be036075",
   "metadata": {},
   "outputs": [],
   "source": [
    "all(v == 201 for v in create_drs_object_response.values())"
   ]
  },
  {
   "cell_type": "markdown",
   "id": "3afa0385",
   "metadata": {},
   "source": [
    "### Stage ~80GB of annotations metadata locally"
   ]
  },
  {
   "cell_type": "markdown",
   "id": "ea261cd0",
   "metadata": {},
   "source": [
    "`https://data.microbiomedata.org/data/` maps to `/project/projectdirs/m3408/ficus/pipeline_products/` on NERSC CFS. \n",
    "\n",
    "`https://portal.nersc.gov/project/m3408/` maps to `/project/projectdirs/m3408/www/` on NERSC CFS.\n",
    "\n",
    "Want to xfer via Globus all of the `anno_additions_urls + anno_fixes_urls` to my local system.\n",
    "\n",
    "1. cp relevant files to a common folder on NERSC CFS\n",
    "2. gzip all of the files\n",
    "3. initiate xfer"
   ]
  },
  {
   "cell_type": "code",
   "execution_count": null,
   "id": "41a38866",
   "metadata": {},
   "outputs": [],
   "source": [
    "us = [u.replace(\"https://data.microbiomedata.org/data/\",\"/project/projectdirs/m3408/ficus/pipeline_products/\") for u in anno_additions_urls]"
   ]
  },
  {
   "cell_type": "code",
   "execution_count": null,
   "id": "e82668f6",
   "metadata": {},
   "outputs": [],
   "source": [
    "\"cp --parents \" + \" \".join(us) + \" /project/projectdirs/m3408/xfer-staging-area/\""
   ]
  },
  {
   "cell_type": "code",
   "execution_count": null,
   "id": "f96770c3",
   "metadata": {},
   "outputs": [],
   "source": [
    "us = [u.replace(\"https://portal.nersc.gov/project/m3408/\",\"/project/projectdirs/m3408/www/\") for u in anno_fixes_urls]"
   ]
  },
  {
   "cell_type": "code",
   "execution_count": null,
   "id": "2208fb11",
   "metadata": {},
   "outputs": [],
   "source": [
    "\"cp --parents \" + \" \".join(us) + \" /project/projectdirs/m3408/xfer-staging-area/\""
   ]
  },
  {
   "cell_type": "markdown",
   "id": "d3566c6e",
   "metadata": {},
   "source": [
    "Downloaded all to `/Users/dwinston/nmdc_files/2021-09-scanon-meta/`."
   ]
  },
  {
   "cell_type": "code",
   "execution_count": null,
   "id": "ed577c01",
   "metadata": {},
   "outputs": [],
   "source": [
    "import json\n",
    "\n",
    "prefixes_url_to_local = {\n",
    "    \"https://data.microbiomedata.org/data/\": \"/Users/dwinston/nmdc_files/2021-09-scanon-meta/ficus/pipeline_products/\",\n",
    "    \"https://portal.nersc.gov/project/m3408/\": \"/Users/dwinston/nmdc_files/2021-09-scanon-meta/www/\",\n",
    "}\n",
    "\n",
    "def load_local_json(url):\n",
    "    path = url\n",
    "    for before, after in prefixes_url_to_local.items():\n",
    "        path = path.replace(before, after)\n",
    "    with open(path) as f:\n",
    "        return json.load(f)"
   ]
  },
  {
   "cell_type": "markdown",
   "id": "a15ca9b0",
   "metadata": {},
   "source": [
    "### validate and tag"
   ]
  },
  {
   "cell_type": "code",
   "execution_count": null,
   "id": "c9876d84",
   "metadata": {},
   "outputs": [],
   "source": [
    "drs_object_id = {}\n",
    "for url in tqdm(urls):\n",
    "    doc = mdb.objects.find_one({\"access_methods.access_url.url\": url}, [\"id\"])\n",
    "    drs_object_id[url] = doc[\"id\"]"
   ]
  },
  {
   "cell_type": "code",
   "execution_count": null,
   "id": "6ec0dbbb",
   "metadata": {},
   "outputs": [],
   "source": [
    "response = {}\n",
    "\n",
    "skip = True\n",
    "for url, drs_id in tqdm(list(drs_object_id.items())):\n",
    "    if url == \"https://portal.nersc.gov/project/m3408/meta/anno2/503568_186507_features.json\":\n",
    "        skip = False\n",
    "        print(\"skipping\", url, \"...\")\n",
    "        continue\n",
    "    if skip:\n",
    "        continue\n",
    "        \n",
    "    print(\"loading bytes for\", url, \"...\")\n",
    "    docs = load_local_json(url)\n",
    "    print(docs.keys())\n",
    "    print(\"loaded. validating...\")\n",
    "    _ = nmdc_jsonschema_validate(docs)\n",
    "    print(\"validated. ensuring tags...\")\n",
    "    response[drs_id] = client.ensure_object_tag(\n",
    "        drs_id, \"schema#/definitions/Database\"\n",
    "    )\n",
    "    response[drs_id] = client.ensure_object_tag(\n",
    "        drs_id, \"metadata-in\"\n",
    "    )\n",
    "    print(\"done with\", url)\n",
    "all(v is None or v.status_code == 200 for v in response.values())"
   ]
  },
  {
   "cell_type": "code",
   "execution_count": null,
   "id": "0f0776f6",
   "metadata": {},
   "outputs": [],
   "source": [
    "for url, drs_id in drs_object_id.items():\n",
    "    if url == \"https://portal.nersc.gov/project/m3408/meta/anno2/503568_186507_features.json\":\n",
    "        print(drs_id)"
   ]
  },
  {
   "cell_type": "code",
   "execution_count": null,
   "id": "6ccec29e",
   "metadata": {},
   "outputs": [],
   "source": [
    "drs_object_ids_to_ingest = list(set(drs_object_id.values()) - {\"sys07d2q49\"})"
   ]
  },
  {
   "cell_type": "markdown",
   "id": "722afe52",
   "metadata": {},
   "source": [
    "Claim the jobs."
   ]
  },
  {
   "cell_type": "code",
   "execution_count": null,
   "id": "27b29804",
   "metadata": {},
   "outputs": [],
   "source": [
    "with open(\"drs_object_ids_to_ingest.json\",\"w\") as f:\n",
    "    json.dump(drs_object_ids_to_ingest, f)"
   ]
  },
  {
   "cell_type": "code",
   "execution_count": null,
   "id": "4f579673",
   "metadata": {},
   "outputs": [],
   "source": [
    "with open(\"drs_object_ids_to_ingest.json\") as f:\n",
    "    drs_object_ids_to_ingest = json.load(f)"
   ]
  },
  {
   "cell_type": "code",
   "execution_count": null,
   "id": "ea22c8cc",
   "metadata": {},
   "outputs": [],
   "source": [
    "mdb.jobs.count_documents({\n",
    "    \"workflow.id\": \"portal-etl-1.0.0\",\n",
    "    \"config.object_id\": {\"$in\": drs_object_ids_to_ingest}\n",
    "}) == len(drs_object_ids_to_ingest)"
   ]
  },
  {
   "cell_type": "code",
   "execution_count": null,
   "id": "b614a932",
   "metadata": {},
   "outputs": [],
   "source": [
    "from nmdc_runtime.api.models.util import ListRequest\n",
    "\n",
    "max_page_size = 1000\n",
    "lr = ListRequest(filter=json.dumps({\n",
    "    \"workflow.id\": \"portal-etl-1.0.0\",\n",
    "    \"config.object_id\": {\"$in\": drs_object_ids_to_ingest}\n",
    "}), max_page_size=max_page_size)\n",
    "jobs = []\n",
    "while True:\n",
    "    rv = client.list_jobs(lr.dict()).json()\n",
    "    jobs.extend(rv[\"resources\"])\n",
    "    print(\"got\", len(rv[\"resources\"]), \"jobs\")\n",
    "    if \"next_page_token\" not in rv:\n",
    "        break\n",
    "    else:\n",
    "        lr.page_token = rv[\"next_page_token\"]\n",
    "    \n",
    "    # safety escape\n",
    "    if len(jobs) == len(drs_object_ids_to_ingest):\n",
    "        break\n",
    "\n",
    "claimed_job_ops = []\n",
    "for j in tqdm(jobs):\n",
    "    claimed_job_ops.append(client.claim_job(j[\"id\"]))\n",
    "\n",
    "job_ops = [rv.json() for rv in claimed_job_ops]"
   ]
  },
  {
   "cell_type": "markdown",
   "id": "e8e145fb",
   "metadata": {},
   "source": [
    "Do the jobs, and mark the job ops as done, giving appropriate metadata and results."
   ]
  },
  {
   "cell_type": "code",
   "execution_count": null,
   "id": "647d033e",
   "metadata": {},
   "outputs": [],
   "source": [
    "job_ops = list(mdb.operations.find({\n",
    "    \"metadata.job.workflow.id\": \"portal-etl-1.0.0\",\n",
    "    \"metadata.job.config.object_id\": {\"$in\": drs_object_ids_to_ingest},\n",
    "    \"done\": False\n",
    "}))\n",
    "\n",
    "len(job_ops)"
   ]
  },
  {
   "cell_type": "code",
   "execution_count": null,
   "id": "04b3b537",
   "metadata": {},
   "outputs": [],
   "source": [
    "from datetime import datetime, timezone\n",
    "import gc\n",
    "\n",
    "from nmdc_runtime.api.models.job import JobOperationMetadata\n",
    "from nmdc_runtime.api.models.operation import Operation\n",
    "from nmdc_runtime.api.models.util import ResultT\n",
    "from nmdc_runtime.api.models.operation import UpdateOperationRequest\n",
    "\n",
    "op_result = {}\n",
    "op_patch_result = {}\n",
    "\n",
    "for doc in tqdm(job_ops):\n",
    "    op = Operation[ResultT, JobOperationMetadata](**doc)\n",
    "    object_info = client.get_object_info(op.metadata.job.config[\"object_id\"]).json()\n",
    "    url = object_info[\"access_methods\"][0][\"access_url\"][\"url\"]\n",
    "    docs = load_local_json(url)\n",
    "    op_result[op.id] = mongo.add_docs(docs, validate=False, replace=False)\n",
    "    del docs\n",
    "    gc.collect()\n",
    "    \n",
    "    if client.operation_is_done(op.id):\n",
    "        print(\"op\", op.id, \"marked as done already. Skipping...\")\n",
    "    else:\n",
    "        op_patch = UpdateOperationRequest(\n",
    "            done=True,\n",
    "            result=mongo_add_docs_result_as_dict(op_result[op.id]),\n",
    "            metadata={\"done_at\": datetime.now(timezone.utc).isoformat(timespec=\"seconds\")}\n",
    "        )\n",
    "        op_patch_result[op.id] = client.update_operation(op.id, op_patch).json()\n",
    "        print(\"op\", op.id, \"marked as done.\")"
   ]
  },
  {
   "cell_type": "markdown",
   "id": "9087e681",
   "metadata": {},
   "source": [
    "## omics processing docs\n",
    "\n",
    "- `omics_processing_set` docs from GOLD\n",
    "- many with no `has_output` relationships\n",
    "- so check `was_informed_by` in `read_QC_analysis_activity_set` for `omics_processing_set` IDs\n",
    "- for matches to above, add the read QC activity's `has_input` IDs to the omics processing doc's `has_output` set."
   ]
  },
  {
   "cell_type": "code",
   "execution_count": null,
   "id": "8cd158d3",
   "metadata": {},
   "outputs": [],
   "source": [
    "mdb_staging = mdb.client[\"nmdc_etl_staging\"]"
   ]
  },
  {
   "cell_type": "code",
   "execution_count": null,
   "id": "e8dc1aa7",
   "metadata": {},
   "outputs": [],
   "source": [
    "from toolz import dissoc\n",
    "\n",
    "omics_processing_docs = [dissoc(d, \"_id\") for d in mdb_staging[\"gold.omics_processing_set\"].find()]"
   ]
  },
  {
   "cell_type": "code",
   "execution_count": null,
   "id": "3592b56b",
   "metadata": {},
   "outputs": [],
   "source": [
    "assert len(omics_processing_docs) == 889\n",
    "assert all(len(d.get(\"part_of\", [])) <= 1 for d in omics_processing_docs)"
   ]
  },
  {
   "cell_type": "code",
   "execution_count": null,
   "id": "b2afdee2",
   "metadata": {},
   "outputs": [],
   "source": [
    "omics_processing_docs_for_spruce = [d for d in omics_processing_docs if \"gold:Gs0110138\" in d.get(\"part_of\" ,[])]"
   ]
  },
  {
   "cell_type": "code",
   "execution_count": null,
   "id": "607ce12c",
   "metadata": {},
   "outputs": [],
   "source": [
    "len(omics_processing_docs_for_spruce)"
   ]
  },
  {
   "cell_type": "code",
   "execution_count": null,
   "id": "f6dd7fd9",
   "metadata": {},
   "outputs": [],
   "source": [
    "from toolz import assoc\n",
    "from tqdm.notebook import tqdm\n",
    "\n",
    "docs_to_add = {\n",
    "    \"omics_processing_set\": [],\n",
    "}\n",
    "\n",
    "for ompro_doc in tqdm(omics_processing_docs_for_spruce):\n",
    "    project_id = ompro_doc[\"id\"]\n",
    "    activity_docs = [\n",
    "        dissoc(d, \"_id\") for d in\n",
    "        mdb.read_QC_analysis_activity_set.find({\"was_informed_by\": project_id})\n",
    "    ]\n",
    "    for adoc in activity_docs:\n",
    "        assert len(adoc.get(\"has_input\", [])) == 1\n",
    "        data_object_id = adoc.get(\"has_input\")[0]\n",
    "        docs_to_add[\"omics_processing_set\"].append(assoc(ompro_doc, \"has_output\", [data_object_id]))"
   ]
  },
  {
   "cell_type": "code",
   "execution_count": null,
   "id": "912617cd",
   "metadata": {},
   "outputs": [],
   "source": [
    "from nmdc_runtime.util import nmdc_jsonschema_validate\n",
    "\n",
    "_ = nmdc_jsonschema_validate(docs_to_add)"
   ]
  },
  {
   "cell_type": "code",
   "execution_count": null,
   "id": "0422be9b",
   "metadata": {},
   "outputs": [],
   "source": [
    "rv = mongo.add_docs(docs_to_add)"
   ]
  },
  {
   "cell_type": "code",
   "execution_count": null,
   "id": "e9bd5564",
   "metadata": {},
   "outputs": [],
   "source": [
    "rv"
   ]
  },
  {
   "cell_type": "code",
   "execution_count": null,
   "id": "9028d7b3",
   "metadata": {},
   "outputs": [],
   "source": [
    "rv['omics_processing_set'].upserted_count"
   ]
  },
  {
   "cell_type": "code",
   "execution_count": null,
   "id": "d83f398c",
   "metadata": {},
   "outputs": [],
   "source": [
    "ompro_ids_not_added = {d[\"id\"] for d in omics_processing_docs_for_spruce} - {d[\"id\"] for d in docs_to_add[\"omics_processing_set\"]}"
   ]
  },
  {
   "cell_type": "code",
   "execution_count": null,
   "id": "c7ed6667",
   "metadata": {},
   "outputs": [],
   "source": [
    "len(ompro_ids_not_added)"
   ]
  },
  {
   "cell_type": "code",
   "execution_count": null,
   "id": "c84905bd",
   "metadata": {},
   "outputs": [],
   "source": [
    "for id_ in ompro_ids_not_added:\n",
    "    print(id_)"
   ]
  },
  {
   "cell_type": "code",
   "execution_count": null,
   "id": "174d0912",
   "metadata": {},
   "outputs": [],
   "source": [
    "import requests\n",
    "\n",
    "rv = requests.get(\"https://portal.nersc.gov/project/m3408/meta/spruce-mg-mapping.txt\")"
   ]
  },
  {
   "cell_type": "code",
   "execution_count": null,
   "id": "7799c19c",
   "metadata": {},
   "outputs": [],
   "source": [
    "lines = rv.text.split(\"\\n\")"
   ]
  },
  {
   "cell_type": "code",
   "execution_count": null,
   "id": "2c981f71",
   "metadata": {},
   "outputs": [],
   "source": [
    "ompro_ids = {line.split(\",\")[0] for line in lines if line.strip()}"
   ]
  },
  {
   "cell_type": "code",
   "execution_count": null,
   "id": "0d76c047",
   "metadata": {},
   "outputs": [],
   "source": [
    "ompro_ids & ompro_ids_not_added"
   ]
  },
  {
   "cell_type": "code",
   "execution_count": null,
   "id": "796fcf47",
   "metadata": {},
   "outputs": [],
   "source": [
    "(mdb.omics_processing_set.count_documents({\"has_output.0\": {\"$exists\": True}})\n",
    " ==\n",
    " mdb.omics_processing_set.count_documents({})\n",
    ")"
   ]
  },
  {
   "cell_type": "code",
   "execution_count": null,
   "id": "60189027",
   "metadata": {},
   "outputs": [],
   "source": [
    "mdb.omics_processing_set.count_documents({})"
   ]
  },
  {
   "cell_type": "markdown",
   "id": "333e9b15",
   "metadata": {},
   "source": [
    "# 2021-10-11 reingest of metaP data objects metadata"
   ]
  },
  {
   "cell_type": "code",
   "execution_count": null,
   "id": "626cdef7",
   "metadata": {},
   "outputs": [],
   "source": [
    "import json\n",
    "from pathlib import Path\n",
    "\n",
    "with open(Path(\"~\").expanduser().joinpath(\n",
    "    'Dropbox', 'diary', '21', '10',\n",
    "    '2021-09-14-stegen_emsl_analysis_data_objects.json'\n",
    ")) as f:\n",
    "    docs = json.load(f)"
   ]
  },
  {
   "cell_type": "code",
   "execution_count": null,
   "id": "e3a9408d",
   "metadata": {},
   "outputs": [],
   "source": [
    "{\"data_object_set\": docs}"
   ]
  },
  {
   "cell_type": "code",
   "execution_count": null,
   "id": "a9c2c798",
   "metadata": {},
   "outputs": [],
   "source": [
    "[d[\"id\"] for d in docs]"
   ]
  },
  {
   "cell_type": "code",
   "execution_count": null,
   "id": "9576ad90",
   "metadata": {},
   "outputs": [],
   "source": [
    "from bson.objectid import ObjectId"
   ]
  },
  {
   "cell_type": "code",
   "execution_count": null,
   "id": "01f2c39b",
   "metadata": {},
   "outputs": [],
   "source": [
    "[ObjectId(d[\"id\"]).generation_time for d in docs]"
   ]
  },
  {
   "cell_type": "markdown",
   "id": "b641cf4c",
   "metadata": {},
   "source": [
    "# 2021-10-15 registration of mongoexports"
   ]
  },
  {
   "cell_type": "code",
   "execution_count": null,
   "id": "f40ab63d",
   "metadata": {},
   "outputs": [],
   "source": [
    "import json\n",
    "import os\n",
    "\n",
    "with open(os.path.expanduser(\"~/mongoexport/2021-10-14/drs_objects_in.json\")) as f:\n",
    "    drs_objects_in = json.load(f)"
   ]
  },
  {
   "cell_type": "code",
   "execution_count": null,
   "id": "4598d5d2",
   "metadata": {},
   "outputs": [],
   "source": [
    "rvs = {}\n",
    "for o in drs_objects_in:\n",
    "    rvs[o[\"name\"]] = client.create_object(o)"
   ]
  },
  {
   "cell_type": "code",
   "execution_count": null,
   "id": "e1361f52",
   "metadata": {},
   "outputs": [],
   "source": [
    "rvs"
   ]
  },
  {
   "cell_type": "code",
   "execution_count": null,
   "id": "c1a58059",
   "metadata": {},
   "outputs": [],
   "source": [
    "len(rvs)"
   ]
  },
  {
   "cell_type": "code",
   "execution_count": null,
   "id": "ce65289e",
   "metadata": {},
   "outputs": [],
   "source": [
    "for name, rv in rvs.items():\n",
    "    print(rv.json()[\"id\"])"
   ]
  },
  {
   "cell_type": "code",
   "execution_count": null,
   "id": "b63773e5",
   "metadata": {},
   "outputs": [],
   "source": [
    "names = [n for n in mdb.list_collection_names() if n.endswith(\"_set\") and mdb[n].estimated_document_count() > 0]"
   ]
  },
  {
   "cell_type": "code",
   "execution_count": null,
   "id": "a2a547a6",
   "metadata": {},
   "outputs": [],
   "source": [
    "len(names)"
   ]
  },
  {
   "cell_type": "code",
   "execution_count": null,
   "id": "f1881dc7",
   "metadata": {},
   "outputs": [],
   "source": [
    "from nmdc_runtime.site.backup.nmdcdb_mongoexport import collection_stats\n",
    "\n",
    "pprint(collection_stats(mdb))"
   ]
  },
  {
   "cell_type": "code",
   "execution_count": null,
   "id": "fa7cbc44",
   "metadata": {},
   "outputs": [],
   "source": []
  }
 ],
 "metadata": {
  "kernelspec": {
   "display_name": "Python (nmdc-runtime)",
   "language": "python",
   "name": "nmdc-runtime"
  },
  "language_info": {
   "codemirror_mode": {
    "name": "ipython",
    "version": 3
   },
   "file_extension": ".py",
   "mimetype": "text/x-python",
   "name": "python",
   "nbconvert_exporter": "python",
   "pygments_lexer": "ipython3",
   "version": "3.8.8"
  }
 },
 "nbformat": 4,
 "nbformat_minor": 5
}
