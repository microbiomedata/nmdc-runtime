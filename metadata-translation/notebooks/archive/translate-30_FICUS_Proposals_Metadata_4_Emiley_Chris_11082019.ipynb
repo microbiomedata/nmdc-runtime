{
 "cells": [
  {
   "cell_type": "code",
   "execution_count": 1,
   "metadata": {},
   "outputs": [],
   "source": [
    "import pandas as pds\n",
    "import json\n",
    "from rdflib import Graph, RDFS, RDF, OWL, URIRef, Literal\n",
    "from hashlib import md5\n",
    "from pandasql import sqldf\n",
    "\n",
    "def pysqldf(q):\n",
    "    return sqldf(q, globals())"
   ]
  },
  {
   "cell_type": "markdown",
   "metadata": {},
   "source": [
    "## Build dataframe containing FICUS project data"
   ]
  },
  {
   "cell_type": "code",
   "execution_count": 2,
   "metadata": {},
   "outputs": [],
   "source": [
    "ficusdf = pds.read_excel(\"data/30_FICUS_Proposals_Metadata_4_Emiley_Chris_11082019.xlsx\")"
   ]
  },
  {
   "cell_type": "markdown",
   "metadata": {},
   "source": [
    "## Normalize column names to lower case and trim/strip spaces"
   ]
  },
  {
   "cell_type": "code",
   "execution_count": 3,
   "metadata": {},
   "outputs": [],
   "source": [
    "clean_columns = [c.lower().strip() for c in ficusdf.columns]\n",
    "# clean_columns"
   ]
  },
  {
   "cell_type": "code",
   "execution_count": 4,
   "metadata": {},
   "outputs": [],
   "source": [
    "ficusdf.columns = clean_columns"
   ]
  },
  {
   "cell_type": "markdown",
   "metadata": {},
   "source": [
    "## Specify GOLD elevels and ID fields"
   ]
  },
  {
   "cell_type": "code",
   "execution_count": 5,
   "metadata": {},
   "outputs": [],
   "source": [
    "gold_elevels = ['ecosystem', 'ecosystem_category', 'ecosystem_type', 'ecosystem_subtype', 'specific_ecosystem']\n",
    "id_fields = ['gold_id', 'ecosystem_path_id', 'biosample_id', 'organism_id', 'analysis_project_id', 'submission_id', 'img_taxon_id']"
   ]
  },
  {
   "cell_type": "markdown",
   "metadata": {},
   "source": [
    "## Define helper functions"
   ]
  },
  {
   "cell_type": "code",
   "execution_count": 6,
   "metadata": {},
   "outputs": [],
   "source": [
    "def make_row_list(row, subset_list=[]):\n",
    "    if len(subset_list) > 0:  # only get values in subset list\n",
    "        row_list = [str(v).lower().strip()\n",
    "                        for k,v in row.to_dict().items() \n",
    "                        if k in subset_list]\n",
    "    else:\n",
    "        row_list = [str(e) for e in list(row)]\n",
    "        \n",
    "    return row_list\n",
    "\n",
    "\n",
    "def make_ficus_row_iri(row, id_field_list, prefix=\"http://purl.obolibrary.org/obo/GOLD_\"):\n",
    "    row_list = make_row_list(row, id_field_list)\n",
    "    return make_iri(\"_\".join(row_list), prefix)\n",
    "\n",
    "\n",
    "def make_iri(val, prefix=\"http://purl.obolibrary.org/obo/GOLD_\"):\n",
    "    if None != val and len(val) > 0:\n",
    "        return f\"{prefix}{val}\"\n",
    "    else:\n",
    "        return \"\"\n",
    "\n",
    "\n",
    "def make_class_iri(row, gold_elevel_list, prefix=\"http://purl.obolibrary.org/obo/GOLD_\"):\n",
    "    row_hash = make_row_hash(row, gold_elevel_list)\n",
    "    return make_iri(row_hash, prefix)\n",
    "\n",
    "\n",
    "def make_row_hash(row, subset_list=[]):\n",
    "    row_list = make_row_list(row, subset_list)\n",
    "\n",
    "    temp = [\"\" if pds.isnull(e) else e for e in row_list] # replace NaNs with ''\n",
    "    temp = \"\".join(temp)\n",
    "#     print(\"row: \", temp)\n",
    "    return make_hash(temp)\n",
    "\n",
    "\n",
    "def make_hash(val):\n",
    "    if len(val) > 0:\n",
    "        hash = md5(val.encode('utf-8'))\n",
    "        return str(hash.hexdigest())\n",
    "    else:\n",
    "        return \"\"\n",
    "\n",
    "\n",
    "def make_annotation_dict(value_list, prefix=\"http://purl.obolibrary.org/obo/GOLD_\"):\n",
    "    annotation_dict = {}\n",
    "    for val in value_list:\n",
    "        val = str(val).lower().strip()\n",
    "        annotation_dict[val] = \\\n",
    "            {'iri': make_iri(str(val), prefix=prefix), 'label': val}\n",
    "    return annotation_dict"
   ]
  },
  {
   "cell_type": "markdown",
   "metadata": {},
   "source": [
    "## Make dict to map column headers to IRIs"
   ]
  },
  {
   "cell_type": "code",
   "execution_count": 7,
   "metadata": {},
   "outputs": [],
   "source": [
    "annotation_dict = make_annotation_dict(clean_columns)"
   ]
  },
  {
   "cell_type": "code",
   "execution_count": 8,
   "metadata": {},
   "outputs": [
    {
     "data": {
      "text/plain": [
       "{'gold_id': {'iri': 'http://purl.obolibrary.org/obo/GOLD_gold_id',\n",
       "  'label': 'gold_id'},\n",
       " 'is_public': {'iri': 'http://purl.obolibrary.org/obo/GOLD_is_public',\n",
       "  'label': 'is_public'},\n",
       " 'its_proposal_id': {'iri': 'http://purl.obolibrary.org/obo/GOLD_its_proposal_id',\n",
       "  'label': 'its_proposal_id'},\n",
       " 'its_spid': {'iri': 'http://purl.obolibrary.org/obo/GOLD_its_spid',\n",
       "  'label': 'its_spid'},\n",
       " 'pi_name': {'iri': 'http://purl.obolibrary.org/obo/GOLD_pi_name',\n",
       "  'label': 'pi_name'},\n",
       " 'pi_email': {'iri': 'http://purl.obolibrary.org/obo/GOLD_pi_email',\n",
       "  'label': 'pi_email'},\n",
       " 'sequencing_strategy': {'iri': 'http://purl.obolibrary.org/obo/GOLD_sequencing_strategy',\n",
       "  'label': 'sequencing_strategy'},\n",
       " 'project_name': {'iri': 'http://purl.obolibrary.org/obo/GOLD_project_name',\n",
       "  'label': 'project_name'},\n",
       " 'biosample_id': {'iri': 'http://purl.obolibrary.org/obo/GOLD_biosample_id',\n",
       "  'label': 'biosample_id'},\n",
       " 'biosample_name': {'iri': 'http://purl.obolibrary.org/obo/GOLD_biosample_name',\n",
       "  'label': 'biosample_name'},\n",
       " 'ecosystem_path_id': {'iri': 'http://purl.obolibrary.org/obo/GOLD_ecosystem_path_id',\n",
       "  'label': 'ecosystem_path_id'},\n",
       " 'ecosystem': {'iri': 'http://purl.obolibrary.org/obo/GOLD_ecosystem',\n",
       "  'label': 'ecosystem'},\n",
       " 'ecosystem_category': {'iri': 'http://purl.obolibrary.org/obo/GOLD_ecosystem_category',\n",
       "  'label': 'ecosystem_category'},\n",
       " 'ecosystem_type': {'iri': 'http://purl.obolibrary.org/obo/GOLD_ecosystem_type',\n",
       "  'label': 'ecosystem_type'},\n",
       " 'ecosystem_subtype': {'iri': 'http://purl.obolibrary.org/obo/GOLD_ecosystem_subtype',\n",
       "  'label': 'ecosystem_subtype'},\n",
       " 'specific_ecosystem': {'iri': 'http://purl.obolibrary.org/obo/GOLD_specific_ecosystem',\n",
       "  'label': 'specific_ecosystem'},\n",
       " 'organism_id': {'iri': 'http://purl.obolibrary.org/obo/GOLD_organism_id',\n",
       "  'label': 'organism_id'},\n",
       " 'organism_name': {'iri': 'http://purl.obolibrary.org/obo/GOLD_organism_name',\n",
       "  'label': 'organism_name'},\n",
       " 'ecosystem_path_id.1': {'iri': 'http://purl.obolibrary.org/obo/GOLD_ecosystem_path_id.1',\n",
       "  'label': 'ecosystem_path_id.1'},\n",
       " 'ecosystem.1': {'iri': 'http://purl.obolibrary.org/obo/GOLD_ecosystem.1',\n",
       "  'label': 'ecosystem.1'},\n",
       " 'ecosystem_category.1': {'iri': 'http://purl.obolibrary.org/obo/GOLD_ecosystem_category.1',\n",
       "  'label': 'ecosystem_category.1'},\n",
       " 'ecosystem_type.1': {'iri': 'http://purl.obolibrary.org/obo/GOLD_ecosystem_type.1',\n",
       "  'label': 'ecosystem_type.1'},\n",
       " 'ecosystem_subtype.1': {'iri': 'http://purl.obolibrary.org/obo/GOLD_ecosystem_subtype.1',\n",
       "  'label': 'ecosystem_subtype.1'},\n",
       " 'specific_ecosystem.1': {'iri': 'http://purl.obolibrary.org/obo/GOLD_specific_ecosystem.1',\n",
       "  'label': 'specific_ecosystem.1'},\n",
       " 'analysis_project_id': {'iri': 'http://purl.obolibrary.org/obo/GOLD_analysis_project_id',\n",
       "  'label': 'analysis_project_id'},\n",
       " 'submission_id': {'iri': 'http://purl.obolibrary.org/obo/GOLD_submission_id',\n",
       "  'label': 'submission_id'},\n",
       " 'img_taxon_id': {'iri': 'http://purl.obolibrary.org/obo/GOLD_img_taxon_id',\n",
       "  'label': 'img_taxon_id'}}"
      ]
     },
     "execution_count": 8,
     "metadata": {},
     "output_type": "execute_result"
    }
   ],
   "source": [
    "annotation_dict"
   ]
  },
  {
   "cell_type": "markdown",
   "metadata": {},
   "source": [
    "## Create IRIs to identify each row of data and class to which the row belongs"
   ]
  },
  {
   "cell_type": "code",
   "execution_count": 9,
   "metadata": {},
   "outputs": [],
   "source": [
    "ficusdf['row_iri'] = ficusdf.apply(lambda row: make_ficus_row_iri(row, id_fields), axis=1)\n",
    "ficusdf['class_iri'] = ficusdf.apply(lambda row: make_class_iri(row, gold_elevels), axis=1)"
   ]
  },
  {
   "cell_type": "code",
   "execution_count": 10,
   "metadata": {},
   "outputs": [
    {
     "data": {
      "text/html": [
       "<div>\n",
       "<style scoped>\n",
       "    .dataframe tbody tr th:only-of-type {\n",
       "        vertical-align: middle;\n",
       "    }\n",
       "\n",
       "    .dataframe tbody tr th {\n",
       "        vertical-align: top;\n",
       "    }\n",
       "\n",
       "    .dataframe thead th {\n",
       "        text-align: right;\n",
       "    }\n",
       "</style>\n",
       "<table border=\"1\" class=\"dataframe\">\n",
       "  <thead>\n",
       "    <tr style=\"text-align: right;\">\n",
       "      <th></th>\n",
       "      <th>ecosystem</th>\n",
       "      <th>ecosystem_category</th>\n",
       "      <th>ecosystem_type</th>\n",
       "      <th>ecosystem_subtype</th>\n",
       "      <th>specific_ecosystem</th>\n",
       "      <th>class_iri</th>\n",
       "    </tr>\n",
       "  </thead>\n",
       "  <tbody>\n",
       "    <tr>\n",
       "      <th>0</th>\n",
       "      <td>Host-associated</td>\n",
       "      <td>Microbial</td>\n",
       "      <td>Bacteria</td>\n",
       "      <td>Unclassified</td>\n",
       "      <td>Unclassified</td>\n",
       "      <td>http://purl.obolibrary.org/obo/GOLD_8933c51848ce54db789cba16bf6707ea</td>\n",
       "    </tr>\n",
       "    <tr>\n",
       "      <th>1</th>\n",
       "      <td>Host-associated</td>\n",
       "      <td>Microbial</td>\n",
       "      <td>Bacteria</td>\n",
       "      <td>Unclassified</td>\n",
       "      <td>Unclassified</td>\n",
       "      <td>http://purl.obolibrary.org/obo/GOLD_8933c51848ce54db789cba16bf6707ea</td>\n",
       "    </tr>\n",
       "    <tr>\n",
       "      <th>2</th>\n",
       "      <td>Host-associated</td>\n",
       "      <td>Microbial</td>\n",
       "      <td>Bacteria</td>\n",
       "      <td>Unclassified</td>\n",
       "      <td>Unclassified</td>\n",
       "      <td>http://purl.obolibrary.org/obo/GOLD_8933c51848ce54db789cba16bf6707ea</td>\n",
       "    </tr>\n",
       "    <tr>\n",
       "      <th>3</th>\n",
       "      <td>Host-associated</td>\n",
       "      <td>Microbial</td>\n",
       "      <td>Bacteria</td>\n",
       "      <td>Unclassified</td>\n",
       "      <td>Unclassified</td>\n",
       "      <td>http://purl.obolibrary.org/obo/GOLD_8933c51848ce54db789cba16bf6707ea</td>\n",
       "    </tr>\n",
       "    <tr>\n",
       "      <th>4</th>\n",
       "      <td>Host-associated</td>\n",
       "      <td>Microbial</td>\n",
       "      <td>Bacteria</td>\n",
       "      <td>Unclassified</td>\n",
       "      <td>Unclassified</td>\n",
       "      <td>http://purl.obolibrary.org/obo/GOLD_8933c51848ce54db789cba16bf6707ea</td>\n",
       "    </tr>\n",
       "  </tbody>\n",
       "</table>\n",
       "</div>"
      ],
      "text/plain": [
       "         ecosystem ecosystem_category ecosystem_type ecosystem_subtype  \\\n",
       "0  Host-associated          Microbial       Bacteria      Unclassified   \n",
       "1  Host-associated          Microbial       Bacteria      Unclassified   \n",
       "2  Host-associated          Microbial       Bacteria      Unclassified   \n",
       "3  Host-associated          Microbial       Bacteria      Unclassified   \n",
       "4  Host-associated          Microbial       Bacteria      Unclassified   \n",
       "\n",
       "  specific_ecosystem  \\\n",
       "0       Unclassified   \n",
       "1       Unclassified   \n",
       "2       Unclassified   \n",
       "3       Unclassified   \n",
       "4       Unclassified   \n",
       "\n",
       "                                                              class_iri  \n",
       "0  http://purl.obolibrary.org/obo/GOLD_8933c51848ce54db789cba16bf6707ea  \n",
       "1  http://purl.obolibrary.org/obo/GOLD_8933c51848ce54db789cba16bf6707ea  \n",
       "2  http://purl.obolibrary.org/obo/GOLD_8933c51848ce54db789cba16bf6707ea  \n",
       "3  http://purl.obolibrary.org/obo/GOLD_8933c51848ce54db789cba16bf6707ea  \n",
       "4  http://purl.obolibrary.org/obo/GOLD_8933c51848ce54db789cba16bf6707ea  "
      ]
     },
     "execution_count": 10,
     "metadata": {},
     "output_type": "execute_result"
    }
   ],
   "source": [
    "## examine output\n",
    "pds.set_option('display.max_colwidth', 1000)\n",
    "ficusdf.class_iri.head()\n",
    "ficusdf[['ecosystem', 'ecosystem_category', 'ecosystem_type', 'ecosystem_subtype', 'specific_ecosystem', 'class_iri']].head()"
   ]
  },
  {
   "cell_type": "markdown",
   "metadata": {},
   "source": [
    "## Use rdflib to build ontology from dataframe\n",
    "Each row in the dataframe is an instance of the class defined by the GOLD elevels"
   ]
  },
  {
   "cell_type": "code",
   "execution_count": 11,
   "metadata": {},
   "outputs": [],
   "source": [
    "g = Graph() # instantiate graph"
   ]
  },
  {
   "cell_type": "markdown",
   "metadata": {},
   "source": [
    "### Create annotaiton properties for each of the columns (saved in the annotation dictionary)"
   ]
  },
  {
   "cell_type": "code",
   "execution_count": 12,
   "metadata": {},
   "outputs": [],
   "source": [
    "for k, v in annotation_dict.items():\n",
    "    ## note: the value is a dict with keys 'iri' and 'label'\n",
    "    g.add((URIRef(v['iri']), RDF.type, OWL.AnnotationProperty))\n",
    "    g.add((URIRef(v['iri']), RDFS.label, Literal(v['label'])))"
   ]
  },
  {
   "cell_type": "markdown",
   "metadata": {},
   "source": [
    "### Add each row from the dataframe into to graph"
   ]
  },
  {
   "cell_type": "code",
   "execution_count": 15,
   "metadata": {},
   "outputs": [],
   "source": [
    "for (ix, row) in ficusdf.iterrows(): # ontdf.head(100).itertuples():\n",
    "    if len(row.row_iri) > 0: \n",
    "        row_iri = URIRef(row['row_iri'])    \n",
    "        g.add((row_iri, RDF.type, OWL.NamedIndividual)) # add instance iri to graph\n",
    "        \n",
    "        if len(row.class_iri) > 0: \n",
    "            class_iri = URIRef(row['class_iri'])\n",
    "            g.add((row_iri, RDF.type, class_iri)) # add type the row instantiates\n",
    "        \n",
    "        for k, v in annotation_dict.items(): # field values in spreadsheet as annotation values\n",
    "            field_val = row[k]\n",
    "            annotation_iri = URIRef(v['iri'])\n",
    "            g.add((row_iri, annotation_iri, Literal(field_val)))"
   ]
  },
  {
   "cell_type": "code",
   "execution_count": 16,
   "metadata": {},
   "outputs": [],
   "source": [
    "## save graph (note: different formatats (e.g., turtle) are possible)\n",
    "g.serialize(destination='output/FICUS-projects-translation.owl', format='xml')"
   ]
  },
  {
   "cell_type": "code",
   "execution_count": null,
   "metadata": {},
   "outputs": [],
   "source": []
  }
 ],
 "metadata": {
  "kernelspec": {
   "display_name": "Python 3",
   "language": "python",
   "name": "python3"
  },
  "language_info": {
   "codemirror_mode": {
    "name": "ipython",
    "version": 3
   },
   "file_extension": ".py",
   "mimetype": "text/x-python",
   "name": "python",
   "nbconvert_exporter": "python",
   "pygments_lexer": "ipython3",
   "version": "3.7.3"
  }
 },
 "nbformat": 4,
 "nbformat_minor": 2
}
