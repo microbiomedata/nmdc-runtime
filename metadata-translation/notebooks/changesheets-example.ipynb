{
 "cells": [
  {
   "cell_type": "code",
   "execution_count": 1,
   "id": "veterinary-remedy",
   "metadata": {},
   "outputs": [],
   "source": [
    "# autoreload modules; useful for testing\n",
    "%load_ext autoreload\n",
    "%autoreload 2"
   ]
  },
  {
   "cell_type": "code",
   "execution_count": 2,
   "id": "human-member",
   "metadata": {},
   "outputs": [],
   "source": [
    "import json\n",
    "import copy\n",
    "import pandas as pd\n",
    "from toolz.dicttoolz import assoc_in, merge, dissoc\n",
    "from dotenv import dotenv_values\n",
    "from pymongo import MongoClient\n",
    "from pymongo.database import Database as MongoDatabase\n",
    "from nmdc_runtime.api.core.metadata import load_changesheet, update_mongo_db, mongo_update_command_for, copy_docs_in_update_cmd"
   ]
  },
  {
   "cell_type": "markdown",
   "id": "scheduled-elder",
   "metadata": {},
   "source": [
    "### load mongodb via env info"
   ]
  },
  {
   "cell_type": "code",
   "execution_count": 3,
   "id": "brief-nature",
   "metadata": {},
   "outputs": [
    {
     "data": {
      "text/plain": [
       "'mongodb://localhost:27018'"
      ]
     },
     "execution_count": 3,
     "metadata": {},
     "output_type": "execute_result"
    }
   ],
   "source": [
    "config = dotenv_values(\"../../.env.localhost\")\n",
    "config[\"MONGO_HOST\"]"
   ]
  },
  {
   "cell_type": "code",
   "execution_count": 4,
   "id": "streaming-world",
   "metadata": {},
   "outputs": [],
   "source": [
    "client = MongoClient(host=config[\"MONGO_HOST\"], username=config[\"MONGO_USERNAME\"], password=config[\"MONGO_PASSWORD\"])\n",
    "mongodb = client[\"nmdc\"]"
   ]
  },
  {
   "cell_type": "markdown",
   "id": "national-nicholas",
   "metadata": {},
   "source": [
    "### create temp database and temp_set collection for testing"
   ]
  },
  {
   "cell_type": "code",
   "execution_count": 5,
   "id": "laden-deposit",
   "metadata": {},
   "outputs": [],
   "source": [
    "if \"temp_db\" in client.list_database_names():\n",
    "    client.drop_database(\"temp_db\")\n",
    "temp_db = client[\"temp_db\"]"
   ]
  },
  {
   "cell_type": "markdown",
   "id": "damaged-beverage",
   "metadata": {
    "tags": []
   },
   "source": [
    "### helper functons"
   ]
  },
  {
   "cell_type": "code",
   "execution_count": 6,
   "id": "indian-exhaust",
   "metadata": {},
   "outputs": [],
   "source": [
    "# wraps the mongo_update_command_for and update_mongo_db into\n",
    "# a single function to process the change sheet\n",
    "def process_changesheet(changeDf, mdb: MongoDatabase, temp_db: MongoDatabase):\n",
    "    update_cmd = mongo_update_command_for(changeDf)\n",
    "    copy_docs_in_update_cmd(update_cmd, mdb, temp_db)\n",
    "    return update_mongo_db(temp_db, update_cmd)"
   ]
  },
  {
   "cell_type": "code",
   "execution_count": 7,
   "id": "handmade-cycle",
   "metadata": {},
   "outputs": [],
   "source": [
    "# puts the change sheet results in dataframe\n",
    "def print_results(results, print_before=True, print_after=True, print_errors=True):\n",
    "    for i, result in enumerate(results):\n",
    "        print(f\"\\n============== {result['id']} ==============\")\n",
    "        if print_before:\n",
    "            print(\"------------------ BEFORE ------------------\")\n",
    "            print(json.dumps(result[\"doc_before\"], indent=2))\n",
    "        if print_after:\n",
    "            print(\"------------------ AFTER ------------------\")\n",
    "            print(json.dumps(result[\"doc_after\"], indent=2))\n",
    "        if print_errors:\n",
    "            print(\"------------------ ERRORS ------------------\")\n",
    "            print(\"\\n\".join(result[\"validation_errors\"]))"
   ]
  },
  {
   "cell_type": "markdown",
   "id": "hydraulic-parallel",
   "metadata": {},
   "source": [
    "### set dataframe display options"
   ]
  },
  {
   "cell_type": "code",
   "execution_count": 8,
   "id": "casual-float",
   "metadata": {},
   "outputs": [],
   "source": [
    "pd.set_option(\"display.max_columns\", None)\n",
    "pd.set_option('display.width', 1000)"
   ]
  },
  {
   "cell_type": "markdown",
   "id": "opponent-teacher",
   "metadata": {},
   "source": [
    "### process change sheet 1\n",
    "Simple test with two studies. The doi is changed using \".\" path separator."
   ]
  },
  {
   "cell_type": "code",
   "execution_count": 17,
   "id": "champion-classification",
   "metadata": {
    "tags": []
   },
   "outputs": [
    {
     "data": {
      "text/html": [
       "<div>\n",
       "<style scoped>\n",
       "    .dataframe tbody tr th:only-of-type {\n",
       "        vertical-align: middle;\n",
       "    }\n",
       "\n",
       "    .dataframe tbody tr th {\n",
       "        vertical-align: top;\n",
       "    }\n",
       "\n",
       "    .dataframe thead th {\n",
       "        text-align: right;\n",
       "    }\n",
       "</style>\n",
       "<table border=\"1\" class=\"dataframe\">\n",
       "  <thead>\n",
       "    <tr style=\"text-align: right;\">\n",
       "      <th></th>\n",
       "      <th>id</th>\n",
       "      <th>action</th>\n",
       "      <th>attribute</th>\n",
       "      <th>value</th>\n",
       "    </tr>\n",
       "  </thead>\n",
       "  <tbody>\n",
       "    <tr>\n",
       "      <th>0</th>\n",
       "      <td>gold:Gs0114663</td>\n",
       "      <td>update</td>\n",
       "      <td>name</td>\n",
       "      <td>UPDATED NAME 1</td>\n",
       "    </tr>\n",
       "    <tr>\n",
       "      <th>1</th>\n",
       "      <td></td>\n",
       "      <td>update</td>\n",
       "      <td>ecosystem</td>\n",
       "      <td>SOIL</td>\n",
       "    </tr>\n",
       "    <tr>\n",
       "      <th>2</th>\n",
       "      <td>gold:Gs0103573</td>\n",
       "      <td>update</td>\n",
       "      <td>doi.has_raw_value</td>\n",
       "      <td>10.9999/8888</td>\n",
       "    </tr>\n",
       "    <tr>\n",
       "      <th>3</th>\n",
       "      <td></td>\n",
       "      <td>update</td>\n",
       "      <td>name</td>\n",
       "      <td>UPDATED NAME 2</td>\n",
       "    </tr>\n",
       "  </tbody>\n",
       "</table>\n",
       "</div>"
      ],
      "text/plain": [
       "               id  action          attribute           value\n",
       "0  gold:Gs0114663  update               name  UPDATED NAME 1\n",
       "1                  update          ecosystem            SOIL\n",
       "2  gold:Gs0103573  update  doi.has_raw_value    10.9999/8888\n",
       "3                  update               name  UPDATED NAME 2"
      ]
     },
     "execution_count": 17,
     "metadata": {},
     "output_type": "execute_result"
    }
   ],
   "source": [
    "pd.read_csv(\"data/changesheet-with-separator1.tsv\", sep=\"\\t\", dtype=\"string\").fillna('')"
   ]
  },
  {
   "cell_type": "code",
   "execution_count": 61,
   "id": "round-championship",
   "metadata": {
    "tags": []
   },
   "outputs": [
    {
     "data": {
      "text/html": [
       "<div>\n",
       "<style scoped>\n",
       "    .dataframe tbody tr th:only-of-type {\n",
       "        vertical-align: middle;\n",
       "    }\n",
       "\n",
       "    .dataframe tbody tr th {\n",
       "        vertical-align: top;\n",
       "    }\n",
       "\n",
       "    .dataframe thead th {\n",
       "        text-align: right;\n",
       "    }\n",
       "</style>\n",
       "<table border=\"1\" class=\"dataframe\">\n",
       "  <thead>\n",
       "    <tr style=\"text-align: right;\">\n",
       "      <th></th>\n",
       "      <th>id</th>\n",
       "      <th>action</th>\n",
       "      <th>attribute</th>\n",
       "      <th>value</th>\n",
       "      <th>group_id</th>\n",
       "      <th>group_var</th>\n",
       "      <th>path</th>\n",
       "      <th>collection_name</th>\n",
       "      <th>class_name</th>\n",
       "      <th>base_range</th>\n",
       "      <th>base_item_type</th>\n",
       "      <th>prop_range</th>\n",
       "      <th>item_type</th>\n",
       "    </tr>\n",
       "  </thead>\n",
       "  <tbody>\n",
       "    <tr>\n",
       "      <th>0</th>\n",
       "      <td>gold:Gs0114663</td>\n",
       "      <td>update</td>\n",
       "      <td>name</td>\n",
       "      <td>UPDATED NAME 1</td>\n",
       "      <td>gold:Gs0114663</td>\n",
       "      <td></td>\n",
       "      <td>name</td>\n",
       "      <td>study_set</td>\n",
       "      <td>Study</td>\n",
       "      <td></td>\n",
       "      <td></td>\n",
       "      <td>string</td>\n",
       "      <td></td>\n",
       "    </tr>\n",
       "    <tr>\n",
       "      <th>1</th>\n",
       "      <td></td>\n",
       "      <td>update</td>\n",
       "      <td>ecosystem</td>\n",
       "      <td>SOIL</td>\n",
       "      <td>gold:Gs0114663</td>\n",
       "      <td></td>\n",
       "      <td>ecosystem</td>\n",
       "      <td>study_set</td>\n",
       "      <td>Study</td>\n",
       "      <td></td>\n",
       "      <td></td>\n",
       "      <td>string</td>\n",
       "      <td></td>\n",
       "    </tr>\n",
       "    <tr>\n",
       "      <th>2</th>\n",
       "      <td>gold:Gs0103573</td>\n",
       "      <td>update</td>\n",
       "      <td>doi.has_raw_value</td>\n",
       "      <td>10.9999/8888</td>\n",
       "      <td>gold:Gs0103573</td>\n",
       "      <td></td>\n",
       "      <td>doi.has_raw_value</td>\n",
       "      <td>study_set</td>\n",
       "      <td>Study</td>\n",
       "      <td>object:AttributeValue</td>\n",
       "      <td></td>\n",
       "      <td>string</td>\n",
       "      <td></td>\n",
       "    </tr>\n",
       "    <tr>\n",
       "      <th>3</th>\n",
       "      <td></td>\n",
       "      <td>update</td>\n",
       "      <td>name</td>\n",
       "      <td>UPDATED NAME 2</td>\n",
       "      <td>gold:Gs0103573</td>\n",
       "      <td></td>\n",
       "      <td>name</td>\n",
       "      <td>study_set</td>\n",
       "      <td>Study</td>\n",
       "      <td></td>\n",
       "      <td></td>\n",
       "      <td>string</td>\n",
       "      <td></td>\n",
       "    </tr>\n",
       "  </tbody>\n",
       "</table>\n",
       "</div>"
      ],
      "text/plain": [
       "               id  action          attribute           value        group_id group_var               path collection_name class_name             base_range base_item_type prop_range item_type\n",
       "0  gold:Gs0114663  update               name  UPDATED NAME 1  gold:Gs0114663                         name       study_set      Study                                           string          \n",
       "1                  update          ecosystem            SOIL  gold:Gs0114663                    ecosystem       study_set      Study                                           string          \n",
       "2  gold:Gs0103573  update  doi.has_raw_value    10.9999/8888  gold:Gs0103573            doi.has_raw_value       study_set      Study  object:AttributeValue                    string          \n",
       "3                  update               name  UPDATED NAME 2  gold:Gs0103573                         name       study_set      Study                                           string          "
      ]
     },
     "execution_count": 61,
     "metadata": {},
     "output_type": "execute_result"
    }
   ],
   "source": [
    "sheetDf = load_changesheet(\"data/changesheet-with-separator1.tsv\", mongodb)\n",
    "# sheetDf"
   ]
  },
  {
   "cell_type": "code",
   "execution_count": null,
   "id": "liable-colony",
   "metadata": {},
   "outputs": [],
   "source": [
    "print_results(process_changesheet(sheetDf, mongodb, temp_db))"
   ]
  },
  {
   "cell_type": "markdown",
   "id": "encouraging-physiology",
   "metadata": {
    "tags": []
   },
   "source": [
    "### process change sheet 2\n",
    "Test with two studies, but the second study uses grouping variables/symbols to update object values."
   ]
  },
  {
   "cell_type": "code",
   "execution_count": null,
   "id": "classified-message",
   "metadata": {},
   "outputs": [],
   "source": [
    "pd.read_csv(\"data/changesheet-without-separator1.tsv\", sep=\"\\t\", dtype=\"string\").fillna('')"
   ]
  },
  {
   "cell_type": "code",
   "execution_count": null,
   "id": "resistant-ranking",
   "metadata": {},
   "outputs": [],
   "source": [
    "sheetDf = load_changesheet(\"data/changesheet-without-separator1.tsv\", mongodb)\n",
    "# sheetDf"
   ]
  },
  {
   "cell_type": "code",
   "execution_count": null,
   "id": "lyric-specific",
   "metadata": {},
   "outputs": [],
   "source": [
    "print_results(process_changesheet(sheetDf, mongodb, temp_db))"
   ]
  },
  {
   "cell_type": "markdown",
   "id": "twelve-combining",
   "metadata": {},
   "source": [
    "### process change sheet 3\n",
    "Test with two studies. Both studies are updated using grouping variables/symbols.  \n",
    "Note the reuse of variables/symbols in each id group. A variable/symbol is local the id group it appears in."
   ]
  },
  {
   "cell_type": "code",
   "execution_count": null,
   "id": "toxic-virginia",
   "metadata": {},
   "outputs": [],
   "source": [
    "pd.read_csv(\"data/changesheet-without-separator3.tsv\", sep=\"\\t\", dtype=\"string\").fillna('')"
   ]
  },
  {
   "cell_type": "code",
   "execution_count": null,
   "id": "front-greene",
   "metadata": {},
   "outputs": [],
   "source": [
    "sheetDf = load_changesheet(\"data/changesheet-without-separator3.tsv\", mongodb)\n",
    "# sheetDf"
   ]
  },
  {
   "cell_type": "code",
   "execution_count": null,
   "id": "decimal-minutes",
   "metadata": {},
   "outputs": [],
   "source": [
    "print_results(process_changesheet(sheetDf, mongodb, temp_db), print_before=True)"
   ]
  },
  {
   "cell_type": "markdown",
   "id": "refined-auction",
   "metadata": {},
   "source": [
    "### set multiple values for credit associations"
   ]
  },
  {
   "cell_type": "code",
   "execution_count": null,
   "id": "alone-bahamas",
   "metadata": {},
   "outputs": [],
   "source": [
    "# pd.read_csv(\"data/changesheet-array-item-nested-attributes.tsv\", sep=\"\\t\", dtype=\"string\").fillna('')"
   ]
  },
  {
   "cell_type": "code",
   "execution_count": null,
   "id": "front-entity",
   "metadata": {},
   "outputs": [],
   "source": [
    "# sheetDf = load_changesheet(\"data/changesheet-array-item-nested-attributes.tsv\", mongodb)\n",
    "# sheetDf"
   ]
  },
  {
   "cell_type": "code",
   "execution_count": null,
   "id": "rational-rochester",
   "metadata": {},
   "outputs": [],
   "source": [
    "# print_results(process_changesheet(sheetDf, mongodb, temp_db))"
   ]
  },
  {
   "cell_type": "markdown",
   "id": "coral-devon",
   "metadata": {
    "tags": []
   },
   "source": [
    "### set website for principal investigator"
   ]
  },
  {
   "cell_type": "code",
   "execution_count": null,
   "id": "assisted-treasurer",
   "metadata": {},
   "outputs": [],
   "source": [
    "pd.read_csv(\"data/changesheet-update-pi-websites.tsv\", sep=\"\\t\", dtype=\"string\").fillna('')"
   ]
  },
  {
   "cell_type": "code",
   "execution_count": null,
   "id": "massive-respondent",
   "metadata": {},
   "outputs": [],
   "source": [
    "sheetDf = load_changesheet(\"data/changesheet-update-pi-websites.tsv\", mongodb)\n",
    "# sheetDf"
   ]
  },
  {
   "cell_type": "code",
   "execution_count": null,
   "id": "heated-martial",
   "metadata": {},
   "outputs": [],
   "source": [
    "print_results(process_changesheet(sheetDf, mongodb, temp_db), print_before=True)"
   ]
  },
  {
   "cell_type": "code",
   "execution_count": null,
   "id": "genuine-bryan",
   "metadata": {},
   "outputs": [],
   "source": []
  }
 ],
 "metadata": {
  "kernelspec": {
   "display_name": "Python 3 (ipykernel)",
   "language": "python",
   "name": "python3"
  },
  "language_info": {
   "codemirror_mode": {
    "name": "ipython",
    "version": 3
   },
   "file_extension": ".py",
   "mimetype": "text/x-python",
   "name": "python",
   "nbconvert_exporter": "python",
   "pygments_lexer": "ipython3",
   "version": "3.9.7"
  }
 },
 "nbformat": 4,
 "nbformat_minor": 5
}
