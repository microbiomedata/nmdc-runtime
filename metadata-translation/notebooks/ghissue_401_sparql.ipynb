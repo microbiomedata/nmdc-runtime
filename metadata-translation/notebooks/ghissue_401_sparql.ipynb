{
 "cells": [
  {
   "cell_type": "markdown",
   "id": "51ea05af-7579-43ad-aa9c-3bf8b6da8fdb",
   "metadata": {},
   "source": [
    "Pipeline to transform the set of nmdc-schema-compliant mongodb collections to an RDF dataset amenable to SPARQL queries."
   ]
  },
  {
   "cell_type": "markdown",
   "id": "ae2673a5-560b-47b0-9608-656aa3854466",
   "metadata": {},
   "source": [
    "Ensure that changes to the code will be import-able in this notebook without needing restart the kernel and thus lose state."
   ]
  },
  {
   "cell_type": "code",
   "execution_count": 1,
   "id": "a362b42f-7ae0-40cf-91d4-8f19ca1087cf",
   "metadata": {},
   "outputs": [],
   "source": [
    "%load_ext autoreload\n",
    "%autoreload 2"
   ]
  },
  {
   "cell_type": "markdown",
   "id": "0b8b1fb7-2357-46ef-8d86-69cd1dce228d",
   "metadata": {},
   "source": [
    "Connect to local dockerized dev environment."
   ]
  },
  {
   "cell_type": "code",
   "execution_count": 2,
   "id": "55932d03-802f-4efe-bceb-e1036cd35567",
   "metadata": {},
   "outputs": [
    {
     "name": "stdout",
     "output_type": "stream",
     "text": [
      "MONGO_HOST=localhost:27018\n"
     ]
    }
   ],
   "source": [
    "from dotenv import load_dotenv\n",
    "\n",
    "load_dotenv(\".env.localhost\")\n",
    "!env | grep MONGO_HOST"
   ]
  },
  {
   "cell_type": "markdown",
   "id": "3a146763-f03a-4d65-baa0-81ca15cba689",
   "metadata": {},
   "source": [
    "Initialize a db connection."
   ]
  },
  {
   "cell_type": "code",
   "execution_count": 3,
   "id": "edb1bb42-005c-49ca-ba59-18c24833f93f",
   "metadata": {},
   "outputs": [],
   "source": [
    "from nmdc_runtime.api.db.mongo import get_mongo_db\n",
    "\n",
    "mdb = get_mongo_db()"
   ]
  },
  {
   "cell_type": "markdown",
   "id": "37dbc9a8-8cac-4798-8d4f-ccbd9c3560e9",
   "metadata": {},
   "source": [
    "Get all populated nmdc-schema collections with entity `id`s."
   ]
  },
  {
   "cell_type": "code",
   "execution_count": 5,
   "id": "3a0dd489-74cc-47c4-b3e0-c97dd88f5b5f",
   "metadata": {},
   "outputs": [
    {
     "data": {
      "text/plain": [
       "['biosample_set',\n",
       " 'data_object_set',\n",
       " 'extraction_set',\n",
       " 'field_research_site_set',\n",
       " 'library_preparation_set',\n",
       " 'mags_activity_set',\n",
       " 'metabolomics_analysis_activity_set',\n",
       " 'metagenome_annotation_activity_set',\n",
       " 'metagenome_assembly_set',\n",
       " 'metagenome_sequencing_activity_set',\n",
       " 'metaproteomics_analysis_activity_set',\n",
       " 'metatranscriptome_activity_set',\n",
       " 'nom_analysis_activity_set',\n",
       " 'omics_processing_set',\n",
       " 'pooling_set',\n",
       " 'processed_sample_set',\n",
       " 'read_based_taxonomy_analysis_activity_set',\n",
       " 'read_qc_analysis_activity_set',\n",
       " 'study_set']"
      ]
     },
     "execution_count": 5,
     "metadata": {},
     "output_type": "execute_result"
    }
   ],
   "source": [
    "from nmdc_runtime.util import schema_collection_names_with_id_field\n",
    "\n",
    "populated_collections = sorted([\n",
    "    name for name in set(schema_collection_names_with_id_field()) & set(mdb.list_collection_names())\n",
    "    if mdb[name].estimated_document_count() > 0\n",
    "])\n",
    "populated_collections"
   ]
  },
  {
   "cell_type": "markdown",
   "id": "f9a45de7-ba27-4b18-8ff4-9ba44eeb1091",
   "metadata": {},
   "source": [
    "Get a JSON-LD context for the NMDC Schema, to serialize documents to RDF."
   ]
  },
  {
   "cell_type": "code",
   "execution_count": 8,
   "id": "9ed72826-b552-4429-8ab5-9f7126821822",
   "metadata": {},
   "outputs": [],
   "source": [
    "import json\n",
    "from pprint import pprint\n",
    "\n",
    "from linkml.generators.jsonldcontextgen import ContextGenerator\n",
    "from nmdc_schema.nmdc_data import get_nmdc_schema_definition\n",
    "\n",
    "context = ContextGenerator(get_nmdc_schema_definition())\n",
    "context = json.loads(context.serialize())[\"@context\"]\n",
    "\n",
    "for k, v in list(context.items()):\n",
    "    if isinstance(v, dict): #and v.get(\"@type\") == \"@id\":\n",
    "        v.pop(\"@id\", None) # use nmdc uri, not e.g. MIXS uri"
   ]
  },
  {
   "cell_type": "code",
   "execution_count": 31,
   "id": "648b4f70-34d6-4c70-8d0a-ef76e7e5d96d",
   "metadata": {},
   "outputs": [],
   "source": [
    "from rdflib import Graph\n",
    "\n",
    "g = Graph()"
   ]
  },
  {
   "cell_type": "code",
   "execution_count": 32,
   "id": "4d802017-2a7e-4614-b662-6a0cc027b8bc",
   "metadata": {},
   "outputs": [],
   "source": [
    "def split_chunk(seq, n: int):\n",
    "    \"\"\"\n",
    "    Split sequence into chunks of length n. Do not pad last chunk.\n",
    "    \n",
    "    >>> list(split_chunk(list(range(10)), 3))\n",
    "    [[0, 1, 2], [3, 4, 5], [6, 7, 8], [9]]\n",
    "    \"\"\"\n",
    "    for i in range(0, len(seq), n):\n",
    "        yield seq[i : i + n]"
   ]
  },
  {
   "cell_type": "code",
   "execution_count": 33,
   "id": "4251e0b1-35dc-4f40-91e7-b9bc0d9d79e1",
   "metadata": {},
   "outputs": [
    {
     "data": {
      "application/vnd.jupyter.widget-view+json": {
       "model_id": "0ac75a239524499d901b1b5a25bc74f7",
       "version_major": 2,
       "version_minor": 0
      },
      "text/plain": [
       "  0%|          | 0/112 [00:00<?, ?it/s]"
      ]
     },
     "metadata": {},
     "output_type": "display_data"
    },
    {
     "name": "stdout",
     "output_type": "stream",
     "text": [
      "biosample_set\n",
      "data_object_set\n",
      "extraction_set\n",
      "field_research_site_set\n",
      "library_preparation_set\n",
      "mags_activity_set\n",
      "metabolomics_analysis_activity_set\n",
      "metagenome_annotation_activity_set\n",
      "metagenome_assembly_set\n",
      "metagenome_sequencing_activity_set\n",
      "metaproteomics_analysis_activity_set\n",
      "metatranscriptome_activity_set\n",
      "nom_analysis_activity_set\n",
      "omics_processing_set\n",
      "pooling_set\n",
      "processed_sample_set\n",
      "read_based_taxonomy_analysis_activity_set\n",
      "read_qc_analysis_activity_set\n",
      "study_set\n"
     ]
    }
   ],
   "source": [
    "from toolz import assoc, dissoc\n",
    "from tqdm.notebook import tqdm\n",
    "\n",
    "chunk_size = 2_000\n",
    "total = sum((1 + mdb[name].estimated_document_count() // 2_000) for name in populated_collections)\n",
    "\n",
    "pbar = tqdm(total=total)\n",
    "\n",
    "for name in populated_collections:\n",
    "    print(name)\n",
    "    docs = [dissoc(doc, \"_id\") for doc in mdb[name].find()]\n",
    "    chunks = list(split_chunk(docs, chunk_size))\n",
    "    for chunk in chunks:\n",
    "        doc_jsonld = {\"@context\": context, \"@graph\": chunk}\n",
    "        g.parse(data=json.dumps(doc_jsonld), format='json-ld')\n",
    "        pbar.update(1)"
   ]
  },
  {
   "cell_type": "code",
   "execution_count": 38,
   "id": "d25e85c4-b695-4a03-beaf-f34f5e73b66d",
   "metadata": {},
   "outputs": [
    {
     "name": "stdout",
     "output_type": "stream",
     "text": [
      "6,546,004\n"
     ]
    }
   ],
   "source": [
    "print(f\"{len(g):,}\")"
   ]
  },
  {
   "cell_type": "code",
   "execution_count": 39,
   "id": "ba832848-2cc9-4d1d-bf5f-966a73e26658",
   "metadata": {},
   "outputs": [],
   "source": [
    "from rdflib import Namespace, RDF, Literal, URIRef\n",
    "\n",
    "NMDC = Namespace(\"https://w3id.org/nmdc/\")\n",
    "\n",
    "for s, p, o in g:\n",
    "    s_str = str(s)\n",
    "    if s_str.endswith(\"\\n\"):\n",
    "        s_str_fixed = str(s_str)[:-2]\n",
    "        g.remove((s,p,o))\n",
    "        g.add((URIRef(s_str_fixed), p,o))\n",
    "    if isinstance(o, URIRef):\n",
    "        o_str = str(o)\n",
    "        if o_str.endswith(\"\\n\"):\n",
    "            o_str_fixed = str(o_str)[:-2]\n",
    "            g.remove((s,p,o))\n",
    "            g.add((s, p, URIRef(o_str_fixed)))"
   ]
  },
  {
   "cell_type": "code",
   "execution_count": 40,
   "id": "125d2ad4-8433-45d8-86c4-d6a619ea5280",
   "metadata": {},
   "outputs": [],
   "source": [
    "import gzip\n",
    "\n",
    "with gzip.open('data/nmdc-db.nt.gz', 'wb') as f:\n",
    "    f.write(g.serialize(format='nt').encode())"
   ]
  },
  {
   "cell_type": "code",
   "execution_count": 51,
   "id": "9037026c-2653-43e3-bb92-2a0eea85b213",
   "metadata": {},
   "outputs": [
    {
     "name": "stdout",
     "output_type": "stream",
     "text": [
      "\u001b[sPreparing to copy...\u001b[?25l\u001b[u\u001b[2KCopying to container - 0B\u001b[24G\u001b[0K12.1MB\u001b[24G\u001b[0K23.9MB\u001b[24G\u001b[0K38.2MB\u001b[24G\u001b[0K51.8MB\u001b[24G\u001b[0K63.4MB\u001b[24G\u001b[0K77.1MB\u001b[24G\u001b[0K91.4MB\u001b[24G\u001b[0K106MB\u001b[24G\u001b[0K118MB\u001b[24G\u001b[0K132MB\u001b[24G\u001b[0K146MB\u001b[24G\u001b[0K161MB\u001b[24G\u001b[0K178MB\u001b[24G\u001b[0K193MB\u001b[?25h\u001b[u\u001b[2KSuccessfully copied 203MB to fuseki:/fuseki-base/\n"
     ]
    }
   ],
   "source": [
    "!docker cp data/nmdc-db.nt.gz fuseki:/fuseki-base/"
   ]
  },
  {
   "cell_type": "code",
   "execution_count": 56,
   "id": "f0f69114-0bfa-48d4-b3c7-e0c4fcf2236d",
   "metadata": {},
   "outputs": [
    {
     "name": "stdout",
     "output_type": "stream",
     "text": [
      "\u001b[1A\u001b[1B\u001b[0G\u001b[?25l[+] Running 0/0\n",
      " ⠋ Container fuseki  Stopping                                              \u001b[34m0.1s \u001b[0m\n",
      "\u001b[?25h\u001b[1A\u001b[1A\u001b[0G\u001b[?25l[+] Running 0/1\n",
      " ⠙ Container fuseki  Stopping                                              \u001b[34m0.2s \u001b[0m\n",
      "\u001b[?25h\u001b[1A\u001b[1A\u001b[0G\u001b[?25l[+] Running 0/1\n",
      " ⠹ Container fuseki  Stopping                                              \u001b[34m0.3s \u001b[0m\n",
      "\u001b[?25h\u001b[1A\u001b[1A\u001b[0G\u001b[?25l[+] Running 0/1\n",
      " ⠸ Container fuseki  Stopping                                              \u001b[34m0.4s \u001b[0m\n",
      "\u001b[?25h\u001b[1A\u001b[1A\u001b[0G\u001b[?25l[+] Running 2/1\n",
      " \u001b[32m✔\u001b[0m Container fuseki              \u001b[32mRemoved\u001b[0m                                   \u001b[34m0.4s \u001b[0m\n",
      " \u001b[33m\u001b[1m!\u001b[0m Network nmdc-runtime_default  \u001b[33m\u001b[1mResourc...\u001b[0m                                \u001b[34m0.0s \u001b[0m\n",
      "\u001b[?25h"
     ]
    }
   ],
   "source": [
    "!docker compose down fuseki"
   ]
  },
  {
   "cell_type": "code",
   "execution_count": 54,
   "id": "a490caff-af8a-4537-8c0b-e4a4752645bc",
   "metadata": {
    "collapsed": true,
    "jupyter": {
     "outputs_hidden": true
    }
   },
   "outputs": [
    {
     "name": "stdout",
     "output_type": "stream",
     "text": [
      "19:14:31 INFO  loader          :: -- Start triples data phase\n",
      "19:14:31 INFO  loader          :: ** Load empty triples table\n",
      "19:14:31 INFO  loader          :: -- Start quads data phase\n",
      "19:14:31 INFO  loader          :: ** Load empty quads table\n",
      "19:14:31 INFO  loader          :: Load: /fuseki-base/nmdc-db.nt.gz -- 2024/03/05 19:14:31 UTC\n",
      "19:14:32 WARN  riot            :: [line: 26821, col: 92] Bad IRI: Not a valid UUID string: uuid:KONA-CB-B-504c5931-f7cf-47aa-a2c0-ce90bcb3a0e3\n",
      "19:14:33 INFO  loader          :: Add: 100,000 triples (Batch: 82,440 / Avg: 82,440)\n",
      "19:14:33 WARN  riot            :: [line: 119380, col: 92] Bad IRI: Not a valid UUID string: uuid:WY03-CB-B-37aa5072-bb2c-40da-a03f-cbd4acb0f135\n",
      "19:14:33 WARN  riot            :: [line: 194240, col: 92] Bad IRI: Not a valid UUID string: uuid:WY10-CB-T-b6ac5210-79d5-4142-8756-4babab75fca0\n",
      "19:14:33 INFO  loader          :: Add: 200,000 triples (Batch: 127,551 / Avg: 100,150)\n",
      "19:14:34 WARN  riot            :: [line: 248302, col: 92] Bad IRI: Not a valid UUID string: uuid:WLLO-CB-B-68043fc5-8096-41a1-9df6-b67edd414c4f\n",
      "19:14:34 WARN  riot            :: [line: 290506, col: 92] Bad IRI: Not a valid UUID string: uuid:WLUP-CB-T-a07898a8-bff9-4bc2-ae4c-3456825b1a81\n",
      "19:14:34 INFO  loader          :: Add: 300,000 triples (Batch: 136,612 / Avg: 109,930)\n",
      "19:14:35 INFO  loader          :: Add: 400,000 triples (Batch: 110,864 / Avg: 110,162)\n",
      "19:14:35 WARN  riot            :: [line: 417919, col: 92] Bad IRI: Not a valid UUID string: uuid:PSR1-CB-B-60b61105-073e-4d04-b3dc-452479bbae4b\n",
      "19:14:35 WARN  riot            :: [line: 448871, col: 92] Bad IRI: Not a valid UUID string: uuid:ISNC-CB-B-41c7672d-1b29-40e8-af49-137b03473cec\n",
      "19:14:36 INFO  loader          :: Add: 500,000 triples (Batch: 135,501 / Avg: 114,442)\n",
      "19:14:36 WARN  riot            :: [line: 522673, col: 92] Bad IRI: Not a valid UUID string: uuid:SERC-CB-T-a591f903-459e-409e-b1e8-f1a213d60bce\n",
      "19:14:36 WARN  riot            :: [line: 523877, col: 92] Bad IRI: Not a valid UUID string: uuid:STEI-CB-T-73e26647-1f1e-43cc-84b0-2fd658886f7d\n",
      "19:14:36 WARN  riot            :: [line: 543929, col: 92] Bad IRI: Not a valid UUID string: uuid:ORNL-CB-T-349b5bdb-2a1b-4e74-aa7f-a5c973c1d12c\n",
      "19:14:36 INFO  loader          :: Add: 600,000 triples (Batch: 131,233 / Avg: 116,936)\n",
      "19:14:37 WARN  riot            :: [line: 681571, col: 92] Bad IRI: Not a valid UUID string: uuid:OCTB-CB-T-3fe4e64c-6555-4cf9-a1a1-267a3efd36c5\n",
      "19:14:37 INFO  loader          :: Add: 700,000 triples (Batch: 115,740 / Avg: 116,763)\n",
      "19:14:37 WARN  riot            :: [line: 719517, col: 92] Bad IRI: Not a valid UUID string: uuid:TEAK-CB-B-feb28ff2-0e1f-4be9-bd9a-f92521bd9d90\n",
      "19:14:38 WARN  riot            :: [line: 769982, col: 92] Bad IRI: Not a valid UUID string: uuid:SJER-CB-T-3b94b737-8ae6-452a-a916-4bac93f7a750\n",
      "19:14:38 WARN  riot            :: [line: 778615, col: 92] Bad IRI: Not a valid UUID string: uuid:ONAQ-CB-B-d38e0cda-aca4-4bfa-848b-c7f8ad2cc65f\n",
      "19:14:38 INFO  loader          :: Add: 800,000 triples (Batch: 127,388 / Avg: 117,994)\n",
      "19:14:39 WARN  riot            :: [line: 869349, col: 92] Bad IRI: Not a valid UUID string: uuid:CPER-CB-B-22f145ec-fb3a-4b6e-bc1d-8de45d79b5a1\n",
      "19:14:39 INFO  loader          :: Add: 900,000 triples (Batch: 130,208 / Avg: 119,236)\n",
      "19:14:39 WARN  riot            :: [line: 952011, col: 92] Bad IRI: Not a valid UUID string: uuid:PPRH-CB-T-a18a96d5-cf4b-4707-ab31-c605aeddbfdf\n",
      "19:14:40 INFO  loader          :: Add: 1,000,000 triples (Batch: 142,247 / Avg: 121,197)\n",
      "19:14:40 INFO  loader          ::   Elapsed: 8.25 seconds [2024/03/05 19:14:40 UTC]\n",
      "19:14:40 WARN  riot            :: [line: 1000174, col: 92] Bad IRI: Not a valid UUID string: uuid:DELA-CB-T-13ba6115-12fc-47cc-8cb0-ebf65e1d23d1\n",
      "19:14:40 WARN  riot            :: [line: 1035987, col: 92] Bad IRI: Not a valid UUID string: uuid:TEAK-CB-T-0d2245d4-c6da-4723-95be-ca5aefe607de\n",
      "19:14:40 WARN  riot            :: [line: 1045534, col: 92] Bad IRI: Not a valid UUID string: uuid:UT19-CB-T-cc59032d-d8e6-4da3-95eb-df9b2ce3d7e3\n",
      "19:14:40 WARN  riot            :: [line: 1059764, col: 92] Bad IRI: Not a valid UUID string: uuid:CSF2-CB-T-6d29d97e-b8d7-4844-a8c3-cc181f4c9909\n",
      "19:14:40 WARN  riot            :: [line: 1064165, col: 92] Bad IRI: Not a valid UUID string: uuid:TALL-CB-T-b47d748c-de50-4d2b-8bb3-85bcc20a231b\n",
      "19:14:40 INFO  loader          :: Add: 1,100,000 triples (Batch: 139,082 / Avg: 122,630)\n",
      "19:14:41 INFO  loader          :: Add: 1,200,000 triples (Batch: 144,300 / Avg: 124,185)\n",
      "19:14:41 WARN  riot            :: [line: 1248012, col: 92] Bad IRI: Not a valid UUID string: uuid:UKFS-CB-T-9a091afa-d16e-48de-b98c-82521e3a95fa\n",
      "19:14:42 INFO  loader          :: Add: 1,300,000 triples (Batch: 141,643 / Avg: 125,373)\n",
      "19:14:42 WARN  riot            :: [line: 1333204, col: 92] Bad IRI: Not a valid UUID string: uuid:UT19-CB-B-7641dbf9-c478-4252-b2ef-dc6fc4c2baf7\n",
      "19:14:42 WARN  riot            :: [line: 1363078, col: 92] Bad IRI: Not a valid UUID string: uuid:SRER-CB-B-62d593bb-711a-4eb2-8359-403de43c9ae5\n",
      "19:14:42 WARN  riot            :: [line: 1363997, col: 92] Bad IRI: Not a valid UUID string: uuid:RMNP-CB-T-55f69c6a-3849-4e45-83ba-1cdfbefc3818\n",
      "19:14:42 INFO  loader          :: Add: 1,400,000 triples (Batch: 142,653 / Avg: 126,467)\n",
      "19:14:43 WARN  riot            :: [line: 1478798, col: 92] Bad IRI: Not a valid UUID string: uuid:ISCC-CB-T-5c5875b4-abd6-4226-b0ab-fdc9637ebb98\n",
      "19:14:43 INFO  loader          :: Add: 1,500,000 triples (Batch: 142,247 / Avg: 127,410)\n",
      "19:14:44 INFO  loader          :: Add: 1,600,000 triples (Batch: 142,247 / Avg: 128,246)\n",
      "19:14:44 WARN  riot            :: [line: 1644814, col: 92] Bad IRI: Not a valid UUID string: uuid:FTA3-CB-B-6c80279c-0ca3-4835-bfea-501e43fdc1a6\n",
      "19:14:44 INFO  loader          :: Add: 1,700,000 triples (Batch: 139,860 / Avg: 128,875)\n",
      "19:14:45 WARN  riot            :: [line: 1742956, col: 92] Bad IRI: Not a valid UUID string: uuid:UNDE-CB-T-f15c6148-9ebf-41d1-812b-7ba7c15d9d96\n",
      "19:14:45 WARN  riot            :: [line: 1781862, col: 92] Bad IRI: Not a valid UUID string: uuid:WOOD-CB-B-8e2da002-85ce-474f-a13d-561087b17bd6\n",
      "19:14:45 WARN  riot            :: [line: 1784599, col: 92] Bad IRI: Not a valid UUID string: uuid:WY15-CB-T-44303230-0b7b-4367-b3e3-22c9f70ddbce\n",
      "19:14:45 WARN  riot            :: [line: 1794760, col: 92] Bad IRI: Not a valid UUID string: uuid:SERC-CB-B-a13e7129-c37b-449a-8172-bf04166ae49e\n",
      "19:14:45 INFO  loader          :: Add: 1,800,000 triples (Batch: 140,056 / Avg: 129,449)\n",
      "19:14:45 WARN  riot            :: [line: 1806655, col: 92] Bad IRI: Not a valid UUID string: uuid:PSR1-CB-T-b15f1f00-c26a-47d1-969f-91faf5944d58\n",
      "19:14:45 WARN  riot            :: [line: 1836901, col: 92] Bad IRI: Not a valid UUID string: uuid:NWBA-CB-B-1bfcbda1-368e-4963-b502-698284f44440\n",
      "19:14:46 WARN  riot            :: [line: 1847560, col: 92] Bad IRI: Not a valid UUID string: uuid:OAES-CB-B-f1f5c32d-8cfb-4d78-ac69-dd89510c8d03\n",
      "19:14:46 WARN  riot            :: [line: 1856917, col: 92] Bad IRI: Not a valid UUID string: uuid:NOGP-CB-T-8efdeada-35cc-48e2-a3d2-ea0ac76b142b\n",
      "19:14:46 INFO  loader          :: Add: 1,900,000 triples (Batch: 144,300 / Avg: 130,154)\n",
      "19:14:46 WARN  riot            :: [line: 1924978, col: 92] Bad IRI: Not a valid UUID string: uuid:PSR2-CB-B-a9123b93-226f-4ac9-86f6-da9030cb4603\n",
      "19:14:46 WARN  riot            :: [line: 1928807, col: 92] Bad IRI: Not a valid UUID string: uuid:OSBS-CB-T-f2be224e-7356-4cd0-b585-4f408c30b59f\n",
      "19:14:46 WARN  riot            :: [line: 1931551, col: 92] Bad IRI: Not a valid UUID string: uuid:PHTU-CB-B-c68c9d04-9501-416d-9150-f647665fe15b\n",
      "19:14:46 WARN  riot            :: [line: 1963184, col: 92] Bad IRI: Not a valid UUID string: uuid:CPER-CB-T-b8027938-7ff4-46c1-8575-e23584f1e898\n",
      "19:14:47 INFO  loader          :: Add: 2,000,000 triples (Batch: 136,612 / Avg: 130,463)\n",
      "19:14:47 INFO  loader          ::   Elapsed: 15.33 seconds [2024/03/05 19:14:47 UTC]\n",
      "19:14:47 WARN  riot            :: [line: 2026711, col: 92] Bad IRI: Not a valid UUID string: uuid:ONAQ-CB-T-3294fa6a-beb1-4bb2-a4b3-e2e13b50bcc3\n",
      "19:14:47 WARN  riot            :: [line: 2031018, col: 92] Bad IRI: Not a valid UUID string: uuid:PSR2-CB-T-177b015d-e006-4aca-977d-c9c118f6ec69\n",
      "19:14:47 INFO  loader          :: Add: 2,100,000 triples (Batch: 139,860 / Avg: 130,881)\n",
      "19:14:48 INFO  loader          :: Add: 2,200,000 triples (Batch: 140,449 / Avg: 131,288)\n",
      "19:14:49 WARN  riot            :: [line: 2265410, col: 92] Bad IRI: Not a valid UUID string: uuid:OCTB-CB-B-40166778-406d-4f49-bcad-4555c3e038a8\n",
      "19:14:49 INFO  loader          :: Add: 2,300,000 triples (Batch: 146,842 / Avg: 131,895)\n",
      "19:14:49 INFO  loader          :: Add: 2,400,000 triples (Batch: 144,508 / Avg: 132,377)\n",
      "19:14:50 WARN  riot            :: [line: 2425341, col: 92] Bad IRI: Not a valid UUID string: uuid:GRSM-CB-T-fe711015-d950-4b51-98a3-5308f92ec8c7\n",
      "19:14:50 WARN  riot            :: [line: 2443774, col: 92] Bad IRI: Not a valid UUID string: uuid:PHTU-CB-T-3c3d8153-072e-4f66-b7f8-a7c2f9fed5df\n",
      "19:14:50 WARN  riot            :: [line: 2457537, col: 92] Bad IRI: Not a valid UUID string: uuid:OSBS-CB-B-330d6d90-17b2-4452-ba83-6e870e8cad10\n",
      "19:14:50 INFO  loader          :: Add: 2,500,000 triples (Batch: 141,242 / Avg: 132,710)\n",
      "19:14:50 WARN  riot            :: [line: 2501692, col: 92] Bad IRI: Not a valid UUID string: uuid:ISNC-CB-T-4eb8355f-18a1-4efc-8524-506e64f0937d\n",
      "19:14:51 WARN  riot            :: [line: 2566132, col: 92] Bad IRI: Not a valid UUID string: uuid:JORN-CB-B-a2dfa872-c0d4-49fe-a752-f24be601c13a\n",
      "19:14:51 WARN  riot            :: [line: 2574576, col: 92] Bad IRI: Not a valid UUID string: uuid:ANZA-CB-B-6bc68e7d-7383-4bbe-9789-2f897ab426ca\n",
      "19:14:51 INFO  loader          :: Add: 2,600,000 triples (Batch: 142,045 / Avg: 133,046)\n",
      "19:14:51 WARN  riot            :: [line: 2666724, col: 92] Bad IRI: Not a valid UUID string: uuid:HARV-CB-B-c2af199e-fe66-41fc-93a9-50166b4c6bb5\n",
      "19:14:52 INFO  loader          :: Add: 2,700,000 triples (Batch: 149,476 / Avg: 133,590)\n",
      "19:14:52 WARN  riot            :: [line: 2769627, col: 92] Bad IRI: Not a valid UUID string: uuid:OAES-CB-T-f7a2632b-871d-4276-92c5-d8e3453d0221\n",
      "19:14:52 WARN  riot            :: [line: 2789116, col: 92] Bad IRI: Not a valid UUID string: uuid:NWBA-CB-T-9c9b1f6c-5d5a-4c4a-a2bb-ab7c379844ee\n",
      "19:14:52 INFO  loader          :: Add: 2,800,000 triples (Batch: 141,242 / Avg: 133,849)\n",
      "19:14:52 WARN  riot            :: [line: 2819113, col: 92] Bad IRI: Not a valid UUID string: uuid:ANZA-CB-T-a11a1232-abdc-4192-b792-f10d418ad550\n",
      "19:14:52 WARN  riot            :: [line: 2839462, col: 92] Bad IRI: Not a valid UUID string: uuid:NIWO-CB-B-56096a54-0d7a-4838-9a98-0d68d8d73e0e\n",
      "19:14:53 INFO  loader          :: Add: 2,900,000 triples (Batch: 139,275 / Avg: 134,029)\n",
      "19:14:53 WARN  riot            :: [line: 2920351, col: 92] Bad IRI: Not a valid UUID string: uuid:WOOD-CB-T-2db0e51c-90fa-481e-9432-61da1dfb5e15\n",
      "19:14:53 WARN  riot            :: [line: 2926410, col: 92] Bad IRI: Not a valid UUID string: uuid:GRSM-CB-B-a59d0367-64bc-4f5e-929d-805ff0b1bc0d\n",
      "19:14:54 INFO  loader          :: Add: 3,000,000 triples (Batch: 142,653 / Avg: 134,300)\n",
      "19:14:54 INFO  loader          ::   Elapsed: 22.34 seconds [2024/03/05 19:14:54 UTC]\n",
      "19:14:54 WARN  riot            :: [line: 3046475, col: 92] Bad IRI: Not a valid UUID string: uuid:TALL-CB-B-306ac187-5bcc-436a-9078-e0de4df5ad2e\n",
      "19:14:54 INFO  loader          :: Add: 3,100,000 triples (Batch: 139,275 / Avg: 134,455)\n",
      "19:14:55 WARN  riot            :: [line: 3144984, col: 92] Bad IRI: Not a valid UUID string: uuid:KONZ-CB-B-ea6e2ff0-c546-49dd-9f72-c762a6db55cb\n",
      "19:14:55 WARN  riot            :: [line: 3194416, col: 92] Bad IRI: Not a valid UUID string: uuid:WSU1-CB-B-19e2cefa-49f2-499b-841d-33cc7ed8e6a7\n",
      "19:14:55 INFO  loader          :: Add: 3,200,000 triples (Batch: 138,504 / Avg: 134,578)\n",
      "19:14:55 WARN  riot            :: [line: 3238302, col: 92] Bad IRI: Not a valid UUID string: uuid:NWBB-CB-B-7355ff1a-b15d-4b06-b9d1-79a293e32030\n",
      "19:14:55 WARN  riot            :: [line: 3248470, col: 92] Bad IRI: Not a valid UUID string: uuid:STEI-CB-B-d3aa5d85-ac22-4dfb-9133-8b10ee3aaa09\n",
      "19:14:56 INFO  loader          :: Add: 3,300,000 triples (Batch: 139,082 / Avg: 134,710)\n",
      "19:14:56 WARN  riot            :: [line: 3383307, col: 92] Bad IRI: Not a valid UUID string: uuid:WY01-CB-T-087448a0-5ec3-4d9e-8fea-1f3c06daabfb\n",
      "19:14:56 INFO  loader          :: Add: 3,400,000 triples (Batch: 143,061 / Avg: 134,942)\n",
      "19:14:57 WARN  riot            :: [line: 3436063, col: 92] Bad IRI: Not a valid UUID string: uuid:DELA-CB-B-dc7411ef-453e-4b91-9885-a69fce891f8b\n",
      "19:14:57 WARN  riot            :: [line: 3469028, col: 92] Bad IRI: Not a valid UUID string: uuid:FTA3-CB-T-4116d3f6-5dfe-45c0-9989-6a6489238fbf\n",
      "19:14:57 WARN  riot            :: [line: 3489427, col: 92] Bad IRI: Not a valid UUID string: uuid:WSU2-CA-B-6ad1d2a3-0949-423a-a549-c801913e1d63\n",
      "19:14:57 INFO  loader          :: Add: 3,500,000 triples (Batch: 137,551 / Avg: 135,015)\n",
      "19:14:58 WARN  riot            :: [line: 3563221, col: 92] Bad IRI: Not a valid UUID string: uuid:PETF-CB-B-9196012d-042a-47b4-986a-21ead1040e31\n",
      "19:14:58 INFO  loader          :: Add: 3,600,000 triples (Batch: 138,888 / Avg: 135,119)\n",
      "19:14:58 WARN  riot            :: [line: 3616822, col: 92] Bad IRI: Not a valid UUID string: uuid:CSF1-CB-B-1171add7-ad79-4c39-9e8f-977fdf0fc9e8\n",
      "19:14:58 WARN  riot            :: [line: 3631036, col: 92] Bad IRI: Not a valid UUID string: uuid:SJER-CB-B-e7d303b7-60ac-426c-a2ad-4216273b3d4a\n",
      "19:14:59 WARN  riot            :: [line: 3682537, col: 92] Bad IRI: Not a valid UUID string: uuid:CLBJ-CB-T-1f0d1871-90b7-445d-906d-71685a8ccae2\n",
      "19:14:59 WARN  riot            :: [line: 3689711, col: 92] Bad IRI: Not a valid UUID string: uuid:TREE-CB-B-f5b3d5de-f4d5-4e09-94e5-cdd343d22787\n",
      "19:14:59 INFO  loader          :: Add: 3,700,000 triples (Batch: 142,045 / Avg: 135,298)\n",
      "19:14:59 WARN  riot            :: [line: 3721039, col: 92] Bad IRI: Not a valid UUID string: uuid:LENO-CB-T-a3029b48-f488-41b7-901f-8696e7c46046\n",
      "19:14:59 WARN  riot            :: [line: 3735086, col: 92] Bad IRI: Not a valid UUID string: uuid:UT32-CB-B-145460ed-1b7d-4ee1-a90d-76f0b6ef62e8\n",
      "19:14:59 WARN  riot            :: [line: 3787865, col: 92] Bad IRI: Not a valid UUID string: uuid:UT12-CB-T-97b626b3-a280-4e40-8212-282db79cbc69\n",
      "19:14:59 INFO  loader          :: Add: 3,800,000 triples (Batch: 134,408 / Avg: 135,274)\n",
      "19:15:00 INFO  loader          :: Add: 3,900,000 triples (Batch: 134,770 / Avg: 135,261)\n",
      "19:15:00 WARN  riot            :: [line: 3925118, col: 92] Bad IRI: Not a valid UUID string: uuid:UT32-CB-T-38e515a2-ddec-41e0-be29-4fce953451fa\n",
      "19:15:01 WARN  riot            :: [line: 3952268, col: 92] Bad IRI: Not a valid UUID string: uuid:JERC-CB-B-cfba0afb-7a48-4edc-93f8-1e89b3025c3d\n",
      "19:15:01 WARN  riot            :: [line: 3956582, col: 92] Bad IRI: Not a valid UUID string: uuid:FTA5-CB-T-6930cad4-38f4-4eab-8b53-45805fbcc40d\n",
      "19:15:01 WARN  riot            :: [line: 3965830, col: 92] Bad IRI: Not a valid UUID string: uuid:SOAP-CB-B-3b4186ac-3481-4959-82a6-420961ffb8c3\n",
      "19:15:01 INFO  loader          :: Add: 4,000,000 triples (Batch: 141,242 / Avg: 135,405)\n",
      "19:15:01 INFO  loader          ::   Elapsed: 29.54 seconds [2024/03/05 19:15:01 UTC]\n",
      "19:15:01 WARN  riot            :: [line: 4068740, col: 92] Bad IRI: Not a valid UUID string: uuid:WSU1-CB-T-90f166a5-20ce-4c9b-b4a4-4a587395ffae\n",
      "19:15:02 WARN  riot            :: [line: 4099739, col: 92] Bad IRI: Not a valid UUID string: uuid:WREF-CB-B-36d4dd11-2249-4825-b781-2feb79da2c29\n",
      "19:15:02 INFO  loader          :: Add: 4,100,000 triples (Batch: 132,625 / Avg: 135,335)\n",
      "19:15:02 WARN  riot            :: [line: 4105421, col: 92] Bad IRI: Not a valid UUID string: uuid:CSF2-CB-B-c99abe38-cbf0-40d1-864a-6fb848212e8b\n",
      "19:15:02 WARN  riot            :: [line: 4129943, col: 92] Bad IRI: Not a valid UUID string: uuid:UT23-CB-T-c70411c3-0a2f-43ae-a58d-204fb8c48c46\n",
      "19:15:02 INFO  loader          :: Add: 4,200,000 triples (Batch: 128,369 / Avg: 135,161)\n",
      "19:15:02 WARN  riot            :: [line: 4208976, col: 92] Bad IRI: Not a valid UUID string: uuid:UNDE-CB-B-f1c58c85-e8dd-40ce-9f2f-0f30f101562c\n",
      "19:15:03 WARN  riot            :: [line: 4280937, col: 92] Bad IRI: Not a valid UUID string: uuid:OCTU-CB-T-9991b6ee-c1d0-4a65-b20e-43bafd3fa050\n",
      "19:15:03 WARN  riot            :: [line: 4284058, col: 92] Bad IRI: Not a valid UUID string: uuid:JORN-CB-T-ec1b45a6-c27d-4fb2-8d1f-2b1978300df0\n",
      "19:15:03 WARN  riot            :: [line: 4285459, col: 92] Bad IRI: Not a valid UUID string: uuid:NOGP-CB-B-c51d20a5-51d1-4b16-92cc-d885700656c3\n",
      "19:15:03 INFO  loader          :: Add: 4,300,000 triples (Batch: 129,701 / Avg: 135,029)\n",
      "19:15:04 WARN  riot            :: [line: 4365714, col: 92] Bad IRI: Not a valid UUID string: uuid:SCBI-CB-T-e76a2f85-b6a1-4480-9c67-5ca8390b8399\n",
      "19:15:04 WARN  riot            :: [line: 4383813, col: 92] Bad IRI: Not a valid UUID string: uuid:MLSB-CB-B-2d4aa025-e90e-4ce4-b3b5-fd7ff2bdf80b\n",
      "19:15:04 INFO  loader          :: Add: 4,400,000 triples (Batch: 140,449 / Avg: 135,147)\n",
      "19:15:04 WARN  riot            :: [line: 4428301, col: 92] Bad IRI: Not a valid UUID string: uuid:SRER-CB-T-534f50bf-ef66-4ed1-90f1-533ef4b52528\n",
      "19:15:05 INFO  loader          :: Add: 4,500,000 triples (Batch: 132,978 / Avg: 135,098)\n",
      "19:15:05 WARN  riot            :: [line: 4599950, col: 92] Bad IRI: Not a valid UUID string: uuid:WY01-CB-B-1db0d919-0432-46d3-8835-8c2ec8cf4132\n",
      "19:15:05 INFO  loader          :: Add: 4,600,000 triples (Batch: 138,121 / Avg: 135,162)\n",
      "19:15:05 WARN  riot            :: [line: 4620288, col: 92] Bad IRI: Not a valid UUID string: uuid:NWBC-CB-T-1ab40003-8f10-4a2a-9ba1-911200388f64\n",
      "19:15:06 WARN  riot            :: [line: 4624147, col: 92] Bad IRI: Not a valid UUID string: uuid:PETF-CB-T-cef6133d-59d9-44f6-8c22-29664736616d\n",
      "19:15:06 WARN  riot            :: [line: 4630937, col: 92] Bad IRI: Not a valid UUID string: uuid:UT12-CB-B-84465a7e-6d15-4aad-9d64-5345cb857450\n",
      "19:15:06 INFO  loader          :: Add: 4,700,000 triples (Batch: 143,061 / Avg: 135,321)\n",
      "19:15:06 WARN  riot            :: [line: 4724799, col: 92] Bad IRI: Not a valid UUID string: uuid:SRR1-CB-B-c7d1d4e9-aa53-4c64-88c7-8f8ed276a613\n",
      "19:15:07 WARN  riot            :: [line: 4768671, col: 92] Bad IRI: Not a valid UUID string: uuid:ISCC-CB-B-e95d2dcd-dd4f-42b7-9345-730dbfc2aa53\n",
      "19:15:07 INFO  loader          :: Add: 4,800,000 triples (Batch: 138,121 / Avg: 135,379)\n",
      "19:15:07 WARN  riot            :: [line: 4802970, col: 92] Bad IRI: Not a valid UUID string: uuid:KONZ-CB-T-e70befb2-f3a7-4cd7-afac-ef817885fe44\n",
      "19:15:07 WARN  riot            :: [line: 4803686, col: 92] Bad IRI: Not a valid UUID string: uuid:SCBI-CB-B-120b7ecd-9603-4d23-9241-642a4ee95ddd\n",
      "19:15:07 WARN  riot            :: [line: 4810814, col: 92] Bad IRI: Not a valid UUID string: uuid:WSU3-CB-T-4aaf3e2e-30af-4cb3-bfb3-e4cbeae25f62\n",
      "19:15:07 WARN  riot            :: [line: 4850942, col: 92] Bad IRI: Not a valid UUID string: uuid:DSNY-CB-T-16477917-d489-45ca-a926-5acc7eaca071\n",
      "19:15:07 WARN  riot            :: [line: 4855856, col: 92] Bad IRI: Not a valid UUID string: uuid:NWBC-CB-B-06fd881f-fe3c-43f0-8f75-1fda0772ed35\n",
      "19:15:07 WARN  riot            :: [line: 4884642, col: 92] Bad IRI: Not a valid UUID string: uuid:DSNY-CB-B-acabb4de-4e97-4820-8d28-07a5b48cc286\n",
      "19:15:07 WARN  riot            :: [line: 4896122, col: 92] Bad IRI: Not a valid UUID string: uuid:WLLO-CB-T-ddc7635d-24f0-4456-8f9f-3680b08db779\n",
      "19:15:07 INFO  loader          :: Add: 4,900,000 triples (Batch: 134,952 / Avg: 135,370)\n",
      "19:15:08 WARN  riot            :: [line: 4906937, col: 92] Bad IRI: Not a valid UUID string: uuid:HARV-CB-T-a1fbe98a-a761-4a91-b8fc-67c4e0d5d292\n",
      "19:15:08 WARN  riot            :: [line: 4915958, col: 92] Bad IRI: Not a valid UUID string: uuid:SOAP-CB-T-e0235661-d3be-4195-bab0-105df1d4b9b8\n",
      "19:15:08 INFO  loader          :: Add: 5,000,000 triples (Batch: 140,646 / Avg: 135,471)\n",
      "19:15:08 INFO  loader          ::   Elapsed: 36.91 seconds [2024/03/05 19:15:08 UTC]\n",
      "19:15:08 WARN  riot            :: [line: 5013956, col: 92] Bad IRI: Not a valid UUID string: uuid:NWBB-CB-T-3af18d1b-014b-4e70-8d96-6920244ddb79\n",
      "19:15:08 WARN  riot            :: [line: 5017741, col: 92] Bad IRI: Not a valid UUID string: uuid:TREE-CB-T-03bc7e4f-a834-4d78-b733-e3d863ea640f\n",
      "19:15:09 WARN  riot            :: [line: 5043302, col: 92] Bad IRI: Not a valid UUID string: uuid:WREF-CB-T-b7c5dd99-510e-403a-a79e-d45e0af78fb3\n",
      "19:15:09 WARN  riot            :: [line: 5049912, col: 92] Bad IRI: Not a valid UUID string: uuid:CSF1-CB-T-8e2cab37-6db5-4377-8eab-293a58400041\n",
      "19:15:09 WARN  riot            :: [line: 5071046, col: 92] Bad IRI: Not a valid UUID string: uuid:MOAB-CB-B-03a9d128-c9b5-4bf8-a6cc-0757a0c5af8a\n",
      "19:15:09 INFO  loader          :: Add: 5,100,000 triples (Batch: 136,798 / Avg: 135,497)\n",
      "19:15:09 WARN  riot            :: [line: 5123875, col: 92] Bad IRI: Not a valid UUID string: uuid:JERC-CB-T-f3a0b7b4-b141-4080-9d42-394e5ba1c35c\n",
      "19:15:09 WARN  riot            :: [line: 5136548, col: 92] Bad IRI: Not a valid UUID string: uuid:DCFS-CB-B-2357f0eb-9b01-4316-b676-dbc444bbef1d\n",
      "19:15:10 INFO  loader          :: Add: 5,200,000 triples (Batch: 134,952 / Avg: 135,487)\n",
      "19:15:10 WARN  riot            :: [line: 5223896, col: 92] Bad IRI: Not a valid UUID string: uuid:NIWO-CB-T-8fa5540a-3ecc-43f3-8dea-9c9372d12826\n",
      "19:15:10 WARN  riot            :: [line: 5226391, col: 92] Bad IRI: Not a valid UUID string: uuid:BLAN-CB-T-298f4fa4-a6ae-4cd1-8ac4-ed7b239a6abf\n",
      "19:15:10 WARN  riot            :: [line: 5251033, col: 92] Bad IRI: Not a valid UUID string: uuid:WY15-CB-B-e7803387-76a7-45de-8ea1-d6c4146b8a81\n",
      "19:15:10 INFO  loader          :: Add: 5,300,000 triples (Batch: 145,137 / Avg: 135,657)\n",
      "19:15:10 WARN  riot            :: [line: 5309618, col: 92] Bad IRI: Not a valid UUID string: uuid:WY09-CB-T-40d5b98a-b736-4509-9f9f-24d39a3e338b\n",
      "19:15:11 WARN  riot            :: [line: 5367312, col: 92] Bad IRI: Not a valid UUID string: uuid:WY10-CB-B-87bbe689-217d-48d9-b6c0-7d4bf8f3540b\n",
      "19:15:11 WARN  riot            :: [line: 5381797, col: 92] Bad IRI: Not a valid UUID string: uuid:UT23-CB-B-e76880f1-deec-4076-9e1a-1377fd94849a\n",
      "19:15:11 INFO  loader          :: Add: 5,400,000 triples (Batch: 141,242 / Avg: 135,756)\n",
      "19:15:11 WARN  riot            :: [line: 5443604, col: 92] Bad IRI: Not a valid UUID string: uuid:WSU2-CB-T-f0728f3d-65c8-4075-9d17-47ce2e1de63c\n",
      "19:15:12 WARN  riot            :: [line: 5477567, col: 92] Bad IRI: Not a valid UUID string: uuid:BLAN-CB-B-a59c1a9c-e301-4f88-aff4-cf8f072d9cbc\n",
      "19:15:12 INFO  loader          :: Add: 5,500,000 triples (Batch: 141,643 / Avg: 135,859)\n",
      "19:15:12 WARN  riot            :: [line: 5526257, col: 92] Bad IRI: Not a valid UUID string: uuid:ORNL-CB-B-502e74cf-2cca-4d0c-800c-dc0580d8b54d\n",
      "19:15:12 WARN  riot            :: [line: 5528972, col: 92] Bad IRI: Not a valid UUID string: uuid:CLBJ-CB-B-dfc9535a-74f1-44dd-8aad-996b1fa20111\n",
      "19:15:13 WARN  riot            :: [line: 5589849, col: 92] Bad IRI: Not a valid UUID string: uuid:LENO-CB-B-26b5381f-14b1-401e-a729-4e6d1b421c37\n",
      "19:15:13 INFO  loader          :: Add: 5,600,000 triples (Batch: 122,549 / Avg: 135,596)\n",
      "19:15:13 WARN  riot            :: [line: 5612462, col: 92] Bad IRI: Not a valid UUID string: uuid:MLSB-CB-T-2ca22db1-1704-4174-9a45-69cc790ce9a5\n",
      "19:15:13 WARN  riot            :: [line: 5660717, col: 92] Bad IRI: Not a valid UUID string: uuid:OCTU-CB-B-c486e8fb-c960-4f2a-97a7-9bb87a1c7147\n",
      "19:15:13 INFO  loader          :: Add: 5,700,000 triples (Batch: 127,877 / Avg: 135,453)\n",
      "19:15:14 WARN  riot            :: [line: 5722030, col: 92] Bad IRI: Not a valid UUID string: uuid:DCFS-CB-T-4ea961ae-3e1d-4e7f-aca8-615d23195a1a\n",
      "19:15:14 INFO  loader          :: Add: 5,800,000 triples (Batch: 134,408 / Avg: 135,434)\n",
      "19:15:15 INFO  loader          :: Add: 5,900,000 triples (Batch: 142,450 / Avg: 135,548)\n",
      "19:15:15 WARN  riot            :: [line: 5940663, col: 92] Bad IRI: Not a valid UUID string: uuid:KONA-CB-T-326ddf51-8af8-4d02-b946-c561ab741cae\n",
      "19:15:15 WARN  riot            :: [line: 5960604, col: 92] Bad IRI: Not a valid UUID string: uuid:MOAB-CB-T-40bbee20-6cee-4430-bc25-2a5f21ce31fb\n",
      "19:15:16 INFO  loader          :: Add: 6,000,000 triples (Batch: 129,870 / Avg: 135,449)\n",
      "19:15:16 INFO  loader          ::   Elapsed: 44.30 seconds [2024/03/05 19:15:16 UTC]\n",
      "19:15:16 WARN  riot            :: [line: 6003814, col: 92] Bad IRI: Not a valid UUID string: uuid:WY03-CB-T-2d5a8790-1c24-4059-97e9-668b51bf544d\n",
      "19:15:16 INFO  loader          :: Add: 6,100,000 triples (Batch: 135,135 / Avg: 135,444)\n",
      "19:15:17 WARN  riot            :: [line: 6183601, col: 92] Bad IRI: Not a valid UUID string: uuid:WSU3-CB-B-c248f426-b677-44df-919e-a9bd18e6fa7b\n",
      "19:15:17 INFO  loader          :: Add: 6,200,000 triples (Batch: 137,931 / Avg: 135,483)\n",
      "19:15:17 WARN  riot            :: [line: 6213435, col: 92] Bad IRI: Not a valid UUID string: uuid:SRR1-CB-T-be47ce48-f9bc-4898-8b81-199ace9dc65f\n",
      "19:15:17 WARN  riot            :: [line: 6246957, col: 92] Bad IRI: Not a valid UUID string: uuid:RMNP-CB-B-f0507935-ba93-42db-9f27-9383e7932ac3\n",
      "19:15:18 INFO  loader          :: Add: 6,300,000 triples (Batch: 139,082 / Avg: 135,539)\n",
      "19:15:18 WARN  riot            :: [line: 6338514, col: 92] Bad IRI: Not a valid UUID string: uuid:FTA5-CB-B-f450aea0-e6fb-4596-9f8b-56dba4635a8b\n",
      "19:15:18 WARN  riot            :: [line: 6382064, col: 92] Bad IRI: Not a valid UUID string: uuid:PPRH-CB-B-40a7fdcf-7d5a-4d3d-ae81-42253fc94370\n",
      "19:15:19 WARN  riot            :: [line: 6399524, col: 92] Bad IRI: Not a valid UUID string: uuid:WY09-CB-B-cfcfdb9b-5d73-41ea-b105-f3fbe1d56c2b\n",
      "19:15:19 INFO  loader          :: Add: 6,400,000 triples (Batch: 135,501 / Avg: 135,538)\n",
      "19:15:19 WARN  riot            :: [line: 6498311, col: 92] Bad IRI: Not a valid UUID string: uuid:WLUP-CB-B-24cc2fd3-3d49-4d66-9edb-08cc7fce1450\n",
      "19:15:19 INFO  loader          :: Add: 6,500,000 triples (Batch: 138,121 / Avg: 135,577)\n",
      "19:15:19 WARN  riot            :: [line: 6511740, col: 92] Bad IRI: Not a valid UUID string: uuid:UKFS-CB-B-18631570-14bc-4401-80e0-85559c5eb037\n",
      "19:15:20 INFO  loader          :: -- Finish triples data phase\n",
      "19:15:20 INFO  loader          :: ** Data: 6,546,004 triples loaded in 48.26 seconds [Rate: 135,629.13 per second]\n",
      "19:15:20 INFO  loader          :: -- Finish quads data phase\n",
      "19:15:20 INFO  loader          :: -- Start triples index phase\n",
      "19:15:20 INFO  loader          :: Index SPO->POS: 100,000 slots (Batch: 1,333,333 slots/s / Avg: 1,333,333 slots/s)\n",
      "19:15:20 INFO  loader          :: Index SPO->POS: 200,000 slots (Batch: 952,380 slots/s / Avg: 1,111,111 slots/s)\n",
      "19:15:20 INFO  loader          :: Index SPO->POS: 300,000 slots (Batch: 1,190,476 slots/s / Avg: 1,136,363 slots/s)\n",
      "19:15:20 INFO  loader          :: Index SPO->POS: 400,000 slots (Batch: 1,123,595 slots/s / Avg: 1,133,144 slots/s)\n",
      "19:15:20 INFO  loader          :: Index SPO->POS: 500,000 slots (Batch: 1,111,111 slots/s / Avg: 1,128,668 slots/s)\n",
      "19:15:20 INFO  loader          :: Index SPO->POS: 600,000 slots (Batch: 862,068 slots/s / Avg: 1,073,345 slots/s)\n",
      "19:15:20 INFO  loader          :: Index SPO->POS: 700,000 slots (Batch: 1,052,631 slots/s / Avg: 1,070,336 slots/s)\n",
      "19:15:20 INFO  loader          :: Index SPO->POS: 800,000 slots (Batch: 1,176,470 slots/s / Avg: 1,082,543 slots/s)\n",
      "19:15:20 INFO  loader          :: Index SPO->POS: 900,000 slots (Batch: 900,900 slots/s / Avg: 1,058,823 slots/s)\n",
      "19:15:21 INFO  loader          :: Index SPO->POS: 1,000,000 slots (Batch: 1,149,425 slots/s / Avg: 1,067,235 slots/s)\n",
      "19:15:21 INFO  loader          ::   Elapsed: 49.21 seconds [2024/03/05 19:15:21 UTC]\n",
      "19:15:21 INFO  loader          :: Index SPO->POS: 1,100,000 slots (Batch: 1,086,956 slots/s / Avg: 1,068,999 slots/s)\n",
      "19:15:21 INFO  loader          :: Index SPO->POS: 1,200,000 slots (Batch: 840,336 slots/s / Avg: 1,045,296 slots/s)\n",
      "19:15:21 INFO  loader          :: Index SPO->POS: 1,300,000 slots (Batch: 970,873 slots/s / Avg: 1,039,168 slots/s)\n",
      "19:15:21 INFO  loader          :: Index SPO->POS: 1,400,000 slots (Batch: 970,873 slots/s / Avg: 1,033,973 slots/s)\n",
      "19:15:21 INFO  loader          :: Index SPO->POS: 1,500,000 slots (Batch: 952,380 slots/s / Avg: 1,028,101 slots/s)\n",
      "19:15:21 INFO  loader          :: Index SPO->POS: 1,600,000 slots (Batch: 826,446 slots/s / Avg: 1,012,658 slots/s)\n",
      "19:15:21 INFO  loader          :: Index SPO->POS: 1,700,000 slots (Batch: 1,030,927 slots/s / Avg: 1,013,714 slots/s)\n",
      "19:15:21 INFO  loader          :: Index SPO->POS: 1,800,000 slots (Batch: 1,010,101 slots/s / Avg: 1,013,513 slots/s)\n",
      "19:15:21 INFO  loader          :: Index SPO->POS: 1,900,000 slots (Batch: 1,010,101 slots/s / Avg: 1,013,333 slots/s)\n",
      "19:15:22 INFO  loader          :: Index SPO->POS: 2,000,000 slots (Batch: 781,250 slots/s / Avg: 998,502 slots/s)\n",
      "19:15:22 INFO  loader          ::   Elapsed: 50.27 seconds [2024/03/05 19:15:22 UTC]\n",
      "19:15:22 INFO  loader          :: Index SPO->POS: 2,100,000 slots (Batch: 961,538 slots/s / Avg: 996,677 slots/s)\n",
      "19:15:22 INFO  loader          :: Index SPO->POS: 2,200,000 slots (Batch: 970,873 slots/s / Avg: 995,475 slots/s)\n",
      "19:15:22 INFO  loader          :: Index SPO->POS: 2,300,000 slots (Batch: 943,396 slots/s / Avg: 993,091 slots/s)\n",
      "19:15:22 INFO  loader          :: Index SPO->POS: 2,400,000 slots (Batch: 740,740 slots/s / Avg: 979,192 slots/s)\n",
      "19:15:22 INFO  loader          :: Index SPO->POS: 2,500,000 slots (Batch: 892,857 slots/s / Avg: 975,419 slots/s)\n",
      "19:15:22 INFO  loader          :: Index SPO->POS: 2,600,000 slots (Batch: 877,192 slots/s / Avg: 971,236 slots/s)\n",
      "19:15:22 INFO  loader          :: Index SPO->POS: 2,700,000 slots (Batch: 917,431 slots/s / Avg: 969,131 slots/s)\n",
      "19:15:22 INFO  loader          :: Index SPO->POS: 2,800,000 slots (Batch: 781,250 slots/s / Avg: 960,878 slots/s)\n",
      "19:15:23 INFO  loader          :: Index SPO->POS: 2,900,000 slots (Batch: 877,192 slots/s / Avg: 957,727 slots/s)\n",
      "19:15:23 INFO  loader          :: Index SPO->POS: 3,000,000 slots (Batch: 847,457 slots/s / Avg: 953,591 slots/s)\n",
      "19:15:23 INFO  loader          ::   Elapsed: 51.41 seconds [2024/03/05 19:15:23 UTC]\n",
      "19:15:23 INFO  loader          :: Index SPO->POS: 3,100,000 slots (Batch: 751,879 slots/s / Avg: 945,410 slots/s)\n",
      "19:15:23 INFO  loader          :: Index SPO->POS: 3,200,000 slots (Batch: 884,955 slots/s / Avg: 943,396 slots/s)\n",
      "19:15:23 INFO  loader          :: Index SPO->POS: 3,300,000 slots (Batch: 847,457 slots/s / Avg: 940,170 slots/s)\n",
      "19:15:23 INFO  loader          :: Index SPO->POS: 3,400,000 slots (Batch: 877,192 slots/s / Avg: 938,189 slots/s)\n",
      "19:15:23 INFO  loader          :: Index SPO->POS: 3,500,000 slots (Batch: 704,225 slots/s / Avg: 929,368 slots/s)\n",
      "19:15:23 INFO  loader          :: Index SPO->POS: 3,600,000 slots (Batch: 819,672 slots/s / Avg: 925,925 slots/s)\n",
      "19:15:24 INFO  loader          :: Index SPO->POS: 3,700,000 slots (Batch: 806,451 slots/s / Avg: 922,233 slots/s)\n",
      "19:15:24 INFO  loader          :: Index SPO->POS: 3,800,000 slots (Batch: 847,457 slots/s / Avg: 920,096 slots/s)\n",
      "19:15:24 INFO  loader          :: Index SPO->POS: 3,900,000 slots (Batch: 714,285 slots/s / Avg: 913,348 slots/s)\n",
      "19:15:24 INFO  loader          :: Index SPO->POS: 4,000,000 slots (Batch: 840,336 slots/s / Avg: 911,369 slots/s)\n",
      "19:15:24 INFO  loader          ::   Elapsed: 52.66 seconds [2024/03/05 19:15:24 UTC]\n",
      "19:15:24 INFO  loader          :: Index SPO->POS: 4,100,000 slots (Batch: 847,457 slots/s / Avg: 909,696 slots/s)\n",
      "19:15:24 INFO  loader          :: Index SPO->POS: 4,200,000 slots (Batch: 847,457 slots/s / Avg: 908,108 slots/s)\n",
      "19:15:24 INFO  loader          :: Index SPO->POS: 4,300,000 slots (Batch: 709,219 slots/s / Avg: 902,224 slots/s)\n",
      "19:15:24 INFO  loader          :: Index SPO->POS: 4,400,000 slots (Batch: 854,700 slots/s / Avg: 901,085 slots/s)\n",
      "19:15:25 INFO  loader          :: Index SPO->POS: 4,500,000 slots (Batch: 840,336 slots/s / Avg: 899,640 slots/s)\n",
      "19:15:25 INFO  loader          :: Index SPO->POS: 4,600,000 slots (Batch: 813,008 slots/s / Avg: 897,560 slots/s)\n",
      "19:15:25 INFO  loader          :: Index SPO->POS: 4,700,000 slots (Batch: 724,637 slots/s / Avg: 893,026 slots/s)\n",
      "19:15:25 INFO  loader          :: Index SPO->POS: 4,800,000 slots (Batch: 833,333 slots/s / Avg: 891,696 slots/s)\n",
      "19:15:25 INFO  loader          :: Index SPO->POS: 4,900,000 slots (Batch: 833,333 slots/s / Avg: 890,423 slots/s)\n",
      "19:15:25 INFO  loader          :: Index SPO->POS: 5,000,000 slots (Batch: 781,250 slots/s / Avg: 887,941 slots/s)\n",
      "19:15:25 INFO  loader          ::   Elapsed: 53.90 seconds [2024/03/05 19:15:25 UTC]\n",
      "19:15:25 INFO  loader          :: Index SPO->POS: 5,100,000 slots (Batch: 694,444 slots/s / Avg: 883,116 slots/s)\n",
      "19:15:25 INFO  loader          :: Index SPO->POS: 5,200,000 slots (Batch: 763,358 slots/s / Avg: 880,460 slots/s)\n",
      "19:15:26 INFO  loader          :: Index SPO->POS: 5,300,000 slots (Batch: 757,575 slots/s / Avg: 877,774 slots/s)\n",
      "19:15:26 INFO  loader          :: Index SPO->POS: 5,400,000 slots (Batch: 746,268 slots/s / Avg: 874,918 slots/s)\n",
      "19:15:26 INFO  loader          :: Index SPO->POS: 5,500,000 slots (Batch: 704,225 slots/s / Avg: 871,080 slots/s)\n",
      "19:15:26 INFO  loader          :: Index SPO->POS: 5,600,000 slots (Batch: 793,650 slots/s / Avg: 869,565 slots/s)\n",
      "19:15:26 INFO  loader          :: Index SPO->POS: 5,700,000 slots (Batch: 787,401 slots/s / Avg: 867,976 slots/s)\n",
      "19:15:26 INFO  loader          :: Index SPO->POS: 5,800,000 slots (Batch: 800,000 slots/s / Avg: 866,706 slots/s)\n",
      "19:15:26 INFO  loader          :: Index SPO->POS: 5,900,000 slots (Batch: 787,401 slots/s / Avg: 865,229 slots/s)\n",
      "19:15:27 INFO  loader          :: Index SPO->POS: 6,000,000 slots (Batch: 813,008 slots/s / Avg: 864,304 slots/s)\n",
      "19:15:27 INFO  loader          ::   Elapsed: 55.21 seconds [2024/03/05 19:15:27 UTC]\n",
      "19:15:27 INFO  loader          :: Index SPO->POS: 6,100,000 slots (Batch: 769,230 slots/s / Avg: 862,556 slots/s)\n",
      "19:15:27 INFO  loader          :: Index SPO->POS: 6,200,000 slots (Batch: 787,401 slots/s / Avg: 861,230 slots/s)\n",
      "19:15:27 INFO  loader          :: Index SPO->POS: 6,300,000 slots (Batch: 781,250 slots/s / Avg: 859,833 slots/s)\n",
      "19:15:27 INFO  loader          :: Index SPO->POS: 6,400,000 slots (Batch: 806,451 slots/s / Avg: 858,945 slots/s)\n",
      "19:15:27 INFO  loader          :: Index SPO->POS: 6,500,000 slots (Batch: 819,672 slots/s / Avg: 858,312 slots/s)\n",
      "19:15:27 INFO  loader          :: ** Index SPO->POS: 6,546,004 slots indexed in 7.63 seconds [Rate: 858,042.19 per second]\n",
      "19:15:27 INFO  loader          :: Index SPO->OSP: 100,000 slots (Batch: 1,923,076 slots/s / Avg: 1,923,076 slots/s)\n",
      "19:15:27 INFO  loader          :: Index SPO->OSP: 200,000 slots (Batch: 1,538,461 slots/s / Avg: 1,709,401 slots/s)\n",
      "19:15:27 INFO  loader          :: Index SPO->OSP: 300,000 slots (Batch: 1,538,461 slots/s / Avg: 1,648,351 slots/s)\n",
      "19:15:27 INFO  loader          :: Index SPO->OSP: 400,000 slots (Batch: 1,449,275 slots/s / Avg: 1,593,625 slots/s)\n",
      "19:15:28 INFO  loader          :: Index SPO->OSP: 500,000 slots (Batch: 1,351,351 slots/s / Avg: 1,538,461 slots/s)\n",
      "19:15:28 INFO  loader          :: Index SPO->OSP: 600,000 slots (Batch: 1,250,000 slots/s / Avg: 1,481,481 slots/s)\n",
      "19:15:28 INFO  loader          :: Index SPO->OSP: 700,000 slots (Batch: 1,219,512 slots/s / Avg: 1,437,371 slots/s)\n",
      "19:15:28 INFO  loader          :: Index SPO->OSP: 800,000 slots (Batch: 1,063,829 slots/s / Avg: 1,376,936 slots/s)\n",
      "19:15:28 INFO  loader          :: Index SPO->OSP: 900,000 slots (Batch: 1,075,268 slots/s / Avg: 1,335,311 slots/s)\n",
      "19:15:28 INFO  loader          :: Index SPO->OSP: 1,000,000 slots (Batch: 1,075,268 slots/s / Avg: 1,303,780 slots/s)\n",
      "19:15:28 INFO  loader          ::   Elapsed: 56.66 seconds [2024/03/05 19:15:28 UTC]\n",
      "19:15:28 INFO  loader          :: Index SPO->OSP: 1,100,000 slots (Batch: 1,098,901 slots/s / Avg: 1,282,051 slots/s)\n",
      "19:15:28 INFO  loader          :: Index SPO->OSP: 1,200,000 slots (Batch: 1,111,111 slots/s / Avg: 1,265,822 slots/s)\n",
      "19:15:28 INFO  loader          :: Index SPO->OSP: 1,300,000 slots (Batch: 1,136,363 slots/s / Avg: 1,254,826 slots/s)\n",
      "19:15:28 INFO  loader          :: Index SPO->OSP: 1,400,000 slots (Batch: 1,030,927 slots/s / Avg: 1,235,657 slots/s)\n",
      "19:15:28 INFO  loader          :: Index SPO->OSP: 1,500,000 slots (Batch: 1,086,956 slots/s / Avg: 1,224,489 slots/s)\n",
      "19:15:29 INFO  loader          :: Index SPO->OSP: 1,600,000 slots (Batch: 1,086,956 slots/s / Avg: 1,214,882 slots/s)\n",
      "19:15:29 INFO  loader          :: Index SPO->OSP: 1,700,000 slots (Batch: 1,000,000 slots/s / Avg: 1,199,717 slots/s)\n",
      "19:15:29 INFO  loader          :: Index SPO->OSP: 1,800,000 slots (Batch: 1,030,927 slots/s / Avg: 1,188,903 slots/s)\n",
      "19:15:29 INFO  loader          :: Index SPO->OSP: 1,900,000 slots (Batch: 1,010,101 slots/s / Avg: 1,177,929 slots/s)\n",
      "19:15:29 INFO  loader          :: Index SPO->OSP: 2,000,000 slots (Batch: 990,099 slots/s / Avg: 1,166,861 slots/s)\n",
      "19:15:29 INFO  loader          ::   Elapsed: 57.61 seconds [2024/03/05 19:15:29 UTC]\n",
      "19:15:29 INFO  loader          :: Index SPO->OSP: 2,100,000 slots (Batch: 1,030,927 slots/s / Avg: 1,159,580 slots/s)\n",
      "19:15:29 INFO  loader          :: Index SPO->OSP: 2,200,000 slots (Batch: 1,010,101 slots/s / Avg: 1,151,832 slots/s)\n",
      "19:15:29 INFO  loader          :: Index SPO->OSP: 2,300,000 slots (Batch: 1,010,101 slots/s / Avg: 1,144,848 slots/s)\n",
      "19:15:29 INFO  loader          :: Index SPO->OSP: 2,400,000 slots (Batch: 990,099 slots/s / Avg: 1,137,440 slots/s)\n",
      "19:15:29 INFO  loader          :: Index SPO->OSP: 2,500,000 slots (Batch: 990,099 slots/s / Avg: 1,130,710 slots/s)\n",
      "19:15:30 INFO  loader          :: Index SPO->OSP: 2,600,000 slots (Batch: 1,030,927 slots/s / Avg: 1,126,516 slots/s)\n",
      "19:15:30 INFO  loader          :: Index SPO->OSP: 2,700,000 slots (Batch: 970,873 slots/s / Avg: 1,119,867 slots/s)\n",
      "19:15:30 INFO  loader          :: Index SPO->OSP: 2,800,000 slots (Batch: 961,538 slots/s / Avg: 1,113,320 slots/s)\n",
      "19:15:30 INFO  loader          :: Index SPO->OSP: 2,900,000 slots (Batch: 961,538 slots/s / Avg: 1,107,292 slots/s)\n",
      "19:15:30 INFO  loader          :: Index SPO->OSP: 3,000,000 slots (Batch: 1,010,101 slots/s / Avg: 1,103,752 slots/s)\n",
      "19:15:30 INFO  loader          ::   Elapsed: 58.62 seconds [2024/03/05 19:15:30 UTC]\n",
      "19:15:30 INFO  loader          :: Index SPO->OSP: 3,100,000 slots (Batch: 1,010,101 slots/s / Avg: 1,100,461 slots/s)\n",
      "19:15:30 INFO  loader          :: Index SPO->OSP: 3,200,000 slots (Batch: 952,380 slots/s / Avg: 1,095,140 slots/s)\n",
      "19:15:30 INFO  loader          :: Index SPO->OSP: 3,300,000 slots (Batch: 961,538 slots/s / Avg: 1,090,548 slots/s)\n",
      "19:15:30 INFO  loader          :: Index SPO->OSP: 3,400,000 slots (Batch: 952,380 slots/s / Avg: 1,085,915 slots/s)\n",
      "19:15:30 INFO  loader          :: Index SPO->OSP: 3,500,000 slots (Batch: 1,010,101 slots/s / Avg: 1,083,591 slots/s)\n",
      "19:15:31 INFO  loader          :: Index SPO->OSP: 3,600,000 slots (Batch: 990,099 slots/s / Avg: 1,080,756 slots/s)\n",
      "19:15:31 INFO  loader          :: Index SPO->OSP: 3,700,000 slots (Batch: 934,579 slots/s / Avg: 1,076,207 slots/s)\n",
      "19:15:31 INFO  loader          :: Index SPO->OSP: 3,800,000 slots (Batch: 952,380 slots/s / Avg: 1,072,537 slots/s)\n",
      "19:15:31 INFO  loader          :: Index SPO->OSP: 3,900,000 slots (Batch: 934,579 slots/s / Avg: 1,068,493 slots/s)\n",
      "19:15:31 INFO  loader          :: Index SPO->OSP: 4,000,000 slots (Batch: 970,873 slots/s / Avg: 1,065,814 slots/s)\n",
      "19:15:31 INFO  loader          ::   Elapsed: 59.65 seconds [2024/03/05 19:15:31 UTC]\n",
      "19:15:31 INFO  loader          :: Index SPO->OSP: 4,100,000 slots (Batch: 970,873 slots/s / Avg: 1,063,278 slots/s)\n",
      "19:15:31 INFO  loader          :: Index SPO->OSP: 4,200,000 slots (Batch: 952,380 slots/s / Avg: 1,060,338 slots/s)\n",
      "19:15:31 INFO  loader          :: Index SPO->OSP: 4,300,000 slots (Batch: 917,431 slots/s / Avg: 1,056,511 slots/s)\n",
      "19:15:31 INFO  loader          :: Index SPO->OSP: 4,400,000 slots (Batch: 952,380 slots/s / Avg: 1,053,892 slots/s)\n",
      "19:15:31 INFO  loader          :: Index SPO->OSP: 4,500,000 slots (Batch: 970,873 slots/s / Avg: 1,051,893 slots/s)\n",
      "19:15:32 INFO  loader          :: Index SPO->OSP: 4,600,000 slots (Batch: 909,090 slots/s / Avg: 1,048,313 slots/s)\n",
      "19:15:32 INFO  loader          :: Index SPO->OSP: 4,700,000 slots (Batch: 909,090 slots/s / Avg: 1,044,908 slots/s)\n",
      "19:15:32 INFO  loader          :: Index SPO->OSP: 4,800,000 slots (Batch: 909,090 slots/s / Avg: 1,041,666 slots/s)\n",
      "19:15:32 INFO  loader          :: Index SPO->OSP: 4,900,000 slots (Batch: 917,431 slots/s / Avg: 1,038,795 slots/s)\n",
      "19:15:32 INFO  loader          :: Index SPO->OSP: 5,000,000 slots (Batch: 877,192 slots/s / Avg: 1,034,982 slots/s)\n",
      "19:15:32 INFO  loader          ::   Elapsed: 60.73 seconds [2024/03/05 19:15:32 UTC]\n",
      "19:15:32 INFO  loader          :: Index SPO->OSP: 5,100,000 slots (Batch: 869,565 slots/s / Avg: 1,031,136 slots/s)\n",
      "19:15:32 INFO  loader          :: Index SPO->OSP: 5,200,000 slots (Batch: 909,090 slots/s / Avg: 1,028,481 slots/s)\n",
      "19:15:32 INFO  loader          :: Index SPO->OSP: 5,300,000 slots (Batch: 869,565 slots/s / Avg: 1,024,946 slots/s)\n",
      "19:15:32 INFO  loader          :: Index SPO->OSP: 5,400,000 slots (Batch: 854,700 slots/s / Avg: 1,021,180 slots/s)\n",
      "19:15:33 INFO  loader          :: Index SPO->OSP: 5,500,000 slots (Batch: 854,700 slots/s / Avg: 1,017,576 slots/s)\n",
      "19:15:33 INFO  loader          :: Index SPO->OSP: 5,600,000 slots (Batch: 854,700 slots/s / Avg: 1,014,125 slots/s)\n",
      "19:15:33 INFO  loader          :: Index SPO->OSP: 5,700,000 slots (Batch: 862,068 slots/s / Avg: 1,010,996 slots/s)\n",
      "19:15:33 INFO  loader          :: Index SPO->OSP: 5,800,000 slots (Batch: 934,579 slots/s / Avg: 1,009,573 slots/s)\n",
      "19:15:33 INFO  loader          :: Index SPO->OSP: 5,900,000 slots (Batch: 892,857 slots/s / Avg: 1,007,341 slots/s)\n",
      "19:15:33 INFO  loader          :: Index SPO->OSP: 6,000,000 slots (Batch: 892,857 slots/s / Avg: 1,005,193 slots/s)\n",
      "19:15:33 INFO  loader          ::   Elapsed: 61.87 seconds [2024/03/05 19:15:33 UTC]\n",
      "19:15:33 INFO  loader          :: Index SPO->OSP: 6,100,000 slots (Batch: 884,955 slots/s / Avg: 1,002,959 slots/s)\n",
      "19:15:33 INFO  loader          :: Index SPO->OSP: 6,200,000 slots (Batch: 900,900 slots/s / Avg: 1,001,130 slots/s)\n",
      "19:15:34 INFO  loader          :: Index SPO->OSP: 6,300,000 slots (Batch: 884,955 slots/s / Avg: 999,048 slots/s)\n",
      "19:15:34 INFO  loader          :: Index SPO->OSP: 6,400,000 slots (Batch: 892,857 slots/s / Avg: 997,195 slots/s)\n",
      "19:15:34 INFO  loader          :: Index SPO->OSP: 6,500,000 slots (Batch: 892,857 slots/s / Avg: 995,405 slots/s)\n",
      "19:15:34 INFO  loader          :: ** Index SPO->OSP: 6,546,004 slots indexed in 6.58 seconds [Rate: 994,833.44 per second]\n",
      "19:15:34 INFO  loader          :: -- Finish triples index phase\n",
      "19:15:34 INFO  loader          :: ** 6,546,004 triples indexed in 14.21 seconds [Rate: 460,629.38 per second]\n",
      "19:15:34 INFO  loader          :: -- Finish triples load\n",
      "19:15:34 INFO  loader          :: ** Completed: 6,546,004 triples loaded in 62.48 seconds [Rate: 104,774.62 per second]\n",
      "19:15:34 INFO  loader          :: -- Finish quads load\n"
     ]
    }
   ],
   "source": [
    "!docker compose run fuseki ./apache-jena-4.9.0/bin/tdbloader --loc /fuseki-base/nmdc-db.tdb /fuseki-base/nmdc-db.nt.gz"
   ]
  },
  {
   "cell_type": "code",
   "execution_count": 57,
   "id": "1a0bfb4b-e694-40b1-88af-4446e3fcc888",
   "metadata": {},
   "outputs": [
    {
     "name": "stdout",
     "output_type": "stream",
     "text": [
      "\u001b[1A\u001b[1B\u001b[0G\u001b[?25l[+] Running 1/0\n",
      " \u001b[32m✔\u001b[0m Container fuseki  \u001b[32mCreated\u001b[0m                                               \u001b[34m0.0s \u001b[0m\n",
      "\u001b[?25h\u001b[1A\u001b[1A\u001b[0G\u001b[?25l\u001b[34m[+] Running 1/1\u001b[0m\n",
      " \u001b[32m✔\u001b[0m Container fuseki  \u001b[32mStarted\u001b[0m                                               \u001b[34m0.0s \u001b[0m\n",
      "\u001b[?25h"
     ]
    }
   ],
   "source": [
    "!docker compose up fuseki -d"
   ]
  }
 ],
 "metadata": {
  "kernelspec": {
   "display_name": "nmdc-runtime",
   "language": "python",
   "name": "nmdc-runtime"
  },
  "language_info": {
   "codemirror_mode": {
    "name": "ipython",
    "version": 3
   },
   "file_extension": ".py",
   "mimetype": "text/x-python",
   "name": "python",
   "nbconvert_exporter": "python",
   "pygments_lexer": "ipython3",
   "version": "3.10.12"
  }
 },
 "nbformat": 4,
 "nbformat_minor": 5
}
