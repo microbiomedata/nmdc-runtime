{
 "cells": [
  {
   "cell_type": "markdown",
   "id": "51ea05af-7579-43ad-aa9c-3bf8b6da8fdb",
   "metadata": {},
   "source": [
    "# Pipeline to transform the set of nmdc-schema-compliant mongodb collections to an RDF dataset amenable to SPARQL queries."
   ]
  },
  {
   "cell_type": "markdown",
   "id": "ae2673a5-560b-47b0-9608-656aa3854466",
   "metadata": {},
   "source": [
    "Ensure that changes to the code will be import-able in this notebook without needing restart the kernel and thus lose state."
   ]
  },
  {
   "cell_type": "code",
   "execution_count": 1,
   "id": "a362b42f-7ae0-40cf-91d4-8f19ca1087cf",
   "metadata": {},
   "outputs": [],
   "source": [
    "%load_ext autoreload\n",
    "%autoreload 2"
   ]
  },
  {
   "cell_type": "markdown",
   "id": "0b8b1fb7-2357-46ef-8d86-69cd1dce228d",
   "metadata": {},
   "source": [
    "Connect to local dockerized dev environment."
   ]
  },
  {
   "cell_type": "code",
   "execution_count": 2,
   "id": "55932d03-802f-4efe-bceb-e1036cd35567",
   "metadata": {},
   "outputs": [
    {
     "name": "stdout",
     "output_type": "stream",
     "text": [
      "MONGO_HOST=mongodb://localhost:27018\n"
     ]
    }
   ],
   "source": [
    "!env | grep MONGO_HOST"
   ]
  },
  {
   "cell_type": "markdown",
   "id": "3a146763-f03a-4d65-baa0-81ca15cba689",
   "metadata": {},
   "source": [
    "Initialize a db connection."
   ]
  },
  {
   "cell_type": "code",
   "execution_count": 4,
   "id": "bc72113f-5044-4646-a273-0692d2e650ea",
   "metadata": {},
   "outputs": [],
   "source": [
    "import os"
   ]
  },
  {
   "cell_type": "code",
   "execution_count": 5,
   "id": "edb1bb42-005c-49ca-ba59-18c24833f93f",
   "metadata": {},
   "outputs": [
    {
     "name": "stdout",
     "output_type": "stream",
     "text": [
      "mongodb://localhost:27018\n",
      "success\n"
     ]
    }
   ],
   "source": [
    "from nmdc_runtime.api.db.mongo import get_mongo_db\n",
    "print(os.getenv(\"MONGO_HOST\"))\n",
    "# start 12:23\n",
    "mdb = get_mongo_db()\n",
    "print(\"success\")"
   ]
  },
  {
   "cell_type": "code",
   "execution_count": null,
   "id": "114d9ffa-a22a-48de-9001-d04cbab175eb",
   "metadata": {},
   "outputs": [],
   "source": [
    "from unittest.mock import patch\n",
    "\n"
   ]
  },
  {
   "cell_type": "markdown",
   "id": "37dbc9a8-8cac-4798-8d4f-ccbd9c3560e9",
   "metadata": {},
   "source": [
    "Get all populated nmdc-schema collections with entity `id`s."
   ]
  },
  {
   "cell_type": "code",
   "execution_count": null,
   "id": "3a0dd489-74cc-47c4-b3e0-c97dd88f5b5f",
   "metadata": {},
   "outputs": [],
   "source": [
    "from nmdc_runtime.util import schema_collection_names_with_id_field\n",
    "\n",
    "populated_collections = sorted([\n",
    "    name for name in set(schema_collection_names_with_id_field()) & set(mdb.list_collection_names())\n",
    "    if mdb[name].estimated_document_count() > 0\n",
    "])"
   ]
  },
  {
   "cell_type": "markdown",
   "id": "f9a45de7-ba27-4b18-8ff4-9ba44eeb1091",
   "metadata": {},
   "source": [
    "Get a JSON-LD context for the NMDC Schema, to serialize documents to RDF."
   ]
  },
  {
   "cell_type": "code",
   "execution_count": null,
   "id": "9ed72826-b552-4429-8ab5-9f7126821822",
   "metadata": {
    "scrolled": true
   },
   "outputs": [],
   "source": [
    "import json\n",
    "from pprint import pprint\n",
    "\n",
    "from linkml.generators.jsonldcontextgen import ContextGenerator\n",
    "from nmdc_schema.nmdc_data import get_nmdc_schema_definition\n",
    "\n",
    "context = ContextGenerator(get_nmdc_schema_definition())\n",
    "context = json.loads(context.serialize())[\"@context\"]\n",
    "\n",
    "for k, v in list(context.items()):\n",
    "    if isinstance(v, dict): #and v.get(\"@type\") == \"@id\":\n",
    "        v.pop(\"@id\", None) # use nmdc uri, not e.g. MIXS uri"
   ]
  },
  {
   "cell_type": "markdown",
   "id": "0800c5b9-d09e-4be1-899d-62fcf40a2c0e",
   "metadata": {},
   "source": [
    "Ensure `nmdc:type` has a `URIRef` range, i.e. `nmdc:type a owl:ObjectProperty`."
   ]
  },
  {
   "cell_type": "code",
   "execution_count": null,
   "id": "62a68c07-0706-4300-a48d-0ab628af87b1",
   "metadata": {},
   "outputs": [],
   "source": [
    "context['type'] = {'@type': '@id'}"
   ]
  },
  {
   "cell_type": "markdown",
   "id": "63fe4d54-0a41-4170-9310-45e5f47a6cb5",
   "metadata": {},
   "source": [
    "Initialize an in-memory graph to store triples, prior to serializing to disk."
   ]
  },
  {
   "cell_type": "code",
   "execution_count": null,
   "id": "648b4f70-34d6-4c70-8d0a-ef76e7e5d96d",
   "metadata": {},
   "outputs": [],
   "source": [
    "from rdflib import Graph\n",
    "\n",
    "g = Graph()"
   ]
  },
  {
   "cell_type": "markdown",
   "id": "05cb8fd0-b847-49fc-a472-a8df2426168a",
   "metadata": {},
   "source": [
    "Define a helper function to speed up triplification process."
   ]
  },
  {
   "cell_type": "code",
   "execution_count": null,
   "id": "4d802017-2a7e-4614-b662-6a0cc027b8bc",
   "metadata": {},
   "outputs": [],
   "source": [
    "def split_chunk(seq, n: int):\n",
    "    \"\"\"\n",
    "    Split sequence into chunks of length n. Do not pad last chunk.\n",
    "    \n",
    "    >>> list(split_chunk(list(range(10)), 3))\n",
    "    [[0, 1, 2], [3, 4, 5], [6, 7, 8], [9]]\n",
    "    \"\"\"\n",
    "    for i in range(0, len(seq), n):\n",
    "        yield seq[i : i + n]"
   ]
  },
  {
   "cell_type": "markdown",
   "id": "dfd91d37-b1c7-46ab-b30d-de80132ec091",
   "metadata": {},
   "source": [
    "Use `rdflib` JSON-LD parsing to ingest mongo docs to in-memory graph."
   ]
  },
  {
   "cell_type": "code",
   "execution_count": null,
   "id": "86ff7261-e255-415d-a589-67637292dbdd",
   "metadata": {},
   "outputs": [],
   "source": [
    "from nmdc_runtime.util import collection_name_to_class_names\n",
    "\n",
    "def ensure_type(doc, collection_name):\n",
    "    if \"type\" in doc:\n",
    "        return doc\n",
    "\n",
    "    class_names = collection_name_to_class_names[collection_name]\n",
    "    if len(class_names) > 1:\n",
    "        raise Exception(\"cannot unambiguously infer class of document\")\n",
    "    return assoc(doc, \"type\", class_names[0])"
   ]
  },
  {
   "cell_type": "code",
   "execution_count": null,
   "id": "4251e0b1-35dc-4f40-91e7-b9bc0d9d79e1",
   "metadata": {},
   "outputs": [],
   "source": [
    "from toolz import assoc, dissoc\n",
    "from tqdm.notebook import tqdm\n",
    "\n",
    "chunk_size = 2_000\n",
    "total = sum((1 + mdb[name].estimated_document_count() // 2_000) for name in populated_collections)\n",
    "\n",
    "pbar = tqdm(total=total)\n",
    "\n",
    "for collection_name in populated_collections:\n",
    "    print(collection_name)\n",
    "    docs = [dissoc(doc, \"_id\") for doc in mdb[collection_name].find()]\n",
    "    chunks = list(split_chunk(docs, chunk_size))\n",
    "    for chunk in chunks:\n",
    "        typed_chunk = [ensure_type(doc, collection_name) for doc in chunk]\n",
    "        doc_jsonld = {\"@context\": context, \"@graph\": chunk}\n",
    "        g.parse(data=json.dumps(doc_jsonld), format='json-ld')\n",
    "        pbar.update(1)\n",
    "print(f\"{len(g):,} triples loaded\")"
   ]
  },
  {
   "cell_type": "markdown",
   "id": "7140ef42-f94c-45c5-a0c1-31b05718aa4f",
   "metadata": {},
   "source": [
    "Correct crazy URIs that end with newlines, which messes up graph serialization."
   ]
  },
  {
   "cell_type": "code",
   "execution_count": null,
   "id": "ba832848-2cc9-4d1d-bf5f-966a73e26658",
   "metadata": {},
   "outputs": [],
   "source": [
    "from rdflib import Namespace, RDF, Literal, URIRef\n",
    "\n",
    "NMDC = Namespace(\"https://w3id.org/nmdc/\")\n",
    "\n",
    "for s, p, o in tqdm(g, total=len(g)):\n",
    "    s_str = str(s)\n",
    "    if s_str.endswith(\"\\n\"):\n",
    "        s_str_fixed = str(s_str)[:-2]\n",
    "        g.remove((s,p,o))\n",
    "        g.add((URIRef(s_str_fixed), p,o))\n",
    "    if isinstance(o, URIRef):\n",
    "        o_str = str(o)\n",
    "        if o_str.endswith(\"\\n\"):\n",
    "            o_str_fixed = str(o_str)[:-2]\n",
    "            g.remove((s,p,o))\n",
    "            g.add((s, p, URIRef(o_str_fixed)))"
   ]
  },
  {
   "cell_type": "markdown",
   "id": "71893efc-8e19-465e-a33d-3fe6ee475e05",
   "metadata": {},
   "source": [
    "Given a schema-collection entity (i.e. one with an `id` and its own mongo document), we want to easily find all other schema-collection entities to which it connects, via any slot.\n",
    "\n",
    "To do this, we first gather all schema classes that are the type of a schema-collection entity, as well as these class' ancestors."
   ]
  },
  {
   "cell_type": "code",
   "execution_count": null,
   "id": "831cbf19-8331-4f2d-814c-89d86d060029",
   "metadata": {},
   "outputs": [],
   "source": [
    "from linkml_runtime.utils.schemaview import SchemaView\n",
    "\n",
    "from nmdc_runtime.util import nmdc_schema_view, nmdc_database_collection_instance_class_names\n",
    "\n",
    "schema_view = nmdc_schema_view()\n",
    "toplevel_classes = set()\n",
    "for name in nmdc_database_collection_instance_class_names():\n",
    "    toplevel_classes |= set(schema_view.class_ancestors(name))"
   ]
  },
  {
   "cell_type": "markdown",
   "id": "acdc7a8c-a104-4ac4-b105-0daeaba598a4",
   "metadata": {},
   "source": [
    "Next, we determine which slots have such a \"top-level\" class as its range."
   ]
  },
  {
   "cell_type": "code",
   "execution_count": null,
   "id": "d402b739-4ab8-4d93-b00f-76f677313c66",
   "metadata": {},
   "outputs": [],
   "source": [
    "slots = schema_view.all_slots()\n",
    "\n",
    "toplevel_entity_connectors = set()\n",
    "for k, v in context.items():\n",
    "    if isinstance(v, dict) and \"@type\" in v and v[\"@type\"] == \"@id\":\n",
    "        if slots[k].range in toplevel_classes and slots[k].domain != \"Database\":\n",
    "            toplevel_entity_connectors.add(k)\n",
    "print(toplevel_entity_connectors)"
   ]
  },
  {
   "cell_type": "markdown",
   "id": "40e58127-013e-40e2-a839-c9317e14c488",
   "metadata": {},
   "source": [
    "Let's construct an entity-relationship diagram to visualize relationships."
   ]
  },
  {
   "cell_type": "code",
   "execution_count": null,
   "id": "c99cdd8d-5fd2-44eb-9090-af6f51770fbd",
   "metadata": {
    "scrolled": true
   },
   "outputs": [],
   "source": [
    "# print(\"classDiagram\\n\")\n",
    "# for slot_name in toplevel_entity_connectors:\n",
    "#     slot = slots[slot_name]\n",
    "#     domain = slot.domain or \"NamedThing\"\n",
    "#     range = slot.range\n",
    "#     print(f\"{domain} --> {range} : {slot_name}\")\n",
    "\n",
    "# print()\n",
    "\n",
    "# inheritance_links = set()\n",
    "# for cls in toplevel_classes:\n",
    "#     ancestors = schema_view.class_ancestors(cls)\n",
    "#     for a in ancestors:\n",
    "#         if a != cls:\n",
    "#             inheritance_links.add(f\"{a} <|-- {cls}\")\n",
    "\n",
    "# for link in inheritance_links:\n",
    "#     print(link)"
   ]
  },
  {
   "cell_type": "markdown",
   "id": "63cb2cc8-ef99-4d5f-9ddf-9eb2949e9c06",
   "metadata": {},
   "source": [
    "Now, let's assert a common `depends_on` relation for all entities connected by these slots so that we can traverse the graph of top-level entities without needing to specify any specific slot names."
   ]
  },
  {
   "cell_type": "code",
   "execution_count": null,
   "id": "cc830d77-5ac2-482e-a4f9-dc2eed3f2ef9",
   "metadata": {},
   "outputs": [],
   "source": [
    "from rdflib import PROV\n",
    "\n",
    "for s, p, o in tqdm(g, total=len(g)):\n",
    "    if (connector := p.removeprefix(str(NMDC))) in toplevel_entity_connectors:\n",
    "        if connector == \"has_output\":\n",
    "            g.add((o, NMDC.depends_on, s))\n",
    "        else:\n",
    "            g.add((s, NMDC.depends_on, o))\n",
    "\n",
    "print(f\"{len(g):,} triples in total\")"
   ]
  },
  {
   "cell_type": "markdown",
   "id": "4b3dd01c-0f20-40c6-9066-793c9d33b901",
   "metadata": {},
   "source": [
    "Materialize superclass relations."
   ]
  },
  {
   "cell_type": "code",
   "execution_count": null,
   "id": "75db4baf-369b-47af-974b-f5298470ad7f",
   "metadata": {},
   "outputs": [],
   "source": [
    "schema_view = nmdc_schema_view()\n",
    "toplevel_classes = set()\n",
    "for name in nmdc_database_collection_instance_class_names():\n",
    "    toplevel_classes |= set(getattr(NMDC, a) for a in schema_view.class_ancestors(name))\n",
    "\n",
    "for s, p, o in tqdm(g, total=len(g)):\n",
    "    p_localname = p.removeprefix(str(NMDC))\n",
    "    if p_localname != \"type\":\n",
    "        continue\n",
    "    if o not in toplevel_classes:\n",
    "        continue\n",
    "    for a in schema_view.class_ancestors(o.removeprefix(str(NMDC))):\n",
    "        g.add((s, NMDC.type, getattr(NMDC,a)))"
   ]
  },
  {
   "cell_type": "code",
   "execution_count": null,
   "id": "067a53a9-9220-4ee2-bcce-12d6007dab47",
   "metadata": {},
   "outputs": [],
   "source": [
    "len([t for t in g.subjects(NMDC.type, NMDC.Activity)])"
   ]
  },
  {
   "cell_type": "markdown",
   "id": "91171cf6-f435-4815-970f-a67f51254997",
   "metadata": {},
   "source": [
    "Serialize and store as gzipped N-Triples file."
   ]
  },
  {
   "cell_type": "code",
   "execution_count": null,
   "id": "125d2ad4-8433-45d8-86c4-d6a619ea5280",
   "metadata": {},
   "outputs": [],
   "source": [
    "import gzip\n",
    "\n",
    "with gzip.open('data/nmdc-db.nt.gz', 'wb') as f:\n",
    "    f.write(g.serialize(format='nt').encode())"
   ]
  },
  {
   "cell_type": "markdown",
   "id": "c5d8c0a2-6f75-4dac-9bb9-ac48838ad2b8",
   "metadata": {},
   "source": [
    "Wipe any existing persisted data."
   ]
  },
  {
   "cell_type": "code",
   "execution_count": null,
   "id": "ea0bdeee-6b3a-4074-bd73-cc9424569346",
   "metadata": {},
   "outputs": [],
   "source": [
    "!docker compose up fuseki -d\n",
    "!docker exec fuseki rm -rf /fuseki-base/nmdc-db.tdb"
   ]
  },
  {
   "cell_type": "markdown",
   "id": "79284de7-ef52-47c6-aeb1-1453bd4b5f59",
   "metadata": {},
   "source": [
    "Ensure data is present to load."
   ]
  },
  {
   "cell_type": "code",
   "execution_count": null,
   "id": "9037026c-2653-43e3-bb92-2a0eea85b213",
   "metadata": {},
   "outputs": [],
   "source": [
    "!docker cp data/nmdc-db.nt.gz fuseki:/fuseki-base/"
   ]
  },
  {
   "cell_type": "markdown",
   "id": "4dca86f8-6752-4aba-8d3c-656810f3af3f",
   "metadata": {},
   "source": [
    "Take server down in order to bulk-load data."
   ]
  },
  {
   "cell_type": "code",
   "execution_count": null,
   "id": "16f0621c-cf98-4a27-9165-7a0a8711db77",
   "metadata": {},
   "outputs": [],
   "source": [
    "!docker compose down fuseki"
   ]
  },
  {
   "cell_type": "markdown",
   "id": "fa4f9843-d5c0-4f8d-bcaf-ad2cf50c0264",
   "metadata": {},
   "source": [
    "Bulk-load data."
   ]
  },
  {
   "cell_type": "code",
   "execution_count": null,
   "id": "a490caff-af8a-4537-8c0b-e4a4752645bc",
   "metadata": {
    "scrolled": true
   },
   "outputs": [],
   "source": [
    "!docker compose run fuseki ./apache-jena-4.9.0/bin/tdbloader --loc /fuseki-base/nmdc-db.tdb /fuseki-base/nmdc-db.nt.gz"
   ]
  },
  {
   "cell_type": "markdown",
   "id": "69d0e50c-102a-4a8e-9bcd-ef23600afd66",
   "metadata": {},
   "source": [
    "Start up server."
   ]
  },
  {
   "cell_type": "code",
   "execution_count": null,
   "id": "1a0bfb4b-e694-40b1-88af-4446e3fcc888",
   "metadata": {},
   "outputs": [],
   "source": [
    "!docker compose up fuseki -d"
   ]
  },
  {
   "cell_type": "markdown",
   "id": "8e528d6a-76b1-4629-82a1-58793ad6a481",
   "metadata": {},
   "source": [
    "Now go to <http://localhost:3030/#/dataset/nmdc/query> and SPARQL it up."
   ]
  },
  {
   "cell_type": "code",
   "execution_count": null,
   "id": "8695001d-9722-48a0-98e8-9ac5000551ea",
   "metadata": {},
   "outputs": [],
   "source": [
    "# 2024-03-14T09:40 : took <4min to run all the above."
   ]
  }
 ],
 "metadata": {
  "kernelspec": {
   "display_name": "Python 3 (ipykernel)",
   "language": "python",
   "name": "python3"
  },
  "language_info": {
   "codemirror_mode": {
    "name": "ipython",
    "version": 3
   },
   "file_extension": ".py",
   "mimetype": "text/x-python",
   "name": "python",
   "nbconvert_exporter": "python",
   "pygments_lexer": "ipython3",
   "version": "3.10.13"
  }
 },
 "nbformat": 4,
 "nbformat_minor": 5
}
