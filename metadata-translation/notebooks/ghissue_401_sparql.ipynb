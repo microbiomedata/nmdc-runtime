{
 "cells": [
  {
   "cell_type": "markdown",
   "id": "51ea05af-7579-43ad-aa9c-3bf8b6da8fdb",
   "metadata": {},
   "source": [
    "# Pipeline to transform the set of nmdc-schema-compliant mongodb collections to an RDF dataset amenable to SPARQL queries."
   ]
  },
  {
   "cell_type": "markdown",
   "id": "ae2673a5-560b-47b0-9608-656aa3854466",
   "metadata": {},
   "source": [
    "Ensure that changes to the code will be import-able in this notebook without needing restart the kernel and thus lose state."
   ]
  },
  {
   "cell_type": "code",
   "execution_count": 1,
   "id": "a362b42f-7ae0-40cf-91d4-8f19ca1087cf",
   "metadata": {},
   "outputs": [],
   "source": [
    "%load_ext autoreload\n",
    "%autoreload 2"
   ]
  },
  {
   "cell_type": "markdown",
   "id": "0b8b1fb7-2357-46ef-8d86-69cd1dce228d",
   "metadata": {},
   "source": [
    "Connect to local dockerized dev environment."
   ]
  },
  {
   "cell_type": "code",
   "execution_count": 2,
   "id": "55932d03-802f-4efe-bceb-e1036cd35567",
   "metadata": {},
   "outputs": [
    {
     "name": "stdout",
     "output_type": "stream",
     "text": [
      "MONGO_HOST=localhost:27018\n"
     ]
    }
   ],
   "source": [
    "!env | grep MONGO_HOST"
   ]
  },
  {
   "cell_type": "markdown",
   "id": "3a146763-f03a-4d65-baa0-81ca15cba689",
   "metadata": {},
   "source": [
    "Initialize a db connection."
   ]
  },
  {
   "cell_type": "code",
   "execution_count": 3,
   "id": "edb1bb42-005c-49ca-ba59-18c24833f93f",
   "metadata": {},
   "outputs": [],
   "source": [
    "from nmdc_runtime.api.db.mongo import get_mongo_db\n",
    "\n",
    "mdb = get_mongo_db()"
   ]
  },
  {
   "cell_type": "markdown",
   "id": "37dbc9a8-8cac-4798-8d4f-ccbd9c3560e9",
   "metadata": {},
   "source": [
    "Get all populated nmdc-schema collections with entity `id`s."
   ]
  },
  {
   "cell_type": "code",
   "execution_count": 4,
   "id": "3a0dd489-74cc-47c4-b3e0-c97dd88f5b5f",
   "metadata": {},
   "outputs": [],
   "source": [
    "from nmdc_runtime.util import schema_collection_names_with_id_field\n",
    "\n",
    "populated_collections = sorted([\n",
    "    name for name in set(schema_collection_names_with_id_field()) & set(mdb.list_collection_names())\n",
    "    if mdb[name].estimated_document_count() > 0\n",
    "])"
   ]
  },
  {
   "cell_type": "markdown",
   "id": "f9a45de7-ba27-4b18-8ff4-9ba44eeb1091",
   "metadata": {},
   "source": [
    "Get a JSON-LD context for the NMDC Schema, to serialize documents to RDF."
   ]
  },
  {
   "cell_type": "code",
   "execution_count": 5,
   "id": "9ed72826-b552-4429-8ab5-9f7126821822",
   "metadata": {
    "scrolled": true
   },
   "outputs": [],
   "source": [
    "import json\n",
    "from pprint import pprint\n",
    "\n",
    "from linkml.generators.jsonldcontextgen import ContextGenerator\n",
    "from nmdc_schema.nmdc_data import get_nmdc_schema_definition\n",
    "\n",
    "context = ContextGenerator(get_nmdc_schema_definition())\n",
    "context = json.loads(context.serialize())[\"@context\"]\n",
    "\n",
    "for k, v in list(context.items()):\n",
    "    if isinstance(v, dict): #and v.get(\"@type\") == \"@id\":\n",
    "        v.pop(\"@id\", None) # use nmdc uri, not e.g. MIXS uri"
   ]
  },
  {
   "cell_type": "markdown",
   "id": "0800c5b9-d09e-4be1-899d-62fcf40a2c0e",
   "metadata": {},
   "source": [
    "Ensure `nmdc:type` has a `URIRef` range, i.e. `nmdc:type a owl:ObjectProperty`."
   ]
  },
  {
   "cell_type": "code",
   "execution_count": 6,
   "id": "62a68c07-0706-4300-a48d-0ab628af87b1",
   "metadata": {},
   "outputs": [],
   "source": [
    "context['type'] = {'@type': '@id'}"
   ]
  },
  {
   "cell_type": "markdown",
   "id": "63fe4d54-0a41-4170-9310-45e5f47a6cb5",
   "metadata": {},
   "source": [
    "Initialize an in-memory graph to store triples, prior to serializing to disk."
   ]
  },
  {
   "cell_type": "code",
   "execution_count": 7,
   "id": "648b4f70-34d6-4c70-8d0a-ef76e7e5d96d",
   "metadata": {},
   "outputs": [],
   "source": [
    "from rdflib import Graph\n",
    "\n",
    "g = Graph()"
   ]
  },
  {
   "cell_type": "markdown",
   "id": "05cb8fd0-b847-49fc-a472-a8df2426168a",
   "metadata": {},
   "source": [
    "Define a helper function to speed up triplification process."
   ]
  },
  {
   "cell_type": "code",
   "execution_count": 8,
   "id": "4d802017-2a7e-4614-b662-6a0cc027b8bc",
   "metadata": {},
   "outputs": [],
   "source": [
    "def split_chunk(seq, n: int):\n",
    "    \"\"\"\n",
    "    Split sequence into chunks of length n. Do not pad last chunk.\n",
    "    \n",
    "    >>> list(split_chunk(list(range(10)), 3))\n",
    "    [[0, 1, 2], [3, 4, 5], [6, 7, 8], [9]]\n",
    "    \"\"\"\n",
    "    for i in range(0, len(seq), n):\n",
    "        yield seq[i : i + n]"
   ]
  },
  {
   "cell_type": "markdown",
   "id": "dfd91d37-b1c7-46ab-b30d-de80132ec091",
   "metadata": {},
   "source": [
    "Use `rdflib` JSON-LD parsing to ingest mongo docs to in-memory graph."
   ]
  },
  {
   "cell_type": "code",
   "execution_count": 9,
   "id": "86ff7261-e255-415d-a589-67637292dbdd",
   "metadata": {},
   "outputs": [],
   "source": [
    "from nmdc_runtime.util import collection_name_to_class_names\n",
    "\n",
    "def ensure_type(doc, collection_name):\n",
    "    if \"type\" in doc:\n",
    "        return doc\n",
    "\n",
    "    class_names = collection_name_to_class_names[collection_name]\n",
    "    if len(class_names) > 1:\n",
    "        raise Exception(\"cannot unambiguously infer class of document\")\n",
    "    return assoc(doc, \"type\", class_names[0])"
   ]
  },
  {
   "cell_type": "code",
   "execution_count": 10,
   "id": "4251e0b1-35dc-4f40-91e7-b9bc0d9d79e1",
   "metadata": {},
   "outputs": [
    {
     "data": {
      "application/vnd.jupyter.widget-view+json": {
       "model_id": "79f269c4f8d04911988befe5d85b0862",
       "version_major": 2,
       "version_minor": 0
      },
      "text/plain": [
       "  0%|          | 0/114 [00:00<?, ?it/s]"
      ]
     },
     "metadata": {},
     "output_type": "display_data"
    },
    {
     "name": "stdout",
     "output_type": "stream",
     "text": [
      "biosample_set\n",
      "data_object_set\n",
      "extraction_set\n",
      "field_research_site_set\n",
      "library_preparation_set\n",
      "mags_activity_set\n",
      "metabolomics_analysis_activity_set\n",
      "metagenome_annotation_activity_set\n",
      "metagenome_assembly_set\n",
      "metagenome_sequencing_activity_set\n",
      "metaproteomics_analysis_activity_set\n",
      "metatranscriptome_activity_set\n",
      "nom_analysis_activity_set\n",
      "omics_processing_set\n",
      "pooling_set\n",
      "processed_sample_set\n",
      "read_based_taxonomy_analysis_activity_set\n",
      "read_qc_analysis_activity_set\n",
      "study_set\n",
      "6,555,800 triples loaded\n"
     ]
    }
   ],
   "source": [
    "from toolz import assoc, dissoc\n",
    "from tqdm.notebook import tqdm\n",
    "\n",
    "chunk_size = 2_000\n",
    "total = sum((1 + mdb[name].estimated_document_count() // 2_000) for name in populated_collections)\n",
    "\n",
    "pbar = tqdm(total=total)\n",
    "\n",
    "for collection_name in populated_collections:\n",
    "    print(collection_name)\n",
    "    docs = [dissoc(doc, \"_id\") for doc in mdb[collection_name].find()]\n",
    "    chunks = list(split_chunk(docs, chunk_size))\n",
    "    for chunk in chunks:\n",
    "        typed_chunk = [ensure_type(doc, collection_name) for doc in chunk]\n",
    "        doc_jsonld = {\"@context\": context, \"@graph\": chunk}\n",
    "        g.parse(data=json.dumps(doc_jsonld), format='json-ld')\n",
    "        pbar.update(1)\n",
    "print(f\"{len(g):,} triples loaded\")"
   ]
  },
  {
   "cell_type": "markdown",
   "id": "7140ef42-f94c-45c5-a0c1-31b05718aa4f",
   "metadata": {},
   "source": [
    "Correct crazy URIs that end with newlines, which messes up graph serialization."
   ]
  },
  {
   "cell_type": "code",
   "execution_count": 16,
   "id": "ba832848-2cc9-4d1d-bf5f-966a73e26658",
   "metadata": {},
   "outputs": [
    {
     "data": {
      "application/vnd.jupyter.widget-view+json": {
       "model_id": "4faec0342a5e4bbf8006a2d482951031",
       "version_major": 2,
       "version_minor": 0
      },
      "text/plain": [
       "  0%|          | 0/6795354 [00:00<?, ?it/s]"
      ]
     },
     "metadata": {},
     "output_type": "display_data"
    }
   ],
   "source": [
    "from rdflib import Namespace, RDF, Literal, URIRef\n",
    "\n",
    "NMDC = Namespace(\"https://w3id.org/nmdc/\")\n",
    "\n",
    "for s, p, o in tqdm(g, total=len(g)):\n",
    "    s_str = str(s)\n",
    "    if s_str.endswith(\"\\n\"):\n",
    "        s_str_fixed = str(s_str)[:-2]\n",
    "        g.remove((s,p,o))\n",
    "        g.add((URIRef(s_str_fixed), p,o))\n",
    "    if isinstance(o, URIRef):\n",
    "        o_str = str(o)\n",
    "        if o_str.endswith(\"\\n\"):\n",
    "            o_str_fixed = str(o_str)[:-2]\n",
    "            g.remove((s,p,o))\n",
    "            g.add((s, p, URIRef(o_str_fixed)))"
   ]
  },
  {
   "cell_type": "markdown",
   "id": "71893efc-8e19-465e-a33d-3fe6ee475e05",
   "metadata": {},
   "source": [
    "Given a schema-collection entity (i.e. one with an `id` and its own mongo document), we want to easily find all other schema-collection entities to which it connects, via any slot.\n",
    "\n",
    "To do this, we first gather all schema classes that are the type of a schema-collection entity, as well as these class' ancestors."
   ]
  },
  {
   "cell_type": "code",
   "execution_count": 17,
   "id": "831cbf19-8331-4f2d-814c-89d86d060029",
   "metadata": {},
   "outputs": [],
   "source": [
    "from linkml_runtime.utils.schemaview import SchemaView\n",
    "\n",
    "from nmdc_runtime.util import nmdc_schema_view, nmdc_database_collection_instance_class_names\n",
    "\n",
    "schema_view = nmdc_schema_view()\n",
    "toplevel_classes = set()\n",
    "for name in nmdc_database_collection_instance_class_names():\n",
    "    toplevel_classes |= set(schema_view.class_ancestors(name))"
   ]
  },
  {
   "cell_type": "markdown",
   "id": "acdc7a8c-a104-4ac4-b105-0daeaba598a4",
   "metadata": {},
   "source": [
    "Next, we determine which slots have such a \"top-level\" class as its range."
   ]
  },
  {
   "cell_type": "code",
   "execution_count": 18,
   "id": "d402b739-4ab8-4d93-b00f-76f677313c66",
   "metadata": {},
   "outputs": [
    {
     "name": "stdout",
     "output_type": "stream",
     "text": [
      "{'was_informed_by', 'was_generated_by', 'metagenome_annotation_id', 'has_input', 'has_output', 'collected_from', 'part_of'}\n"
     ]
    }
   ],
   "source": [
    "slots = schema_view.all_slots()\n",
    "\n",
    "toplevel_entity_connectors = set()\n",
    "for k, v in context.items():\n",
    "    if isinstance(v, dict) and \"@type\" in v and v[\"@type\"] == \"@id\":\n",
    "        if slots[k].range in toplevel_classes and slots[k].domain != \"Database\":\n",
    "            toplevel_entity_connectors.add(k)\n",
    "print(toplevel_entity_connectors)"
   ]
  },
  {
   "cell_type": "markdown",
   "id": "40e58127-013e-40e2-a839-c9317e14c488",
   "metadata": {},
   "source": [
    "Let's construct an entity-relationship diagram to visualize relationships."
   ]
  },
  {
   "cell_type": "code",
   "execution_count": 19,
   "id": "c99cdd8d-5fd2-44eb-9090-af6f51770fbd",
   "metadata": {
    "scrolled": true
   },
   "outputs": [],
   "source": [
    "# print(\"classDiagram\\n\")\n",
    "# for slot_name in toplevel_entity_connectors:\n",
    "#     slot = slots[slot_name]\n",
    "#     domain = slot.domain or \"NamedThing\"\n",
    "#     range = slot.range\n",
    "#     print(f\"{domain} --> {range} : {slot_name}\")\n",
    "\n",
    "# print()\n",
    "\n",
    "# inheritance_links = set()\n",
    "# for cls in toplevel_classes:\n",
    "#     ancestors = schema_view.class_ancestors(cls)\n",
    "#     for a in ancestors:\n",
    "#         if a != cls:\n",
    "#             inheritance_links.add(f\"{a} <|-- {cls}\")\n",
    "\n",
    "# for link in inheritance_links:\n",
    "#     print(link)"
   ]
  },
  {
   "cell_type": "markdown",
   "id": "63cb2cc8-ef99-4d5f-9ddf-9eb2949e9c06",
   "metadata": {},
   "source": [
    "Now, let's assert a common `depends_on` relation for all entities connected by these slots so that we can traverse the graph of top-level entities without needing to specify any specific slot names."
   ]
  },
  {
   "cell_type": "code",
   "execution_count": 20,
   "id": "cc830d77-5ac2-482e-a4f9-dc2eed3f2ef9",
   "metadata": {},
   "outputs": [
    {
     "data": {
      "application/vnd.jupyter.widget-view+json": {
       "model_id": "96a43219b33246d6a74f7add4f057206",
       "version_major": 2,
       "version_minor": 0
      },
      "text/plain": [
       "  0%|          | 0/6795354 [00:00<?, ?it/s]"
      ]
     },
     "metadata": {},
     "output_type": "display_data"
    },
    {
     "name": "stdout",
     "output_type": "stream",
     "text": [
      "6,795,354 triples in total\n"
     ]
    }
   ],
   "source": [
    "from rdflib import PROV\n",
    "\n",
    "for s, p, o in tqdm(g, total=len(g)):\n",
    "    if (connector := p.removeprefix(str(NMDC))) in toplevel_entity_connectors:\n",
    "        if connector == \"has_output\":\n",
    "            g.add((o, NMDC.depends_on, s))\n",
    "        else:\n",
    "            g.add((s, NMDC.depends_on, o))\n",
    "\n",
    "print(f\"{len(g):,} triples in total\")"
   ]
  },
  {
   "cell_type": "markdown",
   "id": "4b3dd01c-0f20-40c6-9066-793c9d33b901",
   "metadata": {},
   "source": [
    "Materialize superclass relations."
   ]
  },
  {
   "cell_type": "code",
   "execution_count": 22,
   "id": "75db4baf-369b-47af-974b-f5298470ad7f",
   "metadata": {},
   "outputs": [
    {
     "data": {
      "application/vnd.jupyter.widget-view+json": {
       "model_id": "ac7a529a99684c9c9df0917c252877b0",
       "version_major": 2,
       "version_minor": 0
      },
      "text/plain": [
       "  0%|          | 0/6991623 [00:00<?, ?it/s]"
      ]
     },
     "metadata": {},
     "output_type": "display_data"
    }
   ],
   "source": [
    "schema_view = nmdc_schema_view()\n",
    "toplevel_classes = set()\n",
    "for name in nmdc_database_collection_instance_class_names():\n",
    "    toplevel_classes |= set(getattr(NMDC, a) for a in schema_view.class_ancestors(name))\n",
    "\n",
    "for s, p, o in tqdm(g, total=len(g)):\n",
    "    p_localname = p.removeprefix(str(NMDC))\n",
    "    if p_localname != \"type\":\n",
    "        continue\n",
    "    if o not in toplevel_classes:\n",
    "        continue\n",
    "    for a in schema_view.class_ancestors(o.removeprefix(str(NMDC))):\n",
    "        g.add((s, NMDC.type, getattr(NMDC,a)))"
   ]
  },
  {
   "cell_type": "code",
   "execution_count": 31,
   "id": "067a53a9-9220-4ee2-bcce-12d6007dab47",
   "metadata": {},
   "outputs": [
    {
     "data": {
      "text/plain": [
       "13183"
      ]
     },
     "execution_count": 31,
     "metadata": {},
     "output_type": "execute_result"
    }
   ],
   "source": [
    "len([t for t in g.subjects(NMDC.type, NMDC.Activity)])"
   ]
  },
  {
   "cell_type": "markdown",
   "id": "91171cf6-f435-4815-970f-a67f51254997",
   "metadata": {},
   "source": [
    "Serialize and store as gzipped N-Triples file."
   ]
  },
  {
   "cell_type": "code",
   "execution_count": 37,
   "id": "125d2ad4-8433-45d8-86c4-d6a619ea5280",
   "metadata": {},
   "outputs": [],
   "source": [
    "import gzip\n",
    "\n",
    "with gzip.open('data/nmdc-db.nt.gz', 'wb') as f:\n",
    "    f.write(g.serialize(format='nt').encode())"
   ]
  },
  {
   "cell_type": "markdown",
   "id": "c5d8c0a2-6f75-4dac-9bb9-ac48838ad2b8",
   "metadata": {},
   "source": [
    "Wipe any existing persisted data."
   ]
  },
  {
   "cell_type": "code",
   "execution_count": 38,
   "id": "ea0bdeee-6b3a-4074-bd73-cc9424569346",
   "metadata": {},
   "outputs": [
    {
     "name": "stdout",
     "output_type": "stream",
     "text": [
      "\u001b[1A\u001b[1B\u001b[0G\u001b[?25l[+] Running 1/0\n",
      " \u001b[32m✔\u001b[0m Container fuseki  \u001b[32mRunning\u001b[0m                                               \u001b[34m0.0s \u001b[0m\n",
      "\u001b[?25h"
     ]
    }
   ],
   "source": [
    "!docker compose up fuseki -d\n",
    "!docker exec fuseki rm -rf /fuseki-base/nmdc-db.tdb"
   ]
  },
  {
   "cell_type": "markdown",
   "id": "79284de7-ef52-47c6-aeb1-1453bd4b5f59",
   "metadata": {},
   "source": [
    "Ensure data is present to load."
   ]
  },
  {
   "cell_type": "code",
   "execution_count": 39,
   "id": "9037026c-2653-43e3-bb92-2a0eea85b213",
   "metadata": {},
   "outputs": [
    {
     "name": "stdout",
     "output_type": "stream",
     "text": [
      "\u001b[sPreparing to copy...\u001b[?25l\u001b[u\u001b[2KCopying to container - 0B\u001b[24G\u001b[0K5.54MB\u001b[24G\u001b[0K19.5MB\u001b[24G\u001b[0K33.8MB\u001b[24G\u001b[0K47.7MB\u001b[24G\u001b[0K62.4MB\u001b[24G\u001b[0K77.3MB\u001b[24G\u001b[0K92.7MB\u001b[24G\u001b[0K108MB\u001b[24G\u001b[0K124MB\u001b[24G\u001b[0K140MB\u001b[24G\u001b[0K156MB\u001b[24G\u001b[0K172MB\u001b[24G\u001b[0K190MB\u001b[24G\u001b[0K205MB\u001b[?25h\u001b[u\u001b[2KSuccessfully copied 212MB to fuseki:/fuseki-base/\n"
     ]
    }
   ],
   "source": [
    "!docker cp data/nmdc-db.nt.gz fuseki:/fuseki-base/"
   ]
  },
  {
   "cell_type": "markdown",
   "id": "4dca86f8-6752-4aba-8d3c-656810f3af3f",
   "metadata": {},
   "source": [
    "Take server down in order to bulk-load data."
   ]
  },
  {
   "cell_type": "code",
   "execution_count": 40,
   "id": "16f0621c-cf98-4a27-9165-7a0a8711db77",
   "metadata": {},
   "outputs": [
    {
     "name": "stdout",
     "output_type": "stream",
     "text": [
      "\u001b[1A\u001b[1B\u001b[0G\u001b[?25l[+] Running 0/0\n",
      " ⠋ Container fuseki  Stopping                                              \u001b[34m0.1s \u001b[0m\n",
      "\u001b[?25h\u001b[1A\u001b[1A\u001b[0G\u001b[?25l[+] Running 0/1\n",
      " ⠙ Container fuseki  Stopping                                              \u001b[34m0.2s \u001b[0m\n",
      "\u001b[?25h\u001b[1A\u001b[1A\u001b[0G\u001b[?25l[+] Running 0/1\n",
      " ⠹ Container fuseki  Stopping                                              \u001b[34m0.3s \u001b[0m\n",
      "\u001b[?25h\u001b[1A\u001b[1A\u001b[0G\u001b[?25l[+] Running 0/1\n",
      " ⠸ Container fuseki  Stopping                                              \u001b[34m0.4s \u001b[0m\n",
      "\u001b[?25h\u001b[1A\u001b[1A\u001b[0G\u001b[?25l[+] Running 0/1\n",
      " ⠼ Container fuseki  Stopping                                              \u001b[34m0.5s \u001b[0m\n",
      "\u001b[?25h\u001b[1A\u001b[1A\u001b[0G\u001b[?25l[+] Running 0/1\n",
      " ⠴ Container fuseki  Stopping                                              \u001b[34m0.6s \u001b[0m\n",
      "\u001b[?25h\u001b[1A\u001b[1A\u001b[0G\u001b[?25l[+] Running 0/1\n",
      " ⠦ Container fuseki  Stopping                                              \u001b[34m0.7s \u001b[0m\n",
      "\u001b[?25h\u001b[1A\u001b[1A\u001b[0G\u001b[?25l[+] Running 2/1\n",
      " \u001b[32m✔\u001b[0m Container fuseki              \u001b[32mRemoved\u001b[0m                                   \u001b[34m0.7s \u001b[0m\n",
      " \u001b[33m\u001b[1m!\u001b[0m Network nmdc-runtime_default  \u001b[33m\u001b[1mResourc...\u001b[0m                                \u001b[34m0.0s \u001b[0m\n",
      "\u001b[?25h"
     ]
    }
   ],
   "source": [
    "!docker compose down fuseki"
   ]
  },
  {
   "cell_type": "markdown",
   "id": "fa4f9843-d5c0-4f8d-bcaf-ad2cf50c0264",
   "metadata": {},
   "source": [
    "Bulk-load data."
   ]
  },
  {
   "cell_type": "code",
   "execution_count": 41,
   "id": "a490caff-af8a-4537-8c0b-e4a4752645bc",
   "metadata": {
    "scrolled": true
   },
   "outputs": [
    {
     "name": "stdout",
     "output_type": "stream",
     "text": [
      "14:00:20 INFO  loader          :: -- Start triples data phase\n",
      "14:00:20 INFO  loader          :: ** Load empty triples table\n",
      "14:00:20 INFO  loader          :: -- Start quads data phase\n",
      "14:00:20 INFO  loader          :: ** Load empty quads table\n",
      "14:00:20 INFO  loader          :: Load: /fuseki-base/nmdc-db.nt.gz -- 2024/03/14 14:00:20 UTC\n",
      "14:00:21 WARN  riot            :: [line: 29434, col: 92] Bad IRI: Not a valid UUID string: uuid:DELA-CB-T-13ba6115-12fc-47cc-8cb0-ebf65e1d23d1\n",
      "14:00:22 WARN  riot            :: [line: 86977, col: 92] Bad IRI: Not a valid UUID string: uuid:TEAK-CB-T-0d2245d4-c6da-4723-95be-ca5aefe607de\n",
      "14:00:22 INFO  loader          :: Add: 100,000 triples (Batch: 76,219 / Avg: 76,219)\n",
      "14:00:22 WARN  riot            :: [line: 130251, col: 92] Bad IRI: Not a valid UUID string: uuid:CSF2-CB-T-6d29d97e-b8d7-4844-a8c3-cc181f4c9909\n",
      "14:00:22 INFO  loader          :: Add: 200,000 triples (Batch: 130,718 / Avg: 96,292)\n",
      "14:00:23 INFO  loader          :: Add: 300,000 triples (Batch: 149,253 / Avg: 109,210)\n",
      "14:00:24 WARN  riot            :: [line: 379426, col: 92] Bad IRI: Not a valid UUID string: uuid:UT19-CB-B-7641dbf9-c478-4252-b2ef-dc6fc4c2baf7\n",
      "14:00:24 INFO  loader          :: Add: 400,000 triples (Batch: 142,247 / Avg: 115,942)\n",
      "14:00:24 WARN  riot            :: [line: 405624, col: 92] Bad IRI: Not a valid UUID string: uuid:WREF-CB-T-b7c5dd99-510e-403a-a79e-d45e0af78fb3\n",
      "14:00:24 WARN  riot            :: [line: 419433, col: 92] Bad IRI: Not a valid UUID string: uuid:NOGP-CB-T-8efdeada-35cc-48e2-a3d2-ea0ac76b142b\n",
      "14:00:24 WARN  riot            :: [line: 455259, col: 92] Bad IRI: Not a valid UUID string: uuid:JERC-CB-B-cfba0afb-7a48-4edc-93f8-1e89b3025c3d\n",
      "14:00:25 INFO  loader          :: Add: 500,000 triples (Batch: 141,643 / Avg: 120,307)\n",
      "14:00:25 WARN  riot            :: [line: 529239, col: 92] Bad IRI: Not a valid UUID string: uuid:ORNL-CB-T-349b5bdb-2a1b-4e74-aa7f-a5c973c1d12c\n",
      "14:00:25 INFO  loader          :: Add: 600,000 triples (Batch: 136,425 / Avg: 122,724)\n",
      "14:00:26 WARN  riot            :: [line: 634277, col: 92] Bad IRI: Not a valid UUID string: uuid:CSF1-CB-B-1171add7-ad79-4c39-9e8f-977fdf0fc9e8\n",
      "14:00:26 INFO  loader          :: Add: 700,000 triples (Batch: 131,406 / Avg: 123,893)\n",
      "14:00:26 WARN  riot            :: [line: 728514, col: 92] Bad IRI: Not a valid UUID string: uuid:OCTU-CB-T-9991b6ee-c1d0-4a65-b20e-43bafd3fa050\n",
      "14:00:27 INFO  loader          :: Add: 800,000 triples (Batch: 130,208 / Avg: 124,649)\n",
      "14:00:27 WARN  riot            :: [line: 804889, col: 92] Bad IRI: Not a valid UUID string: uuid:BLAN-CB-B-a59c1a9c-e301-4f88-aff4-cf8f072d9cbc\n",
      "14:00:27 WARN  riot            :: [line: 883370, col: 92] Bad IRI: Not a valid UUID string: uuid:UT12-CB-T-97b626b3-a280-4e40-8212-282db79cbc69\n",
      "14:00:28 INFO  loader          :: Add: 900,000 triples (Batch: 138,312 / Avg: 126,032)\n",
      "14:00:28 WARN  riot            :: [line: 910406, col: 92] Bad IRI: Not a valid UUID string: uuid:TALL-CB-T-b47d748c-de50-4d2b-8bb3-85bcc20a231b\n",
      "14:00:28 WARN  riot            :: [line: 949977, col: 92] Bad IRI: Not a valid UUID string: uuid:UT23-CB-T-c70411c3-0a2f-43ae-a58d-204fb8c48c46\n",
      "14:00:28 INFO  loader          :: Add: 1,000,000 triples (Batch: 146,412 / Avg: 127,811)\n",
      "14:00:28 INFO  loader          ::   Elapsed: 7.83 seconds [2024/03/14 14:00:28 UTC]\n",
      "14:00:28 WARN  riot            :: [line: 1007405, col: 92] Bad IRI: Not a valid UUID string: uuid:PHTU-CB-T-3c3d8153-072e-4f66-b7f8-a7c2f9fed5df\n",
      "14:00:28 WARN  riot            :: [line: 1011304, col: 92] Bad IRI: Not a valid UUID string: uuid:NWBB-CB-T-3af18d1b-014b-4e70-8d96-6920244ddb79\n",
      "14:00:29 WARN  riot            :: [line: 1089771, col: 92] Bad IRI: Not a valid UUID string: uuid:WSU2-CB-T-f0728f3d-65c8-4075-9d17-47ce2e1de63c\n",
      "14:00:29 INFO  loader          :: Add: 1,100,000 triples (Batch: 138,504 / Avg: 128,715)\n",
      "14:00:29 WARN  riot            :: [line: 1124604, col: 92] Bad IRI: Not a valid UUID string: uuid:SRR1-CB-B-c7d1d4e9-aa53-4c64-88c7-8f8ed276a613\n",
      "14:00:30 INFO  loader          :: Add: 1,200,000 triples (Batch: 142,450 / Avg: 129,757)\n",
      "14:00:30 WARN  riot            :: [line: 1231739, col: 92] Bad IRI: Not a valid UUID string: uuid:OCTU-CB-B-c486e8fb-c960-4f2a-97a7-9bb87a1c7147\n",
      "14:00:30 INFO  loader          :: Add: 1,300,000 triples (Batch: 137,551 / Avg: 130,325)\n",
      "14:00:31 INFO  loader          :: Add: 1,400,000 triples (Batch: 140,056 / Avg: 130,975)\n",
      "14:00:32 WARN  riot            :: [line: 1482192, col: 92] Bad IRI: Not a valid UUID string: uuid:JERC-CB-T-f3a0b7b4-b141-4080-9d42-394e5ba1c35c\n",
      "14:00:32 INFO  loader          :: Add: 1,500,000 triples (Batch: 136,986 / Avg: 131,360)\n",
      "14:00:32 WARN  riot            :: [line: 1517367, col: 92] Bad IRI: Not a valid UUID string: uuid:WSU1-CB-T-90f166a5-20ce-4c9b-b4a4-4a587395ffae\n",
      "14:00:33 WARN  riot            :: [line: 1596102, col: 92] Bad IRI: Not a valid UUID string: uuid:KONA-CB-B-504c5931-f7cf-47aa-a2c0-ce90bcb3a0e3\n",
      "14:00:33 INFO  loader          :: Add: 1,600,000 triples (Batch: 140,252 / Avg: 131,882)\n",
      "14:00:33 WARN  riot            :: [line: 1679348, col: 92] Bad IRI: Not a valid UUID string: uuid:NOGP-CB-B-c51d20a5-51d1-4b16-92cc-d885700656c3\n",
      "14:00:33 INFO  loader          :: Add: 1,700,000 triples (Batch: 131,406 / Avg: 131,854)\n",
      "14:00:33 WARN  riot            :: [line: 1716151, col: 92] Bad IRI: Not a valid UUID string: uuid:WY09-CB-T-40d5b98a-b736-4509-9f9f-24d39a3e338b\n",
      "14:00:34 INFO  loader          :: Add: 1,800,000 triples (Batch: 131,406 / Avg: 131,829)\n",
      "14:00:35 WARN  riot            :: [line: 1881675, col: 92] Bad IRI: Not a valid UUID string: uuid:KONZ-CB-T-e70befb2-f3a7-4cd7-afac-ef817885fe44\n",
      "14:00:35 INFO  loader          :: Add: 1,900,000 triples (Batch: 131,578 / Avg: 131,816)\n",
      "14:00:35 WARN  riot            :: [line: 1902966, col: 92] Bad IRI: Not a valid UUID string: uuid:STEI-CB-T-73e26647-1f1e-43cc-84b0-2fd658886f7d\n",
      "14:00:35 WARN  riot            :: [line: 1924282, col: 92] Bad IRI: Not a valid UUID string: uuid:JORN-CB-T-ec1b45a6-c27d-4fb2-8d1f-2b1978300df0\n",
      "14:00:35 WARN  riot            :: [line: 1939427, col: 92] Bad IRI: Not a valid UUID string: uuid:DSNY-CB-T-16477917-d489-45ca-a926-5acc7eaca071\n",
      "14:00:35 WARN  riot            :: [line: 1962768, col: 92] Bad IRI: Not a valid UUID string: uuid:WY10-CB-T-b6ac5210-79d5-4142-8756-4babab75fca0\n",
      "14:00:36 INFO  loader          :: Add: 2,000,000 triples (Batch: 144,717 / Avg: 132,406)\n",
      "14:00:36 INFO  loader          ::   Elapsed: 15.11 seconds [2024/03/14 14:00:36 UTC]\n",
      "14:00:36 WARN  riot            :: [line: 2057907, col: 92] Bad IRI: Not a valid UUID string: uuid:WLUP-CB-B-24cc2fd3-3d49-4d66-9edb-08cc7fce1450\n",
      "14:00:36 WARN  riot            :: [line: 2060786, col: 92] Bad IRI: Not a valid UUID string: uuid:KONZ-CB-B-ea6e2ff0-c546-49dd-9f72-c762a6db55cb\n",
      "14:00:36 INFO  loader          :: Add: 2,100,000 triples (Batch: 135,317 / Avg: 132,542)\n",
      "14:00:36 WARN  riot            :: [line: 2123325, col: 92] Bad IRI: Not a valid UUID string: uuid:ISNC-CB-T-4eb8355f-18a1-4efc-8524-506e64f0937d\n",
      "14:00:36 WARN  riot            :: [line: 2127985, col: 92] Bad IRI: Not a valid UUID string: uuid:PSR2-CB-T-177b015d-e006-4aca-977d-c9c118f6ec69\n",
      "14:00:37 WARN  riot            :: [line: 2162561, col: 92] Bad IRI: Not a valid UUID string: uuid:OKPF-CB-B-d7417aa2-8ef2-4dfe-a655-4c535ec5a5b3\n",
      "14:00:37 WARN  riot            :: [line: 2190360, col: 92] Bad IRI: Not a valid UUID string: uuid:HARV-CB-T-a1fbe98a-a761-4a91-b8fc-67c4e0d5d292\n",
      "14:00:37 INFO  loader          :: Add: 2,200,000 triples (Batch: 130,890 / Avg: 132,466)\n",
      "14:00:38 INFO  loader          :: Add: 2,300,000 triples (Batch: 130,208 / Avg: 132,366)\n",
      "14:00:38 WARN  riot            :: [line: 2330079, col: 92] Bad IRI: Not a valid UUID string: uuid:WY01-CB-B-1db0d919-0432-46d3-8835-8c2ec8cf4132\n",
      "14:00:39 INFO  loader          :: Add: 2,400,000 triples (Batch: 136,425 / Avg: 132,530)\n",
      "14:00:39 WARN  riot            :: [line: 2402638, col: 92] Bad IRI: Not a valid UUID string: uuid:OCTB-CB-B-40166778-406d-4f49-bcad-4555c3e038a8\n",
      "14:00:39 INFO  loader          :: Add: 2,500,000 triples (Batch: 128,040 / Avg: 132,345)\n",
      "14:00:40 WARN  riot            :: [line: 2582320, col: 92] Bad IRI: Not a valid UUID string: uuid:JORN-CB-B-a2dfa872-c0d4-49fe-a752-f24be601c13a\n",
      "14:00:40 INFO  loader          :: Add: 2,600,000 triples (Batch: 128,205 / Avg: 132,180)\n",
      "14:00:40 WARN  riot            :: [line: 2647477, col: 92] Bad IRI: Not a valid UUID string: uuid:WSU3-CB-B-c248f426-b677-44df-919e-a9bd18e6fa7b\n",
      "14:00:41 WARN  riot            :: [line: 2691875, col: 92] Bad IRI: Not a valid UUID string: uuid:PSR1-CB-B-60b61105-073e-4d04-b3dc-452479bbae4b\n",
      "14:00:41 INFO  loader          :: Add: 2,700,000 triples (Batch: 136,612 / Avg: 132,339)\n",
      "14:00:41 WARN  riot            :: [line: 2725698, col: 92] Bad IRI: Not a valid UUID string: uuid:SJER-CB-B-e7d303b7-60ac-426c-a2ad-4216273b3d4a\n",
      "14:00:42 INFO  loader          :: Add: 2,800,000 triples (Batch: 128,205 / Avg: 132,187)\n",
      "14:00:42 INFO  loader          :: Add: 2,900,000 triples (Batch: 130,718 / Avg: 132,136)\n",
      "14:00:43 WARN  riot            :: [line: 2976196, col: 92] Bad IRI: Not a valid UUID string: uuid:CPER-CB-B-22f145ec-fb3a-4b6e-bc1d-8de45d79b5a1\n",
      "14:00:43 WARN  riot            :: [line: 2983952, col: 92] Bad IRI: Not a valid UUID string: uuid:NWBA-CB-B-1bfcbda1-368e-4963-b502-698284f44440\n",
      "14:00:43 WARN  riot            :: [line: 2986515, col: 92] Bad IRI: Not a valid UUID string: uuid:STEI-CB-B-d3aa5d85-ac22-4dfb-9133-8b10ee3aaa09\n",
      "14:00:43 INFO  loader          :: Add: 3,000,000 triples (Batch: 142,247 / Avg: 132,450)\n",
      "14:00:43 INFO  loader          ::   Elapsed: 22.65 seconds [2024/03/14 14:00:43 UTC]\n",
      "14:00:43 WARN  riot            :: [line: 3027910, col: 92] Bad IRI: Not a valid UUID string: uuid:PSR1-CB-T-b15f1f00-c26a-47d1-969f-91faf5944d58\n",
      "14:00:44 INFO  loader          :: Add: 3,100,000 triples (Batch: 148,588 / Avg: 132,916)\n",
      "14:00:44 WARN  riot            :: [line: 3133348, col: 92] Bad IRI: Not a valid UUID string: uuid:RMNP-CB-B-f0507935-ba93-42db-9f27-9383e7932ac3\n",
      "14:00:44 WARN  riot            :: [line: 3145906, col: 92] Bad IRI: Not a valid UUID string: uuid:UT32-CB-T-38e515a2-ddec-41e0-be29-4fce953451fa\n",
      "14:00:44 INFO  loader          :: Add: 3,200,000 triples (Batch: 140,449 / Avg: 133,139)\n",
      "14:00:45 WARN  riot            :: [line: 3259737, col: 92] Bad IRI: Not a valid UUID string: uuid:TREE-CB-B-f5b3d5de-f4d5-4e09-94e5-cdd343d22787\n",
      "14:00:45 WARN  riot            :: [line: 3280917, col: 92] Bad IRI: Not a valid UUID string: uuid:UT23-CB-B-e76880f1-deec-4076-9e1a-1377fd94849a\n",
      "14:00:45 WARN  riot            :: [line: 3298996, col: 92] Bad IRI: Not a valid UUID string: uuid:OKPF-CB-T-08bb4fcb-2668-4d6f-a7eb-8f76a862abaf\n",
      "14:00:45 INFO  loader          :: Add: 3,300,000 triples (Batch: 140,056 / Avg: 133,338)\n",
      "14:00:45 WARN  riot            :: [line: 3307274, col: 92] Bad IRI: Not a valid UUID string: uuid:WREF-CB-B-36d4dd11-2249-4825-b781-2feb79da2c29\n",
      "14:00:45 WARN  riot            :: [line: 3338884, col: 92] Bad IRI: Not a valid UUID string: uuid:ONAQ-CB-B-d38e0cda-aca4-4bfa-848b-c7f8ad2cc65f\n",
      "14:00:45 WARN  riot            :: [line: 3348085, col: 92] Bad IRI: Not a valid UUID string: uuid:CLBJ-CB-B-dfc9535a-74f1-44dd-8aad-996b1fa20111\n",
      "14:00:46 WARN  riot            :: [line: 3385267, col: 92] Bad IRI: Not a valid UUID string: uuid:NWBC-CB-B-06fd881f-fe3c-43f0-8f75-1fda0772ed35\n",
      "14:00:46 INFO  loader          :: Add: 3,400,000 triples (Batch: 145,348 / Avg: 133,663)\n",
      "14:00:46 WARN  riot            :: [line: 3409205, col: 92] Bad IRI: Not a valid UUID string: uuid:ISCC-CB-B-e95d2dcd-dd4f-42b7-9345-730dbfc2aa53\n",
      "14:00:46 WARN  riot            :: [line: 3413117, col: 92] Bad IRI: Not a valid UUID string: uuid:NIWO-CB-B-56096a54-0d7a-4838-9a98-0d68d8d73e0e\n",
      "14:00:46 WARN  riot            :: [line: 3428116, col: 92] Bad IRI: Not a valid UUID string: uuid:SRR1-CB-T-be47ce48-f9bc-4898-8b81-199ace9dc65f\n",
      "14:00:46 WARN  riot            :: [line: 3431580, col: 92] Bad IRI: Not a valid UUID string: uuid:WSU1-CB-B-19e2cefa-49f2-499b-841d-33cc7ed8e6a7\n",
      "14:00:46 WARN  riot            :: [line: 3487475, col: 92] Bad IRI: Not a valid UUID string: uuid:WY10-CB-B-87bbe689-217d-48d9-b6c0-7d4bf8f3540b\n",
      "14:00:47 WARN  riot            :: [line: 3494953, col: 92] Bad IRI: Not a valid UUID string: uuid:SJER-CB-T-3b94b737-8ae6-452a-a916-4bac93f7a750\n",
      "14:00:47 INFO  loader          :: Add: 3,500,000 triples (Batch: 138,121 / Avg: 133,786)\n",
      "14:00:47 INFO  loader          :: Add: 3,600,000 triples (Batch: 139,082 / Avg: 133,928)\n",
      "14:00:48 INFO  loader          :: Add: 3,700,000 triples (Batch: 138,121 / Avg: 134,038)\n",
      "14:00:48 WARN  riot            :: [line: 3710348, col: 92] Bad IRI: Not a valid UUID string: uuid:KONA-CB-T-326ddf51-8af8-4d02-b946-c561ab741cae\n",
      "14:00:48 WARN  riot            :: [line: 3718476, col: 92] Bad IRI: Not a valid UUID string: uuid:NWBB-CB-B-7355ff1a-b15d-4b06-b9d1-79a293e32030\n",
      "14:00:48 WARN  riot            :: [line: 3746609, col: 92] Bad IRI: Not a valid UUID string: uuid:WY15-CB-T-44303230-0b7b-4367-b3e3-22c9f70ddbce\n",
      "14:00:49 INFO  loader          :: Add: 3,800,000 triples (Batch: 145,985 / Avg: 134,327)\n",
      "14:00:49 INFO  loader          :: Add: 3,900,000 triples (Batch: 129,198 / Avg: 134,191)\n",
      "14:00:49 WARN  riot            :: [line: 3900622, col: 92] Bad IRI: Not a valid UUID string: uuid:WY03-CB-B-37aa5072-bb2c-40da-a03f-cbd4acb0f135\n",
      "14:00:50 WARN  riot            :: [line: 3911717, col: 92] Bad IRI: Not a valid UUID string: uuid:DELA-CB-B-dc7411ef-453e-4b91-9885-a69fce891f8b\n",
      "14:00:50 WARN  riot            :: [line: 3920547, col: 92] Bad IRI: Not a valid UUID string: uuid:ORNL-CB-B-502e74cf-2cca-4d0c-800c-dc0580d8b54d\n",
      "14:00:50 WARN  riot            :: [line: 3983119, col: 92] Bad IRI: Not a valid UUID string: uuid:HARV-CB-B-c2af199e-fe66-41fc-93a9-50166b4c6bb5\n",
      "14:00:50 INFO  loader          :: Add: 4,000,000 triples (Batch: 125,156 / Avg: 133,949)\n",
      "14:00:50 INFO  loader          ::   Elapsed: 29.86 seconds [2024/03/14 14:00:50 UTC]\n",
      "14:00:51 WARN  riot            :: [line: 4035717, col: 92] Bad IRI: Not a valid UUID string: uuid:RMNP-CB-T-55f69c6a-3849-4e45-83ba-1cdfbefc3818\n",
      "14:00:51 WARN  riot            :: [line: 4091475, col: 92] Bad IRI: Not a valid UUID string: uuid:WLLO-CB-B-68043fc5-8096-41a1-9df6-b67edd414c4f\n",
      "14:00:51 WARN  riot            :: [line: 4093310, col: 92] Bad IRI: Not a valid UUID string: uuid:BLAN-CB-T-298f4fa4-a6ae-4cd1-8ac4-ed7b239a6abf\n",
      "14:00:51 INFO  loader          :: Add: 4,100,000 triples (Batch: 133,511 / Avg: 133,938)\n",
      "14:00:51 WARN  riot            :: [line: 4111505, col: 92] Bad IRI: Not a valid UUID string: uuid:WSU2-CA-B-6ad1d2a3-0949-423a-a549-c801913e1d63\n",
      "14:00:51 WARN  riot            :: [line: 4119100, col: 92] Bad IRI: Not a valid UUID string: uuid:SRER-CB-B-62d593bb-711a-4eb2-8359-403de43c9ae5\n",
      "14:00:51 WARN  riot            :: [line: 4138222, col: 92] Bad IRI: Not a valid UUID string: uuid:OAES-CB-B-f1f5c32d-8cfb-4d78-ac69-dd89510c8d03\n",
      "14:00:52 INFO  loader          :: Add: 4,200,000 triples (Batch: 127,877 / Avg: 133,787)\n",
      "14:00:52 WARN  riot            :: [line: 4214618, col: 92] Bad IRI: Not a valid UUID string: uuid:CSF1-CB-T-8e2cab37-6db5-4377-8eab-293a58400041\n",
      "14:00:53 INFO  loader          :: Add: 4,300,000 triples (Batch: 127,226 / Avg: 133,627)\n",
      "14:00:53 WARN  riot            :: [line: 4347839, col: 92] Bad IRI: Not a valid UUID string: uuid:SCBI-CB-T-e76a2f85-b6a1-4480-9c67-5ca8390b8399\n",
      "14:00:53 INFO  loader          :: Add: 4,400,000 triples (Batch: 138,696 / Avg: 133,738)\n",
      "14:00:53 WARN  riot            :: [line: 4414644, col: 92] Bad IRI: Not a valid UUID string: uuid:OSBS-CB-B-330d6d90-17b2-4452-ba83-6e870e8cad10\n",
      "14:00:54 WARN  riot            :: [line: 4461514, col: 92] Bad IRI: Not a valid UUID string: uuid:PPRH-CB-B-40a7fdcf-7d5a-4d3d-ae81-42253fc94370\n",
      "14:00:54 WARN  riot            :: [line: 4463847, col: 92] Bad IRI: Not a valid UUID string: uuid:WY01-CB-T-087448a0-5ec3-4d9e-8fea-1f3c06daabfb\n",
      "14:00:54 WARN  riot            :: [line: 4479696, col: 92] Bad IRI: Not a valid UUID string: uuid:WLUP-CB-T-a07898a8-bff9-4bc2-ae4c-3456825b1a81\n",
      "14:00:54 INFO  loader          :: Add: 4,500,000 triples (Batch: 140,252 / Avg: 133,876)\n",
      "14:00:55 WARN  riot            :: [line: 4568525, col: 92] Bad IRI: Not a valid UUID string: uuid:UNDE-CB-B-f1c58c85-e8dd-40ce-9f2f-0f30f101562c\n",
      "14:00:55 INFO  loader          :: Add: 4,600,000 triples (Batch: 141,043 / Avg: 134,024)\n",
      "14:00:55 WARN  riot            :: [line: 4604641, col: 92] Bad IRI: Not a valid UUID string: uuid:UKFS-CB-T-9a091afa-d16e-48de-b98c-82521e3a95fa\n",
      "14:00:55 WARN  riot            :: [line: 4651438, col: 92] Bad IRI: Not a valid UUID string: uuid:SRER-CB-T-534f50bf-ef66-4ed1-90f1-533ef4b52528\n",
      "14:00:55 WARN  riot            :: [line: 4656728, col: 92] Bad IRI: Not a valid UUID string: uuid:WSU3-CB-T-4aaf3e2e-30af-4cb3-bfb3-e4cbeae25f62\n",
      "14:00:55 WARN  riot            :: [line: 4659575, col: 92] Bad IRI: Not a valid UUID string: uuid:MLSB-CB-B-2d4aa025-e90e-4ce4-b3b5-fd7ff2bdf80b\n",
      "14:00:55 WARN  riot            :: [line: 4663441, col: 92] Bad IRI: Not a valid UUID string: uuid:FTA3-CB-B-6c80279c-0ca3-4835-bfea-501e43fdc1a6\n",
      "14:00:55 WARN  riot            :: [line: 4689541, col: 92] Bad IRI: Not a valid UUID string: uuid:ANZA-CB-B-6bc68e7d-7383-4bbe-9789-2f897ab426ca\n",
      "14:00:55 WARN  riot            :: [line: 4698464, col: 92] Bad IRI: Not a valid UUID string: uuid:FTA5-CB-T-6930cad4-38f4-4eab-8b53-45805fbcc40d\n",
      "14:00:55 INFO  loader          :: Add: 4,700,000 triples (Batch: 140,449 / Avg: 134,155)\n",
      "14:00:56 WARN  riot            :: [line: 4719901, col: 92] Bad IRI: Not a valid UUID string: uuid:PETF-CB-T-cef6133d-59d9-44f6-8c22-29664736616d\n",
      "14:00:56 WARN  riot            :: [line: 4728546, col: 92] Bad IRI: Not a valid UUID string: uuid:SERC-CB-B-a13e7129-c37b-449a-8172-bf04166ae49e\n",
      "14:00:56 WARN  riot            :: [line: 4755762, col: 92] Bad IRI: Not a valid UUID string: uuid:SCBI-CB-B-120b7ecd-9603-4d23-9241-642a4ee95ddd\n",
      "14:00:56 WARN  riot            :: [line: 4758278, col: 92] Bad IRI: Not a valid UUID string: uuid:TALL-CB-B-306ac187-5bcc-436a-9078-e0de4df5ad2e\n",
      "14:00:56 WARN  riot            :: [line: 4787185, col: 92] Bad IRI: Not a valid UUID string: uuid:DSNY-CB-B-acabb4de-4e97-4820-8d28-07a5b48cc286\n",
      "14:00:56 WARN  riot            :: [line: 4788794, col: 92] Bad IRI: Not a valid UUID string: uuid:OCTB-CB-T-3fe4e64c-6555-4cf9-a1a1-267a3efd36c5\n",
      "14:00:56 INFO  loader          :: Add: 4,800,000 triples (Batch: 124,378 / Avg: 133,936)\n",
      "14:00:56 WARN  riot            :: [line: 4830350, col: 92] Bad IRI: Not a valid UUID string: uuid:WY09-CB-B-cfcfdb9b-5d73-41ea-b105-f3fbe1d56c2b\n",
      "14:00:57 WARN  riot            :: [line: 4866773, col: 92] Bad IRI: Not a valid UUID string: uuid:GRSM-CB-T-fe711015-d950-4b51-98a3-5308f92ec8c7\n",
      "14:00:57 INFO  loader          :: Add: 4,900,000 triples (Batch: 123,304 / Avg: 133,700)\n",
      "14:00:57 WARN  riot            :: [line: 4934891, col: 92] Bad IRI: Not a valid UUID string: uuid:CLBJ-CB-T-1f0d1871-90b7-445d-906d-71685a8ccae2\n",
      "14:00:57 WARN  riot            :: [line: 4938825, col: 92] Bad IRI: Not a valid UUID string: uuid:MOAB-CB-T-40bbee20-6cee-4430-bc25-2a5f21ce31fb\n",
      "14:00:58 INFO  loader          :: Add: 5,000,000 triples (Batch: 134,952 / Avg: 133,725)\n",
      "14:00:58 INFO  loader          ::   Elapsed: 37.39 seconds [2024/03/14 14:00:58 UTC]\n",
      "14:00:58 WARN  riot            :: [line: 5064745, col: 92] Bad IRI: Not a valid UUID string: uuid:MOAB-CB-B-03a9d128-c9b5-4bf8-a6cc-0757a0c5af8a\n",
      "14:00:59 INFO  loader          :: Add: 5,100,000 triples (Batch: 139,082 / Avg: 133,826)\n",
      "14:00:59 WARN  riot            :: [line: 5175541, col: 92] Bad IRI: Not a valid UUID string: uuid:OSBS-CB-T-f2be224e-7356-4cd0-b585-4f408c30b59f\n",
      "14:00:59 INFO  loader          :: Add: 5,200,000 triples (Batch: 130,718 / Avg: 133,765)\n",
      "14:01:00 WARN  riot            :: [line: 5241487, col: 92] Bad IRI: Not a valid UUID string: uuid:WLLO-CB-T-ddc7635d-24f0-4456-8f9f-3680b08db779\n",
      "14:01:00 INFO  loader          :: Add: 5,300,000 triples (Batch: 132,625 / Avg: 133,743)\n",
      "14:01:01 WARN  riot            :: [line: 5363679, col: 92] Bad IRI: Not a valid UUID string: uuid:DCFS-CB-B-2357f0eb-9b01-4316-b676-dbc444bbef1d\n",
      "14:01:01 INFO  loader          :: Add: 5,400,000 triples (Batch: 140,252 / Avg: 133,858)\n",
      "14:01:01 WARN  riot            :: [line: 5405978, col: 92] Bad IRI: Not a valid UUID string: uuid:WOOD-CB-T-2db0e51c-90fa-481e-9432-61da1dfb5e15\n",
      "14:01:01 WARN  riot            :: [line: 5408316, col: 92] Bad IRI: Not a valid UUID string: uuid:LENO-CB-T-a3029b48-f488-41b7-901f-8696e7c46046\n",
      "14:01:01 WARN  riot            :: [line: 5494153, col: 92] Bad IRI: Not a valid UUID string: uuid:PSR2-CB-B-a9123b93-226f-4ac9-86f6-da9030cb4603\n",
      "14:01:01 INFO  loader          :: Add: 5,500,000 triples (Batch: 132,802 / Avg: 133,839)\n",
      "14:01:02 WARN  riot            :: [line: 5595482, col: 92] Bad IRI: Not a valid UUID string: uuid:ISCC-CB-T-5c5875b4-abd6-4226-b0ab-fdc9637ebb98\n",
      "14:01:02 INFO  loader          :: Add: 5,600,000 triples (Batch: 137,362 / Avg: 133,900)\n",
      "14:01:03 WARN  riot            :: [line: 5691357, col: 92] Bad IRI: Not a valid UUID string: uuid:DCFS-CB-T-4ea961ae-3e1d-4e7f-aca8-615d23195a1a\n",
      "14:01:03 INFO  loader          :: Add: 5,700,000 triples (Batch: 141,242 / Avg: 134,023)\n",
      "14:01:03 WARN  riot            :: [line: 5726539, col: 92] Bad IRI: Not a valid UUID string: uuid:ONAQ-CB-T-3294fa6a-beb1-4bb2-a4b3-e2e13b50bcc3\n",
      "14:01:03 WARN  riot            :: [line: 5741650, col: 92] Bad IRI: Not a valid UUID string: uuid:WY03-CB-T-2d5a8790-1c24-4059-97e9-668b51bf544d\n",
      "14:01:03 WARN  riot            :: [line: 5770933, col: 92] Bad IRI: Not a valid UUID string: uuid:NWBC-CB-T-1ab40003-8f10-4a2a-9ba1-911200388f64\n",
      "14:01:04 WARN  riot            :: [line: 5789020, col: 92] Bad IRI: Not a valid UUID string: uuid:SOAP-CB-B-3b4186ac-3481-4959-82a6-420961ffb8c3\n",
      "14:01:04 INFO  loader          :: Add: 5,800,000 triples (Batch: 132,625 / Avg: 133,998)\n",
      "14:01:04 WARN  riot            :: [line: 5832039, col: 92] Bad IRI: Not a valid UUID string: uuid:ISNC-CB-B-41c7672d-1b29-40e8-af49-137b03473cec\n",
      "14:01:04 WARN  riot            :: [line: 5853245, col: 92] Bad IRI: Not a valid UUID string: uuid:ANZA-CB-T-a11a1232-abdc-4192-b792-f10d418ad550\n",
      "14:01:04 WARN  riot            :: [line: 5892676, col: 92] Bad IRI: Not a valid UUID string: uuid:UKFS-CB-B-18631570-14bc-4401-80e0-85559c5eb037\n",
      "14:01:04 INFO  loader          :: Add: 5,900,000 triples (Batch: 131,752 / Avg: 133,959)\n",
      "14:01:05 WARN  riot            :: [line: 5913742, col: 92] Bad IRI: Not a valid UUID string: uuid:WY15-CB-B-e7803387-76a7-45de-8ea1-d6c4146b8a81\n",
      "14:01:05 WARN  riot            :: [line: 5966676, col: 92] Bad IRI: Not a valid UUID string: uuid:PHTU-CB-B-c68c9d04-9501-416d-9150-f647665fe15b\n",
      "14:01:05 WARN  riot            :: [line: 5972247, col: 92] Bad IRI: Not a valid UUID string: uuid:FTA3-CB-T-4116d3f6-5dfe-45c0-9989-6a6489238fbf\n",
      "14:01:05 INFO  loader          :: Add: 6,000,000 triples (Batch: 133,155 / Avg: 133,946)\n",
      "14:01:05 INFO  loader          ::   Elapsed: 44.80 seconds [2024/03/14 14:01:05 UTC]\n",
      "14:01:05 WARN  riot            :: [line: 6032950, col: 92] Bad IRI: Not a valid UUID string: uuid:PETF-CB-B-9196012d-042a-47b4-986a-21ead1040e31\n",
      "14:01:06 WARN  riot            :: [line: 6042969, col: 92] Bad IRI: Not a valid UUID string: uuid:CPER-CB-T-b8027938-7ff4-46c1-8575-e23584f1e898\n",
      "14:01:06 WARN  riot            :: [line: 6067813, col: 92] Bad IRI: Not a valid UUID string: uuid:NIWO-CB-T-8fa5540a-3ecc-43f3-8dea-9c9372d12826\n",
      "14:01:06 WARN  riot            :: [line: 6076212, col: 92] Bad IRI: Not a valid UUID string: uuid:NWBA-CB-T-9c9b1f6c-5d5a-4c4a-a2bb-ab7c379844ee\n",
      "14:01:06 INFO  loader          :: Add: 6,100,000 triples (Batch: 134,589 / Avg: 133,957)\n",
      "14:01:07 WARN  riot            :: [line: 6176858, col: 92] Bad IRI: Not a valid UUID string: uuid:SERC-CB-T-a591f903-459e-409e-b1e8-f1a213d60bce\n",
      "14:01:07 INFO  loader          :: Add: 6,200,000 triples (Batch: 131,926 / Avg: 133,923)\n",
      "14:01:07 WARN  riot            :: [line: 6209858, col: 92] Bad IRI: Not a valid UUID string: uuid:WOOD-CB-B-8e2da002-85ce-474f-a13d-561087b17bd6\n",
      "14:01:07 WARN  riot            :: [line: 6215167, col: 92] Bad IRI: Not a valid UUID string: uuid:UT12-CB-B-84465a7e-6d15-4aad-9d64-5345cb857450\n",
      "14:01:07 WARN  riot            :: [line: 6261067, col: 92] Bad IRI: Not a valid UUID string: uuid:UNDE-CB-T-f15c6148-9ebf-41d1-812b-7ba7c15d9d96\n",
      "14:01:07 WARN  riot            :: [line: 6284399, col: 92] Bad IRI: Not a valid UUID string: uuid:UT19-CB-T-cc59032d-d8e6-4da3-95eb-df9b2ce3d7e3\n",
      "14:01:07 WARN  riot            :: [line: 6297155, col: 92] Bad IRI: Not a valid UUID string: uuid:SOAP-CB-T-e0235661-d3be-4195-bab0-105df1d4b9b8\n",
      "14:01:07 INFO  loader          :: Add: 6,300,000 triples (Batch: 137,551 / Avg: 133,979)\n",
      "14:01:08 INFO  loader          :: Add: 6,400,000 triples (Batch: 144,927 / Avg: 134,138)\n",
      "14:01:08 WARN  riot            :: [line: 6415452, col: 92] Bad IRI: Not a valid UUID string: uuid:TREE-CB-T-03bc7e4f-a834-4d78-b733-e3d863ea640f\n",
      "14:01:08 WARN  riot            :: [line: 6438845, col: 92] Bad IRI: Not a valid UUID string: uuid:LENO-CB-B-26b5381f-14b1-401e-a729-4e6d1b421c37\n",
      "14:01:09 WARN  riot            :: [line: 6476158, col: 92] Bad IRI: Not a valid UUID string: uuid:CSF2-CB-B-c99abe38-cbf0-40d1-864a-6fb848212e8b\n",
      "14:01:09 INFO  loader          :: Add: 6,500,000 triples (Batch: 130,039 / Avg: 134,073)\n",
      "14:01:09 WARN  riot            :: [line: 6518173, col: 92] Bad IRI: Not a valid UUID string: uuid:GRSM-CB-B-a59d0367-64bc-4f5e-929d-805ff0b1bc0d\n",
      "14:01:09 WARN  riot            :: [line: 6538477, col: 92] Bad IRI: Not a valid UUID string: uuid:FTA5-CB-B-f450aea0-e6fb-4596-9f8b-56dba4635a8b\n",
      "14:01:09 WARN  riot            :: [line: 6538705, col: 92] Bad IRI: Not a valid UUID string: uuid:UT32-CB-B-145460ed-1b7d-4ee1-a90d-76f0b6ef62e8\n",
      "14:01:09 WARN  riot            :: [line: 6566925, col: 92] Bad IRI: Not a valid UUID string: uuid:OAES-CB-T-f7a2632b-871d-4276-92c5-d8e3453d0221\n",
      "14:01:10 INFO  loader          :: Add: 6,600,000 triples (Batch: 142,045 / Avg: 134,187)\n",
      "14:01:10 WARN  riot            :: [line: 6643819, col: 92] Bad IRI: Not a valid UUID string: uuid:PPRH-CB-T-a18a96d5-cf4b-4707-ab31-c605aeddbfdf\n",
      "14:01:10 INFO  loader          :: Add: 6,700,000 triples (Batch: 147,058 / Avg: 134,362)\n",
      "14:01:11 WARN  riot            :: [line: 6776492, col: 92] Bad IRI: Not a valid UUID string: uuid:MLSB-CB-T-2ca22db1-1704-4174-9a45-69cc790ce9a5\n",
      "14:01:11 INFO  loader          :: Add: 6,800,000 triples (Batch: 138,312 / Avg: 134,419)\n",
      "14:01:11 WARN  riot            :: [line: 6801150, col: 92] Bad IRI: Not a valid UUID string: uuid:TEAK-CB-B-feb28ff2-0e1f-4be9-bd9a-f92521bd9d90\n",
      "14:01:12 INFO  loader          :: Add: 6,900,000 triples (Batch: 139,082 / Avg: 134,484)\n",
      "14:01:12 INFO  loader          :: -- Finish triples data phase\n",
      "14:01:12 INFO  loader          :: ** Data: 6,991,623 triples loaded in 51.93 seconds [Rate: 134,635.53 per second]\n",
      "14:01:12 INFO  loader          :: -- Finish quads data phase\n",
      "14:01:12 INFO  loader          :: -- Start triples index phase\n",
      "14:01:12 INFO  loader          :: Index SPO->POS: 100,000 slots (Batch: 1,000,000 slots/s / Avg: 1,000,000 slots/s)\n",
      "14:01:13 INFO  loader          :: Index SPO->POS: 200,000 slots (Batch: 1,250,000 slots/s / Avg: 1,111,111 slots/s)\n",
      "14:01:13 INFO  loader          :: Index SPO->POS: 300,000 slots (Batch: 1,219,512 slots/s / Avg: 1,145,038 slots/s)\n",
      "14:01:13 INFO  loader          :: Index SPO->POS: 400,000 slots (Batch: 934,579 slots/s / Avg: 1,084,010 slots/s)\n",
      "14:01:13 INFO  loader          :: Index SPO->POS: 500,000 slots (Batch: 1,111,111 slots/s / Avg: 1,089,324 slots/s)\n",
      "14:01:13 INFO  loader          :: Index SPO->POS: 600,000 slots (Batch: 1,176,470 slots/s / Avg: 1,102,941 slots/s)\n",
      "14:01:13 INFO  loader          :: Index SPO->POS: 700,000 slots (Batch: 909,090 slots/s / Avg: 1,070,336 slots/s)\n",
      "14:01:13 INFO  loader          :: Index SPO->POS: 800,000 slots (Batch: 1,190,476 slots/s / Avg: 1,084,010 slots/s)\n",
      "14:01:13 INFO  loader          :: Index SPO->POS: 900,000 slots (Batch: 1,162,790 slots/s / Avg: 1,092,233 slots/s)\n",
      "14:01:13 INFO  loader          :: Index SPO->POS: 1,000,000 slots (Batch: 1,123,595 slots/s / Avg: 1,095,290 slots/s)\n",
      "14:01:13 INFO  loader          ::   Elapsed: 52.85 seconds [2024/03/14 14:01:13 UTC]\n",
      "14:01:13 INFO  loader          :: Index SPO->POS: 1,100,000 slots (Batch: 877,192 slots/s / Avg: 1,071,080 slots/s)\n",
      "14:01:13 INFO  loader          :: Index SPO->POS: 1,200,000 slots (Batch: 1,123,595 slots/s / Avg: 1,075,268 slots/s)\n",
      "14:01:14 INFO  loader          :: Index SPO->POS: 1,300,000 slots (Batch: 1,111,111 slots/s / Avg: 1,077,943 slots/s)\n",
      "14:01:14 INFO  loader          :: Index SPO->POS: 1,400,000 slots (Batch: 884,955 slots/s / Avg: 1,061,410 slots/s)\n",
      "14:01:14 INFO  loader          :: Index SPO->POS: 1,500,000 slots (Batch: 1,041,666 slots/s / Avg: 1,060,070 slots/s)\n",
      "14:01:14 INFO  loader          :: Index SPO->POS: 1,600,000 slots (Batch: 1,075,268 slots/s / Avg: 1,061,007 slots/s)\n",
      "14:01:14 INFO  loader          :: Index SPO->POS: 1,700,000 slots (Batch: 970,873 slots/s / Avg: 1,055,245 slots/s)\n",
      "14:01:14 INFO  loader          :: Index SPO->POS: 1,800,000 slots (Batch: 840,336 slots/s / Avg: 1,040,462 slots/s)\n",
      "14:01:14 INFO  loader          :: Index SPO->POS: 1,900,000 slots (Batch: 1,030,927 slots/s / Avg: 1,039,956 slots/s)\n",
      "14:01:14 INFO  loader          :: Index SPO->POS: 2,000,000 slots (Batch: 1,030,927 slots/s / Avg: 1,039,501 slots/s)\n",
      "14:01:14 INFO  loader          ::   Elapsed: 53.86 seconds [2024/03/14 14:01:14 UTC]\n",
      "14:01:14 INFO  loader          :: Index SPO->POS: 2,100,000 slots (Batch: 781,250 slots/s / Avg: 1,023,391 slots/s)\n",
      "14:01:14 INFO  loader          :: Index SPO->POS: 2,200,000 slots (Batch: 925,925 slots/s / Avg: 1,018,518 slots/s)\n",
      "14:01:15 INFO  loader          :: Index SPO->POS: 2,300,000 slots (Batch: 990,099 slots/s / Avg: 1,017,249 slots/s)\n",
      "14:01:15 INFO  loader          :: Index SPO->POS: 2,400,000 slots (Batch: 925,925 slots/s / Avg: 1,013,085 slots/s)\n",
      "14:01:15 INFO  loader          :: Index SPO->POS: 2,500,000 slots (Batch: 787,401 slots/s / Avg: 1,001,602 slots/s)\n",
      "14:01:15 INFO  loader          :: Index SPO->POS: 2,600,000 slots (Batch: 892,857 slots/s / Avg: 996,932 slots/s)\n",
      "14:01:15 INFO  loader          :: Index SPO->POS: 2,700,000 slots (Batch: 943,396 slots/s / Avg: 994,841 slots/s)\n",
      "14:01:15 INFO  loader          :: Index SPO->POS: 2,800,000 slots (Batch: 980,392 slots/s / Avg: 994,318 slots/s)\n",
      "14:01:15 INFO  loader          :: Index SPO->POS: 2,900,000 slots (Batch: 793,650 slots/s / Avg: 985,723 slots/s)\n",
      "14:01:15 INFO  loader          :: Index SPO->POS: 3,000,000 slots (Batch: 884,955 slots/s / Avg: 981,996 slots/s)\n",
      "14:01:15 INFO  loader          ::   Elapsed: 54.99 seconds [2024/03/14 14:01:15 UTC]\n",
      "14:01:16 INFO  loader          :: Index SPO->POS: 3,100,000 slots (Batch: 884,955 slots/s / Avg: 978,535 slots/s)\n",
      "14:01:16 INFO  loader          :: Index SPO->POS: 3,200,000 slots (Batch: 943,396 slots/s / Avg: 977,397 slots/s)\n",
      "14:01:16 INFO  loader          :: Index SPO->POS: 3,300,000 slots (Batch: 729,927 slots/s / Avg: 967,458 slots/s)\n",
      "14:01:16 INFO  loader          :: Index SPO->POS: 3,400,000 slots (Batch: 869,565 slots/s / Avg: 964,265 slots/s)\n",
      "14:01:16 INFO  loader          :: Index SPO->POS: 3,500,000 slots (Batch: 847,457 slots/s / Avg: 960,482 slots/s)\n",
      "14:01:16 INFO  loader          :: Index SPO->POS: 3,600,000 slots (Batch: 917,431 slots/s / Avg: 959,232 slots/s)\n",
      "14:01:16 INFO  loader          :: Index SPO->POS: 3,700,000 slots (Batch: 775,193 slots/s / Avg: 953,116 slots/s)\n",
      "14:01:16 INFO  loader          :: Index SPO->POS: 3,800,000 slots (Batch: 934,579 slots/s / Avg: 952,619 slots/s)\n",
      "14:01:16 INFO  loader          :: Index SPO->POS: 3,900,000 slots (Batch: 909,090 slots/s / Avg: 951,451 slots/s)\n",
      "14:01:17 INFO  loader          :: Index SPO->POS: 4,000,000 slots (Batch: 746,268 slots/s / Avg: 944,956 slots/s)\n",
      "14:01:17 INFO  loader          ::   Elapsed: 56.17 seconds [2024/03/14 14:01:17 UTC]\n",
      "14:01:17 INFO  loader          :: Index SPO->POS: 4,100,000 slots (Batch: 900,900 slots/s / Avg: 943,830 slots/s)\n",
      "14:01:17 INFO  loader          :: Index SPO->POS: 4,200,000 slots (Batch: 900,900 slots/s / Avg: 942,760 slots/s)\n",
      "14:01:17 INFO  loader          :: Index SPO->POS: 4,300,000 slots (Batch: 892,857 slots/s / Avg: 941,537 slots/s)\n",
      "14:01:17 INFO  loader          :: Index SPO->POS: 4,400,000 slots (Batch: 793,650 slots/s / Avg: 937,566 slots/s)\n",
      "14:01:17 INFO  loader          :: Index SPO->POS: 4,500,000 slots (Batch: 884,955 slots/s / Avg: 936,329 slots/s)\n",
      "14:01:17 INFO  loader          :: Index SPO->POS: 4,600,000 slots (Batch: 900,900 slots/s / Avg: 935,529 slots/s)\n",
      "14:01:17 INFO  loader          :: Index SPO->POS: 4,700,000 slots (Batch: 892,857 slots/s / Avg: 934,579 slots/s)\n",
      "14:01:17 INFO  loader          :: Index SPO->POS: 4,800,000 slots (Batch: 787,401 slots/s / Avg: 930,954 slots/s)\n",
      "14:01:18 INFO  loader          :: Index SPO->POS: 4,900,000 slots (Batch: 892,857 slots/s / Avg: 930,144 slots/s)\n",
      "14:01:18 INFO  loader          :: Index SPO->POS: 5,000,000 slots (Batch: 862,068 slots/s / Avg: 928,677 slots/s)\n",
      "14:01:18 INFO  loader          ::   Elapsed: 57.32 seconds [2024/03/14 14:01:18 UTC]\n",
      "14:01:18 INFO  loader          :: Index SPO->POS: 5,100,000 slots (Batch: 833,333 slots/s / Avg: 926,598 slots/s)\n",
      "14:01:18 INFO  loader          :: Index SPO->POS: 5,200,000 slots (Batch: 787,401 slots/s / Avg: 923,459 slots/s)\n",
      "14:01:18 INFO  loader          :: Index SPO->POS: 5,300,000 slots (Batch: 884,955 slots/s / Avg: 922,701 slots/s)\n",
      "14:01:18 INFO  loader          :: Index SPO->POS: 5,400,000 slots (Batch: 877,192 slots/s / Avg: 921,816 slots/s)\n",
      "14:01:18 INFO  loader          :: Index SPO->POS: 5,500,000 slots (Batch: 862,068 slots/s / Avg: 920,656 slots/s)\n",
      "14:01:18 INFO  loader          :: Index SPO->POS: 5,600,000 slots (Batch: 781,250 slots/s / Avg: 917,731 slots/s)\n",
      "14:01:19 INFO  loader          :: Index SPO->POS: 5,700,000 slots (Batch: 806,451 slots/s / Avg: 915,515 slots/s)\n",
      "14:01:19 INFO  loader          :: Index SPO->POS: 5,800,000 slots (Batch: 847,457 slots/s / Avg: 914,249 slots/s)\n",
      "14:01:19 INFO  loader          :: Index SPO->POS: 5,900,000 slots (Batch: 806,451 slots/s / Avg: 912,183 slots/s)\n",
      "14:01:19 INFO  loader          :: Index SPO->POS: 6,000,000 slots (Batch: 787,401 slots/s / Avg: 909,780 slots/s)\n",
      "14:01:19 INFO  loader          ::   Elapsed: 58.53 seconds [2024/03/14 14:01:19 UTC]\n",
      "14:01:19 INFO  loader          :: Index SPO->POS: 6,100,000 slots (Batch: 800,000 slots/s / Avg: 907,738 slots/s)\n",
      "14:01:19 INFO  loader          :: Index SPO->POS: 6,200,000 slots (Batch: 833,333 slots/s / Avg: 906,432 slots/s)\n",
      "14:01:19 INFO  loader          :: Index SPO->POS: 6,300,000 slots (Batch: 826,446 slots/s / Avg: 905,042 slots/s)\n",
      "14:01:19 INFO  loader          :: Index SPO->POS: 6,400,000 slots (Batch: 833,333 slots/s / Avg: 903,827 slots/s)\n",
      "14:01:20 INFO  loader          :: Index SPO->POS: 6,500,000 slots (Batch: 826,446 slots/s / Avg: 902,527 slots/s)\n",
      "14:01:20 INFO  loader          :: Index SPO->POS: 6,600,000 slots (Batch: 813,008 slots/s / Avg: 901,023 slots/s)\n",
      "14:01:20 INFO  loader          :: Index SPO->POS: 6,700,000 slots (Batch: 769,230 slots/s / Avg: 898,725 slots/s)\n",
      "14:01:20 INFO  loader          :: Index SPO->POS: 6,800,000 slots (Batch: 769,230 slots/s / Avg: 896,506 slots/s)\n",
      "14:01:20 INFO  loader          :: Index SPO->POS: 6,900,000 slots (Batch: 793,650 slots/s / Avg: 894,825 slots/s)\n",
      "14:01:20 INFO  loader          :: ** Index SPO->POS: 6,991,623 slots indexed in 7.82 seconds [Rate: 894,641.50 per second]\n",
      "14:01:20 INFO  loader          :: Index SPO->OSP: 100,000 slots (Batch: 1,923,076 slots/s / Avg: 1,923,076 slots/s)\n",
      "14:01:20 INFO  loader          :: Index SPO->OSP: 200,000 slots (Batch: 1,562,500 slots/s / Avg: 1,724,137 slots/s)\n",
      "14:01:20 INFO  loader          :: Index SPO->OSP: 300,000 slots (Batch: 1,562,500 slots/s / Avg: 1,666,666 slots/s)\n",
      "14:01:20 INFO  loader          :: Index SPO->OSP: 400,000 slots (Batch: 1,470,588 slots/s / Avg: 1,612,903 slots/s)\n",
      "14:01:20 INFO  loader          :: Index SPO->OSP: 500,000 slots (Batch: 1,298,701 slots/s / Avg: 1,538,461 slots/s)\n",
      "14:01:21 INFO  loader          :: Index SPO->OSP: 600,000 slots (Batch: 1,470,588 slots/s / Avg: 1,526,717 slots/s)\n",
      "14:01:21 INFO  loader          :: Index SPO->OSP: 700,000 slots (Batch: 1,408,450 slots/s / Avg: 1,508,620 slots/s)\n",
      "14:01:21 INFO  loader          :: Index SPO->OSP: 800,000 slots (Batch: 1,250,000 slots/s / Avg: 1,470,588 slots/s)\n",
      "14:01:21 INFO  loader          :: Index SPO->OSP: 900,000 slots (Batch: 1,250,000 slots/s / Avg: 1,442,307 slots/s)\n",
      "14:01:21 INFO  loader          :: Index SPO->OSP: 1,000,000 slots (Batch: 1,250,000 slots/s / Avg: 1,420,454 slots/s)\n",
      "14:01:21 INFO  loader          ::   Elapsed: 60.46 seconds [2024/03/14 14:01:21 UTC]\n",
      "14:01:21 INFO  loader          :: Index SPO->OSP: 1,100,000 slots (Batch: 1,111,111 slots/s / Avg: 1,385,390 slots/s)\n",
      "14:01:21 INFO  loader          :: Index SPO->OSP: 1,200,000 slots (Batch: 1,176,470 slots/s / Avg: 1,365,187 slots/s)\n",
      "14:01:21 INFO  loader          :: Index SPO->OSP: 1,300,000 slots (Batch: 1,234,567 slots/s / Avg: 1,354,166 slots/s)\n",
      "14:01:21 INFO  loader          :: Index SPO->OSP: 1,400,000 slots (Batch: 1,234,567 slots/s / Avg: 1,344,860 slots/s)\n",
      "14:01:21 INFO  loader          :: Index SPO->OSP: 1,500,000 slots (Batch: 1,190,476 slots/s / Avg: 1,333,333 slots/s)\n",
      "14:01:21 INFO  loader          :: Index SPO->OSP: 1,600,000 slots (Batch: 1,149,425 slots/s / Avg: 1,320,132 slots/s)\n",
      "14:01:21 INFO  loader          :: Index SPO->OSP: 1,700,000 slots (Batch: 1,136,363 slots/s / Avg: 1,307,692 slots/s)\n",
      "14:01:22 INFO  loader          :: Index SPO->OSP: 1,800,000 slots (Batch: 1,136,363 slots/s / Avg: 1,296,829 slots/s)\n",
      "14:01:22 INFO  loader          :: Index SPO->OSP: 1,900,000 slots (Batch: 1,136,363 slots/s / Avg: 1,287,262 slots/s)\n",
      "14:01:22 INFO  loader          :: Index SPO->OSP: 2,000,000 slots (Batch: 1,149,425 slots/s / Avg: 1,279,590 slots/s)\n",
      "14:01:22 INFO  loader          ::   Elapsed: 61.31 seconds [2024/03/14 14:01:22 UTC]\n",
      "14:01:22 INFO  loader          :: Index SPO->OSP: 2,100,000 slots (Batch: 1,041,666 slots/s / Avg: 1,265,822 slots/s)\n",
      "14:01:22 INFO  loader          :: Index SPO->OSP: 2,200,000 slots (Batch: 1,063,829 slots/s / Avg: 1,254,991 slots/s)\n",
      "14:01:22 INFO  loader          :: Index SPO->OSP: 2,300,000 slots (Batch: 1,086,956 slots/s / Avg: 1,246,612 slots/s)\n",
      "14:01:22 INFO  loader          :: Index SPO->OSP: 2,400,000 slots (Batch: 1,136,363 slots/s / Avg: 1,241,593 slots/s)\n",
      "14:01:22 INFO  loader          :: Index SPO->OSP: 2,500,000 slots (Batch: 1,098,901 slots/s / Avg: 1,235,177 slots/s)\n",
      "14:01:22 INFO  loader          :: Index SPO->OSP: 2,600,000 slots (Batch: 1,123,595 slots/s / Avg: 1,230,477 slots/s)\n",
      "14:01:22 INFO  loader          :: Index SPO->OSP: 2,700,000 slots (Batch: 1,075,268 slots/s / Avg: 1,223,934 slots/s)\n",
      "14:01:22 INFO  loader          :: Index SPO->OSP: 2,800,000 slots (Batch: 1,075,268 slots/s / Avg: 1,217,920 slots/s)\n",
      "14:01:23 INFO  loader          :: Index SPO->OSP: 2,900,000 slots (Batch: 1,086,956 slots/s / Avg: 1,212,881 slots/s)\n",
      "14:01:23 INFO  loader          :: Index SPO->OSP: 3,000,000 slots (Batch: 1,075,268 slots/s / Avg: 1,207,729 slots/s)\n",
      "14:01:23 INFO  loader          ::   Elapsed: 62.24 seconds [2024/03/14 14:01:23 UTC]\n",
      "14:01:23 INFO  loader          :: Index SPO->OSP: 3,100,000 slots (Batch: 1,063,829 slots/s / Avg: 1,202,482 slots/s)\n",
      "14:01:23 INFO  loader          :: Index SPO->OSP: 3,200,000 slots (Batch: 990,099 slots/s / Avg: 1,194,475 slots/s)\n",
      "14:01:23 INFO  loader          :: Index SPO->OSP: 3,300,000 slots (Batch: 1,000,000 slots/s / Avg: 1,187,477 slots/s)\n",
      "14:01:23 INFO  loader          :: Index SPO->OSP: 3,400,000 slots (Batch: 1,030,927 slots/s / Avg: 1,182,197 slots/s)\n",
      "14:01:23 INFO  loader          :: Index SPO->OSP: 3,500,000 slots (Batch: 961,538 slots/s / Avg: 1,174,496 slots/s)\n",
      "14:01:23 INFO  loader          :: Index SPO->OSP: 3,600,000 slots (Batch: 1,041,666 slots/s / Avg: 1,170,351 slots/s)\n",
      "14:01:23 INFO  loader          :: Index SPO->OSP: 3,700,000 slots (Batch: 1,030,927 slots/s / Avg: 1,166,088 slots/s)\n",
      "14:01:23 INFO  loader          :: Index SPO->OSP: 3,800,000 slots (Batch: 1,030,927 slots/s / Avg: 1,162,079 slots/s)\n",
      "14:01:24 INFO  loader          :: Index SPO->OSP: 3,900,000 slots (Batch: 934,579 slots/s / Avg: 1,154,871 slots/s)\n",
      "14:01:24 INFO  loader          :: Index SPO->OSP: 4,000,000 slots (Batch: 952,380 slots/s / Avg: 1,148,765 slots/s)\n",
      "14:01:24 INFO  loader          ::   Elapsed: 63.23 seconds [2024/03/14 14:01:24 UTC]\n",
      "14:01:24 INFO  loader          :: Index SPO->OSP: 4,100,000 slots (Batch: 1,000,000 slots/s / Avg: 1,144,611 slots/s)\n",
      "14:01:24 INFO  loader          :: Index SPO->OSP: 4,200,000 slots (Batch: 1,010,101 slots/s / Avg: 1,140,994 slots/s)\n",
      "14:01:24 INFO  loader          :: Index SPO->OSP: 4,300,000 slots (Batch: 952,380 slots/s / Avg: 1,135,763 slots/s)\n",
      "14:01:24 INFO  loader          :: Index SPO->OSP: 4,400,000 slots (Batch: 970,873 slots/s / Avg: 1,131,396 slots/s)\n",
      "14:01:24 INFO  loader          :: Index SPO->OSP: 4,500,000 slots (Batch: 1,010,101 slots/s / Avg: 1,128,385 slots/s)\n",
      "14:01:24 INFO  loader          :: Index SPO->OSP: 4,600,000 slots (Batch: 1,010,101 slots/s / Avg: 1,125,519 slots/s)\n",
      "14:01:24 INFO  loader          :: Index SPO->OSP: 4,700,000 slots (Batch: 925,925 slots/s / Avg: 1,120,381 slots/s)\n",
      "14:01:24 INFO  loader          :: Index SPO->OSP: 4,800,000 slots (Batch: 925,925 slots/s / Avg: 1,115,500 slots/s)\n",
      "14:01:25 INFO  loader          :: Index SPO->OSP: 4,900,000 slots (Batch: 970,873 slots/s / Avg: 1,112,119 slots/s)\n",
      "14:01:25 INFO  loader          :: Index SPO->OSP: 5,000,000 slots (Batch: 961,538 slots/s / Avg: 1,108,647 slots/s)\n",
      "14:01:25 INFO  loader          ::   Elapsed: 64.26 seconds [2024/03/14 14:01:25 UTC]\n",
      "14:01:25 INFO  loader          :: Index SPO->OSP: 5,100,000 slots (Batch: 980,392 slots/s / Avg: 1,105,810 slots/s)\n",
      "14:01:25 INFO  loader          :: Index SPO->OSP: 5,200,000 slots (Batch: 925,925 slots/s / Avg: 1,101,694 slots/s)\n",
      "14:01:25 INFO  loader          :: Index SPO->OSP: 5,300,000 slots (Batch: 934,579 slots/s / Avg: 1,097,990 slots/s)\n",
      "14:01:25 INFO  loader          :: Index SPO->OSP: 5,400,000 slots (Batch: 970,873 slots/s / Avg: 1,095,334 slots/s)\n",
      "14:01:25 INFO  loader          :: Index SPO->OSP: 5,500,000 slots (Batch: 980,392 slots/s / Avg: 1,093,004 slots/s)\n",
      "14:01:25 INFO  loader          :: Index SPO->OSP: 5,600,000 slots (Batch: 970,873 slots/s / Avg: 1,090,555 slots/s)\n",
      "14:01:25 INFO  loader          :: Index SPO->OSP: 5,700,000 slots (Batch: 980,392 slots/s / Avg: 1,088,409 slots/s)\n",
      "14:01:26 INFO  loader          :: Index SPO->OSP: 5,800,000 slots (Batch: 892,857 slots/s / Avg: 1,084,314 slots/s)\n",
      "14:01:26 INFO  loader          :: Index SPO->OSP: 5,900,000 slots (Batch: 934,579 slots/s / Avg: 1,081,378 slots/s)\n",
      "14:01:26 INFO  loader          :: Index SPO->OSP: 6,000,000 slots (Batch: 970,873 slots/s / Avg: 1,079,330 slots/s)\n",
      "14:01:26 INFO  loader          ::   Elapsed: 65.31 seconds [2024/03/14 14:01:26 UTC]\n",
      "14:01:26 INFO  loader          :: Index SPO->OSP: 6,100,000 slots (Batch: 900,900 slots/s / Avg: 1,075,837 slots/s)\n",
      "14:01:26 INFO  loader          :: Index SPO->OSP: 6,200,000 slots (Batch: 909,090 slots/s / Avg: 1,072,664 slots/s)\n",
      "14:01:26 INFO  loader          :: Index SPO->OSP: 6,300,000 slots (Batch: 900,900 slots/s / Avg: 1,069,427 slots/s)\n",
      "14:01:26 INFO  loader          :: Index SPO->OSP: 6,400,000 slots (Batch: 961,538 slots/s / Avg: 1,067,556 slots/s)\n",
      "14:01:26 INFO  loader          :: Index SPO->OSP: 6,500,000 slots (Batch: 970,873 slots/s / Avg: 1,065,923 slots/s)\n",
      "14:01:26 INFO  loader          :: Index SPO->OSP: 6,600,000 slots (Batch: 970,873 slots/s / Avg: 1,064,344 slots/s)\n",
      "14:01:26 INFO  loader          :: Index SPO->OSP: 6,700,000 slots (Batch: 884,955 slots/s / Avg: 1,061,133 slots/s)\n",
      "14:01:27 INFO  loader          :: Index SPO->OSP: 6,800,000 slots (Batch: 925,925 slots/s / Avg: 1,058,860 slots/s)\n",
      "14:01:27 INFO  loader          :: Index SPO->OSP: 6,900,000 slots (Batch: 961,538 slots/s / Avg: 1,057,309 slots/s)\n",
      "14:01:27 INFO  loader          :: ** Index SPO->OSP: 6,991,623 slots indexed in 6.62 seconds [Rate: 1,056,136.38 per second]\n",
      "14:01:27 INFO  loader          :: -- Finish triples index phase\n",
      "14:01:27 INFO  loader          :: ** 6,991,623 triples indexed in 14.44 seconds [Rate: 484,217.97 per second]\n",
      "14:01:27 INFO  loader          :: -- Finish triples load\n",
      "14:01:27 INFO  loader          :: ** Completed: 6,991,623 triples loaded in 66.37 seconds [Rate: 105,339.95 per second]\n",
      "14:01:27 INFO  loader          :: -- Finish quads load\n"
     ]
    }
   ],
   "source": [
    "!docker compose run fuseki ./apache-jena-4.9.0/bin/tdbloader --loc /fuseki-base/nmdc-db.tdb /fuseki-base/nmdc-db.nt.gz"
   ]
  },
  {
   "cell_type": "markdown",
   "id": "69d0e50c-102a-4a8e-9bcd-ef23600afd66",
   "metadata": {},
   "source": [
    "Start up server."
   ]
  },
  {
   "cell_type": "code",
   "execution_count": 42,
   "id": "1a0bfb4b-e694-40b1-88af-4446e3fcc888",
   "metadata": {},
   "outputs": [
    {
     "name": "stdout",
     "output_type": "stream",
     "text": [
      "\u001b[1A\u001b[1B\u001b[0G\u001b[?25l[+] Running 1/0\n",
      " \u001b[32m✔\u001b[0m Container fuseki  \u001b[32mCreated\u001b[0m                                               \u001b[34m0.0s \u001b[0m\n",
      "\u001b[?25h\u001b[1A\u001b[1A\u001b[0G\u001b[?25l\u001b[34m[+] Running 1/1\u001b[0m\n",
      " \u001b[32m✔\u001b[0m Container fuseki  \u001b[32mStarted\u001b[0m                                               \u001b[34m0.0s \u001b[0m\n",
      "\u001b[?25h"
     ]
    }
   ],
   "source": [
    "!docker compose up fuseki -d"
   ]
  },
  {
   "cell_type": "markdown",
   "id": "8e528d6a-76b1-4629-82a1-58793ad6a481",
   "metadata": {},
   "source": [
    "Now go to <http://localhost:3030/#/dataset/nmdc/query> and SPARQL it up."
   ]
  },
  {
   "cell_type": "code",
   "execution_count": 43,
   "id": "8695001d-9722-48a0-98e8-9ac5000551ea",
   "metadata": {},
   "outputs": [],
   "source": [
    "# 2024-03-14T09:40 : took <4min to run all the above."
   ]
  }
 ],
 "metadata": {
  "kernelspec": {
   "display_name": "nmdc-runtime",
   "language": "python",
   "name": "nmdc-runtime"
  },
  "language_info": {
   "codemirror_mode": {
    "name": "ipython",
    "version": 3
   },
   "file_extension": ".py",
   "mimetype": "text/x-python",
   "name": "python",
   "nbconvert_exporter": "python",
   "pygments_lexer": "ipython3",
   "version": "3.10.12"
  }
 },
 "nbformat": 4,
 "nbformat_minor": 5
}
