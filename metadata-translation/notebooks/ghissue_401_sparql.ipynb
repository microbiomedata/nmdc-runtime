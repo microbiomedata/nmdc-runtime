{
 "cells": [
  {
   "cell_type": "markdown",
   "id": "51ea05af-7579-43ad-aa9c-3bf8b6da8fdb",
   "metadata": {},
   "source": [
    "Pipeline to transform the set of nmdc-schema-compliant mongodb collections to an RDF dataset amenable to SPARQL queries."
   ]
  },
  {
   "cell_type": "markdown",
   "id": "ae2673a5-560b-47b0-9608-656aa3854466",
   "metadata": {},
   "source": [
    "Ensure that changes to the code will be import-able in this notebook without needing restart the kernel and thus lose state."
   ]
  },
  {
   "cell_type": "code",
   "execution_count": null,
   "id": "a362b42f-7ae0-40cf-91d4-8f19ca1087cf",
   "metadata": {},
   "outputs": [],
   "source": [
    "%load_ext autoreload\n",
    "%autoreload 2"
   ]
  },
  {
   "cell_type": "markdown",
   "id": "0b8b1fb7-2357-46ef-8d86-69cd1dce228d",
   "metadata": {},
   "source": [
    "Connect to local dockerized dev environment."
   ]
  },
  {
   "cell_type": "code",
   "execution_count": null,
   "id": "55932d03-802f-4efe-bceb-e1036cd35567",
   "metadata": {},
   "outputs": [],
   "source": [
    "from dotenv import load_dotenv\n",
    "\n",
    "load_dotenv(\".env.localhost\")\n",
    "!env | grep MONGO_HOST"
   ]
  },
  {
   "cell_type": "markdown",
   "id": "3a146763-f03a-4d65-baa0-81ca15cba689",
   "metadata": {},
   "source": [
    "Initialize a db connection."
   ]
  },
  {
   "cell_type": "code",
   "execution_count": null,
   "id": "edb1bb42-005c-49ca-ba59-18c24833f93f",
   "metadata": {},
   "outputs": [],
   "source": [
    "from nmdc_runtime.api.db.mongo import get_mongo_db\n",
    "\n",
    "mdb = get_mongo_db()"
   ]
  },
  {
   "cell_type": "markdown",
   "id": "37dbc9a8-8cac-4798-8d4f-ccbd9c3560e9",
   "metadata": {},
   "source": [
    "Get all populated nmdc-schema collections with entity `id`s."
   ]
  },
  {
   "cell_type": "code",
   "execution_count": null,
   "id": "3a0dd489-74cc-47c4-b3e0-c97dd88f5b5f",
   "metadata": {},
   "outputs": [],
   "source": [
    "from nmdc_runtime.util import schema_collection_names_with_id_field\n",
    "\n",
    "populated_collections = sorted([\n",
    "    name for name in set(schema_collection_names_with_id_field()) & set(mdb.list_collection_names())\n",
    "    if mdb[name].estimated_document_count() > 0\n",
    "])\n",
    "populated_collections"
   ]
  },
  {
   "cell_type": "markdown",
   "id": "f9a45de7-ba27-4b18-8ff4-9ba44eeb1091",
   "metadata": {},
   "source": [
    "Get a JSON-LD context for the NMDC Schema, to serialize documents to RDF."
   ]
  },
  {
   "cell_type": "code",
   "execution_count": null,
   "id": "9ed72826-b552-4429-8ab5-9f7126821822",
   "metadata": {},
   "outputs": [],
   "source": [
    "import json\n",
    "from pprint import pprint\n",
    "\n",
    "from linkml.generators.jsonldcontextgen import ContextGenerator\n",
    "from nmdc_schema.nmdc_data import get_nmdc_schema_definition\n",
    "\n",
    "context = ContextGenerator(get_nmdc_schema_definition())\n",
    "context = json.loads(context.serialize())[\"@context\"]\n",
    "\n",
    "for k, v in list(context.items()):\n",
    "    if isinstance(v, dict): #and v.get(\"@type\") == \"@id\":\n",
    "        v.pop(\"@id\", None) # use nmdc uri, not e.g. MIXS uri\n",
    "pprint(context)"
   ]
  },
  {
   "cell_type": "code",
   "execution_count": null,
   "id": "62a68c07-0706-4300-a48d-0ab628af87b1",
   "metadata": {},
   "outputs": [],
   "source": [
    "context['type'] = {'@type': '@id'}"
   ]
  },
  {
   "cell_type": "code",
   "execution_count": null,
   "id": "648b4f70-34d6-4c70-8d0a-ef76e7e5d96d",
   "metadata": {},
   "outputs": [],
   "source": [
    "from rdflib import Graph\n",
    "\n",
    "g = Graph()"
   ]
  },
  {
   "cell_type": "code",
   "execution_count": null,
   "id": "4d802017-2a7e-4614-b662-6a0cc027b8bc",
   "metadata": {},
   "outputs": [],
   "source": [
    "def split_chunk(seq, n: int):\n",
    "    \"\"\"\n",
    "    Split sequence into chunks of length n. Do not pad last chunk.\n",
    "    \n",
    "    >>> list(split_chunk(list(range(10)), 3))\n",
    "    [[0, 1, 2], [3, 4, 5], [6, 7, 8], [9]]\n",
    "    \"\"\"\n",
    "    for i in range(0, len(seq), n):\n",
    "        yield seq[i : i + n]"
   ]
  },
  {
   "cell_type": "code",
   "execution_count": null,
   "id": "4251e0b1-35dc-4f40-91e7-b9bc0d9d79e1",
   "metadata": {},
   "outputs": [],
   "source": [
    "from toolz import assoc, dissoc\n",
    "from tqdm.notebook import tqdm\n",
    "\n",
    "chunk_size = 2_000\n",
    "total = sum((1 + mdb[name].estimated_document_count() // 2_000) for name in populated_collections)\n",
    "\n",
    "pbar = tqdm(total=total)\n",
    "\n",
    "for name in populated_collections:\n",
    "    print(name)\n",
    "    docs = [dissoc(doc, \"_id\") for doc in mdb[name].find()]\n",
    "    chunks = list(split_chunk(docs, chunk_size))\n",
    "    for chunk in chunks:\n",
    "        doc_jsonld = {\"@context\": context, \"@graph\": chunk}\n",
    "        g.parse(data=json.dumps(doc_jsonld), format='json-ld')\n",
    "        pbar.update(1)"
   ]
  },
  {
   "cell_type": "code",
   "execution_count": null,
   "id": "d25e85c4-b695-4a03-beaf-f34f5e73b66d",
   "metadata": {},
   "outputs": [],
   "source": [
    "print(f\"{len(g):,}\")"
   ]
  },
  {
   "cell_type": "code",
   "execution_count": null,
   "id": "ba832848-2cc9-4d1d-bf5f-966a73e26658",
   "metadata": {},
   "outputs": [],
   "source": [
    "from rdflib import Namespace, RDF, Literal, URIRef\n",
    "\n",
    "NMDC = Namespace(\"https://w3id.org/nmdc/\")\n",
    "\n",
    "for s, p, o in g:\n",
    "    s_str = str(s)\n",
    "    if s_str.endswith(\"\\n\"):\n",
    "        s_str_fixed = str(s_str)[:-2]\n",
    "        g.remove((s,p,o))\n",
    "        g.add((URIRef(s_str_fixed), p,o))\n",
    "    if isinstance(o, URIRef):\n",
    "        o_str = str(o)\n",
    "        if o_str.endswith(\"\\n\"):\n",
    "            o_str_fixed = str(o_str)[:-2]\n",
    "            g.remove((s,p,o))\n",
    "            g.add((s, p, URIRef(o_str_fixed)))"
   ]
  },
  {
   "cell_type": "code",
   "execution_count": null,
   "id": "125d2ad4-8433-45d8-86c4-d6a619ea5280",
   "metadata": {},
   "outputs": [],
   "source": [
    "import gzip\n",
    "\n",
    "with gzip.open('data/nmdc-db.nt.gz', 'wb') as f:\n",
    "    f.write(g.serialize(format='nt').encode())"
   ]
  },
  {
   "cell_type": "markdown",
   "id": "c5d8c0a2-6f75-4dac-9bb9-ac48838ad2b8",
   "metadata": {},
   "source": [
    "Wipe any existing persisted data."
   ]
  },
  {
   "cell_type": "code",
   "execution_count": null,
   "id": "ea0bdeee-6b3a-4074-bd73-cc9424569346",
   "metadata": {},
   "outputs": [],
   "source": [
    "!docker volume rm nmdc-runtime_nmdc_runtime_fuseki_data"
   ]
  },
  {
   "cell_type": "code",
   "execution_count": null,
   "id": "8fa9f685-e981-48ab-a434-57057fd39b8b",
   "metadata": {},
   "outputs": [],
   "source": [
    "!docker compose up fuseki -d"
   ]
  },
  {
   "cell_type": "code",
   "execution_count": null,
   "id": "9037026c-2653-43e3-bb92-2a0eea85b213",
   "metadata": {},
   "outputs": [],
   "source": [
    "!docker cp data/nmdc-db.nt.gz fuseki:/fuseki-base/"
   ]
  },
  {
   "cell_type": "code",
   "execution_count": null,
   "id": "16f0621c-cf98-4a27-9165-7a0a8711db77",
   "metadata": {},
   "outputs": [],
   "source": [
    "!docker compose down fuseki"
   ]
  },
  {
   "cell_type": "code",
   "execution_count": null,
   "id": "a490caff-af8a-4537-8c0b-e4a4752645bc",
   "metadata": {},
   "outputs": [],
   "source": [
    "!docker compose run fuseki ./apache-jena-4.9.0/bin/tdbloader --loc /fuseki-base/nmdc-db.tdb /fuseki-base/nmdc-db.nt.gz"
   ]
  },
  {
   "cell_type": "code",
   "execution_count": null,
   "id": "1a0bfb4b-e694-40b1-88af-4446e3fcc888",
   "metadata": {},
   "outputs": [],
   "source": [
    "!docker compose up fuseki -d"
   ]
  }
 ],
 "metadata": {
  "kernelspec": {
   "display_name": "nmdc-runtime",
   "language": "python",
   "name": "nmdc-runtime"
  },
  "language_info": {
   "codemirror_mode": {
    "name": "ipython",
    "version": 3
   },
   "file_extension": ".py",
   "mimetype": "text/x-python",
   "name": "python",
   "nbconvert_exporter": "python",
   "pygments_lexer": "ipython3",
   "version": "3.10.12"
  }
 },
 "nbformat": 4,
 "nbformat_minor": 5
}
