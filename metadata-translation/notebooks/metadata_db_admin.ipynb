{
 "cells": [
  {
   "cell_type": "code",
   "execution_count": 1,
   "metadata": {},
   "outputs": [],
   "source": [
    "import itertools\n",
    "import os\n",
    "import random\n",
    "\n",
    "from pymongo import MongoClient\n",
    "\n",
    "admin_client = MongoClient(\n",
    "    host=os.getenv(\"NMDC_MONGO_HOST\"),\n",
    "    username=\"nmdc-admin\",\n",
    "    password=os.getenv(\"NMDC_MONGO_ADMIN_PWD\")\n",
    ")\n",
    "admin_db = admin_client[\"admin\"]"
   ]
  },
  {
   "cell_type": "code",
   "execution_count": 2,
   "metadata": {},
   "outputs": [],
   "source": [
    "# SOMEDAY MAYBE add `authenticationRestrictions` of IP address / CIDR range per user\n",
    "\n",
    "def create_ro_user(username, pwd=\"\"):\n",
    "    admin_db.command(\"createUser\", f\"{username}\", pwd=pwd, roles=[\n",
    "        {\"role\": \"read\", \"db\": f\"{username}_scratch\"},\n",
    "        {\"role\": \"read\", \"db\": f\"{username}_dev\"},\n",
    "        {\"role\": \"read\", \"db\": f\"{username}_share\"},\n",
    "    ])\n",
    "\n",
    "def create_rw_user(username, pwd=\"\"):\n",
    "    admin_db.command(\"createUser\", f\"{username}\", pwd=pwd, roles=[\n",
    "        {\"role\": \"readWrite\", \"db\": f\"{username}_scratch\"},\n",
    "        {\"role\": \"readWrite\", \"db\": f\"{username}_dev\"},\n",
    "        {\"role\": \"readWrite\", \"db\": f\"{username}_share\"},\n",
    "    ])\n",
    "\n",
    "def usernames():\n",
    "    return sorted(doc[\"user\"] for doc in admin_db.command(\"usersInfo\")[\"users\"])\n",
    "\n",
    "def username_stems():\n",
    "    return sorted({u[:-3] for u in usernames() if u.endswith(\"_rw\")})\n",
    "\n",
    "def grant_read_roles_for_share_dbs(username):\n",
    "    stems = username_stems()\n",
    "    if not stems:\n",
    "        return\n",
    "    admin_db.command(\n",
    "        \"grantRolesToUser\",\n",
    "        username,\n",
    "        roles=[{\"role\": \"read\", \"db\": f\"{stem}_share\"} for stem in username_stems()])\n",
    "\n",
    "def ensure_share_reads():\n",
    "    for (stem, suffix) in itertools.product(username_stems(), (\"_ro\", \"_rw\")):\n",
    "        username = stem+suffix\n",
    "        grant_read_roles_for_share_dbs(username)\n",
    "\n",
    "def nwordspass(n=5, sep=\"-\", words_file=\"/usr/share/dict/words\"):\n",
    "    with open(words_file) as f:\n",
    "        lines = f.readlines()\n",
    "    words = set(line.strip().lower() for line in lines)\n",
    "    result = sep.join(random.sample(words, n))\n",
    "    return result\n",
    "\n",
    "def ensure_users(email):\n",
    "    username_stem = email.split('@')[0]\n",
    "    names = set(usernames())\n",
    "    result = {\"email\": email} \n",
    "    user_ro = username_stem+\"_ro\"\n",
    "    if user_ro not in names:\n",
    "        pwd = nwordspass()\n",
    "        create_ro_user(user_ro, pwd=pwd)\n",
    "        result[user_ro] = pwd\n",
    "    user_rw = username_stem+\"_rw\"\n",
    "    if user_rw not in names:\n",
    "        pwd = nwordspass()\n",
    "        create_rw_user(user_rw, pwd=pwd)\n",
    "        result[user_rw] = pwd\n",
    "    ensure_share_reads()\n",
    "    return result"
   ]
  },
  {
   "cell_type": "code",
   "execution_count": 3,
   "metadata": {},
   "outputs": [],
   "source": [
    "ensure_share_reads()"
   ]
  },
  {
   "cell_type": "code",
   "execution_count": 4,
   "metadata": {},
   "outputs": [],
   "source": [
    "#username_stems()"
   ]
  },
  {
   "cell_type": "code",
   "execution_count": 18,
   "metadata": {
    "scrolled": true
   },
   "outputs": [
    {
     "name": "stdout",
     "output_type": "stream",
     "text": [
      "{'email': 'dwinston@lbl.gov'}\n"
     ]
    }
   ],
   "source": [
    "ensured = ensure_users(\"dwinston@lbl.gov\")\n",
    "print(ensured)\n",
    "# if read-only and read-write usernames created, they appear below, along with generated passwords"
   ]
  }
 ],
 "metadata": {
  "kernelspec": {
   "display_name": "nmdc",
   "language": "python",
   "name": "nmdc"
  },
  "language_info": {
   "codemirror_mode": {
    "name": "ipython",
    "version": 3
   },
   "file_extension": ".py",
   "mimetype": "text/x-python",
   "name": "python",
   "nbconvert_exporter": "python",
   "pygments_lexer": "ipython3",
   "version": "3.8.5"
  }
 },
 "nbformat": 4,
 "nbformat_minor": 4
}
