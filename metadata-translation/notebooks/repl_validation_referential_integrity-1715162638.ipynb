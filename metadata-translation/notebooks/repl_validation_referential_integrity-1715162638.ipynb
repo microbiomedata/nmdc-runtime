{
 "cells": [
  {
   "cell_type": "markdown",
   "id": "2a66b2dc",
   "metadata": {},
   "source": [
    "# imports"
   ]
  },
  {
   "cell_type": "code",
   "execution_count": 1,
   "id": "f1c8bdb5",
   "metadata": {},
   "outputs": [],
   "source": [
    "%load_ext autoreload\n",
    "%autoreload 2"
   ]
  },
  {
   "cell_type": "code",
   "execution_count": 2,
   "id": "f7ff0664-1881-4eca-b018-4c5856dc2489",
   "metadata": {},
   "outputs": [],
   "source": [
    "import os\n",
    "\n",
    "from linkml_runtime.utils.schemaview import SchemaView\n",
    "from toolz import dissoc, assoc\n",
    "from tqdm.notebook import tqdm\n",
    "\n",
    "from nmdc_runtime.api.db.mongo import get_mongo_db, nmdc_schema_collection_names\n",
    "from nmdc_runtime.util import collection_name_to_class_names, nmdc_schema_view, nmdc_database_collection_instance_class_names\n",
    "from nmdc_schema.nmdc_schema_accepting_legacy_ids import Database as NMDCDatabase\n",
    "from nmdc_schema.get_nmdc_view import ViewGetter\n",
    "\n",
    "mdb = get_mongo_db()"
   ]
  },
  {
   "cell_type": "markdown",
   "id": "bcb5802b-8205-49b7-8784-dc137baff1a0",
   "metadata": {},
   "source": [
    "# \"pre-cleaning\""
   ]
  },
  {
   "cell_type": "markdown",
   "id": "8ecb1950-eaec-469c-b7ac-949650825093",
   "metadata": {},
   "source": [
    "Only consider populated collections with `id` field."
   ]
  },
  {
   "cell_type": "code",
   "execution_count": 3,
   "id": "dde4c77e-5e06-4751-930a-95906cdf89c5",
   "metadata": {},
   "outputs": [],
   "source": [
    "collection_names = sorted(nmdc_schema_collection_names(mdb))\n",
    "collection_names = [n for n in collection_names if mdb[n].find_one({\"id\": {\"$exists\": True}})]"
   ]
  },
  {
   "cell_type": "markdown",
   "id": "cddaaa54-262d-4549-a9a9-4c280a6a6341",
   "metadata": {},
   "source": [
    "Remove null-valued optional properties"
   ]
  },
  {
   "cell_type": "code",
   "execution_count": 4,
   "id": "b71ba7d2-ebd2-487d-a5cc-2a85ee14cb95",
   "metadata": {},
   "outputs": [
    {
     "data": {
      "application/vnd.jupyter.widget-view+json": {
       "model_id": "7c9c772648214f1faec08df226b7b44b",
       "version_major": 2,
       "version_minor": 0
      },
      "text/plain": [
       "  0%|          | 0/18 [00:00<?, ?it/s]"
      ]
     },
     "metadata": {},
     "output_type": "display_data"
    }
   ],
   "source": [
    "props = [\"used\", \"git_url\", \"was_associated_with\", \"was_generated_by\", \"compression_type\",]\n",
    "\n",
    "pbar = tqdm(total=len(collection_names))\n",
    "for p in props:\n",
    "    for coll_name in collection_names:\n",
    "        pbar.set_description(f\"checking {coll_name}...\")\n",
    "        docs_broken = list(mdb[coll_name].find({p: {\"$type\": 10}}, [\"id\"]))\n",
    "        if docs_broken:\n",
    "            print(f\"removing {len(docs_broken)} null-valued {p} values for {coll_name}...\")\n",
    "            mdb[coll_name].update_many(\n",
    "                {\"id\": {\"$in\": [d[\"id\"] for d in docs_broken]}},\n",
    "                {\"$unset\": {p: None}}\n",
    "            )\n",
    "        pbar.update(1)"
   ]
  },
  {
   "cell_type": "markdown",
   "id": "21c2f771-b8da-466a-90e8-2c17ac5e6388",
   "metadata": {},
   "source": [
    "# materialize single-collection db view"
   ]
  },
  {
   "cell_type": "markdown",
   "id": "56d6c224-ec80-4ac9-9dcf-bf04b33a61f9",
   "metadata": {},
   "source": [
    "Check assumption that every populated collection currently has documents of one type only."
   ]
  },
  {
   "cell_type": "code",
   "execution_count": 5,
   "id": "59176b24-2854-4387-891f-a6be2ceca4f2",
   "metadata": {},
   "outputs": [],
   "source": [
    "for name in collection_names:\n",
    "    assert len(collection_name_to_class_names[name]) == 1"
   ]
  },
  {
   "cell_type": "markdown",
   "id": "5ed95ee0-03b7-4dff-80e7-92a2b24bccf4",
   "metadata": {},
   "source": [
    "Define helper function."
   ]
  },
  {
   "cell_type": "code",
   "execution_count": 6,
   "id": "4470c52a-81e4-4511-b549-768c04c3b45d",
   "metadata": {},
   "outputs": [],
   "source": [
    "def class_hierarchy_as_list(obj):\n",
    "    rv = []\n",
    "    current_class = obj.__class__\n",
    "    \n",
    "    def recurse_through_bases(cls):\n",
    "        name = cls.__name__\n",
    "        if name == \"YAMLRoot\":\n",
    "            return rv\n",
    "        rv.append(name)\n",
    "        for base in cls.__bases__:\n",
    "            recurse_through_bases(base)\n",
    "        return rv\n",
    "    \n",
    "    return recurse_through_bases(current_class)"
   ]
  },
  {
   "cell_type": "markdown",
   "id": "b962e3c8-a346-49c5-8470-915f3cf9eb07",
   "metadata": {},
   "source": [
    "Materialize `alldocs` collection, associating all inherited classes with document via `type` field."
   ]
  },
  {
   "cell_type": "code",
   "execution_count": 10,
   "id": "ae8a6da2-6194-4aa5-aa36-8b21f5942b40",
   "metadata": {},
   "outputs": [
    {
     "data": {
      "text/plain": [
       "{'_id': ObjectId('64b59413fe178b5f0339ca41'),\n",
       " 'end_date': '2018-05-08',\n",
       " 'has_input': ['nmdc:procsm-11-dha8mw20'],\n",
       " 'has_output': ['nmdc:procsm-11-xb11xa62'],\n",
       " 'id': 'nmdc:extrp-11-k5fecy41',\n",
       " 'processing_institution': 'Battelle',\n",
       " 'quality_control_report': {'status': 'pass'},\n",
       " 'start_date': '2017-06-07T20:26Z',\n",
       " 'extraction_target': 'DNA',\n",
       " 'input_mass': {'has_numeric_value': 0.25, 'has_unit': 'g'}}"
      ]
     },
     "execution_count": 10,
     "metadata": {},
     "output_type": "execute_result"
    }
   ],
   "source": [
    "mdb.extraction_set.estimated_document_count()\n",
    "mdb.extraction_set.find_one()"
   ]
  },
  {
   "cell_type": "code",
   "execution_count": 9,
   "id": "b2e618f3-78b9-42b6-8ea9-63d080b1b0f6",
   "metadata": {
    "scrolled": true
   },
   "outputs": [
    {
     "data": {
      "application/vnd.jupyter.widget-view+json": {
       "model_id": "a55f9c6b3933449897439966b9e5b1b7",
       "version_major": 2,
       "version_minor": 0
      },
      "text/plain": [
       "  0%|          | 0/171332 [00:00<?, ?it/s]"
      ]
     },
     "metadata": {},
     "output_type": "display_data"
    },
    {
     "ename": "ValueError",
     "evalue": " Unknown argument: quality_control_report = {'status': 'pass'}",
     "output_type": "error",
     "traceback": [
      "\u001b[0;31m---------------------------------------------------------------------------\u001b[0m",
      "\u001b[0;31mValueError\u001b[0m                                Traceback (most recent call last)",
      "Cell \u001b[0;32mIn[9], line 10\u001b[0m\n\u001b[1;32m      8\u001b[0m pbar\u001b[38;5;241m.\u001b[39mset_description(\u001b[38;5;124mf\u001b[39m\u001b[38;5;124m\"\u001b[39m\u001b[38;5;124mprocessing \u001b[39m\u001b[38;5;132;01m{\u001b[39;00mcoll_name\u001b[38;5;132;01m}\u001b[39;00m\u001b[38;5;124m...\u001b[39m\u001b[38;5;124m\"\u001b[39m)\n\u001b[1;32m      9\u001b[0m \u001b[38;5;66;03m# try:\u001b[39;00m\n\u001b[0;32m---> 10\u001b[0m nmdcdb \u001b[38;5;241m=\u001b[39m \u001b[43mNMDCDatabase\u001b[49m\u001b[43m(\u001b[49m\u001b[38;5;241;43m*\u001b[39;49m\u001b[38;5;241;43m*\u001b[39;49m\u001b[43m{\u001b[49m\u001b[43mcoll_name\u001b[49m\u001b[43m:\u001b[49m\u001b[43m \u001b[49m\u001b[43m[\u001b[49m\u001b[43mdissoc\u001b[49m\u001b[43m(\u001b[49m\u001b[43mmdb\u001b[49m\u001b[43m[\u001b[49m\u001b[43mcoll_name\u001b[49m\u001b[43m]\u001b[49m\u001b[38;5;241;43m.\u001b[39;49m\u001b[43mfind_one\u001b[49m\u001b[43m(\u001b[49m\u001b[43m)\u001b[49m\u001b[43m,\u001b[49m\u001b[43m \u001b[49m\u001b[38;5;124;43m'\u001b[39;49m\u001b[38;5;124;43m_id\u001b[39;49m\u001b[38;5;124;43m'\u001b[39;49m\u001b[43m)\u001b[49m\u001b[43m]\u001b[49m\u001b[43m}\u001b[49m\u001b[43m)\u001b[49m\n\u001b[1;32m     11\u001b[0m \u001b[38;5;66;03m# except ValueError as e:\u001b[39;00m\n\u001b[1;32m     12\u001b[0m \u001b[38;5;66;03m#     print(f\"no {coll_name}!\")\u001b[39;00m\n\u001b[1;32m     13\u001b[0m \u001b[38;5;66;03m#     raise e\u001b[39;00m\n\u001b[1;32m     14\u001b[0m exemplar \u001b[38;5;241m=\u001b[39m \u001b[38;5;28mgetattr\u001b[39m(nmdcdb, coll_name)[\u001b[38;5;241m0\u001b[39m]\n",
      "File \u001b[0;32m<string>:28\u001b[0m, in \u001b[0;36m__init__\u001b[0;34m(self, planned_process_set, functional_annotation_agg, activity_set, biosample_set, collecting_biosamples_from_site_set, data_object_set, extraction_set, field_research_site_set, functional_annotation_set, genome_feature_set, library_preparation_set, mags_activity_set, metabolomics_analysis_activity_set, metagenome_annotation_activity_set, metagenome_assembly_set, metagenome_sequencing_activity_set, metaproteomics_analysis_activity_set, metatranscriptome_activity_set, nom_analysis_activity_set, omics_processing_set, pooling_set, processed_sample_set, read_based_taxonomy_analysis_activity_set, read_qc_analysis_activity_set, study_set, **_kwargs)\u001b[0m\n",
      "File \u001b[0;32m~/nmdc/nmdc-runtime/venv/lib/python3.10/site-packages/nmdc_schema/nmdc_schema_accepting_legacy_ids.py:595\u001b[0m, in \u001b[0;36mDatabase.__post_init__\u001b[0;34m(self, *_, **kwargs)\u001b[0m\n\u001b[1;32m    591\u001b[0m \u001b[38;5;28mself\u001b[39m\u001b[38;5;241m.\u001b[39m_normalize_inlined_as_list(slot_name\u001b[38;5;241m=\u001b[39m\u001b[38;5;124m\"\u001b[39m\u001b[38;5;124mcollecting_biosamples_from_site_set\u001b[39m\u001b[38;5;124m\"\u001b[39m, slot_type\u001b[38;5;241m=\u001b[39mCollectingBiosamplesFromSite, key_name\u001b[38;5;241m=\u001b[39m\u001b[38;5;124m\"\u001b[39m\u001b[38;5;124mid\u001b[39m\u001b[38;5;124m\"\u001b[39m, keyed\u001b[38;5;241m=\u001b[39m\u001b[38;5;28;01mTrue\u001b[39;00m)\n\u001b[1;32m    593\u001b[0m \u001b[38;5;28mself\u001b[39m\u001b[38;5;241m.\u001b[39m_normalize_inlined_as_list(slot_name\u001b[38;5;241m=\u001b[39m\u001b[38;5;124m\"\u001b[39m\u001b[38;5;124mdata_object_set\u001b[39m\u001b[38;5;124m\"\u001b[39m, slot_type\u001b[38;5;241m=\u001b[39mDataObject, key_name\u001b[38;5;241m=\u001b[39m\u001b[38;5;124m\"\u001b[39m\u001b[38;5;124mid\u001b[39m\u001b[38;5;124m\"\u001b[39m, keyed\u001b[38;5;241m=\u001b[39m\u001b[38;5;28;01mTrue\u001b[39;00m)\n\u001b[0;32m--> 595\u001b[0m \u001b[38;5;28;43mself\u001b[39;49m\u001b[38;5;241;43m.\u001b[39;49m\u001b[43m_normalize_inlined_as_list\u001b[49m\u001b[43m(\u001b[49m\u001b[43mslot_name\u001b[49m\u001b[38;5;241;43m=\u001b[39;49m\u001b[38;5;124;43m\"\u001b[39;49m\u001b[38;5;124;43mextraction_set\u001b[39;49m\u001b[38;5;124;43m\"\u001b[39;49m\u001b[43m,\u001b[49m\u001b[43m \u001b[49m\u001b[43mslot_type\u001b[49m\u001b[38;5;241;43m=\u001b[39;49m\u001b[43mExtraction\u001b[49m\u001b[43m,\u001b[49m\u001b[43m \u001b[49m\u001b[43mkey_name\u001b[49m\u001b[38;5;241;43m=\u001b[39;49m\u001b[38;5;124;43m\"\u001b[39;49m\u001b[38;5;124;43mid\u001b[39;49m\u001b[38;5;124;43m\"\u001b[39;49m\u001b[43m,\u001b[49m\u001b[43m \u001b[49m\u001b[43mkeyed\u001b[49m\u001b[38;5;241;43m=\u001b[39;49m\u001b[38;5;28;43;01mTrue\u001b[39;49;00m\u001b[43m)\u001b[49m\n\u001b[1;32m    597\u001b[0m \u001b[38;5;28mself\u001b[39m\u001b[38;5;241m.\u001b[39m_normalize_inlined_as_list(slot_name\u001b[38;5;241m=\u001b[39m\u001b[38;5;124m\"\u001b[39m\u001b[38;5;124mfield_research_site_set\u001b[39m\u001b[38;5;124m\"\u001b[39m, slot_type\u001b[38;5;241m=\u001b[39mFieldResearchSite, key_name\u001b[38;5;241m=\u001b[39m\u001b[38;5;124m\"\u001b[39m\u001b[38;5;124mid\u001b[39m\u001b[38;5;124m\"\u001b[39m, keyed\u001b[38;5;241m=\u001b[39m\u001b[38;5;28;01mTrue\u001b[39;00m)\n\u001b[1;32m    599\u001b[0m \u001b[38;5;28;01mif\u001b[39;00m \u001b[38;5;129;01mnot\u001b[39;00m \u001b[38;5;28misinstance\u001b[39m(\u001b[38;5;28mself\u001b[39m\u001b[38;5;241m.\u001b[39mfunctional_annotation_agg, \u001b[38;5;28mlist\u001b[39m):\n",
      "File \u001b[0;32m~/nmdc/nmdc-runtime/venv/lib/python3.10/site-packages/linkml_runtime/utils/yamlutils.py:97\u001b[0m, in \u001b[0;36mYAMLRoot._normalize_inlined_as_list\u001b[0;34m(self, slot_name, slot_type, key_name, keyed)\u001b[0m\n\u001b[1;32m     96\u001b[0m \u001b[38;5;28;01mdef\u001b[39;00m \u001b[38;5;21m_normalize_inlined_as_list\u001b[39m(\u001b[38;5;28mself\u001b[39m, slot_name: \u001b[38;5;28mstr\u001b[39m, slot_type: Type, key_name: \u001b[38;5;28mstr\u001b[39m, keyed: \u001b[38;5;28mbool\u001b[39m) \u001b[38;5;241m-\u001b[39m\u001b[38;5;241m>\u001b[39m \u001b[38;5;28;01mNone\u001b[39;00m:\n\u001b[0;32m---> 97\u001b[0m     \u001b[38;5;28;43mself\u001b[39;49m\u001b[38;5;241;43m.\u001b[39;49m\u001b[43m_normalize_inlined\u001b[49m\u001b[43m(\u001b[49m\u001b[43mslot_name\u001b[49m\u001b[43m,\u001b[49m\u001b[43m \u001b[49m\u001b[43mslot_type\u001b[49m\u001b[43m,\u001b[49m\u001b[43m \u001b[49m\u001b[43mkey_name\u001b[49m\u001b[43m,\u001b[49m\u001b[43m \u001b[49m\u001b[43mkeyed\u001b[49m\u001b[43m,\u001b[49m\u001b[43m \u001b[49m\u001b[38;5;28;43;01mTrue\u001b[39;49;00m\u001b[43m)\u001b[49m\n",
      "File \u001b[0;32m~/nmdc/nmdc-runtime/venv/lib/python3.10/site-packages/linkml_runtime/utils/yamlutils.py:182\u001b[0m, in \u001b[0;36mYAMLRoot._normalize_inlined\u001b[0;34m(self, slot_name, slot_type, key_name, keyed, is_list)\u001b[0m\n\u001b[1;32m    179\u001b[0m                 form_1(list_entry)\n\u001b[1;32m    180\u001b[0m     \u001b[38;5;28;01melse\u001b[39;00m:\n\u001b[1;32m    181\u001b[0m         \u001b[38;5;66;03m# **kwargs\u001b[39;00m\n\u001b[0;32m--> 182\u001b[0m         cooked_obj \u001b[38;5;241m=\u001b[39m \u001b[43mslot_type\u001b[49m\u001b[43m(\u001b[49m\u001b[38;5;241;43m*\u001b[39;49m\u001b[38;5;241;43m*\u001b[39;49m\u001b[43mas_dict\u001b[49m\u001b[43m(\u001b[49m\u001b[43mlist_entry\u001b[49m\u001b[43m)\u001b[49m\u001b[43m)\u001b[49m\n\u001b[1;32m    183\u001b[0m         order_up(cooked_obj[key_name], cooked_obj)\n\u001b[1;32m    184\u001b[0m \u001b[38;5;28;01melif\u001b[39;00m \u001b[38;5;28misinstance\u001b[39m(list_entry, \u001b[38;5;28mlist\u001b[39m):\n\u001b[1;32m    185\u001b[0m     \u001b[38;5;66;03m# *args\u001b[39;00m\n",
      "File \u001b[0;32m<string>:23\u001b[0m, in \u001b[0;36m__init__\u001b[0;34m(self, id, name, description, alternative_identifiers, designated_class, end_date, has_input, has_output, processing_institution, protocol_link, start_date, instrument_name, qc_status, qc_comment, has_failure_categorization, extractant, extraction_method, extraction_target, input_mass, volume, **_kwargs)\u001b[0m\n",
      "File \u001b[0;32m~/nmdc/nmdc-runtime/venv/lib/python3.10/site-packages/nmdc_schema/nmdc_schema_accepting_legacy_ids.py:3932\u001b[0m, in \u001b[0;36mExtraction.__post_init__\u001b[0;34m(self, *_, **kwargs)\u001b[0m\n\u001b[1;32m   3929\u001b[0m \u001b[38;5;28;01mif\u001b[39;00m \u001b[38;5;28mself\u001b[39m\u001b[38;5;241m.\u001b[39mvolume \u001b[38;5;129;01mis\u001b[39;00m \u001b[38;5;129;01mnot\u001b[39;00m \u001b[38;5;28;01mNone\u001b[39;00m \u001b[38;5;129;01mand\u001b[39;00m \u001b[38;5;129;01mnot\u001b[39;00m \u001b[38;5;28misinstance\u001b[39m(\u001b[38;5;28mself\u001b[39m\u001b[38;5;241m.\u001b[39mvolume, QuantityValue):\n\u001b[1;32m   3930\u001b[0m     \u001b[38;5;28mself\u001b[39m\u001b[38;5;241m.\u001b[39mvolume \u001b[38;5;241m=\u001b[39m QuantityValue(\u001b[38;5;241m*\u001b[39m\u001b[38;5;241m*\u001b[39mas_dict(\u001b[38;5;28mself\u001b[39m\u001b[38;5;241m.\u001b[39mvolume))\n\u001b[0;32m-> 3932\u001b[0m \u001b[38;5;28;43msuper\u001b[39;49m\u001b[43m(\u001b[49m\u001b[43m)\u001b[49m\u001b[38;5;241;43m.\u001b[39;49m\u001b[43m__post_init__\u001b[49m\u001b[43m(\u001b[49m\u001b[38;5;241;43m*\u001b[39;49m\u001b[38;5;241;43m*\u001b[39;49m\u001b[43mkwargs\u001b[49m\u001b[43m)\u001b[49m\n\u001b[1;32m   3933\u001b[0m \u001b[38;5;28mself\u001b[39m\u001b[38;5;241m.\u001b[39mdesignated_class \u001b[38;5;241m=\u001b[39m \u001b[38;5;28mstr\u001b[39m(\u001b[38;5;28mself\u001b[39m\u001b[38;5;241m.\u001b[39mclass_class_curie)\n",
      "File \u001b[0;32m~/nmdc/nmdc-runtime/venv/lib/python3.10/site-packages/nmdc_schema/nmdc_schema_accepting_legacy_ids.py:3849\u001b[0m, in \u001b[0;36mPlannedProcess.__post_init__\u001b[0;34m(self, *_, **kwargs)\u001b[0m\n\u001b[1;32m   3846\u001b[0m     \u001b[38;5;28mself\u001b[39m\u001b[38;5;241m.\u001b[39mhas_failure_categorization \u001b[38;5;241m=\u001b[39m [\u001b[38;5;28mself\u001b[39m\u001b[38;5;241m.\u001b[39mhas_failure_categorization] \u001b[38;5;28;01mif\u001b[39;00m \u001b[38;5;28mself\u001b[39m\u001b[38;5;241m.\u001b[39mhas_failure_categorization \u001b[38;5;129;01mis\u001b[39;00m \u001b[38;5;129;01mnot\u001b[39;00m \u001b[38;5;28;01mNone\u001b[39;00m \u001b[38;5;28;01melse\u001b[39;00m []\n\u001b[1;32m   3847\u001b[0m \u001b[38;5;28mself\u001b[39m\u001b[38;5;241m.\u001b[39mhas_failure_categorization \u001b[38;5;241m=\u001b[39m [v \u001b[38;5;28;01mif\u001b[39;00m \u001b[38;5;28misinstance\u001b[39m(v, FailureCategorization) \u001b[38;5;28;01melse\u001b[39;00m FailureCategorization(\u001b[38;5;241m*\u001b[39m\u001b[38;5;241m*\u001b[39mas_dict(v)) \u001b[38;5;28;01mfor\u001b[39;00m v \u001b[38;5;129;01min\u001b[39;00m \u001b[38;5;28mself\u001b[39m\u001b[38;5;241m.\u001b[39mhas_failure_categorization]\n\u001b[0;32m-> 3849\u001b[0m \u001b[38;5;28;43msuper\u001b[39;49m\u001b[43m(\u001b[49m\u001b[43m)\u001b[49m\u001b[38;5;241;43m.\u001b[39;49m\u001b[43m__post_init__\u001b[49m\u001b[43m(\u001b[49m\u001b[38;5;241;43m*\u001b[39;49m\u001b[38;5;241;43m*\u001b[39;49m\u001b[43mkwargs\u001b[49m\u001b[43m)\u001b[49m\n\u001b[1;32m   3850\u001b[0m \u001b[38;5;28mself\u001b[39m\u001b[38;5;241m.\u001b[39mdesignated_class \u001b[38;5;241m=\u001b[39m \u001b[38;5;28mstr\u001b[39m(\u001b[38;5;28mself\u001b[39m\u001b[38;5;241m.\u001b[39mclass_class_curie)\n",
      "File \u001b[0;32m~/nmdc/nmdc-runtime/venv/lib/python3.10/site-packages/nmdc_schema/nmdc_schema_accepting_legacy_ids.py:828\u001b[0m, in \u001b[0;36mNamedThing.__post_init__\u001b[0;34m(self, *_, **kwargs)\u001b[0m\n\u001b[1;32m    825\u001b[0m     \u001b[38;5;28mself\u001b[39m\u001b[38;5;241m.\u001b[39malternative_identifiers \u001b[38;5;241m=\u001b[39m [\u001b[38;5;28mself\u001b[39m\u001b[38;5;241m.\u001b[39malternative_identifiers] \u001b[38;5;28;01mif\u001b[39;00m \u001b[38;5;28mself\u001b[39m\u001b[38;5;241m.\u001b[39malternative_identifiers \u001b[38;5;129;01mis\u001b[39;00m \u001b[38;5;129;01mnot\u001b[39;00m \u001b[38;5;28;01mNone\u001b[39;00m \u001b[38;5;28;01melse\u001b[39;00m []\n\u001b[1;32m    826\u001b[0m \u001b[38;5;28mself\u001b[39m\u001b[38;5;241m.\u001b[39malternative_identifiers \u001b[38;5;241m=\u001b[39m [v \u001b[38;5;28;01mif\u001b[39;00m \u001b[38;5;28misinstance\u001b[39m(v, URIorCURIE) \u001b[38;5;28;01melse\u001b[39;00m URIorCURIE(v) \u001b[38;5;28;01mfor\u001b[39;00m v \u001b[38;5;129;01min\u001b[39;00m \u001b[38;5;28mself\u001b[39m\u001b[38;5;241m.\u001b[39malternative_identifiers]\n\u001b[0;32m--> 828\u001b[0m \u001b[38;5;28;43msuper\u001b[39;49m\u001b[43m(\u001b[49m\u001b[43m)\u001b[49m\u001b[38;5;241;43m.\u001b[39;49m\u001b[43m__post_init__\u001b[49m\u001b[43m(\u001b[49m\u001b[38;5;241;43m*\u001b[39;49m\u001b[38;5;241;43m*\u001b[39;49m\u001b[43mkwargs\u001b[49m\u001b[43m)\u001b[49m\n",
      "File \u001b[0;32m~/nmdc/nmdc-runtime/venv/lib/python3.10/site-packages/linkml_runtime/utils/yamlutils.py:48\u001b[0m, in \u001b[0;36mYAMLRoot.__post_init__\u001b[0;34m(self, *args, **kwargs)\u001b[0m\n\u001b[1;32m     46\u001b[0m     v \u001b[38;5;241m=\u001b[39m \u001b[38;5;28mrepr\u001b[39m(kwargs[k])[:\u001b[38;5;241m40\u001b[39m]\u001b[38;5;241m.\u001b[39mreplace(\u001b[38;5;124m'\u001b[39m\u001b[38;5;130;01m\\n\u001b[39;00m\u001b[38;5;124m'\u001b[39m, \u001b[38;5;124m'\u001b[39m\u001b[38;5;130;01m\\\\\u001b[39;00m\u001b[38;5;124mn\u001b[39m\u001b[38;5;124m'\u001b[39m)\n\u001b[1;32m     47\u001b[0m     messages\u001b[38;5;241m.\u001b[39mappend(\u001b[38;5;124mf\u001b[39m\u001b[38;5;124m\"\u001b[39m\u001b[38;5;132;01m{\u001b[39;00mTypedNode\u001b[38;5;241m.\u001b[39myaml_loc(k)\u001b[38;5;132;01m}\u001b[39;00m\u001b[38;5;124m Unknown argument: \u001b[39m\u001b[38;5;132;01m{\u001b[39;00mk\u001b[38;5;132;01m}\u001b[39;00m\u001b[38;5;124m = \u001b[39m\u001b[38;5;132;01m{\u001b[39;00mv\u001b[38;5;132;01m}\u001b[39;00m\u001b[38;5;124m\"\u001b[39m)\n\u001b[0;32m---> 48\u001b[0m \u001b[38;5;28;01mraise\u001b[39;00m \u001b[38;5;167;01mValueError\u001b[39;00m(\u001b[38;5;124m'\u001b[39m\u001b[38;5;130;01m\\n\u001b[39;00m\u001b[38;5;124m'\u001b[39m\u001b[38;5;241m.\u001b[39mjoin(messages))\n",
      "\u001b[0;31mValueError\u001b[0m:  Unknown argument: quality_control_report = {'status': 'pass'}"
     ]
    }
   ],
   "source": [
    "mdb.alldocs.drop()\n",
    "\n",
    "n_docs_total = sum(mdb[name].estimated_document_count() for name in collection_names)\n",
    "pbar = tqdm(total=n_docs_total)\n",
    "\n",
    "#- for each collection name\n",
    "for coll_name in collection_names:\n",
    "    pbar.set_description(f\"processing {coll_name}...\")\n",
    "    # try:\n",
    "    nmdcdb = NMDCDatabase(**{coll_name: [dissoc(mdb[coll_name].find_one(), '_id')]})\n",
    "    # except ValueError as e:\n",
    "    #     print(f\"no {coll_name}!\")\n",
    "    #     raise e\n",
    "    exemplar = getattr(nmdcdb, coll_name)[0]\n",
    "    newdoc_type = class_hierarchy_as_list(exemplar)\n",
    "    # for each doc in collection\n",
    "    mdb.alldocs.insert_many([assoc(dissoc(doc, 'type', '_id'), 'type', newdoc_type) for doc in mdb[coll_name].find()])\n",
    "    pbar.update(mdb[coll_name].estimated_document_count())\n",
    "\n",
    "pbar.close()\n",
    "mdb.alldocs.create_index(\"id\") # WTF... nmdc:0078a0f981ad3f92693c2bc3b6470791 prevents mdb.alldocs.create_index(\"id\", unique=True)\n",
    "print(\"refreshed `alldocs` collection\")"
   ]
  },
  {
   "cell_type": "markdown",
   "id": "ca194c0f-7417-41d2-bea8-a5a54392fee6",
   "metadata": {},
   "source": [
    "# Validation"
   ]
  },
  {
   "cell_type": "markdown",
   "id": "ab859bb2-808c-48e2-8412-d8a3a79ca4e8",
   "metadata": {},
   "source": [
    "Collect \"top level\" (nmdc:Database slot range) classes."
   ]
  },
  {
   "cell_type": "code",
   "execution_count": 8,
   "id": "a2dbaf22-46e9-4de7-8288-05bc8cd2e5f8",
   "metadata": {},
   "outputs": [],
   "source": [
    "nmdc_view = nmdc_schema_view()\n",
    "toplevel_classes = set()\n",
    "for name in nmdc_database_collection_instance_class_names():\n",
    "    toplevel_classes |= set(nmdc_view.class_ancestors(name))"
   ]
  },
  {
   "cell_type": "code",
   "execution_count": 9,
   "id": "969e13e0-25c0-4623-bcab-93097132924b",
   "metadata": {},
   "outputs": [
    {
     "data": {
      "text/plain": [
       "{'Activity',\n",
       " 'Biosample',\n",
       " 'BiosampleProcessing',\n",
       " 'CollectingBiosamplesFromSite',\n",
       " 'DataObject',\n",
       " 'Extraction',\n",
       " 'FieldResearchSite',\n",
       " 'FunctionalAnnotation',\n",
       " 'FunctionalAnnotationAggMember',\n",
       " 'GenomeFeature',\n",
       " 'LibraryPreparation',\n",
       " 'MagsAnalysisActivity',\n",
       " 'MaterialEntity',\n",
       " 'MetabolomicsAnalysisActivity',\n",
       " 'MetagenomeAnnotationActivity',\n",
       " 'MetagenomeAssembly',\n",
       " 'MetagenomeSequencingActivity',\n",
       " 'MetaproteomicsAnalysisActivity',\n",
       " 'MetatranscriptomeActivity',\n",
       " 'NamedThing',\n",
       " 'NomAnalysisActivity',\n",
       " 'OmicsProcessing',\n",
       " 'PlannedProcess',\n",
       " 'Pooling',\n",
       " 'ProcessedSample',\n",
       " 'ReadBasedTaxonomyAnalysisActivity',\n",
       " 'ReadQcAnalysisActivity',\n",
       " 'Site',\n",
       " 'Study',\n",
       " 'WorkflowExecutionActivity'}"
      ]
     },
     "execution_count": 9,
     "metadata": {},
     "output_type": "execute_result"
    }
   ],
   "source": [
    "toplevel_classes"
   ]
  },
  {
   "cell_type": "markdown",
   "id": "8645690e-7a9d-4f1e-8e62-0cbdde825890",
   "metadata": {},
   "source": [
    "Referential integrity checking:\n",
    "- \"naive\" errors collected in `not_found` list\n",
    "- (hierarchy-aware) type errors (doc found, but of invalid type) collected in `invalid_type` list"
   ]
  },
  {
   "cell_type": "code",
   "execution_count": null,
   "id": "103d70b6-24ab-41bd-8b7f-d2faaa028bdf",
   "metadata": {
    "scrolled": true
   },
   "outputs": [],
   "source": [
    "errors = {\"not_found\": [], \"invalid_type\": []}\n",
    "\n",
    "n_docs_total = sum(mdb[name].estimated_document_count() for name in collection_names)\n",
    "pbar = tqdm(total=n_docs_total)\n",
    "\n",
    "for name in sorted(collection_names):\n",
    "    cls_name = collection_name_to_class_names[name][0]\n",
    "    slot_map = {\n",
    "        slot.name: slot\n",
    "        for slot in nmdc_view.class_induced_slots(cls_name)\n",
    "    }\n",
    "    pbar.set_description(f\"processing {name}...\")\n",
    "    for doc in mdb[name].find():\n",
    "        doc = dissoc(doc, \"_id\")\n",
    "        for field, value in doc.items():\n",
    "            assert field in slot_map, f\"{name} doc {doc['id']}: field {field} not a valid slot\"\n",
    "            slot_range = str(slot_map[field].range)\n",
    "            assert slot_range, type(slot_range)\n",
    "            if not slot_range in toplevel_classes:\n",
    "                continue\n",
    "            if not isinstance(value, list):\n",
    "                value = [value]\n",
    "            for v in value:\n",
    "                if mdb.alldocs.find_one({\"id\": v}, [\"_id\"]) is None:\n",
    "                    errors[\"not_found\"].append(f\"{name} doc {doc['id']}: field {field} referenced doc {v} not found\")\n",
    "                elif mdb.alldocs.find_one({\"id\": v, \"type\": slot_range}, [\"_id\"]) is None:\n",
    "                    errors[\"invalid_type\"].append(f\"{name} doc {doc['id']}: field {field} referenced doc {v} not of type {slot_range}\")\n",
    "        pbar.update(1)\n",
    "pbar.close()           "
   ]
  },
  {
   "cell_type": "code",
   "execution_count": null,
   "id": "e01450d1-3369-4fc5-80be-9787e00a6597",
   "metadata": {},
   "outputs": [],
   "source": [
    "len(errors[\"not_found\"]), len(errors[\"invalid_type\"])"
   ]
  },
  {
   "cell_type": "code",
   "execution_count": null,
   "id": "a25857f4-e26e-4896-9e5f-607e7b4bb07c",
   "metadata": {},
   "outputs": [],
   "source": [
    "errors[\"not_found\"][:5]"
   ]
  },
  {
   "cell_type": "code",
   "execution_count": null,
   "id": "855e232d-0e94-428e-96eb-0535c5135bee",
   "metadata": {},
   "outputs": [],
   "source": [
    "mdb.alldocs.find_one({\"id\": \"nmdc:mga0vx38\"}) is None"
   ]
  },
  {
   "cell_type": "code",
   "execution_count": null,
   "id": "33516e3c-f10d-4c30-942b-0d01d06082f9",
   "metadata": {},
   "outputs": [],
   "source": [
    "errors[\"invalid_type\"][:5]"
   ]
  },
  {
   "cell_type": "code",
   "execution_count": null,
   "id": "29ec7e82-d079-4525-bd7b-d770fd69d788",
   "metadata": {},
   "outputs": [],
   "source": [
    "# OmicsProcessing is not subclass of Activity (!)\n",
    "mdb.alldocs.find_one({\"id\": \"emsl:570856\"})"
   ]
  },
  {
   "cell_type": "code",
   "execution_count": null,
   "id": "690ea8f8-05be-4d0a-aaa4-5c04aa4c640c",
   "metadata": {},
   "outputs": [],
   "source": []
  }
 ],
 "metadata": {
  "kernelspec": {
   "display_name": "Python 3 (ipykernel)",
   "language": "python",
   "name": "python3"
  },
  "language_info": {
   "codemirror_mode": {
    "name": "ipython",
    "version": 3
   },
   "file_extension": ".py",
   "mimetype": "text/x-python",
   "name": "python",
   "nbconvert_exporter": "python",
   "pygments_lexer": "ipython3",
   "version": "3.10.13"
  }
 },
 "nbformat": 4,
 "nbformat_minor": 5
}
