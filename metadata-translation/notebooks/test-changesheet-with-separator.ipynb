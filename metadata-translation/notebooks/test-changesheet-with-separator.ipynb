{
 "cells": [
  {
   "cell_type": "code",
   "execution_count": 1,
   "id": "2339ca25-49ef-4699-8fca-6bb47275fce4",
   "metadata": {},
   "outputs": [],
   "source": [
    "# append path info to access api\n",
    "import os, sys\n",
    "from git_root import git_root\n",
    "sys.path.append(os.path.abspath(git_root(\"nmdc_runtime/api/core\")))"
   ]
  },
  {
   "cell_type": "code",
   "execution_count": 2,
   "id": "6cf9802a-da13-4f2a-94a8-0241b5f1cb6f",
   "metadata": {},
   "outputs": [],
   "source": [
    "import json\n",
    "import copy\n",
    "import pandas as pds\n",
    "from toolz import dicttoolz as dtlz\n",
    "from pprint import pprint\n",
    "from changesheets import load_changesheet, update_data\n",
    "from linkml_runtime.utils.schemaview import SchemaView"
   ]
  },
  {
   "cell_type": "markdown",
   "id": "d46f64bb-eb34-41b5-828b-252e918abb11",
   "metadata": {},
   "source": [
    "### load test study data"
   ]
  },
  {
   "cell_type": "code",
   "execution_count": 3,
   "id": "59bde064-e2d0-467d-920e-79d1480cfd0f",
   "metadata": {},
   "outputs": [],
   "source": [
    "with open('data/study-data1.json') as f:\n",
    "    study1 = json.load(f)\n",
    "with open('data/study-data2.json') as f:\n",
    "    study2 = json.load(f)\n",
    "with open('data/study-data3.json') as f:\n",
    "    study3 = json.load(f)"
   ]
  },
  {
   "cell_type": "markdown",
   "id": "14301974-ad2d-46cc-8c63-216531de5510",
   "metadata": {},
   "source": [
    "### function to simulate data retrieval"
   ]
  },
  {
   "cell_type": "code",
   "execution_count": 4,
   "id": "f19c3849-d969-4458-9d53-04b8ad314e04",
   "metadata": {},
   "outputs": [],
   "source": [
    "def get_study_data(_id:str):\n",
    "    global study1, study2, study3\n",
    "    for s in (study1, study2, study3):\n",
    "        if s['id'] == _id.strip():\n",
    "            return s\n",
    "    return None # if not found"
   ]
  },
  {
   "cell_type": "code",
   "execution_count": 5,
   "id": "5ad0e0b1-ee4f-4602-905f-a15881d40259",
   "metadata": {},
   "outputs": [],
   "source": [
    "# pprint(get_study_data('gold:Gs0110132')) # testing\n",
    "# study3"
   ]
  },
  {
   "cell_type": "markdown",
   "id": "fb688422-7a95-4932-ab69-2f174cedbfc4",
   "metadata": {},
   "source": [
    "### load change sheet"
   ]
  },
  {
   "cell_type": "code",
   "execution_count": 6,
   "id": "27a45d37-89ca-4a52-8f7a-f659c2f3b9bd",
   "metadata": {},
   "outputs": [
    {
     "data": {
      "text/html": [
       "<div>\n",
       "<style scoped>\n",
       "    .dataframe tbody tr th:only-of-type {\n",
       "        vertical-align: middle;\n",
       "    }\n",
       "\n",
       "    .dataframe tbody tr th {\n",
       "        vertical-align: top;\n",
       "    }\n",
       "\n",
       "    .dataframe thead th {\n",
       "        text-align: right;\n",
       "    }\n",
       "</style>\n",
       "<table border=\"1\" class=\"dataframe\">\n",
       "  <thead>\n",
       "    <tr style=\"text-align: right;\">\n",
       "      <th></th>\n",
       "      <th>id</th>\n",
       "      <th>action</th>\n",
       "      <th>attribute</th>\n",
       "      <th>value</th>\n",
       "      <th>group_id</th>\n",
       "      <th>path</th>\n",
       "    </tr>\n",
       "  </thead>\n",
       "  <tbody>\n",
       "    <tr>\n",
       "      <th>0</th>\n",
       "      <td>gold:Gs0110115</td>\n",
       "      <td>update</td>\n",
       "      <td>name</td>\n",
       "      <td>soil study</td>\n",
       "      <td>gold:Gs0110115</td>\n",
       "      <td>name</td>\n",
       "    </tr>\n",
       "    <tr>\n",
       "      <th>1</th>\n",
       "      <td></td>\n",
       "      <td>update</td>\n",
       "      <td>ecosystem</td>\n",
       "      <td>soil</td>\n",
       "      <td>gold:Gs0110115</td>\n",
       "      <td>ecosystem</td>\n",
       "    </tr>\n",
       "    <tr>\n",
       "      <th>2</th>\n",
       "      <td>gold:Gs0112340</td>\n",
       "      <td>update</td>\n",
       "      <td>doi/has_raw_value</td>\n",
       "      <td>10.9999/8888</td>\n",
       "      <td>gold:Gs0112340</td>\n",
       "      <td>doi/has_raw_value</td>\n",
       "    </tr>\n",
       "    <tr>\n",
       "      <th>3</th>\n",
       "      <td></td>\n",
       "      <td>update</td>\n",
       "      <td>name</td>\n",
       "      <td>data for study 2</td>\n",
       "      <td>gold:Gs0112340</td>\n",
       "      <td>name</td>\n",
       "    </tr>\n",
       "  </tbody>\n",
       "</table>\n",
       "</div>"
      ],
      "text/plain": [
       "               id  action          attribute             value  \\\n",
       "0  gold:Gs0110115  update               name        soil study   \n",
       "1                  update          ecosystem              soil   \n",
       "2  gold:Gs0112340  update  doi/has_raw_value      10.9999/8888   \n",
       "3                  update               name  data for study 2   \n",
       "\n",
       "         group_id               path  \n",
       "0  gold:Gs0110115               name  \n",
       "1  gold:Gs0110115          ecosystem  \n",
       "2  gold:Gs0112340  doi/has_raw_value  \n",
       "3  gold:Gs0112340               name  "
      ]
     },
     "execution_count": 6,
     "metadata": {},
     "output_type": "execute_result"
    }
   ],
   "source": [
    "sheetDf = load_changesheet('data/changesheet-with-separator1.tsv')\n",
    "sheetDf"
   ]
  },
  {
   "cell_type": "markdown",
   "id": "a8e931fd-af59-456b-b7b2-f8efef1ba02e",
   "metadata": {},
   "source": [
    "### split changesheet into groups\n",
    "Groups are returned as tuples in which:\n",
    "- The first element is the grouping id.\n",
    "- The second element is the **dataframe** with the changesheet info."
   ]
  },
  {
   "cell_type": "code",
   "execution_count": 7,
   "id": "19b9db5a-634d-41e6-b430-1affc3b32c8f",
   "metadata": {},
   "outputs": [],
   "source": [
    "grouped = list(sheetDf.groupby(\"group_id\"))"
   ]
  },
  {
   "cell_type": "markdown",
   "id": "ab554e75-eef7-4942-ae84-fa77309a0fb3",
   "metadata": {},
   "source": [
    "### update data associated with first id"
   ]
  },
  {
   "cell_type": "code",
   "execution_count": 8,
   "id": "e48c3b14-0da1-411f-b1e2-d4552c6ef88a",
   "metadata": {},
   "outputs": [
    {
     "data": {
      "text/plain": [
       "('gold:Gs0110115',\n",
       "                id  action  attribute       value        group_id       path\n",
       " 0  gold:Gs0110115  update       name  soil study  gold:Gs0110115       name\n",
       " 1                  update  ecosystem        soil  gold:Gs0110115  ecosystem)"
      ]
     },
     "execution_count": 8,
     "metadata": {},
     "output_type": "execute_result"
    }
   ],
   "source": [
    "grouped[0]"
   ]
  },
  {
   "cell_type": "code",
   "execution_count": 9,
   "id": "af0b7f54-1328-455a-9945-6659528036f2",
   "metadata": {},
   "outputs": [
    {
     "data": {
      "text/plain": [
       "{'id': 'gold:Gs0110115',\n",
       " 'name': 'Avena fatua rhizosphere microbial communities from ...',\n",
       " 'ecosystem': 'Host-associated',\n",
       " 'ecosystem_category': 'Plants',\n",
       " 'ecosystem_type': 'Rhizosphere',\n",
       " 'ecosystem_subtype': 'Soil',\n",
       " 'specific_ecosystem': 'Unclassified',\n",
       " 'principal_investigator': {'has_raw_value': 'Mary Firestone'},\n",
       " 'doi': {'has_raw_value': '10.25585/1487760'},\n",
       " 'type': 'nmdc:Study'}"
      ]
     },
     "execution_count": 9,
     "metadata": {},
     "output_type": "execute_result"
    }
   ],
   "source": [
    "_id = grouped[0][0] # id is first element\n",
    "data1 = get_study_data(_id) # get data for id\n",
    "data1"
   ]
  },
  {
   "cell_type": "code",
   "execution_count": 10,
   "id": "7eb548cd-e051-4215-a9da-c135bdf8f78b",
   "metadata": {},
   "outputs": [
    {
     "data": {
      "text/html": [
       "<div>\n",
       "<style scoped>\n",
       "    .dataframe tbody tr th:only-of-type {\n",
       "        vertical-align: middle;\n",
       "    }\n",
       "\n",
       "    .dataframe tbody tr th {\n",
       "        vertical-align: top;\n",
       "    }\n",
       "\n",
       "    .dataframe thead th {\n",
       "        text-align: right;\n",
       "    }\n",
       "</style>\n",
       "<table border=\"1\" class=\"dataframe\">\n",
       "  <thead>\n",
       "    <tr style=\"text-align: right;\">\n",
       "      <th></th>\n",
       "      <th>id</th>\n",
       "      <th>action</th>\n",
       "      <th>attribute</th>\n",
       "      <th>value</th>\n",
       "      <th>group_id</th>\n",
       "      <th>path</th>\n",
       "    </tr>\n",
       "  </thead>\n",
       "  <tbody>\n",
       "    <tr>\n",
       "      <th>0</th>\n",
       "      <td>gold:Gs0110115</td>\n",
       "      <td>update</td>\n",
       "      <td>name</td>\n",
       "      <td>soil study</td>\n",
       "      <td>gold:Gs0110115</td>\n",
       "      <td>name</td>\n",
       "    </tr>\n",
       "    <tr>\n",
       "      <th>1</th>\n",
       "      <td></td>\n",
       "      <td>update</td>\n",
       "      <td>ecosystem</td>\n",
       "      <td>soil</td>\n",
       "      <td>gold:Gs0110115</td>\n",
       "      <td>ecosystem</td>\n",
       "    </tr>\n",
       "  </tbody>\n",
       "</table>\n",
       "</div>"
      ],
      "text/plain": [
       "               id  action  attribute       value        group_id       path\n",
       "0  gold:Gs0110115  update       name  soil study  gold:Gs0110115       name\n",
       "1                  update  ecosystem        soil  gold:Gs0110115  ecosystem"
      ]
     },
     "execution_count": 10,
     "metadata": {},
     "output_type": "execute_result"
    }
   ],
   "source": [
    "# the change dataframe is the second element\n",
    "changeDf = grouped[0][1]\n",
    "changeDf"
   ]
  },
  {
   "cell_type": "code",
   "execution_count": 11,
   "id": "4cdc1ddd-81bb-4867-bdd2-83b80eebc231",
   "metadata": {},
   "outputs": [
    {
     "name": "stdout",
     "output_type": "stream",
     "text": [
      "{'id': 'gold:Gs0110115', 'name': 'Avena fatua rhizosphere microbial communities from ...', 'ecosystem': 'Host-associated', 'ecosystem_category': 'Plants', 'ecosystem_type': 'Rhizosphere', 'ecosystem_subtype': 'Soil', 'specific_ecosystem': 'Unclassified', 'principal_investigator': {'has_raw_value': 'Mary Firestone'}, 'doi': {'has_raw_value': '10.25585/1487760'}, 'type': 'nmdc:Study'}\n"
     ]
    },
    {
     "data": {
      "text/plain": [
       "{'id': 'gold:Gs0110115',\n",
       " 'name': 'soil study',\n",
       " 'ecosystem': 'soil',\n",
       " 'ecosystem_category': 'Plants',\n",
       " 'ecosystem_type': 'Rhizosphere',\n",
       " 'ecosystem_subtype': 'Soil',\n",
       " 'specific_ecosystem': 'Unclassified',\n",
       " 'principal_investigator': {'has_raw_value': 'Mary Firestone'},\n",
       " 'doi': {'has_raw_value': '10.25585/1487760'},\n",
       " 'type': 'nmdc:Study'}"
      ]
     },
     "execution_count": 11,
     "metadata": {},
     "output_type": "execute_result"
    }
   ],
   "source": [
    "update_data(data1, changeDf, print_data=True)\n",
    "# old data is on top\n",
    "# updated data is on bottom"
   ]
  },
  {
   "cell_type": "markdown",
   "id": "e9053f04-72bb-492e-8f57-03d3143426ad",
   "metadata": {},
   "source": [
    "### update data associated with second id"
   ]
  },
  {
   "cell_type": "code",
   "execution_count": 12,
   "id": "41b89fa2-fb76-468a-b38f-f8d040707215",
   "metadata": {},
   "outputs": [
    {
     "data": {
      "text/plain": [
       "('gold:Gs0112340',\n",
       "                id  action          attribute             value  \\\n",
       " 2  gold:Gs0112340  update  doi/has_raw_value      10.9999/8888   \n",
       " 3                  update               name  data for study 2   \n",
       " \n",
       "          group_id               path  \n",
       " 2  gold:Gs0112340  doi/has_raw_value  \n",
       " 3  gold:Gs0112340               name  )"
      ]
     },
     "execution_count": 12,
     "metadata": {},
     "output_type": "execute_result"
    }
   ],
   "source": [
    "grouped[1]"
   ]
  },
  {
   "cell_type": "code",
   "execution_count": 14,
   "id": "49b42d58-629c-4e39-89c6-e6259babddc6",
   "metadata": {},
   "outputs": [
    {
     "data": {
      "text/plain": [
       "{'id': 'gold:Gs0112340',\n",
       " 'name': 'Thawing permafrost microbial communities from the Arctic, studying carbon transformations',\n",
       " 'description': 'A fundamental challenge of microbial environmental science is ...',\n",
       " 'ecosystem': 'Environmental',\n",
       " 'ecosystem_category': 'Terrestrial',\n",
       " 'ecosystem_type': 'Soil',\n",
       " 'ecosystem_subtype': 'Wetlands',\n",
       " 'specific_ecosystem': 'Permafrost',\n",
       " 'principal_investigator': {'has_raw_value': 'Virginia Rich'},\n",
       " 'doi': {'has_raw_value': '10.25585/1487764'},\n",
       " 'type': 'nmdc:Study'}"
      ]
     },
     "execution_count": 14,
     "metadata": {},
     "output_type": "execute_result"
    }
   ],
   "source": [
    "_id = grouped[1][0] # id is first element\n",
    "data2 = get_study_data(_id) # get data for id\n",
    "data2"
   ]
  },
  {
   "cell_type": "code",
   "execution_count": 15,
   "id": "460512d5-869b-4147-84d2-a5d20fae8ffc",
   "metadata": {},
   "outputs": [
    {
     "data": {
      "text/html": [
       "<div>\n",
       "<style scoped>\n",
       "    .dataframe tbody tr th:only-of-type {\n",
       "        vertical-align: middle;\n",
       "    }\n",
       "\n",
       "    .dataframe tbody tr th {\n",
       "        vertical-align: top;\n",
       "    }\n",
       "\n",
       "    .dataframe thead th {\n",
       "        text-align: right;\n",
       "    }\n",
       "</style>\n",
       "<table border=\"1\" class=\"dataframe\">\n",
       "  <thead>\n",
       "    <tr style=\"text-align: right;\">\n",
       "      <th></th>\n",
       "      <th>id</th>\n",
       "      <th>action</th>\n",
       "      <th>attribute</th>\n",
       "      <th>value</th>\n",
       "      <th>group_id</th>\n",
       "      <th>path</th>\n",
       "    </tr>\n",
       "  </thead>\n",
       "  <tbody>\n",
       "    <tr>\n",
       "      <th>2</th>\n",
       "      <td>gold:Gs0112340</td>\n",
       "      <td>update</td>\n",
       "      <td>doi/has_raw_value</td>\n",
       "      <td>10.9999/8888</td>\n",
       "      <td>gold:Gs0112340</td>\n",
       "      <td>doi/has_raw_value</td>\n",
       "    </tr>\n",
       "    <tr>\n",
       "      <th>3</th>\n",
       "      <td></td>\n",
       "      <td>update</td>\n",
       "      <td>name</td>\n",
       "      <td>data for study 2</td>\n",
       "      <td>gold:Gs0112340</td>\n",
       "      <td>name</td>\n",
       "    </tr>\n",
       "  </tbody>\n",
       "</table>\n",
       "</div>"
      ],
      "text/plain": [
       "               id  action          attribute             value  \\\n",
       "2  gold:Gs0112340  update  doi/has_raw_value      10.9999/8888   \n",
       "3                  update               name  data for study 2   \n",
       "\n",
       "         group_id               path  \n",
       "2  gold:Gs0112340  doi/has_raw_value  \n",
       "3  gold:Gs0112340               name  "
      ]
     },
     "execution_count": 15,
     "metadata": {},
     "output_type": "execute_result"
    }
   ],
   "source": [
    "# the change dataframe is the second element\n",
    "changeDf = grouped[1][1]\n",
    "changeDf"
   ]
  },
  {
   "cell_type": "code",
   "execution_count": 16,
   "id": "d123f563-dfaf-430a-9f19-16e2d4165135",
   "metadata": {},
   "outputs": [
    {
     "name": "stdout",
     "output_type": "stream",
     "text": [
      "{'id': 'gold:Gs0112340', 'name': 'Thawing permafrost microbial communities from the Arctic, studying carbon transformations', 'description': 'A fundamental challenge of microbial environmental science is ...', 'ecosystem': 'Environmental', 'ecosystem_category': 'Terrestrial', 'ecosystem_type': 'Soil', 'ecosystem_subtype': 'Wetlands', 'specific_ecosystem': 'Permafrost', 'principal_investigator': {'has_raw_value': 'Virginia Rich'}, 'doi': {'has_raw_value': '10.25585/1487764'}, 'type': 'nmdc:Study'}\n"
     ]
    },
    {
     "data": {
      "text/plain": [
       "{'id': 'gold:Gs0112340',\n",
       " 'name': 'data for study 2',\n",
       " 'description': 'A fundamental challenge of microbial environmental science is ...',\n",
       " 'ecosystem': 'Environmental',\n",
       " 'ecosystem_category': 'Terrestrial',\n",
       " 'ecosystem_type': 'Soil',\n",
       " 'ecosystem_subtype': 'Wetlands',\n",
       " 'specific_ecosystem': 'Permafrost',\n",
       " 'principal_investigator': {'has_raw_value': 'Virginia Rich'},\n",
       " 'doi': {'has_raw_value': '10.9999/8888'},\n",
       " 'type': 'nmdc:Study'}"
      ]
     },
     "execution_count": 16,
     "metadata": {},
     "output_type": "execute_result"
    }
   ],
   "source": [
    "update_data(data2, changeDf, print_data=True)\n",
    "# old data is on top\n",
    "# updated data is on bottom"
   ]
  },
  {
   "cell_type": "markdown",
   "id": "cb66f415-07c1-46ef-af1a-81587a7b846e",
   "metadata": {},
   "source": [
    "### putting it all together in a loop"
   ]
  },
  {
   "cell_type": "code",
   "execution_count": 17,
   "id": "b2e60846-381a-4664-97f5-162ca08f4019",
   "metadata": {},
   "outputs": [],
   "source": [
    "grouped = list(sheetDf.groupby(\"group_id\"))"
   ]
  },
  {
   "cell_type": "code",
   "execution_count": 18,
   "id": "976c8950-1306-4886-b4d8-68c2849de5ab",
   "metadata": {},
   "outputs": [
    {
     "name": "stdout",
     "output_type": "stream",
     "text": [
      "               id  action  attribute       value        group_id       path\n",
      "0  gold:Gs0110115  update       name  soil study  gold:Gs0110115       name\n",
      "1                  update  ecosystem        soil  gold:Gs0110115  ecosystem\n",
      "{\n",
      "  \"id\": \"gold:Gs0112340\",\n",
      "  \"name\": \"soil study\",\n",
      "  \"description\": \"A fundamental challenge of microbial environmental science is ...\",\n",
      "  \"ecosystem\": \"soil\",\n",
      "  \"ecosystem_category\": \"Terrestrial\",\n",
      "  \"ecosystem_type\": \"Soil\",\n",
      "  \"ecosystem_subtype\": \"Wetlands\",\n",
      "  \"specific_ecosystem\": \"Permafrost\",\n",
      "  \"principal_investigator\": {\n",
      "    \"has_raw_value\": \"Virginia Rich\"\n",
      "  },\n",
      "  \"doi\": {\n",
      "    \"has_raw_value\": \"10.25585/1487764\"\n",
      "  },\n",
      "  \"type\": \"nmdc:Study\"\n",
      "}\n",
      "               id  action          attribute             value  \\\n",
      "2  gold:Gs0112340  update  doi/has_raw_value      10.9999/8888   \n",
      "3                  update               name  data for study 2   \n",
      "\n",
      "         group_id               path  \n",
      "2  gold:Gs0112340  doi/has_raw_value  \n",
      "3  gold:Gs0112340               name  \n",
      "{\n",
      "  \"id\": \"gold:Gs0112340\",\n",
      "  \"name\": \"data for study 2\",\n",
      "  \"description\": \"A fundamental challenge of microbial environmental science is ...\",\n",
      "  \"ecosystem\": \"Environmental\",\n",
      "  \"ecosystem_category\": \"Terrestrial\",\n",
      "  \"ecosystem_type\": \"Soil\",\n",
      "  \"ecosystem_subtype\": \"Wetlands\",\n",
      "  \"specific_ecosystem\": \"Permafrost\",\n",
      "  \"principal_investigator\": {\n",
      "    \"has_raw_value\": \"Virginia Rich\"\n",
      "  },\n",
      "  \"doi\": {\n",
      "    \"has_raw_value\": \"10.9999/8888\"\n",
      "  },\n",
      "  \"type\": \"nmdc:Study\"\n",
      "}\n"
     ]
    }
   ],
   "source": [
    "for g in grouped:\n",
    "    _id = g[0] # id is the first element\n",
    "    changeDf = g[1] # dataframe is the second element\n",
    "    data = get_study_data(_id) # get data for id\n",
    "    print(changeDf)\n",
    "    print(json.dumps(update_data(data2, changeDf), indent=2))\n",
    "    "
   ]
  },
  {
   "cell_type": "code",
   "execution_count": null,
   "id": "1239145a-b14d-4f73-907d-cb2d2b1a2beb",
   "metadata": {},
   "outputs": [],
   "source": []
  },
  {
   "cell_type": "code",
   "execution_count": null,
   "id": "7ba21eb2-f348-4a4d-b269-0e7110b2ca00",
   "metadata": {},
   "outputs": [],
   "source": []
  }
 ],
 "metadata": {
  "kernelspec": {
   "display_name": "Python 3 (ipykernel)",
   "language": "python",
   "name": "python3"
  },
  "language_info": {
   "codemirror_mode": {
    "name": "ipython",
    "version": 3
   },
   "file_extension": ".py",
   "mimetype": "text/x-python",
   "name": "python",
   "nbconvert_exporter": "python",
   "pygments_lexer": "ipython3",
   "version": "3.9.7"
  }
 },
 "nbformat": 4,
 "nbformat_minor": 5
}
