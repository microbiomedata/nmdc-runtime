{
 "cells": [
  {
   "cell_type": "markdown",
   "metadata": {
    "papermill": {
     "duration": 0.018986,
     "end_time": "2020-02-27T02:35:55.374114",
     "exception": false,
     "start_time": "2020-02-27T02:35:55.355128",
     "status": "completed"
    },
    "tags": []
   },
   "source": [
    "## Translate GOLD study, project, and biosample data into json.\n",
    "The notebooks demostrates how to translate study, project, and biosample data from the GOLD database into json that conforms with the [NMDC schema](https://github.com/microbiomedata/nmdc-metadata/blob/schema-draft/README.md).  \n",
    "Before doing the translation it is important that you have an up to date `nmdc.py` file in the `lib` directory.  \n",
    "\n",
    "The python modules for running the notebook are in the `requirements.txt` file.  "
   ]
  },
  {
   "cell_type": "code",
   "execution_count": 1,
   "metadata": {
    "papermill": {
     "duration": 0.666413,
     "end_time": "2020-02-27T02:35:56.055530",
     "exception": false,
     "start_time": "2020-02-27T02:35:55.389117",
     "status": "completed"
    },
    "tags": []
   },
   "outputs": [],
   "source": [
    "import json\n",
    "import pandas as pds\n",
    "import jsonasobj\n",
    "import lib.nmdc as nmdc\n",
    "import lib.data_operations as dop\n",
    "from pandasql import sqldf\n",
    "\n",
    "def pysqldf(q):\n",
    "    return sqldf(q, globals())"
   ]
  },
  {
   "cell_type": "markdown",
   "metadata": {
    "papermill": {
     "duration": 0.013894,
     "end_time": "2020-02-27T02:35:56.085646",
     "exception": false,
     "start_time": "2020-02-27T02:35:56.071752",
     "status": "completed"
    },
    "tags": []
   },
   "source": [
    "## Load GOLD tables (i.e., tab delimited files) from nmdc zip file\n",
    "The NMDC data is currently stored in a zip file. Instead of unzipping the file, simply use the `zipfile` library to load the `study`, `project`, `contact`, `project_biosample`, and `biosample` tables (stored as tab-delimited files). The `project_biosample` table is needed as a cross-linking table between `project` and `biosample`. The `contact` table contains information about principal investigators.\n",
    "\n",
    "The code for unzipping and creating the dataframe is found in the `make_dataframe` function. As part of the dataframe creation process, the column names are lower cased and spaces are replaced with underscored. I find it helpful to have some standarization on column names when doing data wrangling. This behavior can be overridden if you wish."
   ]
  },
  {
   "cell_type": "code",
   "execution_count": 2,
   "metadata": {
    "papermill": {
     "duration": 0.08448,
     "end_time": "2020-02-27T02:35:56.182910",
     "exception": false,
     "start_time": "2020-02-27T02:35:56.098430",
     "status": "completed"
    },
    "tags": []
   },
   "outputs": [],
   "source": [
    "study = dop.make_dataframe(\"export.sql/STUDY_DATA_TABLE.dsv\", file_archive_name=\"data/nmdc-version2.zip\")\n",
    "contact = dop.make_dataframe(\"export.sql/CONTACT_DATA_TABLE.dsv\", file_archive_name=\"data/nmdc-version2.zip\")\n",
    "project = dop.make_dataframe(\"export.sql/PROJECT_DATA_TABLE.dsv\", file_archive_name=\"data/nmdc-version2.zip\")\n",
    "project_biosample = dop.make_dataframe(\"export.sql/PROJECT_BIOSAMPLE_DATA_TABLE.dsv\", file_archive_name=\"data/nmdc-version2.zip\")\n",
    "biosample = dop.make_dataframe(\"export.sql/BIOSAMPLE_DATA_TABLE.dsv\", file_archive_name=\"data/nmdc-version2.zip\")\n",
    "proposals = dop.make_dataframe(\"data/JGI-EMSL-FICUS-proposals.fnl.tsv\")"
   ]
  },
  {
   "cell_type": "markdown",
   "metadata": {
    "papermill": {
     "duration": 0.012064,
     "end_time": "2020-02-27T02:35:56.208277",
     "exception": false,
     "start_time": "2020-02-27T02:35:56.196213",
     "status": "completed"
    },
    "tags": []
   },
   "source": [
    "## Subset GOLD tables to records where active = 'Yes'"
   ]
  },
  {
   "cell_type": "code",
   "execution_count": 3,
   "metadata": {
    "papermill": {
     "duration": 0.181436,
     "end_time": "2020-02-27T02:35:56.400926",
     "exception": false,
     "start_time": "2020-02-27T02:35:56.219490",
     "status": "completed"
    },
    "tags": []
   },
   "outputs": [],
   "source": [
    "q = \"\"\"\n",
    "select \n",
    "    *\n",
    "from\n",
    "    study\n",
    "where\n",
    "    active = 'Yes'\n",
    "\"\"\"\n",
    "study = sqldf(q)"
   ]
  },
  {
   "cell_type": "code",
   "execution_count": 4,
   "metadata": {
    "papermill": {
     "duration": 0.212865,
     "end_time": "2020-02-27T02:35:56.625491",
     "exception": false,
     "start_time": "2020-02-27T02:35:56.412626",
     "status": "completed"
    },
    "tags": []
   },
   "outputs": [],
   "source": [
    "q = \"\"\"\n",
    "select \n",
    "    *\n",
    "from\n",
    "    project\n",
    "where\n",
    "    active = 'Yes'\n",
    "\"\"\"\n",
    "project = sqldf(q)"
   ]
  },
  {
   "cell_type": "code",
   "execution_count": 5,
   "metadata": {
    "papermill": {
     "duration": 0.55045,
     "end_time": "2020-02-27T02:35:57.188798",
     "exception": false,
     "start_time": "2020-02-27T02:35:56.638348",
     "status": "completed"
    },
    "tags": []
   },
   "outputs": [],
   "source": [
    "q = \"\"\"\n",
    "select \n",
    "    *\n",
    "from\n",
    "    biosample\n",
    "where\n",
    "    active = 'Yes'\n",
    "\"\"\"\n",
    "biosample = sqldf(q)"
   ]
  },
  {
   "cell_type": "code",
   "execution_count": 6,
   "metadata": {
    "papermill": {
     "duration": 0.017751,
     "end_time": "2020-02-27T02:35:57.218565",
     "exception": false,
     "start_time": "2020-02-27T02:35:57.200814",
     "status": "completed"
    },
    "tags": []
   },
   "outputs": [],
   "source": [
    "# biosample.head() # peek at data"
   ]
  },
  {
   "cell_type": "markdown",
   "metadata": {
    "papermill": {
     "duration": 0.010518,
     "end_time": "2020-02-27T02:35:57.239433",
     "exception": false,
     "start_time": "2020-02-27T02:35:57.228915",
     "status": "completed"
    },
    "tags": []
   },
   "source": [
    "## Build json data files\n",
    "The json data files are build using a general approach:\n",
    "1. Create a pandas dataframe (often using SQL syntax) to be translated.\n",
    "2. Transform the dataframe into a dictionary (these variables end with '_dictdf')\n",
    "3. Define a list of field names whose names and values will be translated into characteristics within an annotation object.\n",
    "4. Pass the dataframe dictionary and characteristices list to the `make_json_string_list` method. This method returns a list of json ojbects each of which has been converted to a string.\n",
    "5. Save the json string to file using `save_json_string_list`.\n",
    "\n",
    "**Note:** Currently, I am using the GOLD IDs as idenifiers. This need to changed to IRIs."
   ]
  },
  {
   "cell_type": "markdown",
   "metadata": {
    "papermill": {
     "duration": 0.010686,
     "end_time": "2020-02-27T02:35:57.260527",
     "exception": false,
     "start_time": "2020-02-27T02:35:57.249841",
     "status": "completed"
    },
    "tags": []
   },
   "source": [
    "## Build GOLD study json\n",
    "* Create a subset of the study table using the FICUS gold_ids specified in [JGI-EMSL-FICUS-proposals.fnl.xlxs](https://docs.google.com/spreadsheets/d/1sowTCYooDrOMq0ErD4s3xtgH3PLoxwa7/edit#gid=1363834365).\n",
    "* Follow approach for building json data files."
   ]
  },
  {
   "cell_type": "code",
   "execution_count": 7,
   "metadata": {
    "papermill": {
     "duration": 0.039102,
     "end_time": "2020-02-27T02:35:57.310689",
     "exception": false,
     "start_time": "2020-02-27T02:35:57.271587",
     "status": "completed"
    },
    "tags": []
   },
   "outputs": [],
   "source": [
    "q = \"\"\"\n",
    "select \n",
    "    study.*, contact.name as principal_investigator_name, proposals.doi\n",
    "from\n",
    "    study\n",
    "left join\n",
    "    contact\n",
    "on\n",
    "    study.contact_id = contact.contact_id\n",
    "left join\n",
    "    proposals\n",
    "on\n",
    "    study.gold_id = proposals.gold_study\n",
    "where\n",
    "    study.gold_id in \n",
    "      ('Gs0110115', 'Gs0110132', 'Gs0112340', 'Gs0114675', 'Gs0128849', 'Gs0130354', \n",
    "       'Gs0114298', 'Gs0114663', 'Gs0120351', 'Gs0134277', 'Gs0133461', 'Gs0135152', 'Gs0135149')\n",
    "\"\"\"\n",
    "study = sqldf(q)"
   ]
  },
  {
   "cell_type": "code",
   "execution_count": 8,
   "metadata": {
    "papermill": {
     "duration": 0.016169,
     "end_time": "2020-02-27T02:35:57.338529",
     "exception": false,
     "start_time": "2020-02-27T02:35:57.322360",
     "status": "completed"
    },
    "tags": []
   },
   "outputs": [],
   "source": [
    "# study.head() # peek at data"
   ]
  },
  {
   "cell_type": "code",
   "execution_count": 9,
   "metadata": {
    "papermill": {
     "duration": 0.018832,
     "end_time": "2020-02-27T02:35:57.368039",
     "exception": false,
     "start_time": "2020-02-27T02:35:57.349207",
     "status": "completed"
    },
    "tags": []
   },
   "outputs": [],
   "source": [
    "study_dictdf = study.to_dict(orient=\"records\") # transorm dataframe to dictionary"
   ]
  },
  {
   "cell_type": "code",
   "execution_count": 10,
   "metadata": {
    "papermill": {
     "duration": 0.015894,
     "end_time": "2020-02-27T02:35:57.399171",
     "exception": false,
     "start_time": "2020-02-27T02:35:57.383277",
     "status": "completed"
    },
    "tags": []
   },
   "outputs": [],
   "source": [
    "## print out a single record for viewing\n",
    "# for record in study_dictdf:\n",
    "#     print(json.dumps(record, indent=4)); break"
   ]
  },
  {
   "cell_type": "code",
   "execution_count": 11,
   "metadata": {
    "papermill": {
     "duration": 0.020078,
     "end_time": "2020-02-27T02:35:57.430318",
     "exception": false,
     "start_time": "2020-02-27T02:35:57.410240",
     "status": "completed"
    },
    "tags": []
   },
   "outputs": [],
   "source": [
    "## specify characteristics\n",
    "characteristics = \\\n",
    "    ['gold_study_name', 'principal_investigator_name', 'add_date', 'mod_date', 'doi',\n",
    "      'ecosystem', 'ecosystem_category', 'ecosystem_type', 'ecosystem_subtype', 'specific_ecosystem', 'ecosystem_path_id']\n",
    "\n",
    "## create list of json string objects\n",
    "study_json_list = dop.make_json_string_list\\\n",
    "    (study_dictdf, nmdc.Study, id_key='gold_id', name_key='study_name', description_key=\"description\", characteristic_fields=characteristics)"
   ]
  },
  {
   "cell_type": "code",
   "execution_count": 12,
   "metadata": {
    "papermill": {
     "duration": 0.0161,
     "end_time": "2020-02-27T02:35:57.458145",
     "exception": false,
     "start_time": "2020-02-27T02:35:57.442045",
     "status": "completed"
    },
    "tags": []
   },
   "outputs": [],
   "source": [
    "# print(study_json_list[0]) ## peek at data"
   ]
  },
  {
   "cell_type": "code",
   "execution_count": 13,
   "metadata": {
    "papermill": {
     "duration": 0.016128,
     "end_time": "2020-02-27T02:35:57.485352",
     "exception": false,
     "start_time": "2020-02-27T02:35:57.469224",
     "status": "completed"
    },
    "tags": []
   },
   "outputs": [],
   "source": [
    "dop.save_json_string_list(\"output/nmdc-json/study.json\", study_json_list) # save json string list to file"
   ]
  },
  {
   "cell_type": "markdown",
   "metadata": {
    "papermill": {
     "duration": 0.010552,
     "end_time": "2020-02-27T02:35:57.507587",
     "exception": false,
     "start_time": "2020-02-27T02:35:57.497035",
     "status": "completed"
    },
    "tags": []
   },
   "source": [
    "## Buid GOLD project json\n",
    "* Create dataframe for projects that are part of the FICUS studies.\n",
    "* Add processing institution = 'Joint Genome Institute' to dataframe\n",
    "* Follow approach for building json data files."
   ]
  },
  {
   "cell_type": "code",
   "execution_count": 14,
   "metadata": {
    "papermill": {
     "duration": 0.202216,
     "end_time": "2020-02-27T02:35:57.720396",
     "exception": false,
     "start_time": "2020-02-27T02:35:57.518180",
     "status": "completed"
    },
    "tags": []
   },
   "outputs": [],
   "source": [
    "q = \"\"\"\n",
    "select\n",
    "    project.*, project.sequencing_strategy as omics_type, study.gold_id as study_gold_id, contact.name as principal_investigator_name\n",
    "from \n",
    "    project\n",
    "inner join \n",
    "    study\n",
    "on \n",
    "    study.study_id = project.master_study_id\n",
    "left join\n",
    "    contact\n",
    "on\n",
    "    contact.contact_id = project.pi_id\n",
    "\"\"\"\n",
    "project = sqldf(q)"
   ]
  },
  {
   "cell_type": "code",
   "execution_count": 15,
   "metadata": {
    "papermill": {
     "duration": 0.017368,
     "end_time": "2020-02-27T02:35:57.749470",
     "exception": false,
     "start_time": "2020-02-27T02:35:57.732102",
     "status": "completed"
    },
    "tags": []
   },
   "outputs": [],
   "source": [
    "project[\"processing_institution\"] = \"Joint Genome Institute\""
   ]
  },
  {
   "cell_type": "code",
   "execution_count": 16,
   "metadata": {
    "papermill": {
     "duration": 0.015899,
     "end_time": "2020-02-27T02:35:57.776612",
     "exception": false,
     "start_time": "2020-02-27T02:35:57.760713",
     "status": "completed"
    },
    "tags": []
   },
   "outputs": [],
   "source": [
    "# project.head() # peek at data"
   ]
  },
  {
   "cell_type": "code",
   "execution_count": 17,
   "metadata": {
    "papermill": {
     "duration": 0.068808,
     "end_time": "2020-02-27T02:35:57.856632",
     "exception": false,
     "start_time": "2020-02-27T02:35:57.787824",
     "status": "completed"
    },
    "tags": []
   },
   "outputs": [],
   "source": [
    "project_dictdf = project.to_dict(orient=\"records\") # transorm dataframe to dictionary"
   ]
  },
  {
   "cell_type": "code",
   "execution_count": 18,
   "metadata": {
    "papermill": {
     "duration": 0.222597,
     "end_time": "2020-02-27T02:35:58.091765",
     "exception": false,
     "start_time": "2020-02-27T02:35:57.869168",
     "status": "completed"
    },
    "tags": []
   },
   "outputs": [],
   "source": [
    "## specify characteristics\n",
    "characteristics = \\\n",
    "    ['add_date', 'mod_date', 'completion_date', 'ncbi_project_name', 'omics_type', 'principal_investigator_name', 'processing_institution']\n",
    "\n",
    "## create list of json string objects\n",
    "project_json_list = dop.make_json_string_list\\\n",
    "    (project_dictdf, nmdc.OmicsProcessing, id_key='gold_id', name_key='project_name', \n",
    "     part_of_key=\"study_gold_id\", description_key=\"description\", characteristic_fields=characteristics)"
   ]
  },
  {
   "cell_type": "code",
   "execution_count": 19,
   "metadata": {
    "papermill": {
     "duration": 0.01827,
     "end_time": "2020-02-27T02:35:58.124099",
     "exception": false,
     "start_time": "2020-02-27T02:35:58.105829",
     "status": "completed"
    },
    "tags": []
   },
   "outputs": [],
   "source": [
    "# print(project_json_list[0]) ## peek at data"
   ]
  },
  {
   "cell_type": "code",
   "execution_count": 20,
   "metadata": {
    "papermill": {
     "duration": 0.018463,
     "end_time": "2020-02-27T02:35:58.156305",
     "exception": false,
     "start_time": "2020-02-27T02:35:58.137842",
     "status": "completed"
    },
    "tags": []
   },
   "outputs": [],
   "source": [
    "dop.save_json_string_list(\"output/nmdc-json/omics_processing.json\", project_json_list) # save json string list to file"
   ]
  },
  {
   "cell_type": "markdown",
   "metadata": {
    "papermill": {
     "duration": 0.010607,
     "end_time": "2020-02-27T02:35:58.179750",
     "exception": false,
     "start_time": "2020-02-27T02:35:58.169143",
     "status": "completed"
    },
    "tags": []
   },
   "source": [
    "## Build GOLD biosample json\n",
    "* Create dataframe for biosamples that are part of the FICUS studies. Note the use of `group_concat` in the query string. This is needed b/c a biosample may potentially belong to more than one project.\n",
    "* Follow approach for building json data files.\n",
    "\n",
    "**Note:** The list of characteristics is quite long. I might need to rething a more elegant way to do this."
   ]
  },
  {
   "cell_type": "code",
   "execution_count": 21,
   "metadata": {
    "papermill": {
     "duration": 0.5233,
     "end_time": "2020-02-27T02:35:58.713985",
     "exception": false,
     "start_time": "2020-02-27T02:35:58.190685",
     "status": "completed"
    },
    "tags": []
   },
   "outputs": [],
   "source": [
    "q = \"\"\"\n",
    "select\n",
    "    biosample.gold_id,\n",
    "    biosample.biosample_name,\n",
    "    biosample.description,\n",
    "    biosample.add_date,\n",
    "    biosample.mod_date,\n",
    "    biosample.ecosystem_path_id,\n",
    "    biosample.ecosystem,\n",
    "    biosample.ecosystem_category,\n",
    "    biosample.ecosystem_type,\n",
    "    biosample.ecosystem_subtype,\n",
    "    biosample.specific_ecosystem,\n",
    "    biosample.habitat,\n",
    "    biosample.location,\n",
    "    biosample.community,\n",
    "    biosample.ncbi_taxonomy_name,\n",
    "    biosample.geographic_location,\n",
    "    biosample.latitude,\n",
    "    biosample.longitude,\n",
    "    biosample.sample_collection_site,\n",
    "    biosample.identifier,\n",
    "    biosample.sample_collection_year,\n",
    "    biosample.sample_collection_month,\n",
    "    biosample.sample_collection_day,\n",
    "    biosample.sample_collection_hour,\n",
    "    biosample.sample_collection_minute,\n",
    "    biosample.host_name,\n",
    "    biosample.depth,\n",
    "    biosample.subsurface_depth,\n",
    "    biosample.altitude,\n",
    "    biosample.temperature_range,\n",
    "    biosample.proport_woa_temperature,\n",
    "    biosample.biogas_temperature,\n",
    "    biosample.growth_temperature,\n",
    "    biosample.soil_annual_season_temp,\n",
    "    biosample.water_samp_store_temp,\n",
    "    biosample.biogas_retention_time,\n",
    "    biosample.salinity,\n",
    "    biosample.pressure,\n",
    "    biosample.ph,\n",
    "    biosample.chlorophyll_concentration,\n",
    "    biosample.nitrate_concentration,\n",
    "    biosample.oxygen_concentration,\n",
    "    biosample.salinity_concentration,\n",
    "    group_concat(project.gold_id) as project_gold_ids\n",
    "from\n",
    "    biosample\n",
    "inner join project_biosample\n",
    "    on biosample.biosample_id = project_biosample.biosample_id\n",
    "inner join project\n",
    "    on project.project_id = project_biosample.project_id\n",
    "group by\n",
    "    biosample.biosample_id,\n",
    "    biosample.biosample_name,\n",
    "    biosample.description,\n",
    "    biosample.add_date,\n",
    "    biosample.mod_date,\n",
    "    biosample.ecosystem_path_id,\n",
    "    biosample.ecosystem,\n",
    "    biosample.ecosystem_category,\n",
    "    biosample.ecosystem_type,\n",
    "    biosample.ecosystem_subtype,\n",
    "    biosample.specific_ecosystem,\n",
    "    biosample.habitat,\n",
    "    biosample.location,\n",
    "    biosample.community,\n",
    "    biosample.ncbi_taxonomy_name,\n",
    "    biosample.geographic_location,\n",
    "    biosample.latitude,\n",
    "    biosample.longitude,\n",
    "    biosample.sample_collection_site,\n",
    "    biosample.identifier,\n",
    "    biosample.sample_collection_year,\n",
    "    biosample.sample_collection_month,\n",
    "    biosample.sample_collection_day,\n",
    "    biosample.sample_collection_hour,\n",
    "    biosample.sample_collection_minute,\n",
    "    biosample.host_name,\n",
    "    biosample.depth,\n",
    "    biosample.subsurface_depth,\n",
    "    biosample.altitude,\n",
    "    biosample.temperature_range,\n",
    "    biosample.proport_woa_temperature,\n",
    "    biosample.biogas_temperature,\n",
    "    biosample.growth_temperature,\n",
    "    biosample.soil_annual_season_temp,\n",
    "    biosample.water_samp_store_temp,\n",
    "    biosample.biogas_retention_time,\n",
    "    biosample.salinity,\n",
    "    biosample.pressure,\n",
    "    biosample.ph,\n",
    "    biosample.chlorophyll_concentration,\n",
    "    biosample.nitrate_concentration,\n",
    "    biosample.oxygen_concentration,\n",
    "    biosample.salinity_concentration\n",
    "\"\"\"\n",
    "biosampledf = sqldf(q)"
   ]
  },
  {
   "cell_type": "code",
   "execution_count": 22,
   "metadata": {
    "papermill": {
     "duration": 0.044538,
     "end_time": "2020-02-27T02:35:58.770415",
     "exception": false,
     "start_time": "2020-02-27T02:35:58.725877",
     "status": "completed"
    },
    "tags": []
   },
   "outputs": [],
   "source": [
    "biosample_dictdf = biosampledf.to_dict(orient=\"records\") # transorm dataframe to dictionary"
   ]
  },
  {
   "cell_type": "code",
   "execution_count": 23,
   "metadata": {
    "papermill": {
     "duration": 0.016781,
     "end_time": "2020-02-27T02:35:58.798014",
     "exception": false,
     "start_time": "2020-02-27T02:35:58.781233",
     "status": "completed"
    },
    "tags": []
   },
   "outputs": [],
   "source": [
    "## specify characteristics\n",
    "characteristics = \\\n",
    "    ['add_date',\n",
    "     'mod_date',\n",
    "     'ecosystem_path_id',\n",
    "     'ecosystem',\n",
    "     'ecosystem_category',\n",
    "     'ecosystem_type',\n",
    "     'ecosystem_subtype',\n",
    "     'specific_ecosystem',\n",
    "     'habitat',\n",
    "     'location',\n",
    "     'community',\n",
    "     'ncbi_taxonomy_name',\n",
    "     'geographic_location',\n",
    "     'latitude',\n",
    "     'longitude',\n",
    "     'sample_collection_site',\n",
    "     'identifier',\n",
    "     'sample_collection_year',\n",
    "     'sample_collection_month',\n",
    "     'sample_collection_day',\n",
    "     'sample_collection_hour',\n",
    "     'sample_collection_minute',\n",
    "     'host_name',\n",
    "     'depth',\n",
    "     'subsurface_depth',\n",
    "     'altitude',\n",
    "     'temperature_range',\n",
    "     'proport_woa_temperature',\n",
    "     'biogas_temperature',\n",
    "     'growth_temperature',\n",
    "     'soil_annual_season_temp',\n",
    "     'water_samp_store_temp',\n",
    "     'biogas_retention_time',\n",
    "     'salinity',\n",
    "     'pressure',\n",
    "     'ph',\n",
    "     'chlorophyll_concentration',\n",
    "     'nitrate_concentration',\n",
    "     'oxygen_concentration',\n",
    "     'salinity_concentration'\n",
    "    ]"
   ]
  },
  {
   "cell_type": "code",
   "execution_count": 24,
   "metadata": {
    "papermill": {
     "duration": 0.420721,
     "end_time": "2020-02-27T02:35:59.229944",
     "exception": false,
     "start_time": "2020-02-27T02:35:58.809223",
     "status": "completed"
    },
    "tags": []
   },
   "outputs": [],
   "source": [
    "## create list of json string objects\n",
    "biosample_json_list = dop.make_json_string_list\\\n",
    "    (biosample_dictdf, nmdc.Biosample, id_key='gold_id', name_key='biosample_name', \n",
    "     part_of_key=\"project_gold_ids\", description_key=\"description\", characteristic_fields=characteristics)"
   ]
  },
  {
   "cell_type": "code",
   "execution_count": 25,
   "metadata": {
    "papermill": {
     "duration": 0.016338,
     "end_time": "2020-02-27T02:35:59.259822",
     "exception": false,
     "start_time": "2020-02-27T02:35:59.243484",
     "status": "completed"
    },
    "tags": []
   },
   "outputs": [],
   "source": [
    "# print(biosample_json_list[0]) # peek at data"
   ]
  },
  {
   "cell_type": "code",
   "execution_count": 26,
   "metadata": {
    "papermill": {
     "duration": 0.01785,
     "end_time": "2020-02-27T02:35:59.288475",
     "exception": false,
     "start_time": "2020-02-27T02:35:59.270625",
     "status": "completed"
    },
    "tags": []
   },
   "outputs": [],
   "source": [
    "dop.save_json_string_list(\"output/nmdc-json/biosample.json\", biosample_json_list) # save json string list to file"
   ]
  },
  {
   "cell_type": "code",
   "execution_count": null,
   "metadata": {
    "papermill": {
     "duration": 0.010754,
     "end_time": "2020-02-27T02:35:59.311211",
     "exception": false,
     "start_time": "2020-02-27T02:35:59.300457",
     "status": "completed"
    },
    "tags": []
   },
   "outputs": [],
   "source": []
  }
 ],
 "metadata": {
  "kernelspec": {
   "display_name": "Python 3",
   "language": "python",
   "name": "python3"
  },
  "language_info": {
   "codemirror_mode": {
    "name": "ipython",
    "version": 3
   },
   "file_extension": ".py",
   "mimetype": "text/x-python",
   "name": "python",
   "nbconvert_exporter": "python",
   "pygments_lexer": "ipython3",
   "version": "3.7.4"
  },
  "papermill": {
   "duration": 4.689107,
   "end_time": "2020-02-27T02:35:59.327776",
   "environment_variables": {},
   "exception": null,
   "input_path": "translate-GOLD-study-project-biosample.ipynb",
   "output_path": "test-output.ipynb",
   "parameters": {},
   "start_time": "2020-02-27T02:35:54.638669",
   "version": "2.0.0"
  }
 },
 "nbformat": 4,
 "nbformat_minor": 4
}