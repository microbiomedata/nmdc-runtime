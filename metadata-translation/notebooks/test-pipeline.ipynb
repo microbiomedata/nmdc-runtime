{
 "cells": [
  {
   "cell_type": "code",
   "execution_count": 1,
   "metadata": {},
   "outputs": [],
   "source": [
    "import os, sys\n",
    "sys.path.append(os.path.abspath('../src/bin/lib/')) # add path to data_opertations.py\n",
    "sys.path.append(os.path.abspath('../../schema/')) # add path nmdc.py"
   ]
  },
  {
   "cell_type": "code",
   "execution_count": 2,
   "metadata": {},
   "outputs": [],
   "source": [
    "import yaml\n",
    "import json\n",
    "from yaml import CLoader as Loader, CDumper as Dumper\n",
    "import data_operations as dop\n",
    "from dotted_dict import DottedDict\n",
    "from collections import namedtuple\n",
    "import nmdc\n",
    "import data_operations as dop\n",
    "from pandasql import sqldf\n",
    "from pprint import pprint\n",
    "import pandas as pds\n",
    "import jsonasobj\n",
    "\n",
    "from pandasql import sqldf\n",
    "def pysqldf(q):\n",
    "    return sqldf(q, globals())"
   ]
  },
  {
   "cell_type": "markdown",
   "metadata": {},
   "source": [
    "## Load yaml spec for data sources"
   ]
  },
  {
   "cell_type": "code",
   "execution_count": 3,
   "metadata": {},
   "outputs": [],
   "source": [
    "spec_file = \"../src/bin/lib/nmdc_data_source.yaml\"\n",
    "with open(spec_file, 'r') as input_file:\n",
    "    spec = DottedDict(yaml.load(input_file, Loader=Loader))"
   ]
  },
  {
   "cell_type": "markdown",
   "metadata": {},
   "source": [
    "## Create merged dataframe of all data sources"
   ]
  },
  {
   "cell_type": "code",
   "execution_count": 4,
   "metadata": {},
   "outputs": [],
   "source": [
    "## build merged dataframe from data sources specified in the spec file\n",
    "# mdf = dop.make_dataframe_from_spec_file (spec_file)\n",
    "# mdf.to_csv('../src/data/nmdc_merged_data.tsv', sep='\\t', index=False) # save mergd data"
   ]
  },
  {
   "cell_type": "markdown",
   "metadata": {},
   "source": [
    "## Load data from merged tsv (this can only be done after merged data tsv has been created)"
   ]
  },
  {
   "cell_type": "code",
   "execution_count": 5,
   "metadata": {},
   "outputs": [],
   "source": [
    "# read data from saved file\n",
    "mdf = pds.read_csv('../src/data/nmdc_merged_data.tsv.zip', sep='\\t', dtype=str)\n",
    "# mdf = pds.read_csv('../src/data/nmdc_merged_data.tsv.zip', sep='\\t', dtype=str, nrows=100)"
   ]
  },
  {
   "cell_type": "code",
   "execution_count": 6,
   "metadata": {},
   "outputs": [
    {
     "data": {
      "text/plain": [
       "array(['study_table', 'contact_table', 'proposals_table', 'project_table',\n",
       "       'project_biosample_table', 'biosample_table', 'ficus_faa_table',\n",
       "       'ficus_fna_table', 'ficus_fastq_table', 'ficus_jgi_emsl',\n",
       "       'ficus_emsl'], dtype=object)"
      ]
     },
     "execution_count": 6,
     "metadata": {},
     "output_type": "execute_result"
    }
   ],
   "source": [
    "mdf.nmdc_data_source.unique() ## list of the data sources in merged"
   ]
  },
  {
   "cell_type": "markdown",
   "metadata": {},
   "source": [
    "## Extract tables from merged dataset"
   ]
  },
  {
   "cell_type": "code",
   "execution_count": 7,
   "metadata": {},
   "outputs": [],
   "source": [
    "study_table = dop.extract_table(mdf, 'study_table')\n",
    "contact_table = dop.extract_table(mdf, 'contact_table')\n",
    "proposals_table = dop.extract_table(mdf, 'proposals_table')\n",
    "project_table = dop.extract_table(mdf, 'project_table')\n",
    "jgi_emsl_table = dop.extract_table(mdf, 'ficus_jgi_emsl')\n",
    "emsl_table = dop.extract_table(mdf, 'ficus_emsl')\n",
    "faa_table = dop.extract_table(mdf, 'ficus_faa_table')\n",
    "fna_table = dop.extract_table(mdf, 'ficus_fna_table')\n",
    "fastq_table = dop.extract_table(mdf, 'ficus_fastq_table')\n",
    "project_biosample_table = dop.extract_table(mdf, 'project_biosample_table')\n",
    "biosample_table = dop.extract_table(mdf, 'biosample_table')\n",
    "# biosample_table.columns"
   ]
  },
  {
   "cell_type": "markdown",
   "metadata": {},
   "source": [
    "## Test building study json"
   ]
  },
  {
   "cell_type": "code",
   "execution_count": 8,
   "metadata": {},
   "outputs": [],
   "source": [
    "study = dop.make_study_dataframe(study_table, contact_table, proposals_table)\n",
    "study_dictdf = study.to_dict(orient=\"records\") # transorm dataframe to dictionary\n",
    "# study.gold_id"
   ]
  },
  {
   "cell_type": "code",
   "execution_count": 9,
   "metadata": {},
   "outputs": [],
   "source": [
    "## specify attributes\n",
    "attributes = \\\n",
    "    ['gold_study_name', 'principal_investigator_name', 'add_date', 'mod_date', 'doi',\n",
    "      'ecosystem', 'ecosystem_category', 'ecosystem_type', 'ecosystem_subtype', 'specific_ecosystem']\n",
    "\n",
    "constructor = \\\n",
    "    {\n",
    "        'id': 'gold_id',\n",
    "        'name': 'study_name',\n",
    "        'description': 'description'\n",
    "    }\n",
    "\n",
    "study_json_list = dop.make_json_string_list\\\n",
    "    (study_dictdf, nmdc.Study, constructor_map=constructor, attribute_fields=attributes)"
   ]
  },
  {
   "cell_type": "code",
   "execution_count": 10,
   "metadata": {},
   "outputs": [],
   "source": [
    "# print(json.dumps(json.loads(study_json_list[0]), indent=4)) ## peek at data\n",
    "# print(nmdc.Study.class_class_curie)\n",
    "# len(study)"
   ]
  },
  {
   "cell_type": "markdown",
   "metadata": {},
   "source": [
    "## Save study output"
   ]
  },
  {
   "cell_type": "code",
   "execution_count": 11,
   "metadata": {},
   "outputs": [],
   "source": [
    "dop.save_json_string_list(\"output/test-pipeline/gold_study.json\", study_json_list) # save json string list to file"
   ]
  },
  {
   "cell_type": "markdown",
   "metadata": {},
   "source": [
    "## Test building EMSL omics processing projects"
   ]
  },
  {
   "cell_type": "code",
   "execution_count": 12,
   "metadata": {},
   "outputs": [],
   "source": [
    "emsl = dop.make_emsl_dataframe(emsl_table, jgi_emsl_table, study_table)\n",
    "emsl_dictdf = emsl.to_dict(orient=\"records\") # transorm dataframe to dictionary"
   ]
  },
  {
   "cell_type": "code",
   "execution_count": 13,
   "metadata": {},
   "outputs": [],
   "source": [
    "# emsl.gold_study_id"
   ]
  },
  {
   "cell_type": "code",
   "execution_count": 14,
   "metadata": {},
   "outputs": [],
   "source": [
    "# len(emsl)\n",
    "# emsl.head()\n",
    "# emsl.columns\n",
    "# len(emsl_table)"
   ]
  },
  {
   "cell_type": "code",
   "execution_count": 15,
   "metadata": {},
   "outputs": [],
   "source": [
    "attributes = \\\n",
    "    [\n",
    "      #'file_size_bytes',\n",
    "      # {'part_of': ({'id': 'gold_study_id'}, nmdc.Study)},\n",
    "      # {'has_output': ({'id': 'data_object_id'}, nmdc.DataObject)}\n",
    "      {'part_of': 'gold_study_id'},\n",
    "      {'has_output': 'data_object_id'}\n",
    "    ]\n",
    "\n",
    "constructor = \\\n",
    "    {\n",
    "        'id': 'dataset_id',\n",
    "        'name': 'dataset_name',\n",
    "        'description': 'dataset_type_description'\n",
    "    }\n",
    "\n",
    "emsl_project_json_list = dop.make_json_string_list\\\n",
    "    (emsl_dictdf, nmdc.OmicsProcessing, constructor_map=constructor, attribute_fields=attributes)"
   ]
  },
  {
   "cell_type": "code",
   "execution_count": 16,
   "metadata": {},
   "outputs": [],
   "source": [
    "# print(json.dumps(json.loads(emsl_project_json_list[0]), indent=4)) ## peek at data"
   ]
  },
  {
   "cell_type": "markdown",
   "metadata": {},
   "source": [
    "## Save EMSL omics processing projects"
   ]
  },
  {
   "cell_type": "code",
   "execution_count": 17,
   "metadata": {},
   "outputs": [],
   "source": [
    "dop.save_json_string_list(\"output/test-pipeline/emsl_omics_processing.json\", emsl_project_json_list) # save json string list to file"
   ]
  },
  {
   "cell_type": "markdown",
   "metadata": {},
   "source": [
    "## Test build EMSL data objects"
   ]
  },
  {
   "cell_type": "code",
   "execution_count": 18,
   "metadata": {},
   "outputs": [],
   "source": [
    "attributes = \\\n",
    "    [\n",
    "      'file_size_bytes'\n",
    "    ]\n",
    "\n",
    "constructor = \\\n",
    "    {\n",
    "        'id': 'data_object_id',\n",
    "        'name': 'data_object_name',\n",
    "        'description': 'dataset_type_description'\n",
    "    }\n",
    "\n",
    "emsl_data_object_json_list = dop.make_json_string_list\\\n",
    "    (emsl_dictdf, nmdc.DataObject, constructor_map=constructor, attribute_fields=attributes)"
   ]
  },
  {
   "cell_type": "code",
   "execution_count": 19,
   "metadata": {},
   "outputs": [],
   "source": [
    "# print(json.dumps(json.loads(emsl_data_object_json_list[0]), indent=4)) ## peek at data"
   ]
  },
  {
   "cell_type": "markdown",
   "metadata": {},
   "source": [
    "## Save EMSL data objects"
   ]
  },
  {
   "cell_type": "code",
   "execution_count": 20,
   "metadata": {},
   "outputs": [],
   "source": [
    "dop.save_json_string_list(\"output/test-pipeline/emsl_data_objects.json\", emsl_data_object_json_list) # save json string list to file"
   ]
  },
  {
   "cell_type": "markdown",
   "metadata": {},
   "source": [
    "## Test building data obects (faa, fna, fastq)"
   ]
  },
  {
   "cell_type": "code",
   "execution_count": 21,
   "metadata": {},
   "outputs": [],
   "source": [
    "# fastq_table.head() # peek at data"
   ]
  },
  {
   "cell_type": "code",
   "execution_count": 22,
   "metadata": {},
   "outputs": [],
   "source": [
    "data_objects = dop.make_data_objects_dataframe(faa_table, fna_table, fastq_table, project_table)\n",
    "data_objects_dictdf = data_objects.to_dict(orient=\"records\") # transorm dataframe to dictionary"
   ]
  },
  {
   "cell_type": "code",
   "execution_count": 23,
   "metadata": {},
   "outputs": [
    {
     "data": {
      "text/plain": [
       "3001"
      ]
     },
     "execution_count": 23,
     "metadata": {},
     "output_type": "execute_result"
    }
   ],
   "source": [
    "len(data_objects)"
   ]
  },
  {
   "cell_type": "code",
   "execution_count": 24,
   "metadata": {},
   "outputs": [],
   "source": [
    "attributes = \\\n",
    "    [\n",
    "      'file_size_bytes'\n",
    "    ]\n",
    "\n",
    "constructor = \\\n",
    "    {\n",
    "        'id': 'file_id',\n",
    "        'name': 'file_name',\n",
    "        'description': 'file_type_description'\n",
    "    }\n",
    "\n",
    "data_objects_json_list = dop.make_json_string_list\\\n",
    "    (data_objects_dictdf, nmdc.DataObject, constructor_map=constructor, attribute_fields=attributes)"
   ]
  },
  {
   "cell_type": "code",
   "execution_count": 25,
   "metadata": {},
   "outputs": [],
   "source": [
    "# print(json.dumps(json.loads(data_objects_json_list[0]), indent=4)) ## peek at data"
   ]
  },
  {
   "cell_type": "markdown",
   "metadata": {},
   "source": [
    "## Save faa, fna, fastq data objects"
   ]
  },
  {
   "cell_type": "code",
   "execution_count": 26,
   "metadata": {},
   "outputs": [],
   "source": [
    "dop.save_json_string_list(\"output/test-pipeline/faa_fna_fastq_data_objects.json\", data_objects_json_list) # save json string list to file"
   ]
  },
  {
   "cell_type": "markdown",
   "metadata": {},
   "source": [
    "## Test building GOLD project json"
   ]
  },
  {
   "cell_type": "code",
   "execution_count": 27,
   "metadata": {},
   "outputs": [],
   "source": [
    "# data_objects.head()"
   ]
  },
  {
   "cell_type": "code",
   "execution_count": 28,
   "metadata": {},
   "outputs": [],
   "source": [
    "project = dop.make_project_dataframe(project_table, study_table, contact_table, data_objects)\n",
    "# project[pds.isnull(project.output_file_ids)]\n",
    "# project = project[project.nmdc_record_id == \"115128\"] # test if output_file_ids is null\n",
    "# project.output_file_ids.unique()\n",
    "# project.output_file_ids"
   ]
  },
  {
   "cell_type": "code",
   "execution_count": 29,
   "metadata": {},
   "outputs": [],
   "source": [
    "project_dictdf = project.to_dict(orient=\"records\") # transorm dataframe to dictionary\n",
    "# project.columns"
   ]
  },
  {
   "cell_type": "code",
   "execution_count": 30,
   "metadata": {},
   "outputs": [],
   "source": [
    "## specify characteristics\n",
    "attributes = \\\n",
    "    [\n",
    "      # {'part_of': ({'id': 'study_gold_id'}, nmdc.Study)},\n",
    "      # {'has_output': ({'id': 'output_file_ids'}, nmdc.DataObject)},\n",
    "      {'part_of': 'study_gold_id'},\n",
    "      {'has_output': 'output_file_ids'},\n",
    "      'add_date', \n",
    "      'mod_date', \n",
    "      'completion_date', \n",
    "      'ncbi_project_name', \n",
    "      'omics_type', \n",
    "      'principal_investigator_name',\n",
    "      'processing_institution'\n",
    "    ]\n",
    "\n",
    "\n",
    "constructor = \\\n",
    "    {\n",
    "        'id': 'gold_id',\n",
    "        'name': 'project_name',\n",
    "        'description': 'description'\n",
    "    }\n",
    "\n",
    "project_json_list = dop.make_json_string_list\\\n",
    "    (project_dictdf, nmdc.OmicsProcessing, constructor_map=constructor, attribute_fields=attributes)"
   ]
  },
  {
   "cell_type": "code",
   "execution_count": 31,
   "metadata": {},
   "outputs": [],
   "source": [
    "# print(json.dumps(json.loads(project_json_list[0]), indent=4)) ## peek at data"
   ]
  },
  {
   "cell_type": "markdown",
   "metadata": {},
   "source": [
    "## Save output"
   ]
  },
  {
   "cell_type": "code",
   "execution_count": 32,
   "metadata": {},
   "outputs": [],
   "source": [
    "dop.save_json_string_list(\"output/test-pipeline/gold_omics_processing.json\", project_json_list) # save json string list to file"
   ]
  },
  {
   "cell_type": "markdown",
   "metadata": {},
   "source": [
    "## Test building biosample json"
   ]
  },
  {
   "cell_type": "code",
   "execution_count": 33,
   "metadata": {},
   "outputs": [],
   "source": [
    "biosample = dop.make_biosample_dataframe(biosample_table, project_biosample_table, project_table)"
   ]
  },
  {
   "cell_type": "code",
   "execution_count": 34,
   "metadata": {},
   "outputs": [],
   "source": [
    "biosample_dictdf = biosample.to_dict(orient=\"records\") # transorm dataframe to dictionary\n",
    "# biosample_dictdf[0] ## peek at dict data"
   ]
  },
  {
   "cell_type": "code",
   "execution_count": 35,
   "metadata": {},
   "outputs": [],
   "source": [
    "## specify attributes\n",
    "attributes = \\\n",
    "  [\n",
    "    'add_date',\n",
    "    'mod_date',\n",
    "    'collection_date',\n",
    "    'ecosystem',\n",
    "    'ecosystem_dcategory',\n",
    "    'ecosystem_type',\n",
    "    'ecosystem_subtype',\n",
    "    'specific_ecosystem',\n",
    "    'habitat',\n",
    "    'location',\n",
    "    'community',\n",
    "    'ncbi_taxonomy_name',\n",
    "    'geographic_location',\n",
    "    'sample_collection_site',\n",
    "    'identifier',\n",
    "    'host_name',\n",
    "    'depth',\n",
    "    'subsurface_depth',\n",
    "    'altitude',\n",
    "    'proport_woa_temperature',\n",
    "    'biogas_temperature',\n",
    "    'growth_temperature',\n",
    "    'water_samp_store_temp',\n",
    "    'biogas_retention_time',\n",
    "    'salinity',\n",
    "    'pressure',\n",
    "    'ph',\n",
    "    'chlorophyll_concentration',\n",
    "    'nitrate_concentration',\n",
    "    'oxygen_concentration',\n",
    "    'salinity_concentration',\n",
    "    'sample_volume',\n",
    "    'sample_weight_dna_ext',\n",
    "    'sampling_strategy',\n",
    "    'soil_link_climate_info',\n",
    "    'soil_misc_param',\n",
    "    'soil_misc_param ',\n",
    "    'soil_water_content',\n",
    "    'soluble_iron_micromol',\n",
    "    'subsurface_depth2',\n",
    "    'tot_nitrogen',\n",
    "    'tot_org_carbon',\n",
    "    'water_alkalinity',\n",
    "    'water_alkalinity_method',\n",
    "    'water_alkyl_diethers',\n",
    "    'water_aminopept_act',\n",
    "    'water_ammonium',\n",
    "    'water_bacterial_carbon_prod',\n",
    "    'water_bishomohopanol',\n",
    "    'water_bromide',\n",
    "    'water_calcium',\n",
    "    'water_carbon_nitrog_ratio',\n",
    "    'water_chem_administration',\n",
    "    'water_chloride',\n",
    "    'water_density',\n",
    "    'water_diether_lipids',\n",
    "    'water_diss_carbon_dioxide',\n",
    "    'water_diss_hydrogen',\n",
    "    'water_diss_inorg_carbon',\n",
    "    'water_diss_inorg_phosphorus',\n",
    "    'water_diss_org_carbon',\n",
    "    'water_diss_org_nitrogen',\n",
    "    'water_glucosidase_activity',\n",
    "    'water_magnesium',\n",
    "    'water_mean_frict_vel',\n",
    "    'water_mean_peak_frict_vel',\n",
    "    'water_misc_parameter',\n",
    "    'water_n_alkanes',\n",
    "    'water_nitrite',\n",
    "    'water_org_matter',\n",
    "    'water_org_nitrogen',\n",
    "    'water_organism_count',\n",
    "    'water_oxy_stat_sample',\n",
    "    'water_part_org_carbon',\n",
    "    'water_perturbation',\n",
    "    'water_petroleum_hydrocarbon',\n",
    "    'water_phaeopigments',\n",
    "    'water_phosplipid_fatt_acid',\n",
    "    'water_potassium',\n",
    "    'water_redox_potential',\n",
    "    'water_samp_store_dur',\n",
    "    'water_samp_store_loc',\n",
    "    'water_size_frac_low',\n",
    "    'water_size_frac_up',\n",
    "    'water_sodium',\n",
    "    'water_sulfate',\n",
    "    'water_sulfide',\n",
    "    'water_tidal_stage',\n",
    "    'water_tot_depth_water_col',\n",
    "    'water_tot_diss_nitro',\n",
    "    'water_tot_phosphorus',\n",
    "    'water_turbidity',\n",
    "    {'part_of': 'project_gold_ids'}\n",
    "    # {'part_of': ({'id': 'project_gold_ids'}, nmdc.OmicsProcessing)}\n",
    "  ]\n",
    "\n",
    "# removed in version 5: 'temperature_range', 'soil_annual_season_temp'"
   ]
  },
  {
   "cell_type": "code",
   "execution_count": 36,
   "metadata": {},
   "outputs": [],
   "source": [
    "# os.chdir('../..')\n",
    "# os.getcwd()"
   ]
  },
  {
   "cell_type": "code",
   "execution_count": 37,
   "metadata": {},
   "outputs": [],
   "source": [
    "## create map betweeen gold fields and mixs terms\n",
    "mapping_df = dop.make_dataframe(\"../src/data/GOLD-to-mixs-map.tsv\")\n",
    "attr_map = dop.make_gold_to_mixs_map(attributes, mapping_df, 'biosample')"
   ]
  },
  {
   "cell_type": "code",
   "execution_count": 38,
   "metadata": {},
   "outputs": [],
   "source": [
    "## create dict of constructor args\n",
    "constructor = \\\n",
    "    {\n",
    "        'id': 'gold_id',\n",
    "        'name': 'biosample_name',\n",
    "        'description': 'description',\n",
    "        'env_broad_scale': [{'has_raw_value':'env_broad_scale'}, nmdc.ControlledTermValue],\n",
    "        'env_local_scale': [{'has_raw_value':'env_local_scale'}, nmdc.ControlledTermValue],\n",
    "        'env_medium': [{'has_raw_value': 'env_medium'}, nmdc.ControlledTermValue],\n",
    "        'lat_lon': [{'latitude': 'latitude', 'longitude': 'longitude', 'has_raw_value': 'lat_lon'}, nmdc.GeolocationValue],\n",
    "    }"
   ]
  },
  {
   "cell_type": "code",
   "execution_count": 39,
   "metadata": {},
   "outputs": [],
   "source": [
    "## create list of json string objects\n",
    "biosample_json_list = dop.make_json_string_list \\\n",
    "    (biosample_dictdf, nmdc.Biosample, constructor_map=constructor, attribute_fields=attributes, attribute_map=attr_map)"
   ]
  },
  {
   "cell_type": "code",
   "execution_count": 40,
   "metadata": {},
   "outputs": [],
   "source": [
    "# print(json.dumps(json.loads(biosample_json_list[0]), indent=4)) ## peek at data"
   ]
  },
  {
   "cell_type": "markdown",
   "metadata": {},
   "source": [
    "## Save output"
   ]
  },
  {
   "cell_type": "code",
   "execution_count": 41,
   "metadata": {},
   "outputs": [],
   "source": [
    "dop.save_json_string_list(\"output/test-pipeline/biosample.json\", biosample_json_list) # save json string list to file"
   ]
  },
  {
   "cell_type": "code",
   "execution_count": null,
   "metadata": {},
   "outputs": [],
   "source": []
  },
  {
   "cell_type": "markdown",
   "metadata": {},
   "source": [
    "## Test subset of output"
   ]
  },
  {
   "cell_type": "code",
   "execution_count": 42,
   "metadata": {},
   "outputs": [],
   "source": [
    "## navigate to test output directory\n",
    "os.chdir('output/test-pipeline/')"
   ]
  },
  {
   "cell_type": "code",
   "execution_count": 43,
   "metadata": {},
   "outputs": [
    {
     "data": {
      "text/plain": [
       "'/Users/wdduncan/repos/NMDC/nmdc-metadata/metadata-translation/notebooks/output/test-pipeline'"
      ]
     },
     "execution_count": 43,
     "metadata": {},
     "output_type": "execute_result"
    }
   ],
   "source": [
    "os.getcwd()"
   ]
  },
  {
   "cell_type": "code",
   "execution_count": 44,
   "metadata": {},
   "outputs": [],
   "source": [
    "## grab first five biosamples\n",
    "!jq '.[0:4]' biosample.json > '../test-five-biosamples/biosample.json'"
   ]
  },
  {
   "cell_type": "code",
   "execution_count": 45,
   "metadata": {},
   "outputs": [],
   "source": [
    "biosample_set = None\n",
    "with open('../test-five-biosamples/biosample.json', 'r') as f:\n",
    "    biosample_set = json.load(f)"
   ]
  },
  {
   "cell_type": "code",
   "execution_count": 46,
   "metadata": {},
   "outputs": [
    {
     "name": "stdout",
     "output_type": "stream",
     "text": [
      "\"gold:Gp0108335\"\n",
      "\"gold:Gp0108340\"\n",
      "\"gold:Gp0108341\"\n",
      "\"gold:Gp0108342\"\n",
      "\"gold:Gp0108344\"\n"
     ]
    }
   ],
   "source": [
    "## find first 5 project ids of biosamples\n",
    "# !jq -c '.[] | {biosample:.id, project:.part_of[]}' biosample.json | head -n5\n",
    "!jq '.[] | .part_of[]' biosample.json | head -n5"
   ]
  },
  {
   "cell_type": "code",
   "execution_count": 47,
   "metadata": {},
   "outputs": [],
   "source": [
    "## create project subset\n",
    "!jq '.[] | select(.id == (\"gold:Gp0108335\", \"gold:Gp0108340\", \"gold:Gp0108341\", \"gold:Gp0108342\", \"gold:Gp0108344\"))' \\\n",
    "gold_omics_processing.json \\\n",
    "| jq --slurp '.' \\\n",
    "> '../test-five-biosamples/project.json'"
   ]
  },
  {
   "cell_type": "code",
   "execution_count": 48,
   "metadata": {},
   "outputs": [],
   "source": [
    "project_set = None\n",
    "with open('../test-five-biosamples/project.json', 'r') as f:\n",
    "    project_set = json.load(f)"
   ]
  },
  {
   "cell_type": "code",
   "execution_count": 49,
   "metadata": {},
   "outputs": [
    {
     "name": "stdout",
     "output_type": "stream",
     "text": [
      "\u001b[0;32m\"gold:Gs0112340\"\u001b[0m\n",
      "\u001b[0;32m\"gold:Gs0112340\"\u001b[0m\n",
      "\u001b[0;32m\"gold:Gs0112340\"\u001b[0m\n",
      "\u001b[0;32m\"gold:Gs0112340\"\u001b[0m\n",
      "\u001b[0;32m\"gold:Gs0112340\"\u001b[0m\n"
     ]
    }
   ],
   "source": [
    "## get the study ids\n",
    "!jq '.[] | .part_of[]' ../test-five-biosamples/project.json"
   ]
  },
  {
   "cell_type": "code",
   "execution_count": 50,
   "metadata": {},
   "outputs": [],
   "source": [
    "## create study subset\n",
    "!jq '.[] | select(.id == \"gold:Gs0112340\")' \\\n",
    "gold_study.json \\\n",
    "| jq --slurp '.' \\\n",
    "> '../test-five-biosamples/study.json'"
   ]
  },
  {
   "cell_type": "code",
   "execution_count": 51,
   "metadata": {},
   "outputs": [],
   "source": [
    "study_set = None\n",
    "with open('../test-five-biosamples/study.json', 'r') as f:\n",
    "    study_set = json.load(f)"
   ]
  },
  {
   "cell_type": "code",
   "execution_count": 52,
   "metadata": {},
   "outputs": [
    {
     "name": "stdout",
     "output_type": "stream",
     "text": [
      "\u001b[0;32m\"nmdc:5af44fd364d0b33747747ddb\"\u001b[0m\n",
      "\u001b[0;32m\"nmdc:5af44fd264d0b33747747dd9\"\u001b[0m\n",
      "\u001b[0;32m\"jgi:551a20d30d878525404e90d5\"\u001b[0m\n",
      "\u001b[0;32m\"nmdc:5af0d91764d0b3374773e07a\"\u001b[0m\n",
      "\u001b[0;32m\"nmdc:5af0d91764d0b3374773e078\"\u001b[0m\n",
      "\u001b[0;32m\"jgi:551a20d50d878525404e90d7\"\u001b[0m\n",
      "\u001b[0;32m\"nmdc:5af6f6bd64d0b3374774f9a7\"\u001b[0m\n",
      "\u001b[0;32m\"nmdc:5af6f6bc64d0b3374774f9a5\"\u001b[0m\n",
      "\u001b[0;32m\"jgi:551a20d90d878525404e90e1\"\u001b[0m\n",
      "\u001b[0;32m\"nmdc:5af0d80364d0b3374773e066\"\u001b[0m\n",
      "\u001b[0;32m\"nmdc:5af0d80264d0b3374773e064\"\u001b[0m\n",
      "\u001b[0;32m\"jgi:551a20d60d878525404e90d9\"\u001b[0m\n",
      "\u001b[0;32m\"nmdc:5af65c0864d0b3374774e587\"\u001b[0m\n",
      "\u001b[0;32m\"nmdc:5af65c0764d0b3374774e559\"\u001b[0m\n",
      "\u001b[0;32m\"jgi:551a20da0d878525404e90e4\"\u001b[0m\n"
     ]
    }
   ],
   "source": [
    "## get outputs of projects\n",
    "!jq '.[] | .has_output[]' ../test-five-biosamples/project.json"
   ]
  },
  {
   "cell_type": "code",
   "execution_count": 53,
   "metadata": {},
   "outputs": [],
   "source": [
    "## create data objects subset\n",
    "!jq '.[] | select(.id == (\"nmdc:5af44fd364d0b33747747ddb\", \"nmdc:5af44fd264d0b33747747dd9\", \"jgi:551a20d30d878525404e90d5\", \"nmdc:5af0d91764d0b3374773e07a\", \"nmdc:5af0d91764d0b3374773e078\", \"jgi:551a20d50d878525404e90d7\", \"nmdc:5af6f6bd64d0b3374774f9a7\", \"nmdc:5af6f6bc64d0b3374774f9a5\", \"jgi:551a20d90d878525404e90e1\", \"nmdc:5af0d80364d0b3374773e066\", \"nmdc:5af0d80264d0b3374773e064\", \"jgi:551a20d60d878525404e90d9\", \"nmdc:5af65c0864d0b3374774e587\", \"nmdc:5af65c0764d0b3374774e559\", \"jgi:551a20da0d878525404e90e4\"))' \\\n",
    "faa_fna_fastq_data_objects.json \\\n",
    "| jq --slurp '.' \\\n",
    "> '../test-five-biosamples/data_object.json'"
   ]
  },
  {
   "cell_type": "code",
   "execution_count": 54,
   "metadata": {},
   "outputs": [],
   "source": [
    "data_object_set = None\n",
    "with open('../test-five-biosamples/data_object.json', 'r') as f:\n",
    "    data_object_set = json.load(f)"
   ]
  },
  {
   "cell_type": "code",
   "execution_count": 55,
   "metadata": {},
   "outputs": [
    {
     "name": "stdout",
     "output_type": "stream",
     "text": [
      "biosample.json                  gold_omics_processing.json\n",
      "emsl_data_objects.json          gold_study.json\n",
      "emsl_omics_processing.json      nmdc-02.json\n",
      "faa_fna_fastq_data_objects.json\n"
     ]
    }
   ],
   "source": [
    "!ls"
   ]
  },
  {
   "cell_type": "code",
   "execution_count": 56,
   "metadata": {},
   "outputs": [],
   "source": [
    "## emsl projects\n",
    "# !jq '.[0]' emsl_omics_processing.json "
   ]
  },
  {
   "cell_type": "code",
   "execution_count": 57,
   "metadata": {},
   "outputs": [],
   "source": [
    "# !jq '.[0]' emsl_data_objects.json"
   ]
  },
  {
   "cell_type": "code",
   "execution_count": 58,
   "metadata": {},
   "outputs": [],
   "source": [
    "database = \\\n",
    "    {\n",
    "      \"study_set\": [*study_set], \n",
    "      \"omics_processing_set\": [*project_set], \n",
    "      \"biosample_set\": [*biosample_set], \n",
    "      \"data_object_set\": [*data_object_set]\n",
    "    }"
   ]
  },
  {
   "cell_type": "code",
   "execution_count": 59,
   "metadata": {},
   "outputs": [],
   "source": [
    "with open('nmdc-02.json', 'w') as fp:\n",
    "    json.dump(database, fp)"
   ]
  },
  {
   "cell_type": "code",
   "execution_count": 60,
   "metadata": {},
   "outputs": [
    {
     "name": "stdout",
     "output_type": "stream",
     "text": [
      "biosample.json                  gold_omics_processing.json\n",
      "emsl_data_objects.json          gold_study.json\n",
      "emsl_omics_processing.json      nmdc-02.json\n",
      "faa_fna_fastq_data_objects.json\n"
     ]
    }
   ],
   "source": [
    "!ls"
   ]
  },
  {
   "cell_type": "code",
   "execution_count": 61,
   "metadata": {},
   "outputs": [
    {
     "name": "stdout",
     "output_type": "stream",
     "text": [
      "/Users/wdduncan/repos/NMDC/nmdc-metadata/metadata-translation/notebooks/output/test-pipeline\n"
     ]
    }
   ],
   "source": [
    "!pwd"
   ]
  },
  {
   "cell_type": "code",
   "execution_count": 62,
   "metadata": {},
   "outputs": [],
   "source": [
    "# !jq '.' nmdc-02.json | head -n100"
   ]
  },
  {
   "cell_type": "code",
   "execution_count": null,
   "metadata": {},
   "outputs": [],
   "source": []
  }
 ],
 "metadata": {
  "kernelspec": {
   "display_name": "Python 3",
   "language": "python",
   "name": "python3"
  },
  "language_info": {
   "codemirror_mode": {
    "name": "ipython",
    "version": 3
   },
   "file_extension": ".py",
   "mimetype": "text/x-python",
   "name": "python",
   "nbconvert_exporter": "python",
   "pygments_lexer": "ipython3",
   "version": "3.7.4"
  }
 },
 "nbformat": 4,
 "nbformat_minor": 4
}
