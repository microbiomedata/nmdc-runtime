{
 "cells": [
  {
   "cell_type": "markdown",
   "metadata": {},
   "source": [
    "## Translate EMSL data.\n",
    "The notebooks demostrates how to translate the EMSL spreadsheets [EMSL_FICUS_project_process_data_export.xlsx](https://drive.google.com/drive/u/1/folders/1frzGlz8EB8inpVokNTSwD6Ia94eVUlsZ) and [FICUS - JGI-EMSL Proposal - Gold Study - ID mapping and PI](https://docs.google.com/spreadsheets/d/1BX35JZsRkA5cZ-3Y6x217T3Aif30Ptxe_SjIC7JqPx4/edit#gid=0) into json that conforms with the [NMDC schema](https://github.com/microbiomedata/nmdc-metadata/blob/schema-draft/README.md).  \n",
    "Before doing the translation it is important that you have an up to date `nmdc.py` file in the `lib` directory.  \n",
    "\n",
    "The python modules for running the notebook are in the `requirements.txt` file.  "
   ]
  },
  {
   "cell_type": "code",
   "execution_count": 3,
   "metadata": {},
   "outputs": [],
   "source": [
    "import os, sys\n",
    "sys.path.append(os.path.abspath('../src/bin/lib/')) # add path to lib"
   ]
  },
  {
   "cell_type": "code",
   "execution_count": 4,
   "metadata": {},
   "outputs": [],
   "source": [
    "import json\n",
    "import pandas as pds\n",
    "import jsonasobj\n",
    "import nmdc\n",
    "import data_operations as dop\n",
    "from pandasql import sqldf\n",
    "\n",
    "def pysqldf(q):\n",
    "    return sqldf(q, globals())"
   ]
  },
  {
   "cell_type": "markdown",
   "metadata": {},
   "source": [
    "## Load GOLD study table from nmdc zip file\n",
    "The NMDC data is currently stored in a zip file. Instead of unzipping the file, simply use the `zipfile` library to load the `study` table (stored as tab-delimited files). \n",
    "\n",
    "The code for unzipping and creating the dataframe is found in the `make_dataframe` function. As part of the dataframe creation process, the column names are lower cased and spaces are replaced with underscored. I find it helpful to have some standarization on column names when doing data wrangling. This behavior can be overridden if you wish."
   ]
  },
  {
   "cell_type": "code",
   "execution_count": 7,
   "metadata": {},
   "outputs": [],
   "source": [
    "study = dop.make_dataframe(\"export.sql/STUDY_DATA_TABLE.dsv\", file_archive_name=\"../src/data/nmdc-version2.zip\")"
   ]
  },
  {
   "cell_type": "markdown",
   "metadata": {},
   "source": [
    "## Subset GOLD tables to active records that are joined to valid study IDs"
   ]
  },
  {
   "cell_type": "code",
   "execution_count": 8,
   "metadata": {},
   "outputs": [],
   "source": [
    "q = \"\"\"\n",
    "select \n",
    "    *\n",
    "from\n",
    "    study\n",
    "where\n",
    "    active = 'Yes'\n",
    "\"\"\"\n",
    "study = sqldf(q)"
   ]
  },
  {
   "cell_type": "markdown",
   "metadata": {},
   "source": [
    "## Load EMSL spreadsheets into spreadsheets"
   ]
  },
  {
   "cell_type": "code",
   "execution_count": 9,
   "metadata": {},
   "outputs": [],
   "source": [
    "## load emsl instrument run data\n",
    "## the spreadsheet contains multiple tab, so I have to load using pandas and the clean the columnn names\n",
    "emsl = pds.concat(pds.read_excel(\"../src/data/EMSL_FICUS_project_process_data_export.xlsx\", \n",
    "                                     sheet_name=None), ignore_index=True)\n",
    "emsl = dop.clean_dataframe_column_names(emsl)\n",
    "\n",
    "## load mapping spreadsheet\n",
    "jgi_emsl = dop.make_dataframe(\"../src/data/FICUS - JGI-EMSL Proposal - Gold Study - ID mapping and PI.xlsx\", file_type=\"excel\")\n"
   ]
  },
  {
   "cell_type": "markdown",
   "metadata": {},
   "source": [
    "## Subset EMSL data to only those that have a valid FICUS study ID"
   ]
  },
  {
   "cell_type": "code",
   "execution_count": 10,
   "metadata": {},
   "outputs": [],
   "source": [
    "## subset the mapping spreadsheet\n",
    "q = \"\"\"\n",
    "select \n",
    "    *\n",
    "from\n",
    "    jgi_emsl\n",
    "inner join\n",
    "    study\n",
    "on\n",
    "    jgi_emsl.gold_study_id = study.gold_id\n",
    "\"\"\"\n",
    "jgi_emsl = sqldf(q)"
   ]
  },
  {
   "cell_type": "code",
   "execution_count": 11,
   "metadata": {},
   "outputs": [],
   "source": [
    "# jgi_emsl.head() # peek at data"
   ]
  },
  {
   "cell_type": "code",
   "execution_count": 12,
   "metadata": {},
   "outputs": [],
   "source": [
    "## subset instrument run data\n",
    "q = \"\"\"\n",
    "select \n",
    "    emsl.*, jgi_emsl.gold_study_id\n",
    "from\n",
    "    emsl\n",
    "inner join\n",
    "    jgi_emsl\n",
    "on\n",
    "    emsl.emsl_proposal_id = jgi_emsl.emsl_proposal_id\n",
    "\"\"\"\n",
    "emsl = sqldf(q)"
   ]
  },
  {
   "cell_type": "markdown",
   "metadata": {},
   "source": [
    "## Update/prep instrument run data\n",
    "* Change column experimental_data_type to omics_type\n",
    "* Change column dataset_file_size_bytes to file_size\n",
    "* Add processing_institution = \"Environmental Molecular Sciences Lab\" column\n",
    "* Add column data_object_id to identify data objects. Currently, this is just \"output\" + value of dataset_id\n",
    "Add column data_object_name associated with data object ids. Currently, this is just \"output from: \" + value of dataset_name"
   ]
  },
  {
   "cell_type": "code",
   "execution_count": 13,
   "metadata": {},
   "outputs": [],
   "source": [
    "emsl.rename(columns={\"experimental_data_type\":\"omics_type\"}, inplace=True) # rename column"
   ]
  },
  {
   "cell_type": "code",
   "execution_count": 14,
   "metadata": {},
   "outputs": [],
   "source": [
    "emsl.rename(columns={\"dataset_file_size_bytes\":\"file_size\"}, inplace=True) # rename column"
   ]
  },
  {
   "cell_type": "code",
   "execution_count": 15,
   "metadata": {},
   "outputs": [],
   "source": [
    "emsl[\"processing_institution\"] = \"Environmental Molecular Sciences Lab\" # add processing institution"
   ]
  },
  {
   "cell_type": "code",
   "execution_count": 16,
   "metadata": {},
   "outputs": [],
   "source": [
    "emsl[\"data_object_id\"] = \"output_\"\n",
    "emsl[\"data_object_id\"] = emsl[\"data_object_id\"] + emsl[\"dataset_id\"].map(str) # build data object id"
   ]
  },
  {
   "cell_type": "code",
   "execution_count": 17,
   "metadata": {},
   "outputs": [],
   "source": [
    "emsl[\"data_object_name\"] = \"output: \"\n",
    "emsl[\"data_object_name\"] = emsl[\"data_object_name\"] + emsl[\"dataset_name\"].map(str) # build data object name"
   ]
  },
  {
   "cell_type": "code",
   "execution_count": 18,
   "metadata": {},
   "outputs": [],
   "source": [
    "# emsl[[\"data_object_id\", \"dataset_id\", \"omics_type\", \"processing_institution\", \"gold_study_id\"]].head() # peek at data"
   ]
  },
  {
   "cell_type": "markdown",
   "metadata": {},
   "source": [
    "## Build omics prossessing json"
   ]
  },
  {
   "cell_type": "code",
   "execution_count": 19,
   "metadata": {},
   "outputs": [],
   "source": [
    "emsl_dictdf = emsl.to_dict(orient=\"records\")"
   ]
  },
  {
   "cell_type": "code",
   "execution_count": 20,
   "metadata": {},
   "outputs": [
    {
     "ename": "TypeError",
     "evalue": "make_nmdc_dict_list() got an unexpected keyword argument 'id_key'",
     "output_type": "error",
     "traceback": [
      "\u001b[0;31m---------------------------------------------------------------------------\u001b[0m",
      "\u001b[0;31mTypeError\u001b[0m                                 Traceback (most recent call last)",
      "\u001b[0;32m<ipython-input-20-b31c31ca11d4>\u001b[0m in \u001b[0;36m<module>\u001b[0;34m\u001b[0m\n\u001b[1;32m      6\u001b[0m \u001b[0momics_processing_dict_list\u001b[0m \u001b[0;34m=\u001b[0m \u001b[0mdop\u001b[0m\u001b[0;34m.\u001b[0m\u001b[0mmake_nmdc_dict_list\u001b[0m\u001b[0;31m\\\u001b[0m\u001b[0;34m\u001b[0m\u001b[0;34m\u001b[0m\u001b[0m\n\u001b[1;32m      7\u001b[0m     (emsl_dictdf, nmdc.OmicsProcessing, id_key='dataset_id', name_key='dataset_name', description_key=\"dataset_type_description\",\n\u001b[0;32m----> 8\u001b[0;31m      part_of_key=\"gold_study_id\", has_output_key=\"data_object_id\", characteristic_fields=characteristics)\n\u001b[0m",
      "\u001b[0;31mTypeError\u001b[0m: make_nmdc_dict_list() got an unexpected keyword argument 'id_key'"
     ]
    }
   ],
   "source": [
    "## specify characteristics\n",
    "characteristics = \\\n",
    "    ['omics_type', 'instrument_name', 'processing_institution']\n",
    "\n",
    "## create list of json string objects\n",
    "omics_processing_dict_list = dop.make_nmdc_dict_list\\\n",
    "    (emsl_dictdf, nmdc.OmicsProcessing, id_key='dataset_id', name_key='dataset_name', description_key=\"dataset_type_description\",\n",
    "     part_of_key=\"gold_study_id\", has_output_key=\"data_object_id\", characteristic_fields=characteristics)"
   ]
  },
  {
   "cell_type": "code",
   "execution_count": null,
   "metadata": {},
   "outputs": [],
   "source": []
  },
  {
   "cell_type": "code",
   "execution_count": null,
   "metadata": {},
   "outputs": [],
   "source": [
    "omics_processing_dict_list[0] # peek at data"
   ]
  },
  {
   "cell_type": "markdown",
   "metadata": {},
   "source": [
    "## Build data ojbects json"
   ]
  },
  {
   "cell_type": "code",
   "execution_count": null,
   "metadata": {},
   "outputs": [],
   "source": [
    "## specify characteristics\n",
    "characteristics = ['file_size']\n",
    "\n",
    "## create list of dictionaries\n",
    "data_objects_dict_list = dop.make_nmdc_dict_list\\\n",
    "    (emsl_dictdf, nmdc.DataObject, id_key='data_object_id', \n",
    "     name_key='data_object_name', characteristic_fields=characteristics)"
   ]
  },
  {
   "cell_type": "code",
   "execution_count": null,
   "metadata": {},
   "outputs": [],
   "source": [
    "# data_objects_dict_list[-1] # peek at data"
   ]
  },
  {
   "cell_type": "markdown",
   "metadata": {},
   "source": [
    "## Update the omics_processing.json file"
   ]
  },
  {
   "cell_type": "code",
   "execution_count": 5,
   "metadata": {},
   "outputs": [],
   "source": [
    "## load omics processing json into dict list\n",
    "omics_processing_file_data = dop.load_dict_from_json_file(\"output/nmdc-json/omics_processing.json\")"
   ]
  },
  {
   "cell_type": "code",
   "execution_count": 6,
   "metadata": {},
   "outputs": [
    {
     "data": {
      "text/plain": [
       "{'id': 'Gp0095972',\n",
       " 'name': 'Cyanobacterial communities from the Joint Genome Institute, California, USA from Joint Genome Institute, California, USA - FECB-24 metaG',\n",
       " 'annotations': [{'has_characteristic': {'name': 'add_date'},\n",
       "   'has_raw_value': '19-JUN-14 12.00.00.000000000 AM'},\n",
       "  {'has_characteristic': {'name': 'mod_date'},\n",
       "   'has_raw_value': '04-DEC-19 01.50.18.267000000 PM'},\n",
       "  {'has_characteristic': {'name': 'ncbi_project_name'},\n",
       "   'has_raw_value': 'Cyanobacterial communities from the Joint Genome Institute, California, USA from Joint Genome Institute, California, USA - FECB-24 metaG'},\n",
       "  {'has_characteristic': {'name': 'omics_type'},\n",
       "   'has_raw_value': 'Metagenome'},\n",
       "  {'has_characteristic': {'name': 'principal_investigator_name'},\n",
       "   'has_raw_value': 'Matthias Hess'},\n",
       "  {'has_characteristic': {'name': 'processing_institution'},\n",
       "   'has_raw_value': 'Joint Genome Institute'}],\n",
       " 'part_of': ['Gs0110132']}"
      ]
     },
     "execution_count": 6,
     "metadata": {},
     "output_type": "execute_result"
    }
   ],
   "source": [
    "omics_processing_file_data[0] # peek at data"
   ]
  },
  {
   "cell_type": "code",
   "execution_count": null,
   "metadata": {},
   "outputs": [],
   "source": [
    "updated_omics_processing = [*omics_processing_file_data, *omics_processing_dict_list]"
   ]
  },
  {
   "cell_type": "code",
   "execution_count": null,
   "metadata": {},
   "outputs": [],
   "source": [
    "# updated_omics_processing[-1] ## peek at data"
   ]
  },
  {
   "cell_type": "markdown",
   "metadata": {},
   "source": [
    "## Save updated omics processing data as json"
   ]
  },
  {
   "cell_type": "code",
   "execution_count": null,
   "metadata": {},
   "outputs": [],
   "source": [
    "updated_omics_processing_json_list = dop.convert_dict_list_to_json_list(updated_omics_processing)"
   ]
  },
  {
   "cell_type": "code",
   "execution_count": null,
   "metadata": {},
   "outputs": [],
   "source": [
    "dop.save_json_string_list(\"output/nmdc-json/omics_processing.json\", updated_omics_processing_json_list) # save json string list to file"
   ]
  },
  {
   "cell_type": "markdown",
   "metadata": {},
   "source": [
    "## Update the data_objects.json file"
   ]
  },
  {
   "cell_type": "code",
   "execution_count": null,
   "metadata": {},
   "outputs": [],
   "source": [
    "## load data objects json into dict list\n",
    "data_objects_file_data = dop.load_dict_from_json_file(\"output/nmdc-json/data_objects.json\")"
   ]
  },
  {
   "cell_type": "code",
   "execution_count": null,
   "metadata": {},
   "outputs": [],
   "source": [
    "# data_objects_file_data[0] # peek at data"
   ]
  },
  {
   "cell_type": "code",
   "execution_count": null,
   "metadata": {},
   "outputs": [],
   "source": [
    "updated_data_objects = [*data_objects_file_data, *data_objects_dict_list]"
   ]
  },
  {
   "cell_type": "code",
   "execution_count": null,
   "metadata": {},
   "outputs": [],
   "source": [
    "# updated_data_objects[-1] # peek at data"
   ]
  },
  {
   "cell_type": "markdown",
   "metadata": {},
   "source": [
    "## Save updated data objects data as json"
   ]
  },
  {
   "cell_type": "code",
   "execution_count": null,
   "metadata": {},
   "outputs": [],
   "source": [
    "updated_data_objects_json_list = dop.convert_dict_list_to_json_list(updated_data_objects)"
   ]
  },
  {
   "cell_type": "code",
   "execution_count": null,
   "metadata": {},
   "outputs": [],
   "source": [
    "dop.save_json_string_list(\"output/nmdc-json/data_objects.json\", updated_data_objects_json_list) # save json string list to file\n"
   ]
  }
 ],
 "metadata": {
  "kernelspec": {
   "display_name": "Python 3",
   "language": "python",
   "name": "python3"
  },
  "language_info": {
   "codemirror_mode": {
    "name": "ipython",
    "version": 3
   },
   "file_extension": ".py",
   "mimetype": "text/x-python",
   "name": "python",
   "nbconvert_exporter": "python",
   "pygments_lexer": "ipython3",
   "version": "3.7.4"
  }
 },
 "nbformat": 4,
 "nbformat_minor": 4
}
